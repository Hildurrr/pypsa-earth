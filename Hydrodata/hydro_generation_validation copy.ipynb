{
 "cells": [
  {
   "attachments": {},
   "cell_type": "markdown",
   "metadata": {},
   "source": [
    "# Validation of the PyPSA-Africa generation by hydro powerplants\n",
    "\n",
    "This notebooks investigates the total energy generation by hydro powerplants by the workflow\n",
    "\n",
    "To reproduce the findings obtained in this notebook,\n",
    "please run the full snakemake workflow for the Africa.\n",
    "To do so, please set ``countries = [\"Africa\"]`` in the ``config.yaml`` file.\n",
    "\n",
    "Note. The solved network is required as the total generation dispatch of the optimized network is considered. "
   ]
  },
  {
   "attachments": {},
   "cell_type": "markdown",
   "metadata": {},
   "source": [
    "## Load python imports"
   ]
  },
  {
   "cell_type": "code",
   "execution_count": 1,
   "metadata": {},
   "outputs": [],
   "source": [
    "import logging\n",
    "import os\n",
    "\n",
    "import pypsa\n",
    "import yaml\n",
    "import pandas as pd\n",
    "import geopandas as gpd\n",
    "import numpy as np\n",
    "import scipy as sp\n",
    "import networkx as nx\n",
    "\n",
    "# plotting stuff\n",
    "import matplotlib.pyplot as plt\n",
    "\n",
    "plt.style.use(\"bmh\")\n",
    "import seaborn as sns  ###\n",
    "import cartopy.crs as ccrs\n",
    "\n",
    "sns.set(style=\"darkgrid\")\n",
    "\n",
    "from scipy.sparse import csgraph\n",
    "from itertools import product\n",
    "\n",
    "from shapely.geometry import Point, LineString\n",
    "import shapely, shapely.prepared, shapely.wkt\n",
    "\n",
    "logger = logging.getLogger(__name__)\n",
    "\n",
    "pd.set_option(\"display.max_columns\", None)\n",
    "pd.set_option(\"display.max_colwidth\", 70)\n",
    "\n",
    "# change current directory to parent folder\n",
    "import os\n",
    "import sys\n",
    "\n",
    "if not os.path.isdir(\"pypsa-earth\"):\n",
    "    os.chdir(\"../../..\")\n",
    "sys.path.append(os.getcwd()+\"/pypsa-earth/scripts\")\n",
    "\n",
    "# plotting settings\n",
    "max_node_size = 1.0  # maximum size of a node for plotting purposes [used in plots]"
   ]
  },
  {
   "attachments": {},
   "cell_type": "markdown",
   "metadata": {},
   "source": [
    "## Load network\n",
    "\n",
    "Load the PyPSA sovled network"
   ]
  },
  {
   "cell_type": "code",
   "execution_count": 2,
   "metadata": {},
   "outputs": [
    {
     "name": "stderr",
     "output_type": "stream",
     "text": [
      "INFO:pypsa.io:Imported network elec_s_all_ec_lcopt_1h.nc has buses, carriers, generators, lines, loads, storage_units\n"
     ]
    },
    {
     "data": {
      "text/plain": [
       "component    carrier           \n",
       "Generator    Biomass               1.111141e+04\n",
       "             Coal                  1.037741e+03\n",
       "             Combined-Cycle Gas    2.056664e+06\n",
       "             Geothermal            6.382050e+07\n",
       "             Offshore Wind (AC)    2.490367e+03\n",
       "             Offshore Wind (DC)    2.029175e+03\n",
       "             Oil                   3.671624e+03\n",
       "             Onshore Wind          4.303698e+06\n",
       "             Open-Cycle Gas        7.218763e+02\n",
       "             Run of River          2.009822e+05\n",
       "             Solar                 5.592319e+06\n",
       "             load                  1.627481e+06\n",
       "StorageUnit  Reservoir & Dam       1.227298e+06\n",
       "Line         AC                    3.988039e+08\n",
       "dtype: float64"
      ]
     },
     "execution_count": 2,
     "metadata": {},
     "output_type": "execute_result"
    }
   ],
   "source": [
    "network = \"C:/Users/hie/pe_tan/pypsa-earth/results/2040_base/networks/elec_s_all_ec_lcopt_1h.nc\" # change for desired network\n",
    "\n",
    "n = pypsa.Network(network)\n",
    "\n",
    "n.statistics.supply()\n",
    "\n",
    "\n"
   ]
  },
  {
   "attachments": {},
   "cell_type": "markdown",
   "metadata": {},
   "source": [
    "## Calculate total hydro energy production by powerplants"
   ]
  },
  {
   "attachments": {},
   "cell_type": "markdown",
   "metadata": {},
   "source": [
    "Total energy production by dams [TWh]"
   ]
  },
  {
   "cell_type": "code",
   "execution_count": 3,
   "metadata": {},
   "outputs": [
    {
     "name": "stdout",
     "output_type": "stream",
     "text": [
      "Total hydroproduction from reservoir 1.2272982568843889 TWh\n"
     ]
    }
   ],
   "source": [
    "hydroenergy_by_dams = n.storage_units_t.p.mean().sum() / 1000000 * 8760\n",
    "print('Total hydroproduction from reservoir', hydroenergy_by_dams, 'TWh')"
   ]
  },
  {
   "attachments": {},
   "cell_type": "markdown",
   "metadata": {},
   "source": [
    "Total energy production by run-of-river [TWh]"
   ]
  },
  {
   "cell_type": "code",
   "execution_count": 4,
   "metadata": {},
   "outputs": [
    {
     "data": {
      "text/plain": [
       "0.20098217556968972"
      ]
     },
     "execution_count": 4,
     "metadata": {},
     "output_type": "execute_result"
    }
   ],
   "source": [
    "ror_gen_index = n.generators[n.generators.carrier == \"ror\"].index\n",
    "hydroenergy_by_ror = n.generators_t.p[ror_gen_index].mean().sum() / 1000000 * 8760\n",
    "hydroenergy_by_ror"
   ]
  },
  {
   "cell_type": "code",
   "execution_count": 5,
   "metadata": {},
   "outputs": [
    {
     "data": {
      "text/plain": [
       "dict_keys(['p_min_pu', 'p_max_pu', 'p_set', 'q_set', 'marginal_cost', 'marginal_cost_quadratic', 'state_of_charge_set', 'efficiency_store', 'efficiency_dispatch', 'standing_loss', 'inflow', 'p', 'p_dispatch', 'p_store', 'q', 'state_of_charge', 'spill', 'mu_upper', 'mu_lower', 'mu_state_of_charge_set', 'mu_energy_balance'])"
      ]
     },
     "execution_count": 5,
     "metadata": {},
     "output_type": "execute_result"
    }
   ],
   "source": [
    "n.storage_units_t.keys()"
   ]
  },
  {
   "attachments": {},
   "cell_type": "markdown",
   "metadata": {},
   "source": [
    "Total hydropower energy production [TWh]"
   ]
  },
  {
   "cell_type": "code",
   "execution_count": 6,
   "metadata": {},
   "outputs": [
    {
     "name": "stdout",
     "output_type": "stream",
     "text": [
      "Total hydroproduction from ror and reservoir  1.4282804324540785 TWh\n"
     ]
    }
   ],
   "source": [
    "tot_hydroenergy = hydroenergy_by_dams + hydroenergy_by_ror\n",
    "print('Total hydroproduction from ror and reservoir ', tot_hydroenergy ,'TWh')"
   ]
  },
  {
   "attachments": {},
   "cell_type": "markdown",
   "metadata": {},
   "source": [
    "## Validation of the data with respect to IRENA\n",
    "\n",
    "The data are compared to [IRENA 2016](https://www.irena.org/-/media/Files/IRENA/Agency/Publication/2016/IRENA_RE_Statistics_2016.pdf) and [IEA 2019](https://www.iea.org/regions/africa)\n",
    "In particular, the following hydropower generation is expected:\n",
    "\n",
    "| Source | Tanzania (2013) | Africa (2013) |\n",
    "|--------|----------------|---------------|\n",
    "| [IRENA 2016](https://www.irena.org/-/media/Files/IRENA/Agency/Publication/2024/Jul/IRENA_Renewable_Energy_Statistics_2024.pdf) | 2.591 TWh | 122.34 TWh |\n",
    "| [IEA 2019](https://www.iea.org/regions/africa) | 2.9 TWh | 120.52 TWh |\n",
    "|PSMP 2020 |23.5 TWh|\n",
    "\n",
    "Print PyPSA result"
   ]
  },
  {
   "cell_type": "code",
   "execution_count": 7,
   "metadata": {},
   "outputs": [
    {
     "name": "stdout",
     "output_type": "stream",
     "text": [
      "| Source    |   Tanzania (2030)   |\n",
      "|IRENA 2024|2.63 TWh|----------------|\n",
      "|IEA 2019|2.9 TWh|----------------|\n",
      "| PyPSA     |      1.43 TWh     |\n"
     ]
    }
   ],
   "source": [
    "print(\"| Source    |   Tanzania (2030)   |\")\n",
    "print(\"|IRENA 2024|2.63 TWh|----------------|\")\n",
    "print(\"|IEA 2019|2.9 TWh|----------------|\")\n",
    "print(\n",
    "    \"| PyPSA     |      %.2f TWh     |\"\n",
    "    % (tot_hydroenergy)\n",
    ")"
   ]
  },
  {
   "cell_type": "markdown",
   "metadata": {},
   "source": [
    "Installed capacity"
   ]
  },
  {
   "cell_type": "code",
   "execution_count": 8,
   "metadata": {},
   "outputs": [
    {
     "data": {
      "text/plain": [
       "4340.625971594"
      ]
     },
     "execution_count": 8,
     "metadata": {},
     "output_type": "execute_result"
    }
   ],
   "source": [
    "\n",
    "# Installed capacity of hydro reservoirs in MW\n",
    "reservoir_capacity = n.storage_units.p_nom.sum() \n",
    "reservoir_capacity\n",
    "\n",
    "\n"
   ]
  },
  {
   "cell_type": "code",
   "execution_count": 9,
   "metadata": {},
   "outputs": [
    {
     "data": {
      "text/plain": [
       "601.7862420400002"
      ]
     },
     "execution_count": 9,
     "metadata": {},
     "output_type": "execute_result"
    }
   ],
   "source": [
    "#installed capacity ror in MW\n",
    "ror_gen_index = n.generators[n.generators.carrier == \"ror\"].index\n",
    "ror_capacity = n.generators.p_nom[ror_gen_index].sum()  # Sum the nominal capacities\n",
    "ror_capacity\n"
   ]
  },
  {
   "cell_type": "code",
   "execution_count": 10,
   "metadata": {},
   "outputs": [
    {
     "data": {
      "text/plain": [
       "4942.412213633999"
      ]
     },
     "execution_count": 10,
     "metadata": {},
     "output_type": "execute_result"
    }
   ],
   "source": [
    "tot_hydro_capacity = ror_capacity + reservoir_capacity\n",
    "tot_hydro_capacity"
   ]
  },
  {
   "cell_type": "code",
   "execution_count": 11,
   "metadata": {},
   "outputs": [
    {
     "name": "stdout",
     "output_type": "stream",
     "text": [
      "Installed capacity of hydro reservoirs in 2013: 4340.63 MW\n"
     ]
    }
   ],
   "source": [
    "# Filter storage units operational in 2013\n",
    "storage_units_2013 = n.storage_units[\n",
    "    (n.storage_units.build_year <= 2013)]\n",
    "\n",
    "\n",
    "# Sum the installed capacity for 2013- NOT CORRECT- the installed capacity was not that hight in 2013\n",
    "reservoir_capacity_2013 = storage_units_2013.p_nom.sum()\n",
    "print(f\"Installed capacity of hydro reservoirs in 2013: {reservoir_capacity_2013:.2f} MW\")"
   ]
  },
  {
   "cell_type": "markdown",
   "metadata": {},
   "source": [
    "## Validation of the data with respect to IRENA\n",
    "\n",
    "The data are compared to [IRENA 2024](https://www.irena.org/-/media/Files/IRENA/Agency/Publication/2024/Jul/IRENA_Renewable_Energy_Statistics_2024.pdf) and [IEA 2019](https://www.iea.org/regions/africa)\n",
    "In particular, the following hydropower generation is expected:\n",
    "\n",
    "| Source | Tanzania (2013) | |\n",
    "|--------|----------------|---------------|\n",
    "| [IRENA 2024](https://www.irena.org/-/media/Files/IRENA/Agency/Publication/2024/Jul/IRENA_Renewable_Energy_Statistics_2024.pdf) | 572 MW |  |\n",
    "| [IEA 2019](https://www.iea.org/regions/africa) | |\n",
    "! Pypsa data | 4942 MW\n",
    "\n",
    "Print PyPSA result"
   ]
  },
  {
   "cell_type": "code",
   "execution_count": 12,
   "metadata": {},
   "outputs": [
    {
     "name": "stdout",
     "output_type": "stream",
     "text": [
      "| Source    |   Tanzania (2030))  |  |\n",
      "| PyPSA     |      4942.41 MW    |     |\n"
     ]
    }
   ],
   "source": [
    "print(\"| Source    |   Tanzania (2030))  |  |\")\n",
    "print(\n",
    "    \"| PyPSA     |      %.2f MW    |     |\"\n",
    "    % (tot_hydro_capacity)\n",
    ")"
   ]
  },
  {
   "cell_type": "code",
   "execution_count": null,
   "metadata": {},
   "outputs": [],
   "source": [
    "\n"
   ]
  },
  {
   "cell_type": "markdown",
   "metadata": {},
   "source": [
    "# Validation of the PyPSA-Tanzania Electric Demand\n",
    "\n",
    "This notebooks investigates the data quality of the Tanzania electric consumption\n",
    "data by comparing PyPSA, official Nigerian and Our World in Data (incl. BP & Ember).\n",
    "\n",
    "To reproduce the findings obtained in this notebook,\n",
    "please run the full snakemake workflow for the Tanzania"
   ]
  },
  {
   "cell_type": "code",
   "execution_count": 13,
   "metadata": {},
   "outputs": [],
   "source": [
    "# import packages\n",
    "\n",
    "import logging\n",
    "import os\n",
    "\n",
    "import pypsa\n",
    "import numpy as np\n",
    "import matplotlib.pyplot as plt\n",
    "import pandas as pd"
   ]
  },
  {
   "cell_type": "markdown",
   "metadata": {},
   "source": [
    "#### Our World in Data\n",
    "Retrieved from their GitHub: https://github.com/owid/energy-data/tree/master /\n",
    "Web interface: https://ourworldindata.org/energy \n",
    "\n",
    "Our data sources:\n",
    "- Energy consumption (primary energy, energy mix and energy intensity): this data is sourced from a combination of three sources—the BP Statistical Review of World Energy, the EIA and the SHIFT Data Portal.\n",
    "- Electricity generation (electricity generation, and electricity mix): this data is sourced from a combination of three sources—the BP Statistical Review of World Energy, the Ember – Data Explorer and the Ember European Electricity Review.\n",
    "- Other variables: this data is collected from a variety of sources (United Nations, World Bank, Gapminder, Maddison Project Database, etc.). More information is available in our codebook."
   ]
  },
  {
   "cell_type": "code",
   "execution_count": 14,
   "metadata": {},
   "outputs": [
    {
     "data": {
      "application/vnd.microsoft.datawrangler.viewer.v0+json": {
       "columns": [
        {
         "name": "index",
         "rawType": "int64",
         "type": "integer"
        },
        {
         "name": "iso_code",
         "rawType": "object",
         "type": "string"
        },
        {
         "name": "country",
         "rawType": "object",
         "type": "string"
        },
        {
         "name": "year",
         "rawType": "int64",
         "type": "integer"
        },
        {
         "name": "electricity_demand",
         "rawType": "float64",
         "type": "float"
        },
        {
         "name": "electricity_generation",
         "rawType": "float64",
         "type": "float"
        }
       ],
       "conversionMethod": "pd.DataFrame",
       "ref": "da5a13d9-3e80-4ee9-ae05-2367f0c20cbe",
       "rows": [
        [
         "19072",
         "TZA",
         "Tanzania",
         "2021",
         "8.81",
         "8.67"
        ],
        [
         "19073",
         "TZA",
         "Tanzania",
         "2022",
         "9.17",
         "9.02"
        ]
       ],
       "shape": {
        "columns": 5,
        "rows": 2
       }
      },
      "text/html": [
       "<div>\n",
       "<style scoped>\n",
       "    .dataframe tbody tr th:only-of-type {\n",
       "        vertical-align: middle;\n",
       "    }\n",
       "\n",
       "    .dataframe tbody tr th {\n",
       "        vertical-align: top;\n",
       "    }\n",
       "\n",
       "    .dataframe thead th {\n",
       "        text-align: right;\n",
       "    }\n",
       "</style>\n",
       "<table border=\"1\" class=\"dataframe\">\n",
       "  <thead>\n",
       "    <tr style=\"text-align: right;\">\n",
       "      <th></th>\n",
       "      <th>iso_code</th>\n",
       "      <th>country</th>\n",
       "      <th>year</th>\n",
       "      <th>electricity_demand</th>\n",
       "      <th>electricity_generation</th>\n",
       "    </tr>\n",
       "  </thead>\n",
       "  <tbody>\n",
       "    <tr>\n",
       "      <th>19072</th>\n",
       "      <td>TZA</td>\n",
       "      <td>Tanzania</td>\n",
       "      <td>2021</td>\n",
       "      <td>8.81</td>\n",
       "      <td>8.67</td>\n",
       "    </tr>\n",
       "    <tr>\n",
       "      <th>19073</th>\n",
       "      <td>TZA</td>\n",
       "      <td>Tanzania</td>\n",
       "      <td>2022</td>\n",
       "      <td>9.17</td>\n",
       "      <td>9.02</td>\n",
       "    </tr>\n",
       "  </tbody>\n",
       "</table>\n",
       "</div>"
      ],
      "text/plain": [
       "      iso_code   country  year  electricity_demand  electricity_generation\n",
       "19072      TZA  Tanzania  2021                8.81                    8.67\n",
       "19073      TZA  Tanzania  2022                9.17                    9.02"
      ]
     },
     "execution_count": 14,
     "metadata": {},
     "output_type": "execute_result"
    }
   ],
   "source": [
    "url = \"https://nyc3.digitaloceanspaces.com/owid-public/data/energy/owid-energy-data.csv\"\n",
    "df = pd.read_csv(url)\n",
    "\n",
    "# Select relevant columns\n",
    "df = df.loc[:, [\"iso_code\", \"country\", \"year\", \"electricity_demand\", \"electricity_generation\"]]\n",
    "\n",
    "# Filter for Tanzania (iso_code == \"TZA\")\n",
    "df = df[df[\"iso_code\"] == \"TZA\"]\n",
    "\n",
    "# Assign to electricity_demand_owid\n",
    "electricity_demand_owid = df\n",
    "\n",
    "# Display the last two rows\n",
    "electricity_demand_owid.tail(2)"
   ]
  },
  {
   "cell_type": "markdown",
   "metadata": {},
   "source": [
    "PyPSA network"
   ]
  },
  {
   "cell_type": "code",
   "execution_count": 15,
   "metadata": {},
   "outputs": [
    {
     "name": "stdout",
     "output_type": "stream",
     "text": [
      "Total electricity demand in 2013 (PyPSA network): 78.85 TWh\n"
     ]
    }
   ],
   "source": [
    "\n",
    "pypsa_network = n\n",
    "\n",
    "year='2013'\n",
    "# Filter the load data for the year 2013\n",
    "electricity_demand_pypsa = pypsa_network.loads_t.p_set.loc[year]\n",
    "\n",
    "# Calculate the total load (sum across all time steps and buses)\n",
    "total_load = electricity_demand_pypsa.sum().sum()\n",
    "\n",
    "# Convert from MW to TWh (if needed)\n",
    "total_load_twh = total_load / 1e6  # Convert MW to TWh\n",
    "\n",
    "# Display the total load\n",
    "print(f\"Total electricity demand in {year} (PyPSA network): {total_load_twh:.2f} TWh\")\n"
   ]
  },
  {
   "cell_type": "markdown",
   "metadata": {},
   "source": [
    "# 2. Validate\n",
    "\n",
    "#### Steps:\n",
    "- Align country coverage of dataframe\n",
    "- Pick year of interest for 'Our World in Data'\n",
    "- Align dataframe naming and temporal resolution\n",
    "- Merge dataframe\n"
   ]
  },
  {
   "cell_type": "code",
   "execution_count": 16,
   "metadata": {},
   "outputs": [
    {
     "data": {
      "application/vnd.microsoft.datawrangler.viewer.v0+json": {
       "columns": [
        {
         "name": "index",
         "rawType": "int64",
         "type": "integer"
        },
        {
         "name": "iso_code",
         "rawType": "object",
         "type": "string"
        },
        {
         "name": "country",
         "rawType": "object",
         "type": "string"
        },
        {
         "name": "year",
         "rawType": "int64",
         "type": "integer"
        },
        {
         "name": "electricity_demand",
         "rawType": "float64",
         "type": "float"
        },
        {
         "name": "electricity_generation",
         "rawType": "float64",
         "type": "float"
        }
       ],
       "conversionMethod": "pd.DataFrame",
       "ref": "4dc3790b-5425-4945-abca-7edcd1a6415a",
       "rows": [
        [
         "19064",
         "TZA",
         "Tanzania",
         "2013",
         "6.05",
         "5.99"
        ]
       ],
       "shape": {
        "columns": 5,
        "rows": 1
       }
      },
      "text/html": [
       "<div>\n",
       "<style scoped>\n",
       "    .dataframe tbody tr th:only-of-type {\n",
       "        vertical-align: middle;\n",
       "    }\n",
       "\n",
       "    .dataframe tbody tr th {\n",
       "        vertical-align: top;\n",
       "    }\n",
       "\n",
       "    .dataframe thead th {\n",
       "        text-align: right;\n",
       "    }\n",
       "</style>\n",
       "<table border=\"1\" class=\"dataframe\">\n",
       "  <thead>\n",
       "    <tr style=\"text-align: right;\">\n",
       "      <th></th>\n",
       "      <th>iso_code</th>\n",
       "      <th>country</th>\n",
       "      <th>year</th>\n",
       "      <th>electricity_demand</th>\n",
       "      <th>electricity_generation</th>\n",
       "    </tr>\n",
       "  </thead>\n",
       "  <tbody>\n",
       "    <tr>\n",
       "      <th>19064</th>\n",
       "      <td>TZA</td>\n",
       "      <td>Tanzania</td>\n",
       "      <td>2013</td>\n",
       "      <td>6.05</td>\n",
       "      <td>5.99</td>\n",
       "    </tr>\n",
       "  </tbody>\n",
       "</table>\n",
       "</div>"
      ],
      "text/plain": [
       "      iso_code   country  year  electricity_demand  electricity_generation\n",
       "19064      TZA  Tanzania  2013                6.05                    5.99"
      ]
     },
     "execution_count": 16,
     "metadata": {},
     "output_type": "execute_result"
    }
   ],
   "source": [
    "\n",
    "\n",
    "#Total electric demand in twh\n",
    "\n",
    "year_owid = 2013  # option\n",
    "\n",
    "df = df[df[\"year\"] == year_owid]\n",
    "electricity_demand_owid_mini = df\n",
    "electricity_demand_owid_mini.head(2)"
   ]
  },
  {
   "cell_type": "code",
   "execution_count": 17,
   "metadata": {},
   "outputs": [
    {
     "data": {
      "text/plain": [
       "78.84999999998801"
      ]
     },
     "execution_count": 17,
     "metadata": {},
     "output_type": "execute_result"
    }
   ],
   "source": [
    "total_load_twh"
   ]
  },
  {
   "cell_type": "code",
   "execution_count": 18,
   "metadata": {},
   "outputs": [
    {
     "name": "stderr",
     "output_type": "stream",
     "text": [
      "C:\\Users\\hie\\AppData\\Local\\Temp\\ipykernel_25440\\3566701240.py:18: SettingWithCopyWarning:\n",
      "\n",
      "\n",
      "A value is trying to be set on a copy of a slice from a DataFrame.\n",
      "Try using .loc[row_indexer,col_indexer] = value instead\n",
      "\n",
      "See the caveats in the documentation: https://pandas.pydata.org/pandas-docs/stable/user_guide/indexing.html#returning-a-view-versus-a-copy\n",
      "\n"
     ]
    },
    {
     "data": {
      "text/plain": [
       "<seaborn.axisgrid.FacetGrid at 0x1ca9b05e980>"
      ]
     },
     "execution_count": 18,
     "metadata": {},
     "output_type": "execute_result"
    },
    {
     "data": {
      "image/png": "[encoded data removed]",
      "text/plain": [
       "<Figure size 3738.25x800 with 1 Axes>"
      ]
     },
     "metadata": {},
     "output_type": "display_data"
    }
   ],
   "source": [
    "import seaborn as sns\n",
    "import matplotlib.pyplot as plt\n",
    "\n",
    "\n",
    "sns.set_theme(style=\"whitegrid\", font_scale=2.5)\n",
    "\n",
    "# Convert total_load_twh to a DataFrame\n",
    "total_load_twh_df = pd.DataFrame(\n",
    "    {\n",
    "        \"country\": [\"Tanzania\"],\n",
    "        \"year\": [2030],\n",
    "        \"electricity_demand\": [total_load_twh],  # Use the scalar value\n",
    "        \"source\": [f\"PyPSA 2030\"],\n",
    "    }\n",
    ")\n",
    "\n",
    "# Add source information to OWID data\n",
    "electricity_demand_owid_mini[\"source\"] = f\"Our World in Data {year_owid}\"\n",
    "\n",
    "# Merge the two DataFrames\n",
    "df_merge = pd.concat([total_load_twh_df, electricity_demand_owid_mini])\n",
    "\n",
    "ax = sns.catplot(\n",
    "    x=\"country\",\n",
    "    y=\"electricity_demand\",\n",
    "    hue=\"source\",\n",
    "    data=df_merge,\n",
    "    palette=\"Blues_d\",\n",
    "    kind=\"bar\",\n",
    "    height=8,\n",
    "    aspect=4,\n",
    ")\n",
    "ax.set_xticklabels(rotation=90)\n",
    "sns.move_legend(ax, \"upper right\", bbox_to_anchor=(0.85, 0.9), frameon=True, title=None)\n",
    "sns.despine(left=True, bottom=True)\n",
    "ax.set(xlabel=None, ylabel=\"Annual Electricity demand [TWh]\", ylim=(0, 15))\n",
    "#ax.savefig(\"demand-validation-part1.pdf\", bbox_inches=\"tight\")"
   ]
  },
  {
   "cell_type": "code",
   "execution_count": 19,
   "metadata": {},
   "outputs": [
    {
     "data": {
      "application/vnd.microsoft.datawrangler.viewer.v0+json": {
       "columns": [
        {
         "name": "index",
         "rawType": "int64",
         "type": "integer"
        },
        {
         "name": "source",
         "rawType": "object",
         "type": "string"
        },
        {
         "name": "country",
         "rawType": "object",
         "type": "unknown"
        },
        {
         "name": "electricity_demand",
         "rawType": "float64",
         "type": "float"
        },
        {
         "name": "iso_code",
         "rawType": "object",
         "type": "unknown"
        },
        {
         "name": "electricity_generation",
         "rawType": "float64",
         "type": "float"
        }
       ],
       "conversionMethod": "pd.DataFrame",
       "ref": "b480fba8-3fee-4830-8562-7e8b92d5be68",
       "rows": [
        [
         "0",
         "Our World in Data 2013",
         "Tanzania",
         "6.05",
         "TZA",
         "5.99"
        ],
        [
         "1",
         "PyPSA 2030",
         "Tanzania",
         "78.84999999998801",
         "0",
         "0.0"
        ],
        [
         "0",
         "IRENA 2030",
         null,
         "1924.0",
         null,
         null
        ],
        [
         "1",
         "Alova et al. 2030",
         null,
         "1877.0",
         null,
         null
        ]
       ],
       "shape": {
        "columns": 5,
        "rows": 4
       }
      },
      "text/html": [
       "<div>\n",
       "<style scoped>\n",
       "    .dataframe tbody tr th:only-of-type {\n",
       "        vertical-align: middle;\n",
       "    }\n",
       "\n",
       "    .dataframe tbody tr th {\n",
       "        vertical-align: top;\n",
       "    }\n",
       "\n",
       "    .dataframe thead th {\n",
       "        text-align: right;\n",
       "    }\n",
       "</style>\n",
       "<table border=\"1\" class=\"dataframe\">\n",
       "  <thead>\n",
       "    <tr style=\"text-align: right;\">\n",
       "      <th></th>\n",
       "      <th>source</th>\n",
       "      <th>country</th>\n",
       "      <th>electricity_demand</th>\n",
       "      <th>iso_code</th>\n",
       "      <th>electricity_generation</th>\n",
       "    </tr>\n",
       "  </thead>\n",
       "  <tbody>\n",
       "    <tr>\n",
       "      <th>0</th>\n",
       "      <td>Our World in Data 2013</td>\n",
       "      <td>Tanzania</td>\n",
       "      <td>6.05</td>\n",
       "      <td>TZA</td>\n",
       "      <td>5.99</td>\n",
       "    </tr>\n",
       "    <tr>\n",
       "      <th>1</th>\n",
       "      <td>PyPSA 2030</td>\n",
       "      <td>Tanzania</td>\n",
       "      <td>78.85</td>\n",
       "      <td>0</td>\n",
       "      <td>0.00</td>\n",
       "    </tr>\n",
       "    <tr>\n",
       "      <th>0</th>\n",
       "      <td>IRENA 2030</td>\n",
       "      <td>NaN</td>\n",
       "      <td>1924.00</td>\n",
       "      <td>NaN</td>\n",
       "      <td>NaN</td>\n",
       "    </tr>\n",
       "    <tr>\n",
       "      <th>1</th>\n",
       "      <td>Alova et al. 2030</td>\n",
       "      <td>NaN</td>\n",
       "      <td>1877.00</td>\n",
       "      <td>NaN</td>\n",
       "      <td>NaN</td>\n",
       "    </tr>\n",
       "  </tbody>\n",
       "</table>\n",
       "</div>"
      ],
      "text/plain": [
       "                   source   country  electricity_demand iso_code  \\\n",
       "0  Our World in Data 2013  Tanzania                6.05      TZA   \n",
       "1              PyPSA 2030  Tanzania               78.85        0   \n",
       "0              IRENA 2030       NaN             1924.00      NaN   \n",
       "1       Alova et al. 2030       NaN             1877.00      NaN   \n",
       "\n",
       "   electricity_generation  \n",
       "0                    5.99  \n",
       "1                    0.00  \n",
       "0                     NaN  \n",
       "1                     NaN  "
      ]
     },
     "execution_count": 19,
     "metadata": {},
     "output_type": "execute_result"
    },
    {
     "data": {
      "image/png": "[encoded data removed]",
      "text/plain": [
       "<Figure size 640x480 with 1 Axes>"
      ]
     },
     "metadata": {},
     "output_type": "display_data"
    }
   ],
   "source": [
    "sns.set_theme(style=\"whitegrid\", font_scale=1)\n",
    "\n",
    "african_total_consumption = (\n",
    "    df_merge.groupby(by=\"source\").sum().drop(columns=\"year\").reset_index()\n",
    ")\n",
    "extra = pd.DataFrame(\n",
    "    data={\n",
    "        \"source\": [\"IRENA 2030\", \"Alova et al. 2030\"],\n",
    "        \"electricity_demand\": [1004 + 920, 1877],\n",
    "    }\n",
    ")\n",
    "# https://www.irena.org/-/media/Files/IRENA/Agency/Publication/2015/IRENA_Africa_2030_REmap_2015_low-res.pdf\n",
    "# https://www.nature.com/articles/s41560-020-00755-9\n",
    "\n",
    "african_total_consumption = pd.concat([african_total_consumption, extra])\n",
    "african_total_consumption.plot.scatter(\n",
    "    x=\"source\", y=\"electricity_demand\", s=\"electricity_demand\"\n",
    ")\n",
    "african_total_consumption"
   ]
  },
  {
   "cell_type": "code",
   "execution_count": 20,
   "metadata": {},
   "outputs": [
    {
     "name": "stderr",
     "output_type": "stream",
     "text": [
      "INFO:matplotlib.category:Using categorical units to plot a list of strings that are all parsable as floats or dates. If these strings should be plotted as numbers, cast to the appropriate data type before plotting.\n",
      "INFO:matplotlib.category:Using categorical units to plot a list of strings that are all parsable as floats or dates. If these strings should be plotted as numbers, cast to the appropriate data type before plotting.\n"
     ]
    },
    {
     "name": "stdout",
     "output_type": "stream",
     "text": [
      "Total electricity demand in 2013 (PyPSA network): 78.85 TWh\n"
     ]
    },
    {
     "data": {
      "image/png": "[encoded data removed]",
      "text/plain": [
       "<Figure size 800x600 with 1 Axes>"
      ]
     },
     "metadata": {},
     "output_type": "display_data"
    }
   ],
   "source": [
    "import pandas as pd\n",
    "import matplotlib.pyplot as plt\n",
    "import seaborn as sns\n",
    "\n",
    "# Assuming `pypsa_network` is already loaded as `n`\n",
    "pypsa_network = n\n",
    "\n",
    "# Set the prediction year\n",
    "year = '2013'\n",
    "\n",
    "# Filter the load data for the year 2030\n",
    "electricity_demand_pypsa = pypsa_network.loads_t.p_set.loc[year]\n",
    "\n",
    "# Calculate the total load (sum across all time steps and buses)\n",
    "total_load = electricity_demand_pypsa.sum().sum()\n",
    "\n",
    "# Convert from MW to TWh\n",
    "total_load_twh = total_load / 1e6  # Convert MW to TWh\n",
    "\n",
    "# Display the total load\n",
    "print(f\"Total electricity demand in {year} (PyPSA network): {total_load_twh:.2f} TWh\")\n",
    "\n",
    "# Prepare data for visualization\n",
    "electricity_demand_df = pd.DataFrame({\n",
    "    \"Year\": [year],\n",
    "    \"Electricity Demand (TWh)\": [total_load_twh]\n",
    "})\n",
    "\n",
    "# Plot the electricity demand\n",
    "sns.set_theme(style=\"whitegrid\")\n",
    "plt.figure(figsize=(8, 6))\n",
    "sns.barplot(data=electricity_demand_df, x=\"Year\", y=\"Electricity Demand (TWh)\", color=\"skyblue\")\n",
    "plt.title(\"Electricity Demand in 2030\")\n",
    "plt.ylabel(\"Electricity Demand (TWh)\")\n",
    "plt.xlabel(\"Year\")\n",
    "plt.ylim(0, total_load_twh + 10)\n",
    "plt.show()\n",
    "\n"
   ]
  },
  {
   "cell_type": "code",
   "execution_count": 21,
   "metadata": {},
   "outputs": [
    {
     "ename": "KeyError",
     "evalue": "2025",
     "output_type": "error",
     "traceback": [
      "\u001b[1;31m---------------------------------------------------------------------------\u001b[0m",
      "\u001b[1;31mKeyError\u001b[0m                                  Traceback (most recent call last)",
      "File \u001b[1;32mc:\\Users\\hie\\AppData\\Local\\anaconda3\\envs\\pypsa-earth\\lib\\site-packages\\pandas\\core\\indexes\\base.py:3805\u001b[0m, in \u001b[0;36mIndex.get_loc\u001b[1;34m(self, key)\u001b[0m\n\u001b[0;32m   3804\u001b[0m \u001b[38;5;28;01mtry\u001b[39;00m:\n\u001b[1;32m-> 3805\u001b[0m     \u001b[38;5;28;01mreturn\u001b[39;00m \u001b[38;5;28;43mself\u001b[39;49m\u001b[38;5;241;43m.\u001b[39;49m\u001b[43m_engine\u001b[49m\u001b[38;5;241;43m.\u001b[39;49m\u001b[43mget_loc\u001b[49m\u001b[43m(\u001b[49m\u001b[43mcasted_key\u001b[49m\u001b[43m)\u001b[49m\n\u001b[0;32m   3806\u001b[0m \u001b[38;5;28;01mexcept\u001b[39;00m \u001b[38;5;167;01mKeyError\u001b[39;00m \u001b[38;5;28;01mas\u001b[39;00m err:\n",
      "File \u001b[1;32mindex.pyx:167\u001b[0m, in \u001b[0;36mpandas._libs.index.IndexEngine.get_loc\u001b[1;34m()\u001b[0m\n",
      "File \u001b[1;32mindex.pyx:196\u001b[0m, in \u001b[0;36mpandas._libs.index.IndexEngine.get_loc\u001b[1;34m()\u001b[0m\n",
      "File \u001b[1;32mpandas\\\\_libs\\\\hashtable_class_helper.pxi:7081\u001b[0m, in \u001b[0;36mpandas._libs.hashtable.PyObjectHashTable.get_item\u001b[1;34m()\u001b[0m\n",
      "File \u001b[1;32mpandas\\\\_libs\\\\hashtable_class_helper.pxi:7089\u001b[0m, in \u001b[0;36mpandas._libs.hashtable.PyObjectHashTable.get_item\u001b[1;34m()\u001b[0m\n",
      "\u001b[1;31mKeyError\u001b[0m: 2025",
      "\nThe above exception was the direct cause of the following exception:\n",
      "\u001b[1;31mKeyError\u001b[0m                                  Traceback (most recent call last)",
      "Cell \u001b[1;32mIn[21], line 1\u001b[0m\n\u001b[1;32m----> 1\u001b[0m network_2030\u001b[38;5;241m=\u001b[39m\u001b[43mn\u001b[49m\u001b[43m[\u001b[49m\u001b[38;5;241;43m2025\u001b[39;49m\u001b[43m]\u001b[49m\n\u001b[0;32m      2\u001b[0m network_2030\u001b[38;5;241m.\u001b[39mstatistics()\n",
      "File \u001b[1;32mc:\\Users\\hie\\AppData\\Local\\anaconda3\\envs\\pypsa-earth\\lib\\site-packages\\pypsa\\components.py:1277\u001b[0m, in \u001b[0;36mNetwork.__getitem__\u001b[1;34m(self, key)\u001b[0m\n\u001b[0;32m   1268\u001b[0m (\n\u001b[0;32m   1269\u001b[0m     override_components,\n\u001b[0;32m   1270\u001b[0m     override_component_attrs,\n\u001b[0;32m   1271\u001b[0m ) \u001b[38;5;241m=\u001b[39m \u001b[38;5;28mself\u001b[39m\u001b[38;5;241m.\u001b[39m_retrieve_overridden_components()\n\u001b[0;32m   1272\u001b[0m n \u001b[38;5;241m=\u001b[39m \u001b[38;5;28mself\u001b[39m\u001b[38;5;241m.\u001b[39m\u001b[38;5;18m__class__\u001b[39m(\n\u001b[0;32m   1273\u001b[0m     override_components\u001b[38;5;241m=\u001b[39moverride_components,\n\u001b[0;32m   1274\u001b[0m     override_component_attrs\u001b[38;5;241m=\u001b[39moverride_component_attrs,\n\u001b[0;32m   1275\u001b[0m )\n\u001b[0;32m   1276\u001b[0m n\u001b[38;5;241m.\u001b[39mimport_components_from_dataframe(\n\u001b[1;32m-> 1277\u001b[0m     pd\u001b[38;5;241m.\u001b[39mDataFrame(\u001b[38;5;28;43mself\u001b[39;49m\u001b[38;5;241;43m.\u001b[39;49m\u001b[43mbuses\u001b[49m\u001b[38;5;241;43m.\u001b[39;49m\u001b[43mloc\u001b[49m\u001b[43m[\u001b[49m\u001b[43mkey\u001b[49m\u001b[43m]\u001b[49m)\u001b[38;5;241m.\u001b[39massign(sub_network\u001b[38;5;241m=\u001b[39m\u001b[38;5;124m\"\u001b[39m\u001b[38;5;124m\"\u001b[39m), \u001b[38;5;124m\"\u001b[39m\u001b[38;5;124mBus\u001b[39m\u001b[38;5;124m\"\u001b[39m\n\u001b[0;32m   1278\u001b[0m )\n\u001b[0;32m   1279\u001b[0m buses_i \u001b[38;5;241m=\u001b[39m n\u001b[38;5;241m.\u001b[39mbuses\u001b[38;5;241m.\u001b[39mindex\n\u001b[0;32m   1281\u001b[0m rest_components \u001b[38;5;241m=\u001b[39m (\n\u001b[0;32m   1282\u001b[0m     \u001b[38;5;28mself\u001b[39m\u001b[38;5;241m.\u001b[39mall_components\n\u001b[0;32m   1283\u001b[0m     \u001b[38;5;241m-\u001b[39m \u001b[38;5;28mself\u001b[39m\u001b[38;5;241m.\u001b[39mstandard_type_components\n\u001b[0;32m   1284\u001b[0m     \u001b[38;5;241m-\u001b[39m \u001b[38;5;28mself\u001b[39m\u001b[38;5;241m.\u001b[39mone_port_components\n\u001b[0;32m   1285\u001b[0m     \u001b[38;5;241m-\u001b[39m \u001b[38;5;28mself\u001b[39m\u001b[38;5;241m.\u001b[39mbranch_components\n\u001b[0;32m   1286\u001b[0m )\n",
      "File \u001b[1;32mc:\\Users\\hie\\AppData\\Local\\anaconda3\\envs\\pypsa-earth\\lib\\site-packages\\pandas\\core\\indexing.py:1191\u001b[0m, in \u001b[0;36m_LocationIndexer.__getitem__\u001b[1;34m(self, key)\u001b[0m\n\u001b[0;32m   1189\u001b[0m maybe_callable \u001b[38;5;241m=\u001b[39m com\u001b[38;5;241m.\u001b[39mapply_if_callable(key, \u001b[38;5;28mself\u001b[39m\u001b[38;5;241m.\u001b[39mobj)\n\u001b[0;32m   1190\u001b[0m maybe_callable \u001b[38;5;241m=\u001b[39m \u001b[38;5;28mself\u001b[39m\u001b[38;5;241m.\u001b[39m_check_deprecated_callable_usage(key, maybe_callable)\n\u001b[1;32m-> 1191\u001b[0m \u001b[38;5;28;01mreturn\u001b[39;00m \u001b[38;5;28;43mself\u001b[39;49m\u001b[38;5;241;43m.\u001b[39;49m\u001b[43m_getitem_axis\u001b[49m\u001b[43m(\u001b[49m\u001b[43mmaybe_callable\u001b[49m\u001b[43m,\u001b[49m\u001b[43m \u001b[49m\u001b[43maxis\u001b[49m\u001b[38;5;241;43m=\u001b[39;49m\u001b[43maxis\u001b[49m\u001b[43m)\u001b[49m\n",
      "File \u001b[1;32mc:\\Users\\hie\\AppData\\Local\\anaconda3\\envs\\pypsa-earth\\lib\\site-packages\\pandas\\core\\indexing.py:1431\u001b[0m, in \u001b[0;36m_LocIndexer._getitem_axis\u001b[1;34m(self, key, axis)\u001b[0m\n\u001b[0;32m   1429\u001b[0m \u001b[38;5;66;03m# fall thru to straight lookup\u001b[39;00m\n\u001b[0;32m   1430\u001b[0m \u001b[38;5;28mself\u001b[39m\u001b[38;5;241m.\u001b[39m_validate_key(key, axis)\n\u001b[1;32m-> 1431\u001b[0m \u001b[38;5;28;01mreturn\u001b[39;00m \u001b[38;5;28;43mself\u001b[39;49m\u001b[38;5;241;43m.\u001b[39;49m\u001b[43m_get_label\u001b[49m\u001b[43m(\u001b[49m\u001b[43mkey\u001b[49m\u001b[43m,\u001b[49m\u001b[43m \u001b[49m\u001b[43maxis\u001b[49m\u001b[38;5;241;43m=\u001b[39;49m\u001b[43maxis\u001b[49m\u001b[43m)\u001b[49m\n",
      "File \u001b[1;32mc:\\Users\\hie\\AppData\\Local\\anaconda3\\envs\\pypsa-earth\\lib\\site-packages\\pandas\\core\\indexing.py:1381\u001b[0m, in \u001b[0;36m_LocIndexer._get_label\u001b[1;34m(self, label, axis)\u001b[0m\n\u001b[0;32m   1379\u001b[0m \u001b[38;5;28;01mdef\u001b[39;00m\u001b[38;5;250m \u001b[39m\u001b[38;5;21m_get_label\u001b[39m(\u001b[38;5;28mself\u001b[39m, label, axis: AxisInt):\n\u001b[0;32m   1380\u001b[0m     \u001b[38;5;66;03m# GH#5567 this will fail if the label is not present in the axis.\u001b[39;00m\n\u001b[1;32m-> 1381\u001b[0m     \u001b[38;5;28;01mreturn\u001b[39;00m \u001b[38;5;28;43mself\u001b[39;49m\u001b[38;5;241;43m.\u001b[39;49m\u001b[43mobj\u001b[49m\u001b[38;5;241;43m.\u001b[39;49m\u001b[43mxs\u001b[49m\u001b[43m(\u001b[49m\u001b[43mlabel\u001b[49m\u001b[43m,\u001b[49m\u001b[43m \u001b[49m\u001b[43maxis\u001b[49m\u001b[38;5;241;43m=\u001b[39;49m\u001b[43maxis\u001b[49m\u001b[43m)\u001b[49m\n",
      "File \u001b[1;32mc:\\Users\\hie\\AppData\\Local\\anaconda3\\envs\\pypsa-earth\\lib\\site-packages\\pandas\\core\\generic.py:4301\u001b[0m, in \u001b[0;36mNDFrame.xs\u001b[1;34m(self, key, axis, level, drop_level)\u001b[0m\n\u001b[0;32m   4299\u001b[0m             new_index \u001b[38;5;241m=\u001b[39m index[loc]\n\u001b[0;32m   4300\u001b[0m \u001b[38;5;28;01melse\u001b[39;00m:\n\u001b[1;32m-> 4301\u001b[0m     loc \u001b[38;5;241m=\u001b[39m \u001b[43mindex\u001b[49m\u001b[38;5;241;43m.\u001b[39;49m\u001b[43mget_loc\u001b[49m\u001b[43m(\u001b[49m\u001b[43mkey\u001b[49m\u001b[43m)\u001b[49m\n\u001b[0;32m   4303\u001b[0m     \u001b[38;5;28;01mif\u001b[39;00m \u001b[38;5;28misinstance\u001b[39m(loc, np\u001b[38;5;241m.\u001b[39mndarray):\n\u001b[0;32m   4304\u001b[0m         \u001b[38;5;28;01mif\u001b[39;00m loc\u001b[38;5;241m.\u001b[39mdtype \u001b[38;5;241m==\u001b[39m np\u001b[38;5;241m.\u001b[39mbool_:\n",
      "File \u001b[1;32mc:\\Users\\hie\\AppData\\Local\\anaconda3\\envs\\pypsa-earth\\lib\\site-packages\\pandas\\core\\indexes\\base.py:3812\u001b[0m, in \u001b[0;36mIndex.get_loc\u001b[1;34m(self, key)\u001b[0m\n\u001b[0;32m   3807\u001b[0m     \u001b[38;5;28;01mif\u001b[39;00m \u001b[38;5;28misinstance\u001b[39m(casted_key, \u001b[38;5;28mslice\u001b[39m) \u001b[38;5;129;01mor\u001b[39;00m (\n\u001b[0;32m   3808\u001b[0m         \u001b[38;5;28misinstance\u001b[39m(casted_key, abc\u001b[38;5;241m.\u001b[39mIterable)\n\u001b[0;32m   3809\u001b[0m         \u001b[38;5;129;01mand\u001b[39;00m \u001b[38;5;28many\u001b[39m(\u001b[38;5;28misinstance\u001b[39m(x, \u001b[38;5;28mslice\u001b[39m) \u001b[38;5;28;01mfor\u001b[39;00m x \u001b[38;5;129;01min\u001b[39;00m casted_key)\n\u001b[0;32m   3810\u001b[0m     ):\n\u001b[0;32m   3811\u001b[0m         \u001b[38;5;28;01mraise\u001b[39;00m InvalidIndexError(key)\n\u001b[1;32m-> 3812\u001b[0m     \u001b[38;5;28;01mraise\u001b[39;00m \u001b[38;5;167;01mKeyError\u001b[39;00m(key) \u001b[38;5;28;01mfrom\u001b[39;00m\u001b[38;5;250m \u001b[39m\u001b[38;5;21;01merr\u001b[39;00m\n\u001b[0;32m   3813\u001b[0m \u001b[38;5;28;01mexcept\u001b[39;00m \u001b[38;5;167;01mTypeError\u001b[39;00m:\n\u001b[0;32m   3814\u001b[0m     \u001b[38;5;66;03m# If we have a listlike key, _check_indexing_error will raise\u001b[39;00m\n\u001b[0;32m   3815\u001b[0m     \u001b[38;5;66;03m#  InvalidIndexError. Otherwise we fall through and re-raise\u001b[39;00m\n\u001b[0;32m   3816\u001b[0m     \u001b[38;5;66;03m#  the TypeError.\u001b[39;00m\n\u001b[0;32m   3817\u001b[0m     \u001b[38;5;28mself\u001b[39m\u001b[38;5;241m.\u001b[39m_check_indexing_error(key)\n",
      "\u001b[1;31mKeyError\u001b[0m: 2025"
     ]
    }
   ],
   "source": [
    "network_2030=n[2025]\n",
    "network_2030.statistics()"
   ]
  }
 ],
 "metadata": {
  "kernelspec": {
   "display_name": "pypsa-earth",
   "language": "python",
   "name": "python3"
  },
  "language_info": {
   "codemirror_mode": {
    "name": "ipython",
    "version": 3
   },
   "file_extension": ".py",
   "mimetype": "text/x-python",
   "name": "python",
   "nbconvert_exporter": "python",
   "pygments_lexer": "ipython3",
   "version": "3.10.16"
  },
  "orig_nbformat": 4
 },
 "nbformat": 4,
 "nbformat_minor": 2
}
