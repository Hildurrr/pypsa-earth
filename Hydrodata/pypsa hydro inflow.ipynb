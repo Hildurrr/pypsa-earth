{
 "cells": [
  {
   "cell_type": "markdown",
   "metadata": {},
   "source": [
    "Hydro inflow changes\n",
    "\n",
    "\n",
    "Hydrop inflow in "
   ]
  },
  {
   "cell_type": "code",
   "execution_count": 14,
   "metadata": {},
   "outputs": [],
   "source": [
    "import pandas as pd\n",
    "from calendar import monthrange\n",
    "from datetime import datetime, timedelta\n",
    "\n",
    "# 1. Load the input file\n",
    "# - It should have 'Month' column with 'Jan', 'Feb', ..., 'Dec'\n",
    "# - Each plant_name's ID as a column with corrected daily energy in MWh\n",
    "df = pd.read_excel(\"C:/Users/hie/OneDrive - Multiconsult/Dokumenter/NMBU/Master/Model/Hydro inflow/From CETT/hydro_profiles_final.xlsx\", sheet_name=\"Average generation MWH day\")\n",
    "\n",
    "# 2. Convert month names to numbers\n",
    "plant_name = {7,10,19,9,12,21,13,20,8,24,16,17,18,22,23,26,27,28,29,14,15,63,4,1,2,3,11,6,5,30,25\n",
    "}\n",
    "\n",
    "\n",
    "# 3. Set month as index for easy lookup\n",
    "df.set_index('Month', inplace=True)\n",
    "\n",
    "# 4. Generate hourly timestamps for the entire year (e.g., 2013)\n",
    "timestamps = []\n",
    "for month in range(1, 13):\n",
    "    days = monthrange(2013, month)[1]\n",
    "    for day in range(1, days + 1):\n",
    "        for hour in range(24):\n",
    "            timestamps.append(datetime(2013, month, day, hour))\n",
    "\n",
    "# 5. For each plant_name column, calculate the hourly inflow\n",
    "records = []\n",
    "\n",
    "for plant_name in df.columns:\n",
    "    hourly_inflow = []\n",
    "    for month in range(1, 13):\n",
    "        daily_mwh = df.loc[month, plant_name]\n",
    "        hourly_mw = daily_mwh / 24\n",
    "        hours_in_month = monthrange(2013, month)[1] * 24\n",
    "        hourly_inflow.extend([hourly_mw] * hours_in_month)\n",
    "\n",
    "    # Sanity check: should match 8760\n",
    "    assert len(hourly_inflow) == 8760, f\"{plant_name} has incorrect hour count.\"\n",
    "\n",
    "    # 6. Combine with timestamps\n",
    "    for time, inflow in zip(timestamps, hourly_inflow):\n",
    "        records.append({\n",
    "            \"plant_name\": plant_name,\n",
    "            \"time\": time,\n",
    "            \"inflow\": inflow\n",
    "        })\n",
    "\n",
    "# 7. Output to CSV\n",
    "output_df = pd.DataFrame(records)\n",
    "output_df.to_csv(\"C:/Users/hie/OneDrive - Multiconsult/Dokumenter/NMBU/Master/Model/Hydro inflow/hourly_inflow_output.csv\", index=False)\n"
   ]
  },
  {
   "cell_type": "code",
   "execution_count": 5,
   "metadata": {},
   "outputs": [
    {
     "name": "stdout",
     "output_type": "stream",
     "text": [
      "NetCDF file has been saved to: C:/Users/hie/pe_tan/pypsa-earth/Hydrodata/custom_profile_hydro.nc\n"
     ]
    }
   ],
   "source": [
    "# Corrected script\n",
    "import xarray as xr\n",
    "import pandas as pd\n",
    "\n",
    "# Read the CSV file\n",
    "df = pd.read_csv(\"C:/Users/hie/pe_tan/pypsa-earth/Hydrodata/hourly_inflow_output.csv\", sep=\",\")\n",
    "\n",
    "# Define the output NetCDF file path\n",
    "nc = \"C:/Users/hie/pe_tan/pypsa-earth/Hydrodata/custom_profile_hydro.nc\"\n",
    "\n",
    "# Convert the DataFrame to an xarray Dataset\n",
    "dataset = xr.Dataset.from_dataframe(df.reset_index())\n",
    "\n",
    "# Save the Dataset to a NetCDF file\n",
    "dataset.to_netcdf(nc)\n",
    "\n",
    "print(f\"NetCDF file has been saved to: {nc}\")\n"
   ]
  },
  {
   "cell_type": "code",
   "execution_count": 12,
   "metadata": {},
   "outputs": [
    {
     "name": "stdout",
     "output_type": "stream",
     "text": [
      "Reshaped .nc file saved to: C:/Users/hie/pe_tan/pypsa-earth/resources/2040_base/renewable_profiles/custom_profiles_hydro.nc\n"
     ]
    }
   ],
   "source": [
    "import xarray as xr\n",
    "import pandas as pd\n",
    "\n",
    "# Load the external .nc file\n",
    "external_nc_path = \"C:/Users/hie/pe_tan/pypsa-earth/resources/2040_base/renewable_profiles/custom_profile_hydro.nc\"  # Replace with the actual path\n",
    "external_ds = xr.open_dataset(external_nc_path)\n",
    "\n",
    "# Extract variables from the external dataset\n",
    "plant = external_ds[\"plant\"].values\n",
    "time = external_ds[\"time\"].values\n",
    "inflow = external_ds[\"inflow\"].values\n",
    "\n",
    "# Create a DataFrame from the extracted variables\n",
    "df = pd.DataFrame({\"plant\": plant, \"time\": time, \"inflow\": inflow})\n",
    "\n",
    "# Convert the 'time' column to datetime\n",
    "df[\"time\"] = pd.to_datetime(df[\"time\"])\n",
    "\n",
    "# Convert the 'plant' column to strings\n",
    "df[\"plant\"] = df[\"plant\"].astype(str)\n",
    "\n",
    "# Pivot the DataFrame to reshape it\n",
    "reshaped_df = df.pivot(index=\"time\", columns=\"plant\", values=\"inflow\")\n",
    "\n",
    "# Convert the reshaped DataFrame to an xarray Dataset\n",
    "reshaped_ds = reshaped_df.to_xarray()\n",
    "\n",
    "# Save the reshaped Dataset to a new .nc file\n",
    "reshaped_nc_path = \"C:/Users/hie/pe_tan/pypsa-earth/resources/2040_base/renewable_profiles/custom_profiles_hydro.nc\"  # Replace with the desired output path\n",
    "reshaped_ds.to_netcdf(reshaped_nc_path)\n",
    "\n",
    "print(f\"Reshaped .nc file saved to: {reshaped_nc_path}\")"
   ]
  },
  {
   "cell_type": "code",
   "execution_count": 32,
   "metadata": {},
   "outputs": [
    {
     "name": "stdout",
     "output_type": "stream",
     "text": [
      "<xarray.Dataset>\n",
      "Dimensions:  (plant: 31, time: 8760)\n",
      "Coordinates:\n",
      "  * plant    (plant) int64 1 2 3 4 5 6 7 8 9 10 ... 23 24 25 26 27 28 29 30 63\n",
      "  * time     (time) datetime64[ns] 2013-01-01 ... 2013-12-31T23:00:00\n",
      "Data variables:\n",
      "    inflow   (plant, time) float64 ...\n",
      "<xarray.Dataset>\n",
      "Dimensions:  (plant: 31, time: 8760)\n",
      "Coordinates:\n",
      "  * plant    (plant) int32 1 2 3 4 5 6 7 8 9 10 ... 23 24 25 26 27 28 29 30 63\n",
      "  * time     (time) datetime64[ns] 2013-01-01 ... 2013-12-31T23:00:00\n",
      "Data variables:\n",
      "    inflow   (plant, time) float64 ...\n"
     ]
    }
   ],
   "source": [
    "import xarray as xr\n",
    "ds = xr.open_dataset(\"C:/Users/hie/pe_tan/pypsa-earth/resources/2040_base/renewable_profiles/profile_hydro.nc\")\n",
    "print(ds)\n",
    "\n",
    "b=xr.open_dataset(\"C:/Users/hie/pe_tan/pypsa-earth/Hydrodata/custom_profile_hydro.nc\")\n",
    "print(b)"
   ]
  },
  {
   "cell_type": "code",
   "execution_count": 30,
   "metadata": {},
   "outputs": [
    {
     "name": "stdout",
     "output_type": "stream",
     "text": [
      "Reshaped .nc file saved to: C:/Users/hie/pe_tan/pypsa-earth/Hydrodata/custom_profile_hydro.nc\n"
     ]
    }
   ],
   "source": [
    "import xarray as xr\n",
    "import pandas as pd\n",
    "\n",
    "# Load the external .nc file\n",
    "external_nc_path = \"C:/Users/hie/pe_tan/pypsa-earth/resources/2040_base/renewable_profiles/custom_profile_hydro.nc\"\n",
    "external_ds = xr.open_dataset(external_nc_path)\n",
    "\n",
    "# Extract variables from the external dataset\n",
    "plant = external_ds[\"plant\"].values\n",
    "time = external_ds[\"time\"].values\n",
    "inflow = external_ds[\"inflow\"].values\n",
    "\n",
    "# Create a DataFrame from the extracted variables\n",
    "df = pd.DataFrame({\"plant\": plant, \"time\": time, \"inflow\": inflow})\n",
    "\n",
    "# Convert the 'time' column to datetime\n",
    "df[\"time\"] = pd.to_datetime(df[\"time\"])\n",
    "\n",
    "# Convert the 'plant' column to integers (if necessary)\n",
    "df[\"plant\"] = df[\"plant\"].astype(int)\n",
    "\n",
    "# Pivot the DataFrame to reshape it\n",
    "reshaped_df = df.pivot(index=\"time\", columns=\"plant\", values=\"inflow\")\n",
    "\n",
    "# Ensure the columns (plants) are sorted correctly\n",
    "reshaped_df = reshaped_df.sort_index(axis=1)\n",
    "\n",
    "# Convert the reshaped DataFrame to an xarray Dataset with explicit dimensions\n",
    "reshaped_ds = xr.Dataset(\n",
    "    {\"inflow\": ([\"plant\", \"time\"], reshaped_df.T.values)},  # Transpose to fix dimension order\n",
    "    coords={\n",
    "        \"plant\": reshaped_df.columns,\n",
    "        \"time\": reshaped_df.index\n",
    "    }\n",
    ")\n",
    "\n",
    "# Save the reshaped Dataset to a new .nc file\n",
    "reshaped_nc_path = \"C:/Users/hie/pe_tan/pypsa-earth/Hydrodata/custom_profile_hydro.nc\"\n",
    "reshaped_ds.to_netcdf(reshaped_nc_path)\n",
    "\n",
    "print(f\"Reshaped .nc file saved to: {reshaped_nc_path}\")"
   ]
  },
  {
   "cell_type": "markdown",
   "metadata": {},
   "source": [
    "AHA atlas"
   ]
  },
  {
   "cell_type": "code",
   "execution_count": null,
   "metadata": {},
   "outputs": [],
   "source": []
  },
  {
   "cell_type": "code",
   "execution_count": null,
   "metadata": {},
   "outputs": [],
   "source": [
    "import pandas as pd\n",
    "import numpy as np\n",
    "from calendar import monthrange\n",
    "from datetime import datetime, timedelta\n",
    "\n",
    "# --- Load your CSV\n",
    "df = pd.read_excel(\"C:/Users/hie/OneDrive - Multiconsult/Dokumenter/NMBU/Master/Model/Hydro inflow/Reservoir_Storage_Capacity_in_MWh_calc.xlsx\", sheet_name=\"Capacity factors\")   \n",
    "\n",
    "\n",
    "\n",
    "# --- Create hourly datetime index for 2013\n",
    "start_time = datetime(2013, 1, 1, 0)\n",
    "hourly_times = [start_time + timedelta(hours=i) for i in range(8760)]\n",
    "\n",
    "# --- Prepare output\n",
    "records = []\n",
    "\n",
    "# --- Monthly capacity factor columns\n",
    "month_cols = [\n",
    "    \"January_capacity_factor_dry\", \"February_capacity_factor_dry\", \"March_capacity_factor_dry\", \"April_capacity_factor_dry\", \"May_capacity_factor_dry\", \"June_capacity_factor_dry\",\n",
    "    \"July_capacity_factor_dry\", \"August_capacity_factor_dry\", \"September_capacity_factor_dry\", \"October_capacity_factor_dry\", \"November_capacity_factor_dry\", \"December_capacity_factor_dry\"\n",
    "]\n",
    "\n",
    "# --- Create hourly datetime index for 2013\n",
    "start_time = datetime(2013, 1, 1, 0)\n",
    "hourly_times = [start_time + timedelta(hours=i) for i in range(8760)]\n",
    "\n",
    "# --- Prepare output\n",
    "records = []\n",
    "\n",
    "# --- Loop through each plant_name\n",
    "for idx, row in df.iterrows():\n",
    "    plant_name = row[\"Name\"]\n",
    "    capacity = row[\"Capacity (MW)\"]\n",
    "    inflow_series = []\n",
    "\n",
    "    for i, month_col in enumerate(month_cols, start=1):\n",
    "        cf = row[month_col]\n",
    "        hours = monthrange(2013, i)[1] * 24\n",
    "        inflow = cf * capacity\n",
    "        inflow_series.extend([inflow] * hours)\n",
    "\n",
    "    # Add to records\n",
    "    for time, inflow in zip(hourly_times, inflow_series):\n",
    "        records.append({\n",
    "            \"plant_name\": plant_name,\n",
    "            \"time\": time,\n",
    "            \"inflow\": inflow\n",
    "        })\n",
    "\n",
    "# --- Convert to DataFrame\n",
    "long_df = pd.DataFrame(records)\n",
    "\n",
    "\n",
    "# --- Save to CSV\n",
    "long_df.to_csv(\"C:/Users/hie/OneDrive - Multiconsult/Dokumenter/NMBU/Master/Model/Hydro inflow/hydro_inflows_2013_dry.csv\", index=False)\n"
   ]
  },
  {
   "cell_type": "code",
   "execution_count": null,
   "metadata": {},
   "outputs": [
    {
     "name": "stdout",
     "output_type": "stream",
     "text": [
      "<xarray.Dataset>\n",
      "Dimensions:  (plant: 31, time: 8760)\n",
      "Coordinates:\n",
      "  * plant    (plant) int64 1 2 3 4 5 6 7 8 9 10 ... 23 24 25 26 27 28 29 30 63\n",
      "  * time     (time) datetime64[ns] 2013-01-01 ... 2013-12-31T23:00:00\n",
      "Data variables:\n",
      "    inflow   (plant, time) float64 ...\n",
      "Frozen({'plant': <xarray.IndexVariable 'plant' (plant: 31)>\n",
      "array([ 1,  2,  3,  4,  5,  6,  7,  8,  9, 10, 11, 12, 13, 14, 15, 16, 17, 18,\n",
      "       19, 20, 21, 22, 23, 24, 25, 26, 27, 28, 29, 30, 63], dtype=int64), 'time': <xarray.IndexVariable 'time' (time: 8760)>\n",
      "array(['2013-01-01T00:00:00.000000000', '2013-01-01T01:00:00.000000000',\n",
      "       '2013-01-01T02:00:00.000000000', ..., '2013-12-31T21:00:00.000000000',\n",
      "       '2013-12-31T22:00:00.000000000', '2013-12-31T23:00:00.000000000'],\n",
      "      dtype='datetime64[ns]'), 'inflow': <xarray.Variable (plant: 31, time: 8760)>\n",
      "[271560 values with dtype=float64]})\n",
      "<xarray.DataArray 'inflow' (plant: 31, time: 8760)>\n",
      "[271560 values with dtype=float64]\n",
      "Coordinates:\n",
      "  * plant    (plant) int64 1 2 3 4 5 6 7 8 9 10 ... 23 24 25 26 27 28 29 30 63\n",
      "  * time     (time) datetime64[ns] 2013-01-01 ... 2013-12-31T23:00:00\n"
     ]
    },
    {
     "data": {
      "image/png": "[encoded data removed]",
      "text/plain": [
       "<Figure size 1500x500 with 1 Axes>"
      ]
     },
     "metadata": {},
     "output_type": "display_data"
    },
    {
     "name": "stdout",
     "output_type": "stream",
     "text": [
      "Hydro profile has been saved to Excel.\n"
     ]
    }
   ],
   "source": [
    "import xarray as xr\n",
    "\n",
    "# Load the NetCDF file\n",
    "hydro_profile = xr.open_dataset('C:/Users/hie/pe_tan/pypsa-earth/resources/2040_base/renewable_profiles/profile_hydro.nc')\n",
    "\n",
    "# Display the structure of the dataset\n",
    "print(hydro_profile)\n",
    "\n",
    "# Display the variables in the dataset\n",
    "print(hydro_profile.variables)\n",
    "\n",
    "# Display the data for a specific variable (e.g., \"inflow\")\n",
    "if \"inflow\" in hydro_profile:\n",
    "    print(hydro_profile[\"inflow\"])\n",
    "\n",
    "\n",
    "import matplotlib.pyplot as plt\n",
    "\n",
    "# Plot the inflow time series for a specific location (if applicable)\n",
    "if \"inflow\" in hydro_profile:\n",
    "    hydro_profile[\"inflow\"].isel(plant_name=0).plot(figsize=(15, 5))  # Replace \"bus=0\" with the appropriate dimension\n",
    "    plt.title(\"Hydro Inflow Time Series\")\n",
    "    plt.ylabel(\"Inflow\")\n",
    "    plt.xlabel(\"Time\")\n",
    "    plt.show()\n",
    "\n",
    "\n",
    "import pandas as pd\n",
    "\n",
    "# Convert the NetCDF dataset to a pandas DataFrame\n",
    "hydro_df = hydro_profile.to_dataframe()\n",
    "\n",
    "# Save the DataFrame to an Excel file\n",
    "hydro_df.reset_index().to_excel('C:/Users/hie/pe_tan/pypsa-earth/resources/2040_base/renewable_profiles/profile_hydro.xlsx', index=False)\n",
    "\n",
    "print(\"Hydro profile has been saved to Excel.\")"
   ]
  },
  {
   "cell_type": "markdown",
   "metadata": {},
   "source": [
    "Jan inflow time series- existing hydro"
   ]
  },
  {
   "cell_type": "code",
   "execution_count": null,
   "metadata": {},
   "outputs": [
    {
     "name": "stdout",
     "output_type": "stream",
     "text": [
      "Input Data:\n",
      "   year plant     1     2     3     4     5     6     7     8  ...  8752  \\\n",
      "0  2008  HALE  4.60  4.20  4.11  4.10  3.07  3.62  3.90  4.31  ...  4.03   \n",
      "1  2009  HALE  5.18  5.18  5.18  5.18  5.18  5.18  8.48  8.62  ...  9.24   \n",
      "2  2010  HALE  9.23  9.05  9.80  8.60  8.52  7.20  7.36  9.32  ...  4.20   \n",
      "3  2011  HALE  4.03  4.03  4.40  4.41  4.99  4.30  7.02  7.90  ...  0.00   \n",
      "4  2012  HALE  0.00  0.00  0.00  0.00  0.00  0.00  0.00  0.00  ...  5.27   \n",
      "\n",
      "   8753  8754  8755  8756  8757  8758   8759  8760      total  \n",
      "0  4.41  5.75  8.69  8.35  7.58  8.39   6.84  7.54  60059.609  \n",
      "1  8.94  8.06  7.70  9.37  8.70  7.89  10.37  9.86  42744.318  \n",
      "2  4.68  4.81  4.75  7.11  6.99  7.24   4.71  4.58  49001.744  \n",
      "3  0.00  0.00  0.00  0.00  0.00  0.00   0.00  0.00   2533.480  \n",
      "4  3.75  4.33  4.71  6.16  6.53  6.81   3.49  4.14  32693.598  \n",
      "\n",
      "[5 rows x 8763 columns]\n",
      "\n",
      "Average Inflow Time Series:\n",
      "  plant time    inflow\n",
      "0  HALE    1  4.393846\n",
      "1  HALE    2  4.330000\n",
      "2  HALE    3  4.161538\n",
      "3  HALE    4  4.313077\n",
      "4  HALE    5  4.512308\n",
      "\n",
      "Average inflow time series has been saved to: C:/Users/hie/OneDrive - Multiconsult/Dokumenter/NMBU/Master/Model/Hydro inflow/average_hydro_inflow.xlsx\n"
     ]
    }
   ],
   "source": [
    "import pandas as pd\n",
    "\n",
    "# File path to the Excel file\n",
    "path = \"C:/Users/hie/OneDrive - Multiconsult/Dokumenter/NMBU/Master/Model/Hydro inflow/hydro_profile_inp.xlsx\"\n",
    "\n",
    "# Read the Excel file\n",
    "hydro_df = pd.read_excel(path, sheet_name=\"input_generation\")\n",
    "\n",
    "# Display the first few rows of the DataFrame for verification\n",
    "print(\"Input Data:\")\n",
    "print(hydro_df.head())\n",
    "\n",
    "# Identify columns representing hours (1 to 8760)\n",
    "hour_columns = [col for col in hydro_df.columns if col not in [\"year\", \"plant_name\"]]\n",
    "\n",
    "# Reshape the DataFrame: Melt the hours (columns) into rows\n",
    "hydro_melted = hydro_df.melt(id_vars=[\"year\", \"plant_name\"], value_vars=hour_columns, var_name=\"time\", value_name=\"inflow\")\n",
    "\n",
    "# Convert the 'inflow' column to numeric, coercing invalid values to NaN\n",
    "hydro_melted[\"inflow\"] = pd.to_numeric(hydro_melted[\"inflow\"], errors=\"coerce\")\n",
    "\n",
    "# Handle missing values (e.g., fill with 0 or drop them)\n",
    "hydro_melted[\"inflow\"] = hydro_melted[\"inflow\"].fillna(0)  # Replace NaN with 0\n",
    "\n",
    "# Group by 'plant_name' and 'time' and calculate the average inflow\n",
    "average_inflow_df = hydro_melted.groupby([\"plant_name\", \"time\"], as_index=False)[\"inflow\"].mean()\n",
    "\n",
    "# Display the result\n",
    "print(\"/nAverage Inflow Time Series:\")\n",
    "print(average_inflow_df.head())\n",
    "\n",
    "# Save the result to a new Excel file\n",
    "output_path = \"C:/Users/hie/OneDrive - Multiconsult/Dokumenter/NMBU/Master/Model/Hydro inflow/average_hydro_inflow.xlsx\"\n",
    "average_inflow_df.to_excel(output_path, index=False)\n",
    "\n",
    "print(f\"/nAverage inflow time series has been saved to: {output_path}\")"
   ]
  },
  {
   "cell_type": "code",
   "execution_count": null,
   "metadata": {},
   "outputs": [
    {
     "name": "stdout",
     "output_type": "stream",
     "text": [
      "        Date  Month  Julius Nyerere        Ruhudji       Rumakali  \\\n",
      "0 2013-01-01      1         1235160  266666.666667  176266.666667   \n",
      "1 2013-01-02      1         1235160  266666.666667  176266.666667   \n",
      "2 2013-01-03      1         1235160  266666.666667  176266.666667   \n",
      "3 2013-01-04      1         1235160  266666.666667  176266.666667   \n",
      "4 2013-01-05      1         1235160  266666.666667  176266.666667   \n",
      "\n",
      "        Kikonge  Songwe Manolo        Mpanga  Songwe Sofre  Ikondo Mnyera  \\\n",
      "0  107522.53508   62933.333333  88489.397678         51000  244266.666667   \n",
      "1  107522.53508   62933.333333  88489.397678         51000  244266.666667   \n",
      "2  107522.53508   62933.333333  88489.397678         51000  244266.666667   \n",
      "3  107522.53508   62933.333333  88489.397678         51000  244266.666667   \n",
      "4  107522.53508   62933.333333  88489.397678         51000  244266.666667   \n",
      "\n",
      "   ...  Songwe Bipungu  Iringa Nginayo  Iringa Ibosa         Yovi   Matembwe  \\\n",
      "0  ...           10200           35040  24813.333333  1106.666667  53.333333   \n",
      "1  ...           10200           35040  24813.333333  1106.666667  53.333333   \n",
      "2  ...           10200           35040  24813.333333  1106.666667  53.333333   \n",
      "3  ...           10200           35040  24813.333333  1106.666667  53.333333   \n",
      "4  ...           10200           35040  24813.333333  1106.666667  53.333333   \n",
      "\n",
      "   Darakuta  Andoya         Taveta        Kakono   Tosamaganga  \n",
      "0    373.76   700.0  113333.333333  62933.333333  62933.333333  \n",
      "1    373.76   700.0  113333.333333  62933.333333  62933.333333  \n",
      "2    373.76   700.0  113333.333333  62933.333333  62933.333333  \n",
      "3    373.76   700.0  113333.333333  62933.333333  62933.333333  \n",
      "4    373.76   700.0  113333.333333  62933.333333  62933.333333  \n",
      "\n",
      "[5 rows x 24 columns]\n",
      "Hourly inflow data has been saved to: C:/Users/hie/OneDrive - Multiconsult/Dokumenter/NMBU/Master/Model/Hydro inflow/hydro_profiles_average.xlsx\n"
     ]
    }
   ],
   "source": [
    "import pandas as pd\n",
    "\n",
    "# File path to the input data (in MW/day)\n",
    "input_file = \"C:/Users/hie/OneDrive - Multiconsult/Dokumenter/NMBU/Master/Model/Hydro inflow/hydro_profiles_final.xlsx\"  # Replace with your file path\n",
    "output_file = \"C:/Users/hie/OneDrive - Multiconsult/Dokumenter/NMBU/Master/Model/Hydro inflow/hydro_profiles_average.xlsx\"  # Replace with your desired output path\n",
    "\n",
    "# Read the input Excel file\n",
    "df = pd.read_excel(input_file, sheet_name=\"hydro_inflow_prosp_res\")\n",
    "\n",
    "print(df.head())  # Display the first few rows of the DataFrame for verification\n",
    "\n",
    "# Ensure the input data contains the required columns\n",
    "#power_plant_names=[\"Julius Nyerere\",\"Ruhudji\",\"Rumakali\",\"Kikonge\",\"\tSongwe Manolo\",\t\"Mpanga\",\"Songwe Sofre\",\"Ikondo Mnyera\",\"Rusumo\",\"Upper Kihansi\",\"Malagaresi\",\"Masigira\",\"Songwe Bipungu\",\"Iringa Nginayo\",\"Iringa Ibosa\",\"Yovi\",\"Matembwe\",\"Darakuta\",\"Andoya\",\"Taveta\",\"Kakono\",\"Tosamaganga\"]\n",
    "#required_columns = [\"Month\", \"Date\", \"\"]\n",
    "#if not all(col in df.columns for col in required_columns):\n",
    "#    raise ValueError(f\"The input file must contain the following columns: {required_columns}\")\n",
    "\n",
    "# Ensure the input data contains the required columns\n",
    "required_columns = [\"Month\", \"Date\"]\n",
    "if not all(col in df.columns for col in required_columns):\n",
    "    raise ValueError(f\"The input file must contain the following columns: {required_columns}\")\n",
    "\n",
    "# Convert the 'date' column to datetime format\n",
    "df[\"Date\"] = pd.to_datetime(df[\"Date\"])\n",
    "\n",
    "# Extract the power plant_name columns (all columns except 'month' and 'date')\n",
    "power_plant_name_columns = [col for col in df.columns if col not in [\"Month\", \"Date\"]]\n",
    "\n",
    "# Convert MW/day to MW/hour for each power plant_name\n",
    "hourly_data = []\n",
    "for _, row in df.iterrows():\n",
    "    for hour in range(24):\n",
    "        for plant_name in power_plant_name_columns:\n",
    "            hourly_data.append({\n",
    "                \"plant_name\": plant_name,\n",
    "                \"datetime\": row[\"Date\"] + pd.Timedelta(hours=hour),\n",
    "                \"inflow_mw_per_hour\": row[plant_name] / 24  # Convert daily inflow to hourly inflow\n",
    "            })\n",
    "\n",
    "# Create a new DataFrame for hourly data\n",
    "hourly_df = pd.DataFrame(hourly_data)\n",
    "\n",
    "# Sort the DataFrame by the 'plant_name' column\n",
    "hourly_df = hourly_df.sort_values(by=\"plant_name\")\n",
    "\n",
    "# Save the hourly data to an Excel file\n",
    "hourly_df.to_excel(output_file, index=False)\n",
    "\n",
    "print(f\"Hourly inflow data has been saved to: {output_file}\")"
   ]
  },
  {
   "cell_type": "code",
   "execution_count": null,
   "metadata": {},
   "outputs": [
    {
     "name": "stderr",
     "output_type": "stream",
     "text": [
      "INFO:pypsa.io:Imported network elec_s_all_ec_lcopt_24h.nc has buses, carriers, generators, lines, links, loads, storage_units, stores\n"
     ]
    },
    {
     "name": "stdout",
     "output_type": "stream",
     "text": [
      "\n",
      "Total consumption in TWh: 0.44\n",
      "DatetimeIndex(['2013-01-01', '2013-01-02', '2013-01-03', '2013-01-04',\n",
      "               '2013-01-05', '2013-01-06', '2013-01-07', '2013-01-08',\n",
      "               '2013-01-09', '2013-01-10',\n",
      "               ...\n",
      "               '2013-12-22', '2013-12-23', '2013-12-24', '2013-12-25',\n",
      "               '2013-12-26', '2013-12-27', '2013-12-28', '2013-12-29',\n",
      "               '2013-12-30', '2013-12-31'],\n",
      "              dtype='datetime64[ns]', name='snapshot', length=365, freq=None)\n",
      "DatetimeIndex(['2013-01-01', '2013-01-02', '2013-01-03', '2013-01-04',\n",
      "               '2013-01-05', '2013-01-06', '2013-01-07', '2013-01-08',\n",
      "               '2013-01-09', '2013-01-10',\n",
      "               ...\n",
      "               '2013-12-22', '2013-12-23', '2013-12-24', '2013-12-25',\n",
      "               '2013-12-26', '2013-12-27', '2013-12-28', '2013-12-29',\n",
      "               '2013-12-30', '2013-12-31'],\n",
      "              dtype='datetime64[ns]', name='snapshot', length=365, freq=None)\n",
      "None\n"
     ]
    },
    {
     "data": {
      "image/png": "[encoded data removed]",
      "text/plain": [
       "<Figure size 640x480 with 1 Axes>"
      ]
     },
     "metadata": {},
     "output_type": "display_data"
    }
   ],
   "source": []
  },
  {
   "cell_type": "code",
   "execution_count": 62,
   "metadata": {},
   "outputs": [
    {
     "data": {
      "application/vnd.plotly.v1+json": {
       "config": {
        "linkText": "Export to plot.ly",
        "plotlyServerURL": "https://plot.ly",
        "showLink": false
       },
       "data": [
        {
         "lat": [
          -6.7933,
          -6.7933
         ],
         "line": {
          "color": "darkseagreen",
          "width": 3
         },
         "lon": [
          39.2077,
          39.2077
         ],
         "mode": "lines",
         "opacity": 0.8,
         "type": "scattermapbox"
        },
        {
         "lat": [
          -2.543,
          -2.543
         ],
         "line": {
          "color": "darkseagreen",
          "width": 3
         },
         "lon": [
          32.967,
          32.967
         ],
         "mode": "lines",
         "opacity": 0.8,
         "type": "scattermapbox"
        },
        {
         "lat": [
          -6.7988,
          -6.7988
         ],
         "line": {
          "color": "darkseagreen",
          "width": 3
         },
         "lon": [
          37.6638,
          37.6638
         ],
         "mode": "lines",
         "opacity": 0.8,
         "type": "scattermapbox"
        },
        {
         "lat": [
          -8.9146,
          -8.9146
         ],
         "line": {
          "color": "darkseagreen",
          "width": 3
         },
         "lon": [
          33.4967,
          33.4967
         ],
         "mode": "lines",
         "opacity": 0.8,
         "type": "scattermapbox"
        },
        {
         "lat": [
          -3.4156,
          -3.4156
         ],
         "line": {
          "color": "darkseagreen",
          "width": 3
         },
         "lon": [
          36.711,
          36.711
         ],
         "mode": "lines",
         "opacity": 0.8,
         "type": "scattermapbox"
        },
        {
         "lat": [
          -3.6219,
          -3.6219
         ],
         "line": {
          "color": "darkseagreen",
          "width": 3
         },
         "lon": [
          33.5148,
          33.5148
         ],
         "mode": "lines",
         "opacity": 0.8,
         "type": "scattermapbox"
        },
        {
         "lat": [
          -6.1809,
          -6.1809
         ],
         "line": {
          "color": "darkseagreen",
          "width": 3
         },
         "lon": [
          35.6949,
          35.6949
         ],
         "mode": "lines",
         "opacity": 0.8,
         "type": "scattermapbox"
        },
        {
         "lat": [
          -7.1387,
          -7.1387
         ],
         "line": {
          "color": "darkseagreen",
          "width": 3
         },
         "lon": [
          35.9892,
          35.9892
         ],
         "mode": "lines",
         "opacity": 0.8,
         "type": "scattermapbox"
        },
        {
         "lat": [
          -1.3394,
          -1.3394
         ],
         "line": {
          "color": "darkseagreen",
          "width": 3
         },
         "lon": [
          31.7957,
          31.7957
         ],
         "mode": "lines",
         "opacity": 0.8,
         "type": "scattermapbox"
        },
        {
         "lat": [
          -1.2519,
          -1.2519
         ],
         "line": {
          "color": "darkseagreen",
          "width": 3
         },
         "lon": [
          31.413,
          31.413
         ],
         "mode": "lines",
         "opacity": 0.8,
         "type": "scattermapbox"
        },
        {
         "lat": [
          -6.7116,
          -6.7116
         ],
         "line": {
          "color": "darkseagreen",
          "width": 3
         },
         "lon": [
          38.7439,
          38.7439
         ],
         "mode": "lines",
         "opacity": 0.8,
         "type": "scattermapbox"
        },
        {
         "lat": [
          -8.6125,
          -8.6125
         ],
         "line": {
          "color": "darkseagreen",
          "width": 3
         },
         "lon": [
          35.8592,
          35.8592
         ],
         "mode": "lines",
         "opacity": 0.8,
         "type": "scattermapbox"
        },
        {
         "lat": [
          -8.736,
          -8.736
         ],
         "line": {
          "color": "darkseagreen",
          "width": 3
         },
         "lon": [
          35.2887,
          35.2887
         ],
         "mode": "lines",
         "opacity": 0.8,
         "type": "scattermapbox"
        },
        {
         "lat": [
          -4.2138,
          -4.2138
         ],
         "line": {
          "color": "darkseagreen",
          "width": 3
         },
         "lon": [
          35.7231,
          35.7231
         ],
         "mode": "lines",
         "opacity": 0.8,
         "type": "scattermapbox"
        },
        {
         "lat": [
          -6.8217,
          -6.8217
         ],
         "line": {
          "color": "darkseagreen",
          "width": 3
         },
         "lon": [
          39.2681,
          39.2681
         ],
         "mode": "lines",
         "opacity": 0.8,
         "type": "scattermapbox"
        },
        {
         "lat": [
          -4.8396,
          -4.8396
         ],
         "line": {
          "color": "darkseagreen",
          "width": 3
         },
         "lon": [
          34.7573,
          34.7573
         ],
         "mode": "lines",
         "opacity": 0.8,
         "type": "scattermapbox"
        },
        {
         "lat": [
          -6.6391,
          -6.6391
         ],
         "line": {
          "color": "darkseagreen",
          "width": 3
         },
         "lon": [
          38.3571,
          38.3571
         ],
         "mode": "lines",
         "opacity": 0.8,
         "type": "scattermapbox"
        },
        {
         "lat": [
          -4.0717,
          -4.0717
         ],
         "line": {
          "color": "darkseagreen",
          "width": 3
         },
         "lon": [
          37.7377,
          37.7377
         ],
         "mode": "lines",
         "opacity": 0.8,
         "type": "scattermapbox"
        },
        {
         "lat": [
          -7.7925,
          -7.7925
         ],
         "line": {
          "color": "darkseagreen",
          "width": 3
         },
         "lon": [
          35.7317,
          35.7317
         ],
         "mode": "lines",
         "opacity": 0.8,
         "type": "scattermapbox"
        },
        {
         "lat": [
          -1.4614,
          -1.4614
         ],
         "line": {
          "color": "darkseagreen",
          "width": 3
         },
         "lon": [
          34.5085,
          34.5085
         ],
         "mode": "lines",
         "opacity": 0.8,
         "type": "scattermapbox"
        },
        {
         "lat": [
          -7.6683,
          -7.6683
         ],
         "line": {
          "color": "darkseagreen",
          "width": 3
         },
         "lon": [
          36.976,
          36.976
         ],
         "mode": "lines",
         "opacity": 0.8,
         "type": "scattermapbox"
        },
        {
         "lat": [
          -5.0808,
          -5.0808
         ],
         "line": {
          "color": "darkseagreen",
          "width": 3
         },
         "lon": [
          39.0737,
          39.0737
         ],
         "mode": "lines",
         "opacity": 0.8,
         "type": "scattermapbox"
        },
        {
         "lat": [
          -3.2208,
          -3.2208
         ],
         "line": {
          "color": "darkseagreen",
          "width": 3
         },
         "lon": [
          32.4905,
          32.4905
         ],
         "mode": "lines",
         "opacity": 0.8,
         "type": "scattermapbox"
        },
        {
         "lat": [
          -5.3553,
          -5.3553
         ],
         "line": {
          "color": "darkseagreen",
          "width": 3
         },
         "lon": [
          38.6566,
          38.6566
         ],
         "mode": "lines",
         "opacity": 0.8,
         "type": "scattermapbox"
        },
        {
         "lat": [
          -6.8605,
          -6.8605
         ],
         "line": {
          "color": "darkseagreen",
          "width": 3
         },
         "lon": [
          39.2085,
          39.2085
         ],
         "mode": "lines",
         "opacity": 0.8,
         "type": "scattermapbox"
        },
        {
         "lat": [
          -6.6745,
          -6.6745
         ],
         "line": {
          "color": "darkseagreen",
          "width": 3
         },
         "lon": [
          39.1852,
          39.1852
         ],
         "mode": "lines",
         "opacity": 0.8,
         "type": "scattermapbox"
        },
        {
         "lat": [
          -6.8554,
          -6.8554
         ],
         "line": {
          "color": "darkseagreen",
          "width": 3
         },
         "lon": [
          39.1566,
          39.1566
         ],
         "mode": "lines",
         "opacity": 0.8,
         "type": "scattermapbox"
        },
        {
         "lat": [
          -2.9784,
          -2.9784
         ],
         "line": {
          "color": "darkseagreen",
          "width": 3
         },
         "lon": [
          33.1847,
          33.1847
         ],
         "mode": "lines",
         "opacity": 0.8,
         "type": "scattermapbox"
        },
        {
         "lat": [
          -6.8836,
          -6.8836
         ],
         "line": {
          "color": "darkseagreen",
          "width": 3
         },
         "lon": [
          39.1492,
          39.1492
         ],
         "mode": "lines",
         "opacity": 0.8,
         "type": "scattermapbox"
        },
        {
         "lat": [
          -10.1471,
          -10.1471
         ],
         "line": {
          "color": "darkseagreen",
          "width": 3
         },
         "lon": [
          39.589,
          39.589
         ],
         "mode": "lines",
         "opacity": 0.8,
         "type": "scattermapbox"
        },
        {
         "lat": [
          -10.2756,
          -10.2756
         ],
         "line": {
          "color": "darkseagreen",
          "width": 3
         },
         "lon": [
          40.2062,
          40.2062
         ],
         "mode": "lines",
         "opacity": 0.8,
         "type": "scattermapbox"
        },
        {
         "lat": [
          -6.921,
          -6.921
         ],
         "line": {
          "color": "darkseagreen",
          "width": 3
         },
         "lon": [
          39.2648,
          39.2648
         ],
         "mode": "lines",
         "opacity": 0.8,
         "type": "scattermapbox"
        },
        {
         "lat": [
          -6.8608,
          -6.8608
         ],
         "line": {
          "color": "darkseagreen",
          "width": 3
         },
         "lon": [
          39.2876,
          39.2876
         ],
         "mode": "lines",
         "opacity": 0.8,
         "type": "scattermapbox"
        },
        {
         "lat": [
          -6.9164,
          -6.9164
         ],
         "line": {
          "color": "darkseagreen",
          "width": 3
         },
         "lon": [
          39.4424,
          39.4424
         ],
         "mode": "lines",
         "opacity": 0.8,
         "type": "scattermapbox"
        },
        {
         "lat": [
          -5.298,
          -5.298
         ],
         "line": {
          "color": "darkseagreen",
          "width": 3
         },
         "lon": [
          38.6148,
          38.6148
         ],
         "mode": "lines",
         "opacity": 0.8,
         "type": "scattermapbox"
        },
        {
         "lat": [
          -6.6487,
          -6.6487
         ],
         "line": {
          "color": "darkseagreen",
          "width": 3
         },
         "lon": [
          38.3893,
          38.3893
         ],
         "mode": "lines",
         "opacity": 0.8,
         "type": "scattermapbox"
        },
        {
         "lat": [
          -8.8482,
          -8.8482
         ],
         "line": {
          "color": "darkseagreen",
          "width": 3
         },
         "lon": [
          34.8061,
          34.8061
         ],
         "mode": "lines",
         "opacity": 0.8,
         "type": "scattermapbox"
        },
        {
         "lat": [
          -3.861,
          -3.861
         ],
         "line": {
          "color": "darkseagreen",
          "width": 3
         },
         "lon": [
          32.6861,
          32.6861
         ],
         "mode": "lines",
         "opacity": 0.8,
         "type": "scattermapbox"
        },
        {
         "lat": [
          -4.0723,
          -4.0723
         ],
         "line": {
          "color": "darkseagreen",
          "width": 3
         },
         "lon": [
          33.1424,
          33.1424
         ],
         "mode": "lines",
         "opacity": 0.8,
         "type": "scattermapbox"
        },
        {
         "lat": [
          -1.6559,
          -1.6559
         ],
         "line": {
          "color": "darkseagreen",
          "width": 3
         },
         "lon": [
          31.5851,
          31.5851
         ],
         "mode": "lines",
         "opacity": 0.8,
         "type": "scattermapbox"
        },
        {
         "lat": [
          -3.4211,
          -3.4211
         ],
         "line": {
          "color": "darkseagreen",
          "width": 3
         },
         "lon": [
          37.3141,
          37.3141
         ],
         "mode": "lines",
         "opacity": 0.8,
         "type": "scattermapbox"
        },
        {
         "lat": [
          -1.6013,
          -1.6013
         ],
         "line": {
          "color": "darkseagreen",
          "width": 3
         },
         "lon": [
          31.1405,
          31.1405
         ],
         "mode": "lines",
         "opacity": 0.8,
         "type": "scattermapbox"
        },
        {
         "lat": [
          -3.8494,
          -3.8494
         ],
         "line": {
          "color": "darkseagreen",
          "width": 3
         },
         "lon": [
          35.5573,
          35.5573
         ],
         "mode": "lines",
         "opacity": 0.8,
         "type": "scattermapbox"
        },
        {
         "lat": [
          -4.9151,
          -4.9151
         ],
         "line": {
          "color": "darkseagreen",
          "width": 3
         },
         "lon": [
          35.8113,
          35.8113
         ],
         "mode": "lines",
         "opacity": 0.8,
         "type": "scattermapbox"
        },
        {
         "lat": [
          -3.8264,
          -3.8264
         ],
         "line": {
          "color": "darkseagreen",
          "width": 3
         },
         "lon": [
          37.4685,
          37.4685
         ],
         "mode": "lines",
         "opacity": 0.8,
         "type": "scattermapbox"
        },
        {
         "lat": [
          -2.03,
          -2.03
         ],
         "line": {
          "color": "darkseagreen",
          "width": 3
         },
         "lon": [
          33.859,
          33.859
         ],
         "mode": "lines",
         "opacity": 0.8,
         "type": "scattermapbox"
        },
        {
         "lat": [
          -1.5343,
          -1.5343
         ],
         "line": {
          "color": "darkseagreen",
          "width": 3
         },
         "lon": [
          33.8353,
          33.8353
         ],
         "mode": "lines",
         "opacity": 0.8,
         "type": "scattermapbox"
        },
        {
         "lat": [
          -7.6637,
          -7.6637
         ],
         "line": {
          "color": "darkseagreen",
          "width": 3
         },
         "lon": [
          36.9672,
          36.9672
         ],
         "mode": "lines",
         "opacity": 0.8,
         "type": "scattermapbox"
        },
        {
         "lat": [
          -6.3177,
          -6.3177
         ],
         "line": {
          "color": "darkseagreen",
          "width": 3
         },
         "lon": [
          39.2772,
          39.2772
         ],
         "mode": "lines",
         "opacity": 0.8,
         "type": "scattermapbox"
        },
        {
         "lat": [
          -3.3762,
          -3.3762
         ],
         "line": {
          "color": "darkseagreen",
          "width": 3
         },
         "lon": [
          37.0667,
          37.0667
         ],
         "mode": "lines",
         "opacity": 0.8,
         "type": "scattermapbox"
        },
        {
         "lat": [
          -6.8061,
          -6.8061
         ],
         "line": {
          "color": "darkseagreen",
          "width": 3
         },
         "lon": [
          39.1568,
          39.1568
         ],
         "mode": "lines",
         "opacity": 0.8,
         "type": "scattermapbox"
        },
        {
         "lat": [
          -6.7608,
          -6.7608
         ],
         "line": {
          "color": "darkseagreen",
          "width": 3
         },
         "lon": [
          37.8762,
          37.8762
         ],
         "mode": "lines",
         "opacity": 0.8,
         "type": "scattermapbox"
        },
        {
         "lat": [
          -6.7771,
          -6.7771
         ],
         "line": {
          "color": "darkseagreen",
          "width": 3
         },
         "lon": [
          37.6944,
          37.6944
         ],
         "mode": "lines",
         "opacity": 0.8,
         "type": "scattermapbox"
        },
        {
         "lat": [
          -6.7873,
          -6.7873
         ],
         "line": {
          "color": "darkseagreen",
          "width": 3
         },
         "lon": [
          37.7496,
          37.7496
         ],
         "mode": "lines",
         "opacity": 0.8,
         "type": "scattermapbox"
        },
        {
         "lat": [
          -6.7856,
          -6.7856
         ],
         "line": {
          "color": "darkseagreen",
          "width": 3
         },
         "lon": [
          37.7889,
          37.7889
         ],
         "mode": "lines",
         "opacity": 0.8,
         "type": "scattermapbox"
        },
        {
         "lat": [
          -6.7698,
          -6.7698
         ],
         "line": {
          "color": "darkseagreen",
          "width": 3
         },
         "lon": [
          37.8085,
          37.8085
         ],
         "mode": "lines",
         "opacity": 0.8,
         "type": "scattermapbox"
        },
        {
         "lat": [
          -6.7726,
          -6.7726
         ],
         "line": {
          "color": "darkseagreen",
          "width": 3
         },
         "lon": [
          37.8334,
          37.8334
         ],
         "mode": "lines",
         "opacity": 0.8,
         "type": "scattermapbox"
        },
        {
         "lat": [
          -6.7893,
          -6.7893
         ],
         "line": {
          "color": "darkseagreen",
          "width": 3
         },
         "lon": [
          37.7658,
          37.7658
         ],
         "mode": "lines",
         "opacity": 0.8,
         "type": "scattermapbox"
        },
        {
         "lat": [
          -6.7831,
          -6.7831
         ],
         "line": {
          "color": "darkseagreen",
          "width": 3
         },
         "lon": [
          37.797,
          37.797
         ],
         "mode": "lines",
         "opacity": 0.8,
         "type": "scattermapbox"
        },
        {
         "lat": [
          -6.7943,
          -6.7943
         ],
         "line": {
          "color": "darkseagreen",
          "width": 3
         },
         "lon": [
          37.723,
          37.723
         ],
         "mode": "lines",
         "opacity": 0.8,
         "type": "scattermapbox"
        },
        {
         "lat": [
          -6.8114,
          -6.8114
         ],
         "line": {
          "color": "darkseagreen",
          "width": 3
         },
         "lon": [
          38.6517,
          38.6517
         ],
         "mode": "lines",
         "opacity": 0.8,
         "type": "scattermapbox"
        },
        {
         "lat": [
          -6.8357,
          -6.8357
         ],
         "line": {
          "color": "darkseagreen",
          "width": 3
         },
         "lon": [
          38.65,
          38.65
         ],
         "mode": "lines",
         "opacity": 0.8,
         "type": "scattermapbox"
        },
        {
         "lat": [
          -6.794,
          -6.794
         ],
         "line": {
          "color": "darkseagreen",
          "width": 3
         },
         "lon": [
          38.2002,
          38.2002
         ],
         "mode": "lines",
         "opacity": 0.8,
         "type": "scattermapbox"
        },
        {
         "lat": [
          -6.8034,
          -6.8034
         ],
         "line": {
          "color": "darkseagreen",
          "width": 3
         },
         "lon": [
          36.9672,
          36.9672
         ],
         "mode": "lines",
         "opacity": 0.8,
         "type": "scattermapbox"
        },
        {
         "lat": [
          -6.6334,
          -6.6334
         ],
         "line": {
          "color": "darkseagreen",
          "width": 3
         },
         "lon": [
          36.693,
          36.693
         ],
         "mode": "lines",
         "opacity": 0.8,
         "type": "scattermapbox"
        },
        {
         "lat": [
          -6.3639,
          -6.3639
         ],
         "line": {
          "color": "darkseagreen",
          "width": 3
         },
         "lon": [
          36.2683,
          36.2683
         ],
         "mode": "lines",
         "opacity": 0.8,
         "type": "scattermapbox"
        },
        {
         "lat": [
          -6.191,
          -6.191
         ],
         "line": {
          "color": "darkseagreen",
          "width": 3
         },
         "lon": [
          35.9289,
          35.9289
         ],
         "mode": "lines",
         "opacity": 0.8,
         "type": "scattermapbox"
        },
        {
         "lat": [
          -5.9449,
          -5.9449
         ],
         "line": {
          "color": "darkseagreen",
          "width": 3
         },
         "lon": [
          35.2746,
          35.2746
         ],
         "mode": "lines",
         "opacity": 0.8,
         "type": "scattermapbox"
        },
        {
         "lat": [
          -5.8807,
          -5.8807
         ],
         "line": {
          "color": "darkseagreen",
          "width": 3
         },
         "lon": [
          35.2092,
          35.2092
         ],
         "mode": "lines",
         "opacity": 0.8,
         "type": "scattermapbox"
        },
        {
         "lat": [
          -6.9008,
          -6.9008
         ],
         "line": {
          "color": "darkseagreen",
          "width": 3
         },
         "lon": [
          39.3244,
          39.3244
         ],
         "mode": "lines",
         "opacity": 0.8,
         "type": "scattermapbox"
        },
        {
         "lat": [
          -2.9904,
          -2.9904
         ],
         "line": {
          "color": "darkseagreen",
          "width": 3
         },
         "lon": [
          31.2136,
          31.2136
         ],
         "mode": "lines",
         "opacity": 0.8,
         "type": "scattermapbox"
        },
        {
         "lat": [
          -3.3922,
          -3.3922
         ],
         "line": {
          "color": "darkseagreen",
          "width": 3
         },
         "lon": [
          36.278,
          36.278
         ],
         "mode": "lines",
         "opacity": 0.8,
         "type": "scattermapbox"
        },
        {
         "lat": [
          -6.7582,
          -6.7582
         ],
         "line": {
          "color": "darkseagreen",
          "width": 3
         },
         "lon": [
          37.3769,
          37.3769
         ],
         "mode": "lines",
         "opacity": 0.8,
         "type": "scattermapbox"
        },
        {
         "lat": [
          -2.9179,
          -2.9179
         ],
         "line": {
          "color": "darkseagreen",
          "width": 3
         },
         "lon": [
          32.1929,
          32.1929
         ],
         "mode": "lines",
         "opacity": 0.8,
         "type": "scattermapbox"
        },
        {
         "lat": [
          -3.4182,
          -3.4182
         ],
         "line": {
          "color": "darkseagreen",
          "width": 3
         },
         "lon": [
          36.5755,
          36.5755
         ],
         "mode": "lines",
         "opacity": 0.8,
         "type": "scattermapbox"
        },
        {
         "lat": [
          -6.1882,
          -6.1882
         ],
         "line": {
          "color": "darkseagreen",
          "width": 3
         },
         "lon": [
          35.5711,
          35.5711
         ],
         "mode": "lines",
         "opacity": 0.8,
         "type": "scattermapbox"
        },
        {
         "lat": [
          -6.6616,
          -6.6616
         ],
         "line": {
          "color": "darkseagreen",
          "width": 3
         },
         "lon": [
          36.7097,
          36.7097
         ],
         "mode": "lines",
         "opacity": 0.8,
         "type": "scattermapbox"
        },
        {
         "lat": [
          -7.7772,
          -7.7772
         ],
         "line": {
          "color": "darkseagreen",
          "width": 3
         },
         "lon": [
          37.8406,
          37.8406
         ],
         "mode": "lines",
         "opacity": 0.8,
         "type": "scattermapbox"
        },
        {
         "lat": [
          -6.6373,
          -6.6373
         ],
         "line": {
          "color": "darkseagreen",
          "width": 3
         },
         "lon": [
          39.1995,
          39.1995
         ],
         "mode": "lines",
         "opacity": 0.8,
         "type": "scattermapbox"
        },
        {
         "lat": [
          -1.7027,
          -1.7027
         ],
         "line": {
          "color": "darkseagreen",
          "width": 3
         },
         "lon": [
          31.6273,
          31.6273
         ],
         "mode": "lines",
         "opacity": 0.8,
         "type": "scattermapbox"
        },
        {
         "lat": [
          -1.3937,
          -1.3937
         ],
         "line": {
          "color": "darkseagreen",
          "width": 3
         },
         "lon": [
          31.7668,
          31.7668
         ],
         "mode": "lines",
         "opacity": 0.8,
         "type": "scattermapbox"
        },
        {
         "lat": [
          -1.7828,
          -1.7828
         ],
         "line": {
          "color": "darkseagreen",
          "width": 3
         },
         "lon": [
          31.5506,
          31.5506
         ],
         "mode": "lines",
         "opacity": 0.8,
         "type": "scattermapbox"
        },
        {
         "lat": [
          -1.3336,
          -1.3336
         ],
         "line": {
          "color": "darkseagreen",
          "width": 3
         },
         "lon": [
          31.8202,
          31.8202
         ],
         "mode": "lines",
         "opacity": 0.8,
         "type": "scattermapbox"
        },
        {
         "lat": [
          -3.3411,
          -3.3411
         ],
         "line": {
          "color": "darkseagreen",
          "width": 3
         },
         "lon": [
          35.667,
          35.667
         ],
         "mode": "lines",
         "opacity": 0.8,
         "type": "scattermapbox"
        },
        {
         "lat": [
          -4.9986,
          -4.9986
         ],
         "line": {
          "color": "darkseagreen",
          "width": 3
         },
         "lon": [
          32.8102,
          32.8102
         ],
         "mode": "lines",
         "opacity": 0.8,
         "type": "scattermapbox"
        },
        {
         "lat": [
          -5.2856,
          -5.2856
         ],
         "line": {
          "color": "darkseagreen",
          "width": 3
         },
         "lon": [
          38.636,
          38.636
         ],
         "mode": "lines",
         "opacity": 0.8,
         "type": "scattermapbox"
        },
        {
         "lat": [
          -6.1383,
          -6.1383
         ],
         "line": {
          "color": "darkseagreen",
          "width": 3
         },
         "lon": [
          39.2185,
          39.2185
         ],
         "mode": "lines",
         "opacity": 0.8,
         "type": "scattermapbox"
        },
        {
         "lat": [
          -6.871,
          -6.871
         ],
         "line": {
          "color": "darkseagreen",
          "width": 3
         },
         "lon": [
          39.0628,
          39.0628
         ],
         "mode": "lines",
         "opacity": 0.8,
         "type": "scattermapbox"
        },
        {
         "lat": [
          -6.5586,
          -6.5586
         ],
         "line": {
          "color": "darkseagreen",
          "width": 3
         },
         "lon": [
          36.6172,
          36.6172
         ],
         "mode": "lines",
         "opacity": 0.8,
         "type": "scattermapbox"
        },
        {
         "lat": [
          -2.387,
          -2.387
         ],
         "line": {
          "color": "darkseagreen",
          "width": 3
         },
         "lon": [
          30.7929,
          30.7929
         ],
         "mode": "lines",
         "opacity": 0.8,
         "type": "scattermapbox"
        },
        {
         "lat": [
          -10.6415,
          -10.6415
         ],
         "line": {
          "color": "darkseagreen",
          "width": 3
         },
         "lon": [
          35.6765,
          35.6765
         ],
         "mode": "lines",
         "opacity": 0.8,
         "type": "scattermapbox"
        },
        {
         "lat": [
          -6.7204,
          -6.7204
         ],
         "line": {
          "color": "darkseagreen",
          "width": 3
         },
         "lon": [
          36.8371,
          36.8371
         ],
         "mode": "lines",
         "opacity": 0.8,
         "type": "scattermapbox"
        },
        {
         "lat": [
          -6.8108,
          -6.8108
         ],
         "line": {
          "color": "darkseagreen",
          "width": 3
         },
         "lon": [
          37.6277,
          37.6277
         ],
         "mode": "lines",
         "opacity": 0.8,
         "type": "scattermapbox"
        },
        {
         "lat": [
          -6.8133,
          -6.8133
         ],
         "line": {
          "color": "darkseagreen",
          "width": 3
         },
         "lon": [
          37.066,
          37.066
         ],
         "mode": "lines",
         "opacity": 0.8,
         "type": "scattermapbox"
        },
        {
         "lat": [
          -6.7647,
          -6.7647
         ],
         "line": {
          "color": "darkseagreen",
          "width": 3
         },
         "lon": [
          36.9398,
          36.9398
         ],
         "mode": "lines",
         "opacity": 0.8,
         "type": "scattermapbox"
        },
        {
         "lat": [
          -6.7933,
          -6.7933
         ],
         "line": {
          "color": "darkseagreen",
          "width": 3
         },
         "lon": [
          39.2077,
          39.2077
         ],
         "mode": "lines",
         "opacity": 0.8,
         "type": "scattermapbox"
        },
        {
         "lat": [
          -2.543,
          -2.543
         ],
         "line": {
          "color": "darkseagreen",
          "width": 3
         },
         "lon": [
          32.967,
          32.967
         ],
         "mode": "lines",
         "opacity": 0.8,
         "type": "scattermapbox"
        },
        {
         "lat": [
          -6.7988,
          -6.7988
         ],
         "line": {
          "color": "darkseagreen",
          "width": 3
         },
         "lon": [
          37.6638,
          37.6638
         ],
         "mode": "lines",
         "opacity": 0.8,
         "type": "scattermapbox"
        },
        {
         "lat": [
          -8.9146,
          -8.9146
         ],
         "line": {
          "color": "darkseagreen",
          "width": 3
         },
         "lon": [
          33.4967,
          33.4967
         ],
         "mode": "lines",
         "opacity": 0.8,
         "type": "scattermapbox"
        },
        {
         "lat": [
          -3.4156,
          -3.4156
         ],
         "line": {
          "color": "darkseagreen",
          "width": 3
         },
         "lon": [
          36.711,
          36.711
         ],
         "mode": "lines",
         "opacity": 0.8,
         "type": "scattermapbox"
        },
        {
         "lat": [
          -3.6219,
          -3.6219
         ],
         "line": {
          "color": "darkseagreen",
          "width": 3
         },
         "lon": [
          33.5148,
          33.5148
         ],
         "mode": "lines",
         "opacity": 0.8,
         "type": "scattermapbox"
        },
        {
         "lat": [
          -6.1809,
          -6.1809
         ],
         "line": {
          "color": "darkseagreen",
          "width": 3
         },
         "lon": [
          35.6949,
          35.6949
         ],
         "mode": "lines",
         "opacity": 0.8,
         "type": "scattermapbox"
        },
        {
         "lat": [
          -7.1387,
          -7.1387
         ],
         "line": {
          "color": "darkseagreen",
          "width": 3
         },
         "lon": [
          35.9892,
          35.9892
         ],
         "mode": "lines",
         "opacity": 0.8,
         "type": "scattermapbox"
        },
        {
         "lat": [
          -1.3394,
          -1.3394
         ],
         "line": {
          "color": "darkseagreen",
          "width": 3
         },
         "lon": [
          31.7957,
          31.7957
         ],
         "mode": "lines",
         "opacity": 0.8,
         "type": "scattermapbox"
        },
        {
         "lat": [
          -1.2519,
          -1.2519
         ],
         "line": {
          "color": "darkseagreen",
          "width": 3
         },
         "lon": [
          31.413,
          31.413
         ],
         "mode": "lines",
         "opacity": 0.8,
         "type": "scattermapbox"
        },
        {
         "lat": [
          -6.7116,
          -6.7116
         ],
         "line": {
          "color": "darkseagreen",
          "width": 3
         },
         "lon": [
          38.7439,
          38.7439
         ],
         "mode": "lines",
         "opacity": 0.8,
         "type": "scattermapbox"
        },
        {
         "lat": [
          -8.6125,
          -8.6125
         ],
         "line": {
          "color": "darkseagreen",
          "width": 3
         },
         "lon": [
          35.8592,
          35.8592
         ],
         "mode": "lines",
         "opacity": 0.8,
         "type": "scattermapbox"
        },
        {
         "lat": [
          -8.736,
          -8.736
         ],
         "line": {
          "color": "darkseagreen",
          "width": 3
         },
         "lon": [
          35.2887,
          35.2887
         ],
         "mode": "lines",
         "opacity": 0.8,
         "type": "scattermapbox"
        },
        {
         "lat": [
          -4.2138,
          -4.2138
         ],
         "line": {
          "color": "darkseagreen",
          "width": 3
         },
         "lon": [
          35.7231,
          35.7231
         ],
         "mode": "lines",
         "opacity": 0.8,
         "type": "scattermapbox"
        },
        {
         "lat": [
          -6.8217,
          -6.8217
         ],
         "line": {
          "color": "darkseagreen",
          "width": 3
         },
         "lon": [
          39.2681,
          39.2681
         ],
         "mode": "lines",
         "opacity": 0.8,
         "type": "scattermapbox"
        },
        {
         "lat": [
          -4.8396,
          -4.8396
         ],
         "line": {
          "color": "darkseagreen",
          "width": 3
         },
         "lon": [
          34.7573,
          34.7573
         ],
         "mode": "lines",
         "opacity": 0.8,
         "type": "scattermapbox"
        },
        {
         "lat": [
          -6.6391,
          -6.6391
         ],
         "line": {
          "color": "darkseagreen",
          "width": 3
         },
         "lon": [
          38.3571,
          38.3571
         ],
         "mode": "lines",
         "opacity": 0.8,
         "type": "scattermapbox"
        },
        {
         "lat": [
          -4.0717,
          -4.0717
         ],
         "line": {
          "color": "darkseagreen",
          "width": 3
         },
         "lon": [
          37.7377,
          37.7377
         ],
         "mode": "lines",
         "opacity": 0.8,
         "type": "scattermapbox"
        },
        {
         "lat": [
          -7.7925,
          -7.7925
         ],
         "line": {
          "color": "darkseagreen",
          "width": 3
         },
         "lon": [
          35.7317,
          35.7317
         ],
         "mode": "lines",
         "opacity": 0.8,
         "type": "scattermapbox"
        },
        {
         "lat": [
          -1.4614,
          -1.4614
         ],
         "line": {
          "color": "darkseagreen",
          "width": 3
         },
         "lon": [
          34.5085,
          34.5085
         ],
         "mode": "lines",
         "opacity": 0.8,
         "type": "scattermapbox"
        },
        {
         "lat": [
          -7.6683,
          -7.6683
         ],
         "line": {
          "color": "darkseagreen",
          "width": 3
         },
         "lon": [
          36.976,
          36.976
         ],
         "mode": "lines",
         "opacity": 0.8,
         "type": "scattermapbox"
        },
        {
         "lat": [
          -5.0808,
          -5.0808
         ],
         "line": {
          "color": "darkseagreen",
          "width": 3
         },
         "lon": [
          39.0737,
          39.0737
         ],
         "mode": "lines",
         "opacity": 0.8,
         "type": "scattermapbox"
        },
        {
         "lat": [
          -3.2208,
          -3.2208
         ],
         "line": {
          "color": "darkseagreen",
          "width": 3
         },
         "lon": [
          32.4905,
          32.4905
         ],
         "mode": "lines",
         "opacity": 0.8,
         "type": "scattermapbox"
        },
        {
         "lat": [
          -5.3553,
          -5.3553
         ],
         "line": {
          "color": "darkseagreen",
          "width": 3
         },
         "lon": [
          38.6566,
          38.6566
         ],
         "mode": "lines",
         "opacity": 0.8,
         "type": "scattermapbox"
        },
        {
         "lat": [
          -6.8605,
          -6.8605
         ],
         "line": {
          "color": "darkseagreen",
          "width": 3
         },
         "lon": [
          39.2085,
          39.2085
         ],
         "mode": "lines",
         "opacity": 0.8,
         "type": "scattermapbox"
        },
        {
         "lat": [
          -6.6745,
          -6.6745
         ],
         "line": {
          "color": "darkseagreen",
          "width": 3
         },
         "lon": [
          39.1852,
          39.1852
         ],
         "mode": "lines",
         "opacity": 0.8,
         "type": "scattermapbox"
        },
        {
         "lat": [
          -6.8554,
          -6.8554
         ],
         "line": {
          "color": "darkseagreen",
          "width": 3
         },
         "lon": [
          39.1566,
          39.1566
         ],
         "mode": "lines",
         "opacity": 0.8,
         "type": "scattermapbox"
        },
        {
         "lat": [
          -2.9784,
          -2.9784
         ],
         "line": {
          "color": "darkseagreen",
          "width": 3
         },
         "lon": [
          33.1847,
          33.1847
         ],
         "mode": "lines",
         "opacity": 0.8,
         "type": "scattermapbox"
        },
        {
         "lat": [
          -6.8836,
          -6.8836
         ],
         "line": {
          "color": "darkseagreen",
          "width": 3
         },
         "lon": [
          39.1492,
          39.1492
         ],
         "mode": "lines",
         "opacity": 0.8,
         "type": "scattermapbox"
        },
        {
         "lat": [
          -10.1471,
          -10.1471
         ],
         "line": {
          "color": "darkseagreen",
          "width": 3
         },
         "lon": [
          39.589,
          39.589
         ],
         "mode": "lines",
         "opacity": 0.8,
         "type": "scattermapbox"
        },
        {
         "lat": [
          -10.2756,
          -10.2756
         ],
         "line": {
          "color": "darkseagreen",
          "width": 3
         },
         "lon": [
          40.2062,
          40.2062
         ],
         "mode": "lines",
         "opacity": 0.8,
         "type": "scattermapbox"
        },
        {
         "lat": [
          -6.921,
          -6.921
         ],
         "line": {
          "color": "darkseagreen",
          "width": 3
         },
         "lon": [
          39.2648,
          39.2648
         ],
         "mode": "lines",
         "opacity": 0.8,
         "type": "scattermapbox"
        },
        {
         "lat": [
          -6.8608,
          -6.8608
         ],
         "line": {
          "color": "darkseagreen",
          "width": 3
         },
         "lon": [
          39.2876,
          39.2876
         ],
         "mode": "lines",
         "opacity": 0.8,
         "type": "scattermapbox"
        },
        {
         "lat": [
          -6.9164,
          -6.9164
         ],
         "line": {
          "color": "darkseagreen",
          "width": 3
         },
         "lon": [
          39.4424,
          39.4424
         ],
         "mode": "lines",
         "opacity": 0.8,
         "type": "scattermapbox"
        },
        {
         "lat": [
          -5.298,
          -5.298
         ],
         "line": {
          "color": "darkseagreen",
          "width": 3
         },
         "lon": [
          38.6148,
          38.6148
         ],
         "mode": "lines",
         "opacity": 0.8,
         "type": "scattermapbox"
        },
        {
         "lat": [
          -6.6487,
          -6.6487
         ],
         "line": {
          "color": "darkseagreen",
          "width": 3
         },
         "lon": [
          38.3893,
          38.3893
         ],
         "mode": "lines",
         "opacity": 0.8,
         "type": "scattermapbox"
        },
        {
         "lat": [
          -8.8482,
          -8.8482
         ],
         "line": {
          "color": "darkseagreen",
          "width": 3
         },
         "lon": [
          34.8061,
          34.8061
         ],
         "mode": "lines",
         "opacity": 0.8,
         "type": "scattermapbox"
        },
        {
         "lat": [
          -3.861,
          -3.861
         ],
         "line": {
          "color": "darkseagreen",
          "width": 3
         },
         "lon": [
          32.6861,
          32.6861
         ],
         "mode": "lines",
         "opacity": 0.8,
         "type": "scattermapbox"
        },
        {
         "lat": [
          -4.0723,
          -4.0723
         ],
         "line": {
          "color": "darkseagreen",
          "width": 3
         },
         "lon": [
          33.1424,
          33.1424
         ],
         "mode": "lines",
         "opacity": 0.8,
         "type": "scattermapbox"
        },
        {
         "lat": [
          -1.6559,
          -1.6559
         ],
         "line": {
          "color": "darkseagreen",
          "width": 3
         },
         "lon": [
          31.5851,
          31.5851
         ],
         "mode": "lines",
         "opacity": 0.8,
         "type": "scattermapbox"
        },
        {
         "lat": [
          -3.4211,
          -3.4211
         ],
         "line": {
          "color": "darkseagreen",
          "width": 3
         },
         "lon": [
          37.3141,
          37.3141
         ],
         "mode": "lines",
         "opacity": 0.8,
         "type": "scattermapbox"
        },
        {
         "lat": [
          -1.6013,
          -1.6013
         ],
         "line": {
          "color": "darkseagreen",
          "width": 3
         },
         "lon": [
          31.1405,
          31.1405
         ],
         "mode": "lines",
         "opacity": 0.8,
         "type": "scattermapbox"
        },
        {
         "lat": [
          -3.8494,
          -3.8494
         ],
         "line": {
          "color": "darkseagreen",
          "width": 3
         },
         "lon": [
          35.5573,
          35.5573
         ],
         "mode": "lines",
         "opacity": 0.8,
         "type": "scattermapbox"
        },
        {
         "lat": [
          -4.9151,
          -4.9151
         ],
         "line": {
          "color": "darkseagreen",
          "width": 3
         },
         "lon": [
          35.8113,
          35.8113
         ],
         "mode": "lines",
         "opacity": 0.8,
         "type": "scattermapbox"
        },
        {
         "lat": [
          -3.8264,
          -3.8264
         ],
         "line": {
          "color": "darkseagreen",
          "width": 3
         },
         "lon": [
          37.4685,
          37.4685
         ],
         "mode": "lines",
         "opacity": 0.8,
         "type": "scattermapbox"
        },
        {
         "lat": [
          -2.03,
          -2.03
         ],
         "line": {
          "color": "darkseagreen",
          "width": 3
         },
         "lon": [
          33.859,
          33.859
         ],
         "mode": "lines",
         "opacity": 0.8,
         "type": "scattermapbox"
        },
        {
         "lat": [
          -1.5343,
          -1.5343
         ],
         "line": {
          "color": "darkseagreen",
          "width": 3
         },
         "lon": [
          33.8353,
          33.8353
         ],
         "mode": "lines",
         "opacity": 0.8,
         "type": "scattermapbox"
        },
        {
         "lat": [
          -7.6637,
          -7.6637
         ],
         "line": {
          "color": "darkseagreen",
          "width": 3
         },
         "lon": [
          36.9672,
          36.9672
         ],
         "mode": "lines",
         "opacity": 0.8,
         "type": "scattermapbox"
        },
        {
         "lat": [
          -6.3177,
          -6.3177
         ],
         "line": {
          "color": "darkseagreen",
          "width": 3
         },
         "lon": [
          39.2772,
          39.2772
         ],
         "mode": "lines",
         "opacity": 0.8,
         "type": "scattermapbox"
        },
        {
         "lat": [
          -3.3762,
          -3.3762
         ],
         "line": {
          "color": "darkseagreen",
          "width": 3
         },
         "lon": [
          37.0667,
          37.0667
         ],
         "mode": "lines",
         "opacity": 0.8,
         "type": "scattermapbox"
        },
        {
         "lat": [
          -6.8061,
          -6.8061
         ],
         "line": {
          "color": "darkseagreen",
          "width": 3
         },
         "lon": [
          39.1568,
          39.1568
         ],
         "mode": "lines",
         "opacity": 0.8,
         "type": "scattermapbox"
        },
        {
         "lat": [
          -6.7608,
          -6.7608
         ],
         "line": {
          "color": "darkseagreen",
          "width": 3
         },
         "lon": [
          37.8762,
          37.8762
         ],
         "mode": "lines",
         "opacity": 0.8,
         "type": "scattermapbox"
        },
        {
         "lat": [
          -6.7771,
          -6.7771
         ],
         "line": {
          "color": "darkseagreen",
          "width": 3
         },
         "lon": [
          37.6944,
          37.6944
         ],
         "mode": "lines",
         "opacity": 0.8,
         "type": "scattermapbox"
        },
        {
         "lat": [
          -6.7873,
          -6.7873
         ],
         "line": {
          "color": "darkseagreen",
          "width": 3
         },
         "lon": [
          37.7496,
          37.7496
         ],
         "mode": "lines",
         "opacity": 0.8,
         "type": "scattermapbox"
        },
        {
         "lat": [
          -6.7856,
          -6.7856
         ],
         "line": {
          "color": "darkseagreen",
          "width": 3
         },
         "lon": [
          37.7889,
          37.7889
         ],
         "mode": "lines",
         "opacity": 0.8,
         "type": "scattermapbox"
        },
        {
         "lat": [
          -6.7698,
          -6.7698
         ],
         "line": {
          "color": "darkseagreen",
          "width": 3
         },
         "lon": [
          37.8085,
          37.8085
         ],
         "mode": "lines",
         "opacity": 0.8,
         "type": "scattermapbox"
        },
        {
         "lat": [
          -6.7726,
          -6.7726
         ],
         "line": {
          "color": "darkseagreen",
          "width": 3
         },
         "lon": [
          37.8334,
          37.8334
         ],
         "mode": "lines",
         "opacity": 0.8,
         "type": "scattermapbox"
        },
        {
         "lat": [
          -6.7893,
          -6.7893
         ],
         "line": {
          "color": "darkseagreen",
          "width": 3
         },
         "lon": [
          37.7658,
          37.7658
         ],
         "mode": "lines",
         "opacity": 0.8,
         "type": "scattermapbox"
        },
        {
         "lat": [
          -6.7831,
          -6.7831
         ],
         "line": {
          "color": "darkseagreen",
          "width": 3
         },
         "lon": [
          37.797,
          37.797
         ],
         "mode": "lines",
         "opacity": 0.8,
         "type": "scattermapbox"
        },
        {
         "lat": [
          -6.7943,
          -6.7943
         ],
         "line": {
          "color": "darkseagreen",
          "width": 3
         },
         "lon": [
          37.723,
          37.723
         ],
         "mode": "lines",
         "opacity": 0.8,
         "type": "scattermapbox"
        },
        {
         "lat": [
          -6.8114,
          -6.8114
         ],
         "line": {
          "color": "darkseagreen",
          "width": 3
         },
         "lon": [
          38.6517,
          38.6517
         ],
         "mode": "lines",
         "opacity": 0.8,
         "type": "scattermapbox"
        },
        {
         "lat": [
          -6.8357,
          -6.8357
         ],
         "line": {
          "color": "darkseagreen",
          "width": 3
         },
         "lon": [
          38.65,
          38.65
         ],
         "mode": "lines",
         "opacity": 0.8,
         "type": "scattermapbox"
        },
        {
         "lat": [
          -6.794,
          -6.794
         ],
         "line": {
          "color": "darkseagreen",
          "width": 3
         },
         "lon": [
          38.2002,
          38.2002
         ],
         "mode": "lines",
         "opacity": 0.8,
         "type": "scattermapbox"
        },
        {
         "lat": [
          -6.8034,
          -6.8034
         ],
         "line": {
          "color": "darkseagreen",
          "width": 3
         },
         "lon": [
          36.9672,
          36.9672
         ],
         "mode": "lines",
         "opacity": 0.8,
         "type": "scattermapbox"
        },
        {
         "lat": [
          -6.6334,
          -6.6334
         ],
         "line": {
          "color": "darkseagreen",
          "width": 3
         },
         "lon": [
          36.693,
          36.693
         ],
         "mode": "lines",
         "opacity": 0.8,
         "type": "scattermapbox"
        },
        {
         "lat": [
          -6.3639,
          -6.3639
         ],
         "line": {
          "color": "darkseagreen",
          "width": 3
         },
         "lon": [
          36.2683,
          36.2683
         ],
         "mode": "lines",
         "opacity": 0.8,
         "type": "scattermapbox"
        },
        {
         "lat": [
          -6.191,
          -6.191
         ],
         "line": {
          "color": "darkseagreen",
          "width": 3
         },
         "lon": [
          35.9289,
          35.9289
         ],
         "mode": "lines",
         "opacity": 0.8,
         "type": "scattermapbox"
        },
        {
         "lat": [
          -5.9449,
          -5.9449
         ],
         "line": {
          "color": "darkseagreen",
          "width": 3
         },
         "lon": [
          35.2746,
          35.2746
         ],
         "mode": "lines",
         "opacity": 0.8,
         "type": "scattermapbox"
        },
        {
         "lat": [
          -5.8807,
          -5.8807
         ],
         "line": {
          "color": "darkseagreen",
          "width": 3
         },
         "lon": [
          35.2092,
          35.2092
         ],
         "mode": "lines",
         "opacity": 0.8,
         "type": "scattermapbox"
        },
        {
         "lat": [
          -6.9008,
          -6.9008
         ],
         "line": {
          "color": "darkseagreen",
          "width": 3
         },
         "lon": [
          39.3244,
          39.3244
         ],
         "mode": "lines",
         "opacity": 0.8,
         "type": "scattermapbox"
        },
        {
         "lat": [
          -2.9904,
          -2.9904
         ],
         "line": {
          "color": "darkseagreen",
          "width": 3
         },
         "lon": [
          31.2136,
          31.2136
         ],
         "mode": "lines",
         "opacity": 0.8,
         "type": "scattermapbox"
        },
        {
         "lat": [
          -3.3922,
          -3.3922
         ],
         "line": {
          "color": "darkseagreen",
          "width": 3
         },
         "lon": [
          36.278,
          36.278
         ],
         "mode": "lines",
         "opacity": 0.8,
         "type": "scattermapbox"
        },
        {
         "lat": [
          -6.7582,
          -6.7582
         ],
         "line": {
          "color": "darkseagreen",
          "width": 3
         },
         "lon": [
          37.3769,
          37.3769
         ],
         "mode": "lines",
         "opacity": 0.8,
         "type": "scattermapbox"
        },
        {
         "lat": [
          -2.9179,
          -2.9179
         ],
         "line": {
          "color": "darkseagreen",
          "width": 3
         },
         "lon": [
          32.1929,
          32.1929
         ],
         "mode": "lines",
         "opacity": 0.8,
         "type": "scattermapbox"
        },
        {
         "lat": [
          -3.4182,
          -3.4182
         ],
         "line": {
          "color": "darkseagreen",
          "width": 3
         },
         "lon": [
          36.5755,
          36.5755
         ],
         "mode": "lines",
         "opacity": 0.8,
         "type": "scattermapbox"
        },
        {
         "lat": [
          -6.1882,
          -6.1882
         ],
         "line": {
          "color": "darkseagreen",
          "width": 3
         },
         "lon": [
          35.5711,
          35.5711
         ],
         "mode": "lines",
         "opacity": 0.8,
         "type": "scattermapbox"
        },
        {
         "lat": [
          -6.6616,
          -6.6616
         ],
         "line": {
          "color": "darkseagreen",
          "width": 3
         },
         "lon": [
          36.7097,
          36.7097
         ],
         "mode": "lines",
         "opacity": 0.8,
         "type": "scattermapbox"
        },
        {
         "lat": [
          -7.7772,
          -7.7772
         ],
         "line": {
          "color": "darkseagreen",
          "width": 3
         },
         "lon": [
          37.8406,
          37.8406
         ],
         "mode": "lines",
         "opacity": 0.8,
         "type": "scattermapbox"
        },
        {
         "lat": [
          -6.6373,
          -6.6373
         ],
         "line": {
          "color": "darkseagreen",
          "width": 3
         },
         "lon": [
          39.1995,
          39.1995
         ],
         "mode": "lines",
         "opacity": 0.8,
         "type": "scattermapbox"
        },
        {
         "lat": [
          -1.7027,
          -1.7027
         ],
         "line": {
          "color": "darkseagreen",
          "width": 3
         },
         "lon": [
          31.6273,
          31.6273
         ],
         "mode": "lines",
         "opacity": 0.8,
         "type": "scattermapbox"
        },
        {
         "lat": [
          -1.3937,
          -1.3937
         ],
         "line": {
          "color": "darkseagreen",
          "width": 3
         },
         "lon": [
          31.7668,
          31.7668
         ],
         "mode": "lines",
         "opacity": 0.8,
         "type": "scattermapbox"
        },
        {
         "lat": [
          -1.7828,
          -1.7828
         ],
         "line": {
          "color": "darkseagreen",
          "width": 3
         },
         "lon": [
          31.5506,
          31.5506
         ],
         "mode": "lines",
         "opacity": 0.8,
         "type": "scattermapbox"
        },
        {
         "lat": [
          -1.3336,
          -1.3336
         ],
         "line": {
          "color": "darkseagreen",
          "width": 3
         },
         "lon": [
          31.8202,
          31.8202
         ],
         "mode": "lines",
         "opacity": 0.8,
         "type": "scattermapbox"
        },
        {
         "lat": [
          -3.3411,
          -3.3411
         ],
         "line": {
          "color": "darkseagreen",
          "width": 3
         },
         "lon": [
          35.667,
          35.667
         ],
         "mode": "lines",
         "opacity": 0.8,
         "type": "scattermapbox"
        },
        {
         "lat": [
          -4.9986,
          -4.9986
         ],
         "line": {
          "color": "darkseagreen",
          "width": 3
         },
         "lon": [
          32.8102,
          32.8102
         ],
         "mode": "lines",
         "opacity": 0.8,
         "type": "scattermapbox"
        },
        {
         "lat": [
          -5.2856,
          -5.2856
         ],
         "line": {
          "color": "darkseagreen",
          "width": 3
         },
         "lon": [
          38.636,
          38.636
         ],
         "mode": "lines",
         "opacity": 0.8,
         "type": "scattermapbox"
        },
        {
         "lat": [
          -6.1383,
          -6.1383
         ],
         "line": {
          "color": "darkseagreen",
          "width": 3
         },
         "lon": [
          39.2185,
          39.2185
         ],
         "mode": "lines",
         "opacity": 0.8,
         "type": "scattermapbox"
        },
        {
         "lat": [
          -6.871,
          -6.871
         ],
         "line": {
          "color": "darkseagreen",
          "width": 3
         },
         "lon": [
          39.0628,
          39.0628
         ],
         "mode": "lines",
         "opacity": 0.8,
         "type": "scattermapbox"
        },
        {
         "lat": [
          -6.5586,
          -6.5586
         ],
         "line": {
          "color": "darkseagreen",
          "width": 3
         },
         "lon": [
          36.6172,
          36.6172
         ],
         "mode": "lines",
         "opacity": 0.8,
         "type": "scattermapbox"
        },
        {
         "lat": [
          -2.387,
          -2.387
         ],
         "line": {
          "color": "darkseagreen",
          "width": 3
         },
         "lon": [
          30.7929,
          30.7929
         ],
         "mode": "lines",
         "opacity": 0.8,
         "type": "scattermapbox"
        },
        {
         "lat": [
          -10.6415,
          -10.6415
         ],
         "line": {
          "color": "darkseagreen",
          "width": 3
         },
         "lon": [
          35.6765,
          35.6765
         ],
         "mode": "lines",
         "opacity": 0.8,
         "type": "scattermapbox"
        },
        {
         "lat": [
          -6.7204,
          -6.7204
         ],
         "line": {
          "color": "darkseagreen",
          "width": 3
         },
         "lon": [
          36.8371,
          36.8371
         ],
         "mode": "lines",
         "opacity": 0.8,
         "type": "scattermapbox"
        },
        {
         "lat": [
          -6.8108,
          -6.8108
         ],
         "line": {
          "color": "darkseagreen",
          "width": 3
         },
         "lon": [
          37.6277,
          37.6277
         ],
         "mode": "lines",
         "opacity": 0.8,
         "type": "scattermapbox"
        },
        {
         "lat": [
          -6.8133,
          -6.8133
         ],
         "line": {
          "color": "darkseagreen",
          "width": 3
         },
         "lon": [
          37.066,
          37.066
         ],
         "mode": "lines",
         "opacity": 0.8,
         "type": "scattermapbox"
        },
        {
         "lat": [
          -6.7647,
          -6.7647
         ],
         "line": {
          "color": "darkseagreen",
          "width": 3
         },
         "lon": [
          36.9398,
          36.9398
         ],
         "mode": "lines",
         "opacity": 0.8,
         "type": "scattermapbox"
        },
        {
         "lat": [
          -6.7116,
          -6.6391
         ],
         "line": {
          "color": "rosybrown",
          "width": 3
         },
         "lon": [
          38.7439,
          38.3571
         ],
         "mode": "lines",
         "opacity": 0.8,
         "type": "scattermapbox"
        },
        {
         "lat": [
          -5.298,
          -4.0717
         ],
         "line": {
          "color": "rosybrown",
          "width": 3
         },
         "lon": [
          38.6148,
          37.7377
         ],
         "mode": "lines",
         "opacity": 0.8,
         "type": "scattermapbox"
        },
        {
         "lat": [
          -4.8396,
          -3.6219
         ],
         "line": {
          "color": "rosybrown",
          "width": 3
         },
         "lon": [
          34.7573,
          33.5148
         ],
         "mode": "lines",
         "opacity": 0.8,
         "type": "scattermapbox"
        },
        {
         "lat": [
          -8.8482,
          -8.9146
         ],
         "line": {
          "color": "rosybrown",
          "width": 3
         },
         "lon": [
          34.8061,
          33.4967
         ],
         "mode": "lines",
         "opacity": 0.8,
         "type": "scattermapbox"
        },
        {
         "lat": [
          -3.6219,
          -3.2208
         ],
         "line": {
          "color": "rosybrown",
          "width": 3
         },
         "lon": [
          33.5148,
          32.4905
         ],
         "mode": "lines",
         "opacity": 0.8,
         "type": "scattermapbox"
        },
        {
         "lat": [
          -3.861,
          -3.6219
         ],
         "line": {
          "color": "rosybrown",
          "width": 3
         },
         "lon": [
          32.6861,
          33.5148
         ],
         "mode": "lines",
         "opacity": 0.8,
         "type": "scattermapbox"
        },
        {
         "lat": [
          -4.0723,
          -3.6219
         ],
         "line": {
          "color": "rosybrown",
          "width": 3
         },
         "lon": [
          33.1424,
          33.5148
         ],
         "mode": "lines",
         "opacity": 0.8,
         "type": "scattermapbox"
        },
        {
         "lat": [
          -6.1809,
          -7.1387
         ],
         "line": {
          "color": "rosybrown",
          "width": 3
         },
         "lon": [
          35.6949,
          35.9892
         ],
         "mode": "lines",
         "opacity": 0.8,
         "type": "scattermapbox"
        },
        {
         "lat": [
          -6.7933,
          -6.8217
         ],
         "line": {
          "color": "rosybrown",
          "width": 3
         },
         "lon": [
          39.2077,
          39.2681
         ],
         "mode": "lines",
         "opacity": 0.8,
         "type": "scattermapbox"
        },
        {
         "lat": [
          -2.543,
          -3.6219
         ],
         "line": {
          "color": "rosybrown",
          "width": 3
         },
         "lon": [
          32.967,
          33.5148
         ],
         "mode": "lines",
         "opacity": 0.8,
         "type": "scattermapbox"
        },
        {
         "lat": [
          -7.6683,
          -8.6125
         ],
         "line": {
          "color": "rosybrown",
          "width": 3
         },
         "lon": [
          36.976,
          35.8592
         ],
         "mode": "lines",
         "opacity": 0.8,
         "type": "scattermapbox"
        },
        {
         "lat": [
          -1.3394,
          -1.2519
         ],
         "line": {
          "color": "rosybrown",
          "width": 3
         },
         "lon": [
          31.7957,
          31.413
         ],
         "mode": "lines",
         "opacity": 0.8,
         "type": "scattermapbox"
        },
        {
         "lat": [
          -1.6559,
          -1.7027
         ],
         "line": {
          "color": "rosybrown",
          "width": 3
         },
         "lon": [
          31.5851,
          31.6273
         ],
         "mode": "lines",
         "opacity": 0.8,
         "type": "scattermapbox"
        },
        {
         "lat": [
          -1.3394,
          -1.3937
         ],
         "line": {
          "color": "rosybrown",
          "width": 3
         },
         "lon": [
          31.7957,
          31.7668
         ],
         "mode": "lines",
         "opacity": 0.8,
         "type": "scattermapbox"
        },
        {
         "lat": [
          -1.3394,
          -1.6559
         ],
         "line": {
          "color": "rosybrown",
          "width": 3
         },
         "lon": [
          31.7957,
          31.5851
         ],
         "mode": "lines",
         "opacity": 0.8,
         "type": "scattermapbox"
        },
        {
         "lat": [
          -1.6559,
          -1.7828
         ],
         "line": {
          "color": "rosybrown",
          "width": 3
         },
         "lon": [
          31.5851,
          31.5506
         ],
         "mode": "lines",
         "opacity": 0.8,
         "type": "scattermapbox"
        },
        {
         "lat": [
          -1.3394,
          -1.3336
         ],
         "line": {
          "color": "rosybrown",
          "width": 3
         },
         "lon": [
          31.7957,
          31.8202
         ],
         "mode": "lines",
         "opacity": 0.8,
         "type": "scattermapbox"
        },
        {
         "lat": [
          -3.4211,
          -3.4156
         ],
         "line": {
          "color": "rosybrown",
          "width": 3
         },
         "lon": [
          37.3141,
          36.711
         ],
         "mode": "lines",
         "opacity": 0.8,
         "type": "scattermapbox"
        },
        {
         "lat": [
          -7.7925,
          -8.6125
         ],
         "line": {
          "color": "rosybrown",
          "width": 3
         },
         "lon": [
          35.7317,
          35.8592
         ],
         "mode": "lines",
         "opacity": 0.8,
         "type": "scattermapbox"
        },
        {
         "lat": [
          -3.8494,
          -4.2138
         ],
         "line": {
          "color": "rosybrown",
          "width": 3
         },
         "lon": [
          35.5573,
          35.7231
         ],
         "mode": "lines",
         "opacity": 0.8,
         "type": "scattermapbox"
        },
        {
         "lat": [
          -3.4156,
          -4.2138
         ],
         "line": {
          "color": "rosybrown",
          "width": 3
         },
         "lon": [
          36.711,
          35.7231
         ],
         "mode": "lines",
         "opacity": 0.8,
         "type": "scattermapbox"
        },
        {
         "lat": [
          -3.8494,
          -3.3411
         ],
         "line": {
          "color": "rosybrown",
          "width": 3
         },
         "lon": [
          35.5573,
          35.667
         ],
         "mode": "lines",
         "opacity": 0.8,
         "type": "scattermapbox"
        },
        {
         "lat": [
          -4.9151,
          -4.2138
         ],
         "line": {
          "color": "rosybrown",
          "width": 3
         },
         "lon": [
          35.8113,
          35.7231
         ],
         "mode": "lines",
         "opacity": 0.8,
         "type": "scattermapbox"
        },
        {
         "lat": [
          -6.7933,
          -6.6745
         ],
         "line": {
          "color": "rosybrown",
          "width": 3
         },
         "lon": [
          39.2077,
          39.1852
         ],
         "mode": "lines",
         "opacity": 0.8,
         "type": "scattermapbox"
        },
        {
         "lat": [
          -7.1387,
          -7.7925
         ],
         "line": {
          "color": "rosybrown",
          "width": 3
         },
         "lon": [
          35.9892,
          35.7317
         ],
         "mode": "lines",
         "opacity": 0.8,
         "type": "scattermapbox"
        },
        {
         "lat": [
          -4.0717,
          -3.4211
         ],
         "line": {
          "color": "rosybrown",
          "width": 3
         },
         "lon": [
          37.7377,
          37.3141
         ],
         "mode": "lines",
         "opacity": 0.8,
         "type": "scattermapbox"
        },
        {
         "lat": [
          -5.0808,
          -5.298
         ],
         "line": {
          "color": "rosybrown",
          "width": 3
         },
         "lon": [
          39.0737,
          38.6148
         ],
         "mode": "lines",
         "opacity": 0.8,
         "type": "scattermapbox"
        },
        {
         "lat": [
          -7.7925,
          -7.6683
         ],
         "line": {
          "color": "rosybrown",
          "width": 3
         },
         "lon": [
          35.7317,
          36.976
         ],
         "mode": "lines",
         "opacity": 0.8,
         "type": "scattermapbox"
        },
        {
         "lat": [
          -8.736,
          -8.8482
         ],
         "line": {
          "color": "rosybrown",
          "width": 3
         },
         "lon": [
          35.2887,
          34.8061
         ],
         "mode": "lines",
         "opacity": 0.8,
         "type": "scattermapbox"
        },
        {
         "lat": [
          -7.7925,
          -8.736
         ],
         "line": {
          "color": "rosybrown",
          "width": 3
         },
         "lon": [
          35.7317,
          35.2887
         ],
         "mode": "lines",
         "opacity": 0.8,
         "type": "scattermapbox"
        },
        {
         "lat": [
          -6.7933,
          -6.8605
         ],
         "line": {
          "color": "rosybrown",
          "width": 3
         },
         "lon": [
          39.2077,
          39.2085
         ],
         "mode": "lines",
         "opacity": 0.8,
         "type": "scattermapbox"
        },
        {
         "lat": [
          -6.7933,
          -6.7116
         ],
         "line": {
          "color": "rosybrown",
          "width": 3
         },
         "lon": [
          39.2077,
          38.7439
         ],
         "mode": "lines",
         "opacity": 0.8,
         "type": "scattermapbox"
        },
        {
         "lat": [
          -3.8264,
          -3.4211
         ],
         "line": {
          "color": "rosybrown",
          "width": 3
         },
         "lon": [
          37.4685,
          37.3141
         ],
         "mode": "lines",
         "opacity": 0.8,
         "type": "scattermapbox"
        },
        {
         "lat": [
          -1.4614,
          -1.5343
         ],
         "line": {
          "color": "rosybrown",
          "width": 3
         },
         "lon": [
          34.5085,
          33.8353
         ],
         "mode": "lines",
         "opacity": 0.8,
         "type": "scattermapbox"
        },
        {
         "lat": [
          -6.6391,
          -5.298
         ],
         "line": {
          "color": "rosybrown",
          "width": 3
         },
         "lon": [
          38.3571,
          38.6148
         ],
         "mode": "lines",
         "opacity": 0.8,
         "type": "scattermapbox"
        },
        {
         "lat": [
          -4.0723,
          -4.9986
         ],
         "line": {
          "color": "rosybrown",
          "width": 3
         },
         "lon": [
          33.1424,
          32.8102
         ],
         "mode": "lines",
         "opacity": 0.8,
         "type": "scattermapbox"
        },
        {
         "lat": [
          -2.543,
          -2.03
         ],
         "line": {
          "color": "rosybrown",
          "width": 3
         },
         "lon": [
          32.967,
          33.859
         ],
         "mode": "lines",
         "opacity": 0.8,
         "type": "scattermapbox"
        },
        {
         "lat": [
          -4.8396,
          -3.6219
         ],
         "line": {
          "color": "rosybrown",
          "width": 3
         },
         "lon": [
          34.7573,
          33.5148
         ],
         "mode": "lines",
         "opacity": 0.8,
         "type": "scattermapbox"
        },
        {
         "lat": [
          -1.5343,
          -2.03
         ],
         "line": {
          "color": "rosybrown",
          "width": 3
         },
         "lon": [
          33.8353,
          33.859
         ],
         "mode": "lines",
         "opacity": 0.8,
         "type": "scattermapbox"
        },
        {
         "lat": [
          -4.8396,
          -6.1809
         ],
         "line": {
          "color": "rosybrown",
          "width": 3
         },
         "lon": [
          34.7573,
          35.6949
         ],
         "mode": "lines",
         "opacity": 0.8,
         "type": "scattermapbox"
        },
        {
         "lat": [
          -4.8396,
          -6.1809
         ],
         "line": {
          "color": "rosybrown",
          "width": 3
         },
         "lon": [
          34.7573,
          35.6949
         ],
         "mode": "lines",
         "opacity": 0.8,
         "type": "scattermapbox"
        },
        {
         "lat": [
          -4.8396,
          -4.2138
         ],
         "line": {
          "color": "rosybrown",
          "width": 3
         },
         "lon": [
          34.7573,
          35.7231
         ],
         "mode": "lines",
         "opacity": 0.8,
         "type": "scattermapbox"
        },
        {
         "lat": [
          -7.6683,
          -6.7988
         ],
         "line": {
          "color": "rosybrown",
          "width": 3
         },
         "lon": [
          36.976,
          37.6638
         ],
         "mode": "lines",
         "opacity": 0.8,
         "type": "scattermapbox"
        },
        {
         "lat": [
          -7.6637,
          -7.6683
         ],
         "line": {
          "color": "rosybrown",
          "width": 3
         },
         "lon": [
          36.9672,
          36.976
         ],
         "mode": "lines",
         "opacity": 0.8,
         "type": "scattermapbox"
        },
        {
         "lat": [
          -7.6683,
          -7.6637
         ],
         "line": {
          "color": "rosybrown",
          "width": 3
         },
         "lon": [
          36.976,
          36.9672
         ],
         "mode": "lines",
         "opacity": 0.8,
         "type": "scattermapbox"
        },
        {
         "lat": [
          -7.6683,
          -7.6637
         ],
         "line": {
          "color": "rosybrown",
          "width": 3
         },
         "lon": [
          36.976,
          36.9672
         ],
         "mode": "lines",
         "opacity": 0.8,
         "type": "scattermapbox"
        },
        {
         "lat": [
          -7.6637,
          -7.6683
         ],
         "line": {
          "color": "rosybrown",
          "width": 3
         },
         "lon": [
          36.9672,
          36.976
         ],
         "mode": "lines",
         "opacity": 0.8,
         "type": "scattermapbox"
        },
        {
         "lat": [
          -6.7933,
          -6.7608
         ],
         "line": {
          "color": "rosybrown",
          "width": 3
         },
         "lon": [
          39.2077,
          37.8762
         ],
         "mode": "lines",
         "opacity": 0.8,
         "type": "scattermapbox"
        },
        {
         "lat": [
          -6.7988,
          -7.6683
         ],
         "line": {
          "color": "rosybrown",
          "width": 3
         },
         "lon": [
          37.6638,
          36.976
         ],
         "mode": "lines",
         "opacity": 0.8,
         "type": "scattermapbox"
        },
        {
         "lat": [
          -5.3553,
          -5.2856
         ],
         "line": {
          "color": "rosybrown",
          "width": 3
         },
         "lon": [
          38.6566,
          38.636
         ],
         "mode": "lines",
         "opacity": 0.8,
         "type": "scattermapbox"
        },
        {
         "lat": [
          -6.3177,
          -6.1383
         ],
         "line": {
          "color": "rosybrown",
          "width": 3
         },
         "lon": [
          39.2772,
          39.2185
         ],
         "mode": "lines",
         "opacity": 0.8,
         "type": "scattermapbox"
        },
        {
         "lat": [
          -6.6745,
          -6.6373
         ],
         "line": {
          "color": "rosybrown",
          "width": 3
         },
         "lon": [
          39.1852,
          39.1995
         ],
         "mode": "lines",
         "opacity": 0.8,
         "type": "scattermapbox"
        },
        {
         "lat": [
          -6.7933,
          -6.8217
         ],
         "line": {
          "color": "rosybrown",
          "width": 3
         },
         "lon": [
          39.2077,
          39.2681
         ],
         "mode": "lines",
         "opacity": 0.8,
         "type": "scattermapbox"
        },
        {
         "lat": [
          -6.1809,
          -7.7925
         ],
         "line": {
          "color": "rosybrown",
          "width": 3
         },
         "lon": [
          35.6949,
          35.7317
         ],
         "mode": "lines",
         "opacity": 0.8,
         "type": "scattermapbox"
        },
        {
         "lat": [
          -3.3762,
          -3.4156
         ],
         "line": {
          "color": "rosybrown",
          "width": 3
         },
         "lon": [
          37.0667,
          36.711
         ],
         "mode": "lines",
         "opacity": 0.8,
         "type": "scattermapbox"
        },
        {
         "lat": [
          -6.8061,
          -6.8554
         ],
         "line": {
          "color": "rosybrown",
          "width": 3
         },
         "lon": [
          39.1568,
          39.1566
         ],
         "mode": "lines",
         "opacity": 0.8,
         "type": "scattermapbox"
        },
        {
         "lat": [
          -6.8061,
          -6.7933
         ],
         "line": {
          "color": "rosybrown",
          "width": 3
         },
         "lon": [
          39.1568,
          39.2077
         ],
         "mode": "lines",
         "opacity": 0.8,
         "type": "scattermapbox"
        },
        {
         "lat": [
          -6.7608,
          -6.6391
         ],
         "line": {
          "color": "rosybrown",
          "width": 3
         },
         "lon": [
          37.8762,
          38.3571
         ],
         "mode": "lines",
         "opacity": 0.8,
         "type": "scattermapbox"
        },
        {
         "lat": [
          -6.7771,
          -6.7988
         ],
         "line": {
          "color": "rosybrown",
          "width": 3
         },
         "lon": [
          37.6944,
          37.6638
         ],
         "mode": "lines",
         "opacity": 0.8,
         "type": "scattermapbox"
        },
        {
         "lat": [
          -6.7873,
          -6.7771
         ],
         "line": {
          "color": "rosybrown",
          "width": 3
         },
         "lon": [
          37.7496,
          37.6944
         ],
         "mode": "lines",
         "opacity": 0.8,
         "type": "scattermapbox"
        },
        {
         "lat": [
          -6.7856,
          -6.7873
         ],
         "line": {
          "color": "rosybrown",
          "width": 3
         },
         "lon": [
          37.7889,
          37.7496
         ],
         "mode": "lines",
         "opacity": 0.8,
         "type": "scattermapbox"
        },
        {
         "lat": [
          -6.7698,
          -6.7856
         ],
         "line": {
          "color": "rosybrown",
          "width": 3
         },
         "lon": [
          37.8085,
          37.7889
         ],
         "mode": "lines",
         "opacity": 0.8,
         "type": "scattermapbox"
        },
        {
         "lat": [
          -6.7726,
          -6.7698
         ],
         "line": {
          "color": "rosybrown",
          "width": 3
         },
         "lon": [
          37.8334,
          37.8085
         ],
         "mode": "lines",
         "opacity": 0.8,
         "type": "scattermapbox"
        },
        {
         "lat": [
          -6.7608,
          -6.7726
         ],
         "line": {
          "color": "rosybrown",
          "width": 3
         },
         "lon": [
          37.8762,
          37.8334
         ],
         "mode": "lines",
         "opacity": 0.8,
         "type": "scattermapbox"
        },
        {
         "lat": [
          -6.7608,
          -6.7831
         ],
         "line": {
          "color": "rosybrown",
          "width": 3
         },
         "lon": [
          37.8762,
          37.797
         ],
         "mode": "lines",
         "opacity": 0.8,
         "type": "scattermapbox"
        },
        {
         "lat": [
          -6.7608,
          -6.8061
         ],
         "line": {
          "color": "rosybrown",
          "width": 3
         },
         "lon": [
          37.8762,
          39.1568
         ],
         "mode": "lines",
         "opacity": 0.8,
         "type": "scattermapbox"
        },
        {
         "lat": [
          -6.7893,
          -6.7608
         ],
         "line": {
          "color": "rosybrown",
          "width": 3
         },
         "lon": [
          37.7658,
          37.8762
         ],
         "mode": "lines",
         "opacity": 0.8,
         "type": "scattermapbox"
        },
        {
         "lat": [
          -6.7831,
          -6.7856
         ],
         "line": {
          "color": "rosybrown",
          "width": 3
         },
         "lon": [
          37.797,
          37.7889
         ],
         "mode": "lines",
         "opacity": 0.8,
         "type": "scattermapbox"
        },
        {
         "lat": [
          -6.7856,
          -6.7943
         ],
         "line": {
          "color": "rosybrown",
          "width": 3
         },
         "lon": [
          37.7889,
          37.723
         ],
         "mode": "lines",
         "opacity": 0.8,
         "type": "scattermapbox"
        },
        {
         "lat": [
          -6.7943,
          -6.7893
         ],
         "line": {
          "color": "rosybrown",
          "width": 3
         },
         "lon": [
          37.723,
          37.7658
         ],
         "mode": "lines",
         "opacity": 0.8,
         "type": "scattermapbox"
        },
        {
         "lat": [
          -6.7943,
          -6.7988
         ],
         "line": {
          "color": "rosybrown",
          "width": 3
         },
         "lon": [
          37.723,
          37.6638
         ],
         "mode": "lines",
         "opacity": 0.8,
         "type": "scattermapbox"
        },
        {
         "lat": [
          -6.7988,
          -6.7943
         ],
         "line": {
          "color": "rosybrown",
          "width": 3
         },
         "lon": [
          37.6638,
          37.723
         ],
         "mode": "lines",
         "opacity": 0.8,
         "type": "scattermapbox"
        },
        {
         "lat": [
          -6.8836,
          -6.8605
         ],
         "line": {
          "color": "rosybrown",
          "width": 3
         },
         "lon": [
          39.1492,
          39.2085
         ],
         "mode": "lines",
         "opacity": 0.8,
         "type": "scattermapbox"
        },
        {
         "lat": [
          -3.4211,
          -3.3762
         ],
         "line": {
          "color": "rosybrown",
          "width": 3
         },
         "lon": [
          37.3141,
          37.0667
         ],
         "mode": "lines",
         "opacity": 0.8,
         "type": "scattermapbox"
        },
        {
         "lat": [
          -6.1809,
          -4.8396
         ],
         "line": {
          "color": "rosybrown",
          "width": 3
         },
         "lon": [
          35.6949,
          34.7573
         ],
         "mode": "lines",
         "opacity": 0.8,
         "type": "scattermapbox"
        },
        {
         "lat": [
          -10.2756,
          -10.1471
         ],
         "line": {
          "color": "rosybrown",
          "width": 3
         },
         "lon": [
          40.2062,
          39.589
         ],
         "mode": "lines",
         "opacity": 0.8,
         "type": "scattermapbox"
        },
        {
         "lat": [
          -6.8554,
          -6.871
         ],
         "line": {
          "color": "rosybrown",
          "width": 3
         },
         "lon": [
          39.1566,
          39.0628
         ],
         "mode": "lines",
         "opacity": 0.8,
         "type": "scattermapbox"
        },
        {
         "lat": [
          -6.8114,
          -6.871
         ],
         "line": {
          "color": "rosybrown",
          "width": 3
         },
         "lon": [
          38.6517,
          39.0628
         ],
         "mode": "lines",
         "opacity": 0.8,
         "type": "scattermapbox"
        },
        {
         "lat": [
          -6.8357,
          -6.8114
         ],
         "line": {
          "color": "rosybrown",
          "width": 3
         },
         "lon": [
          38.65,
          38.6517
         ],
         "mode": "lines",
         "opacity": 0.8,
         "type": "scattermapbox"
        },
        {
         "lat": [
          -6.6334,
          -6.5586
         ],
         "line": {
          "color": "rosybrown",
          "width": 3
         },
         "lon": [
          36.693,
          36.6172
         ],
         "mode": "lines",
         "opacity": 0.8,
         "type": "scattermapbox"
        },
        {
         "lat": [
          -6.3639,
          -6.5586
         ],
         "line": {
          "color": "rosybrown",
          "width": 3
         },
         "lon": [
          36.2683,
          36.6172
         ],
         "mode": "lines",
         "opacity": 0.8,
         "type": "scattermapbox"
        },
        {
         "lat": [
          -6.3639,
          -6.191
         ],
         "line": {
          "color": "rosybrown",
          "width": 3
         },
         "lon": [
          36.2683,
          35.9289
         ],
         "mode": "lines",
         "opacity": 0.8,
         "type": "scattermapbox"
        },
        {
         "lat": [
          -5.9449,
          -6.1882
         ],
         "line": {
          "color": "rosybrown",
          "width": 3
         },
         "lon": [
          35.2746,
          35.5711
         ],
         "mode": "lines",
         "opacity": 0.8,
         "type": "scattermapbox"
        },
        {
         "lat": [
          -6.8836,
          -6.921
         ],
         "line": {
          "color": "rosybrown",
          "width": 3
         },
         "lon": [
          39.1492,
          39.2648
         ],
         "mode": "lines",
         "opacity": 0.8,
         "type": "scattermapbox"
        },
        {
         "lat": [
          -6.8554,
          -6.8836
         ],
         "line": {
          "color": "rosybrown",
          "width": 3
         },
         "lon": [
          39.1566,
          39.1492
         ],
         "mode": "lines",
         "opacity": 0.8,
         "type": "scattermapbox"
        },
        {
         "lat": [
          -6.9008,
          -6.8608
         ],
         "line": {
          "color": "rosybrown",
          "width": 3
         },
         "lon": [
          39.3244,
          39.2876
         ],
         "mode": "lines",
         "opacity": 0.8,
         "type": "scattermapbox"
        },
        {
         "lat": [
          -6.9008,
          -6.921
         ],
         "line": {
          "color": "rosybrown",
          "width": 3
         },
         "lon": [
          39.3244,
          39.2648
         ],
         "mode": "lines",
         "opacity": 0.8,
         "type": "scattermapbox"
        },
        {
         "lat": [
          -6.9008,
          -6.9164
         ],
         "line": {
          "color": "rosybrown",
          "width": 3
         },
         "lon": [
          39.3244,
          39.4424
         ],
         "mode": "lines",
         "opacity": 0.8,
         "type": "scattermapbox"
        },
        {
         "lat": [
          -3.2208,
          -2.9179
         ],
         "line": {
          "color": "rosybrown",
          "width": 3
         },
         "lon": [
          32.4905,
          32.1929
         ],
         "mode": "lines",
         "opacity": 0.8,
         "type": "scattermapbox"
        },
        {
         "lat": [
          -2.9904,
          -2.387
         ],
         "line": {
          "color": "rosybrown",
          "width": 3
         },
         "lon": [
          31.2136,
          30.7929
         ],
         "mode": "lines",
         "opacity": 0.8,
         "type": "scattermapbox"
        },
        {
         "lat": [
          -8.8482,
          -10.6415
         ],
         "line": {
          "color": "rosybrown",
          "width": 3
         },
         "lon": [
          34.8061,
          35.6765
         ],
         "mode": "lines",
         "opacity": 0.8,
         "type": "scattermapbox"
        },
        {
         "lat": [
          -6.191,
          -6.1809
         ],
         "line": {
          "color": "rosybrown",
          "width": 3
         },
         "lon": [
          35.9289,
          35.6949
         ],
         "mode": "lines",
         "opacity": 0.8,
         "type": "scattermapbox"
        },
        {
         "lat": [
          -3.3922,
          -3.4182
         ],
         "line": {
          "color": "rosybrown",
          "width": 3
         },
         "lon": [
          36.278,
          36.5755
         ],
         "mode": "lines",
         "opacity": 0.8,
         "type": "scattermapbox"
        },
        {
         "lat": [
          -2.9179,
          -2.9904
         ],
         "line": {
          "color": "rosybrown",
          "width": 3
         },
         "lon": [
          32.1929,
          31.2136
         ],
         "mode": "lines",
         "opacity": 0.8,
         "type": "scattermapbox"
        },
        {
         "lat": [
          -4.8396,
          -3.3922
         ],
         "line": {
          "color": "rosybrown",
          "width": 3
         },
         "lon": [
          34.7573,
          36.278
         ],
         "mode": "lines",
         "opacity": 0.8,
         "type": "scattermapbox"
        },
        {
         "lat": [
          -6.1882,
          -6.1809
         ],
         "line": {
          "color": "rosybrown",
          "width": 3
         },
         "lon": [
          35.5711,
          35.6949
         ],
         "mode": "lines",
         "opacity": 0.8,
         "type": "scattermapbox"
        },
        {
         "lat": [
          -5.9449,
          -6.1809
         ],
         "line": {
          "color": "rosybrown",
          "width": 3
         },
         "lon": [
          35.2746,
          35.6949
         ],
         "mode": "lines",
         "opacity": 0.8,
         "type": "scattermapbox"
        },
        {
         "lat": [
          -6.6616,
          -6.7204
         ],
         "line": {
          "color": "rosybrown",
          "width": 3
         },
         "lon": [
          36.7097,
          36.8371
         ],
         "mode": "lines",
         "opacity": 0.8,
         "type": "scattermapbox"
        },
        {
         "lat": [
          -6.7582,
          -6.8108
         ],
         "line": {
          "color": "rosybrown",
          "width": 3
         },
         "lon": [
          37.3769,
          37.6277
         ],
         "mode": "lines",
         "opacity": 0.8,
         "type": "scattermapbox"
        },
        {
         "lat": [
          -6.7582,
          -6.8133
         ],
         "line": {
          "color": "rosybrown",
          "width": 3
         },
         "lon": [
          37.3769,
          37.066
         ],
         "mode": "lines",
         "opacity": 0.8,
         "type": "scattermapbox"
        },
        {
         "lat": [
          -6.8034,
          -6.7647
         ],
         "line": {
          "color": "rosybrown",
          "width": 3
         },
         "lon": [
          36.9672,
          36.9398
         ],
         "mode": "lines",
         "opacity": 0.8,
         "type": "scattermapbox"
        },
        {
         "lat": [
          -7.7772,
          -6.6487
         ],
         "line": {
          "color": "rosybrown",
          "width": 3
         },
         "lon": [
          37.8406,
          38.3893
         ],
         "mode": "lines",
         "opacity": 0.8,
         "type": "scattermapbox"
        },
        {
         "lat": [
          -6.6373,
          -6.3177
         ],
         "line": {
          "color": "rosybrown",
          "width": 3
         },
         "lon": [
          39.1995,
          39.2772
         ],
         "mode": "lines",
         "opacity": 0.8,
         "type": "scattermapbox"
        },
        {
         "hoverinfo": "text",
         "lat": {
          "bdata": "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",
          "dtype": "f8"
         },
         "lon": {
          "bdata": "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",
          "dtype": "f8"
         },
         "marker": {
          "opacity": 0
         },
         "mode": "markers",
         "text": [
          "Link 1 battery charger",
          "Link 3 battery charger",
          "Link 5 battery charger",
          "Link 6 battery charger",
          "Link 8 battery charger",
          "Link 10 battery charger",
          "Link 13 battery charger",
          "Link 14 battery charger",
          "Link 17 battery charger",
          "Link 18 battery charger",
          "Link 19 battery charger",
          "Link 20 battery charger",
          "Link 21 battery charger",
          "Link 23 battery charger",
          "Link 24 battery charger",
          "Link 26 battery charger",
          "Link 27 battery charger",
          "Link 28 battery charger",
          "Link 29 battery charger",
          "Link 30 battery charger",
          "Link 31 battery charger",
          "Link 32 battery charger",
          "Link 33 battery charger",
          "Link 34 battery charger",
          "Link 35 battery charger",
          "Link 36 battery charger",
          "Link 39 battery charger",
          "Link 40 battery charger",
          "Link 41 battery charger",
          "Link 42 battery charger",
          "Link 43 battery charger",
          "Link 44 battery charger",
          "Link 45 battery charger",
          "Link 46 battery charger",
          "Link 47 battery charger",
          "Link 48 battery charger",
          "Link 49 battery charger",
          "Link 50 battery charger",
          "Link 51 battery charger",
          "Link 52 battery charger",
          "Link 54 battery charger",
          "Link 55 battery charger",
          "Link 56 battery charger",
          "Link 57 battery charger",
          "Link 58 battery charger",
          "Link 59 battery charger",
          "Link 60 battery charger",
          "Link 61 battery charger",
          "Link 62 battery charger",
          "Link 63 battery charger",
          "Link 64 battery charger",
          "Link 66 battery charger",
          "Link 67 battery charger",
          "Link 68 battery charger",
          "Link 70 battery charger",
          "Link 71 battery charger",
          "Link 72 battery charger",
          "Link 74 battery charger",
          "Link 75 battery charger",
          "Link 76 battery charger",
          "Link 77 battery charger",
          "Link 78 battery charger",
          "Link 79 battery charger",
          "Link 81 battery charger",
          "Link 82 battery charger",
          "Link 83 battery charger",
          "Link 84 battery charger",
          "Link 86 battery charger",
          "Link 87 battery charger",
          "Link 88 battery charger",
          "Link 89 battery charger",
          "Link 90 battery charger",
          "Link 92 battery charger",
          "Link 93 battery charger",
          "Link 94 battery charger",
          "Link 95 battery charger",
          "Link 96 battery charger",
          "Link 97 battery charger",
          "Link 98 battery charger",
          "Link 99 battery charger",
          "Link 100 battery charger",
          "Link 101 battery charger",
          "Link 102 battery charger",
          "Link 103 battery charger",
          "Link 104 battery charger",
          "Link 105 battery charger",
          "Link 106 battery charger",
          "Link 107 battery charger",
          "Link 108 battery charger",
          "Link 109 battery charger",
          "Link 110 battery charger",
          "Link 111 battery charger",
          "Link 112 battery charger",
          "Link 113 battery charger",
          "Link 114 battery charger",
          "Link 1 battery discharger",
          "Link 3 battery discharger",
          "Link 5 battery discharger",
          "Link 6 battery discharger",
          "Link 8 battery discharger",
          "Link 10 battery discharger",
          "Link 13 battery discharger",
          "Link 14 battery discharger",
          "Link 17 battery discharger",
          "Link 18 battery discharger",
          "Link 19 battery discharger",
          "Link 20 battery discharger",
          "Link 21 battery discharger",
          "Link 23 battery discharger",
          "Link 24 battery discharger",
          "Link 26 battery discharger",
          "Link 27 battery discharger",
          "Link 28 battery discharger",
          "Link 29 battery discharger",
          "Link 30 battery discharger",
          "Link 31 battery discharger",
          "Link 32 battery discharger",
          "Link 33 battery discharger",
          "Link 34 battery discharger",
          "Link 35 battery discharger",
          "Link 36 battery discharger",
          "Link 39 battery discharger",
          "Link 40 battery discharger",
          "Link 41 battery discharger",
          "Link 42 battery discharger",
          "Link 43 battery discharger",
          "Link 44 battery discharger",
          "Link 45 battery discharger",
          "Link 46 battery discharger",
          "Link 47 battery discharger",
          "Link 48 battery discharger",
          "Link 49 battery discharger",
          "Link 50 battery discharger",
          "Link 51 battery discharger",
          "Link 52 battery discharger",
          "Link 54 battery discharger",
          "Link 55 battery discharger",
          "Link 56 battery discharger",
          "Link 57 battery discharger",
          "Link 58 battery discharger",
          "Link 59 battery discharger",
          "Link 60 battery discharger",
          "Link 61 battery discharger",
          "Link 62 battery discharger",
          "Link 63 battery discharger",
          "Link 64 battery discharger",
          "Link 66 battery discharger",
          "Link 67 battery discharger",
          "Link 68 battery discharger",
          "Link 70 battery discharger",
          "Link 71 battery discharger",
          "Link 72 battery discharger",
          "Link 74 battery discharger",
          "Link 75 battery discharger",
          "Link 76 battery discharger",
          "Link 77 battery discharger",
          "Link 78 battery discharger",
          "Link 79 battery discharger",
          "Link 81 battery discharger",
          "Link 82 battery discharger",
          "Link 83 battery discharger",
          "Link 84 battery discharger",
          "Link 86 battery discharger",
          "Link 87 battery discharger",
          "Link 88 battery discharger",
          "Link 89 battery discharger",
          "Link 90 battery discharger",
          "Link 92 battery discharger",
          "Link 93 battery discharger",
          "Link 94 battery discharger",
          "Link 95 battery discharger",
          "Link 96 battery discharger",
          "Link 97 battery discharger",
          "Link 98 battery discharger",
          "Link 99 battery discharger",
          "Link 100 battery discharger",
          "Link 101 battery discharger",
          "Link 102 battery discharger",
          "Link 103 battery discharger",
          "Link 104 battery discharger",
          "Link 105 battery discharger",
          "Link 106 battery discharger",
          "Link 107 battery discharger",
          "Link 108 battery discharger",
          "Link 109 battery discharger",
          "Link 110 battery discharger",
          "Link 111 battery discharger",
          "Link 112 battery discharger",
          "Link 113 battery discharger",
          "Link 114 battery discharger"
         ],
         "type": "scattermapbox"
        },
        {
         "hoverinfo": "text",
         "lat": {
          "bdata": "FmpN846zGsCTqYJRSb0SwEA1XrpJ7BDAiGNd3EbDIcBYW7G/7F4LwCD0bFZ97g3AZohjXdzGDsBsmnecoqMawHsUrkfhOhvADXGsi9uoCMCAt0CC4kcgwJf/kH77uvS/ysNCrWne+r+vlGWIY931v5+rrdhf9ve/pgpGJXWC+7/8qfHSTWL1v7hAguLHWAvASOF6FK5nIMDjNhrAWyAQwNxoAG+BhA7AUI2XbhLDDMCn6Egu/0ESwDojSnuD7xrABhIUP8bcHcAN4C2QoPgNwBlz1xLywRTAXf5D+u3rHsC+UpYhjpUhwJ7vp8ZLhyDA5j+k375OG8A0gLdAggIbwD4K16Nw/QzAggTFjzH397/IKTqSy98XwKOSOgFNJBLAmG4Sg8BKAsBANV66SewQwPkP6bevg/y/0SLb+X4KFsDRItv5fgoWwHo2qz5XGxLAV+wvuyfvHMBEi2zn+6kewESLbOf7qR7ARIts5/upHsBEi2zn+6kewF1txf6yGxvAV+wvuyfvHMBGA3gLJEgVwLbz/dR46RjAHcnlP6SfGsB7FK5H4TobwFLaG3xh8hvAJuSDns0qC8Cmm8QgsFIbwN5xio7kMhvAPldbsb/MGsBmiGNd3CYbwIy5awn5IBvAvsEXJlMlG8CUZYhjXRwbwGiz6nO1FRvAcF8HzhkRG8C8lpAPehYbwG40gLdAIhvAKA8LtaYZG8BseHqlLCMbwJrmHafoKBvAJuSDns0qG8Dkg57Nqi8bwOSDns2qLxvAPujZrPp8G8A4Z0RpbzALwNEi2/l+ChbA6gQ0ETZsJMD6oGez6nMbwLCUZYhjXRvAs3vysFBLG8D8qfHSTWIawLgehetR2BnAzhlR2hscGcD4MeauJUQYwCS5/If0mxvA7nw/NV56G8BoRGlv8IUbwKK0N/jCpBvAGJXUCWiiG8Ag0m9fB44IwKYKRiV1ggXA6Nms+lx9I8DKw0Ktab4YwK62Yn/ZPQvAxNMrZRmiB8D0bFZ9rnYQwD7o2az6vBjAcayL22hAGMDdJAaBlcMawBfZzvdTIxvA+FPjpZskG8AYt9EA3iIbwJi7lpAP2hzAKVyPwvXoGcA=",
          "dtype": "f8"
         },
         "lon": {
          "bdata": "WDm0yHZGQ0DC9ShcjxZDQHZPHhZqEUFApE5AE2ETQUDOqs/VVoBAQA1xrIvbjEBAmbuWkA+qQEBkzF1LyOtBQPTb14FznkNAns2qz9WeQEChZ7PqczVCQG1Wfa62mj9A0NVW7C+bP0AAAAAAAMg/QI0o7Q2+sD9Amggbnl6RP0CezarP1c4/QEzIBz2bgUJANs07TtHlQUAZc9cS8tFBQGTMXUvIG0JAih9j7lrOQUDgvg6cM+JBQEymCkYlmUNA7uvAOSPuQUCze/KwUMNCQPLSTWIQbENARNjw9EotQkBK6gQ0EYZBQKg1zTtOwUFAGCZTBaOaQ0Dpt68D53xDQGB2Tx4WskJAWBe30QAWQUDgvg6cMz5DQNuK/WX3fEBAvp8aL920QEB2Tx4WahFBQDhnRGlv7EBAFNBE2PCcQUAU0ETY8JxBQOY/pN++nkFAxv6ye/KoQkCUZYhjXXxCQJRliGNdfEJAlGWIY118QkCUZYhjXXxCQJoIG55eRUNAxv6ye/KoQkDQs1n1uVJDQCQofoy5n0NAXLG/7J6YQ0D029eBc55DQE8eFmpN20FAWYY41sVxQkBApN++DpRDQBbZzvdTl0NACYofY+4OQ0BYW7G/7NZCQCPb+X5q3EJAWDm0yHbiQkBYqDXNO+ZCQFrTvOMU6UJAdk8eFmrtQkCz6nO1FetCQCYxCKwcQkNADAIrhxbpQkB9rrZif+VCQKK0N/jC4EJAOpLLf0jfQkDwhclUwdhCQPCFyVTB2EJA3nGKjuSWQ0BGlPYGX5hCQBTQRNjwnEFA3nGKjuTyQ0CEL0ymCo5DQH0/NV66bUNAAU2EDU9TQ0AHzhlR2lNCQOomMQisOEJAXLG/7J4MQkCKjuTyH7ZBQNEi2/l+mkNAescpOpKTQ0C6SQwCK6dDQGiz6nO1pUNAqKROQBOxQ0CIhVrTvCtAQEa28/3UAD9ALEMc6+KeQUCqz9VW7OdBQLTIdr6fNkJAeekmMQi0P0AgY+5aQsJBQBov3SQG0UFANV66SQy+QUD6XG3F/mJCQPFjzF1LwEJAgNk9eVicQkA1XrpJDHpCQG1Wfa62DkNANIC3QIKeQ0A=",
          "dtype": "f8"
         },
         "marker": {
          "opacity": 0
         },
         "mode": "markers",
         "text": [
          "Line 0",
          "Line 1",
          "Line 2",
          "Line 3",
          "Line 4",
          "Line 5",
          "Line 6",
          "Line 7",
          "Line 8",
          "Line 9",
          "Line 10",
          "Line 11",
          "Line 12",
          "Line 13",
          "Line 14",
          "Line 15",
          "Line 16",
          "Line 17",
          "Line 18",
          "Line 19",
          "Line 20",
          "Line 21",
          "Line 22",
          "Line 23",
          "Line 24",
          "Line 25",
          "Line 26",
          "Line 27",
          "Line 28",
          "Line 29",
          "Line 30",
          "Line 31",
          "Line 32",
          "Line 33",
          "Line 34",
          "Line 35",
          "Line 36",
          "Line 37",
          "Line 38",
          "Line 39",
          "Line 40",
          "Line 41",
          "Line 42",
          "Line 43",
          "Line 44",
          "Line 45",
          "Line 46",
          "Line 47",
          "Line 48",
          "Line 49",
          "Line 50",
          "Line 51",
          "Line 52",
          "Line 53",
          "Line 54",
          "Line 55",
          "Line 56",
          "Line 57",
          "Line 58",
          "Line 59",
          "Line 60",
          "Line 61",
          "Line 62",
          "Line 63",
          "Line 64",
          "Line 65",
          "Line 66",
          "Line 67",
          "Line 68",
          "Line 69",
          "Line 70",
          "Line 71",
          "Line 72",
          "Line 73",
          "Line 74",
          "Line 75",
          "Line 76",
          "Line 77",
          "Line 78",
          "Line 79",
          "Line 80",
          "Line 81",
          "Line 82",
          "Line 83",
          "Line 84",
          "Line 85",
          "Line 86",
          "Line 87",
          "Line 88",
          "Line 89",
          "Line 90",
          "Line 91",
          "Line 92",
          "Line 93",
          "Line 94",
          "Line 95",
          "Line 96",
          "Line 97",
          "Line 98",
          "Line 99",
          "Line 100",
          "Line 101",
          "Line 102"
         ],
         "type": "scattermapbox"
        },
        {
         "hoverinfo": "text",
         "lat": {
          "bdata": "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",
          "dtype": "f8"
         },
         "lon": {
          "bdata": "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",
          "dtype": "f8"
         },
         "marker": {
          "color": "cadetblue",
          "size": 10
         },
         "mode": "markers",
         "opacity": 1,
         "text": [
          "Bus 1",
          "Bus 3",
          "Bus 5",
          "Bus 6",
          "Bus 8",
          "Bus 10",
          "Bus 13",
          "Bus 14",
          "Bus 17",
          "Bus 18",
          "Bus 19",
          "Bus 20",
          "Bus 21",
          "Bus 23",
          "Bus 24",
          "Bus 26",
          "Bus 27",
          "Bus 28",
          "Bus 29",
          "Bus 30",
          "Bus 31",
          "Bus 32",
          "Bus 33",
          "Bus 34",
          "Bus 35",
          "Bus 36",
          "Bus 39",
          "Bus 40",
          "Bus 41",
          "Bus 42",
          "Bus 43",
          "Bus 44",
          "Bus 45",
          "Bus 46",
          "Bus 47",
          "Bus 48",
          "Bus 49",
          "Bus 50",
          "Bus 51",
          "Bus 52",
          "Bus 54",
          "Bus 55",
          "Bus 56",
          "Bus 57",
          "Bus 58",
          "Bus 59",
          "Bus 60",
          "Bus 61",
          "Bus 62",
          "Bus 63",
          "Bus 64",
          "Bus 66",
          "Bus 67",
          "Bus 68",
          "Bus 70",
          "Bus 71",
          "Bus 72",
          "Bus 74",
          "Bus 75",
          "Bus 76",
          "Bus 77",
          "Bus 78",
          "Bus 79",
          "Bus 81",
          "Bus 82",
          "Bus 83",
          "Bus 84",
          "Bus 86",
          "Bus 87",
          "Bus 88",
          "Bus 89",
          "Bus 90",
          "Bus 92",
          "Bus 93",
          "Bus 94",
          "Bus 95",
          "Bus 96",
          "Bus 97",
          "Bus 98",
          "Bus 99",
          "Bus 100",
          "Bus 101",
          "Bus 102",
          "Bus 103",
          "Bus 104",
          "Bus 105",
          "Bus 106",
          "Bus 107",
          "Bus 108",
          "Bus 109",
          "Bus 110",
          "Bus 111",
          "Bus 112",
          "Bus 113",
          "Bus 114",
          "Bus 1 battery",
          "Bus 3 battery",
          "Bus 5 battery",
          "Bus 6 battery",
          "Bus 8 battery",
          "Bus 10 battery",
          "Bus 13 battery",
          "Bus 14 battery",
          "Bus 17 battery",
          "Bus 18 battery",
          "Bus 19 battery",
          "Bus 20 battery",
          "Bus 21 battery",
          "Bus 23 battery",
          "Bus 24 battery",
          "Bus 26 battery",
          "Bus 27 battery",
          "Bus 28 battery",
          "Bus 29 battery",
          "Bus 30 battery",
          "Bus 31 battery",
          "Bus 32 battery",
          "Bus 33 battery",
          "Bus 34 battery",
          "Bus 35 battery",
          "Bus 36 battery",
          "Bus 39 battery",
          "Bus 40 battery",
          "Bus 41 battery",
          "Bus 42 battery",
          "Bus 43 battery",
          "Bus 44 battery",
          "Bus 45 battery",
          "Bus 46 battery",
          "Bus 47 battery",
          "Bus 48 battery",
          "Bus 49 battery",
          "Bus 50 battery",
          "Bus 51 battery",
          "Bus 52 battery",
          "Bus 54 battery",
          "Bus 55 battery",
          "Bus 56 battery",
          "Bus 57 battery",
          "Bus 58 battery",
          "Bus 59 battery",
          "Bus 60 battery",
          "Bus 61 battery",
          "Bus 62 battery",
          "Bus 63 battery",
          "Bus 64 battery",
          "Bus 66 battery",
          "Bus 67 battery",
          "Bus 68 battery",
          "Bus 70 battery",
          "Bus 71 battery",
          "Bus 72 battery",
          "Bus 74 battery",
          "Bus 75 battery",
          "Bus 76 battery",
          "Bus 77 battery",
          "Bus 78 battery",
          "Bus 79 battery",
          "Bus 81 battery",
          "Bus 82 battery",
          "Bus 83 battery",
          "Bus 84 battery",
          "Bus 86 battery",
          "Bus 87 battery",
          "Bus 88 battery",
          "Bus 89 battery",
          "Bus 90 battery",
          "Bus 92 battery",
          "Bus 93 battery",
          "Bus 94 battery",
          "Bus 95 battery",
          "Bus 96 battery",
          "Bus 97 battery",
          "Bus 98 battery",
          "Bus 99 battery",
          "Bus 100 battery",
          "Bus 101 battery",
          "Bus 102 battery",
          "Bus 103 battery",
          "Bus 104 battery",
          "Bus 105 battery",
          "Bus 106 battery",
          "Bus 107 battery",
          "Bus 108 battery",
          "Bus 109 battery",
          "Bus 110 battery",
          "Bus 111 battery",
          "Bus 112 battery",
          "Bus 113 battery",
          "Bus 114 battery"
         ],
         "type": "scattermapbox"
        }
       ],
       "layout": {
        "hovermode": "closest",
        "mapbox": {
         "center": {
          "lat": -5.9467,
          "lon": 35.49955
         },
         "style": "open-street-map",
         "zoom": 2
        },
        "showlegend": false,
        "template": {
         "data": {
          "bar": [
           {
            "error_x": {
             "color": "#2a3f5f"
            },
            "error_y": {
             "color": "#2a3f5f"
            },
            "marker": {
             "line": {
              "color": "#E5ECF6",
              "width": 0.5
             },
             "pattern": {
              "fillmode": "overlay",
              "size": 10,
              "solidity": 0.2
             }
            },
            "type": "bar"
           }
          ],
          "barpolar": [
           {
            "marker": {
             "line": {
              "color": "#E5ECF6",
              "width": 0.5
             },
             "pattern": {
              "fillmode": "overlay",
              "size": 10,
              "solidity": 0.2
             }
            },
            "type": "barpolar"
           }
          ],
          "carpet": [
           {
            "aaxis": {
             "endlinecolor": "#2a3f5f",
             "gridcolor": "white",
             "linecolor": "white",
             "minorgridcolor": "white",
             "startlinecolor": "#2a3f5f"
            },
            "baxis": {
             "endlinecolor": "#2a3f5f",
             "gridcolor": "white",
             "linecolor": "white",
             "minorgridcolor": "white",
             "startlinecolor": "#2a3f5f"
            },
            "type": "carpet"
           }
          ],
          "choropleth": [
           {
            "colorbar": {
             "outlinewidth": 0,
             "ticks": ""
            },
            "type": "choropleth"
           }
          ],
          "contour": [
           {
            "colorbar": {
             "outlinewidth": 0,
             "ticks": ""
            },
            "colorscale": [
             [
              0,
              "#0d0887"
             ],
             [
              0.1111111111111111,
              "#46039f"
             ],
             [
              0.2222222222222222,
              "#7201a8"
             ],
             [
              0.3333333333333333,
              "#9c179e"
             ],
             [
              0.4444444444444444,
              "#bd3786"
             ],
             [
              0.5555555555555556,
              "#d8576b"
             ],
             [
              0.6666666666666666,
              "#ed7953"
             ],
             [
              0.7777777777777778,
              "#fb9f3a"
             ],
             [
              0.8888888888888888,
              "#fdca26"
             ],
             [
              1,
              "#f0f921"
             ]
            ],
            "type": "contour"
           }
          ],
          "contourcarpet": [
           {
            "colorbar": {
             "outlinewidth": 0,
             "ticks": ""
            },
            "type": "contourcarpet"
           }
          ],
          "heatmap": [
           {
            "colorbar": {
             "outlinewidth": 0,
             "ticks": ""
            },
            "colorscale": [
             [
              0,
              "#0d0887"
             ],
             [
              0.1111111111111111,
              "#46039f"
             ],
             [
              0.2222222222222222,
              "#7201a8"
             ],
             [
              0.3333333333333333,
              "#9c179e"
             ],
             [
              0.4444444444444444,
              "#bd3786"
             ],
             [
              0.5555555555555556,
              "#d8576b"
             ],
             [
              0.6666666666666666,
              "#ed7953"
             ],
             [
              0.7777777777777778,
              "#fb9f3a"
             ],
             [
              0.8888888888888888,
              "#fdca26"
             ],
             [
              1,
              "#f0f921"
             ]
            ],
            "type": "heatmap"
           }
          ],
          "histogram": [
           {
            "marker": {
             "pattern": {
              "fillmode": "overlay",
              "size": 10,
              "solidity": 0.2
             }
            },
            "type": "histogram"
           }
          ],
          "histogram2d": [
           {
            "colorbar": {
             "outlinewidth": 0,
             "ticks": ""
            },
            "colorscale": [
             [
              0,
              "#0d0887"
             ],
             [
              0.1111111111111111,
              "#46039f"
             ],
             [
              0.2222222222222222,
              "#7201a8"
             ],
             [
              0.3333333333333333,
              "#9c179e"
             ],
             [
              0.4444444444444444,
              "#bd3786"
             ],
             [
              0.5555555555555556,
              "#d8576b"
             ],
             [
              0.6666666666666666,
              "#ed7953"
             ],
             [
              0.7777777777777778,
              "#fb9f3a"
             ],
             [
              0.8888888888888888,
              "#fdca26"
             ],
             [
              1,
              "#f0f921"
             ]
            ],
            "type": "histogram2d"
           }
          ],
          "histogram2dcontour": [
           {
            "colorbar": {
             "outlinewidth": 0,
             "ticks": ""
            },
            "colorscale": [
             [
              0,
              "#0d0887"
             ],
             [
              0.1111111111111111,
              "#46039f"
             ],
             [
              0.2222222222222222,
              "#7201a8"
             ],
             [
              0.3333333333333333,
              "#9c179e"
             ],
             [
              0.4444444444444444,
              "#bd3786"
             ],
             [
              0.5555555555555556,
              "#d8576b"
             ],
             [
              0.6666666666666666,
              "#ed7953"
             ],
             [
              0.7777777777777778,
              "#fb9f3a"
             ],
             [
              0.8888888888888888,
              "#fdca26"
             ],
             [
              1,
              "#f0f921"
             ]
            ],
            "type": "histogram2dcontour"
           }
          ],
          "mesh3d": [
           {
            "colorbar": {
             "outlinewidth": 0,
             "ticks": ""
            },
            "type": "mesh3d"
           }
          ],
          "parcoords": [
           {
            "line": {
             "colorbar": {
              "outlinewidth": 0,
              "ticks": ""
             }
            },
            "type": "parcoords"
           }
          ],
          "pie": [
           {
            "automargin": true,
            "type": "pie"
           }
          ],
          "scatter": [
           {
            "fillpattern": {
             "fillmode": "overlay",
             "size": 10,
             "solidity": 0.2
            },
            "type": "scatter"
           }
          ],
          "scatter3d": [
           {
            "line": {
             "colorbar": {
              "outlinewidth": 0,
              "ticks": ""
             }
            },
            "marker": {
             "colorbar": {
              "outlinewidth": 0,
              "ticks": ""
             }
            },
            "type": "scatter3d"
           }
          ],
          "scattercarpet": [
           {
            "marker": {
             "colorbar": {
              "outlinewidth": 0,
              "ticks": ""
             }
            },
            "type": "scattercarpet"
           }
          ],
          "scattergeo": [
           {
            "marker": {
             "colorbar": {
              "outlinewidth": 0,
              "ticks": ""
             }
            },
            "type": "scattergeo"
           }
          ],
          "scattergl": [
           {
            "marker": {
             "colorbar": {
              "outlinewidth": 0,
              "ticks": ""
             }
            },
            "type": "scattergl"
           }
          ],
          "scattermap": [
           {
            "marker": {
             "colorbar": {
              "outlinewidth": 0,
              "ticks": ""
             }
            },
            "type": "scattermap"
           }
          ],
          "scattermapbox": [
           {
            "marker": {
             "colorbar": {
              "outlinewidth": 0,
              "ticks": ""
             }
            },
            "type": "scattermapbox"
           }
          ],
          "scatterpolar": [
           {
            "marker": {
             "colorbar": {
              "outlinewidth": 0,
              "ticks": ""
             }
            },
            "type": "scatterpolar"
           }
          ],
          "scatterpolargl": [
           {
            "marker": {
             "colorbar": {
              "outlinewidth": 0,
              "ticks": ""
             }
            },
            "type": "scatterpolargl"
           }
          ],
          "scatterternary": [
           {
            "marker": {
             "colorbar": {
              "outlinewidth": 0,
              "ticks": ""
             }
            },
            "type": "scatterternary"
           }
          ],
          "surface": [
           {
            "colorbar": {
             "outlinewidth": 0,
             "ticks": ""
            },
            "colorscale": [
             [
              0,
              "#0d0887"
             ],
             [
              0.1111111111111111,
              "#46039f"
             ],
             [
              0.2222222222222222,
              "#7201a8"
             ],
             [
              0.3333333333333333,
              "#9c179e"
             ],
             [
              0.4444444444444444,
              "#bd3786"
             ],
             [
              0.5555555555555556,
              "#d8576b"
             ],
             [
              0.6666666666666666,
              "#ed7953"
             ],
             [
              0.7777777777777778,
              "#fb9f3a"
             ],
             [
              0.8888888888888888,
              "#fdca26"
             ],
             [
              1,
              "#f0f921"
             ]
            ],
            "type": "surface"
           }
          ],
          "table": [
           {
            "cells": {
             "fill": {
              "color": "#EBF0F8"
             },
             "line": {
              "color": "white"
             }
            },
            "header": {
             "fill": {
              "color": "#C8D4E3"
             },
             "line": {
              "color": "white"
             }
            },
            "type": "table"
           }
          ]
         },
         "layout": {
          "annotationdefaults": {
           "arrowcolor": "#2a3f5f",
           "arrowhead": 0,
           "arrowwidth": 1
          },
          "autotypenumbers": "strict",
          "coloraxis": {
           "colorbar": {
            "outlinewidth": 0,
            "ticks": ""
           }
          },
          "colorscale": {
           "diverging": [
            [
             0,
             "#8e0152"
            ],
            [
             0.1,
             "#c51b7d"
            ],
            [
             0.2,
             "#de77ae"
            ],
            [
             0.3,
             "#f1b6da"
            ],
            [
             0.4,
             "#fde0ef"
            ],
            [
             0.5,
             "#f7f7f7"
            ],
            [
             0.6,
             "#e6f5d0"
            ],
            [
             0.7,
             "#b8e186"
            ],
            [
             0.8,
             "#7fbc41"
            ],
            [
             0.9,
             "#4d9221"
            ],
            [
             1,
             "#276419"
            ]
           ],
           "sequential": [
            [
             0,
             "#0d0887"
            ],
            [
             0.1111111111111111,
             "#46039f"
            ],
            [
             0.2222222222222222,
             "#7201a8"
            ],
            [
             0.3333333333333333,
             "#9c179e"
            ],
            [
             0.4444444444444444,
             "#bd3786"
            ],
            [
             0.5555555555555556,
             "#d8576b"
            ],
            [
             0.6666666666666666,
             "#ed7953"
            ],
            [
             0.7777777777777778,
             "#fb9f3a"
            ],
            [
             0.8888888888888888,
             "#fdca26"
            ],
            [
             1,
             "#f0f921"
            ]
           ],
           "sequentialminus": [
            [
             0,
             "#0d0887"
            ],
            [
             0.1111111111111111,
             "#46039f"
            ],
            [
             0.2222222222222222,
             "#7201a8"
            ],
            [
             0.3333333333333333,
             "#9c179e"
            ],
            [
             0.4444444444444444,
             "#bd3786"
            ],
            [
             0.5555555555555556,
             "#d8576b"
            ],
            [
             0.6666666666666666,
             "#ed7953"
            ],
            [
             0.7777777777777778,
             "#fb9f3a"
            ],
            [
             0.8888888888888888,
             "#fdca26"
            ],
            [
             1,
             "#f0f921"
            ]
           ]
          },
          "colorway": [
           "#636efa",
           "#EF553B",
           "#00cc96",
           "#ab63fa",
           "#FFA15A",
           "#19d3f3",
           "#FF6692",
           "#B6E880",
           "#FF97FF",
           "#FECB52"
          ],
          "font": {
           "color": "#2a3f5f"
          },
          "geo": {
           "bgcolor": "white",
           "lakecolor": "white",
           "landcolor": "#E5ECF6",
           "showlakes": true,
           "showland": true,
           "subunitcolor": "white"
          },
          "hoverlabel": {
           "align": "left"
          },
          "hovermode": "closest",
          "mapbox": {
           "style": "light"
          },
          "paper_bgcolor": "white",
          "plot_bgcolor": "#E5ECF6",
          "polar": {
           "angularaxis": {
            "gridcolor": "white",
            "linecolor": "white",
            "ticks": ""
           },
           "bgcolor": "#E5ECF6",
           "radialaxis": {
            "gridcolor": "white",
            "linecolor": "white",
            "ticks": ""
           }
          },
          "scene": {
           "xaxis": {
            "backgroundcolor": "#E5ECF6",
            "gridcolor": "white",
            "gridwidth": 2,
            "linecolor": "white",
            "showbackground": true,
            "ticks": "",
            "zerolinecolor": "white"
           },
           "yaxis": {
            "backgroundcolor": "#E5ECF6",
            "gridcolor": "white",
            "gridwidth": 2,
            "linecolor": "white",
            "showbackground": true,
            "ticks": "",
            "zerolinecolor": "white"
           },
           "zaxis": {
            "backgroundcolor": "#E5ECF6",
            "gridcolor": "white",
            "gridwidth": 2,
            "linecolor": "white",
            "showbackground": true,
            "ticks": "",
            "zerolinecolor": "white"
           }
          },
          "shapedefaults": {
           "line": {
            "color": "#2a3f5f"
           }
          },
          "ternary": {
           "aaxis": {
            "gridcolor": "white",
            "linecolor": "white",
            "ticks": ""
           },
           "baxis": {
            "gridcolor": "white",
            "linecolor": "white",
            "ticks": ""
           },
           "bgcolor": "#E5ECF6",
           "caxis": {
            "gridcolor": "white",
            "linecolor": "white",
            "ticks": ""
           }
          },
          "title": {
           "x": 0.05
          },
          "xaxis": {
           "automargin": true,
           "gridcolor": "white",
           "linecolor": "white",
           "ticks": "",
           "title": {
            "standoff": 15
           },
           "zerolinecolor": "white",
           "zerolinewidth": 2
          },
          "yaxis": {
           "automargin": true,
           "gridcolor": "white",
           "linecolor": "white",
           "ticks": "",
           "title": {
            "standoff": 15
           },
           "zerolinecolor": "white",
           "zerolinewidth": 2
          }
         }
        },
        "title": {
         "text": ""
        }
       }
      }
     },
     "metadata": {},
     "output_type": "display_data"
    },
    {
     "data": {
      "text/plain": [
       "{'data': [Scattermapbox({\n",
       "      'lat': [-6.7933, -6.7933],\n",
       "      'line': {'color': 'darkseagreen', 'width': 3},\n",
       "      'lon': [39.2077, 39.2077],\n",
       "      'mode': 'lines',\n",
       "      'opacity': 0.8\n",
       "  }),\n",
       "  Scattermapbox({\n",
       "      'lat': [-2.543, -2.543],\n",
       "      'line': {'color': 'darkseagreen', 'width': 3},\n",
       "      'lon': [32.967, 32.967],\n",
       "      'mode': 'lines',\n",
       "      'opacity': 0.8\n",
       "  }),\n",
       "  Scattermapbox({\n",
       "      'lat': [-6.7988, -6.7988],\n",
       "      'line': {'color': 'darkseagreen', 'width': 3},\n",
       "      'lon': [37.6638, 37.6638],\n",
       "      'mode': 'lines',\n",
       "      'opacity': 0.8\n",
       "  }),\n",
       "  Scattermapbox({\n",
       "      'lat': [-8.9146, -8.9146],\n",
       "      'line': {'color': 'darkseagreen', 'width': 3},\n",
       "      'lon': [33.4967, 33.4967],\n",
       "      'mode': 'lines',\n",
       "      'opacity': 0.8\n",
       "  }),\n",
       "  Scattermapbox({\n",
       "      'lat': [-3.4156, -3.4156],\n",
       "      'line': {'color': 'darkseagreen', 'width': 3},\n",
       "      'lon': [36.711, 36.711],\n",
       "      'mode': 'lines',\n",
       "      'opacity': 0.8\n",
       "  }),\n",
       "  Scattermapbox({\n",
       "      'lat': [-3.6219, -3.6219],\n",
       "      'line': {'color': 'darkseagreen', 'width': 3},\n",
       "      'lon': [33.5148, 33.5148],\n",
       "      'mode': 'lines',\n",
       "      'opacity': 0.8\n",
       "  }),\n",
       "  Scattermapbox({\n",
       "      'lat': [-6.1809, -6.1809],\n",
       "      'line': {'color': 'darkseagreen', 'width': 3},\n",
       "      'lon': [35.6949, 35.6949],\n",
       "      'mode': 'lines',\n",
       "      'opacity': 0.8\n",
       "  }),\n",
       "  Scattermapbox({\n",
       "      'lat': [-7.1387, -7.1387],\n",
       "      'line': {'color': 'darkseagreen', 'width': 3},\n",
       "      'lon': [35.9892, 35.9892],\n",
       "      'mode': 'lines',\n",
       "      'opacity': 0.8\n",
       "  }),\n",
       "  Scattermapbox({\n",
       "      'lat': [-1.3394, -1.3394],\n",
       "      'line': {'color': 'darkseagreen', 'width': 3},\n",
       "      'lon': [31.7957, 31.7957],\n",
       "      'mode': 'lines',\n",
       "      'opacity': 0.8\n",
       "  }),\n",
       "  Scattermapbox({\n",
       "      'lat': [-1.2519, -1.2519],\n",
       "      'line': {'color': 'darkseagreen', 'width': 3},\n",
       "      'lon': [31.413, 31.413],\n",
       "      'mode': 'lines',\n",
       "      'opacity': 0.8\n",
       "  }),\n",
       "  Scattermapbox({\n",
       "      'lat': [-6.7116, -6.7116],\n",
       "      'line': {'color': 'darkseagreen', 'width': 3},\n",
       "      'lon': [38.7439, 38.7439],\n",
       "      'mode': 'lines',\n",
       "      'opacity': 0.8\n",
       "  }),\n",
       "  Scattermapbox({\n",
       "      'lat': [-8.6125, -8.6125],\n",
       "      'line': {'color': 'darkseagreen', 'width': 3},\n",
       "      'lon': [35.8592, 35.8592],\n",
       "      'mode': 'lines',\n",
       "      'opacity': 0.8\n",
       "  }),\n",
       "  Scattermapbox({\n",
       "      'lat': [-8.736, -8.736],\n",
       "      'line': {'color': 'darkseagreen', 'width': 3},\n",
       "      'lon': [35.2887, 35.2887],\n",
       "      'mode': 'lines',\n",
       "      'opacity': 0.8\n",
       "  }),\n",
       "  Scattermapbox({\n",
       "      'lat': [-4.2138, -4.2138],\n",
       "      'line': {'color': 'darkseagreen', 'width': 3},\n",
       "      'lon': [35.7231, 35.7231],\n",
       "      'mode': 'lines',\n",
       "      'opacity': 0.8\n",
       "  }),\n",
       "  Scattermapbox({\n",
       "      'lat': [-6.8217, -6.8217],\n",
       "      'line': {'color': 'darkseagreen', 'width': 3},\n",
       "      'lon': [39.2681, 39.2681],\n",
       "      'mode': 'lines',\n",
       "      'opacity': 0.8\n",
       "  }),\n",
       "  Scattermapbox({\n",
       "      'lat': [-4.8396, -4.8396],\n",
       "      'line': {'color': 'darkseagreen', 'width': 3},\n",
       "      'lon': [34.7573, 34.7573],\n",
       "      'mode': 'lines',\n",
       "      'opacity': 0.8\n",
       "  }),\n",
       "  Scattermapbox({\n",
       "      'lat': [-6.6391, -6.6391],\n",
       "      'line': {'color': 'darkseagreen', 'width': 3},\n",
       "      'lon': [38.3571, 38.3571],\n",
       "      'mode': 'lines',\n",
       "      'opacity': 0.8\n",
       "  }),\n",
       "  Scattermapbox({\n",
       "      'lat': [-4.0717, -4.0717],\n",
       "      'line': {'color': 'darkseagreen', 'width': 3},\n",
       "      'lon': [37.7377, 37.7377],\n",
       "      'mode': 'lines',\n",
       "      'opacity': 0.8\n",
       "  }),\n",
       "  Scattermapbox({\n",
       "      'lat': [-7.7925, -7.7925],\n",
       "      'line': {'color': 'darkseagreen', 'width': 3},\n",
       "      'lon': [35.7317, 35.7317],\n",
       "      'mode': 'lines',\n",
       "      'opacity': 0.8\n",
       "  }),\n",
       "  Scattermapbox({\n",
       "      'lat': [-1.4614, -1.4614],\n",
       "      'line': {'color': 'darkseagreen', 'width': 3},\n",
       "      'lon': [34.5085, 34.5085],\n",
       "      'mode': 'lines',\n",
       "      'opacity': 0.8\n",
       "  }),\n",
       "  Scattermapbox({\n",
       "      'lat': [-7.6683, -7.6683],\n",
       "      'line': {'color': 'darkseagreen', 'width': 3},\n",
       "      'lon': [36.976, 36.976],\n",
       "      'mode': 'lines',\n",
       "      'opacity': 0.8\n",
       "  }),\n",
       "  Scattermapbox({\n",
       "      'lat': [-5.0808, -5.0808],\n",
       "      'line': {'color': 'darkseagreen', 'width': 3},\n",
       "      'lon': [39.0737, 39.0737],\n",
       "      'mode': 'lines',\n",
       "      'opacity': 0.8\n",
       "  }),\n",
       "  Scattermapbox({\n",
       "      'lat': [-3.2208, -3.2208],\n",
       "      'line': {'color': 'darkseagreen', 'width': 3},\n",
       "      'lon': [32.4905, 32.4905],\n",
       "      'mode': 'lines',\n",
       "      'opacity': 0.8\n",
       "  }),\n",
       "  Scattermapbox({\n",
       "      'lat': [-5.3553, -5.3553],\n",
       "      'line': {'color': 'darkseagreen', 'width': 3},\n",
       "      'lon': [38.6566, 38.6566],\n",
       "      'mode': 'lines',\n",
       "      'opacity': 0.8\n",
       "  }),\n",
       "  Scattermapbox({\n",
       "      'lat': [-6.8605, -6.8605],\n",
       "      'line': {'color': 'darkseagreen', 'width': 3},\n",
       "      'lon': [39.2085, 39.2085],\n",
       "      'mode': 'lines',\n",
       "      'opacity': 0.8\n",
       "  }),\n",
       "  Scattermapbox({\n",
       "      'lat': [-6.6745, -6.6745],\n",
       "      'line': {'color': 'darkseagreen', 'width': 3},\n",
       "      'lon': [39.1852, 39.1852],\n",
       "      'mode': 'lines',\n",
       "      'opacity': 0.8\n",
       "  }),\n",
       "  Scattermapbox({\n",
       "      'lat': [-6.8554, -6.8554],\n",
       "      'line': {'color': 'darkseagreen', 'width': 3},\n",
       "      'lon': [39.1566, 39.1566],\n",
       "      'mode': 'lines',\n",
       "      'opacity': 0.8\n",
       "  }),\n",
       "  Scattermapbox({\n",
       "      'lat': [-2.9784, -2.9784],\n",
       "      'line': {'color': 'darkseagreen', 'width': 3},\n",
       "      'lon': [33.1847, 33.1847],\n",
       "      'mode': 'lines',\n",
       "      'opacity': 0.8\n",
       "  }),\n",
       "  Scattermapbox({\n",
       "      'lat': [-6.8836, -6.8836],\n",
       "      'line': {'color': 'darkseagreen', 'width': 3},\n",
       "      'lon': [39.1492, 39.1492],\n",
       "      'mode': 'lines',\n",
       "      'opacity': 0.8\n",
       "  }),\n",
       "  Scattermapbox({\n",
       "      'lat': [-10.1471, -10.1471],\n",
       "      'line': {'color': 'darkseagreen', 'width': 3},\n",
       "      'lon': [39.589, 39.589],\n",
       "      'mode': 'lines',\n",
       "      'opacity': 0.8\n",
       "  }),\n",
       "  Scattermapbox({\n",
       "      'lat': [-10.2756, -10.2756],\n",
       "      'line': {'color': 'darkseagreen', 'width': 3},\n",
       "      'lon': [40.2062, 40.2062],\n",
       "      'mode': 'lines',\n",
       "      'opacity': 0.8\n",
       "  }),\n",
       "  Scattermapbox({\n",
       "      'lat': [-6.921, -6.921],\n",
       "      'line': {'color': 'darkseagreen', 'width': 3},\n",
       "      'lon': [39.2648, 39.2648],\n",
       "      'mode': 'lines',\n",
       "      'opacity': 0.8\n",
       "  }),\n",
       "  Scattermapbox({\n",
       "      'lat': [-6.8608, -6.8608],\n",
       "      'line': {'color': 'darkseagreen', 'width': 3},\n",
       "      'lon': [39.2876, 39.2876],\n",
       "      'mode': 'lines',\n",
       "      'opacity': 0.8\n",
       "  }),\n",
       "  Scattermapbox({\n",
       "      'lat': [-6.9164, -6.9164],\n",
       "      'line': {'color': 'darkseagreen', 'width': 3},\n",
       "      'lon': [39.4424, 39.4424],\n",
       "      'mode': 'lines',\n",
       "      'opacity': 0.8\n",
       "  }),\n",
       "  Scattermapbox({\n",
       "      'lat': [-5.298, -5.298],\n",
       "      'line': {'color': 'darkseagreen', 'width': 3},\n",
       "      'lon': [38.6148, 38.6148],\n",
       "      'mode': 'lines',\n",
       "      'opacity': 0.8\n",
       "  }),\n",
       "  Scattermapbox({\n",
       "      'lat': [-6.6487, -6.6487],\n",
       "      'line': {'color': 'darkseagreen', 'width': 3},\n",
       "      'lon': [38.3893, 38.3893],\n",
       "      'mode': 'lines',\n",
       "      'opacity': 0.8\n",
       "  }),\n",
       "  Scattermapbox({\n",
       "      'lat': [-8.8482, -8.8482],\n",
       "      'line': {'color': 'darkseagreen', 'width': 3},\n",
       "      'lon': [34.8061, 34.8061],\n",
       "      'mode': 'lines',\n",
       "      'opacity': 0.8\n",
       "  }),\n",
       "  Scattermapbox({\n",
       "      'lat': [-3.861, -3.861],\n",
       "      'line': {'color': 'darkseagreen', 'width': 3},\n",
       "      'lon': [32.6861, 32.6861],\n",
       "      'mode': 'lines',\n",
       "      'opacity': 0.8\n",
       "  }),\n",
       "  Scattermapbox({\n",
       "      'lat': [-4.0723, -4.0723],\n",
       "      'line': {'color': 'darkseagreen', 'width': 3},\n",
       "      'lon': [33.1424, 33.1424],\n",
       "      'mode': 'lines',\n",
       "      'opacity': 0.8\n",
       "  }),\n",
       "  Scattermapbox({\n",
       "      'lat': [-1.6559, -1.6559],\n",
       "      'line': {'color': 'darkseagreen', 'width': 3},\n",
       "      'lon': [31.5851, 31.5851],\n",
       "      'mode': 'lines',\n",
       "      'opacity': 0.8\n",
       "  }),\n",
       "  Scattermapbox({\n",
       "      'lat': [-3.4211, -3.4211],\n",
       "      'line': {'color': 'darkseagreen', 'width': 3},\n",
       "      'lon': [37.3141, 37.3141],\n",
       "      'mode': 'lines',\n",
       "      'opacity': 0.8\n",
       "  }),\n",
       "  Scattermapbox({\n",
       "      'lat': [-1.6013, -1.6013],\n",
       "      'line': {'color': 'darkseagreen', 'width': 3},\n",
       "      'lon': [31.1405, 31.1405],\n",
       "      'mode': 'lines',\n",
       "      'opacity': 0.8\n",
       "  }),\n",
       "  Scattermapbox({\n",
       "      'lat': [-3.8494, -3.8494],\n",
       "      'line': {'color': 'darkseagreen', 'width': 3},\n",
       "      'lon': [35.5573, 35.5573],\n",
       "      'mode': 'lines',\n",
       "      'opacity': 0.8\n",
       "  }),\n",
       "  Scattermapbox({\n",
       "      'lat': [-4.9151, -4.9151],\n",
       "      'line': {'color': 'darkseagreen', 'width': 3},\n",
       "      'lon': [35.8113, 35.8113],\n",
       "      'mode': 'lines',\n",
       "      'opacity': 0.8\n",
       "  }),\n",
       "  Scattermapbox({\n",
       "      'lat': [-3.8264, -3.8264],\n",
       "      'line': {'color': 'darkseagreen', 'width': 3},\n",
       "      'lon': [37.4685, 37.4685],\n",
       "      'mode': 'lines',\n",
       "      'opacity': 0.8\n",
       "  }),\n",
       "  Scattermapbox({\n",
       "      'lat': [-2.03, -2.03],\n",
       "      'line': {'color': 'darkseagreen', 'width': 3},\n",
       "      'lon': [33.859, 33.859],\n",
       "      'mode': 'lines',\n",
       "      'opacity': 0.8\n",
       "  }),\n",
       "  Scattermapbox({\n",
       "      'lat': [-1.5343, -1.5343],\n",
       "      'line': {'color': 'darkseagreen', 'width': 3},\n",
       "      'lon': [33.8353, 33.8353],\n",
       "      'mode': 'lines',\n",
       "      'opacity': 0.8\n",
       "  }),\n",
       "  Scattermapbox({\n",
       "      'lat': [-7.6637, -7.6637],\n",
       "      'line': {'color': 'darkseagreen', 'width': 3},\n",
       "      'lon': [36.9672, 36.9672],\n",
       "      'mode': 'lines',\n",
       "      'opacity': 0.8\n",
       "  }),\n",
       "  Scattermapbox({\n",
       "      'lat': [-6.3177, -6.3177],\n",
       "      'line': {'color': 'darkseagreen', 'width': 3},\n",
       "      'lon': [39.2772, 39.2772],\n",
       "      'mode': 'lines',\n",
       "      'opacity': 0.8\n",
       "  }),\n",
       "  Scattermapbox({\n",
       "      'lat': [-3.3762, -3.3762],\n",
       "      'line': {'color': 'darkseagreen', 'width': 3},\n",
       "      'lon': [37.0667, 37.0667],\n",
       "      'mode': 'lines',\n",
       "      'opacity': 0.8\n",
       "  }),\n",
       "  Scattermapbox({\n",
       "      'lat': [-6.8061, -6.8061],\n",
       "      'line': {'color': 'darkseagreen', 'width': 3},\n",
       "      'lon': [39.1568, 39.1568],\n",
       "      'mode': 'lines',\n",
       "      'opacity': 0.8\n",
       "  }),\n",
       "  Scattermapbox({\n",
       "      'lat': [-6.7608, -6.7608],\n",
       "      'line': {'color': 'darkseagreen', 'width': 3},\n",
       "      'lon': [37.8762, 37.8762],\n",
       "      'mode': 'lines',\n",
       "      'opacity': 0.8\n",
       "  }),\n",
       "  Scattermapbox({\n",
       "      'lat': [-6.7771, -6.7771],\n",
       "      'line': {'color': 'darkseagreen', 'width': 3},\n",
       "      'lon': [37.6944, 37.6944],\n",
       "      'mode': 'lines',\n",
       "      'opacity': 0.8\n",
       "  }),\n",
       "  Scattermapbox({\n",
       "      'lat': [-6.7873, -6.7873],\n",
       "      'line': {'color': 'darkseagreen', 'width': 3},\n",
       "      'lon': [37.7496, 37.7496],\n",
       "      'mode': 'lines',\n",
       "      'opacity': 0.8\n",
       "  }),\n",
       "  Scattermapbox({\n",
       "      'lat': [-6.7856, -6.7856],\n",
       "      'line': {'color': 'darkseagreen', 'width': 3},\n",
       "      'lon': [37.7889, 37.7889],\n",
       "      'mode': 'lines',\n",
       "      'opacity': 0.8\n",
       "  }),\n",
       "  Scattermapbox({\n",
       "      'lat': [-6.7698, -6.7698],\n",
       "      'line': {'color': 'darkseagreen', 'width': 3},\n",
       "      'lon': [37.8085, 37.8085],\n",
       "      'mode': 'lines',\n",
       "      'opacity': 0.8\n",
       "  }),\n",
       "  Scattermapbox({\n",
       "      'lat': [-6.7726, -6.7726],\n",
       "      'line': {'color': 'darkseagreen', 'width': 3},\n",
       "      'lon': [37.8334, 37.8334],\n",
       "      'mode': 'lines',\n",
       "      'opacity': 0.8\n",
       "  }),\n",
       "  Scattermapbox({\n",
       "      'lat': [-6.7893, -6.7893],\n",
       "      'line': {'color': 'darkseagreen', 'width': 3},\n",
       "      'lon': [37.7658, 37.7658],\n",
       "      'mode': 'lines',\n",
       "      'opacity': 0.8\n",
       "  }),\n",
       "  Scattermapbox({\n",
       "      'lat': [-6.7831, -6.7831],\n",
       "      'line': {'color': 'darkseagreen', 'width': 3},\n",
       "      'lon': [37.797, 37.797],\n",
       "      'mode': 'lines',\n",
       "      'opacity': 0.8\n",
       "  }),\n",
       "  Scattermapbox({\n",
       "      'lat': [-6.7943, -6.7943],\n",
       "      'line': {'color': 'darkseagreen', 'width': 3},\n",
       "      'lon': [37.723, 37.723],\n",
       "      'mode': 'lines',\n",
       "      'opacity': 0.8\n",
       "  }),\n",
       "  Scattermapbox({\n",
       "      'lat': [-6.8114, -6.8114],\n",
       "      'line': {'color': 'darkseagreen', 'width': 3},\n",
       "      'lon': [38.6517, 38.6517],\n",
       "      'mode': 'lines',\n",
       "      'opacity': 0.8\n",
       "  }),\n",
       "  Scattermapbox({\n",
       "      'lat': [-6.8357, -6.8357],\n",
       "      'line': {'color': 'darkseagreen', 'width': 3},\n",
       "      'lon': [38.65, 38.65],\n",
       "      'mode': 'lines',\n",
       "      'opacity': 0.8\n",
       "  }),\n",
       "  Scattermapbox({\n",
       "      'lat': [-6.794, -6.794],\n",
       "      'line': {'color': 'darkseagreen', 'width': 3},\n",
       "      'lon': [38.2002, 38.2002],\n",
       "      'mode': 'lines',\n",
       "      'opacity': 0.8\n",
       "  }),\n",
       "  Scattermapbox({\n",
       "      'lat': [-6.8034, -6.8034],\n",
       "      'line': {'color': 'darkseagreen', 'width': 3},\n",
       "      'lon': [36.9672, 36.9672],\n",
       "      'mode': 'lines',\n",
       "      'opacity': 0.8\n",
       "  }),\n",
       "  Scattermapbox({\n",
       "      'lat': [-6.6334, -6.6334],\n",
       "      'line': {'color': 'darkseagreen', 'width': 3},\n",
       "      'lon': [36.693, 36.693],\n",
       "      'mode': 'lines',\n",
       "      'opacity': 0.8\n",
       "  }),\n",
       "  Scattermapbox({\n",
       "      'lat': [-6.3639, -6.3639],\n",
       "      'line': {'color': 'darkseagreen', 'width': 3},\n",
       "      'lon': [36.2683, 36.2683],\n",
       "      'mode': 'lines',\n",
       "      'opacity': 0.8\n",
       "  }),\n",
       "  Scattermapbox({\n",
       "      'lat': [-6.191, -6.191],\n",
       "      'line': {'color': 'darkseagreen', 'width': 3},\n",
       "      'lon': [35.9289, 35.9289],\n",
       "      'mode': 'lines',\n",
       "      'opacity': 0.8\n",
       "  }),\n",
       "  Scattermapbox({\n",
       "      'lat': [-5.9449, -5.9449],\n",
       "      'line': {'color': 'darkseagreen', 'width': 3},\n",
       "      'lon': [35.2746, 35.2746],\n",
       "      'mode': 'lines',\n",
       "      'opacity': 0.8\n",
       "  }),\n",
       "  Scattermapbox({\n",
       "      'lat': [-5.8807, -5.8807],\n",
       "      'line': {'color': 'darkseagreen', 'width': 3},\n",
       "      'lon': [35.2092, 35.2092],\n",
       "      'mode': 'lines',\n",
       "      'opacity': 0.8\n",
       "  }),\n",
       "  Scattermapbox({\n",
       "      'lat': [-6.9008, -6.9008],\n",
       "      'line': {'color': 'darkseagreen', 'width': 3},\n",
       "      'lon': [39.3244, 39.3244],\n",
       "      'mode': 'lines',\n",
       "      'opacity': 0.8\n",
       "  }),\n",
       "  Scattermapbox({\n",
       "      'lat': [-2.9904, -2.9904],\n",
       "      'line': {'color': 'darkseagreen', 'width': 3},\n",
       "      'lon': [31.2136, 31.2136],\n",
       "      'mode': 'lines',\n",
       "      'opacity': 0.8\n",
       "  }),\n",
       "  Scattermapbox({\n",
       "      'lat': [-3.3922, -3.3922],\n",
       "      'line': {'color': 'darkseagreen', 'width': 3},\n",
       "      'lon': [36.278, 36.278],\n",
       "      'mode': 'lines',\n",
       "      'opacity': 0.8\n",
       "  }),\n",
       "  Scattermapbox({\n",
       "      'lat': [-6.7582, -6.7582],\n",
       "      'line': {'color': 'darkseagreen', 'width': 3},\n",
       "      'lon': [37.3769, 37.3769],\n",
       "      'mode': 'lines',\n",
       "      'opacity': 0.8\n",
       "  }),\n",
       "  Scattermapbox({\n",
       "      'lat': [-2.9179, -2.9179],\n",
       "      'line': {'color': 'darkseagreen', 'width': 3},\n",
       "      'lon': [32.1929, 32.1929],\n",
       "      'mode': 'lines',\n",
       "      'opacity': 0.8\n",
       "  }),\n",
       "  Scattermapbox({\n",
       "      'lat': [-3.4182, -3.4182],\n",
       "      'line': {'color': 'darkseagreen', 'width': 3},\n",
       "      'lon': [36.5755, 36.5755],\n",
       "      'mode': 'lines',\n",
       "      'opacity': 0.8\n",
       "  }),\n",
       "  Scattermapbox({\n",
       "      'lat': [-6.1882, -6.1882],\n",
       "      'line': {'color': 'darkseagreen', 'width': 3},\n",
       "      'lon': [35.5711, 35.5711],\n",
       "      'mode': 'lines',\n",
       "      'opacity': 0.8\n",
       "  }),\n",
       "  Scattermapbox({\n",
       "      'lat': [-6.6616, -6.6616],\n",
       "      'line': {'color': 'darkseagreen', 'width': 3},\n",
       "      'lon': [36.7097, 36.7097],\n",
       "      'mode': 'lines',\n",
       "      'opacity': 0.8\n",
       "  }),\n",
       "  Scattermapbox({\n",
       "      'lat': [-7.7772, -7.7772],\n",
       "      'line': {'color': 'darkseagreen', 'width': 3},\n",
       "      'lon': [37.8406, 37.8406],\n",
       "      'mode': 'lines',\n",
       "      'opacity': 0.8\n",
       "  }),\n",
       "  Scattermapbox({\n",
       "      'lat': [-6.6373, -6.6373],\n",
       "      'line': {'color': 'darkseagreen', 'width': 3},\n",
       "      'lon': [39.1995, 39.1995],\n",
       "      'mode': 'lines',\n",
       "      'opacity': 0.8\n",
       "  }),\n",
       "  Scattermapbox({\n",
       "      'lat': [-1.7027, -1.7027],\n",
       "      'line': {'color': 'darkseagreen', 'width': 3},\n",
       "      'lon': [31.6273, 31.6273],\n",
       "      'mode': 'lines',\n",
       "      'opacity': 0.8\n",
       "  }),\n",
       "  Scattermapbox({\n",
       "      'lat': [-1.3937, -1.3937],\n",
       "      'line': {'color': 'darkseagreen', 'width': 3},\n",
       "      'lon': [31.7668, 31.7668],\n",
       "      'mode': 'lines',\n",
       "      'opacity': 0.8\n",
       "  }),\n",
       "  Scattermapbox({\n",
       "      'lat': [-1.7828, -1.7828],\n",
       "      'line': {'color': 'darkseagreen', 'width': 3},\n",
       "      'lon': [31.5506, 31.5506],\n",
       "      'mode': 'lines',\n",
       "      'opacity': 0.8\n",
       "  }),\n",
       "  Scattermapbox({\n",
       "      'lat': [-1.3336, -1.3336],\n",
       "      'line': {'color': 'darkseagreen', 'width': 3},\n",
       "      'lon': [31.8202, 31.8202],\n",
       "      'mode': 'lines',\n",
       "      'opacity': 0.8\n",
       "  }),\n",
       "  Scattermapbox({\n",
       "      'lat': [-3.3411, -3.3411],\n",
       "      'line': {'color': 'darkseagreen', 'width': 3},\n",
       "      'lon': [35.667, 35.667],\n",
       "      'mode': 'lines',\n",
       "      'opacity': 0.8\n",
       "  }),\n",
       "  Scattermapbox({\n",
       "      'lat': [-4.9986, -4.9986],\n",
       "      'line': {'color': 'darkseagreen', 'width': 3},\n",
       "      'lon': [32.8102, 32.8102],\n",
       "      'mode': 'lines',\n",
       "      'opacity': 0.8\n",
       "  }),\n",
       "  Scattermapbox({\n",
       "      'lat': [-5.2856, -5.2856],\n",
       "      'line': {'color': 'darkseagreen', 'width': 3},\n",
       "      'lon': [38.636, 38.636],\n",
       "      'mode': 'lines',\n",
       "      'opacity': 0.8\n",
       "  }),\n",
       "  Scattermapbox({\n",
       "      'lat': [-6.1383, -6.1383],\n",
       "      'line': {'color': 'darkseagreen', 'width': 3},\n",
       "      'lon': [39.2185, 39.2185],\n",
       "      'mode': 'lines',\n",
       "      'opacity': 0.8\n",
       "  }),\n",
       "  Scattermapbox({\n",
       "      'lat': [-6.871, -6.871],\n",
       "      'line': {'color': 'darkseagreen', 'width': 3},\n",
       "      'lon': [39.0628, 39.0628],\n",
       "      'mode': 'lines',\n",
       "      'opacity': 0.8\n",
       "  }),\n",
       "  Scattermapbox({\n",
       "      'lat': [-6.5586, -6.5586],\n",
       "      'line': {'color': 'darkseagreen', 'width': 3},\n",
       "      'lon': [36.6172, 36.6172],\n",
       "      'mode': 'lines',\n",
       "      'opacity': 0.8\n",
       "  }),\n",
       "  Scattermapbox({\n",
       "      'lat': [-2.387, -2.387],\n",
       "      'line': {'color': 'darkseagreen', 'width': 3},\n",
       "      'lon': [30.7929, 30.7929],\n",
       "      'mode': 'lines',\n",
       "      'opacity': 0.8\n",
       "  }),\n",
       "  Scattermapbox({\n",
       "      'lat': [-10.6415, -10.6415],\n",
       "      'line': {'color': 'darkseagreen', 'width': 3},\n",
       "      'lon': [35.6765, 35.6765],\n",
       "      'mode': 'lines',\n",
       "      'opacity': 0.8\n",
       "  }),\n",
       "  Scattermapbox({\n",
       "      'lat': [-6.7204, -6.7204],\n",
       "      'line': {'color': 'darkseagreen', 'width': 3},\n",
       "      'lon': [36.8371, 36.8371],\n",
       "      'mode': 'lines',\n",
       "      'opacity': 0.8\n",
       "  }),\n",
       "  Scattermapbox({\n",
       "      'lat': [-6.8108, -6.8108],\n",
       "      'line': {'color': 'darkseagreen', 'width': 3},\n",
       "      'lon': [37.6277, 37.6277],\n",
       "      'mode': 'lines',\n",
       "      'opacity': 0.8\n",
       "  }),\n",
       "  Scattermapbox({\n",
       "      'lat': [-6.8133, -6.8133],\n",
       "      'line': {'color': 'darkseagreen', 'width': 3},\n",
       "      'lon': [37.066, 37.066],\n",
       "      'mode': 'lines',\n",
       "      'opacity': 0.8\n",
       "  }),\n",
       "  Scattermapbox({\n",
       "      'lat': [-6.7647, -6.7647],\n",
       "      'line': {'color': 'darkseagreen', 'width': 3},\n",
       "      'lon': [36.9398, 36.9398],\n",
       "      'mode': 'lines',\n",
       "      'opacity': 0.8\n",
       "  }),\n",
       "  Scattermapbox({\n",
       "      'lat': [-6.7933, -6.7933],\n",
       "      'line': {'color': 'darkseagreen', 'width': 3},\n",
       "      'lon': [39.2077, 39.2077],\n",
       "      'mode': 'lines',\n",
       "      'opacity': 0.8\n",
       "  }),\n",
       "  Scattermapbox({\n",
       "      'lat': [-2.543, -2.543],\n",
       "      'line': {'color': 'darkseagreen', 'width': 3},\n",
       "      'lon': [32.967, 32.967],\n",
       "      'mode': 'lines',\n",
       "      'opacity': 0.8\n",
       "  }),\n",
       "  Scattermapbox({\n",
       "      'lat': [-6.7988, -6.7988],\n",
       "      'line': {'color': 'darkseagreen', 'width': 3},\n",
       "      'lon': [37.6638, 37.6638],\n",
       "      'mode': 'lines',\n",
       "      'opacity': 0.8\n",
       "  }),\n",
       "  Scattermapbox({\n",
       "      'lat': [-8.9146, -8.9146],\n",
       "      'line': {'color': 'darkseagreen', 'width': 3},\n",
       "      'lon': [33.4967, 33.4967],\n",
       "      'mode': 'lines',\n",
       "      'opacity': 0.8\n",
       "  }),\n",
       "  Scattermapbox({\n",
       "      'lat': [-3.4156, -3.4156],\n",
       "      'line': {'color': 'darkseagreen', 'width': 3},\n",
       "      'lon': [36.711, 36.711],\n",
       "      'mode': 'lines',\n",
       "      'opacity': 0.8\n",
       "  }),\n",
       "  Scattermapbox({\n",
       "      'lat': [-3.6219, -3.6219],\n",
       "      'line': {'color': 'darkseagreen', 'width': 3},\n",
       "      'lon': [33.5148, 33.5148],\n",
       "      'mode': 'lines',\n",
       "      'opacity': 0.8\n",
       "  }),\n",
       "  Scattermapbox({\n",
       "      'lat': [-6.1809, -6.1809],\n",
       "      'line': {'color': 'darkseagreen', 'width': 3},\n",
       "      'lon': [35.6949, 35.6949],\n",
       "      'mode': 'lines',\n",
       "      'opacity': 0.8\n",
       "  }),\n",
       "  Scattermapbox({\n",
       "      'lat': [-7.1387, -7.1387],\n",
       "      'line': {'color': 'darkseagreen', 'width': 3},\n",
       "      'lon': [35.9892, 35.9892],\n",
       "      'mode': 'lines',\n",
       "      'opacity': 0.8\n",
       "  }),\n",
       "  Scattermapbox({\n",
       "      'lat': [-1.3394, -1.3394],\n",
       "      'line': {'color': 'darkseagreen', 'width': 3},\n",
       "      'lon': [31.7957, 31.7957],\n",
       "      'mode': 'lines',\n",
       "      'opacity': 0.8\n",
       "  }),\n",
       "  Scattermapbox({\n",
       "      'lat': [-1.2519, -1.2519],\n",
       "      'line': {'color': 'darkseagreen', 'width': 3},\n",
       "      'lon': [31.413, 31.413],\n",
       "      'mode': 'lines',\n",
       "      'opacity': 0.8\n",
       "  }),\n",
       "  Scattermapbox({\n",
       "      'lat': [-6.7116, -6.7116],\n",
       "      'line': {'color': 'darkseagreen', 'width': 3},\n",
       "      'lon': [38.7439, 38.7439],\n",
       "      'mode': 'lines',\n",
       "      'opacity': 0.8\n",
       "  }),\n",
       "  Scattermapbox({\n",
       "      'lat': [-8.6125, -8.6125],\n",
       "      'line': {'color': 'darkseagreen', 'width': 3},\n",
       "      'lon': [35.8592, 35.8592],\n",
       "      'mode': 'lines',\n",
       "      'opacity': 0.8\n",
       "  }),\n",
       "  Scattermapbox({\n",
       "      'lat': [-8.736, -8.736],\n",
       "      'line': {'color': 'darkseagreen', 'width': 3},\n",
       "      'lon': [35.2887, 35.2887],\n",
       "      'mode': 'lines',\n",
       "      'opacity': 0.8\n",
       "  }),\n",
       "  Scattermapbox({\n",
       "      'lat': [-4.2138, -4.2138],\n",
       "      'line': {'color': 'darkseagreen', 'width': 3},\n",
       "      'lon': [35.7231, 35.7231],\n",
       "      'mode': 'lines',\n",
       "      'opacity': 0.8\n",
       "  }),\n",
       "  Scattermapbox({\n",
       "      'lat': [-6.8217, -6.8217],\n",
       "      'line': {'color': 'darkseagreen', 'width': 3},\n",
       "      'lon': [39.2681, 39.2681],\n",
       "      'mode': 'lines',\n",
       "      'opacity': 0.8\n",
       "  }),\n",
       "  Scattermapbox({\n",
       "      'lat': [-4.8396, -4.8396],\n",
       "      'line': {'color': 'darkseagreen', 'width': 3},\n",
       "      'lon': [34.7573, 34.7573],\n",
       "      'mode': 'lines',\n",
       "      'opacity': 0.8\n",
       "  }),\n",
       "  Scattermapbox({\n",
       "      'lat': [-6.6391, -6.6391],\n",
       "      'line': {'color': 'darkseagreen', 'width': 3},\n",
       "      'lon': [38.3571, 38.3571],\n",
       "      'mode': 'lines',\n",
       "      'opacity': 0.8\n",
       "  }),\n",
       "  Scattermapbox({\n",
       "      'lat': [-4.0717, -4.0717],\n",
       "      'line': {'color': 'darkseagreen', 'width': 3},\n",
       "      'lon': [37.7377, 37.7377],\n",
       "      'mode': 'lines',\n",
       "      'opacity': 0.8\n",
       "  }),\n",
       "  Scattermapbox({\n",
       "      'lat': [-7.7925, -7.7925],\n",
       "      'line': {'color': 'darkseagreen', 'width': 3},\n",
       "      'lon': [35.7317, 35.7317],\n",
       "      'mode': 'lines',\n",
       "      'opacity': 0.8\n",
       "  }),\n",
       "  Scattermapbox({\n",
       "      'lat': [-1.4614, -1.4614],\n",
       "      'line': {'color': 'darkseagreen', 'width': 3},\n",
       "      'lon': [34.5085, 34.5085],\n",
       "      'mode': 'lines',\n",
       "      'opacity': 0.8\n",
       "  }),\n",
       "  Scattermapbox({\n",
       "      'lat': [-7.6683, -7.6683],\n",
       "      'line': {'color': 'darkseagreen', 'width': 3},\n",
       "      'lon': [36.976, 36.976],\n",
       "      'mode': 'lines',\n",
       "      'opacity': 0.8\n",
       "  }),\n",
       "  Scattermapbox({\n",
       "      'lat': [-5.0808, -5.0808],\n",
       "      'line': {'color': 'darkseagreen', 'width': 3},\n",
       "      'lon': [39.0737, 39.0737],\n",
       "      'mode': 'lines',\n",
       "      'opacity': 0.8\n",
       "  }),\n",
       "  Scattermapbox({\n",
       "      'lat': [-3.2208, -3.2208],\n",
       "      'line': {'color': 'darkseagreen', 'width': 3},\n",
       "      'lon': [32.4905, 32.4905],\n",
       "      'mode': 'lines',\n",
       "      'opacity': 0.8\n",
       "  }),\n",
       "  Scattermapbox({\n",
       "      'lat': [-5.3553, -5.3553],\n",
       "      'line': {'color': 'darkseagreen', 'width': 3},\n",
       "      'lon': [38.6566, 38.6566],\n",
       "      'mode': 'lines',\n",
       "      'opacity': 0.8\n",
       "  }),\n",
       "  Scattermapbox({\n",
       "      'lat': [-6.8605, -6.8605],\n",
       "      'line': {'color': 'darkseagreen', 'width': 3},\n",
       "      'lon': [39.2085, 39.2085],\n",
       "      'mode': 'lines',\n",
       "      'opacity': 0.8\n",
       "  }),\n",
       "  Scattermapbox({\n",
       "      'lat': [-6.6745, -6.6745],\n",
       "      'line': {'color': 'darkseagreen', 'width': 3},\n",
       "      'lon': [39.1852, 39.1852],\n",
       "      'mode': 'lines',\n",
       "      'opacity': 0.8\n",
       "  }),\n",
       "  Scattermapbox({\n",
       "      'lat': [-6.8554, -6.8554],\n",
       "      'line': {'color': 'darkseagreen', 'width': 3},\n",
       "      'lon': [39.1566, 39.1566],\n",
       "      'mode': 'lines',\n",
       "      'opacity': 0.8\n",
       "  }),\n",
       "  Scattermapbox({\n",
       "      'lat': [-2.9784, -2.9784],\n",
       "      'line': {'color': 'darkseagreen', 'width': 3},\n",
       "      'lon': [33.1847, 33.1847],\n",
       "      'mode': 'lines',\n",
       "      'opacity': 0.8\n",
       "  }),\n",
       "  Scattermapbox({\n",
       "      'lat': [-6.8836, -6.8836],\n",
       "      'line': {'color': 'darkseagreen', 'width': 3},\n",
       "      'lon': [39.1492, 39.1492],\n",
       "      'mode': 'lines',\n",
       "      'opacity': 0.8\n",
       "  }),\n",
       "  Scattermapbox({\n",
       "      'lat': [-10.1471, -10.1471],\n",
       "      'line': {'color': 'darkseagreen', 'width': 3},\n",
       "      'lon': [39.589, 39.589],\n",
       "      'mode': 'lines',\n",
       "      'opacity': 0.8\n",
       "  }),\n",
       "  Scattermapbox({\n",
       "      'lat': [-10.2756, -10.2756],\n",
       "      'line': {'color': 'darkseagreen', 'width': 3},\n",
       "      'lon': [40.2062, 40.2062],\n",
       "      'mode': 'lines',\n",
       "      'opacity': 0.8\n",
       "  }),\n",
       "  Scattermapbox({\n",
       "      'lat': [-6.921, -6.921],\n",
       "      'line': {'color': 'darkseagreen', 'width': 3},\n",
       "      'lon': [39.2648, 39.2648],\n",
       "      'mode': 'lines',\n",
       "      'opacity': 0.8\n",
       "  }),\n",
       "  Scattermapbox({\n",
       "      'lat': [-6.8608, -6.8608],\n",
       "      'line': {'color': 'darkseagreen', 'width': 3},\n",
       "      'lon': [39.2876, 39.2876],\n",
       "      'mode': 'lines',\n",
       "      'opacity': 0.8\n",
       "  }),\n",
       "  Scattermapbox({\n",
       "      'lat': [-6.9164, -6.9164],\n",
       "      'line': {'color': 'darkseagreen', 'width': 3},\n",
       "      'lon': [39.4424, 39.4424],\n",
       "      'mode': 'lines',\n",
       "      'opacity': 0.8\n",
       "  }),\n",
       "  Scattermapbox({\n",
       "      'lat': [-5.298, -5.298],\n",
       "      'line': {'color': 'darkseagreen', 'width': 3},\n",
       "      'lon': [38.6148, 38.6148],\n",
       "      'mode': 'lines',\n",
       "      'opacity': 0.8\n",
       "  }),\n",
       "  Scattermapbox({\n",
       "      'lat': [-6.6487, -6.6487],\n",
       "      'line': {'color': 'darkseagreen', 'width': 3},\n",
       "      'lon': [38.3893, 38.3893],\n",
       "      'mode': 'lines',\n",
       "      'opacity': 0.8\n",
       "  }),\n",
       "  Scattermapbox({\n",
       "      'lat': [-8.8482, -8.8482],\n",
       "      'line': {'color': 'darkseagreen', 'width': 3},\n",
       "      'lon': [34.8061, 34.8061],\n",
       "      'mode': 'lines',\n",
       "      'opacity': 0.8\n",
       "  }),\n",
       "  Scattermapbox({\n",
       "      'lat': [-3.861, -3.861],\n",
       "      'line': {'color': 'darkseagreen', 'width': 3},\n",
       "      'lon': [32.6861, 32.6861],\n",
       "      'mode': 'lines',\n",
       "      'opacity': 0.8\n",
       "  }),\n",
       "  Scattermapbox({\n",
       "      'lat': [-4.0723, -4.0723],\n",
       "      'line': {'color': 'darkseagreen', 'width': 3},\n",
       "      'lon': [33.1424, 33.1424],\n",
       "      'mode': 'lines',\n",
       "      'opacity': 0.8\n",
       "  }),\n",
       "  Scattermapbox({\n",
       "      'lat': [-1.6559, -1.6559],\n",
       "      'line': {'color': 'darkseagreen', 'width': 3},\n",
       "      'lon': [31.5851, 31.5851],\n",
       "      'mode': 'lines',\n",
       "      'opacity': 0.8\n",
       "  }),\n",
       "  Scattermapbox({\n",
       "      'lat': [-3.4211, -3.4211],\n",
       "      'line': {'color': 'darkseagreen', 'width': 3},\n",
       "      'lon': [37.3141, 37.3141],\n",
       "      'mode': 'lines',\n",
       "      'opacity': 0.8\n",
       "  }),\n",
       "  Scattermapbox({\n",
       "      'lat': [-1.6013, -1.6013],\n",
       "      'line': {'color': 'darkseagreen', 'width': 3},\n",
       "      'lon': [31.1405, 31.1405],\n",
       "      'mode': 'lines',\n",
       "      'opacity': 0.8\n",
       "  }),\n",
       "  Scattermapbox({\n",
       "      'lat': [-3.8494, -3.8494],\n",
       "      'line': {'color': 'darkseagreen', 'width': 3},\n",
       "      'lon': [35.5573, 35.5573],\n",
       "      'mode': 'lines',\n",
       "      'opacity': 0.8\n",
       "  }),\n",
       "  Scattermapbox({\n",
       "      'lat': [-4.9151, -4.9151],\n",
       "      'line': {'color': 'darkseagreen', 'width': 3},\n",
       "      'lon': [35.8113, 35.8113],\n",
       "      'mode': 'lines',\n",
       "      'opacity': 0.8\n",
       "  }),\n",
       "  Scattermapbox({\n",
       "      'lat': [-3.8264, -3.8264],\n",
       "      'line': {'color': 'darkseagreen', 'width': 3},\n",
       "      'lon': [37.4685, 37.4685],\n",
       "      'mode': 'lines',\n",
       "      'opacity': 0.8\n",
       "  }),\n",
       "  Scattermapbox({\n",
       "      'lat': [-2.03, -2.03],\n",
       "      'line': {'color': 'darkseagreen', 'width': 3},\n",
       "      'lon': [33.859, 33.859],\n",
       "      'mode': 'lines',\n",
       "      'opacity': 0.8\n",
       "  }),\n",
       "  Scattermapbox({\n",
       "      'lat': [-1.5343, -1.5343],\n",
       "      'line': {'color': 'darkseagreen', 'width': 3},\n",
       "      'lon': [33.8353, 33.8353],\n",
       "      'mode': 'lines',\n",
       "      'opacity': 0.8\n",
       "  }),\n",
       "  Scattermapbox({\n",
       "      'lat': [-7.6637, -7.6637],\n",
       "      'line': {'color': 'darkseagreen', 'width': 3},\n",
       "      'lon': [36.9672, 36.9672],\n",
       "      'mode': 'lines',\n",
       "      'opacity': 0.8\n",
       "  }),\n",
       "  Scattermapbox({\n",
       "      'lat': [-6.3177, -6.3177],\n",
       "      'line': {'color': 'darkseagreen', 'width': 3},\n",
       "      'lon': [39.2772, 39.2772],\n",
       "      'mode': 'lines',\n",
       "      'opacity': 0.8\n",
       "  }),\n",
       "  Scattermapbox({\n",
       "      'lat': [-3.3762, -3.3762],\n",
       "      'line': {'color': 'darkseagreen', 'width': 3},\n",
       "      'lon': [37.0667, 37.0667],\n",
       "      'mode': 'lines',\n",
       "      'opacity': 0.8\n",
       "  }),\n",
       "  Scattermapbox({\n",
       "      'lat': [-6.8061, -6.8061],\n",
       "      'line': {'color': 'darkseagreen', 'width': 3},\n",
       "      'lon': [39.1568, 39.1568],\n",
       "      'mode': 'lines',\n",
       "      'opacity': 0.8\n",
       "  }),\n",
       "  Scattermapbox({\n",
       "      'lat': [-6.7608, -6.7608],\n",
       "      'line': {'color': 'darkseagreen', 'width': 3},\n",
       "      'lon': [37.8762, 37.8762],\n",
       "      'mode': 'lines',\n",
       "      'opacity': 0.8\n",
       "  }),\n",
       "  Scattermapbox({\n",
       "      'lat': [-6.7771, -6.7771],\n",
       "      'line': {'color': 'darkseagreen', 'width': 3},\n",
       "      'lon': [37.6944, 37.6944],\n",
       "      'mode': 'lines',\n",
       "      'opacity': 0.8\n",
       "  }),\n",
       "  Scattermapbox({\n",
       "      'lat': [-6.7873, -6.7873],\n",
       "      'line': {'color': 'darkseagreen', 'width': 3},\n",
       "      'lon': [37.7496, 37.7496],\n",
       "      'mode': 'lines',\n",
       "      'opacity': 0.8\n",
       "  }),\n",
       "  Scattermapbox({\n",
       "      'lat': [-6.7856, -6.7856],\n",
       "      'line': {'color': 'darkseagreen', 'width': 3},\n",
       "      'lon': [37.7889, 37.7889],\n",
       "      'mode': 'lines',\n",
       "      'opacity': 0.8\n",
       "  }),\n",
       "  Scattermapbox({\n",
       "      'lat': [-6.7698, -6.7698],\n",
       "      'line': {'color': 'darkseagreen', 'width': 3},\n",
       "      'lon': [37.8085, 37.8085],\n",
       "      'mode': 'lines',\n",
       "      'opacity': 0.8\n",
       "  }),\n",
       "  Scattermapbox({\n",
       "      'lat': [-6.7726, -6.7726],\n",
       "      'line': {'color': 'darkseagreen', 'width': 3},\n",
       "      'lon': [37.8334, 37.8334],\n",
       "      'mode': 'lines',\n",
       "      'opacity': 0.8\n",
       "  }),\n",
       "  Scattermapbox({\n",
       "      'lat': [-6.7893, -6.7893],\n",
       "      'line': {'color': 'darkseagreen', 'width': 3},\n",
       "      'lon': [37.7658, 37.7658],\n",
       "      'mode': 'lines',\n",
       "      'opacity': 0.8\n",
       "  }),\n",
       "  Scattermapbox({\n",
       "      'lat': [-6.7831, -6.7831],\n",
       "      'line': {'color': 'darkseagreen', 'width': 3},\n",
       "      'lon': [37.797, 37.797],\n",
       "      'mode': 'lines',\n",
       "      'opacity': 0.8\n",
       "  }),\n",
       "  Scattermapbox({\n",
       "      'lat': [-6.7943, -6.7943],\n",
       "      'line': {'color': 'darkseagreen', 'width': 3},\n",
       "      'lon': [37.723, 37.723],\n",
       "      'mode': 'lines',\n",
       "      'opacity': 0.8\n",
       "  }),\n",
       "  Scattermapbox({\n",
       "      'lat': [-6.8114, -6.8114],\n",
       "      'line': {'color': 'darkseagreen', 'width': 3},\n",
       "      'lon': [38.6517, 38.6517],\n",
       "      'mode': 'lines',\n",
       "      'opacity': 0.8\n",
       "  }),\n",
       "  Scattermapbox({\n",
       "      'lat': [-6.8357, -6.8357],\n",
       "      'line': {'color': 'darkseagreen', 'width': 3},\n",
       "      'lon': [38.65, 38.65],\n",
       "      'mode': 'lines',\n",
       "      'opacity': 0.8\n",
       "  }),\n",
       "  Scattermapbox({\n",
       "      'lat': [-6.794, -6.794],\n",
       "      'line': {'color': 'darkseagreen', 'width': 3},\n",
       "      'lon': [38.2002, 38.2002],\n",
       "      'mode': 'lines',\n",
       "      'opacity': 0.8\n",
       "  }),\n",
       "  Scattermapbox({\n",
       "      'lat': [-6.8034, -6.8034],\n",
       "      'line': {'color': 'darkseagreen', 'width': 3},\n",
       "      'lon': [36.9672, 36.9672],\n",
       "      'mode': 'lines',\n",
       "      'opacity': 0.8\n",
       "  }),\n",
       "  Scattermapbox({\n",
       "      'lat': [-6.6334, -6.6334],\n",
       "      'line': {'color': 'darkseagreen', 'width': 3},\n",
       "      'lon': [36.693, 36.693],\n",
       "      'mode': 'lines',\n",
       "      'opacity': 0.8\n",
       "  }),\n",
       "  Scattermapbox({\n",
       "      'lat': [-6.3639, -6.3639],\n",
       "      'line': {'color': 'darkseagreen', 'width': 3},\n",
       "      'lon': [36.2683, 36.2683],\n",
       "      'mode': 'lines',\n",
       "      'opacity': 0.8\n",
       "  }),\n",
       "  Scattermapbox({\n",
       "      'lat': [-6.191, -6.191],\n",
       "      'line': {'color': 'darkseagreen', 'width': 3},\n",
       "      'lon': [35.9289, 35.9289],\n",
       "      'mode': 'lines',\n",
       "      'opacity': 0.8\n",
       "  }),\n",
       "  Scattermapbox({\n",
       "      'lat': [-5.9449, -5.9449],\n",
       "      'line': {'color': 'darkseagreen', 'width': 3},\n",
       "      'lon': [35.2746, 35.2746],\n",
       "      'mode': 'lines',\n",
       "      'opacity': 0.8\n",
       "  }),\n",
       "  Scattermapbox({\n",
       "      'lat': [-5.8807, -5.8807],\n",
       "      'line': {'color': 'darkseagreen', 'width': 3},\n",
       "      'lon': [35.2092, 35.2092],\n",
       "      'mode': 'lines',\n",
       "      'opacity': 0.8\n",
       "  }),\n",
       "  Scattermapbox({\n",
       "      'lat': [-6.9008, -6.9008],\n",
       "      'line': {'color': 'darkseagreen', 'width': 3},\n",
       "      'lon': [39.3244, 39.3244],\n",
       "      'mode': 'lines',\n",
       "      'opacity': 0.8\n",
       "  }),\n",
       "  Scattermapbox({\n",
       "      'lat': [-2.9904, -2.9904],\n",
       "      'line': {'color': 'darkseagreen', 'width': 3},\n",
       "      'lon': [31.2136, 31.2136],\n",
       "      'mode': 'lines',\n",
       "      'opacity': 0.8\n",
       "  }),\n",
       "  Scattermapbox({\n",
       "      'lat': [-3.3922, -3.3922],\n",
       "      'line': {'color': 'darkseagreen', 'width': 3},\n",
       "      'lon': [36.278, 36.278],\n",
       "      'mode': 'lines',\n",
       "      'opacity': 0.8\n",
       "  }),\n",
       "  Scattermapbox({\n",
       "      'lat': [-6.7582, -6.7582],\n",
       "      'line': {'color': 'darkseagreen', 'width': 3},\n",
       "      'lon': [37.3769, 37.3769],\n",
       "      'mode': 'lines',\n",
       "      'opacity': 0.8\n",
       "  }),\n",
       "  Scattermapbox({\n",
       "      'lat': [-2.9179, -2.9179],\n",
       "      'line': {'color': 'darkseagreen', 'width': 3},\n",
       "      'lon': [32.1929, 32.1929],\n",
       "      'mode': 'lines',\n",
       "      'opacity': 0.8\n",
       "  }),\n",
       "  Scattermapbox({\n",
       "      'lat': [-3.4182, -3.4182],\n",
       "      'line': {'color': 'darkseagreen', 'width': 3},\n",
       "      'lon': [36.5755, 36.5755],\n",
       "      'mode': 'lines',\n",
       "      'opacity': 0.8\n",
       "  }),\n",
       "  Scattermapbox({\n",
       "      'lat': [-6.1882, -6.1882],\n",
       "      'line': {'color': 'darkseagreen', 'width': 3},\n",
       "      'lon': [35.5711, 35.5711],\n",
       "      'mode': 'lines',\n",
       "      'opacity': 0.8\n",
       "  }),\n",
       "  Scattermapbox({\n",
       "      'lat': [-6.6616, -6.6616],\n",
       "      'line': {'color': 'darkseagreen', 'width': 3},\n",
       "      'lon': [36.7097, 36.7097],\n",
       "      'mode': 'lines',\n",
       "      'opacity': 0.8\n",
       "  }),\n",
       "  Scattermapbox({\n",
       "      'lat': [-7.7772, -7.7772],\n",
       "      'line': {'color': 'darkseagreen', 'width': 3},\n",
       "      'lon': [37.8406, 37.8406],\n",
       "      'mode': 'lines',\n",
       "      'opacity': 0.8\n",
       "  }),\n",
       "  Scattermapbox({\n",
       "      'lat': [-6.6373, -6.6373],\n",
       "      'line': {'color': 'darkseagreen', 'width': 3},\n",
       "      'lon': [39.1995, 39.1995],\n",
       "      'mode': 'lines',\n",
       "      'opacity': 0.8\n",
       "  }),\n",
       "  Scattermapbox({\n",
       "      'lat': [-1.7027, -1.7027],\n",
       "      'line': {'color': 'darkseagreen', 'width': 3},\n",
       "      'lon': [31.6273, 31.6273],\n",
       "      'mode': 'lines',\n",
       "      'opacity': 0.8\n",
       "  }),\n",
       "  Scattermapbox({\n",
       "      'lat': [-1.3937, -1.3937],\n",
       "      'line': {'color': 'darkseagreen', 'width': 3},\n",
       "      'lon': [31.7668, 31.7668],\n",
       "      'mode': 'lines',\n",
       "      'opacity': 0.8\n",
       "  }),\n",
       "  Scattermapbox({\n",
       "      'lat': [-1.7828, -1.7828],\n",
       "      'line': {'color': 'darkseagreen', 'width': 3},\n",
       "      'lon': [31.5506, 31.5506],\n",
       "      'mode': 'lines',\n",
       "      'opacity': 0.8\n",
       "  }),\n",
       "  Scattermapbox({\n",
       "      'lat': [-1.3336, -1.3336],\n",
       "      'line': {'color': 'darkseagreen', 'width': 3},\n",
       "      'lon': [31.8202, 31.8202],\n",
       "      'mode': 'lines',\n",
       "      'opacity': 0.8\n",
       "  }),\n",
       "  Scattermapbox({\n",
       "      'lat': [-3.3411, -3.3411],\n",
       "      'line': {'color': 'darkseagreen', 'width': 3},\n",
       "      'lon': [35.667, 35.667],\n",
       "      'mode': 'lines',\n",
       "      'opacity': 0.8\n",
       "  }),\n",
       "  Scattermapbox({\n",
       "      'lat': [-4.9986, -4.9986],\n",
       "      'line': {'color': 'darkseagreen', 'width': 3},\n",
       "      'lon': [32.8102, 32.8102],\n",
       "      'mode': 'lines',\n",
       "      'opacity': 0.8\n",
       "  }),\n",
       "  Scattermapbox({\n",
       "      'lat': [-5.2856, -5.2856],\n",
       "      'line': {'color': 'darkseagreen', 'width': 3},\n",
       "      'lon': [38.636, 38.636],\n",
       "      'mode': 'lines',\n",
       "      'opacity': 0.8\n",
       "  }),\n",
       "  Scattermapbox({\n",
       "      'lat': [-6.1383, -6.1383],\n",
       "      'line': {'color': 'darkseagreen', 'width': 3},\n",
       "      'lon': [39.2185, 39.2185],\n",
       "      'mode': 'lines',\n",
       "      'opacity': 0.8\n",
       "  }),\n",
       "  Scattermapbox({\n",
       "      'lat': [-6.871, -6.871],\n",
       "      'line': {'color': 'darkseagreen', 'width': 3},\n",
       "      'lon': [39.0628, 39.0628],\n",
       "      'mode': 'lines',\n",
       "      'opacity': 0.8\n",
       "  }),\n",
       "  Scattermapbox({\n",
       "      'lat': [-6.5586, -6.5586],\n",
       "      'line': {'color': 'darkseagreen', 'width': 3},\n",
       "      'lon': [36.6172, 36.6172],\n",
       "      'mode': 'lines',\n",
       "      'opacity': 0.8\n",
       "  }),\n",
       "  Scattermapbox({\n",
       "      'lat': [-2.387, -2.387],\n",
       "      'line': {'color': 'darkseagreen', 'width': 3},\n",
       "      'lon': [30.7929, 30.7929],\n",
       "      'mode': 'lines',\n",
       "      'opacity': 0.8\n",
       "  }),\n",
       "  Scattermapbox({\n",
       "      'lat': [-10.6415, -10.6415],\n",
       "      'line': {'color': 'darkseagreen', 'width': 3},\n",
       "      'lon': [35.6765, 35.6765],\n",
       "      'mode': 'lines',\n",
       "      'opacity': 0.8\n",
       "  }),\n",
       "  Scattermapbox({\n",
       "      'lat': [-6.7204, -6.7204],\n",
       "      'line': {'color': 'darkseagreen', 'width': 3},\n",
       "      'lon': [36.8371, 36.8371],\n",
       "      'mode': 'lines',\n",
       "      'opacity': 0.8\n",
       "  }),\n",
       "  Scattermapbox({\n",
       "      'lat': [-6.8108, -6.8108],\n",
       "      'line': {'color': 'darkseagreen', 'width': 3},\n",
       "      'lon': [37.6277, 37.6277],\n",
       "      'mode': 'lines',\n",
       "      'opacity': 0.8\n",
       "  }),\n",
       "  Scattermapbox({\n",
       "      'lat': [-6.8133, -6.8133],\n",
       "      'line': {'color': 'darkseagreen', 'width': 3},\n",
       "      'lon': [37.066, 37.066],\n",
       "      'mode': 'lines',\n",
       "      'opacity': 0.8\n",
       "  }),\n",
       "  Scattermapbox({\n",
       "      'lat': [-6.7647, -6.7647],\n",
       "      'line': {'color': 'darkseagreen', 'width': 3},\n",
       "      'lon': [36.9398, 36.9398],\n",
       "      'mode': 'lines',\n",
       "      'opacity': 0.8\n",
       "  }),\n",
       "  Scattermapbox({\n",
       "      'lat': [-6.7116, -6.6391],\n",
       "      'line': {'color': 'rosybrown', 'width': 3},\n",
       "      'lon': [38.7439, 38.3571],\n",
       "      'mode': 'lines',\n",
       "      'opacity': 0.8\n",
       "  }),\n",
       "  Scattermapbox({\n",
       "      'lat': [-5.298, -4.0717],\n",
       "      'line': {'color': 'rosybrown', 'width': 3},\n",
       "      'lon': [38.6148, 37.7377],\n",
       "      'mode': 'lines',\n",
       "      'opacity': 0.8\n",
       "  }),\n",
       "  Scattermapbox({\n",
       "      'lat': [-4.8396, -3.6219],\n",
       "      'line': {'color': 'rosybrown', 'width': 3},\n",
       "      'lon': [34.7573, 33.5148],\n",
       "      'mode': 'lines',\n",
       "      'opacity': 0.8\n",
       "  }),\n",
       "  Scattermapbox({\n",
       "      'lat': [-8.8482, -8.9146],\n",
       "      'line': {'color': 'rosybrown', 'width': 3},\n",
       "      'lon': [34.8061, 33.4967],\n",
       "      'mode': 'lines',\n",
       "      'opacity': 0.8\n",
       "  }),\n",
       "  Scattermapbox({\n",
       "      'lat': [-3.6219, -3.2208],\n",
       "      'line': {'color': 'rosybrown', 'width': 3},\n",
       "      'lon': [33.5148, 32.4905],\n",
       "      'mode': 'lines',\n",
       "      'opacity': 0.8\n",
       "  }),\n",
       "  Scattermapbox({\n",
       "      'lat': [-3.861, -3.6219],\n",
       "      'line': {'color': 'rosybrown', 'width': 3},\n",
       "      'lon': [32.6861, 33.5148],\n",
       "      'mode': 'lines',\n",
       "      'opacity': 0.8\n",
       "  }),\n",
       "  Scattermapbox({\n",
       "      'lat': [-4.0723, -3.6219],\n",
       "      'line': {'color': 'rosybrown', 'width': 3},\n",
       "      'lon': [33.1424, 33.5148],\n",
       "      'mode': 'lines',\n",
       "      'opacity': 0.8\n",
       "  }),\n",
       "  Scattermapbox({\n",
       "      'lat': [-6.1809, -7.1387],\n",
       "      'line': {'color': 'rosybrown', 'width': 3},\n",
       "      'lon': [35.6949, 35.9892],\n",
       "      'mode': 'lines',\n",
       "      'opacity': 0.8\n",
       "  }),\n",
       "  Scattermapbox({\n",
       "      'lat': [-6.7933, -6.8217],\n",
       "      'line': {'color': 'rosybrown', 'width': 3},\n",
       "      'lon': [39.2077, 39.2681],\n",
       "      'mode': 'lines',\n",
       "      'opacity': 0.8\n",
       "  }),\n",
       "  Scattermapbox({\n",
       "      'lat': [-2.543, -3.6219],\n",
       "      'line': {'color': 'rosybrown', 'width': 3},\n",
       "      'lon': [32.967, 33.5148],\n",
       "      'mode': 'lines',\n",
       "      'opacity': 0.8\n",
       "  }),\n",
       "  Scattermapbox({\n",
       "      'lat': [-7.6683, -8.6125],\n",
       "      'line': {'color': 'rosybrown', 'width': 3},\n",
       "      'lon': [36.976, 35.8592],\n",
       "      'mode': 'lines',\n",
       "      'opacity': 0.8\n",
       "  }),\n",
       "  Scattermapbox({\n",
       "      'lat': [-1.3394, -1.2519],\n",
       "      'line': {'color': 'rosybrown', 'width': 3},\n",
       "      'lon': [31.7957, 31.413],\n",
       "      'mode': 'lines',\n",
       "      'opacity': 0.8\n",
       "  }),\n",
       "  Scattermapbox({\n",
       "      'lat': [-1.6559, -1.7027],\n",
       "      'line': {'color': 'rosybrown', 'width': 3},\n",
       "      'lon': [31.5851, 31.6273],\n",
       "      'mode': 'lines',\n",
       "      'opacity': 0.8\n",
       "  }),\n",
       "  Scattermapbox({\n",
       "      'lat': [-1.3394, -1.3937],\n",
       "      'line': {'color': 'rosybrown', 'width': 3},\n",
       "      'lon': [31.7957, 31.7668],\n",
       "      'mode': 'lines',\n",
       "      'opacity': 0.8\n",
       "  }),\n",
       "  Scattermapbox({\n",
       "      'lat': [-1.3394, -1.6559],\n",
       "      'line': {'color': 'rosybrown', 'width': 3},\n",
       "      'lon': [31.7957, 31.5851],\n",
       "      'mode': 'lines',\n",
       "      'opacity': 0.8\n",
       "  }),\n",
       "  Scattermapbox({\n",
       "      'lat': [-1.6559, -1.7828],\n",
       "      'line': {'color': 'rosybrown', 'width': 3},\n",
       "      'lon': [31.5851, 31.5506],\n",
       "      'mode': 'lines',\n",
       "      'opacity': 0.8\n",
       "  }),\n",
       "  Scattermapbox({\n",
       "      'lat': [-1.3394, -1.3336],\n",
       "      'line': {'color': 'rosybrown', 'width': 3},\n",
       "      'lon': [31.7957, 31.8202],\n",
       "      'mode': 'lines',\n",
       "      'opacity': 0.8\n",
       "  }),\n",
       "  Scattermapbox({\n",
       "      'lat': [-3.4211, -3.4156],\n",
       "      'line': {'color': 'rosybrown', 'width': 3},\n",
       "      'lon': [37.3141, 36.711],\n",
       "      'mode': 'lines',\n",
       "      'opacity': 0.8\n",
       "  }),\n",
       "  Scattermapbox({\n",
       "      'lat': [-7.7925, -8.6125],\n",
       "      'line': {'color': 'rosybrown', 'width': 3},\n",
       "      'lon': [35.7317, 35.8592],\n",
       "      'mode': 'lines',\n",
       "      'opacity': 0.8\n",
       "  }),\n",
       "  Scattermapbox({\n",
       "      'lat': [-3.8494, -4.2138],\n",
       "      'line': {'color': 'rosybrown', 'width': 3},\n",
       "      'lon': [35.5573, 35.7231],\n",
       "      'mode': 'lines',\n",
       "      'opacity': 0.8\n",
       "  }),\n",
       "  Scattermapbox({\n",
       "      'lat': [-3.4156, -4.2138],\n",
       "      'line': {'color': 'rosybrown', 'width': 3},\n",
       "      'lon': [36.711, 35.7231],\n",
       "      'mode': 'lines',\n",
       "      'opacity': 0.8\n",
       "  }),\n",
       "  Scattermapbox({\n",
       "      'lat': [-3.8494, -3.3411],\n",
       "      'line': {'color': 'rosybrown', 'width': 3},\n",
       "      'lon': [35.5573, 35.667],\n",
       "      'mode': 'lines',\n",
       "      'opacity': 0.8\n",
       "  }),\n",
       "  Scattermapbox({\n",
       "      'lat': [-4.9151, -4.2138],\n",
       "      'line': {'color': 'rosybrown', 'width': 3},\n",
       "      'lon': [35.8113, 35.7231],\n",
       "      'mode': 'lines',\n",
       "      'opacity': 0.8\n",
       "  }),\n",
       "  Scattermapbox({\n",
       "      'lat': [-6.7933, -6.6745],\n",
       "      'line': {'color': 'rosybrown', 'width': 3},\n",
       "      'lon': [39.2077, 39.1852],\n",
       "      'mode': 'lines',\n",
       "      'opacity': 0.8\n",
       "  }),\n",
       "  Scattermapbox({\n",
       "      'lat': [-7.1387, -7.7925],\n",
       "      'line': {'color': 'rosybrown', 'width': 3},\n",
       "      'lon': [35.9892, 35.7317],\n",
       "      'mode': 'lines',\n",
       "      'opacity': 0.8\n",
       "  }),\n",
       "  Scattermapbox({\n",
       "      'lat': [-4.0717, -3.4211],\n",
       "      'line': {'color': 'rosybrown', 'width': 3},\n",
       "      'lon': [37.7377, 37.3141],\n",
       "      'mode': 'lines',\n",
       "      'opacity': 0.8\n",
       "  }),\n",
       "  Scattermapbox({\n",
       "      'lat': [-5.0808, -5.298],\n",
       "      'line': {'color': 'rosybrown', 'width': 3},\n",
       "      'lon': [39.0737, 38.6148],\n",
       "      'mode': 'lines',\n",
       "      'opacity': 0.8\n",
       "  }),\n",
       "  Scattermapbox({\n",
       "      'lat': [-7.7925, -7.6683],\n",
       "      'line': {'color': 'rosybrown', 'width': 3},\n",
       "      'lon': [35.7317, 36.976],\n",
       "      'mode': 'lines',\n",
       "      'opacity': 0.8\n",
       "  }),\n",
       "  Scattermapbox({\n",
       "      'lat': [-8.736, -8.8482],\n",
       "      'line': {'color': 'rosybrown', 'width': 3},\n",
       "      'lon': [35.2887, 34.8061],\n",
       "      'mode': 'lines',\n",
       "      'opacity': 0.8\n",
       "  }),\n",
       "  Scattermapbox({\n",
       "      'lat': [-7.7925, -8.736],\n",
       "      'line': {'color': 'rosybrown', 'width': 3},\n",
       "      'lon': [35.7317, 35.2887],\n",
       "      'mode': 'lines',\n",
       "      'opacity': 0.8\n",
       "  }),\n",
       "  Scattermapbox({\n",
       "      'lat': [-6.7933, -6.8605],\n",
       "      'line': {'color': 'rosybrown', 'width': 3},\n",
       "      'lon': [39.2077, 39.2085],\n",
       "      'mode': 'lines',\n",
       "      'opacity': 0.8\n",
       "  }),\n",
       "  Scattermapbox({\n",
       "      'lat': [-6.7933, -6.7116],\n",
       "      'line': {'color': 'rosybrown', 'width': 3},\n",
       "      'lon': [39.2077, 38.7439],\n",
       "      'mode': 'lines',\n",
       "      'opacity': 0.8\n",
       "  }),\n",
       "  Scattermapbox({\n",
       "      'lat': [-3.8264, -3.4211],\n",
       "      'line': {'color': 'rosybrown', 'width': 3},\n",
       "      'lon': [37.4685, 37.3141],\n",
       "      'mode': 'lines',\n",
       "      'opacity': 0.8\n",
       "  }),\n",
       "  Scattermapbox({\n",
       "      'lat': [-1.4614, -1.5343],\n",
       "      'line': {'color': 'rosybrown', 'width': 3},\n",
       "      'lon': [34.5085, 33.8353],\n",
       "      'mode': 'lines',\n",
       "      'opacity': 0.8\n",
       "  }),\n",
       "  Scattermapbox({\n",
       "      'lat': [-6.6391, -5.298],\n",
       "      'line': {'color': 'rosybrown', 'width': 3},\n",
       "      'lon': [38.3571, 38.6148],\n",
       "      'mode': 'lines',\n",
       "      'opacity': 0.8\n",
       "  }),\n",
       "  Scattermapbox({\n",
       "      'lat': [-4.0723, -4.9986],\n",
       "      'line': {'color': 'rosybrown', 'width': 3},\n",
       "      'lon': [33.1424, 32.8102],\n",
       "      'mode': 'lines',\n",
       "      'opacity': 0.8\n",
       "  }),\n",
       "  Scattermapbox({\n",
       "      'lat': [-2.543, -2.03],\n",
       "      'line': {'color': 'rosybrown', 'width': 3},\n",
       "      'lon': [32.967, 33.859],\n",
       "      'mode': 'lines',\n",
       "      'opacity': 0.8\n",
       "  }),\n",
       "  Scattermapbox({\n",
       "      'lat': [-4.8396, -3.6219],\n",
       "      'line': {'color': 'rosybrown', 'width': 3},\n",
       "      'lon': [34.7573, 33.5148],\n",
       "      'mode': 'lines',\n",
       "      'opacity': 0.8\n",
       "  }),\n",
       "  Scattermapbox({\n",
       "      'lat': [-1.5343, -2.03],\n",
       "      'line': {'color': 'rosybrown', 'width': 3},\n",
       "      'lon': [33.8353, 33.859],\n",
       "      'mode': 'lines',\n",
       "      'opacity': 0.8\n",
       "  }),\n",
       "  Scattermapbox({\n",
       "      'lat': [-4.8396, -6.1809],\n",
       "      'line': {'color': 'rosybrown', 'width': 3},\n",
       "      'lon': [34.7573, 35.6949],\n",
       "      'mode': 'lines',\n",
       "      'opacity': 0.8\n",
       "  }),\n",
       "  Scattermapbox({\n",
       "      'lat': [-4.8396, -6.1809],\n",
       "      'line': {'color': 'rosybrown', 'width': 3},\n",
       "      'lon': [34.7573, 35.6949],\n",
       "      'mode': 'lines',\n",
       "      'opacity': 0.8\n",
       "  }),\n",
       "  Scattermapbox({\n",
       "      'lat': [-4.8396, -4.2138],\n",
       "      'line': {'color': 'rosybrown', 'width': 3},\n",
       "      'lon': [34.7573, 35.7231],\n",
       "      'mode': 'lines',\n",
       "      'opacity': 0.8\n",
       "  }),\n",
       "  Scattermapbox({\n",
       "      'lat': [-7.6683, -6.7988],\n",
       "      'line': {'color': 'rosybrown', 'width': 3},\n",
       "      'lon': [36.976, 37.6638],\n",
       "      'mode': 'lines',\n",
       "      'opacity': 0.8\n",
       "  }),\n",
       "  Scattermapbox({\n",
       "      'lat': [-7.6637, -7.6683],\n",
       "      'line': {'color': 'rosybrown', 'width': 3},\n",
       "      'lon': [36.9672, 36.976],\n",
       "      'mode': 'lines',\n",
       "      'opacity': 0.8\n",
       "  }),\n",
       "  Scattermapbox({\n",
       "      'lat': [-7.6683, -7.6637],\n",
       "      'line': {'color': 'rosybrown', 'width': 3},\n",
       "      'lon': [36.976, 36.9672],\n",
       "      'mode': 'lines',\n",
       "      'opacity': 0.8\n",
       "  }),\n",
       "  Scattermapbox({\n",
       "      'lat': [-7.6683, -7.6637],\n",
       "      'line': {'color': 'rosybrown', 'width': 3},\n",
       "      'lon': [36.976, 36.9672],\n",
       "      'mode': 'lines',\n",
       "      'opacity': 0.8\n",
       "  }),\n",
       "  Scattermapbox({\n",
       "      'lat': [-7.6637, -7.6683],\n",
       "      'line': {'color': 'rosybrown', 'width': 3},\n",
       "      'lon': [36.9672, 36.976],\n",
       "      'mode': 'lines',\n",
       "      'opacity': 0.8\n",
       "  }),\n",
       "  Scattermapbox({\n",
       "      'lat': [-6.7933, -6.7608],\n",
       "      'line': {'color': 'rosybrown', 'width': 3},\n",
       "      'lon': [39.2077, 37.8762],\n",
       "      'mode': 'lines',\n",
       "      'opacity': 0.8\n",
       "  }),\n",
       "  Scattermapbox({\n",
       "      'lat': [-6.7988, -7.6683],\n",
       "      'line': {'color': 'rosybrown', 'width': 3},\n",
       "      'lon': [37.6638, 36.976],\n",
       "      'mode': 'lines',\n",
       "      'opacity': 0.8\n",
       "  }),\n",
       "  Scattermapbox({\n",
       "      'lat': [-5.3553, -5.2856],\n",
       "      'line': {'color': 'rosybrown', 'width': 3},\n",
       "      'lon': [38.6566, 38.636],\n",
       "      'mode': 'lines',\n",
       "      'opacity': 0.8\n",
       "  }),\n",
       "  Scattermapbox({\n",
       "      'lat': [-6.3177, -6.1383],\n",
       "      'line': {'color': 'rosybrown', 'width': 3},\n",
       "      'lon': [39.2772, 39.2185],\n",
       "      'mode': 'lines',\n",
       "      'opacity': 0.8\n",
       "  }),\n",
       "  Scattermapbox({\n",
       "      'lat': [-6.6745, -6.6373],\n",
       "      'line': {'color': 'rosybrown', 'width': 3},\n",
       "      'lon': [39.1852, 39.1995],\n",
       "      'mode': 'lines',\n",
       "      'opacity': 0.8\n",
       "  }),\n",
       "  Scattermapbox({\n",
       "      'lat': [-6.7933, -6.8217],\n",
       "      'line': {'color': 'rosybrown', 'width': 3},\n",
       "      'lon': [39.2077, 39.2681],\n",
       "      'mode': 'lines',\n",
       "      'opacity': 0.8\n",
       "  }),\n",
       "  Scattermapbox({\n",
       "      'lat': [-6.1809, -7.7925],\n",
       "      'line': {'color': 'rosybrown', 'width': 3},\n",
       "      'lon': [35.6949, 35.7317],\n",
       "      'mode': 'lines',\n",
       "      'opacity': 0.8\n",
       "  }),\n",
       "  Scattermapbox({\n",
       "      'lat': [-3.3762, -3.4156],\n",
       "      'line': {'color': 'rosybrown', 'width': 3},\n",
       "      'lon': [37.0667, 36.711],\n",
       "      'mode': 'lines',\n",
       "      'opacity': 0.8\n",
       "  }),\n",
       "  Scattermapbox({\n",
       "      'lat': [-6.8061, -6.8554],\n",
       "      'line': {'color': 'rosybrown', 'width': 3},\n",
       "      'lon': [39.1568, 39.1566],\n",
       "      'mode': 'lines',\n",
       "      'opacity': 0.8\n",
       "  }),\n",
       "  Scattermapbox({\n",
       "      'lat': [-6.8061, -6.7933],\n",
       "      'line': {'color': 'rosybrown', 'width': 3},\n",
       "      'lon': [39.1568, 39.2077],\n",
       "      'mode': 'lines',\n",
       "      'opacity': 0.8\n",
       "  }),\n",
       "  Scattermapbox({\n",
       "      'lat': [-6.7608, -6.6391],\n",
       "      'line': {'color': 'rosybrown', 'width': 3},\n",
       "      'lon': [37.8762, 38.3571],\n",
       "      'mode': 'lines',\n",
       "      'opacity': 0.8\n",
       "  }),\n",
       "  Scattermapbox({\n",
       "      'lat': [-6.7771, -6.7988],\n",
       "      'line': {'color': 'rosybrown', 'width': 3},\n",
       "      'lon': [37.6944, 37.6638],\n",
       "      'mode': 'lines',\n",
       "      'opacity': 0.8\n",
       "  }),\n",
       "  Scattermapbox({\n",
       "      'lat': [-6.7873, -6.7771],\n",
       "      'line': {'color': 'rosybrown', 'width': 3},\n",
       "      'lon': [37.7496, 37.6944],\n",
       "      'mode': 'lines',\n",
       "      'opacity': 0.8\n",
       "  }),\n",
       "  Scattermapbox({\n",
       "      'lat': [-6.7856, -6.7873],\n",
       "      'line': {'color': 'rosybrown', 'width': 3},\n",
       "      'lon': [37.7889, 37.7496],\n",
       "      'mode': 'lines',\n",
       "      'opacity': 0.8\n",
       "  }),\n",
       "  Scattermapbox({\n",
       "      'lat': [-6.7698, -6.7856],\n",
       "      'line': {'color': 'rosybrown', 'width': 3},\n",
       "      'lon': [37.8085, 37.7889],\n",
       "      'mode': 'lines',\n",
       "      'opacity': 0.8\n",
       "  }),\n",
       "  Scattermapbox({\n",
       "      'lat': [-6.7726, -6.7698],\n",
       "      'line': {'color': 'rosybrown', 'width': 3},\n",
       "      'lon': [37.8334, 37.8085],\n",
       "      'mode': 'lines',\n",
       "      'opacity': 0.8\n",
       "  }),\n",
       "  Scattermapbox({\n",
       "      'lat': [-6.7608, -6.7726],\n",
       "      'line': {'color': 'rosybrown', 'width': 3},\n",
       "      'lon': [37.8762, 37.8334],\n",
       "      'mode': 'lines',\n",
       "      'opacity': 0.8\n",
       "  }),\n",
       "  Scattermapbox({\n",
       "      'lat': [-6.7608, -6.7831],\n",
       "      'line': {'color': 'rosybrown', 'width': 3},\n",
       "      'lon': [37.8762, 37.797],\n",
       "      'mode': 'lines',\n",
       "      'opacity': 0.8\n",
       "  }),\n",
       "  Scattermapbox({\n",
       "      'lat': [-6.7608, -6.8061],\n",
       "      'line': {'color': 'rosybrown', 'width': 3},\n",
       "      'lon': [37.8762, 39.1568],\n",
       "      'mode': 'lines',\n",
       "      'opacity': 0.8\n",
       "  }),\n",
       "  Scattermapbox({\n",
       "      'lat': [-6.7893, -6.7608],\n",
       "      'line': {'color': 'rosybrown', 'width': 3},\n",
       "      'lon': [37.7658, 37.8762],\n",
       "      'mode': 'lines',\n",
       "      'opacity': 0.8\n",
       "  }),\n",
       "  Scattermapbox({\n",
       "      'lat': [-6.7831, -6.7856],\n",
       "      'line': {'color': 'rosybrown', 'width': 3},\n",
       "      'lon': [37.797, 37.7889],\n",
       "      'mode': 'lines',\n",
       "      'opacity': 0.8\n",
       "  }),\n",
       "  Scattermapbox({\n",
       "      'lat': [-6.7856, -6.7943],\n",
       "      'line': {'color': 'rosybrown', 'width': 3},\n",
       "      'lon': [37.7889, 37.723],\n",
       "      'mode': 'lines',\n",
       "      'opacity': 0.8\n",
       "  }),\n",
       "  Scattermapbox({\n",
       "      'lat': [-6.7943, -6.7893],\n",
       "      'line': {'color': 'rosybrown', 'width': 3},\n",
       "      'lon': [37.723, 37.7658],\n",
       "      'mode': 'lines',\n",
       "      'opacity': 0.8\n",
       "  }),\n",
       "  Scattermapbox({\n",
       "      'lat': [-6.7943, -6.7988],\n",
       "      'line': {'color': 'rosybrown', 'width': 3},\n",
       "      'lon': [37.723, 37.6638],\n",
       "      'mode': 'lines',\n",
       "      'opacity': 0.8\n",
       "  }),\n",
       "  Scattermapbox({\n",
       "      'lat': [-6.7988, -6.7943],\n",
       "      'line': {'color': 'rosybrown', 'width': 3},\n",
       "      'lon': [37.6638, 37.723],\n",
       "      'mode': 'lines',\n",
       "      'opacity': 0.8\n",
       "  }),\n",
       "  Scattermapbox({\n",
       "      'lat': [-6.8836, -6.8605],\n",
       "      'line': {'color': 'rosybrown', 'width': 3},\n",
       "      'lon': [39.1492, 39.2085],\n",
       "      'mode': 'lines',\n",
       "      'opacity': 0.8\n",
       "  }),\n",
       "  Scattermapbox({\n",
       "      'lat': [-3.4211, -3.3762],\n",
       "      'line': {'color': 'rosybrown', 'width': 3},\n",
       "      'lon': [37.3141, 37.0667],\n",
       "      'mode': 'lines',\n",
       "      'opacity': 0.8\n",
       "  }),\n",
       "  Scattermapbox({\n",
       "      'lat': [-6.1809, -4.8396],\n",
       "      'line': {'color': 'rosybrown', 'width': 3},\n",
       "      'lon': [35.6949, 34.7573],\n",
       "      'mode': 'lines',\n",
       "      'opacity': 0.8\n",
       "  }),\n",
       "  Scattermapbox({\n",
       "      'lat': [-10.2756, -10.1471],\n",
       "      'line': {'color': 'rosybrown', 'width': 3},\n",
       "      'lon': [40.2062, 39.589],\n",
       "      'mode': 'lines',\n",
       "      'opacity': 0.8\n",
       "  }),\n",
       "  Scattermapbox({\n",
       "      'lat': [-6.8554, -6.871],\n",
       "      'line': {'color': 'rosybrown', 'width': 3},\n",
       "      'lon': [39.1566, 39.0628],\n",
       "      'mode': 'lines',\n",
       "      'opacity': 0.8\n",
       "  }),\n",
       "  Scattermapbox({\n",
       "      'lat': [-6.8114, -6.871],\n",
       "      'line': {'color': 'rosybrown', 'width': 3},\n",
       "      'lon': [38.6517, 39.0628],\n",
       "      'mode': 'lines',\n",
       "      'opacity': 0.8\n",
       "  }),\n",
       "  Scattermapbox({\n",
       "      'lat': [-6.8357, -6.8114],\n",
       "      'line': {'color': 'rosybrown', 'width': 3},\n",
       "      'lon': [38.65, 38.6517],\n",
       "      'mode': 'lines',\n",
       "      'opacity': 0.8\n",
       "  }),\n",
       "  Scattermapbox({\n",
       "      'lat': [-6.6334, -6.5586],\n",
       "      'line': {'color': 'rosybrown', 'width': 3},\n",
       "      'lon': [36.693, 36.6172],\n",
       "      'mode': 'lines',\n",
       "      'opacity': 0.8\n",
       "  }),\n",
       "  Scattermapbox({\n",
       "      'lat': [-6.3639, -6.5586],\n",
       "      'line': {'color': 'rosybrown', 'width': 3},\n",
       "      'lon': [36.2683, 36.6172],\n",
       "      'mode': 'lines',\n",
       "      'opacity': 0.8\n",
       "  }),\n",
       "  Scattermapbox({\n",
       "      'lat': [-6.3639, -6.191],\n",
       "      'line': {'color': 'rosybrown', 'width': 3},\n",
       "      'lon': [36.2683, 35.9289],\n",
       "      'mode': 'lines',\n",
       "      'opacity': 0.8\n",
       "  }),\n",
       "  Scattermapbox({\n",
       "      'lat': [-5.9449, -6.1882],\n",
       "      'line': {'color': 'rosybrown', 'width': 3},\n",
       "      'lon': [35.2746, 35.5711],\n",
       "      'mode': 'lines',\n",
       "      'opacity': 0.8\n",
       "  }),\n",
       "  Scattermapbox({\n",
       "      'lat': [-6.8836, -6.921],\n",
       "      'line': {'color': 'rosybrown', 'width': 3},\n",
       "      'lon': [39.1492, 39.2648],\n",
       "      'mode': 'lines',\n",
       "      'opacity': 0.8\n",
       "  }),\n",
       "  Scattermapbox({\n",
       "      'lat': [-6.8554, -6.8836],\n",
       "      'line': {'color': 'rosybrown', 'width': 3},\n",
       "      'lon': [39.1566, 39.1492],\n",
       "      'mode': 'lines',\n",
       "      'opacity': 0.8\n",
       "  }),\n",
       "  Scattermapbox({\n",
       "      'lat': [-6.9008, -6.8608],\n",
       "      'line': {'color': 'rosybrown', 'width': 3},\n",
       "      'lon': [39.3244, 39.2876],\n",
       "      'mode': 'lines',\n",
       "      'opacity': 0.8\n",
       "  }),\n",
       "  Scattermapbox({\n",
       "      'lat': [-6.9008, -6.921],\n",
       "      'line': {'color': 'rosybrown', 'width': 3},\n",
       "      'lon': [39.3244, 39.2648],\n",
       "      'mode': 'lines',\n",
       "      'opacity': 0.8\n",
       "  }),\n",
       "  Scattermapbox({\n",
       "      'lat': [-6.9008, -6.9164],\n",
       "      'line': {'color': 'rosybrown', 'width': 3},\n",
       "      'lon': [39.3244, 39.4424],\n",
       "      'mode': 'lines',\n",
       "      'opacity': 0.8\n",
       "  }),\n",
       "  Scattermapbox({\n",
       "      'lat': [-3.2208, -2.9179],\n",
       "      'line': {'color': 'rosybrown', 'width': 3},\n",
       "      'lon': [32.4905, 32.1929],\n",
       "      'mode': 'lines',\n",
       "      'opacity': 0.8\n",
       "  }),\n",
       "  Scattermapbox({\n",
       "      'lat': [-2.9904, -2.387],\n",
       "      'line': {'color': 'rosybrown', 'width': 3},\n",
       "      'lon': [31.2136, 30.7929],\n",
       "      'mode': 'lines',\n",
       "      'opacity': 0.8\n",
       "  }),\n",
       "  Scattermapbox({\n",
       "      'lat': [-8.8482, -10.6415],\n",
       "      'line': {'color': 'rosybrown', 'width': 3},\n",
       "      'lon': [34.8061, 35.6765],\n",
       "      'mode': 'lines',\n",
       "      'opacity': 0.8\n",
       "  }),\n",
       "  Scattermapbox({\n",
       "      'lat': [-6.191, -6.1809],\n",
       "      'line': {'color': 'rosybrown', 'width': 3},\n",
       "      'lon': [35.9289, 35.6949],\n",
       "      'mode': 'lines',\n",
       "      'opacity': 0.8\n",
       "  }),\n",
       "  Scattermapbox({\n",
       "      'lat': [-3.3922, -3.4182],\n",
       "      'line': {'color': 'rosybrown', 'width': 3},\n",
       "      'lon': [36.278, 36.5755],\n",
       "      'mode': 'lines',\n",
       "      'opacity': 0.8\n",
       "  }),\n",
       "  Scattermapbox({\n",
       "      'lat': [-2.9179, -2.9904],\n",
       "      'line': {'color': 'rosybrown', 'width': 3},\n",
       "      'lon': [32.1929, 31.2136],\n",
       "      'mode': 'lines',\n",
       "      'opacity': 0.8\n",
       "  }),\n",
       "  Scattermapbox({\n",
       "      'lat': [-4.8396, -3.3922],\n",
       "      'line': {'color': 'rosybrown', 'width': 3},\n",
       "      'lon': [34.7573, 36.278],\n",
       "      'mode': 'lines',\n",
       "      'opacity': 0.8\n",
       "  }),\n",
       "  Scattermapbox({\n",
       "      'lat': [-6.1882, -6.1809],\n",
       "      'line': {'color': 'rosybrown', 'width': 3},\n",
       "      'lon': [35.5711, 35.6949],\n",
       "      'mode': 'lines',\n",
       "      'opacity': 0.8\n",
       "  }),\n",
       "  Scattermapbox({\n",
       "      'lat': [-5.9449, -6.1809],\n",
       "      'line': {'color': 'rosybrown', 'width': 3},\n",
       "      'lon': [35.2746, 35.6949],\n",
       "      'mode': 'lines',\n",
       "      'opacity': 0.8\n",
       "  }),\n",
       "  Scattermapbox({\n",
       "      'lat': [-6.6616, -6.7204],\n",
       "      'line': {'color': 'rosybrown', 'width': 3},\n",
       "      'lon': [36.7097, 36.8371],\n",
       "      'mode': 'lines',\n",
       "      'opacity': 0.8\n",
       "  }),\n",
       "  Scattermapbox({\n",
       "      'lat': [-6.7582, -6.8108],\n",
       "      'line': {'color': 'rosybrown', 'width': 3},\n",
       "      'lon': [37.3769, 37.6277],\n",
       "      'mode': 'lines',\n",
       "      'opacity': 0.8\n",
       "  }),\n",
       "  Scattermapbox({\n",
       "      'lat': [-6.7582, -6.8133],\n",
       "      'line': {'color': 'rosybrown', 'width': 3},\n",
       "      'lon': [37.3769, 37.066],\n",
       "      'mode': 'lines',\n",
       "      'opacity': 0.8\n",
       "  }),\n",
       "  Scattermapbox({\n",
       "      'lat': [-6.8034, -6.7647],\n",
       "      'line': {'color': 'rosybrown', 'width': 3},\n",
       "      'lon': [36.9672, 36.9398],\n",
       "      'mode': 'lines',\n",
       "      'opacity': 0.8\n",
       "  }),\n",
       "  Scattermapbox({\n",
       "      'lat': [-7.7772, -6.6487],\n",
       "      'line': {'color': 'rosybrown', 'width': 3},\n",
       "      'lon': [37.8406, 38.3893],\n",
       "      'mode': 'lines',\n",
       "      'opacity': 0.8\n",
       "  }),\n",
       "  Scattermapbox({\n",
       "      'lat': [-6.6373, -6.3177],\n",
       "      'line': {'color': 'rosybrown', 'width': 3},\n",
       "      'lon': [39.1995, 39.2772],\n",
       "      'mode': 'lines',\n",
       "      'opacity': 0.8\n",
       "  }),\n",
       "  Scattermapbox({\n",
       "      'hoverinfo': 'text',\n",
       "      'lat': array([ -6.7933,  -2.543 ,  -6.7988,  -8.9146,  -3.4156,  -3.6219,  -6.1809,\n",
       "                     -7.1387,  -1.3394,  -1.2519,  -6.7116,  -8.6125,  -8.736 ,  -4.2138,\n",
       "                     -6.8217,  -4.8396,  -6.6391,  -4.0717,  -7.7925,  -1.4614,  -7.6683,\n",
       "                     -5.0808,  -3.2208,  -5.3553,  -6.8605,  -6.6745,  -6.8554,  -2.9784,\n",
       "                     -6.8836, -10.1471, -10.2756,  -6.921 ,  -6.8608,  -6.9164,  -5.298 ,\n",
       "                     -6.6487,  -8.8482,  -3.861 ,  -4.0723,  -1.6559,  -3.4211,  -1.6013,\n",
       "                     -3.8494,  -4.9151,  -3.8264,  -2.03  ,  -1.5343,  -7.6637,  -6.3177,\n",
       "                     -3.3762,  -6.8061,  -6.7608,  -6.7771,  -6.7873,  -6.7856,  -6.7698,\n",
       "                     -6.7726,  -6.7893,  -6.7831,  -6.7943,  -6.8114,  -6.8357,  -6.794 ,\n",
       "                     -6.8034,  -6.6334,  -6.3639,  -6.191 ,  -5.9449,  -5.8807,  -6.9008,\n",
       "                     -2.9904,  -3.3922,  -6.7582,  -2.9179,  -3.4182,  -6.1882,  -6.6616,\n",
       "                     -7.7772,  -6.6373,  -1.7027,  -1.3937,  -1.7828,  -1.3336,  -3.3411,\n",
       "                     -4.9986,  -5.2856,  -6.1383,  -6.871 ,  -6.5586,  -2.387 , -10.6415,\n",
       "                     -6.7204,  -6.8108,  -6.8133,  -6.7647,  -6.7933,  -2.543 ,  -6.7988,\n",
       "                     -8.9146,  -3.4156,  -3.6219,  -6.1809,  -7.1387,  -1.3394,  -1.2519,\n",
       "                     -6.7116,  -8.6125,  -8.736 ,  -4.2138,  -6.8217,  -4.8396,  -6.6391,\n",
       "                     -4.0717,  -7.7925,  -1.4614,  -7.6683,  -5.0808,  -3.2208,  -5.3553,\n",
       "                     -6.8605,  -6.6745,  -6.8554,  -2.9784,  -6.8836, -10.1471, -10.2756,\n",
       "                     -6.921 ,  -6.8608,  -6.9164,  -5.298 ,  -6.6487,  -8.8482,  -3.861 ,\n",
       "                     -4.0723,  -1.6559,  -3.4211,  -1.6013,  -3.8494,  -4.9151,  -3.8264,\n",
       "                     -2.03  ,  -1.5343,  -7.6637,  -6.3177,  -3.3762,  -6.8061,  -6.7608,\n",
       "                     -6.7771,  -6.7873,  -6.7856,  -6.7698,  -6.7726,  -6.7893,  -6.7831,\n",
       "                     -6.7943,  -6.8114,  -6.8357,  -6.794 ,  -6.8034,  -6.6334,  -6.3639,\n",
       "                     -6.191 ,  -5.9449,  -5.8807,  -6.9008,  -2.9904,  -3.3922,  -6.7582,\n",
       "                     -2.9179,  -3.4182,  -6.1882,  -6.6616,  -7.7772,  -6.6373,  -1.7027,\n",
       "                     -1.3937,  -1.7828,  -1.3336,  -3.3411,  -4.9986,  -5.2856,  -6.1383,\n",
       "                     -6.871 ,  -6.5586,  -2.387 , -10.6415,  -6.7204,  -6.8108,  -6.8133,\n",
       "                     -6.7647]),\n",
       "      'lon': array([39.2077, 32.967 , 37.6638, 33.4967, 36.711 , 33.5148, 35.6949, 35.9892,\n",
       "                    31.7957, 31.413 , 38.7439, 35.8592, 35.2887, 35.7231, 39.2681, 34.7573,\n",
       "                    38.3571, 37.7377, 35.7317, 34.5085, 36.976 , 39.0737, 32.4905, 38.6566,\n",
       "                    39.2085, 39.1852, 39.1566, 33.1847, 39.1492, 39.589 , 40.2062, 39.2648,\n",
       "                    39.2876, 39.4424, 38.6148, 38.3893, 34.8061, 32.6861, 33.1424, 31.5851,\n",
       "                    37.3141, 31.1405, 35.5573, 35.8113, 37.4685, 33.859 , 33.8353, 36.9672,\n",
       "                    39.2772, 37.0667, 39.1568, 37.8762, 37.6944, 37.7496, 37.7889, 37.8085,\n",
       "                    37.8334, 37.7658, 37.797 , 37.723 , 38.6517, 38.65  , 38.2002, 36.9672,\n",
       "                    36.693 , 36.2683, 35.9289, 35.2746, 35.2092, 39.3244, 31.2136, 36.278 ,\n",
       "                    37.3769, 32.1929, 36.5755, 35.5711, 36.7097, 37.8406, 39.1995, 31.6273,\n",
       "                    31.7668, 31.5506, 31.8202, 35.667 , 32.8102, 38.636 , 39.2185, 39.0628,\n",
       "                    36.6172, 30.7929, 35.6765, 36.8371, 37.6277, 37.066 , 36.9398, 39.2077,\n",
       "                    32.967 , 37.6638, 33.4967, 36.711 , 33.5148, 35.6949, 35.9892, 31.7957,\n",
       "                    31.413 , 38.7439, 35.8592, 35.2887, 35.7231, 39.2681, 34.7573, 38.3571,\n",
       "                    37.7377, 35.7317, 34.5085, 36.976 , 39.0737, 32.4905, 38.6566, 39.2085,\n",
       "                    39.1852, 39.1566, 33.1847, 39.1492, 39.589 , 40.2062, 39.2648, 39.2876,\n",
       "                    39.4424, 38.6148, 38.3893, 34.8061, 32.6861, 33.1424, 31.5851, 37.3141,\n",
       "                    31.1405, 35.5573, 35.8113, 37.4685, 33.859 , 33.8353, 36.9672, 39.2772,\n",
       "                    37.0667, 39.1568, 37.8762, 37.6944, 37.7496, 37.7889, 37.8085, 37.8334,\n",
       "                    37.7658, 37.797 , 37.723 , 38.6517, 38.65  , 38.2002, 36.9672, 36.693 ,\n",
       "                    36.2683, 35.9289, 35.2746, 35.2092, 39.3244, 31.2136, 36.278 , 37.3769,\n",
       "                    32.1929, 36.5755, 35.5711, 36.7097, 37.8406, 39.1995, 31.6273, 31.7668,\n",
       "                    31.5506, 31.8202, 35.667 , 32.8102, 38.636 , 39.2185, 39.0628, 36.6172,\n",
       "                    30.7929, 35.6765, 36.8371, 37.6277, 37.066 , 36.9398]),\n",
       "      'marker': {'opacity': 0.0},\n",
       "      'mode': 'markers',\n",
       "      'text': array(['Link 1 battery charger', 'Link 3 battery charger',\n",
       "                     'Link 5 battery charger', 'Link 6 battery charger',\n",
       "                     'Link 8 battery charger', 'Link 10 battery charger',\n",
       "                     'Link 13 battery charger', 'Link 14 battery charger',\n",
       "                     'Link 17 battery charger', 'Link 18 battery charger',\n",
       "                     'Link 19 battery charger', 'Link 20 battery charger',\n",
       "                     'Link 21 battery charger', 'Link 23 battery charger',\n",
       "                     'Link 24 battery charger', 'Link 26 battery charger',\n",
       "                     'Link 27 battery charger', 'Link 28 battery charger',\n",
       "                     'Link 29 battery charger', 'Link 30 battery charger',\n",
       "                     'Link 31 battery charger', 'Link 32 battery charger',\n",
       "                     'Link 33 battery charger', 'Link 34 battery charger',\n",
       "                     'Link 35 battery charger', 'Link 36 battery charger',\n",
       "                     'Link 39 battery charger', 'Link 40 battery charger',\n",
       "                     'Link 41 battery charger', 'Link 42 battery charger',\n",
       "                     'Link 43 battery charger', 'Link 44 battery charger',\n",
       "                     'Link 45 battery charger', 'Link 46 battery charger',\n",
       "                     'Link 47 battery charger', 'Link 48 battery charger',\n",
       "                     'Link 49 battery charger', 'Link 50 battery charger',\n",
       "                     'Link 51 battery charger', 'Link 52 battery charger',\n",
       "                     'Link 54 battery charger', 'Link 55 battery charger',\n",
       "                     'Link 56 battery charger', 'Link 57 battery charger',\n",
       "                     'Link 58 battery charger', 'Link 59 battery charger',\n",
       "                     'Link 60 battery charger', 'Link 61 battery charger',\n",
       "                     'Link 62 battery charger', 'Link 63 battery charger',\n",
       "                     'Link 64 battery charger', 'Link 66 battery charger',\n",
       "                     'Link 67 battery charger', 'Link 68 battery charger',\n",
       "                     'Link 70 battery charger', 'Link 71 battery charger',\n",
       "                     'Link 72 battery charger', 'Link 74 battery charger',\n",
       "                     'Link 75 battery charger', 'Link 76 battery charger',\n",
       "                     'Link 77 battery charger', 'Link 78 battery charger',\n",
       "                     'Link 79 battery charger', 'Link 81 battery charger',\n",
       "                     'Link 82 battery charger', 'Link 83 battery charger',\n",
       "                     'Link 84 battery charger', 'Link 86 battery charger',\n",
       "                     'Link 87 battery charger', 'Link 88 battery charger',\n",
       "                     'Link 89 battery charger', 'Link 90 battery charger',\n",
       "                     'Link 92 battery charger', 'Link 93 battery charger',\n",
       "                     'Link 94 battery charger', 'Link 95 battery charger',\n",
       "                     'Link 96 battery charger', 'Link 97 battery charger',\n",
       "                     'Link 98 battery charger', 'Link 99 battery charger',\n",
       "                     'Link 100 battery charger', 'Link 101 battery charger',\n",
       "                     'Link 102 battery charger', 'Link 103 battery charger',\n",
       "                     'Link 104 battery charger', 'Link 105 battery charger',\n",
       "                     'Link 106 battery charger', 'Link 107 battery charger',\n",
       "                     'Link 108 battery charger', 'Link 109 battery charger',\n",
       "                     'Link 110 battery charger', 'Link 111 battery charger',\n",
       "                     'Link 112 battery charger', 'Link 113 battery charger',\n",
       "                     'Link 114 battery charger', 'Link 1 battery discharger',\n",
       "                     'Link 3 battery discharger', 'Link 5 battery discharger',\n",
       "                     'Link 6 battery discharger', 'Link 8 battery discharger',\n",
       "                     'Link 10 battery discharger', 'Link 13 battery discharger',\n",
       "                     'Link 14 battery discharger', 'Link 17 battery discharger',\n",
       "                     'Link 18 battery discharger', 'Link 19 battery discharger',\n",
       "                     'Link 20 battery discharger', 'Link 21 battery discharger',\n",
       "                     'Link 23 battery discharger', 'Link 24 battery discharger',\n",
       "                     'Link 26 battery discharger', 'Link 27 battery discharger',\n",
       "                     'Link 28 battery discharger', 'Link 29 battery discharger',\n",
       "                     'Link 30 battery discharger', 'Link 31 battery discharger',\n",
       "                     'Link 32 battery discharger', 'Link 33 battery discharger',\n",
       "                     'Link 34 battery discharger', 'Link 35 battery discharger',\n",
       "                     'Link 36 battery discharger', 'Link 39 battery discharger',\n",
       "                     'Link 40 battery discharger', 'Link 41 battery discharger',\n",
       "                     'Link 42 battery discharger', 'Link 43 battery discharger',\n",
       "                     'Link 44 battery discharger', 'Link 45 battery discharger',\n",
       "                     'Link 46 battery discharger', 'Link 47 battery discharger',\n",
       "                     'Link 48 battery discharger', 'Link 49 battery discharger',\n",
       "                     'Link 50 battery discharger', 'Link 51 battery discharger',\n",
       "                     'Link 52 battery discharger', 'Link 54 battery discharger',\n",
       "                     'Link 55 battery discharger', 'Link 56 battery discharger',\n",
       "                     'Link 57 battery discharger', 'Link 58 battery discharger',\n",
       "                     'Link 59 battery discharger', 'Link 60 battery discharger',\n",
       "                     'Link 61 battery discharger', 'Link 62 battery discharger',\n",
       "                     'Link 63 battery discharger', 'Link 64 battery discharger',\n",
       "                     'Link 66 battery discharger', 'Link 67 battery discharger',\n",
       "                     'Link 68 battery discharger', 'Link 70 battery discharger',\n",
       "                     'Link 71 battery discharger', 'Link 72 battery discharger',\n",
       "                     'Link 74 battery discharger', 'Link 75 battery discharger',\n",
       "                     'Link 76 battery discharger', 'Link 77 battery discharger',\n",
       "                     'Link 78 battery discharger', 'Link 79 battery discharger',\n",
       "                     'Link 81 battery discharger', 'Link 82 battery discharger',\n",
       "                     'Link 83 battery discharger', 'Link 84 battery discharger',\n",
       "                     'Link 86 battery discharger', 'Link 87 battery discharger',\n",
       "                     'Link 88 battery discharger', 'Link 89 battery discharger',\n",
       "                     'Link 90 battery discharger', 'Link 92 battery discharger',\n",
       "                     'Link 93 battery discharger', 'Link 94 battery discharger',\n",
       "                     'Link 95 battery discharger', 'Link 96 battery discharger',\n",
       "                     'Link 97 battery discharger', 'Link 98 battery discharger',\n",
       "                     'Link 99 battery discharger', 'Link 100 battery discharger',\n",
       "                     'Link 101 battery discharger', 'Link 102 battery discharger',\n",
       "                     'Link 103 battery discharger', 'Link 104 battery discharger',\n",
       "                     'Link 105 battery discharger', 'Link 106 battery discharger',\n",
       "                     'Link 107 battery discharger', 'Link 108 battery discharger',\n",
       "                     'Link 109 battery discharger', 'Link 110 battery discharger',\n",
       "                     'Link 111 battery discharger', 'Link 112 battery discharger',\n",
       "                     'Link 113 battery discharger', 'Link 114 battery discharger'],\n",
       "                    dtype=object)\n",
       "  }),\n",
       "  Scattermapbox({\n",
       "      'hoverinfo': 'text',\n",
       "      'lat': array([ -6.67535,  -4.68485,  -4.23075,  -8.8814 ,  -3.42135,  -3.74145,\n",
       "                     -3.8471 ,  -6.6598 ,  -6.8075 ,  -3.08245,  -8.1404 ,  -1.29565,\n",
       "                     -1.6793 ,  -1.36655,  -1.49765,  -1.71935,  -1.3365 ,  -3.41835,\n",
       "                     -8.2025 ,  -4.0316 ,  -3.8147 ,  -3.59525,  -4.56445,  -6.7339 ,\n",
       "                     -7.4656 ,  -3.7464 ,  -5.1894 ,  -7.7304 ,  -8.7921 ,  -8.26425,\n",
       "                     -6.8269 ,  -6.75245,  -3.62375,  -1.49785,  -5.96855,  -4.53545,\n",
       "                     -2.2865 ,  -4.23075,  -1.78215,  -5.51025,  -5.51025,  -4.5267 ,\n",
       "                     -7.23355,  -7.666  ,  -7.666  ,  -7.666  ,  -7.666  ,  -6.77705,\n",
       "                     -7.23355,  -5.32045,  -6.228  ,  -6.6559 ,  -6.8075 ,  -6.9867 ,\n",
       "                     -3.3959 ,  -6.83075,  -6.7997 ,  -6.69995,  -6.78795,  -6.7822 ,\n",
       "                     -6.78645,  -6.7777 ,  -6.7712 ,  -6.7667 ,  -6.77195,  -6.78345,\n",
       "                     -6.77505,  -6.78435,  -6.78995,  -6.7918 ,  -6.79655,  -6.79655,\n",
       "                     -6.87205,  -3.39865,  -5.51025, -10.21135,  -6.8632 ,  -6.8412 ,\n",
       "                     -6.82355,  -6.596  ,  -6.46125,  -6.27745,  -6.06655,  -6.9023 ,\n",
       "                     -6.8695 ,  -6.8808 ,  -6.9109 ,  -6.9086 ,  -3.06935,  -2.6887 ,\n",
       "                     -9.74485,  -6.18595,  -3.4052 ,  -2.95415,  -4.1159 ,  -6.18455,\n",
       "                     -6.0629 ,  -6.691  ,  -6.7845 ,  -6.78575,  -6.78405,  -7.21295,\n",
       "                     -6.4775 ]),\n",
       "      'lon': array([38.5505 , 38.17625, 34.13605, 34.1514 , 33.00265, 33.10045, 33.3286 ,\n",
       "                    35.84205, 39.2379 , 33.2409 , 36.4176 , 31.60435, 31.6062 , 31.78125,\n",
       "                    31.6904 , 31.56785, 31.80795, 37.01255, 35.79545, 35.6402 , 36.21705,\n",
       "                    35.61215, 35.7672 , 39.19645, 35.86045, 37.5259 , 38.84425, 36.35385,\n",
       "                    35.0474 , 35.5102 , 39.2081 , 38.9758 , 37.3913 , 34.1719 , 38.48595,\n",
       "                    32.9763 , 33.413  , 34.13605, 33.84715, 35.2261 , 35.2261 , 35.2402 ,\n",
       "                    37.3199 , 36.9716 , 36.9716 , 36.9716 , 36.9716 , 38.54195, 37.3199 ,\n",
       "                    38.6463 , 39.24785, 39.19235, 39.2379 , 35.7133 , 36.88885, 39.1567 ,\n",
       "                    39.18225, 38.11665, 37.6791 , 37.722  , 37.76925, 37.7987 , 37.82095,\n",
       "                    37.8548 , 37.8366 , 38.5165 , 37.821  , 37.79295, 37.75595, 37.7444 ,\n",
       "                    37.6934 , 37.6934 , 39.17885, 37.1904 , 35.2261 , 39.8976 , 39.1097 ,\n",
       "                    38.85725, 38.65085, 36.6551 , 36.44275, 36.0986 , 35.42285, 39.207  ,\n",
       "                    39.1529 , 39.306  , 39.2946 , 39.3834 , 32.3417 , 31.00325, 35.2413 ,\n",
       "                    35.8119 , 36.42675, 31.70325, 35.51765, 35.633  , 35.48475, 36.7734 ,\n",
       "                    37.5023 , 37.22145, 36.9535 , 38.11495, 39.23835]),\n",
       "      'marker': {'opacity': 0.0},\n",
       "      'mode': 'markers',\n",
       "      'text': array(['Line 0', 'Line 1', 'Line 2', 'Line 3', 'Line 4', 'Line 5', 'Line 6',\n",
       "                     'Line 7', 'Line 8', 'Line 9', 'Line 10', 'Line 11', 'Line 12',\n",
       "                     'Line 13', 'Line 14', 'Line 15', 'Line 16', 'Line 17', 'Line 18',\n",
       "                     'Line 19', 'Line 20', 'Line 21', 'Line 22', 'Line 23', 'Line 24',\n",
       "                     'Line 25', 'Line 26', 'Line 27', 'Line 28', 'Line 29', 'Line 30',\n",
       "                     'Line 31', 'Line 32', 'Line 33', 'Line 34', 'Line 35', 'Line 36',\n",
       "                     'Line 37', 'Line 38', 'Line 39', 'Line 40', 'Line 41', 'Line 42',\n",
       "                     'Line 43', 'Line 44', 'Line 45', 'Line 46', 'Line 47', 'Line 48',\n",
       "                     'Line 49', 'Line 50', 'Line 51', 'Line 52', 'Line 53', 'Line 54',\n",
       "                     'Line 55', 'Line 56', 'Line 57', 'Line 58', 'Line 59', 'Line 60',\n",
       "                     'Line 61', 'Line 62', 'Line 63', 'Line 64', 'Line 65', 'Line 66',\n",
       "                     'Line 67', 'Line 68', 'Line 69', 'Line 70', 'Line 71', 'Line 72',\n",
       "                     'Line 73', 'Line 74', 'Line 75', 'Line 76', 'Line 77', 'Line 78',\n",
       "                     'Line 79', 'Line 80', 'Line 81', 'Line 82', 'Line 83', 'Line 84',\n",
       "                     'Line 85', 'Line 86', 'Line 87', 'Line 88', 'Line 89', 'Line 90',\n",
       "                     'Line 91', 'Line 92', 'Line 93', 'Line 94', 'Line 95', 'Line 96',\n",
       "                     'Line 97', 'Line 98', 'Line 99', 'Line 100', 'Line 101', 'Line 102'],\n",
       "                    dtype=object)\n",
       "  }),\n",
       "  Scattermapbox({\n",
       "      'hoverinfo': 'text',\n",
       "      'lat': array([ -6.7933,  -2.543 ,  -6.7988,  -8.9146,  -3.4156,  -3.6219,  -6.1809,\n",
       "                     -7.1387,  -1.3394,  -1.2519,  -6.7116,  -8.6125,  -8.736 ,  -4.2138,\n",
       "                     -6.8217,  -4.8396,  -6.6391,  -4.0717,  -7.7925,  -1.4614,  -7.6683,\n",
       "                     -5.0808,  -3.2208,  -5.3553,  -6.8605,  -6.6745,  -6.8554,  -2.9784,\n",
       "                     -6.8836, -10.1471, -10.2756,  -6.921 ,  -6.8608,  -6.9164,  -5.298 ,\n",
       "                     -6.6487,  -8.8482,  -3.861 ,  -4.0723,  -1.6559,  -3.4211,  -1.6013,\n",
       "                     -3.8494,  -4.9151,  -3.8264,  -2.03  ,  -1.5343,  -7.6637,  -6.3177,\n",
       "                     -3.3762,  -6.8061,  -6.7608,  -6.7771,  -6.7873,  -6.7856,  -6.7698,\n",
       "                     -6.7726,  -6.7893,  -6.7831,  -6.7943,  -6.8114,  -6.8357,  -6.794 ,\n",
       "                     -6.8034,  -6.6334,  -6.3639,  -6.191 ,  -5.9449,  -5.8807,  -6.9008,\n",
       "                     -2.9904,  -3.3922,  -6.7582,  -2.9179,  -3.4182,  -6.1882,  -6.6616,\n",
       "                     -7.7772,  -6.6373,  -1.7027,  -1.3937,  -1.7828,  -1.3336,  -3.3411,\n",
       "                     -4.9986,  -5.2856,  -6.1383,  -6.871 ,  -6.5586,  -2.387 , -10.6415,\n",
       "                     -6.7204,  -6.8108,  -6.8133,  -6.7647,  -6.7933,  -2.543 ,  -6.7988,\n",
       "                     -8.9146,  -3.4156,  -3.6219,  -6.1809,  -7.1387,  -1.3394,  -1.2519,\n",
       "                     -6.7116,  -8.6125,  -8.736 ,  -4.2138,  -6.8217,  -4.8396,  -6.6391,\n",
       "                     -4.0717,  -7.7925,  -1.4614,  -7.6683,  -5.0808,  -3.2208,  -5.3553,\n",
       "                     -6.8605,  -6.6745,  -6.8554,  -2.9784,  -6.8836, -10.1471, -10.2756,\n",
       "                     -6.921 ,  -6.8608,  -6.9164,  -5.298 ,  -6.6487,  -8.8482,  -3.861 ,\n",
       "                     -4.0723,  -1.6559,  -3.4211,  -1.6013,  -3.8494,  -4.9151,  -3.8264,\n",
       "                     -2.03  ,  -1.5343,  -7.6637,  -6.3177,  -3.3762,  -6.8061,  -6.7608,\n",
       "                     -6.7771,  -6.7873,  -6.7856,  -6.7698,  -6.7726,  -6.7893,  -6.7831,\n",
       "                     -6.7943,  -6.8114,  -6.8357,  -6.794 ,  -6.8034,  -6.6334,  -6.3639,\n",
       "                     -6.191 ,  -5.9449,  -5.8807,  -6.9008,  -2.9904,  -3.3922,  -6.7582,\n",
       "                     -2.9179,  -3.4182,  -6.1882,  -6.6616,  -7.7772,  -6.6373,  -1.7027,\n",
       "                     -1.3937,  -1.7828,  -1.3336,  -3.3411,  -4.9986,  -5.2856,  -6.1383,\n",
       "                     -6.871 ,  -6.5586,  -2.387 , -10.6415,  -6.7204,  -6.8108,  -6.8133,\n",
       "                     -6.7647]),\n",
       "      'lon': array([39.2077, 32.967 , 37.6638, 33.4967, 36.711 , 33.5148, 35.6949, 35.9892,\n",
       "                    31.7957, 31.413 , 38.7439, 35.8592, 35.2887, 35.7231, 39.2681, 34.7573,\n",
       "                    38.3571, 37.7377, 35.7317, 34.5085, 36.976 , 39.0737, 32.4905, 38.6566,\n",
       "                    39.2085, 39.1852, 39.1566, 33.1847, 39.1492, 39.589 , 40.2062, 39.2648,\n",
       "                    39.2876, 39.4424, 38.6148, 38.3893, 34.8061, 32.6861, 33.1424, 31.5851,\n",
       "                    37.3141, 31.1405, 35.5573, 35.8113, 37.4685, 33.859 , 33.8353, 36.9672,\n",
       "                    39.2772, 37.0667, 39.1568, 37.8762, 37.6944, 37.7496, 37.7889, 37.8085,\n",
       "                    37.8334, 37.7658, 37.797 , 37.723 , 38.6517, 38.65  , 38.2002, 36.9672,\n",
       "                    36.693 , 36.2683, 35.9289, 35.2746, 35.2092, 39.3244, 31.2136, 36.278 ,\n",
       "                    37.3769, 32.1929, 36.5755, 35.5711, 36.7097, 37.8406, 39.1995, 31.6273,\n",
       "                    31.7668, 31.5506, 31.8202, 35.667 , 32.8102, 38.636 , 39.2185, 39.0628,\n",
       "                    36.6172, 30.7929, 35.6765, 36.8371, 37.6277, 37.066 , 36.9398, 39.2077,\n",
       "                    32.967 , 37.6638, 33.4967, 36.711 , 33.5148, 35.6949, 35.9892, 31.7957,\n",
       "                    31.413 , 38.7439, 35.8592, 35.2887, 35.7231, 39.2681, 34.7573, 38.3571,\n",
       "                    37.7377, 35.7317, 34.5085, 36.976 , 39.0737, 32.4905, 38.6566, 39.2085,\n",
       "                    39.1852, 39.1566, 33.1847, 39.1492, 39.589 , 40.2062, 39.2648, 39.2876,\n",
       "                    39.4424, 38.6148, 38.3893, 34.8061, 32.6861, 33.1424, 31.5851, 37.3141,\n",
       "                    31.1405, 35.5573, 35.8113, 37.4685, 33.859 , 33.8353, 36.9672, 39.2772,\n",
       "                    37.0667, 39.1568, 37.8762, 37.6944, 37.7496, 37.7889, 37.8085, 37.8334,\n",
       "                    37.7658, 37.797 , 37.723 , 38.6517, 38.65  , 38.2002, 36.9672, 36.693 ,\n",
       "                    36.2683, 35.9289, 35.2746, 35.2092, 39.3244, 31.2136, 36.278 , 37.3769,\n",
       "                    32.1929, 36.5755, 35.5711, 36.7097, 37.8406, 39.1995, 31.6273, 31.7668,\n",
       "                    31.5506, 31.8202, 35.667 , 32.8102, 38.636 , 39.2185, 39.0628, 36.6172,\n",
       "                    30.7929, 35.6765, 36.8371, 37.6277, 37.066 , 36.9398]),\n",
       "      'marker': {'color': 'cadetblue', 'size': 10},\n",
       "      'mode': 'markers',\n",
       "      'opacity': 1,\n",
       "      'text': array(['Bus 1', 'Bus 3', 'Bus 5', 'Bus 6', 'Bus 8', 'Bus 10', 'Bus 13',\n",
       "                     'Bus 14', 'Bus 17', 'Bus 18', 'Bus 19', 'Bus 20', 'Bus 21', 'Bus 23',\n",
       "                     'Bus 24', 'Bus 26', 'Bus 27', 'Bus 28', 'Bus 29', 'Bus 30', 'Bus 31',\n",
       "                     'Bus 32', 'Bus 33', 'Bus 34', 'Bus 35', 'Bus 36', 'Bus 39', 'Bus 40',\n",
       "                     'Bus 41', 'Bus 42', 'Bus 43', 'Bus 44', 'Bus 45', 'Bus 46', 'Bus 47',\n",
       "                     'Bus 48', 'Bus 49', 'Bus 50', 'Bus 51', 'Bus 52', 'Bus 54', 'Bus 55',\n",
       "                     'Bus 56', 'Bus 57', 'Bus 58', 'Bus 59', 'Bus 60', 'Bus 61', 'Bus 62',\n",
       "                     'Bus 63', 'Bus 64', 'Bus 66', 'Bus 67', 'Bus 68', 'Bus 70', 'Bus 71',\n",
       "                     'Bus 72', 'Bus 74', 'Bus 75', 'Bus 76', 'Bus 77', 'Bus 78', 'Bus 79',\n",
       "                     'Bus 81', 'Bus 82', 'Bus 83', 'Bus 84', 'Bus 86', 'Bus 87', 'Bus 88',\n",
       "                     'Bus 89', 'Bus 90', 'Bus 92', 'Bus 93', 'Bus 94', 'Bus 95', 'Bus 96',\n",
       "                     'Bus 97', 'Bus 98', 'Bus 99', 'Bus 100', 'Bus 101', 'Bus 102',\n",
       "                     'Bus 103', 'Bus 104', 'Bus 105', 'Bus 106', 'Bus 107', 'Bus 108',\n",
       "                     'Bus 109', 'Bus 110', 'Bus 111', 'Bus 112', 'Bus 113', 'Bus 114',\n",
       "                     'Bus 1 battery', 'Bus 3 battery', 'Bus 5 battery', 'Bus 6 battery',\n",
       "                     'Bus 8 battery', 'Bus 10 battery', 'Bus 13 battery', 'Bus 14 battery',\n",
       "                     'Bus 17 battery', 'Bus 18 battery', 'Bus 19 battery', 'Bus 20 battery',\n",
       "                     'Bus 21 battery', 'Bus 23 battery', 'Bus 24 battery', 'Bus 26 battery',\n",
       "                     'Bus 27 battery', 'Bus 28 battery', 'Bus 29 battery', 'Bus 30 battery',\n",
       "                     'Bus 31 battery', 'Bus 32 battery', 'Bus 33 battery', 'Bus 34 battery',\n",
       "                     'Bus 35 battery', 'Bus 36 battery', 'Bus 39 battery', 'Bus 40 battery',\n",
       "                     'Bus 41 battery', 'Bus 42 battery', 'Bus 43 battery', 'Bus 44 battery',\n",
       "                     'Bus 45 battery', 'Bus 46 battery', 'Bus 47 battery', 'Bus 48 battery',\n",
       "                     'Bus 49 battery', 'Bus 50 battery', 'Bus 51 battery', 'Bus 52 battery',\n",
       "                     'Bus 54 battery', 'Bus 55 battery', 'Bus 56 battery', 'Bus 57 battery',\n",
       "                     'Bus 58 battery', 'Bus 59 battery', 'Bus 60 battery', 'Bus 61 battery',\n",
       "                     'Bus 62 battery', 'Bus 63 battery', 'Bus 64 battery', 'Bus 66 battery',\n",
       "                     'Bus 67 battery', 'Bus 68 battery', 'Bus 70 battery', 'Bus 71 battery',\n",
       "                     'Bus 72 battery', 'Bus 74 battery', 'Bus 75 battery', 'Bus 76 battery',\n",
       "                     'Bus 77 battery', 'Bus 78 battery', 'Bus 79 battery', 'Bus 81 battery',\n",
       "                     'Bus 82 battery', 'Bus 83 battery', 'Bus 84 battery', 'Bus 86 battery',\n",
       "                     'Bus 87 battery', 'Bus 88 battery', 'Bus 89 battery', 'Bus 90 battery',\n",
       "                     'Bus 92 battery', 'Bus 93 battery', 'Bus 94 battery', 'Bus 95 battery',\n",
       "                     'Bus 96 battery', 'Bus 97 battery', 'Bus 98 battery', 'Bus 99 battery',\n",
       "                     'Bus 100 battery', 'Bus 101 battery', 'Bus 102 battery',\n",
       "                     'Bus 103 battery', 'Bus 104 battery', 'Bus 105 battery',\n",
       "                     'Bus 106 battery', 'Bus 107 battery', 'Bus 108 battery',\n",
       "                     'Bus 109 battery', 'Bus 110 battery', 'Bus 111 battery',\n",
       "                     'Bus 112 battery', 'Bus 113 battery', 'Bus 114 battery'], dtype=object)\n",
       "  })],\n",
       " 'layout': {'title': '',\n",
       "  'hovermode': 'closest',\n",
       "  'showlegend': False,\n",
       "  'mapbox': {'style': 'open-street-map',\n",
       "   'center': {'lat': -5.9467, 'lon': 35.49955},\n",
       "   'zoom': 2}}}"
      ]
     },
     "execution_count": 62,
     "metadata": {},
     "output_type": "execute_result"
    }
   ],
   "source": [
    "n.iplot(mapbox='osm')"
   ]
  },
  {
   "cell_type": "code",
   "execution_count": null,
   "metadata": {},
   "outputs": [
    {
     "name": "stdout",
     "output_type": "stream",
     "text": [
      "Totalt årlig forbruk i TWh: 0.44\n"
     ]
    }
   ],
   "source": []
  }
 ],
 "metadata": {
  "kernelspec": {
   "display_name": "pypsa-earth",
   "language": "python",
   "name": "python3"
  },
  "language_info": {
   "codemirror_mode": {
    "name": "ipython",
    "version": 3
   },
   "file_extension": ".py",
   "mimetype": "text/x-python",
   "name": "python",
   "nbconvert_exporter": "python",
   "pygments_lexer": "ipython3",
   "version": "3.10.16"
  }
 },
 "nbformat": 4,
 "nbformat_minor": 2
}
