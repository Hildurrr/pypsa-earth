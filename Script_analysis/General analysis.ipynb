{
 "cells": [
  {
   "cell_type": "markdown",
   "metadata": {},
   "source": [
    "Analysis code from PyPSA-BO\n",
    "\n",
    "https://github.com/CIE-UMSS/PyPSA-BO/blob/main/Results_analysis/EnergyScope-PyPSA/general_analysis.ipynb"
   ]
  },
  {
   "cell_type": "code",
   "execution_count": 1,
   "metadata": {},
   "outputs": [
    {
     "name": "stderr",
     "output_type": "stream",
     "text": [
      "INFO:pypsa.io:Imported network base.nc has buses, lines, transformers\n",
      "INFO:pypsa.io:Imported network elec.nc has buses, carriers, generators, lines, loads, storage_units, transformers\n",
      "INFO:pypsa.io:Imported network elec_s.nc has buses, carriers, generators, lines, loads, storage_units\n",
      "INFO:pypsa.io:Imported network elec_s_all.nc has buses, carriers, generators, lines, loads, storage_units\n",
      "INFO:pypsa.io:Imported network elec_s_all_ec_lcopt_1h.nc has buses, carriers, generators, lines, loads, storage_units\n"
     ]
    }
   ],
   "source": [
    "#Libraries import for running the code\n",
    "\n",
    "import logging\n",
    "import os\n",
    "\n",
    "import pypsa\n",
    "import yaml\n",
    "import pandas as pd\n",
    "import geopandas as gpd\n",
    "#import geoviews as gv\n",
    "#import hvplot.pandas \n",
    "import numpy as np\n",
    "import scipy as sp\n",
    "import networkx as nx\n",
    "\n",
    "# plotting stuff\n",
    "import matplotlib.pyplot as plt\n",
    "import cartopy\n",
    "\n",
    "# data exploration\n",
    "import xarray as xr\n",
    "\n",
    "plt.style.use(\"bmh\")\n",
    "import seaborn as sns  ###\n",
    "import cartopy.crs as ccrs\n",
    "\n",
    "sns.set(style=\"darkgrid\")\n",
    "\n",
    "from scipy.sparse import csgraph\n",
    "from itertools import product\n",
    "\n",
    "from shapely.geometry import Point, LineString\n",
    "import shapely, shapely.prepared, shapely.wkt\n",
    "\n",
    "logger = logging.getLogger(__name__)\n",
    "\n",
    "pd.set_option(\"display.max_columns\", None)\n",
    "pd.set_option(\"display.max_colwidth\", 70)\n",
    "\n",
    "\n",
    "\n",
    "max_node_size = 1.0  # maximum size of a node for plotting purposes [used in plots]\n",
    "\n",
    "# utility function for nice plotting\n",
    "\n",
    "def normalize_node_size(values, max_node_size=max_node_size):\n",
    "    return values / values.max() * max_node_size\n",
    "\n",
    "#Load different networks\n",
    "\n",
    "base_network= \"C:/Users/hie/pe_tan/pypsa-earth/networks/2040_base/base.nc\"\n",
    "n_base= pypsa.Network(base_network) #network with all components available in the data sources \n",
    "\n",
    "added_network = \"C:/Users/hie/pe_tan/pypsa-earth/networks/2040_base/elec.nc\"\n",
    "n_add = pypsa.Network(added_network) #output from add_electricity. network with electrical parameters added to components in data sources \n",
    "\n",
    "simplified_network = \"C:/Users/hie/pe_tan/pypsa-earth/networks/2040_base/elec_s.nc\"\n",
    "n_simple = pypsa.Network(simplified_network) #output simplyfy_network with components simplified and spatial parameters (onshore and offshore regions) added  \n",
    "\n",
    "clustered_network = 'C:/Users/hie/pe_tan/pypsa-earth/networks/2040_base/elec_s_all.nc'\n",
    "n_cluster = pypsa.Network(clustered_network) #output clustering-network simplified based on number of clusters give\n",
    "\n",
    "solved_network = r'C:\\Users\\hie\\pe_tan\\pypsa-earth\\results\\2040_base\\networks\\elec_s_all_ec_lcopt_1h.nc'\n",
    "n_solve = pypsa.Network(solved_network) #optimized network\n",
    "\n",
    "n = n_solve"
   ]
  },
  {
   "cell_type": "code",
   "execution_count": 2,
   "metadata": {},
   "outputs": [
    {
     "name": "stdout",
     "output_type": "stream",
     "text": [
      "System cost: 13063357.97 Million EUR/Year\n"
     ]
    }
   ],
   "source": [
    "# System cost in Million EUR/Year\n",
    "\n",
    "system_cost_million_eur = n.objective / 1e6  # Convert to million EUR/year\n",
    "\n",
    "# Print the result\n",
    "print(f\"System cost: {system_cost_million_eur:.2f} Million EUR/Year\")"
   ]
  },
  {
   "cell_type": "code",
   "execution_count": 3,
   "metadata": {},
   "outputs": [
    {
     "data": {
      "text/plain": [
       "385359.6767738733"
      ]
     },
     "execution_count": 3,
     "metadata": {},
     "output_type": "execute_result"
    }
   ],
   "source": [
    "#check lines\n",
    "\n",
    "n_solve.lines.capital_cost.sum()\n"
   ]
  },
  {
   "cell_type": "code",
   "execution_count": 4,
   "metadata": {},
   "outputs": [
    {
     "data": {
      "text/plain": [
       "480816.53976495634"
      ]
     },
     "execution_count": 4,
     "metadata": {},
     "output_type": "execute_result"
    }
   ],
   "source": [
    "n_add.lines.capital_cost.sum()"
   ]
  },
  {
   "cell_type": "code",
   "execution_count": 5,
   "metadata": {},
   "outputs": [
    {
     "name": "stdout",
     "output_type": "stream",
     "text": [
      "Capital cost for line expansion: -0.09545686299108307 Million Eur\n"
     ]
    }
   ],
   "source": [
    "line_expansion_cost = n.lines.capital_cost.sum()-n_simple.lines.capital_cost.sum() # difference between the two networks (Eur/MW)\n",
    "print(\"Capital cost for line expansion: \" + str(line_expansion_cost/1000000) + \" Million Eur\")"
   ]
  },
  {
   "cell_type": "code",
   "execution_count": 6,
   "metadata": {},
   "outputs": [
    {
     "data": {
      "text/plain": [
       "carrier\n",
       "CCGT          1.192700e+03\n",
       "OCGT          1.850000e+02\n",
       "biomass       1.050000e+01\n",
       "coal          6.000000e+02\n",
       "geothermal    1.350000e+02\n",
       "load          6.700000e+10\n",
       "offwind-ac    0.000000e+00\n",
       "offwind-dc    0.000000e+00\n",
       "oil           8.880000e+01\n",
       "onwind        9.110989e-01\n",
       "ror           6.017862e+02\n",
       "solar         1.447202e+01\n",
       "Name: p_nom, dtype: float64"
      ]
     },
     "execution_count": 6,
     "metadata": {},
     "output_type": "execute_result"
    }
   ],
   "source": [
    "gen_cap = n.generators.groupby([\"carrier\"]).sum()\n",
    "gen_cap.p_nom\n"
   ]
  },
  {
   "cell_type": "code",
   "execution_count": 7,
   "metadata": {},
   "outputs": [
    {
     "data": {
      "text/plain": [
       "carrier\n",
       "CCGT          1.349813e+03\n",
       "OCGT          1.850376e+02\n",
       "biomass       1.130722e+01\n",
       "coal          6.000053e+02\n",
       "geothermal    5.585823e+03\n",
       "load          6.700000e+10\n",
       "offwind-ac    2.112695e+00\n",
       "offwind-dc    1.201364e+00\n",
       "oil           1.017493e+02\n",
       "onwind        1.722771e+05\n",
       "ror           6.017862e+02\n",
       "solar         1.490991e+05\n",
       "Name: p_nom_opt, dtype: float64"
      ]
     },
     "execution_count": 7,
     "metadata": {},
     "output_type": "execute_result"
    }
   ],
   "source": [
    "#optimized\n",
    "\n",
    "gen_cap.p_nom_opt"
   ]
  },
  {
   "cell_type": "code",
   "execution_count": 8,
   "metadata": {},
   "outputs": [
    {
     "data": {
      "text/plain": [
       "carrier\n",
       "hydro    4340.625972\n",
       "Name: p_nom_opt, dtype: float64"
      ]
     },
     "execution_count": 8,
     "metadata": {},
     "output_type": "execute_result"
    }
   ],
   "source": [
    "stores_cap = n.storage_units.groupby([\"carrier\"]).sum()\n",
    "stores_cap.p_nom_opt"
   ]
  },
  {
   "cell_type": "code",
   "execution_count": 9,
   "metadata": {},
   "outputs": [
    {
     "data": {
      "text/plain": [
       "carrier\n",
       "CCGT             157.113096\n",
       "OCGT               0.037572\n",
       "biomass            0.807219\n",
       "coal               0.005333\n",
       "geothermal      5450.822558\n",
       "load               0.000000\n",
       "offwind-ac         2.112695\n",
       "offwind-dc         1.201364\n",
       "oil               12.949327\n",
       "onwind        172276.144462\n",
       "ror                0.000000\n",
       "solar         149084.645453\n",
       "dtype: float64"
      ]
     },
     "execution_count": 9,
     "metadata": {},
     "output_type": "execute_result"
    }
   ],
   "source": [
    "#installed capacity expansion\n",
    "generation_expansion = gen_cap['p_nom_opt'] - gen_cap['p_nom']\n",
    "generation_expansion"
   ]
  },
  {
   "cell_type": "code",
   "execution_count": 10,
   "metadata": {},
   "outputs": [
    {
     "data": {
      "text/plain": [
       "326985.8390783754"
      ]
     },
     "execution_count": 10,
     "metadata": {},
     "output_type": "execute_result"
    }
   ],
   "source": [
    "generation_expansion.sum()"
   ]
  },
  {
   "cell_type": "markdown",
   "metadata": {},
   "source": [
    "Transmission expansion"
   ]
  },
  {
   "cell_type": "code",
   "execution_count": 11,
   "metadata": {},
   "outputs": [
    {
     "name": "stderr",
     "output_type": "stream",
     "text": [
      "INFO:pypsa.io:Imported network base.nc has buses, lines, transformers\n"
     ]
    },
    {
     "data": {
      "text/plain": [
       "458.9607745961448"
      ]
     },
     "execution_count": 11,
     "metadata": {},
     "output_type": "execute_result"
    }
   ],
   "source": [
    "\n",
    "n_line = pypsa.Network(base_network)\n",
    "check_lines = n_line.lines\n",
    "check_lines.s_nom.mean()"
   ]
  },
  {
   "cell_type": "code",
   "execution_count": 12,
   "metadata": {},
   "outputs": [
    {
     "data": {
      "text/plain": [
       "458.9607745961448"
      ]
     },
     "execution_count": 12,
     "metadata": {},
     "output_type": "execute_result"
    }
   ],
   "source": [
    "lines=n.lines\n",
    "n.lines.s_nom.mean()"
   ]
  },
  {
   "cell_type": "code",
   "execution_count": 13,
   "metadata": {},
   "outputs": [
    {
     "data": {
      "text/plain": [
       "Line\n",
       "0     5.094284e+02\n",
       "1     7.883081e+01\n",
       "2     1.060170e+01\n",
       "3     2.493464e+03\n",
       "4     1.114528e+02\n",
       "          ...     \n",
       "66    4.516821e+02\n",
       "67   -1.081389e-09\n",
       "68    4.032354e-02\n",
       "69    3.171752e+02\n",
       "70    4.516827e+02\n",
       "Length: 71, dtype: float64"
      ]
     },
     "execution_count": 13,
     "metadata": {},
     "output_type": "execute_result"
    }
   ],
   "source": [
    "#transmission capacity expansion\n",
    "transmission_expansion = lines['s_nom_opt'] - lines['s_nom']\n",
    "transmission_expansion"
   ]
  },
  {
   "cell_type": "code",
   "execution_count": 14,
   "metadata": {},
   "outputs": [
    {
     "name": "stdout",
     "output_type": "stream",
     "text": [
      "Negative transmission expansions:\n",
      "Line\n",
      "67   -1.081389e-09\n",
      "dtype: float64\n",
      "Number of negative expansions: 1\n",
      "Total negative expansion (MW): -1.0813892004080117e-09\n"
     ]
    }
   ],
   "source": [
    "# Calculate transmission capacity expansion\n",
    "transmission_expansion = lines['s_nom_opt'] - lines['s_nom']\n",
    "\n",
    "# Filter for negative values\n",
    "negative_expansion = transmission_expansion[transmission_expansion < 0]\n",
    "\n",
    "# Print the negative values\n",
    "print(\"Negative transmission expansions:\")\n",
    "print(negative_expansion)\n",
    "\n",
    "# Count the number of negative values\n",
    "print(f\"Number of negative expansions: {len(negative_expansion)}\")\n",
    "\n",
    "# Sum of negative expansions\n",
    "print(f\"Total negative expansion (MW): {negative_expansion.sum()}\")"
   ]
  },
  {
   "cell_type": "code",
   "execution_count": 15,
   "metadata": {},
   "outputs": [
    {
     "name": "stdout",
     "output_type": "stream",
     "text": [
      "Total expansion of the system: 32182.982112099715\n"
     ]
    }
   ],
   "source": [
    "real_expansion = 0\n",
    "for i in range(len(transmission_expansion)):  # Iterate over the indices of the Series\n",
    "    if transmission_expansion.iloc[i] > 0:  # Check if the expansion value is greater than 0\n",
    "        real_expansion += transmission_expansion.iloc[i]  # Add the expansion value to real_expansion\n",
    "\n",
    "print(\"Total expansion of the system:\", real_expansion)"
   ]
  },
  {
   "cell_type": "code",
   "execution_count": 16,
   "metadata": {},
   "outputs": [
    {
     "data": {
      "text/plain": [
       "2683.336052262691"
      ]
     },
     "execution_count": 16,
     "metadata": {},
     "output_type": "execute_result"
    }
   ],
   "source": [
    "max_line_expansion = transmission_expansion.max()\n",
    "max_line_expansion"
   ]
  },
  {
   "cell_type": "code",
   "execution_count": 17,
   "metadata": {},
   "outputs": [
    {
     "name": "stderr",
     "output_type": "stream",
     "text": [
      "c:\\Users\\hie\\AppData\\Local\\anaconda3\\envs\\pypsa-earth\\lib\\site-packages\\cartopy\\mpl\\feature_artist.py:144: UserWarning:\n",
      "\n",
      "facecolor will have no effect as it has been defined as \"never\".\n",
      "\n",
      "c:\\Users\\hie\\AppData\\Local\\anaconda3\\envs\\pypsa-earth\\lib\\site-packages\\cartopy\\mpl\\feature_artist.py:144: UserWarning:\n",
      "\n",
      "facecolor will have no effect as it has been defined as \"never\".\n",
      "\n",
      "C:\\Users\\hie\\AppData\\Local\\Temp\\ipykernel_15080\\2452526199.py:165: UserWarning:\n",
      "\n",
      "This pattern is interpreted as a regular expression, and has match groups. To actually get the groups, use str.extract.\n",
      "\n"
     ]
    },
    {
     "data": {
      "image/png": "[encoded data removed]",
      "text/plain": [
       "<Figure size 1000x1000 with 1 Axes>"
      ]
     },
     "metadata": {},
     "output_type": "display_data"
    }
   ],
   "source": [
    "import cartopy.crs as ccrs\n",
    "from matplotlib.patches import Circle, Ellipse\n",
    "from matplotlib.legend_handler import HandlerPatch\n",
    "\n",
    "\n",
    "def make_handler_map_to_scale_circles_as_in(ax, dont_resize_actively=False):\n",
    "    fig = ax.get_figure()\n",
    "\n",
    "    def axes2pt():\n",
    "        return np.diff(ax.transData.transform([(0, 0), (1, 1)]), axis=0)[0] * (\n",
    "            300.0 / fig.dpi\n",
    "        )\n",
    "\n",
    "    ellipses = []\n",
    "    if not dont_resize_actively:\n",
    "\n",
    "        def update_width_height(event):\n",
    "            dist = axes2pt()\n",
    "            for e, radius in ellipses:\n",
    "                e.width, e.height = 2.0 * radius * dist\n",
    "\n",
    "        fig.canvas.mpl_connect(\"resize_event\", update_width_height)\n",
    "        ax.callbacks.connect(\"xlim_changed\", update_width_height)\n",
    "        ax.callbacks.connect(\"ylim_changed\", update_width_height)\n",
    "\n",
    "    def legend_circle_handler(\n",
    "        legend, orig_handle, xdescent, ydescent, width, height, fontsize\n",
    "    ):\n",
    "        w, h = 2.0 * orig_handle.get_radius() * axes2pt()\n",
    "        e = Ellipse(\n",
    "            xy=(0.5 * width - 0.5 * xdescent, 0.5 * height - 0.5 * ydescent),\n",
    "            width=w,\n",
    "            height=w,\n",
    "        )\n",
    "        ellipses.append((e, orig_handle.get_radius()))\n",
    "        return e\n",
    "\n",
    "    return {Circle: HandlerPatch(patch_func=legend_circle_handler)}\n",
    "\n",
    "\n",
    "def make_legend_circles_for(sizes, scale=1.0, **kw):\n",
    "    return [Circle((0, 0), radius=(s / scale) ** 0.5, **kw) for s in sizes]\n",
    "\n",
    "\n",
    "def add_legend(ax, bus_factor, branch_factor):\n",
    "\n",
    "    handles = []\n",
    "    labels = []\n",
    "    for s in (0.5, 1.0, 1.5):\n",
    "        handles.append(\n",
    "            plt.Line2D([0], [0], color=\"rosybrown\", linewidth=s * 1e3 / branch_factor)\n",
    "        )\n",
    "        labels.append(f\"{s} GW\")\n",
    "    l1 = ax.legend(\n",
    "        handles,\n",
    "        labels,\n",
    "        loc=\"upper left\",\n",
    "        bbox_to_anchor=(0, 0),\n",
    "        frameon=False,\n",
    "        labelspacing=1.2,\n",
    "        handletextpad=1.5,\n",
    "        title=\"HVAC Line Capacity\",\n",
    "        title_fontsize=13,\n",
    "        fontsize=11,\n",
    "    )\n",
    "    ax.add_artist(l1)\n",
    "\n",
    "    handles = []\n",
    "    labels = []\n",
    "    if \"Load\" in n.carriers.index:\n",
    "        n.carriers = n.carriers.drop(\"Load\")\n",
    "\n",
    "    # Filter n.carriers to only exclude \"H2\" and \"batteries\"\n",
    "    filtered_carriers = n.carriers.loc[~n.carriers.index.isin(['H2', 'battery'])]\n",
    "\n",
    "    # Iterate over the filtered carriers\n",
    "    for name, carrier in filtered_carriers.iterrows():\n",
    "        handles.append(\n",
    "            plt.Line2D(\n",
    "                [0], [0], color=carrier.color, marker=\"o\", markersize=8, linewidth=0\n",
    "            )\n",
    "        )\n",
    "\n",
    "        labels.append(carrier.nice_name)\n",
    "    l3 = ax.legend(\n",
    "        handles,\n",
    "        labels,\n",
    "        loc=\"upper center\",\n",
    "        bbox_to_anchor=(0.53, -0.0),  # bbox_to_anchor=(0.72, -0.05),\n",
    "        handletextpad=0.0,\n",
    "        columnspacing=0.3,\n",
    "        ncol=2,\n",
    "        title=\"Technology\",\n",
    "        title_fontsize=13,\n",
    "        fontsize=11,\n",
    "        frameon=False,\n",
    "    )\n",
    "    ax.add_artist(l3)\n",
    "\n",
    "    circles = [10, 20]\n",
    "    handles = make_legend_circles_for(circles, scale=bus_factor, facecolor=\"lightgray\")\n",
    "    labels = [f\"{float(s/1e1)} GW\" for s in circles]\n",
    "    l4 = ax.legend(\n",
    "        handles,\n",
    "        labels,\n",
    "        loc=\"upper left\",\n",
    "        bbox_to_anchor=(0.82, 0.0),\n",
    "        frameon=False,\n",
    "        labelspacing=3.2,\n",
    "        title=\"Generation\",\n",
    "        title_fontsize=13,\n",
    "        fontsize=11,\n",
    "        handler_map=make_handler_map_to_scale_circles_as_in(ax, True),\n",
    "    )\n",
    "    ax.add_artist(l4)\n",
    "\n",
    "\n",
    "def plot_network(n, fn=None):\n",
    "\n",
    "    bus_factor = 6.0e3\n",
    "    branch_factor = 7.5e1\n",
    "\n",
    "    fields = [\"bus\", \"carrier\", \"p_nom\",\"p_nom_opt\"]\n",
    "        \n",
    "    pie_components = pd.concat(\n",
    "        [\n",
    "            n.generators.loc[n.generators.carrier != \"load\", fields],\n",
    "            n.storage_units[fields],\n",
    "        ]\n",
    "    )\n",
    "    bus_sizes = pie_components.groupby([\"bus\", \"carrier\"]).p_nom_opt.sum() / bus_factor\n",
    "\n",
    "    def clip(df, thres=100):\n",
    "        return df.where(df > thres, other=0.0)\n",
    "\n",
    "    line_widths = clip(n.lines.s_nom_opt - n.lines.s_nom) / branch_factor\n",
    "    link_widths = clip(n.links.p_nom_opt - n.links.p_nom) / branch_factor\n",
    "    line_widths_opt = n.lines.s_nom_opt / branch_factor\n",
    "\n",
    "    fig, ax = plt.subplots(\n",
    "        figsize=(10, 10), subplot_kw={\"projection\": ccrs.PlateCarree()}\n",
    "    )\n",
    "\n",
    "    n.plot(\n",
    "        ax=ax,\n",
    "        bus_sizes=bus_sizes,\n",
    "        color_geomap=True,\n",
    "        bus_alpha=0.7,\n",
    "        line_widths=line_widths_opt,\n",
    "        line_colors=\"#dddddd\",\n",
    "    )\n",
    "\n",
    "    n.plot(\n",
    "        ax=ax,\n",
    "        geomap=True,\n",
    "        bus_sizes=0,\n",
    "        line_widths=line_widths,\n",
    "        link_widths=link_widths,\n",
    "    )\n",
    "\n",
    "\n",
    "    # Convert \"Bus\" index column to string type\n",
    "    filtered_buses = n.buses\n",
    "    filtered_buses.index = filtered_buses.index.astype(str)\n",
    "    filtered_buses = n.buses[~n.buses.index.str.contains(r\"(H2|battery)$\")]\n",
    "    \n",
    "\n",
    "\n",
    "\n",
    "    add_legend(ax, bus_factor, branch_factor)\n",
    "\n",
    "    \n",
    "\n",
    "\n",
    "    if fn is not None:\n",
    "        plt.savefig(fn, bbox_inches=\"tight\")\n",
    "\n",
    "\n",
    "plot_network(n)"
   ]
  },
  {
   "cell_type": "code",
   "execution_count": 18,
   "metadata": {},
   "outputs": [
    {
     "data": {
      "application/vnd.microsoft.datawrangler.viewer.v0+json": {
       "columns": [
        {
         "name": "(None, None)",
         "rawType": "object",
         "type": "unknown"
        },
        {
         "name": "Optimal Capacity",
         "rawType": "float64",
         "type": "float"
        },
        {
         "name": "Installed Capacity",
         "rawType": "float64",
         "type": "float"
        },
        {
         "name": "Supply",
         "rawType": "float64",
         "type": "float"
        },
        {
         "name": "Withdrawal",
         "rawType": "float64",
         "type": "float"
        },
        {
         "name": "Dispatch",
         "rawType": "float64",
         "type": "float"
        },
        {
         "name": "Transmission",
         "rawType": "float64",
         "type": "float"
        },
        {
         "name": "Capacity Factor",
         "rawType": "float64",
         "type": "float"
        },
        {
         "name": "Curtailment",
         "rawType": "float64",
         "type": "float"
        },
        {
         "name": "Capital Expenditure",
         "rawType": "float64",
         "type": "float"
        },
        {
         "name": "Operational Expenditure",
         "rawType": "float64",
         "type": "float"
        },
        {
         "name": "Revenue",
         "rawType": "float64",
         "type": "float"
        },
        {
         "name": "Market Value",
         "rawType": "float64",
         "type": "float"
        }
       ],
       "conversionMethod": "pd.DataFrame",
       "ref": "085b324c-1987-4e28-9ec0-be2138962927",
       "rows": [
        [
         "('Generator', 'Biomass')",
         "11.307219175687937",
         "10.5",
         "7245.665852651045",
         "0.0",
         "7245.665852651045",
         "0.0",
         "0.07315068296151855",
         "0.0",
         "4000419.751393582",
         "114761.76905995658",
         "324569.0420056805",
         "44.79492273121142"
        ],
        [
         "('Generator', 'Coal')",
         "600.0053328930259",
         "600.0",
         "708.6367138313024",
         "0.0",
         "708.6367138313024",
         "0.0",
         "0.00013482313839693715",
         "0.0",
         "264901917.07582337",
         "22835.262433071206",
         "793.5120660591249",
         "1.11977272779015"
        ],
        [
         "('Generator', 'Combined-Cycle Gas')",
         "1349.8130961572986",
         "1192.7",
         "2086398.8892339396",
         "0.0",
         "2086398.8892339396",
         "0.0",
         "0.17644916163578359",
         "0.0",
         "170321908.08533078",
         "97669649.51502639",
         "158190103.20220813",
         "75.81968338772003"
        ],
        [
         "('Generator', 'Geothermal')",
         "5585.822558366779",
         "135.0",
         "44898575.7349984",
         "0.0",
         "44898575.7349984",
         "0.0",
         "0.9175744727604381",
         "0.0",
         "0.0",
         "409592.622357368",
         "403681.3098623962",
         "0.008990960253283201"
        ],
        [
         "('Generator', 'Offshore Wind (AC)')",
         "2.112694677530219",
         "0.0",
         "1740.456203531946",
         "0.0",
         "1740.456203531946",
         "0.0",
         "0.09404208621726905",
         "1848.5546807428584",
         "556358.714777848",
         "43.731903181474436",
         "48968.80527222569",
         "28.13561477321419"
        ],
        [
         "('Generator', 'Offshore Wind (DC)')",
         "1.2013640032939823",
         "0.0",
         "1428.0462103305374",
         "0.0",
         "1428.0462103305374",
         "0.0",
         "0.13569490457101108",
         "1552.6038743088532",
         "389036.96825767437",
         "35.994469141331265",
         "45807.70452750675",
         "32.07718643565746"
        ],
        [
         "('Generator', 'Oil')",
         "101.74932667677155",
         "88.8",
         "3137.481511311822",
         "0.0",
         "3137.481511311822",
         "0.0",
         "0.003520023193996658",
         "0.0",
         "4978356.080613631",
         "494259.0265932523",
         "570103.7508934999",
         "181.70744555404008"
        ],
        [
         "('Generator', 'Onshore Wind')",
         "172277.05556056372",
         "0.9110988651167364",
         "4185343.029789261",
         "0.0",
         "4185343.029789261",
         "0.0",
         "0.002773316987131679",
         "68934613.78376468",
         "22323754123.490833",
         "104634.67131352016",
         "1184802561935.1687",
         "283083.74092692364"
        ],
        [
         "('Generator', 'Open-Cycle Gas')",
         "185.03757205075163",
         "185.0",
         "2773.5234882759933",
         "0.0",
         "2773.5234882759933",
         "0.0",
         "0.001711070172625812",
         "0.0",
         "10905611.744871184",
         "179432.1426315477",
         "155562.96590428945",
         "56.08856985054296"
        ],
        [
         "('Generator', 'Run of River')",
         "601.78624204",
         "601.78624204",
         "2978206.467180322",
         "0.0",
         "2978206.467180322",
         "0.0",
         "0.5649479557057863",
         "99693.45281967784",
         "246512017.2716647",
         "28382.080476266525",
         "74579885660.10115",
         "25041.87888985119"
        ],
        [
         "('Generator', 'Solar')",
         "149099.11746802475",
         "14.472015349088327",
         "5730443.037738887",
         "0.0",
         "5730443.037738887",
         "0.0",
         "0.004387418082912076",
         "206328908.33914196",
         "7199892655.834249",
         "113500.42798730441",
         "33306024297.727654",
         "5812.120298270957"
        ],
        [
         "('Generator', 'load')",
         "67000000000.0",
         "67000000000.0",
         "1629190.3773501778",
         "0.0",
         "1629190.3773501778",
         "0.0",
         "2.775830398265825e-06",
         "0.0",
         "0.0",
         "13033538857013.262",
         "13033537877923.604",
         "8000009.120556069"
        ],
        [
         "('Line', 'AC')",
         "64769.19710842492",
         "32586.214996326285",
         "317573729.1276293",
         "317573729.1276293",
         "0.0",
         "-27339292.844907247",
         "0.5597214482037833",
         "0.0",
         "393153987.5843462",
         "0.0",
         "413813106.6894531",
         "1.3030457772021877"
        ],
        [
         "('Load', '-')",
         "0.0",
         "0.0",
         "0.0",
         "78849999.999988",
         "-78849999.999988",
         "0.0",
         null,
         "0.0",
         "0.0",
         "0.0",
         "-15085778790098.723",
         null
        ],
        [
         "('StorageUnit', 'Reservoir & Dam')",
         "4340.625971594",
         "4340.625971594",
         "17324808.861932117",
         "0.0",
         "17324808.861932117",
         "0.0",
         "0.45562965331633537",
         "0.0",
         "0.0",
         "167221.78334300584",
         "758978891775.9152",
         "43808.788762086886"
        ]
       ],
       "shape": {
        "columns": 12,
        "rows": 15
       }
      },
      "text/html": [
       "<div>\n",
       "<style scoped>\n",
       "    .dataframe tbody tr th:only-of-type {\n",
       "        vertical-align: middle;\n",
       "    }\n",
       "\n",
       "    .dataframe tbody tr th {\n",
       "        vertical-align: top;\n",
       "    }\n",
       "\n",
       "    .dataframe thead th {\n",
       "        text-align: right;\n",
       "    }\n",
       "</style>\n",
       "<table border=\"1\" class=\"dataframe\">\n",
       "  <thead>\n",
       "    <tr style=\"text-align: right;\">\n",
       "      <th></th>\n",
       "      <th></th>\n",
       "      <th>Optimal Capacity</th>\n",
       "      <th>Installed Capacity</th>\n",
       "      <th>Supply</th>\n",
       "      <th>Withdrawal</th>\n",
       "      <th>Dispatch</th>\n",
       "      <th>Transmission</th>\n",
       "      <th>Capacity Factor</th>\n",
       "      <th>Curtailment</th>\n",
       "      <th>Capital Expenditure</th>\n",
       "      <th>Operational Expenditure</th>\n",
       "      <th>Revenue</th>\n",
       "      <th>Market Value</th>\n",
       "    </tr>\n",
       "  </thead>\n",
       "  <tbody>\n",
       "    <tr>\n",
       "      <th rowspan=\"12\" valign=\"top\">Generator</th>\n",
       "      <th>Biomass</th>\n",
       "      <td>1.130722e+01</td>\n",
       "      <td>1.050000e+01</td>\n",
       "      <td>7.245666e+03</td>\n",
       "      <td>0.000000e+00</td>\n",
       "      <td>7.245666e+03</td>\n",
       "      <td>0.000000e+00</td>\n",
       "      <td>0.073151</td>\n",
       "      <td>0.000000e+00</td>\n",
       "      <td>4.000420e+06</td>\n",
       "      <td>1.147618e+05</td>\n",
       "      <td>3.245690e+05</td>\n",
       "      <td>4.479492e+01</td>\n",
       "    </tr>\n",
       "    <tr>\n",
       "      <th>Coal</th>\n",
       "      <td>6.000053e+02</td>\n",
       "      <td>6.000000e+02</td>\n",
       "      <td>7.086367e+02</td>\n",
       "      <td>0.000000e+00</td>\n",
       "      <td>7.086367e+02</td>\n",
       "      <td>0.000000e+00</td>\n",
       "      <td>0.000135</td>\n",
       "      <td>0.000000e+00</td>\n",
       "      <td>2.649019e+08</td>\n",
       "      <td>2.283526e+04</td>\n",
       "      <td>7.935121e+02</td>\n",
       "      <td>1.119773e+00</td>\n",
       "    </tr>\n",
       "    <tr>\n",
       "      <th>Combined-Cycle Gas</th>\n",
       "      <td>1.349813e+03</td>\n",
       "      <td>1.192700e+03</td>\n",
       "      <td>2.086399e+06</td>\n",
       "      <td>0.000000e+00</td>\n",
       "      <td>2.086399e+06</td>\n",
       "      <td>0.000000e+00</td>\n",
       "      <td>0.176449</td>\n",
       "      <td>0.000000e+00</td>\n",
       "      <td>1.703219e+08</td>\n",
       "      <td>9.766965e+07</td>\n",
       "      <td>1.581901e+08</td>\n",
       "      <td>7.581968e+01</td>\n",
       "    </tr>\n",
       "    <tr>\n",
       "      <th>Geothermal</th>\n",
       "      <td>5.585823e+03</td>\n",
       "      <td>1.350000e+02</td>\n",
       "      <td>4.489858e+07</td>\n",
       "      <td>0.000000e+00</td>\n",
       "      <td>4.489858e+07</td>\n",
       "      <td>0.000000e+00</td>\n",
       "      <td>0.917574</td>\n",
       "      <td>0.000000e+00</td>\n",
       "      <td>0.000000e+00</td>\n",
       "      <td>4.095926e+05</td>\n",
       "      <td>4.036813e+05</td>\n",
       "      <td>8.990960e-03</td>\n",
       "    </tr>\n",
       "    <tr>\n",
       "      <th>Offshore Wind (AC)</th>\n",
       "      <td>2.112695e+00</td>\n",
       "      <td>0.000000e+00</td>\n",
       "      <td>1.740456e+03</td>\n",
       "      <td>0.000000e+00</td>\n",
       "      <td>1.740456e+03</td>\n",
       "      <td>0.000000e+00</td>\n",
       "      <td>0.094042</td>\n",
       "      <td>1.848555e+03</td>\n",
       "      <td>5.563587e+05</td>\n",
       "      <td>4.373190e+01</td>\n",
       "      <td>4.896881e+04</td>\n",
       "      <td>2.813561e+01</td>\n",
       "    </tr>\n",
       "    <tr>\n",
       "      <th>Offshore Wind (DC)</th>\n",
       "      <td>1.201364e+00</td>\n",
       "      <td>0.000000e+00</td>\n",
       "      <td>1.428046e+03</td>\n",
       "      <td>0.000000e+00</td>\n",
       "      <td>1.428046e+03</td>\n",
       "      <td>0.000000e+00</td>\n",
       "      <td>0.135695</td>\n",
       "      <td>1.552604e+03</td>\n",
       "      <td>3.890370e+05</td>\n",
       "      <td>3.599447e+01</td>\n",
       "      <td>4.580770e+04</td>\n",
       "      <td>3.207719e+01</td>\n",
       "    </tr>\n",
       "    <tr>\n",
       "      <th>Oil</th>\n",
       "      <td>1.017493e+02</td>\n",
       "      <td>8.880000e+01</td>\n",
       "      <td>3.137482e+03</td>\n",
       "      <td>0.000000e+00</td>\n",
       "      <td>3.137482e+03</td>\n",
       "      <td>0.000000e+00</td>\n",
       "      <td>0.003520</td>\n",
       "      <td>0.000000e+00</td>\n",
       "      <td>4.978356e+06</td>\n",
       "      <td>4.942590e+05</td>\n",
       "      <td>5.701038e+05</td>\n",
       "      <td>1.817074e+02</td>\n",
       "    </tr>\n",
       "    <tr>\n",
       "      <th>Onshore Wind</th>\n",
       "      <td>1.722771e+05</td>\n",
       "      <td>9.110989e-01</td>\n",
       "      <td>4.185343e+06</td>\n",
       "      <td>0.000000e+00</td>\n",
       "      <td>4.185343e+06</td>\n",
       "      <td>0.000000e+00</td>\n",
       "      <td>0.002773</td>\n",
       "      <td>6.893461e+07</td>\n",
       "      <td>2.232375e+10</td>\n",
       "      <td>1.046347e+05</td>\n",
       "      <td>1.184803e+12</td>\n",
       "      <td>2.830837e+05</td>\n",
       "    </tr>\n",
       "    <tr>\n",
       "      <th>Open-Cycle Gas</th>\n",
       "      <td>1.850376e+02</td>\n",
       "      <td>1.850000e+02</td>\n",
       "      <td>2.773523e+03</td>\n",
       "      <td>0.000000e+00</td>\n",
       "      <td>2.773523e+03</td>\n",
       "      <td>0.000000e+00</td>\n",
       "      <td>0.001711</td>\n",
       "      <td>0.000000e+00</td>\n",
       "      <td>1.090561e+07</td>\n",
       "      <td>1.794321e+05</td>\n",
       "      <td>1.555630e+05</td>\n",
       "      <td>5.608857e+01</td>\n",
       "    </tr>\n",
       "    <tr>\n",
       "      <th>Run of River</th>\n",
       "      <td>6.017862e+02</td>\n",
       "      <td>6.017862e+02</td>\n",
       "      <td>2.978206e+06</td>\n",
       "      <td>0.000000e+00</td>\n",
       "      <td>2.978206e+06</td>\n",
       "      <td>0.000000e+00</td>\n",
       "      <td>0.564948</td>\n",
       "      <td>9.969345e+04</td>\n",
       "      <td>2.465120e+08</td>\n",
       "      <td>2.838208e+04</td>\n",
       "      <td>7.457989e+10</td>\n",
       "      <td>2.504188e+04</td>\n",
       "    </tr>\n",
       "    <tr>\n",
       "      <th>Solar</th>\n",
       "      <td>1.490991e+05</td>\n",
       "      <td>1.447202e+01</td>\n",
       "      <td>5.730443e+06</td>\n",
       "      <td>0.000000e+00</td>\n",
       "      <td>5.730443e+06</td>\n",
       "      <td>0.000000e+00</td>\n",
       "      <td>0.004387</td>\n",
       "      <td>2.063289e+08</td>\n",
       "      <td>7.199893e+09</td>\n",
       "      <td>1.135004e+05</td>\n",
       "      <td>3.330602e+10</td>\n",
       "      <td>5.812120e+03</td>\n",
       "    </tr>\n",
       "    <tr>\n",
       "      <th>load</th>\n",
       "      <td>6.700000e+10</td>\n",
       "      <td>6.700000e+10</td>\n",
       "      <td>1.629190e+06</td>\n",
       "      <td>0.000000e+00</td>\n",
       "      <td>1.629190e+06</td>\n",
       "      <td>0.000000e+00</td>\n",
       "      <td>0.000003</td>\n",
       "      <td>0.000000e+00</td>\n",
       "      <td>0.000000e+00</td>\n",
       "      <td>1.303354e+13</td>\n",
       "      <td>1.303354e+13</td>\n",
       "      <td>8.000009e+06</td>\n",
       "    </tr>\n",
       "    <tr>\n",
       "      <th>Line</th>\n",
       "      <th>AC</th>\n",
       "      <td>6.476920e+04</td>\n",
       "      <td>3.258621e+04</td>\n",
       "      <td>3.175737e+08</td>\n",
       "      <td>3.175737e+08</td>\n",
       "      <td>0.000000e+00</td>\n",
       "      <td>-2.733929e+07</td>\n",
       "      <td>0.559721</td>\n",
       "      <td>0.000000e+00</td>\n",
       "      <td>3.931540e+08</td>\n",
       "      <td>0.000000e+00</td>\n",
       "      <td>4.138131e+08</td>\n",
       "      <td>1.303046e+00</td>\n",
       "    </tr>\n",
       "    <tr>\n",
       "      <th>Load</th>\n",
       "      <th>-</th>\n",
       "      <td>0.000000e+00</td>\n",
       "      <td>0.000000e+00</td>\n",
       "      <td>0.000000e+00</td>\n",
       "      <td>7.885000e+07</td>\n",
       "      <td>-7.885000e+07</td>\n",
       "      <td>0.000000e+00</td>\n",
       "      <td>NaN</td>\n",
       "      <td>0.000000e+00</td>\n",
       "      <td>0.000000e+00</td>\n",
       "      <td>0.000000e+00</td>\n",
       "      <td>-1.508578e+13</td>\n",
       "      <td>NaN</td>\n",
       "    </tr>\n",
       "    <tr>\n",
       "      <th>StorageUnit</th>\n",
       "      <th>Reservoir &amp; Dam</th>\n",
       "      <td>4.340626e+03</td>\n",
       "      <td>4.340626e+03</td>\n",
       "      <td>1.732481e+07</td>\n",
       "      <td>0.000000e+00</td>\n",
       "      <td>1.732481e+07</td>\n",
       "      <td>0.000000e+00</td>\n",
       "      <td>0.455630</td>\n",
       "      <td>0.000000e+00</td>\n",
       "      <td>0.000000e+00</td>\n",
       "      <td>1.672218e+05</td>\n",
       "      <td>7.589789e+11</td>\n",
       "      <td>4.380879e+04</td>\n",
       "    </tr>\n",
       "  </tbody>\n",
       "</table>\n",
       "</div>"
      ],
      "text/plain": [
       "                                Optimal Capacity  Installed Capacity  \\\n",
       "Generator   Biomass                 1.130722e+01        1.050000e+01   \n",
       "            Coal                    6.000053e+02        6.000000e+02   \n",
       "            Combined-Cycle Gas      1.349813e+03        1.192700e+03   \n",
       "            Geothermal              5.585823e+03        1.350000e+02   \n",
       "            Offshore Wind (AC)      2.112695e+00        0.000000e+00   \n",
       "            Offshore Wind (DC)      1.201364e+00        0.000000e+00   \n",
       "            Oil                     1.017493e+02        8.880000e+01   \n",
       "            Onshore Wind            1.722771e+05        9.110989e-01   \n",
       "            Open-Cycle Gas          1.850376e+02        1.850000e+02   \n",
       "            Run of River            6.017862e+02        6.017862e+02   \n",
       "            Solar                   1.490991e+05        1.447202e+01   \n",
       "            load                    6.700000e+10        6.700000e+10   \n",
       "Line        AC                      6.476920e+04        3.258621e+04   \n",
       "Load        -                       0.000000e+00        0.000000e+00   \n",
       "StorageUnit Reservoir & Dam         4.340626e+03        4.340626e+03   \n",
       "\n",
       "                                      Supply    Withdrawal      Dispatch  \\\n",
       "Generator   Biomass             7.245666e+03  0.000000e+00  7.245666e+03   \n",
       "            Coal                7.086367e+02  0.000000e+00  7.086367e+02   \n",
       "            Combined-Cycle Gas  2.086399e+06  0.000000e+00  2.086399e+06   \n",
       "            Geothermal          4.489858e+07  0.000000e+00  4.489858e+07   \n",
       "            Offshore Wind (AC)  1.740456e+03  0.000000e+00  1.740456e+03   \n",
       "            Offshore Wind (DC)  1.428046e+03  0.000000e+00  1.428046e+03   \n",
       "            Oil                 3.137482e+03  0.000000e+00  3.137482e+03   \n",
       "            Onshore Wind        4.185343e+06  0.000000e+00  4.185343e+06   \n",
       "            Open-Cycle Gas      2.773523e+03  0.000000e+00  2.773523e+03   \n",
       "            Run of River        2.978206e+06  0.000000e+00  2.978206e+06   \n",
       "            Solar               5.730443e+06  0.000000e+00  5.730443e+06   \n",
       "            load                1.629190e+06  0.000000e+00  1.629190e+06   \n",
       "Line        AC                  3.175737e+08  3.175737e+08  0.000000e+00   \n",
       "Load        -                   0.000000e+00  7.885000e+07 -7.885000e+07   \n",
       "StorageUnit Reservoir & Dam     1.732481e+07  0.000000e+00  1.732481e+07   \n",
       "\n",
       "                                Transmission  Capacity Factor   Curtailment  \\\n",
       "Generator   Biomass             0.000000e+00         0.073151  0.000000e+00   \n",
       "            Coal                0.000000e+00         0.000135  0.000000e+00   \n",
       "            Combined-Cycle Gas  0.000000e+00         0.176449  0.000000e+00   \n",
       "            Geothermal          0.000000e+00         0.917574  0.000000e+00   \n",
       "            Offshore Wind (AC)  0.000000e+00         0.094042  1.848555e+03   \n",
       "            Offshore Wind (DC)  0.000000e+00         0.135695  1.552604e+03   \n",
       "            Oil                 0.000000e+00         0.003520  0.000000e+00   \n",
       "            Onshore Wind        0.000000e+00         0.002773  6.893461e+07   \n",
       "            Open-Cycle Gas      0.000000e+00         0.001711  0.000000e+00   \n",
       "            Run of River        0.000000e+00         0.564948  9.969345e+04   \n",
       "            Solar               0.000000e+00         0.004387  2.063289e+08   \n",
       "            load                0.000000e+00         0.000003  0.000000e+00   \n",
       "Line        AC                 -2.733929e+07         0.559721  0.000000e+00   \n",
       "Load        -                   0.000000e+00              NaN  0.000000e+00   \n",
       "StorageUnit Reservoir & Dam     0.000000e+00         0.455630  0.000000e+00   \n",
       "\n",
       "                                Capital Expenditure  Operational Expenditure  \\\n",
       "Generator   Biomass                    4.000420e+06             1.147618e+05   \n",
       "            Coal                       2.649019e+08             2.283526e+04   \n",
       "            Combined-Cycle Gas         1.703219e+08             9.766965e+07   \n",
       "            Geothermal                 0.000000e+00             4.095926e+05   \n",
       "            Offshore Wind (AC)         5.563587e+05             4.373190e+01   \n",
       "            Offshore Wind (DC)         3.890370e+05             3.599447e+01   \n",
       "            Oil                        4.978356e+06             4.942590e+05   \n",
       "            Onshore Wind               2.232375e+10             1.046347e+05   \n",
       "            Open-Cycle Gas             1.090561e+07             1.794321e+05   \n",
       "            Run of River               2.465120e+08             2.838208e+04   \n",
       "            Solar                      7.199893e+09             1.135004e+05   \n",
       "            load                       0.000000e+00             1.303354e+13   \n",
       "Line        AC                         3.931540e+08             0.000000e+00   \n",
       "Load        -                          0.000000e+00             0.000000e+00   \n",
       "StorageUnit Reservoir & Dam            0.000000e+00             1.672218e+05   \n",
       "\n",
       "                                     Revenue  Market Value  \n",
       "Generator   Biomass             3.245690e+05  4.479492e+01  \n",
       "            Coal                7.935121e+02  1.119773e+00  \n",
       "            Combined-Cycle Gas  1.581901e+08  7.581968e+01  \n",
       "            Geothermal          4.036813e+05  8.990960e-03  \n",
       "            Offshore Wind (AC)  4.896881e+04  2.813561e+01  \n",
       "            Offshore Wind (DC)  4.580770e+04  3.207719e+01  \n",
       "            Oil                 5.701038e+05  1.817074e+02  \n",
       "            Onshore Wind        1.184803e+12  2.830837e+05  \n",
       "            Open-Cycle Gas      1.555630e+05  5.608857e+01  \n",
       "            Run of River        7.457989e+10  2.504188e+04  \n",
       "            Solar               3.330602e+10  5.812120e+03  \n",
       "            load                1.303354e+13  8.000009e+06  \n",
       "Line        AC                  4.138131e+08  1.303046e+00  \n",
       "Load        -                  -1.508578e+13           NaN  \n",
       "StorageUnit Reservoir & Dam     7.589789e+11  4.380879e+04  "
      ]
     },
     "execution_count": 18,
     "metadata": {},
     "output_type": "execute_result"
    }
   ],
   "source": [
    "n.statistics()"
   ]
  },
  {
   "cell_type": "code",
   "execution_count": 19,
   "metadata": {},
   "outputs": [
    {
     "name": "stderr",
     "output_type": "stream",
     "text": [
      "C:\\Users\\hie\\AppData\\Local\\Temp\\ipykernel_15080\\3758984340.py:1: DeprecatedWarning:\n",
      "\n",
      "dispatch is deprecated as of 0.28 and will be removed in 0.29. Use 'energy_balance' instead.\n",
      "\n"
     ]
    },
    {
     "data": {
      "text/plain": [
       "0.20821502804756165"
      ]
     },
     "execution_count": 19,
     "metadata": {},
     "output_type": "execute_result"
    }
   ],
   "source": [
    "n.statistics.dispatch().sum()"
   ]
  },
  {
   "cell_type": "code",
   "execution_count": 20,
   "metadata": {},
   "outputs": [
    {
     "data": {
      "text/plain": [
       "30619366392.60216"
      ]
     },
     "execution_count": 20,
     "metadata": {},
     "output_type": "execute_result"
    }
   ],
   "source": [
    "# Capital expenditure for optimized values (annual values based on p_nom_opt) [Eur/year]\n",
    "n.statistics.capex().sum()"
   ]
  },
  {
   "cell_type": "code",
   "execution_count": 21,
   "metadata": {},
   "outputs": [
    {
     "data": {
      "text/plain": [
       "30619.366392602158"
      ]
     },
     "execution_count": 21,
     "metadata": {},
     "output_type": "execute_result"
    }
   ],
   "source": [
    "#manual sum of components to obtain capex of the system [Million Eur/year]\n",
    "capex = (n.generators.p_nom_opt * n.generators.capital_cost).div(1e6).sum()  + (n.storage_units.p_nom_opt * n.storage_units.capital_cost).div(1e6).sum() + (n.lines.s_nom_opt * n.lines.capital_cost).div(1e6).sum() + (n.stores.e_nom_opt * n.stores.capital_cost).div(1e6).sum()# M€/a\n",
    "capex"
   ]
  },
  {
   "cell_type": "code",
   "execution_count": 22,
   "metadata": {},
   "outputs": [
    {
     "data": {
      "text/plain": [
       "13033638.16136229"
      ]
     },
     "execution_count": 22,
     "metadata": {},
     "output_type": "execute_result"
    }
   ],
   "source": [
    "#manual sum of components to obatin opex of the system [Million Eur/year]\n",
    "opex = (n.snapshot_weightings.generators @ n.generators_t.p * (n.generators.marginal_cost).div(1e6)).sum() + (n.snapshot_weightings.generators @ n.storage_units_t.p * (n.storage_units.marginal_cost).div(1e6)).sum()  # M€/a\n",
    "opex"
   ]
  },
  {
   "cell_type": "code",
   "execution_count": 23,
   "metadata": {},
   "outputs": [
    {
     "data": {
      "text/plain": [
       "29719.81051633575"
      ]
     },
     "execution_count": 23,
     "metadata": {},
     "output_type": "execute_result"
    }
   ],
   "source": [
    "#manual sum of components to obtain capex of only the expanded capacity (p_nom_opt-p_nom) [Million Eur/year]\n",
    "capex2 = ((n.generators.p_nom_opt - n.generators.p_nom)* n.generators.capital_cost).div(1e6).sum()  + ((n.storage_units.p_nom_opt - n.storage_units.p_nom ) * n.storage_units.capital_cost).div(1e6).sum() + ((n.lines.s_nom_opt - n.lines.s_nom) * n.lines.capital_cost).div(1e6).sum() + ((n.stores.e_nom_opt - n.stores.e_nom) * n.stores.capital_cost).div(1e6).sum()# M€/a\n",
    "capex2"
   ]
  },
  {
   "cell_type": "code",
   "execution_count": 24,
   "metadata": {},
   "outputs": [
    {
     "data": {
      "text/plain": [
       "<AxesSubplot:xlabel='snapshot'>"
      ]
     },
     "execution_count": 24,
     "metadata": {},
     "output_type": "execute_result"
    },
    {
     "data": {
      "image/png": "[encoded data removed]",
      "text/plain": [
       "<Figure size 640x480 with 1 Axes>"
      ]
     },
     "metadata": {},
     "output_type": "display_data"
    }
   ],
   "source": [
    "date1 = \"2013-01-01\"\n",
    "date2 = \"2013-01-02\"\n",
    "n.loads_t.p.loc[date1:date2].sum(axis=1).plot()"
   ]
  },
  {
   "cell_type": "markdown",
   "metadata": {},
   "source": [
    "Expansion and generation charts"
   ]
  },
  {
   "cell_type": "code",
   "execution_count": 43,
   "metadata": {},
   "outputs": [
    {
     "name": "stderr",
     "output_type": "stream",
     "text": [
      "C:\\Users\\hie\\AppData\\Local\\Temp\\ipykernel_15080\\3549183427.py:3: FutureWarning:\n",
      "\n",
      "DataFrame.groupby with axis=1 is deprecated. Do `frame.T.groupby(...)` without axis instead.\n",
      "\n"
     ]
    },
    {
     "data": {
      "text/plain": [
       "<AxesSubplot:xlabel='snapshot'>"
      ]
     },
     "execution_count": 43,
     "metadata": {},
     "output_type": "execute_result"
    },
    {
     "data": {
      "image/png": "[encoded data removed]",
      "text/plain": [
       "<Figure size 640x480 with 1 Axes>"
      ]
     },
     "metadata": {},
     "output_type": "display_data"
    }
   ],
   "source": [
    "date1 = \"2013-01-01\"\n",
    "date2 = \"2013-01-02\"\n",
    "n.generators_t.p.loc[date1:date2].groupby(n.generators.carrier, axis=1).sum().plot(kind = \"area\")\n",
    "\n",
    "n.loads_t.p.loc[date1:date2].sum(axis=1).plot()"
   ]
  },
  {
   "cell_type": "code",
   "execution_count": 26,
   "metadata": {},
   "outputs": [
    {
     "name": "stderr",
     "output_type": "stream",
     "text": [
      "C:\\Users\\hie\\AppData\\Local\\Temp\\ipykernel_15080\\2573341186.py:2: FutureWarning:\n",
      "\n",
      "DataFrame.groupby with axis=1 is deprecated. Do `frame.T.groupby(...)` without axis instead.\n",
      "\n"
     ]
    },
    {
     "data": {
      "application/vnd.microsoft.datawrangler.viewer.v0+json": {
       "columns": [
        {
         "name": "Generator",
         "rawType": "object",
         "type": "string"
        },
        {
         "name": "p_nom",
         "rawType": "float64",
         "type": "float"
        },
        {
         "name": "p_nom_opt",
         "rawType": "float64",
         "type": "float"
        }
       ],
       "conversionMethod": "pd.DataFrame",
       "ref": "a48fe80a-5210-419d-b179-a63d25d7d0ba",
       "rows": [
        [
         "C31",
         "9.0",
         "9.010932484849649"
        ],
        [
         "C32",
         "1.5",
         "2.296286690838288"
        ],
        [
         "C33",
         "102.0",
         "102.02778518209594"
        ],
        [
         "C34",
         "189.0",
         "189.6485213260471"
        ],
        [
         "C35",
         "129.0",
         "129.00001943977173"
        ],
        [
         "C36",
         "150.0",
         "150.26011410189457"
        ],
        [
         "C37",
         "248.2",
         "248.30536330628468"
        ],
        [
         "C38",
         "45.0",
         "45.03754270359738"
        ],
        [
         "C39",
         "18.0",
         "70.13171436228171"
        ],
        [
         "C40",
         "4.0",
         "104.93232875481489"
        ],
        [
         "C41",
         "7.5",
         "7.5288598872209125"
        ],
        [
         "C42",
         "4.1",
         "5.1201359922272545"
        ],
        [
         "C43",
         "7.4",
         "7.774363454093785"
        ],
        [
         "C44",
         "63.0",
         "63.08504937206212"
        ],
        [
         "C45",
         "7.7",
         "7.7852800243621205"
        ],
        [
         "C46",
         "1.3",
         "1.3013318946269035"
        ],
        [
         "C47",
         "2.0",
         "13.14988788721738"
        ],
        [
         "C48",
         "0.5",
         "0.5199425197226838"
        ],
        [
         "C49",
         "0.3",
         "0.5131147484839632"
        ],
        [
         "C50",
         "2.5",
         "2.5002207839753336"
        ],
        [
         "C51",
         "600.0",
         "600.0053328930259"
        ],
        [
         "C52",
         "185.0",
         "185.03757205075163"
        ],
        [
         "C53",
         "300.0",
         "302.94084709328956"
        ],
        [
         "C54",
         "30.0",
         "30.0"
        ],
        [
         "C55",
         "40.0",
         "2829.0689928365896"
        ],
        [
         "C60",
         "5.0",
         "2666.7535655301895"
        ],
        [
         "C61",
         "60.0",
         "60.0"
        ],
        [
         "2 offwind-dc",
         "0.0",
         "0.0"
        ],
        [
         "19 offwind-dc",
         "0.0",
         "0.0"
        ],
        [
         "32 offwind-dc",
         "0.0",
         "0.18727471987503577"
        ],
        [
         "34 offwind-dc",
         "0.0",
         "0.0"
        ],
        [
         "35 offwind-dc",
         "0.0",
         "0.0"
        ],
        [
         "37 offwind-dc",
         "0.0",
         "0.23999077466812715"
        ],
        [
         "38 offwind-dc",
         "0.0",
         "0.21068495918031377"
        ],
        [
         "39 offwind-dc",
         "0.0",
         "0.18795052678982033"
        ],
        [
         "50 offwind-dc",
         "0.0",
         "0.1826840655681764"
        ],
        [
         "75 offwind-dc",
         "0.0",
         "0.19277895721250893"
        ],
        [
         "0 onwind",
         "0.0",
         "0.4421294417390287"
        ],
        [
         "3 onwind",
         "0.0",
         "0.2938628171290379"
        ],
        [
         "5 onwind",
         "0.0",
         "0.20757068438010995"
        ],
        [
         "8 onwind",
         "0.1884931891983929",
         "0.188493189198"
        ],
        [
         "9 onwind",
         "0.0",
         "0.3621351828929337"
        ],
        [
         "11 onwind",
         "0.0",
         "0.3980603781397516"
        ],
        [
         "13 onwind",
         "0.0",
         "0.36829935159394556"
        ],
        [
         "16 onwind",
         "0.0",
         "0.39756431869077924"
        ],
        [
         "17 onwind",
         "0.0",
         "6774.870425372378"
        ],
        [
         "18 onwind",
         "0.0",
         "24082.959537394236"
        ],
        [
         "19 onwind",
         "0.0",
         "0.3798521505146044"
        ],
        [
         "20 onwind",
         "0.0",
         "0.4303404477205669"
        ],
        [
         "21 onwind",
         "0.0",
         "0.4257251698680759"
        ]
       ],
       "shape": {
        "columns": 2,
        "rows": 263
       }
      },
      "text/html": [
       "<div>\n",
       "<style scoped>\n",
       "    .dataframe tbody tr th:only-of-type {\n",
       "        vertical-align: middle;\n",
       "    }\n",
       "\n",
       "    .dataframe tbody tr th {\n",
       "        vertical-align: top;\n",
       "    }\n",
       "\n",
       "    .dataframe thead th {\n",
       "        text-align: right;\n",
       "    }\n",
       "</style>\n",
       "<table border=\"1\" class=\"dataframe\">\n",
       "  <thead>\n",
       "    <tr style=\"text-align: right;\">\n",
       "      <th></th>\n",
       "      <th>p_nom</th>\n",
       "      <th>p_nom_opt</th>\n",
       "    </tr>\n",
       "    <tr>\n",
       "      <th>Generator</th>\n",
       "      <th></th>\n",
       "      <th></th>\n",
       "    </tr>\n",
       "  </thead>\n",
       "  <tbody>\n",
       "    <tr>\n",
       "      <th>C31</th>\n",
       "      <td>9.000000e+00</td>\n",
       "      <td>9.010932e+00</td>\n",
       "    </tr>\n",
       "    <tr>\n",
       "      <th>C32</th>\n",
       "      <td>1.500000e+00</td>\n",
       "      <td>2.296287e+00</td>\n",
       "    </tr>\n",
       "    <tr>\n",
       "      <th>C33</th>\n",
       "      <td>1.020000e+02</td>\n",
       "      <td>1.020278e+02</td>\n",
       "    </tr>\n",
       "    <tr>\n",
       "      <th>C34</th>\n",
       "      <td>1.890000e+02</td>\n",
       "      <td>1.896485e+02</td>\n",
       "    </tr>\n",
       "    <tr>\n",
       "      <th>C35</th>\n",
       "      <td>1.290000e+02</td>\n",
       "      <td>1.290000e+02</td>\n",
       "    </tr>\n",
       "    <tr>\n",
       "      <th>...</th>\n",
       "      <td>...</td>\n",
       "      <td>...</td>\n",
       "    </tr>\n",
       "    <tr>\n",
       "      <th>79 load</th>\n",
       "      <td>1.000000e+09</td>\n",
       "      <td>1.000000e+09</td>\n",
       "    </tr>\n",
       "    <tr>\n",
       "      <th>80 load</th>\n",
       "      <td>1.000000e+09</td>\n",
       "      <td>1.000000e+09</td>\n",
       "    </tr>\n",
       "    <tr>\n",
       "      <th>81 load</th>\n",
       "      <td>1.000000e+09</td>\n",
       "      <td>1.000000e+09</td>\n",
       "    </tr>\n",
       "    <tr>\n",
       "      <th>82 load</th>\n",
       "      <td>1.000000e+09</td>\n",
       "      <td>1.000000e+09</td>\n",
       "    </tr>\n",
       "    <tr>\n",
       "      <th>83 load</th>\n",
       "      <td>1.000000e+09</td>\n",
       "      <td>1.000000e+09</td>\n",
       "    </tr>\n",
       "  </tbody>\n",
       "</table>\n",
       "<p>263 rows × 2 columns</p>\n",
       "</div>"
      ],
      "text/plain": [
       "                  p_nom     p_nom_opt\n",
       "Generator                            \n",
       "C31        9.000000e+00  9.010932e+00\n",
       "C32        1.500000e+00  2.296287e+00\n",
       "C33        1.020000e+02  1.020278e+02\n",
       "C34        1.890000e+02  1.896485e+02\n",
       "C35        1.290000e+02  1.290000e+02\n",
       "...                 ...           ...\n",
       "79 load    1.000000e+09  1.000000e+09\n",
       "80 load    1.000000e+09  1.000000e+09\n",
       "81 load    1.000000e+09  1.000000e+09\n",
       "82 load    1.000000e+09  1.000000e+09\n",
       "83 load    1.000000e+09  1.000000e+09\n",
       "\n",
       "[263 rows x 2 columns]"
      ]
     },
     "execution_count": 26,
     "metadata": {},
     "output_type": "execute_result"
    }
   ],
   "source": [
    "n.generators_t.p_max_pu.loc[\"2013-01-01 06:00\":\"2013-01-01 15:00\"]   #constraint\n",
    "n.generators_t.p_max_pu.loc[\"2013-01-01 06:00\":\"2013-01-01 15:00\"].groupby(n.generators.carrier, axis=1).mean()  #resource availability\n",
    "n.generators.marginal_cost \n",
    "\n",
    "curtailment = n.generators_t.p_max_pu * n.generators.p_nom_opt - n.generators_t.p\n",
    "curtailment.loc[\"2013-01-01 06:00\":\"2013-01-01 15:00\"].sum(axis=1)\n",
    "\n",
    "n.generators_t.p.loc[:, n.generators.carrier == \"load\"].loc[\"2013-01-01 06:00\":\"2013-01-01 15:00\"]   #load shedding\n",
    "\n",
    "\n",
    "\n",
    "n.generators[[\"p_nom\", \"p_nom_opt\"]]    #status"
   ]
  },
  {
   "cell_type": "code",
   "execution_count": 27,
   "metadata": {},
   "outputs": [
    {
     "name": "stdout",
     "output_type": "stream",
     "text": [
      "                  carrier  p_nom    p_nom_opt\n",
      "Generator                                    \n",
      "C39                  CCGT   18.0    70.131714\n",
      "C40                  CCGT    4.0   104.932329\n",
      "C47                   oil    2.0    13.149888\n",
      "C55            geothermal   40.0  2829.068993\n",
      "C60            geothermal    5.0  2666.753566\n",
      "...                   ...    ...          ...\n",
      "37 offwind-ac  offwind-ac    0.0     0.250187\n",
      "38 offwind-ac  offwind-ac    0.0     0.253420\n",
      "39 offwind-ac  offwind-ac    0.0     0.230398\n",
      "50 offwind-ac  offwind-ac    0.0     0.239781\n",
      "75 offwind-ac  offwind-ac    0.0     0.242898\n",
      "\n",
      "[137 rows x 3 columns]\n"
     ]
    }
   ],
   "source": [
    "expanded_generators = n.generators[n.generators[\"p_nom_opt\"] > n.generators[\"p_nom\"] * 2]\n",
    "print(expanded_generators[[\"carrier\", \"p_nom\", \"p_nom_opt\"]])"
   ]
  },
  {
   "cell_type": "code",
   "execution_count": 28,
   "metadata": {},
   "outputs": [
    {
     "name": "stdout",
     "output_type": "stream",
     "text": [
      "                  carrier  marginal_cost\n",
      "Generator                               \n",
      "C39                  CCGT      46.813905\n",
      "C40                  CCGT      46.812223\n",
      "C47                   oil     157.534321\n",
      "C55            geothermal       0.009134\n",
      "C60            geothermal       0.009110\n",
      "...                   ...            ...\n",
      "37 offwind-ac  offwind-ac       0.025641\n",
      "38 offwind-ac  offwind-ac       0.024620\n",
      "39 offwind-ac  offwind-ac       0.025174\n",
      "50 offwind-ac  offwind-ac       0.025426\n",
      "75 offwind-ac  offwind-ac       0.024574\n",
      "\n",
      "[137 rows x 2 columns]\n"
     ]
    }
   ],
   "source": [
    "print(expanded_generators[[\"carrier\", \"marginal_cost\"]])\n",
    "\n"
   ]
  },
  {
   "cell_type": "code",
   "execution_count": 29,
   "metadata": {},
   "outputs": [
    {
     "name": "stdout",
     "output_type": "stream",
     "text": [
      "snapshot\n",
      "2013-01-01 00:00:00      49.682935\n",
      "2013-01-01 01:00:00      37.429618\n",
      "2013-01-01 02:00:00      74.746661\n",
      "2013-01-01 03:00:00     348.963962\n",
      "2013-01-01 04:00:00     163.632193\n",
      "                          ...     \n",
      "2013-12-31 19:00:00    1804.691630\n",
      "2013-12-31 20:00:00    1823.865345\n",
      "2013-12-31 21:00:00    1479.464076\n",
      "2013-12-31 22:00:00     949.419940\n",
      "2013-12-31 23:00:00     835.102124\n",
      "Length: 8760, dtype: float64\n"
     ]
    }
   ],
   "source": [
    "curtailment = n.generators_t.p_max_pu * n.generators.p_nom_opt - n.generators_t.p\n",
    "print(curtailment.loc[:, expanded_generators.index].sum(axis=1))"
   ]
  },
  {
   "cell_type": "code",
   "execution_count": 30,
   "metadata": {},
   "outputs": [
    {
     "name": "stdout",
     "output_type": "stream",
     "text": [
      "count      8760.000000\n",
      "mean      31422.101513\n",
      "std       30765.675539\n",
      "min           0.039574\n",
      "25%        5814.734128\n",
      "50%       17752.450458\n",
      "75%       56654.060524\n",
      "max      127706.379225\n",
      "dtype: float64\n",
      "snapshot\n",
      "2013-01-01 00:00:00    78.844272\n",
      "2013-01-01 01:00:00    72.631303\n",
      "2013-01-01 02:00:00    41.298186\n",
      "2013-01-01 03:00:00    76.531415\n",
      "2013-01-01 04:00:00    55.664508\n",
      "                         ...    \n",
      "2013-12-31 19:00:00    92.683080\n",
      "2013-12-31 20:00:00    93.906726\n",
      "2013-12-31 21:00:00    93.177058\n",
      "2013-12-31 22:00:00    89.976694\n",
      "2013-12-31 23:00:00    88.475113\n",
      "Length: 8760, dtype: float64\n"
     ]
    }
   ],
   "source": [
    "curtailment = n.generators_t.p_max_pu * n.generators.p_nom_opt - n.generators_t.p\n",
    "curtailment_expanded = curtailment.loc[:, expanded_generators.index]\n",
    "print(curtailment_expanded.sum(axis=1).describe())  # Summary of curtailment\n",
    "\n",
    "total_potential_generation = (n.generators_t.p_max_pu * n.generators.p_nom_opt).loc[:, expanded_generators.index].sum(axis=1)\n",
    "curtailment_percentage = (curtailment_expanded.sum(axis=1) / total_potential_generation) * 100\n",
    "print(curtailment_percentage)  # Percentage of curtailment"
   ]
  },
  {
   "cell_type": "code",
   "execution_count": 31,
   "metadata": {},
   "outputs": [
    {
     "name": "stdout",
     "output_type": "stream",
     "text": [
      "             curtailment    demand\n",
      "curtailment     1.000000  0.390229\n",
      "demand          0.390229  1.000000\n"
     ]
    }
   ],
   "source": [
    "demand = n.loads_t.p_set.sum(axis=1)\n",
    "curtailment_vs_demand = pd.DataFrame({\n",
    "    \"curtailment\": curtailment_expanded.sum(axis=1),\n",
    "    \"demand\": demand\n",
    "})\n",
    "print(curtailment_vs_demand.corr())  # Correlation between curtailment and demand"
   ]
  },
  {
   "cell_type": "code",
   "execution_count": 32,
   "metadata": {},
   "outputs": [
    {
     "name": "stdout",
     "output_type": "stream",
     "text": [
      "snapshot\n",
      "2013-08-26 08:00:00    127706.379225\n",
      "2013-08-26 09:00:00    127475.636125\n",
      "2013-10-15 11:00:00    127424.930681\n",
      "2013-10-16 10:00:00    125993.256539\n",
      "2013-10-15 10:00:00    125241.294750\n",
      "2013-10-16 09:00:00    121199.592788\n",
      "2013-10-15 09:00:00    119682.570276\n",
      "2013-08-26 10:00:00    119667.596810\n",
      "2013-10-15 12:00:00    118214.902572\n",
      "2013-08-25 09:00:00    117079.512384\n",
      "dtype: float64\n"
     ]
    }
   ],
   "source": [
    "high_curtailment_hours = curtailment_expanded.sum(axis=1).nlargest(10)\n",
    "print(high_curtailment_hours)"
   ]
  },
  {
   "cell_type": "code",
   "execution_count": 33,
   "metadata": {},
   "outputs": [
    {
     "data": {
      "application/vnd.microsoft.datawrangler.viewer.v0+json": {
       "columns": [
        {
         "name": "('component', 'carrier')",
         "rawType": "object",
         "type": "unknown"
        },
        {
         "name": "0",
         "rawType": "float64",
         "type": "float"
        }
       ],
       "conversionMethod": "pd.DataFrame",
       "ref": "d09897e3-80b6-4128-b0ed-c7ea81ebb347",
       "rows": [
        [
         "('StorageUnit', 'Reservoir & Dam')",
         "4340.625971594"
        ]
       ],
       "shape": {
        "columns": 1,
        "rows": 1
       }
      },
      "text/html": [
       "<div>\n",
       "<style scoped>\n",
       "    .dataframe tbody tr th:only-of-type {\n",
       "        vertical-align: middle;\n",
       "    }\n",
       "\n",
       "    .dataframe tbody tr th {\n",
       "        vertical-align: top;\n",
       "    }\n",
       "\n",
       "    .dataframe thead th {\n",
       "        text-align: right;\n",
       "    }\n",
       "</style>\n",
       "<table border=\"1\" class=\"dataframe\">\n",
       "  <thead>\n",
       "    <tr style=\"text-align: right;\">\n",
       "      <th></th>\n",
       "      <th></th>\n",
       "      <th>0</th>\n",
       "    </tr>\n",
       "    <tr>\n",
       "      <th>component</th>\n",
       "      <th>carrier</th>\n",
       "      <th></th>\n",
       "    </tr>\n",
       "  </thead>\n",
       "  <tbody>\n",
       "    <tr>\n",
       "      <th>StorageUnit</th>\n",
       "      <th>Reservoir &amp; Dam</th>\n",
       "      <td>4340.625972</td>\n",
       "    </tr>\n",
       "  </tbody>\n",
       "</table>\n",
       "</div>"
      ],
      "text/plain": [
       "                                       0\n",
       "component   carrier                     \n",
       "StorageUnit Reservoir & Dam  4340.625972"
      ]
     },
     "execution_count": 33,
     "metadata": {},
     "output_type": "execute_result"
    }
   ],
   "source": [
    "storage_capacities = pd.DataFrame(n.statistics.optimal_capacity())\n",
    "storage_capacities = storage_capacities.drop(index=['Line','Generator'], level=0)\n",
    "storage_capacities"
   ]
  },
  {
   "cell_type": "code",
   "execution_count": 34,
   "metadata": {},
   "outputs": [
    {
     "data": {
      "application/vnd.microsoft.datawrangler.viewer.v0+json": {
       "columns": [
        {
         "name": "(None, None)",
         "rawType": "object",
         "type": "unknown"
        },
        {
         "name": "Optimal Capacity",
         "rawType": "float64",
         "type": "float"
        },
        {
         "name": "Installed Capacity",
         "rawType": "float64",
         "type": "float"
        },
        {
         "name": "Supply",
         "rawType": "float64",
         "type": "float"
        },
        {
         "name": "Withdrawal",
         "rawType": "float64",
         "type": "float"
        },
        {
         "name": "Dispatch",
         "rawType": "float64",
         "type": "float"
        },
        {
         "name": "Transmission",
         "rawType": "float64",
         "type": "float"
        },
        {
         "name": "Capacity Factor",
         "rawType": "float64",
         "type": "float"
        },
        {
         "name": "Curtailment",
         "rawType": "float64",
         "type": "float"
        },
        {
         "name": "Capital Expenditure",
         "rawType": "float64",
         "type": "float"
        },
        {
         "name": "Operational Expenditure",
         "rawType": "float64",
         "type": "float"
        },
        {
         "name": "Revenue",
         "rawType": "float64",
         "type": "float"
        },
        {
         "name": "Market Value",
         "rawType": "float64",
         "type": "float"
        }
       ],
       "conversionMethod": "pd.DataFrame",
       "ref": "b4319376-23ca-41cc-b55c-a8e678663fc8",
       "rows": [
        [
         "('Generator', 'Biomass')",
         "11.307219175687937",
         "10.5",
         "7245.665852651045",
         "0.0",
         "7245.665852651045",
         "0.0",
         "0.07315068296151855",
         "0.0",
         "4000419.751393582",
         "114761.76905995658",
         "324569.0420056805",
         "44.79492273121142"
        ],
        [
         "('Generator', 'Coal')",
         "600.0053328930259",
         "600.0",
         "708.6367138313024",
         "0.0",
         "708.6367138313024",
         "0.0",
         "0.00013482313839693715",
         "0.0",
         "264901917.07582337",
         "22835.262433071206",
         "793.5120660591249",
         "1.11977272779015"
        ],
        [
         "('Generator', 'Combined-Cycle Gas')",
         "1349.8130961572986",
         "1192.7",
         "2086398.8892339396",
         "0.0",
         "2086398.8892339396",
         "0.0",
         "0.17644916163578359",
         "0.0",
         "170321908.08533078",
         "97669649.51502639",
         "158190103.20220813",
         "75.81968338772003"
        ],
        [
         "('Generator', 'Geothermal')",
         "5585.822558366779",
         "135.0",
         "44898575.7349984",
         "0.0",
         "44898575.7349984",
         "0.0",
         "0.9175744727604381",
         "0.0",
         "0.0",
         "409592.622357368",
         "403681.3098623962",
         "0.008990960253283201"
        ],
        [
         "('Generator', 'Offshore Wind (AC)')",
         "2.112694677530219",
         "0.0",
         "1740.456203531946",
         "0.0",
         "1740.456203531946",
         "0.0",
         "0.09404208621726905",
         "1848.5546807428584",
         "556358.714777848",
         "43.731903181474436",
         "48968.80527222569",
         "28.13561477321419"
        ],
        [
         "('Generator', 'Offshore Wind (DC)')",
         "1.2013640032939823",
         "0.0",
         "1428.0462103305374",
         "0.0",
         "1428.0462103305374",
         "0.0",
         "0.13569490457101108",
         "1552.6038743088532",
         "389036.96825767437",
         "35.994469141331265",
         "45807.70452750675",
         "32.07718643565746"
        ],
        [
         "('Generator', 'Oil')",
         "101.74932667677155",
         "88.8",
         "3137.481511311822",
         "0.0",
         "3137.481511311822",
         "0.0",
         "0.003520023193996658",
         "0.0",
         "4978356.080613631",
         "494259.0265932523",
         "570103.7508934999",
         "181.70744555404008"
        ],
        [
         "('Generator', 'Onshore Wind')",
         "172277.05556056372",
         "0.9110988651167364",
         "4185343.029789261",
         "0.0",
         "4185343.029789261",
         "0.0",
         "0.002773316987131679",
         "68934613.78376468",
         "22323754123.490833",
         "104634.67131352016",
         "1184802561935.1687",
         "283083.74092692364"
        ],
        [
         "('Generator', 'Open-Cycle Gas')",
         "185.03757205075163",
         "185.0",
         "2773.5234882759933",
         "0.0",
         "2773.5234882759933",
         "0.0",
         "0.001711070172625812",
         "0.0",
         "10905611.744871184",
         "179432.1426315477",
         "155562.96590428945",
         "56.08856985054296"
        ],
        [
         "('Generator', 'Run of River')",
         "601.78624204",
         "601.78624204",
         "2978206.467180322",
         "0.0",
         "2978206.467180322",
         "0.0",
         "0.5649479557057863",
         "99693.45281967784",
         "246512017.2716647",
         "28382.080476266525",
         "74579885660.10115",
         "25041.87888985119"
        ],
        [
         "('Generator', 'Solar')",
         "149099.11746802475",
         "14.472015349088327",
         "5730443.037738887",
         "0.0",
         "5730443.037738887",
         "0.0",
         "0.004387418082912076",
         "206328908.33914196",
         "7199892655.834249",
         "113500.42798730441",
         "33306024297.727654",
         "5812.120298270957"
        ],
        [
         "('Generator', 'load')",
         "67000000000.0",
         "67000000000.0",
         "1629190.3773501778",
         "0.0",
         "1629190.3773501778",
         "0.0",
         "2.775830398265825e-06",
         "0.0",
         "0.0",
         "13033538857013.262",
         "13033537877923.604",
         "8000009.120556069"
        ],
        [
         "('Line', 'AC')",
         "64769.19710842492",
         "32586.214996326285",
         "317573729.1276293",
         "317573729.1276293",
         "0.0",
         "-27339292.844907247",
         "0.5597214482037833",
         "0.0",
         "393153987.5843462",
         "0.0",
         "413813106.6894531",
         "1.3030457772021877"
        ],
        [
         "('Load', '-')",
         "0.0",
         "0.0",
         "0.0",
         "78849999.999988",
         "-78849999.999988",
         "0.0",
         null,
         "0.0",
         "0.0",
         "0.0",
         "-15085778790098.723",
         null
        ],
        [
         "('StorageUnit', 'Reservoir & Dam')",
         "4340.625971594",
         "4340.625971594",
         "17324808.861932117",
         "0.0",
         "17324808.861932117",
         "0.0",
         "0.45562965331633537",
         "0.0",
         "0.0",
         "167221.78334300584",
         "758978891775.9152",
         "43808.788762086886"
        ]
       ],
       "shape": {
        "columns": 12,
        "rows": 15
       }
      },
      "text/html": [
       "<div>\n",
       "<style scoped>\n",
       "    .dataframe tbody tr th:only-of-type {\n",
       "        vertical-align: middle;\n",
       "    }\n",
       "\n",
       "    .dataframe tbody tr th {\n",
       "        vertical-align: top;\n",
       "    }\n",
       "\n",
       "    .dataframe thead th {\n",
       "        text-align: right;\n",
       "    }\n",
       "</style>\n",
       "<table border=\"1\" class=\"dataframe\">\n",
       "  <thead>\n",
       "    <tr style=\"text-align: right;\">\n",
       "      <th></th>\n",
       "      <th></th>\n",
       "      <th>Optimal Capacity</th>\n",
       "      <th>Installed Capacity</th>\n",
       "      <th>Supply</th>\n",
       "      <th>Withdrawal</th>\n",
       "      <th>Dispatch</th>\n",
       "      <th>Transmission</th>\n",
       "      <th>Capacity Factor</th>\n",
       "      <th>Curtailment</th>\n",
       "      <th>Capital Expenditure</th>\n",
       "      <th>Operational Expenditure</th>\n",
       "      <th>Revenue</th>\n",
       "      <th>Market Value</th>\n",
       "    </tr>\n",
       "  </thead>\n",
       "  <tbody>\n",
       "    <tr>\n",
       "      <th rowspan=\"12\" valign=\"top\">Generator</th>\n",
       "      <th>Biomass</th>\n",
       "      <td>1.130722e+01</td>\n",
       "      <td>1.050000e+01</td>\n",
       "      <td>7.245666e+03</td>\n",
       "      <td>0.000000e+00</td>\n",
       "      <td>7.245666e+03</td>\n",
       "      <td>0.000000e+00</td>\n",
       "      <td>0.073151</td>\n",
       "      <td>0.000000e+00</td>\n",
       "      <td>4.000420e+06</td>\n",
       "      <td>1.147618e+05</td>\n",
       "      <td>3.245690e+05</td>\n",
       "      <td>4.479492e+01</td>\n",
       "    </tr>\n",
       "    <tr>\n",
       "      <th>Coal</th>\n",
       "      <td>6.000053e+02</td>\n",
       "      <td>6.000000e+02</td>\n",
       "      <td>7.086367e+02</td>\n",
       "      <td>0.000000e+00</td>\n",
       "      <td>7.086367e+02</td>\n",
       "      <td>0.000000e+00</td>\n",
       "      <td>0.000135</td>\n",
       "      <td>0.000000e+00</td>\n",
       "      <td>2.649019e+08</td>\n",
       "      <td>2.283526e+04</td>\n",
       "      <td>7.935121e+02</td>\n",
       "      <td>1.119773e+00</td>\n",
       "    </tr>\n",
       "    <tr>\n",
       "      <th>Combined-Cycle Gas</th>\n",
       "      <td>1.349813e+03</td>\n",
       "      <td>1.192700e+03</td>\n",
       "      <td>2.086399e+06</td>\n",
       "      <td>0.000000e+00</td>\n",
       "      <td>2.086399e+06</td>\n",
       "      <td>0.000000e+00</td>\n",
       "      <td>0.176449</td>\n",
       "      <td>0.000000e+00</td>\n",
       "      <td>1.703219e+08</td>\n",
       "      <td>9.766965e+07</td>\n",
       "      <td>1.581901e+08</td>\n",
       "      <td>7.581968e+01</td>\n",
       "    </tr>\n",
       "    <tr>\n",
       "      <th>Geothermal</th>\n",
       "      <td>5.585823e+03</td>\n",
       "      <td>1.350000e+02</td>\n",
       "      <td>4.489858e+07</td>\n",
       "      <td>0.000000e+00</td>\n",
       "      <td>4.489858e+07</td>\n",
       "      <td>0.000000e+00</td>\n",
       "      <td>0.917574</td>\n",
       "      <td>0.000000e+00</td>\n",
       "      <td>0.000000e+00</td>\n",
       "      <td>4.095926e+05</td>\n",
       "      <td>4.036813e+05</td>\n",
       "      <td>8.990960e-03</td>\n",
       "    </tr>\n",
       "    <tr>\n",
       "      <th>Offshore Wind (AC)</th>\n",
       "      <td>2.112695e+00</td>\n",
       "      <td>0.000000e+00</td>\n",
       "      <td>1.740456e+03</td>\n",
       "      <td>0.000000e+00</td>\n",
       "      <td>1.740456e+03</td>\n",
       "      <td>0.000000e+00</td>\n",
       "      <td>0.094042</td>\n",
       "      <td>1.848555e+03</td>\n",
       "      <td>5.563587e+05</td>\n",
       "      <td>4.373190e+01</td>\n",
       "      <td>4.896881e+04</td>\n",
       "      <td>2.813561e+01</td>\n",
       "    </tr>\n",
       "    <tr>\n",
       "      <th>Offshore Wind (DC)</th>\n",
       "      <td>1.201364e+00</td>\n",
       "      <td>0.000000e+00</td>\n",
       "      <td>1.428046e+03</td>\n",
       "      <td>0.000000e+00</td>\n",
       "      <td>1.428046e+03</td>\n",
       "      <td>0.000000e+00</td>\n",
       "      <td>0.135695</td>\n",
       "      <td>1.552604e+03</td>\n",
       "      <td>3.890370e+05</td>\n",
       "      <td>3.599447e+01</td>\n",
       "      <td>4.580770e+04</td>\n",
       "      <td>3.207719e+01</td>\n",
       "    </tr>\n",
       "    <tr>\n",
       "      <th>Oil</th>\n",
       "      <td>1.017493e+02</td>\n",
       "      <td>8.880000e+01</td>\n",
       "      <td>3.137482e+03</td>\n",
       "      <td>0.000000e+00</td>\n",
       "      <td>3.137482e+03</td>\n",
       "      <td>0.000000e+00</td>\n",
       "      <td>0.003520</td>\n",
       "      <td>0.000000e+00</td>\n",
       "      <td>4.978356e+06</td>\n",
       "      <td>4.942590e+05</td>\n",
       "      <td>5.701038e+05</td>\n",
       "      <td>1.817074e+02</td>\n",
       "    </tr>\n",
       "    <tr>\n",
       "      <th>Onshore Wind</th>\n",
       "      <td>1.722771e+05</td>\n",
       "      <td>9.110989e-01</td>\n",
       "      <td>4.185343e+06</td>\n",
       "      <td>0.000000e+00</td>\n",
       "      <td>4.185343e+06</td>\n",
       "      <td>0.000000e+00</td>\n",
       "      <td>0.002773</td>\n",
       "      <td>6.893461e+07</td>\n",
       "      <td>2.232375e+10</td>\n",
       "      <td>1.046347e+05</td>\n",
       "      <td>1.184803e+12</td>\n",
       "      <td>2.830837e+05</td>\n",
       "    </tr>\n",
       "    <tr>\n",
       "      <th>Open-Cycle Gas</th>\n",
       "      <td>1.850376e+02</td>\n",
       "      <td>1.850000e+02</td>\n",
       "      <td>2.773523e+03</td>\n",
       "      <td>0.000000e+00</td>\n",
       "      <td>2.773523e+03</td>\n",
       "      <td>0.000000e+00</td>\n",
       "      <td>0.001711</td>\n",
       "      <td>0.000000e+00</td>\n",
       "      <td>1.090561e+07</td>\n",
       "      <td>1.794321e+05</td>\n",
       "      <td>1.555630e+05</td>\n",
       "      <td>5.608857e+01</td>\n",
       "    </tr>\n",
       "    <tr>\n",
       "      <th>Run of River</th>\n",
       "      <td>6.017862e+02</td>\n",
       "      <td>6.017862e+02</td>\n",
       "      <td>2.978206e+06</td>\n",
       "      <td>0.000000e+00</td>\n",
       "      <td>2.978206e+06</td>\n",
       "      <td>0.000000e+00</td>\n",
       "      <td>0.564948</td>\n",
       "      <td>9.969345e+04</td>\n",
       "      <td>2.465120e+08</td>\n",
       "      <td>2.838208e+04</td>\n",
       "      <td>7.457989e+10</td>\n",
       "      <td>2.504188e+04</td>\n",
       "    </tr>\n",
       "    <tr>\n",
       "      <th>Solar</th>\n",
       "      <td>1.490991e+05</td>\n",
       "      <td>1.447202e+01</td>\n",
       "      <td>5.730443e+06</td>\n",
       "      <td>0.000000e+00</td>\n",
       "      <td>5.730443e+06</td>\n",
       "      <td>0.000000e+00</td>\n",
       "      <td>0.004387</td>\n",
       "      <td>2.063289e+08</td>\n",
       "      <td>7.199893e+09</td>\n",
       "      <td>1.135004e+05</td>\n",
       "      <td>3.330602e+10</td>\n",
       "      <td>5.812120e+03</td>\n",
       "    </tr>\n",
       "    <tr>\n",
       "      <th>load</th>\n",
       "      <td>6.700000e+10</td>\n",
       "      <td>6.700000e+10</td>\n",
       "      <td>1.629190e+06</td>\n",
       "      <td>0.000000e+00</td>\n",
       "      <td>1.629190e+06</td>\n",
       "      <td>0.000000e+00</td>\n",
       "      <td>0.000003</td>\n",
       "      <td>0.000000e+00</td>\n",
       "      <td>0.000000e+00</td>\n",
       "      <td>1.303354e+13</td>\n",
       "      <td>1.303354e+13</td>\n",
       "      <td>8.000009e+06</td>\n",
       "    </tr>\n",
       "    <tr>\n",
       "      <th>Line</th>\n",
       "      <th>AC</th>\n",
       "      <td>6.476920e+04</td>\n",
       "      <td>3.258621e+04</td>\n",
       "      <td>3.175737e+08</td>\n",
       "      <td>3.175737e+08</td>\n",
       "      <td>0.000000e+00</td>\n",
       "      <td>-2.733929e+07</td>\n",
       "      <td>0.559721</td>\n",
       "      <td>0.000000e+00</td>\n",
       "      <td>3.931540e+08</td>\n",
       "      <td>0.000000e+00</td>\n",
       "      <td>4.138131e+08</td>\n",
       "      <td>1.303046e+00</td>\n",
       "    </tr>\n",
       "    <tr>\n",
       "      <th>Load</th>\n",
       "      <th>-</th>\n",
       "      <td>0.000000e+00</td>\n",
       "      <td>0.000000e+00</td>\n",
       "      <td>0.000000e+00</td>\n",
       "      <td>7.885000e+07</td>\n",
       "      <td>-7.885000e+07</td>\n",
       "      <td>0.000000e+00</td>\n",
       "      <td>NaN</td>\n",
       "      <td>0.000000e+00</td>\n",
       "      <td>0.000000e+00</td>\n",
       "      <td>0.000000e+00</td>\n",
       "      <td>-1.508578e+13</td>\n",
       "      <td>NaN</td>\n",
       "    </tr>\n",
       "    <tr>\n",
       "      <th>StorageUnit</th>\n",
       "      <th>Reservoir &amp; Dam</th>\n",
       "      <td>4.340626e+03</td>\n",
       "      <td>4.340626e+03</td>\n",
       "      <td>1.732481e+07</td>\n",
       "      <td>0.000000e+00</td>\n",
       "      <td>1.732481e+07</td>\n",
       "      <td>0.000000e+00</td>\n",
       "      <td>0.455630</td>\n",
       "      <td>0.000000e+00</td>\n",
       "      <td>0.000000e+00</td>\n",
       "      <td>1.672218e+05</td>\n",
       "      <td>7.589789e+11</td>\n",
       "      <td>4.380879e+04</td>\n",
       "    </tr>\n",
       "  </tbody>\n",
       "</table>\n",
       "</div>"
      ],
      "text/plain": [
       "                                Optimal Capacity  Installed Capacity  \\\n",
       "Generator   Biomass                 1.130722e+01        1.050000e+01   \n",
       "            Coal                    6.000053e+02        6.000000e+02   \n",
       "            Combined-Cycle Gas      1.349813e+03        1.192700e+03   \n",
       "            Geothermal              5.585823e+03        1.350000e+02   \n",
       "            Offshore Wind (AC)      2.112695e+00        0.000000e+00   \n",
       "            Offshore Wind (DC)      1.201364e+00        0.000000e+00   \n",
       "            Oil                     1.017493e+02        8.880000e+01   \n",
       "            Onshore Wind            1.722771e+05        9.110989e-01   \n",
       "            Open-Cycle Gas          1.850376e+02        1.850000e+02   \n",
       "            Run of River            6.017862e+02        6.017862e+02   \n",
       "            Solar                   1.490991e+05        1.447202e+01   \n",
       "            load                    6.700000e+10        6.700000e+10   \n",
       "Line        AC                      6.476920e+04        3.258621e+04   \n",
       "Load        -                       0.000000e+00        0.000000e+00   \n",
       "StorageUnit Reservoir & Dam         4.340626e+03        4.340626e+03   \n",
       "\n",
       "                                      Supply    Withdrawal      Dispatch  \\\n",
       "Generator   Biomass             7.245666e+03  0.000000e+00  7.245666e+03   \n",
       "            Coal                7.086367e+02  0.000000e+00  7.086367e+02   \n",
       "            Combined-Cycle Gas  2.086399e+06  0.000000e+00  2.086399e+06   \n",
       "            Geothermal          4.489858e+07  0.000000e+00  4.489858e+07   \n",
       "            Offshore Wind (AC)  1.740456e+03  0.000000e+00  1.740456e+03   \n",
       "            Offshore Wind (DC)  1.428046e+03  0.000000e+00  1.428046e+03   \n",
       "            Oil                 3.137482e+03  0.000000e+00  3.137482e+03   \n",
       "            Onshore Wind        4.185343e+06  0.000000e+00  4.185343e+06   \n",
       "            Open-Cycle Gas      2.773523e+03  0.000000e+00  2.773523e+03   \n",
       "            Run of River        2.978206e+06  0.000000e+00  2.978206e+06   \n",
       "            Solar               5.730443e+06  0.000000e+00  5.730443e+06   \n",
       "            load                1.629190e+06  0.000000e+00  1.629190e+06   \n",
       "Line        AC                  3.175737e+08  3.175737e+08  0.000000e+00   \n",
       "Load        -                   0.000000e+00  7.885000e+07 -7.885000e+07   \n",
       "StorageUnit Reservoir & Dam     1.732481e+07  0.000000e+00  1.732481e+07   \n",
       "\n",
       "                                Transmission  Capacity Factor   Curtailment  \\\n",
       "Generator   Biomass             0.000000e+00         0.073151  0.000000e+00   \n",
       "            Coal                0.000000e+00         0.000135  0.000000e+00   \n",
       "            Combined-Cycle Gas  0.000000e+00         0.176449  0.000000e+00   \n",
       "            Geothermal          0.000000e+00         0.917574  0.000000e+00   \n",
       "            Offshore Wind (AC)  0.000000e+00         0.094042  1.848555e+03   \n",
       "            Offshore Wind (DC)  0.000000e+00         0.135695  1.552604e+03   \n",
       "            Oil                 0.000000e+00         0.003520  0.000000e+00   \n",
       "            Onshore Wind        0.000000e+00         0.002773  6.893461e+07   \n",
       "            Open-Cycle Gas      0.000000e+00         0.001711  0.000000e+00   \n",
       "            Run of River        0.000000e+00         0.564948  9.969345e+04   \n",
       "            Solar               0.000000e+00         0.004387  2.063289e+08   \n",
       "            load                0.000000e+00         0.000003  0.000000e+00   \n",
       "Line        AC                 -2.733929e+07         0.559721  0.000000e+00   \n",
       "Load        -                   0.000000e+00              NaN  0.000000e+00   \n",
       "StorageUnit Reservoir & Dam     0.000000e+00         0.455630  0.000000e+00   \n",
       "\n",
       "                                Capital Expenditure  Operational Expenditure  \\\n",
       "Generator   Biomass                    4.000420e+06             1.147618e+05   \n",
       "            Coal                       2.649019e+08             2.283526e+04   \n",
       "            Combined-Cycle Gas         1.703219e+08             9.766965e+07   \n",
       "            Geothermal                 0.000000e+00             4.095926e+05   \n",
       "            Offshore Wind (AC)         5.563587e+05             4.373190e+01   \n",
       "            Offshore Wind (DC)         3.890370e+05             3.599447e+01   \n",
       "            Oil                        4.978356e+06             4.942590e+05   \n",
       "            Onshore Wind               2.232375e+10             1.046347e+05   \n",
       "            Open-Cycle Gas             1.090561e+07             1.794321e+05   \n",
       "            Run of River               2.465120e+08             2.838208e+04   \n",
       "            Solar                      7.199893e+09             1.135004e+05   \n",
       "            load                       0.000000e+00             1.303354e+13   \n",
       "Line        AC                         3.931540e+08             0.000000e+00   \n",
       "Load        -                          0.000000e+00             0.000000e+00   \n",
       "StorageUnit Reservoir & Dam            0.000000e+00             1.672218e+05   \n",
       "\n",
       "                                     Revenue  Market Value  \n",
       "Generator   Biomass             3.245690e+05  4.479492e+01  \n",
       "            Coal                7.935121e+02  1.119773e+00  \n",
       "            Combined-Cycle Gas  1.581901e+08  7.581968e+01  \n",
       "            Geothermal          4.036813e+05  8.990960e-03  \n",
       "            Offshore Wind (AC)  4.896881e+04  2.813561e+01  \n",
       "            Offshore Wind (DC)  4.580770e+04  3.207719e+01  \n",
       "            Oil                 5.701038e+05  1.817074e+02  \n",
       "            Onshore Wind        1.184803e+12  2.830837e+05  \n",
       "            Open-Cycle Gas      1.555630e+05  5.608857e+01  \n",
       "            Run of River        7.457989e+10  2.504188e+04  \n",
       "            Solar               3.330602e+10  5.812120e+03  \n",
       "            load                1.303354e+13  8.000009e+06  \n",
       "Line        AC                  4.138131e+08  1.303046e+00  \n",
       "Load        -                  -1.508578e+13           NaN  \n",
       "StorageUnit Reservoir & Dam     7.589789e+11  4.380879e+04  "
      ]
     },
     "execution_count": 34,
     "metadata": {},
     "output_type": "execute_result"
    }
   ],
   "source": [
    "n.statistics()"
   ]
  },
  {
   "cell_type": "markdown",
   "metadata": {},
   "source": [
    "Dispatch"
   ]
  },
  {
   "cell_type": "code",
   "execution_count": 35,
   "metadata": {},
   "outputs": [
    {
     "name": "stderr",
     "output_type": "stream",
     "text": [
      "C:\\Users\\hie\\AppData\\Local\\Temp\\ipykernel_15080\\2440099205.py:2: FutureWarning:\n",
      "\n",
      "DataFrame.groupby with axis=1 is deprecated. Do `frame.T.groupby(...)` without axis instead.\n",
      "\n"
     ]
    },
    {
     "data": {
      "text/plain": [
       "carrier\n",
       "CCGT          2.086399e+06\n",
       "OCGT          2.773523e+03\n",
       "biomass       7.245666e+03\n",
       "coal          7.086367e+02\n",
       "geothermal    4.489858e+07\n",
       "load          1.629190e+09\n",
       "offwind-ac    1.740456e+03\n",
       "offwind-dc    1.428046e+03\n",
       "oil           3.137482e+03\n",
       "onwind        4.185343e+06\n",
       "ror           2.978206e+06\n",
       "solar         5.730443e+06\n",
       "dtype: float64"
      ]
     },
     "execution_count": 35,
     "metadata": {},
     "output_type": "execute_result"
    }
   ],
   "source": [
    "#energy generated by type of powerplant\n",
    "production_cap = n.generators_t.p.loc[\"2013-01-01\":\"2014-01-01\"].groupby(n.generators.carrier, axis=1).sum()\n",
    "production_cap.sum()"
   ]
  },
  {
   "cell_type": "code",
   "execution_count": 36,
   "metadata": {},
   "outputs": [
    {
     "name": "stdout",
     "output_type": "stream",
     "text": [
      "                   p_nom     p_nom_opt\n",
      "carrier                               \n",
      "CCGT        1.192700e+03  1.349813e+03\n",
      "OCGT        1.850000e+02  1.850376e+02\n",
      "biomass     1.050000e+01  1.130722e+01\n",
      "coal        6.000000e+02  6.000053e+02\n",
      "geothermal  1.350000e+02  5.585823e+03\n",
      "load        6.700000e+10  6.700000e+10\n",
      "offwind-ac  0.000000e+00  2.112695e+00\n",
      "offwind-dc  0.000000e+00  1.201364e+00\n",
      "oil         8.880000e+01  1.017493e+02\n",
      "onwind      9.110989e-01  1.722771e+05\n",
      "ror         6.017862e+02  6.017862e+02\n",
      "solar       1.447202e+01  1.490991e+05\n",
      "\n",
      "hydro storage : p_nom: 4340.625971594  p_nom_opt: 4340.625971594\n",
      "Empty DataFrame\n",
      "Columns: [p_nom, p_nom_opt]\n",
      "Index: []\n"
     ]
    }
   ],
   "source": [
    "#installed capacity p_nom= nominal power (MW) and p_nom_opt= optimized nominal power (MW)\n",
    "\n",
    "gen_cap = n.generators.groupby([\"carrier\"]).sum()\n",
    "sto_cap = n.links.groupby([\"carrier\"]).sum()\n",
    "print(gen_cap[['p_nom','p_nom_opt']])\n",
    "print('\\nhydro storage : p_nom: ' + str(n.storage_units.sum()['p_nom'])+ '  p_nom_opt: '+str(n.storage_units.sum()['p_nom_opt']))\n",
    "print(sto_cap[['p_nom','p_nom_opt']])"
   ]
  },
  {
   "cell_type": "code",
   "execution_count": null,
   "metadata": {},
   "outputs": [
    {
     "name": "stderr",
     "output_type": "stream",
     "text": [
      "C:\\Users\\hie\\AppData\\Local\\Temp\\ipykernel_15080\\1217743023.py:23: FutureWarning:\n",
      "\n",
      "DataFrame.groupby with axis=1 is deprecated. Do `frame.T.groupby(...)` without axis instead.\n",
      "\n",
      "C:\\Users\\hie\\AppData\\Local\\Temp\\ipykernel_15080\\1217743023.py:36: FutureWarning:\n",
      "\n",
      "DataFrame.groupby with axis=1 is deprecated. Do `frame.T.groupby(...)` without axis instead.\n",
      "\n",
      "C:\\Users\\hie\\AppData\\Local\\Temp\\ipykernel_15080\\1217743023.py:45: FutureWarning:\n",
      "\n",
      "DataFrame.groupby with axis=1 is deprecated. Do `frame.T.groupby(...)` without axis instead.\n",
      "\n"
     ]
    },
    {
     "data": {
      "image/png": "[encoded data removed]",
      "text/plain": [
       "<Figure size 1200x400 with 1 Axes>"
      ]
     },
     "metadata": {},
     "output_type": "display_data"
    },
    {
     "name": "stdout",
     "output_type": "stream",
     "text": [
      "                   p_nom     p_nom_opt\n",
      "carrier                               \n",
      "CCGT        1.192700e+03  1.349813e+03\n",
      "OCGT        1.850000e+02  1.850376e+02\n",
      "biomass     1.050000e+01  1.130722e+01\n",
      "coal        6.000000e+02  6.000053e+02\n",
      "geothermal  1.350000e+02  5.585823e+03\n",
      "load        6.700000e+10  6.700000e+10\n",
      "offwind-ac  0.000000e+00  2.112695e+00\n",
      "offwind-dc  0.000000e+00  1.201364e+00\n",
      "oil         8.880000e+01  1.017493e+02\n",
      "onwind      9.110989e-01  1.722771e+05\n",
      "ror         6.017862e+02  6.017862e+02\n",
      "solar       1.447202e+01  1.490991e+05\n"
     ]
    }
   ],
   "source": [
    "import matplotlib.pyplot as plt\n",
    "import cartopy.crs as ccrs\n",
    "import matplotlib.ticker as ticker\n",
    "import matplotlib.patches as mpatches\n",
    "import matplotlib.dates as mdates\n",
    "\n",
    "first_date = \"2013-01-01\"\n",
    "second_date = \"2014-01-01\"\n",
    "\n",
    "#Hourly solar curtailment calculation\n",
    "maximum_solar_generation = n.generators_t.p_max_pu.loc[first_date:second_date].filter(regex='solar') * n.generators.loc[[idx for idx in n.generators.index if 'solar' in idx]]['p_nom_opt']\n",
    "maximum_solar_generation = maximum_solar_generation.sum(axis=1)\n",
    "solar_generation = n.generators_t.p.loc[first_date:second_date].groupby(n.generators.carrier, axis=1).sum()[\"solar\"]\n",
    "curtailment_solar = maximum_solar_generation - solar_generation\n",
    "\n",
    "#Hourly wind curtailment calculation\n",
    "maximum_wind_generation = n.generators_t.p_max_pu.loc[first_date:second_date].filter(regex='onwind') * n.generators.loc[[idx for idx in n.generators.index if 'onwind' in idx]]['p_nom_opt']\n",
    "maximum_wind_generation = maximum_wind_generation.sum(axis=1)\n",
    "wind_generation = n.generators_t.p.loc[first_date:second_date].groupby(n.generators.carrier, axis=1).sum()[\"onwind\"]\n",
    "curtailment_wind = maximum_wind_generation- wind_generation\n",
    "\n",
    "curtailment = curtailment_solar + curtailment_wind\n",
    "\n",
    "#Hourly generation per technology\n",
    "CCGT = n.generators_t.p.loc[first_date:second_date].groupby(n.generators.carrier, axis=1).sum()[\"CCGT\"]\n",
    "Onwind = n.generators_t.p.loc[first_date:second_date].groupby(n.generators.carrier, axis=1).sum()[\"onwind\"]\n",
    "solar = n.generators_t.p.loc[first_date:second_date].groupby(n.generators.carrier, axis=1).sum()[\"solar\"]\n",
    "oil = n.generators_t.p.loc[first_date:second_date].groupby(n.generators.carrier, axis=1).sum()[\"oil\"]\n",
    "\n",
    "\n",
    "#LoadShedding\n",
    "load = n.generators_t.p.loc[first_date:second_date].groupby(n.generators.carrier, axis=1).sum()[\"load\"]\n",
    "\n",
    "#Hourly load/demand \n",
    "demand = n.loads_t.p_set.loc[first_date:second_date].sum(axis=1)*-1\n",
    "\n",
    "size = CCGT.shape[0]\n",
    "\n",
    "if \"ror\" in n.generators_t.p.loc[first_date:second_date].groupby(n.generators.carrier, axis=1).sum().columns:\n",
    "    ror = n.generators_t.p.loc[first_date:second_date].groupby(n.generators.carrier, axis=1).sum()[\"ror\"]\n",
    "else:\n",
    "    ror = np.zeros(size)\n",
    "    \n",
    "if \"biomass\" in n.generators_t.p.loc[first_date:second_date].groupby(n.generators.carrier, axis=1).sum().columns:\n",
    "    biomass = n.generators_t.p.loc[first_date:second_date].groupby(n.generators.carrier, axis=1).sum()[\"biomass\"]\n",
    "else:\n",
    "    biomass = None\n",
    "\n",
    "if \"OCGT\" in n.generators_t.p.loc[first_date:second_date].groupby(n.generators.carrier, axis=1).sum().columns:\n",
    "    OCGT = n.generators_t.p.loc[first_date:second_date].groupby(n.generators.carrier, axis=1).sum()[\"OCGT\"]\n",
    "else:\n",
    "    OCGT = None\n",
    "    \n",
    "if \"CCGT\" in n.generators_t.p.loc[first_date:second_date].groupby(n.generators.carrier, axis=1).sum().columns:\n",
    "    CCGT = n.generators_t.p.loc[first_date:second_date].groupby(n.generators.carrier, axis=1).sum()[\"CCGT\"]\n",
    "else:\n",
    "    CCGT = np.zeros(size)\n",
    "\n",
    "if \"load\" in n.generators_t.p.loc[first_date:second_date].groupby(n.generators.carrier, axis=1).sum().columns:\n",
    "    load = n.generators_t.p.loc[first_date:second_date].groupby(n.generators.carrier, axis=1).sum()[\"load\"]/1000\n",
    "else:\n",
    "    load = np.zeros(size)\n",
    "\n",
    "    \n",
    "if \"battery\" in  n.stores_t.p.loc[first_date:second_date].groupby(n.stores.carrier, axis=1).sum().columns:\n",
    "    battery = n.stores_t.p.loc[first_date:second_date].groupby(n.stores.carrier, axis=1).sum()[\"battery\"]\n",
    "else:\n",
    "    battery = np.zeros(size)\n",
    "\n",
    "if not n.storage_units_t.p.loc[first_date:second_date].sum(axis=1).empty:\n",
    "    reservoir = n.storage_units_t.p.loc[first_date:second_date].sum(axis=1)\n",
    "else:\n",
    "    reservoir = np.zeros(size)\n",
    "    \n",
    "\n",
    "\n",
    "#Hourly storage charge or discharge \n",
    "i=0\n",
    "nbattery = []\n",
    "pbattery =[]\n",
    "for i in battery:\n",
    "    if i < 0:\n",
    "        nbattery.append(i)\n",
    "    else:\n",
    "        nbattery.append(0) \n",
    "for i in battery:\n",
    "    if i > 0:\n",
    "        pbattery.append(i)\n",
    "    else:\n",
    "        pbattery.append(0) \n",
    "\n",
    "\n",
    "\n",
    "# create a figure with a single subplot\n",
    "fig, ax = plt.subplots(figsize=(12, 4))\n",
    "\n",
    "# adjust the position of the subplot so that it only takes up 2/3 of the available space\n",
    "ax.set_position([0.1, 0.1, 0.75, 0.9])\n",
    "\n",
    "\n",
    "CCGT_color='slategrey'\n",
    "Onwind_color='#ff8200'\n",
    "\n",
    "Solar_color='gold'\n",
    "curtailment_color = 'maroon'\n",
    "ror_color='lightsteelblue'\n",
    "reservoir_color='steelblue'\n",
    "battery_color='tan'\n",
    "oil_color='dimgrey'\n",
    "biomass_color='#73A917'\n",
    "demand_color='gainsboro'\n",
    "lostload_color = \"maroon\"\n",
    "\n",
    "# Prepare data for stackplot\n",
    "stack_data = [CCGT, Onwind, solar, curtailment, ror, reservoir, pbattery, oil, load]\n",
    "stack_colors = [CCGT_color, Onwind_color, Solar_color, curtailment_color, ror_color, reservoir_color, battery_color, oil_color, demand_color]\n",
    "\n",
    "if biomass is not None:\n",
    "    stack_data.append(biomass)\n",
    "    stack_colors.append(biomass_color)\n",
    "\n",
    "if OCGT is not None:\n",
    "    stack_data.append(OCGT)\n",
    "    stack_colors.append('lightcoral')\n",
    "\n",
    "# Create the stackplot\n",
    "plt.stackplot(CCGT.index, *stack_data, colors=stack_colors, zorder=3)\n",
    "\n",
    "\n",
    "plt.stackplot(CCGT.index,demand,nbattery, colors=[demand_color,battery_color], zorder = 3)\n",
    "plt.xticks(rotation = 45)\n",
    "plt.yticks()\n",
    "scale_y = 1e3\n",
    "ticks_y = ticker.FuncFormatter(lambda x, pos: '{0:g}'.format(x/scale_y))\n",
    "ax.yaxis.set_major_formatter(ticks_y)\n",
    "myFmt = mdates.DateFormatter('%d')\n",
    "ax.xaxis.set_major_formatter(myFmt)\n",
    "ax.set_ylabel('GW')\n",
    "ax.set_xlabel('Year')\n",
    "\n",
    "\n",
    "CCGT_patch = mpatches.Patch(color=CCGT_color, label ='CCGT')\n",
    "wind_patch = mpatches.Patch(color=Onwind_color, label ='Onshore wind')\n",
    "solar_patch = mpatches.Patch(color=Solar_color, label ='Solar')\n",
    "curtailment_patch = mpatches.Patch(color=curtailment_color, label = 'Curtailment')\n",
    "ror_patch = mpatches.Patch(color=ror_color, label ='Run Of River')\n",
    "reservoir_patch = mpatches.Patch(color=reservoir_color, label ='Reservoir')\n",
    "\n",
    "battery_patch = mpatches.Patch(color=battery_color, label ='Battery')\n",
    "oil_patch = mpatches.Patch(color=oil_color, label ='Oil')\n",
    "biomass_patch = mpatches.Patch(color=biomass_color, label ='Biomass')\n",
    "load_patch = mpatches.Patch(color=demand_color, label ='Demand')\n",
    "\n",
    "lostload_patch = mpatches.Patch(color=demand_color, label ='LostLoad')\n",
    "\n",
    "handles = [\n",
    "    CCGT_patch, wind_patch, solar_patch, curtailment_patch,\n",
    "    ror_patch, reservoir_patch, oil_patch, load_patch, battery_patch\n",
    "]\n",
    "\n",
    "if biomass is not None:\n",
    "    handles.append(biomass_patch)\n",
    "\n",
    "if OCGT is not None:\n",
    "    handles.append(mpatches.Patch(color='lightcoral', label='OCGT'))    \n",
    "\n",
    "ax.legend(handles=handles, loc=\"center right\", bbox_to_anchor=(1.19, 0.5))\n",
    "\n",
    "image_format = '.png' \n",
    "\n",
    "\n",
    "plt.show()\n",
    "\n",
    "gen_cap = n.generators.groupby([\"carrier\"]).sum()\n",
    "sto_cap = n.links.groupby([\"carrier\"]).sum()\n",
    "print(gen_cap[['p_nom','p_nom_opt']])\n",
    "print('\\nhydro storage : p_nom: ' + str(n.storage_units.sum()['p_nom'])+ '  p_nom_opt: '+str(n.storage_units.sum()['p_nom_opt']))\n",
    "print(sto_cap[['p_nom','p_nom_opt']])\n"
   ]
  },
  {
   "cell_type": "code",
   "execution_count": 38,
   "metadata": {},
   "outputs": [
    {
     "name": "stdout",
     "output_type": "stream",
     "text": [
      "CCGT generation (MWh) = 2086399\n",
      "OCGT generation (MWh) = 2774\n",
      "oil generation (MWh) = 3137\n",
      "biomass generation (MWh) = 7246\n",
      "geothermal generation (MWh) = 44898576\n",
      "onwind generation (MWh) = 4185343\n",
      "solar generation (MWh) = 5730443\n",
      "ror generation (MWh) = 2978206\n",
      " generation (MWh) = 0 (not present in the network)\n",
      "hydro generation (MWh) = 17324809\n"
     ]
    }
   ],
   "source": [
    "# List of generator carriers\n",
    "generator_list = [\"CCGT\", \"OCGT\", \"oil\", \"biomass\", \"geothermal\", \"onwind\", \"solar\", \"ror\",\"\"]\n",
    "\n",
    "# Loop through each carrier in the generator list\n",
    "for carrier in generator_list:\n",
    "    # Filter generators by carrier and sum their generation\n",
    "    if carrier in n.generators.carrier.unique():\n",
    "        generation = n.generators_t.p.loc[:, n.generators[n.generators.carrier == carrier].index].sum().sum()\n",
    "        print(f\"{carrier} generation (MWh) = {round(generation)}\")\n",
    "    else:\n",
    "        print(f\"{carrier} generation (MWh) = 0 (not present in the network)\")\n",
    "\n",
    "# List of storage unit carriers\n",
    "generator_list2 = [\"hydro\"]\n",
    "\n",
    "# Loop through each carrier in the storage unit list\n",
    "for carrier in generator_list2:\n",
    "    # Filter storage units by carrier and sum their generation\n",
    "    if carrier in n.storage_units.carrier.unique():\n",
    "        generation = n.storage_units_t.p.loc[:, n.storage_units[n.storage_units.carrier == carrier].index].sum().sum()\n",
    "        print(f\"{carrier} generation (MWh) = {round(generation)}\")\n",
    "    else:\n",
    "        print(f\"{carrier} generation (MWh) = 0 (not present in the network)\")"
   ]
  },
  {
   "cell_type": "markdown",
   "metadata": {},
   "source": [
    "Lost load"
   ]
  },
  {
   "cell_type": "code",
   "execution_count": 39,
   "metadata": {},
   "outputs": [
    {
     "data": {
      "text/plain": [
       "78849999.99998802"
      ]
     },
     "execution_count": 39,
     "metadata": {},
     "output_type": "execute_result"
    }
   ],
   "source": [
    "demand = n.loads_t.p_set.loc[\"2013\"].sum(axis=1)\n",
    "demand.idxmax()\n",
    "demand.sum()"
   ]
  },
  {
   "cell_type": "code",
   "execution_count": 40,
   "metadata": {},
   "outputs": [
    {
     "name": "stderr",
     "output_type": "stream",
     "text": [
      "C:\\Users\\hie\\AppData\\Local\\Temp\\ipykernel_15080\\1555212878.py:1: FutureWarning:\n",
      "\n",
      "DataFrame.groupby with axis=1 is deprecated. Do `frame.T.groupby(...)` without axis instead.\n",
      "\n"
     ]
    },
    {
     "data": {
      "text/plain": [
       "1629190377"
      ]
     },
     "execution_count": 40,
     "metadata": {},
     "output_type": "execute_result"
    }
   ],
   "source": [
    "load_shedding = n.generators_t.p.loc[\"2013\"].groupby(n.generators.carrier, axis=1).sum()[\"load\"]\n",
    "round(load_shedding.sum())"
   ]
  },
  {
   "cell_type": "code",
   "execution_count": 41,
   "metadata": {},
   "outputs": [
    {
     "data": {
      "text/plain": [
       "Peak LL    616.817864\n",
       "dtype: float64"
      ]
     },
     "execution_count": 41,
     "metadata": {},
     "output_type": "execute_result"
    }
   ],
   "source": [
    "#LL or Loadshedding is in kW/kWh \n",
    "lostload = n.generators_t.p.filter(like= \"load\")\n",
    "#lostload.idxmax()\n",
    "peakLL = pd.DataFrame(index = lostload.index)\n",
    "peakLL[\"Peak LL\"] = lostload.max(axis=1)/1000\n",
    "sortedLL = peakLL.sort_values(\"Peak LL\", ascending=False)\n",
    "LL_contribution = sortedLL.iloc[0:9]\n",
    "LL_contribution.mean()"
   ]
  },
  {
   "cell_type": "code",
   "execution_count": 42,
   "metadata": {},
   "outputs": [
    {
     "ename": "KeyError",
     "evalue": "\"labels ['Link' 'Store'] not found in level\"",
     "output_type": "error",
     "traceback": [
      "\u001b[1;31m---------------------------------------------------------------------------\u001b[0m",
      "\u001b[1;31mKeyError\u001b[0m                                  Traceback (most recent call last)",
      "Cell \u001b[1;32mIn[42], line 4\u001b[0m\n\u001b[0;32m      1\u001b[0m \u001b[38;5;66;03m#selecting generation capacities from statistics\u001b[39;00m\n\u001b[0;32m      2\u001b[0m \u001b[38;5;66;03m# Load and process generation capacities\u001b[39;00m\n\u001b[0;32m      3\u001b[0m capacities \u001b[38;5;241m=\u001b[39m pd\u001b[38;5;241m.\u001b[39mDataFrame(n\u001b[38;5;241m.\u001b[39mstatistics\u001b[38;5;241m.\u001b[39moptimal_capacity())\n\u001b[1;32m----> 4\u001b[0m capacities \u001b[38;5;241m=\u001b[39m \u001b[43mcapacities\u001b[49m\u001b[38;5;241;43m.\u001b[39;49m\u001b[43mdrop\u001b[49m\u001b[43m(\u001b[49m\u001b[43mindex\u001b[49m\u001b[38;5;241;43m=\u001b[39;49m\u001b[43m[\u001b[49m\u001b[38;5;124;43m'\u001b[39;49m\u001b[38;5;124;43mLine\u001b[39;49m\u001b[38;5;124;43m'\u001b[39;49m\u001b[43m,\u001b[49m\u001b[43m \u001b[49m\u001b[38;5;124;43m'\u001b[39;49m\u001b[38;5;124;43mLoad\u001b[39;49m\u001b[38;5;124;43m'\u001b[39;49m\u001b[43m,\u001b[49m\u001b[43m \u001b[49m\u001b[38;5;124;43m'\u001b[39;49m\u001b[38;5;124;43mLink\u001b[39;49m\u001b[38;5;124;43m'\u001b[39;49m\u001b[43m,\u001b[49m\u001b[43m \u001b[49m\u001b[38;5;124;43m'\u001b[39;49m\u001b[38;5;124;43mStore\u001b[39;49m\u001b[38;5;124;43m'\u001b[39;49m\u001b[43m]\u001b[49m\u001b[43m,\u001b[49m\u001b[43m \u001b[49m\u001b[43mlevel\u001b[49m\u001b[38;5;241;43m=\u001b[39;49m\u001b[38;5;241;43m0\u001b[39;49m\u001b[43m)\u001b[49m\n\u001b[0;32m      5\u001b[0m capacities \u001b[38;5;241m=\u001b[39m capacities\u001b[38;5;241m.\u001b[39mreset_index(level\u001b[38;5;241m=\u001b[39m\u001b[38;5;241m0\u001b[39m, drop\u001b[38;5;241m=\u001b[39m\u001b[38;5;28;01mTrue\u001b[39;00m)\n\u001b[0;32m      6\u001b[0m capacities\u001b[38;5;241m.\u001b[39mrename(columns\u001b[38;5;241m=\u001b[39m{\u001b[38;5;241m0\u001b[39m: \u001b[38;5;124m\"\u001b[39m\u001b[38;5;124mMW\u001b[39m\u001b[38;5;124m\"\u001b[39m}, inplace\u001b[38;5;241m=\u001b[39m\u001b[38;5;28;01mTrue\u001b[39;00m)\n",
      "File \u001b[1;32mc:\\Users\\hie\\AppData\\Local\\anaconda3\\envs\\pypsa-earth\\lib\\site-packages\\pandas\\core\\frame.py:5581\u001b[0m, in \u001b[0;36mDataFrame.drop\u001b[1;34m(self, labels, axis, index, columns, level, inplace, errors)\u001b[0m\n\u001b[0;32m   5433\u001b[0m \u001b[38;5;28;01mdef\u001b[39;00m\u001b[38;5;250m \u001b[39m\u001b[38;5;21mdrop\u001b[39m(\n\u001b[0;32m   5434\u001b[0m     \u001b[38;5;28mself\u001b[39m,\n\u001b[0;32m   5435\u001b[0m     labels: IndexLabel \u001b[38;5;241m|\u001b[39m \u001b[38;5;28;01mNone\u001b[39;00m \u001b[38;5;241m=\u001b[39m \u001b[38;5;28;01mNone\u001b[39;00m,\n\u001b[1;32m   (...)\u001b[0m\n\u001b[0;32m   5442\u001b[0m     errors: IgnoreRaise \u001b[38;5;241m=\u001b[39m \u001b[38;5;124m\"\u001b[39m\u001b[38;5;124mraise\u001b[39m\u001b[38;5;124m\"\u001b[39m,\n\u001b[0;32m   5443\u001b[0m ) \u001b[38;5;241m-\u001b[39m\u001b[38;5;241m>\u001b[39m DataFrame \u001b[38;5;241m|\u001b[39m \u001b[38;5;28;01mNone\u001b[39;00m:\n\u001b[0;32m   5444\u001b[0m \u001b[38;5;250m    \u001b[39m\u001b[38;5;124;03m\"\"\"\u001b[39;00m\n\u001b[0;32m   5445\u001b[0m \u001b[38;5;124;03m    Drop specified labels from rows or columns.\u001b[39;00m\n\u001b[0;32m   5446\u001b[0m \n\u001b[1;32m   (...)\u001b[0m\n\u001b[0;32m   5579\u001b[0m \u001b[38;5;124;03m            weight  1.0     0.8\u001b[39;00m\n\u001b[0;32m   5580\u001b[0m \u001b[38;5;124;03m    \"\"\"\u001b[39;00m\n\u001b[1;32m-> 5581\u001b[0m     \u001b[38;5;28;01mreturn\u001b[39;00m \u001b[38;5;28;43msuper\u001b[39;49m\u001b[43m(\u001b[49m\u001b[43m)\u001b[49m\u001b[38;5;241;43m.\u001b[39;49m\u001b[43mdrop\u001b[49m\u001b[43m(\u001b[49m\n\u001b[0;32m   5582\u001b[0m \u001b[43m        \u001b[49m\u001b[43mlabels\u001b[49m\u001b[38;5;241;43m=\u001b[39;49m\u001b[43mlabels\u001b[49m\u001b[43m,\u001b[49m\n\u001b[0;32m   5583\u001b[0m \u001b[43m        \u001b[49m\u001b[43maxis\u001b[49m\u001b[38;5;241;43m=\u001b[39;49m\u001b[43maxis\u001b[49m\u001b[43m,\u001b[49m\n\u001b[0;32m   5584\u001b[0m \u001b[43m        \u001b[49m\u001b[43mindex\u001b[49m\u001b[38;5;241;43m=\u001b[39;49m\u001b[43mindex\u001b[49m\u001b[43m,\u001b[49m\n\u001b[0;32m   5585\u001b[0m \u001b[43m        \u001b[49m\u001b[43mcolumns\u001b[49m\u001b[38;5;241;43m=\u001b[39;49m\u001b[43mcolumns\u001b[49m\u001b[43m,\u001b[49m\n\u001b[0;32m   5586\u001b[0m \u001b[43m        \u001b[49m\u001b[43mlevel\u001b[49m\u001b[38;5;241;43m=\u001b[39;49m\u001b[43mlevel\u001b[49m\u001b[43m,\u001b[49m\n\u001b[0;32m   5587\u001b[0m \u001b[43m        \u001b[49m\u001b[43minplace\u001b[49m\u001b[38;5;241;43m=\u001b[39;49m\u001b[43minplace\u001b[49m\u001b[43m,\u001b[49m\n\u001b[0;32m   5588\u001b[0m \u001b[43m        \u001b[49m\u001b[43merrors\u001b[49m\u001b[38;5;241;43m=\u001b[39;49m\u001b[43merrors\u001b[49m\u001b[43m,\u001b[49m\n\u001b[0;32m   5589\u001b[0m \u001b[43m    \u001b[49m\u001b[43m)\u001b[49m\n",
      "File \u001b[1;32mc:\\Users\\hie\\AppData\\Local\\anaconda3\\envs\\pypsa-earth\\lib\\site-packages\\pandas\\core\\generic.py:4788\u001b[0m, in \u001b[0;36mNDFrame.drop\u001b[1;34m(self, labels, axis, index, columns, level, inplace, errors)\u001b[0m\n\u001b[0;32m   4786\u001b[0m \u001b[38;5;28;01mfor\u001b[39;00m axis, labels \u001b[38;5;129;01min\u001b[39;00m axes\u001b[38;5;241m.\u001b[39mitems():\n\u001b[0;32m   4787\u001b[0m     \u001b[38;5;28;01mif\u001b[39;00m labels \u001b[38;5;129;01mis\u001b[39;00m \u001b[38;5;129;01mnot\u001b[39;00m \u001b[38;5;28;01mNone\u001b[39;00m:\n\u001b[1;32m-> 4788\u001b[0m         obj \u001b[38;5;241m=\u001b[39m \u001b[43mobj\u001b[49m\u001b[38;5;241;43m.\u001b[39;49m\u001b[43m_drop_axis\u001b[49m\u001b[43m(\u001b[49m\u001b[43mlabels\u001b[49m\u001b[43m,\u001b[49m\u001b[43m \u001b[49m\u001b[43maxis\u001b[49m\u001b[43m,\u001b[49m\u001b[43m \u001b[49m\u001b[43mlevel\u001b[49m\u001b[38;5;241;43m=\u001b[39;49m\u001b[43mlevel\u001b[49m\u001b[43m,\u001b[49m\u001b[43m \u001b[49m\u001b[43merrors\u001b[49m\u001b[38;5;241;43m=\u001b[39;49m\u001b[43merrors\u001b[49m\u001b[43m)\u001b[49m\n\u001b[0;32m   4790\u001b[0m \u001b[38;5;28;01mif\u001b[39;00m inplace:\n\u001b[0;32m   4791\u001b[0m     \u001b[38;5;28mself\u001b[39m\u001b[38;5;241m.\u001b[39m_update_inplace(obj)\n",
      "File \u001b[1;32mc:\\Users\\hie\\AppData\\Local\\anaconda3\\envs\\pypsa-earth\\lib\\site-packages\\pandas\\core\\generic.py:4828\u001b[0m, in \u001b[0;36mNDFrame._drop_axis\u001b[1;34m(self, labels, axis, level, errors, only_slice)\u001b[0m\n\u001b[0;32m   4826\u001b[0m     \u001b[38;5;28;01mif\u001b[39;00m \u001b[38;5;129;01mnot\u001b[39;00m \u001b[38;5;28misinstance\u001b[39m(axis, MultiIndex):\n\u001b[0;32m   4827\u001b[0m         \u001b[38;5;28;01mraise\u001b[39;00m \u001b[38;5;167;01mAssertionError\u001b[39;00m(\u001b[38;5;124m\"\u001b[39m\u001b[38;5;124maxis must be a MultiIndex\u001b[39m\u001b[38;5;124m\"\u001b[39m)\n\u001b[1;32m-> 4828\u001b[0m     new_axis \u001b[38;5;241m=\u001b[39m \u001b[43maxis\u001b[49m\u001b[38;5;241;43m.\u001b[39;49m\u001b[43mdrop\u001b[49m\u001b[43m(\u001b[49m\u001b[43mlabels\u001b[49m\u001b[43m,\u001b[49m\u001b[43m \u001b[49m\u001b[43mlevel\u001b[49m\u001b[38;5;241;43m=\u001b[39;49m\u001b[43mlevel\u001b[49m\u001b[43m,\u001b[49m\u001b[43m \u001b[49m\u001b[43merrors\u001b[49m\u001b[38;5;241;43m=\u001b[39;49m\u001b[43merrors\u001b[49m\u001b[43m)\u001b[49m\n\u001b[0;32m   4829\u001b[0m \u001b[38;5;28;01melse\u001b[39;00m:\n\u001b[0;32m   4830\u001b[0m     new_axis \u001b[38;5;241m=\u001b[39m axis\u001b[38;5;241m.\u001b[39mdrop(labels, errors\u001b[38;5;241m=\u001b[39merrors)\n",
      "File \u001b[1;32mc:\\Users\\hie\\AppData\\Local\\anaconda3\\envs\\pypsa-earth\\lib\\site-packages\\pandas\\core\\indexes\\multi.py:2408\u001b[0m, in \u001b[0;36mMultiIndex.drop\u001b[1;34m(self, codes, level, errors)\u001b[0m\n\u001b[0;32m   2361\u001b[0m \u001b[38;5;250m\u001b[39m\u001b[38;5;124;03m\"\"\"\u001b[39;00m\n\u001b[0;32m   2362\u001b[0m \u001b[38;5;124;03mMake a new :class:`pandas.MultiIndex` with the passed list of codes deleted.\u001b[39;00m\n\u001b[0;32m   2363\u001b[0m \n\u001b[1;32m   (...)\u001b[0m\n\u001b[0;32m   2405\u001b[0m \u001b[38;5;124;03m           names=['number', 'color'])\u001b[39;00m\n\u001b[0;32m   2406\u001b[0m \u001b[38;5;124;03m\"\"\"\u001b[39;00m\n\u001b[0;32m   2407\u001b[0m \u001b[38;5;28;01mif\u001b[39;00m level \u001b[38;5;129;01mis\u001b[39;00m \u001b[38;5;129;01mnot\u001b[39;00m \u001b[38;5;28;01mNone\u001b[39;00m:\n\u001b[1;32m-> 2408\u001b[0m     \u001b[38;5;28;01mreturn\u001b[39;00m \u001b[38;5;28;43mself\u001b[39;49m\u001b[38;5;241;43m.\u001b[39;49m\u001b[43m_drop_from_level\u001b[49m\u001b[43m(\u001b[49m\u001b[43mcodes\u001b[49m\u001b[43m,\u001b[49m\u001b[43m \u001b[49m\u001b[43mlevel\u001b[49m\u001b[43m,\u001b[49m\u001b[43m \u001b[49m\u001b[43merrors\u001b[49m\u001b[43m)\u001b[49m\n\u001b[0;32m   2410\u001b[0m \u001b[38;5;28;01mif\u001b[39;00m \u001b[38;5;129;01mnot\u001b[39;00m \u001b[38;5;28misinstance\u001b[39m(codes, (np\u001b[38;5;241m.\u001b[39mndarray, Index)):\n\u001b[0;32m   2411\u001b[0m     \u001b[38;5;28;01mtry\u001b[39;00m:\n",
      "File \u001b[1;32mc:\\Users\\hie\\AppData\\Local\\anaconda3\\envs\\pypsa-earth\\lib\\site-packages\\pandas\\core\\indexes\\multi.py:2462\u001b[0m, in \u001b[0;36mMultiIndex._drop_from_level\u001b[1;34m(self, codes, level, errors)\u001b[0m\n\u001b[0;32m   2460\u001b[0m not_found \u001b[38;5;241m=\u001b[39m codes[values \u001b[38;5;241m==\u001b[39m \u001b[38;5;241m-\u001b[39m\u001b[38;5;241m2\u001b[39m]\n\u001b[0;32m   2461\u001b[0m \u001b[38;5;28;01mif\u001b[39;00m \u001b[38;5;28mlen\u001b[39m(not_found) \u001b[38;5;241m!=\u001b[39m \u001b[38;5;241m0\u001b[39m \u001b[38;5;129;01mand\u001b[39;00m errors \u001b[38;5;241m!=\u001b[39m \u001b[38;5;124m\"\u001b[39m\u001b[38;5;124mignore\u001b[39m\u001b[38;5;124m\"\u001b[39m:\n\u001b[1;32m-> 2462\u001b[0m     \u001b[38;5;28;01mraise\u001b[39;00m \u001b[38;5;167;01mKeyError\u001b[39;00m(\u001b[38;5;124mf\u001b[39m\u001b[38;5;124m\"\u001b[39m\u001b[38;5;124mlabels \u001b[39m\u001b[38;5;132;01m{\u001b[39;00mnot_found\u001b[38;5;132;01m}\u001b[39;00m\u001b[38;5;124m not found in level\u001b[39m\u001b[38;5;124m\"\u001b[39m)\n\u001b[0;32m   2463\u001b[0m mask \u001b[38;5;241m=\u001b[39m \u001b[38;5;241m~\u001b[39malgos\u001b[38;5;241m.\u001b[39misin(\u001b[38;5;28mself\u001b[39m\u001b[38;5;241m.\u001b[39mcodes[i], values)\n\u001b[0;32m   2465\u001b[0m \u001b[38;5;28;01mreturn\u001b[39;00m \u001b[38;5;28mself\u001b[39m[mask]\n",
      "\u001b[1;31mKeyError\u001b[0m: \"labels ['Link' 'Store'] not found in level\""
     ]
    }
   ],
   "source": [
    "#selecting generation capacities from statistics\n",
    "# Load and process generation capacities\n",
    "capacities = pd.DataFrame(n.statistics.optimal_capacity())\n",
    "capacities = capacities.drop(index=['Line', 'Load', 'Link', 'Store'], level=0)\n",
    "capacities = capacities.reset_index(level=0, drop=True)\n",
    "capacities.rename(columns={0: \"MW\"}, inplace=True)\n",
    "capacities.index.name = \"Technology\"\n",
    "capacities = capacities.drop(index=['load'])\n",
    "capacities['Percentage'] = capacities['MW'] / capacities['MW'].sum() * 100\n",
    "\n",
    "# Define colors for each technology\n",
    "H2_color = 'darkgoldenrod'\n",
    "battery_color = 'tan'\n",
    "demand_color = 'slategrey'\n",
    "aggregated_small_capacities = 'black'\n",
    "\n",
    "for i in range(len(capacities.index)):\n",
    "    tech = capacities.index[i]  # Access the index value, which is the technology name\n",
    "    if tech == \"Open-Cycle Gas\":\n",
    "        capacities.loc[tech, \"Color\"] = 'lightcoral'\n",
    "    elif tech == \"Combined-Cycle Gas\":\n",
    "        capacities.loc[tech, \"Color\"] = 'indianred'\n",
    "    elif tech == \"Solar\":\n",
    "        capacities.loc[tech, \"Color\"] = 'gold'\n",
    "    elif tech == \"Run of River\":\n",
    "        capacities.loc[tech, \"Color\"] = 'lightsteelblue'\n",
    "    elif tech == \"Onshore Wind\":\n",
    "        capacities.loc[tech, \"Color\"] = '#ff8200'\n",
    "    elif tech == \"Reservoir & Dam\":\n",
    "        capacities.loc[tech, \"Color\"] = 'steelblue'\n",
    "    elif tech == \"Oil\":\n",
    "        capacities.loc[tech, \"Color\"] = 'grey'\n",
    "    elif tech == \"Geothermal\":\n",
    "        capacities.loc[tech, \"Color\"] = 'purple'\n",
    "    elif tech == \"Biomass\":\n",
    "        capacities.loc[tech, \"Color\"] = '#73A917'\n",
    "\n",
    "# Handle small capacities\n",
    "small_capacities = capacities[capacities['Percentage'] < 2]\n",
    "capacities.loc['Others'] = [small_capacities['MW'].sum(), small_capacities['Percentage'].sum(), aggregated_small_capacities]\n",
    "capacities = capacities.drop(index=small_capacities.index)\n",
    "capacities = capacities.sort_index()\n",
    "\n",
    "# Plot installed capacities\n",
    "plt.figure(figsize=(5, 5))\n",
    "plt.pie(\n",
    "    capacities['MW'], \n",
    "    labels=capacities.index, \n",
    "    colors=capacities['Color'], \n",
    "    autopct='%1.1f%%', \n",
    "    startangle=100, \n",
    "    pctdistance=0.85, \n",
    "    wedgeprops={'width': 0.4}\n",
    ")\n",
    "plt.axis('equal')  # Equal aspect ratio ensures that pie is drawn as a circle.\n",
    "\n",
    "# Calculate total installed capacities\n",
    "total_capacity = capacities['MW'].sum()\n",
    "\n",
    "# Add the total energy annotation at the center of the pie chart\n",
    "plt.text(0, 0, f'Total installed capacity: \\n {int(total_capacity)} MW', fontsize=11, color='black', ha='center')\n",
    "plt.title('Installed Capacities by Technology')\n",
    "plt.show()"
   ]
  }
 ],
 "metadata": {
  "kernelspec": {
   "display_name": "pypsa-earth",
   "language": "python",
   "name": "python3"
  },
  "language_info": {
   "codemirror_mode": {
    "name": "ipython",
    "version": 3
   },
   "file_extension": ".py",
   "mimetype": "text/x-python",
   "name": "python",
   "nbconvert_exporter": "python",
   "pygments_lexer": "ipython3",
   "version": "3.10.16"
  }
 },
 "nbformat": 4,
 "nbformat_minor": 2
}
