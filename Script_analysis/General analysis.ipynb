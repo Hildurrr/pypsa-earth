{
 "cells": [
  {
   "cell_type": "markdown",
   "metadata": {},
   "source": [
    "Analysis code from PyPSA-BO\n",
    "\n",
    "https://github.com/CIE-UMSS/PyPSA-BO/blob/main/Results_analysis/EnergyScope-PyPSA/general_analysis.ipynb"
   ]
  },
  {
   "cell_type": "code",
   "execution_count": 1,
   "metadata": {},
   "outputs": [
    {
     "name": "stderr",
     "output_type": "stream",
     "text": [
      "INFO:pypsa.io:Imported network base.nc has buses, lines, transformers\n",
      "INFO:pypsa.io:Imported network elec.nc has buses, carriers, generators, lines, loads, storage_units, transformers\n",
      "INFO:pypsa.io:Imported network elec_s.nc has buses, carriers, generators, lines, loads, storage_units\n",
      "INFO:pypsa.io:Imported network elec_s_all.nc has buses, carriers, generators, lines, loads, storage_units\n",
      "INFO:pypsa.io:Imported network elec_s_all_ec_lcopt_1h.nc has buses, carriers, generators, lines, loads, storage_units\n"
     ]
    }
   ],
   "source": [
    "#Libraries import for running the code\n",
    "\n",
    "import logging\n",
    "import os\n",
    "\n",
    "import pypsa\n",
    "import yaml\n",
    "import pandas as pd\n",
    "import geopandas as gpd\n",
    "#import geoviews as gv\n",
    "#import hvplot.pandas \n",
    "import numpy as np\n",
    "import scipy as sp\n",
    "import networkx as nx\n",
    "\n",
    "# plotting stuff\n",
    "import matplotlib.pyplot as plt\n",
    "import cartopy\n",
    "\n",
    "# data exploration\n",
    "import xarray as xr\n",
    "\n",
    "plt.style.use(\"bmh\")\n",
    "import seaborn as sns  ###\n",
    "import cartopy.crs as ccrs\n",
    "\n",
    "sns.set(style=\"darkgrid\")\n",
    "\n",
    "from scipy.sparse import csgraph\n",
    "from itertools import product\n",
    "\n",
    "from shapely.geometry import Point, LineString\n",
    "import shapely, shapely.prepared, shapely.wkt\n",
    "\n",
    "logger = logging.getLogger(__name__)\n",
    "\n",
    "pd.set_option(\"display.max_columns\", None)\n",
    "pd.set_option(\"display.max_colwidth\", 70)\n",
    "\n",
    "\n",
    "\n",
    "max_node_size = 1.0  # maximum size of a node for plotting purposes [used in plots]\n",
    "\n",
    "# utility function for nice plotting\n",
    "\n",
    "def normalize_node_size(values, max_node_size=max_node_size):\n",
    "    return values / values.max() * max_node_size\n",
    "\n",
    "#Load different networks\n",
    "\n",
    "base_network= \"C:/Users/hie/pe_tan/pypsa-earth/networks/2040_base/base.nc\"\n",
    "n_base= pypsa.Network(base_network) #network with all components available in the data sources \n",
    "\n",
    "added_network = \"C:/Users/hie/pe_tan/pypsa-earth/networks/2040_base/elec.nc\"\n",
    "n_add = pypsa.Network(added_network) #output from add_electricity. network with electrical parameters added to components in data sources \n",
    "\n",
    "simplified_network = \"C:/Users/hie/pe_tan/pypsa-earth/networks/2040_base/elec_s.nc\"\n",
    "n_simple = pypsa.Network(simplified_network) #output simplyfy_network with components simplified and spatial parameters (onshore and offshore regions) added  \n",
    "\n",
    "clustered_network = 'C:/Users/hie/pe_tan/pypsa-earth/networks/2040_base/elec_s_all.nc'\n",
    "n_cluster = pypsa.Network(clustered_network) #output clustering-network simplified based on number of clusters give\n",
    "\n",
    "solved_network = r'C:\\Users\\hie\\pe_tan\\pypsa-earth\\results\\2040_base\\networks\\elec_s_all_ec_lcopt_1h.nc'\n",
    "n_solve = pypsa.Network(solved_network) #optimized network\n",
    "\n",
    "n = n_solve"
   ]
  },
  {
   "cell_type": "code",
   "execution_count": 2,
   "metadata": {},
   "outputs": [
    {
     "name": "stdout",
     "output_type": "stream",
     "text": [
      "System cost: 185041.00 Million EUR/Year\n"
     ]
    }
   ],
   "source": [
    "# System cost in Million EUR/Year\n",
    "\n",
    "system_cost_million_eur = n.objective / 1e6  # Convert to million EUR/year\n",
    "\n",
    "# Print the result\n",
    "print(f\"System cost: {system_cost_million_eur:.2f} Million EUR/Year\")"
   ]
  },
  {
   "cell_type": "code",
   "execution_count": 3,
   "metadata": {},
   "outputs": [
    {
     "data": {
      "text/plain": [
       "385359.6767738733"
      ]
     },
     "execution_count": 3,
     "metadata": {},
     "output_type": "execute_result"
    }
   ],
   "source": [
    "#check lines\n",
    "\n",
    "n_solve.lines.capital_cost.sum()\n"
   ]
  },
  {
   "cell_type": "code",
   "execution_count": 4,
   "metadata": {},
   "outputs": [
    {
     "data": {
      "text/plain": [
       "480816.53976495634"
      ]
     },
     "execution_count": 4,
     "metadata": {},
     "output_type": "execute_result"
    }
   ],
   "source": [
    "n_add.lines.capital_cost.sum()"
   ]
  },
  {
   "cell_type": "code",
   "execution_count": 5,
   "metadata": {},
   "outputs": [
    {
     "name": "stdout",
     "output_type": "stream",
     "text": [
      "Capital cost for line expansion: -0.09545686299108307 Million Eur\n"
     ]
    }
   ],
   "source": [
    "line_expansion_cost = n.lines.capital_cost.sum()-n_simple.lines.capital_cost.sum() # difference between the two networks (Eur/MW)\n",
    "print(\"Capital cost for line expansion: \" + str(line_expansion_cost/1000000) + \" Million Eur\")"
   ]
  },
  {
   "cell_type": "code",
   "execution_count": 6,
   "metadata": {},
   "outputs": [
    {
     "data": {
      "text/plain": [
       "carrier\n",
       "CCGT          1.192700e+03\n",
       "OCGT          1.850000e+02\n",
       "biomass       1.050000e+01\n",
       "coal          6.000000e+02\n",
       "geothermal    1.350000e+02\n",
       "load          6.700000e+07\n",
       "offwind-ac    0.000000e+00\n",
       "offwind-dc    0.000000e+00\n",
       "oil           8.880000e+01\n",
       "onwind        9.110989e-01\n",
       "ror           6.017862e+02\n",
       "solar         1.447202e+01\n",
       "Name: p_nom, dtype: float64"
      ]
     },
     "execution_count": 6,
     "metadata": {},
     "output_type": "execute_result"
    }
   ],
   "source": [
    "gen_cap = n.generators.groupby([\"carrier\"]).sum()\n",
    "gen_cap.p_nom\n"
   ]
  },
  {
   "cell_type": "code",
   "execution_count": 7,
   "metadata": {},
   "outputs": [
    {
     "data": {
      "text/plain": [
       "carrier\n",
       "CCGT          1.348666e+03\n",
       "OCGT          1.850009e+02\n",
       "biomass       1.050003e+01\n",
       "coal          6.000000e+02\n",
       "geothermal    8.699071e+03\n",
       "load          6.700000e+07\n",
       "offwind-ac    7.522582e-03\n",
       "offwind-dc    3.949639e-03\n",
       "oil           8.880310e+01\n",
       "onwind        1.124903e+05\n",
       "ror           6.017862e+02\n",
       "solar         5.232733e+04\n",
       "Name: p_nom_opt, dtype: float64"
      ]
     },
     "execution_count": 7,
     "metadata": {},
     "output_type": "execute_result"
    }
   ],
   "source": [
    "#optimized\n",
    "\n",
    "gen_cap.p_nom_opt"
   ]
  },
  {
   "cell_type": "code",
   "execution_count": 8,
   "metadata": {},
   "outputs": [
    {
     "data": {
      "text/plain": [
       "carrier\n",
       "hydro    4340.625972\n",
       "Name: p_nom_opt, dtype: float64"
      ]
     },
     "execution_count": 8,
     "metadata": {},
     "output_type": "execute_result"
    }
   ],
   "source": [
    "stores_cap = n.storage_units.groupby([\"carrier\"]).sum()\n",
    "stores_cap.p_nom_opt"
   ]
  },
  {
   "cell_type": "code",
   "execution_count": 9,
   "metadata": {},
   "outputs": [
    {
     "data": {
      "text/plain": [
       "carrier\n",
       "CCGT             155.965724\n",
       "OCGT               0.000870\n",
       "biomass            0.000030\n",
       "coal               0.000003\n",
       "geothermal      8564.070791\n",
       "load               0.000000\n",
       "offwind-ac         0.007523\n",
       "offwind-dc         0.003950\n",
       "oil                0.003097\n",
       "onwind        112489.413803\n",
       "ror                0.000000\n",
       "solar          52312.859313\n",
       "dtype: float64"
      ]
     },
     "execution_count": 9,
     "metadata": {},
     "output_type": "execute_result"
    }
   ],
   "source": [
    "#installed capacity expansion\n",
    "generation_expansion = gen_cap['p_nom_opt'] - gen_cap['p_nom']\n",
    "generation_expansion"
   ]
  },
  {
   "cell_type": "code",
   "execution_count": 10,
   "metadata": {},
   "outputs": [
    {
     "data": {
      "text/plain": [
       "173522.3251045392"
      ]
     },
     "execution_count": 10,
     "metadata": {},
     "output_type": "execute_result"
    }
   ],
   "source": [
    "generation_expansion.sum()"
   ]
  },
  {
   "cell_type": "markdown",
   "metadata": {},
   "source": [
    "Transmission expansion"
   ]
  },
  {
   "cell_type": "code",
   "execution_count": 11,
   "metadata": {},
   "outputs": [
    {
     "name": "stderr",
     "output_type": "stream",
     "text": [
      "INFO:pypsa.io:Imported network base.nc has buses, lines, transformers\n"
     ]
    },
    {
     "data": {
      "text/plain": [
       "458.9607745961448"
      ]
     },
     "execution_count": 11,
     "metadata": {},
     "output_type": "execute_result"
    }
   ],
   "source": [
    "\n",
    "n_line = pypsa.Network(base_network)\n",
    "check_lines = n_line.lines\n",
    "check_lines.s_nom.mean()"
   ]
  },
  {
   "cell_type": "code",
   "execution_count": 12,
   "metadata": {},
   "outputs": [
    {
     "data": {
      "text/plain": [
       "458.9607745961448"
      ]
     },
     "execution_count": 12,
     "metadata": {},
     "output_type": "execute_result"
    }
   ],
   "source": [
    "lines=n.lines\n",
    "n.lines.s_nom.mean()"
   ]
  },
  {
   "cell_type": "code",
   "execution_count": 13,
   "metadata": {},
   "outputs": [
    {
     "data": {
      "text/plain": [
       "Line\n",
       "0     3.604625e+01\n",
       "1     2.902719e+02\n",
       "2     2.018119e+01\n",
       "3     7.541736e+03\n",
       "4     3.822838e+02\n",
       "          ...     \n",
       "66    6.230820e+02\n",
       "67   -1.081389e-09\n",
       "68    1.951949e-05\n",
       "69    4.158940e+02\n",
       "70    6.230820e+02\n",
       "Length: 71, dtype: float64"
      ]
     },
     "execution_count": 13,
     "metadata": {},
     "output_type": "execute_result"
    }
   ],
   "source": [
    "#transmission capacity expansion\n",
    "transmission_expansion = lines['s_nom_opt'] - lines['s_nom']\n",
    "transmission_expansion"
   ]
  },
  {
   "cell_type": "code",
   "execution_count": 14,
   "metadata": {},
   "outputs": [
    {
     "name": "stdout",
     "output_type": "stream",
     "text": [
      "Total expansion of the system: 62180.53335254925\n"
     ]
    }
   ],
   "source": [
    "real_expansion = 0\n",
    "for i in range(len(transmission_expansion)):  # Iterate over the indices of the Series\n",
    "    if transmission_expansion.iloc[i] > 0:  # Check if the expansion value is greater than 0\n",
    "        real_expansion += transmission_expansion.iloc[i]  # Add the expansion value to real_expansion\n",
    "\n",
    "print(\"Total expansion of the system:\", real_expansion)"
   ]
  },
  {
   "cell_type": "code",
   "execution_count": 15,
   "metadata": {},
   "outputs": [
    {
     "data": {
      "text/plain": [
       "7541.735921774908"
      ]
     },
     "execution_count": 15,
     "metadata": {},
     "output_type": "execute_result"
    }
   ],
   "source": [
    "max_line_expansion = transmission_expansion.max()\n",
    "max_line_expansion"
   ]
  },
  {
   "cell_type": "code",
   "execution_count": 16,
   "metadata": {},
   "outputs": [
    {
     "name": "stderr",
     "output_type": "stream",
     "text": [
      "c:\\Users\\hie\\AppData\\Local\\anaconda3\\envs\\pypsa-earth\\lib\\site-packages\\cartopy\\mpl\\feature_artist.py:144: UserWarning:\n",
      "\n",
      "facecolor will have no effect as it has been defined as \"never\".\n",
      "\n",
      "c:\\Users\\hie\\AppData\\Local\\anaconda3\\envs\\pypsa-earth\\lib\\site-packages\\cartopy\\mpl\\feature_artist.py:144: UserWarning:\n",
      "\n",
      "facecolor will have no effect as it has been defined as \"never\".\n",
      "\n",
      "C:\\Users\\hie\\AppData\\Local\\Temp\\ipykernel_30004\\2452526199.py:165: UserWarning:\n",
      "\n",
      "This pattern is interpreted as a regular expression, and has match groups. To actually get the groups, use str.extract.\n",
      "\n"
     ]
    },
    {
     "data": {
      "image/png": "[encoded data removed]",
      "text/plain": [
       "<Figure size 1000x1000 with 1 Axes>"
      ]
     },
     "metadata": {},
     "output_type": "display_data"
    }
   ],
   "source": [
    "import cartopy.crs as ccrs\n",
    "from matplotlib.patches import Circle, Ellipse\n",
    "from matplotlib.legend_handler import HandlerPatch\n",
    "\n",
    "\n",
    "def make_handler_map_to_scale_circles_as_in(ax, dont_resize_actively=False):\n",
    "    fig = ax.get_figure()\n",
    "\n",
    "    def axes2pt():\n",
    "        return np.diff(ax.transData.transform([(0, 0), (1, 1)]), axis=0)[0] * (\n",
    "            300.0 / fig.dpi\n",
    "        )\n",
    "\n",
    "    ellipses = []\n",
    "    if not dont_resize_actively:\n",
    "\n",
    "        def update_width_height(event):\n",
    "            dist = axes2pt()\n",
    "            for e, radius in ellipses:\n",
    "                e.width, e.height = 2.0 * radius * dist\n",
    "\n",
    "        fig.canvas.mpl_connect(\"resize_event\", update_width_height)\n",
    "        ax.callbacks.connect(\"xlim_changed\", update_width_height)\n",
    "        ax.callbacks.connect(\"ylim_changed\", update_width_height)\n",
    "\n",
    "    def legend_circle_handler(\n",
    "        legend, orig_handle, xdescent, ydescent, width, height, fontsize\n",
    "    ):\n",
    "        w, h = 2.0 * orig_handle.get_radius() * axes2pt()\n",
    "        e = Ellipse(\n",
    "            xy=(0.5 * width - 0.5 * xdescent, 0.5 * height - 0.5 * ydescent),\n",
    "            width=w,\n",
    "            height=w,\n",
    "        )\n",
    "        ellipses.append((e, orig_handle.get_radius()))\n",
    "        return e\n",
    "\n",
    "    return {Circle: HandlerPatch(patch_func=legend_circle_handler)}\n",
    "\n",
    "\n",
    "def make_legend_circles_for(sizes, scale=1.0, **kw):\n",
    "    return [Circle((0, 0), radius=(s / scale) ** 0.5, **kw) for s in sizes]\n",
    "\n",
    "\n",
    "def add_legend(ax, bus_factor, branch_factor):\n",
    "\n",
    "    handles = []\n",
    "    labels = []\n",
    "    for s in (0.5, 1.0, 1.5):\n",
    "        handles.append(\n",
    "            plt.Line2D([0], [0], color=\"rosybrown\", linewidth=s * 1e3 / branch_factor)\n",
    "        )\n",
    "        labels.append(f\"{s} GW\")\n",
    "    l1 = ax.legend(\n",
    "        handles,\n",
    "        labels,\n",
    "        loc=\"upper left\",\n",
    "        bbox_to_anchor=(0, 0),\n",
    "        frameon=False,\n",
    "        labelspacing=1.2,\n",
    "        handletextpad=1.5,\n",
    "        title=\"HVAC Line Capacity\",\n",
    "        title_fontsize=13,\n",
    "        fontsize=11,\n",
    "    )\n",
    "    ax.add_artist(l1)\n",
    "\n",
    "    handles = []\n",
    "    labels = []\n",
    "    if \"Load\" in n.carriers.index:\n",
    "        n.carriers = n.carriers.drop(\"Load\")\n",
    "\n",
    "    # Filter n.carriers to only exclude \"H2\" and \"batteries\"\n",
    "    filtered_carriers = n.carriers.loc[~n.carriers.index.isin(['H2', 'battery'])]\n",
    "\n",
    "    # Iterate over the filtered carriers\n",
    "    for name, carrier in filtered_carriers.iterrows():\n",
    "        handles.append(\n",
    "            plt.Line2D(\n",
    "                [0], [0], color=carrier.color, marker=\"o\", markersize=8, linewidth=0\n",
    "            )\n",
    "        )\n",
    "\n",
    "        labels.append(carrier.nice_name)\n",
    "    l3 = ax.legend(\n",
    "        handles,\n",
    "        labels,\n",
    "        loc=\"upper center\",\n",
    "        bbox_to_anchor=(0.53, -0.0),  # bbox_to_anchor=(0.72, -0.05),\n",
    "        handletextpad=0.0,\n",
    "        columnspacing=0.3,\n",
    "        ncol=2,\n",
    "        title=\"Technology\",\n",
    "        title_fontsize=13,\n",
    "        fontsize=11,\n",
    "        frameon=False,\n",
    "    )\n",
    "    ax.add_artist(l3)\n",
    "\n",
    "    circles = [10, 20]\n",
    "    handles = make_legend_circles_for(circles, scale=bus_factor, facecolor=\"lightgray\")\n",
    "    labels = [f\"{float(s/1e1)} GW\" for s in circles]\n",
    "    l4 = ax.legend(\n",
    "        handles,\n",
    "        labels,\n",
    "        loc=\"upper left\",\n",
    "        bbox_to_anchor=(0.82, 0.0),\n",
    "        frameon=False,\n",
    "        labelspacing=3.2,\n",
    "        title=\"Generation\",\n",
    "        title_fontsize=13,\n",
    "        fontsize=11,\n",
    "        handler_map=make_handler_map_to_scale_circles_as_in(ax, True),\n",
    "    )\n",
    "    ax.add_artist(l4)\n",
    "\n",
    "\n",
    "def plot_network(n, fn=None):\n",
    "\n",
    "    bus_factor = 6.0e3\n",
    "    branch_factor = 7.5e1\n",
    "\n",
    "    fields = [\"bus\", \"carrier\", \"p_nom\",\"p_nom_opt\"]\n",
    "        \n",
    "    pie_components = pd.concat(\n",
    "        [\n",
    "            n.generators.loc[n.generators.carrier != \"load\", fields],\n",
    "            n.storage_units[fields],\n",
    "        ]\n",
    "    )\n",
    "    bus_sizes = pie_components.groupby([\"bus\", \"carrier\"]).p_nom_opt.sum() / bus_factor\n",
    "\n",
    "    def clip(df, thres=100):\n",
    "        return df.where(df > thres, other=0.0)\n",
    "\n",
    "    line_widths = clip(n.lines.s_nom_opt - n.lines.s_nom) / branch_factor\n",
    "    link_widths = clip(n.links.p_nom_opt - n.links.p_nom) / branch_factor\n",
    "    line_widths_opt = n.lines.s_nom_opt / branch_factor\n",
    "\n",
    "    fig, ax = plt.subplots(\n",
    "        figsize=(10, 10), subplot_kw={\"projection\": ccrs.PlateCarree()}\n",
    "    )\n",
    "\n",
    "    n.plot(\n",
    "        ax=ax,\n",
    "        bus_sizes=bus_sizes,\n",
    "        color_geomap=True,\n",
    "        bus_alpha=0.7,\n",
    "        line_widths=line_widths_opt,\n",
    "        line_colors=\"#dddddd\",\n",
    "    )\n",
    "\n",
    "    n.plot(\n",
    "        ax=ax,\n",
    "        geomap=True,\n",
    "        bus_sizes=0,\n",
    "        line_widths=line_widths,\n",
    "        link_widths=link_widths,\n",
    "    )\n",
    "\n",
    "\n",
    "    # Convert \"Bus\" index column to string type\n",
    "    filtered_buses = n.buses\n",
    "    filtered_buses.index = filtered_buses.index.astype(str)\n",
    "    filtered_buses = n.buses[~n.buses.index.str.contains(r\"(H2|battery)$\")]\n",
    "    \n",
    "\n",
    "\n",
    "\n",
    "    add_legend(ax, bus_factor, branch_factor)\n",
    "\n",
    "    \n",
    "\n",
    "\n",
    "    if fn is not None:\n",
    "        plt.savefig(fn, bbox_inches=\"tight\")\n",
    "\n",
    "\n",
    "plot_network(n)"
   ]
  },
  {
   "cell_type": "code",
   "execution_count": 17,
   "metadata": {},
   "outputs": [
    {
     "data": {
      "application/vnd.microsoft.datawrangler.viewer.v0+json": {
       "columns": [
        {
         "name": "(None, None)",
         "rawType": "object",
         "type": "unknown"
        },
        {
         "name": "Optimal Capacity",
         "rawType": "float64",
         "type": "float"
        },
        {
         "name": "Installed Capacity",
         "rawType": "float64",
         "type": "float"
        },
        {
         "name": "Supply",
         "rawType": "float64",
         "type": "float"
        },
        {
         "name": "Withdrawal",
         "rawType": "float64",
         "type": "float"
        },
        {
         "name": "Dispatch",
         "rawType": "float64",
         "type": "float"
        },
        {
         "name": "Transmission",
         "rawType": "float64",
         "type": "float"
        },
        {
         "name": "Capacity Factor",
         "rawType": "float64",
         "type": "float"
        },
        {
         "name": "Curtailment",
         "rawType": "float64",
         "type": "float"
        },
        {
         "name": "Capital Expenditure",
         "rawType": "float64",
         "type": "float"
        },
        {
         "name": "Operational Expenditure",
         "rawType": "float64",
         "type": "float"
        },
        {
         "name": "Revenue",
         "rawType": "float64",
         "type": "float"
        },
        {
         "name": "Market Value",
         "rawType": "float64",
         "type": "float"
        }
       ],
       "conversionMethod": "pd.DataFrame",
       "ref": "f2663aad-618d-4a8c-a877-7521f26ebd52",
       "rows": [
        [
         "('Generator', 'Biomass')",
         "10.500030478871949",
         "10.5",
         "9504.178102137352",
         "0.0",
         "9504.178102137352",
         "0.0",
         "0.10332844655324212",
         "0.0",
         "3714841.701152254",
         "150528.36898461208",
         "551774.0955294786",
         "58.055950719756886"
        ],
        [
         "('Generator', 'Coal')",
         "600.0000029438298",
         "600.0",
         "3.27373795810717",
         "0.0",
         "3.27373795810717",
         "0.0",
         "6.228572949096188e-07",
         "0.0",
         "264899563.9071388",
         "105.49363863227728",
         "5.686874913713088",
         "1.7371197653831651"
        ],
        [
         "('Generator', 'Combined-Cycle Gas')",
         "1348.6657237245602",
         "1192.7",
         "2100423.1360273845",
         "0.0",
         "2100423.1360273845",
         "0.0",
         "0.17778633087416024",
         "0.0",
         "170177130.51383972",
         "98325718.11018008",
         "158927120.13662606",
         "75.664335157349"
        ],
        [
         "('Generator', 'Geothermal')",
         "8699.070791363503",
         "135.0",
         "64246244.33617201",
         "0.0",
         "64246244.33617201",
         "0.0",
         "0.8430838572297346",
         "0.0",
         "0.0",
         "586348.789318048",
         "586327.2599596184",
         "0.009126249573307795"
        ],
        [
         "('Generator', 'Offshore Wind (AC)')",
         "0.007522582257712613",
         "0.0",
         "7.336417781427861",
         "0.0",
         "7.336417781427861",
         "0.0",
         "0.11133020359592641",
         "5.119258169953588",
         "1977.0947000254341",
         "0.18424602324806832",
         "228.78166378228298",
         "31.184383250561833"
        ],
        [
         "('Generator', 'Offshore Wind (DC)')",
         "0.003949639401937435",
         "0.0",
         "6.085297032191448",
         "0.0",
         "6.085297032191448",
         "0.0",
         "0.17588152747311558",
         "3.693825206968885",
         "1270.3549030217512",
         "0.15401474516422703",
         "202.92254917274101",
         "33.346367169798484"
        ],
        [
         "('Generator', 'Oil')",
         "88.80309721869972",
         "88.8",
         "1426.2042126451554",
         "0.0",
         "1426.2042126451554",
         "0.0",
         "0.001833367361869044",
         "0.0",
         "4344927.415789603",
         "224674.7799444133",
         "796538.8819272374",
         "558.5026848644011"
        ],
        [
         "('Generator', 'Onshore Wind')",
         "112490.32490199625",
         "0.9110988651167364",
         "3382542.036237902",
         "0.0",
         "3382542.036237902",
         "0.0",
         "0.003432605746138651",
         "43571012.86359514",
         "14576557198.59312",
         "82828.56804036428",
         "24006189810.581272",
         "7097.0854326118615"
        ],
        [
         "('Generator', 'Open-Cycle Gas')",
         "185.00087025077255",
         "185.0",
         "934.7719405152944",
         "0.0",
         "934.7719405152944",
         "0.0",
         "0.0005768033711676781",
         "0.0",
         "10903448.640500143",
         "60474.747326826444",
         "60375.01536704588",
         "64.58796284980914"
        ],
        [
         "('Generator', 'Run of River')",
         "601.78624204",
         "601.78624204",
         "136007.92013357914",
         "0.0",
         "136007.92013357914",
         "0.0",
         "0.02579988905604949",
         "93713.5740416214",
         "246512017.2716647",
         "1344.556759103257",
         "1223942913.1524527",
         "8999.056172246192"
        ],
        [
         "('Generator', 'Solar')",
         "52327.33132855525",
         "14.472015349088327",
         "6420358.100131222",
         "0.0",
         "6420358.100131222",
         "0.0",
         "0.01400640110494655",
         "67167083.45681405",
         "2526850426.2787943",
         "128393.33102396828",
         "2526465688.3273683",
         "393.5085315997766"
        ],
        [
         "('Generator', 'load')",
         "67000000.0",
         "67000000.0",
         "1674279.2078210523",
         "0.0",
         "1674279.2078210523",
         "0.0",
         "0.0028526531858192807",
         "0.0",
         "0.0",
         "167444188728.68872",
         "167444185694.17584",
         "100009.71457567804"
        ],
        [
         "('Line', 'AC')",
         "94766.74834887446",
         "32586.214996326285",
         "403396505.4043404",
         "403396505.4043404",
         "0.0",
         "-84362335.84626459",
         "0.485928136043343",
         "0.0",
         "592836941.1804105",
         "0.0",
         "474568350.2105408",
         "1.176431485778139"
        ],
        [
         "('Load', '-')",
         "0.0",
         "0.0",
         "0.0",
         "78849999.999988",
         "-78849999.999988",
         "0.0",
         null,
         "0.0",
         "0.0",
         "0.0",
         "-205380566419.64618",
         null
        ],
        [
         "('StorageUnit', 'Reservoir & Dam')",
         "4340.625971594",
         "4340.625971594",
         "878263.4147565332",
         "0.0",
         "878263.4147565332",
         "0.0",
         "0.02309767792389443",
         "0.0",
         "0.0",
         "8459.266388540313",
         "9544291390.647913",
         "10867.230981372171"
        ]
       ],
       "shape": {
        "columns": 12,
        "rows": 15
       }
      },
      "text/html": [
       "<div>\n",
       "<style scoped>\n",
       "    .dataframe tbody tr th:only-of-type {\n",
       "        vertical-align: middle;\n",
       "    }\n",
       "\n",
       "    .dataframe tbody tr th {\n",
       "        vertical-align: top;\n",
       "    }\n",
       "\n",
       "    .dataframe thead th {\n",
       "        text-align: right;\n",
       "    }\n",
       "</style>\n",
       "<table border=\"1\" class=\"dataframe\">\n",
       "  <thead>\n",
       "    <tr style=\"text-align: right;\">\n",
       "      <th></th>\n",
       "      <th></th>\n",
       "      <th>Optimal Capacity</th>\n",
       "      <th>Installed Capacity</th>\n",
       "      <th>Supply</th>\n",
       "      <th>Withdrawal</th>\n",
       "      <th>Dispatch</th>\n",
       "      <th>Transmission</th>\n",
       "      <th>Capacity Factor</th>\n",
       "      <th>Curtailment</th>\n",
       "      <th>Capital Expenditure</th>\n",
       "      <th>Operational Expenditure</th>\n",
       "      <th>Revenue</th>\n",
       "      <th>Market Value</th>\n",
       "    </tr>\n",
       "  </thead>\n",
       "  <tbody>\n",
       "    <tr>\n",
       "      <th rowspan=\"12\" valign=\"top\">Generator</th>\n",
       "      <th>Biomass</th>\n",
       "      <td>1.050003e+01</td>\n",
       "      <td>1.050000e+01</td>\n",
       "      <td>9.504178e+03</td>\n",
       "      <td>0.000000e+00</td>\n",
       "      <td>9.504178e+03</td>\n",
       "      <td>0.000000e+00</td>\n",
       "      <td>1.033284e-01</td>\n",
       "      <td>0.000000e+00</td>\n",
       "      <td>3.714842e+06</td>\n",
       "      <td>1.505284e+05</td>\n",
       "      <td>5.517741e+05</td>\n",
       "      <td>58.055951</td>\n",
       "    </tr>\n",
       "    <tr>\n",
       "      <th>Coal</th>\n",
       "      <td>6.000000e+02</td>\n",
       "      <td>6.000000e+02</td>\n",
       "      <td>3.273738e+00</td>\n",
       "      <td>0.000000e+00</td>\n",
       "      <td>3.273738e+00</td>\n",
       "      <td>0.000000e+00</td>\n",
       "      <td>6.228573e-07</td>\n",
       "      <td>0.000000e+00</td>\n",
       "      <td>2.648996e+08</td>\n",
       "      <td>1.054936e+02</td>\n",
       "      <td>5.686875e+00</td>\n",
       "      <td>1.737120</td>\n",
       "    </tr>\n",
       "    <tr>\n",
       "      <th>Combined-Cycle Gas</th>\n",
       "      <td>1.348666e+03</td>\n",
       "      <td>1.192700e+03</td>\n",
       "      <td>2.100423e+06</td>\n",
       "      <td>0.000000e+00</td>\n",
       "      <td>2.100423e+06</td>\n",
       "      <td>0.000000e+00</td>\n",
       "      <td>1.777863e-01</td>\n",
       "      <td>0.000000e+00</td>\n",
       "      <td>1.701771e+08</td>\n",
       "      <td>9.832572e+07</td>\n",
       "      <td>1.589271e+08</td>\n",
       "      <td>75.664335</td>\n",
       "    </tr>\n",
       "    <tr>\n",
       "      <th>Geothermal</th>\n",
       "      <td>8.699071e+03</td>\n",
       "      <td>1.350000e+02</td>\n",
       "      <td>6.424624e+07</td>\n",
       "      <td>0.000000e+00</td>\n",
       "      <td>6.424624e+07</td>\n",
       "      <td>0.000000e+00</td>\n",
       "      <td>8.430839e-01</td>\n",
       "      <td>0.000000e+00</td>\n",
       "      <td>0.000000e+00</td>\n",
       "      <td>5.863488e+05</td>\n",
       "      <td>5.863273e+05</td>\n",
       "      <td>0.009126</td>\n",
       "    </tr>\n",
       "    <tr>\n",
       "      <th>Offshore Wind (AC)</th>\n",
       "      <td>7.522582e-03</td>\n",
       "      <td>0.000000e+00</td>\n",
       "      <td>7.336418e+00</td>\n",
       "      <td>0.000000e+00</td>\n",
       "      <td>7.336418e+00</td>\n",
       "      <td>0.000000e+00</td>\n",
       "      <td>1.113302e-01</td>\n",
       "      <td>5.119258e+00</td>\n",
       "      <td>1.977095e+03</td>\n",
       "      <td>1.842460e-01</td>\n",
       "      <td>2.287817e+02</td>\n",
       "      <td>31.184383</td>\n",
       "    </tr>\n",
       "    <tr>\n",
       "      <th>Offshore Wind (DC)</th>\n",
       "      <td>3.949639e-03</td>\n",
       "      <td>0.000000e+00</td>\n",
       "      <td>6.085297e+00</td>\n",
       "      <td>0.000000e+00</td>\n",
       "      <td>6.085297e+00</td>\n",
       "      <td>0.000000e+00</td>\n",
       "      <td>1.758815e-01</td>\n",
       "      <td>3.693825e+00</td>\n",
       "      <td>1.270355e+03</td>\n",
       "      <td>1.540147e-01</td>\n",
       "      <td>2.029225e+02</td>\n",
       "      <td>33.346367</td>\n",
       "    </tr>\n",
       "    <tr>\n",
       "      <th>Oil</th>\n",
       "      <td>8.880310e+01</td>\n",
       "      <td>8.880000e+01</td>\n",
       "      <td>1.426204e+03</td>\n",
       "      <td>0.000000e+00</td>\n",
       "      <td>1.426204e+03</td>\n",
       "      <td>0.000000e+00</td>\n",
       "      <td>1.833367e-03</td>\n",
       "      <td>0.000000e+00</td>\n",
       "      <td>4.344927e+06</td>\n",
       "      <td>2.246748e+05</td>\n",
       "      <td>7.965389e+05</td>\n",
       "      <td>558.502685</td>\n",
       "    </tr>\n",
       "    <tr>\n",
       "      <th>Onshore Wind</th>\n",
       "      <td>1.124903e+05</td>\n",
       "      <td>9.110989e-01</td>\n",
       "      <td>3.382542e+06</td>\n",
       "      <td>0.000000e+00</td>\n",
       "      <td>3.382542e+06</td>\n",
       "      <td>0.000000e+00</td>\n",
       "      <td>3.432606e-03</td>\n",
       "      <td>4.357101e+07</td>\n",
       "      <td>1.457656e+10</td>\n",
       "      <td>8.282857e+04</td>\n",
       "      <td>2.400619e+10</td>\n",
       "      <td>7097.085433</td>\n",
       "    </tr>\n",
       "    <tr>\n",
       "      <th>Open-Cycle Gas</th>\n",
       "      <td>1.850009e+02</td>\n",
       "      <td>1.850000e+02</td>\n",
       "      <td>9.347719e+02</td>\n",
       "      <td>0.000000e+00</td>\n",
       "      <td>9.347719e+02</td>\n",
       "      <td>0.000000e+00</td>\n",
       "      <td>5.768034e-04</td>\n",
       "      <td>0.000000e+00</td>\n",
       "      <td>1.090345e+07</td>\n",
       "      <td>6.047475e+04</td>\n",
       "      <td>6.037502e+04</td>\n",
       "      <td>64.587963</td>\n",
       "    </tr>\n",
       "    <tr>\n",
       "      <th>Run of River</th>\n",
       "      <td>6.017862e+02</td>\n",
       "      <td>6.017862e+02</td>\n",
       "      <td>1.360079e+05</td>\n",
       "      <td>0.000000e+00</td>\n",
       "      <td>1.360079e+05</td>\n",
       "      <td>0.000000e+00</td>\n",
       "      <td>2.579989e-02</td>\n",
       "      <td>9.371357e+04</td>\n",
       "      <td>2.465120e+08</td>\n",
       "      <td>1.344557e+03</td>\n",
       "      <td>1.223943e+09</td>\n",
       "      <td>8999.056172</td>\n",
       "    </tr>\n",
       "    <tr>\n",
       "      <th>Solar</th>\n",
       "      <td>5.232733e+04</td>\n",
       "      <td>1.447202e+01</td>\n",
       "      <td>6.420358e+06</td>\n",
       "      <td>0.000000e+00</td>\n",
       "      <td>6.420358e+06</td>\n",
       "      <td>0.000000e+00</td>\n",
       "      <td>1.400640e-02</td>\n",
       "      <td>6.716708e+07</td>\n",
       "      <td>2.526850e+09</td>\n",
       "      <td>1.283933e+05</td>\n",
       "      <td>2.526466e+09</td>\n",
       "      <td>393.508532</td>\n",
       "    </tr>\n",
       "    <tr>\n",
       "      <th>load</th>\n",
       "      <td>6.700000e+07</td>\n",
       "      <td>6.700000e+07</td>\n",
       "      <td>1.674279e+06</td>\n",
       "      <td>0.000000e+00</td>\n",
       "      <td>1.674279e+06</td>\n",
       "      <td>0.000000e+00</td>\n",
       "      <td>2.852653e-03</td>\n",
       "      <td>0.000000e+00</td>\n",
       "      <td>0.000000e+00</td>\n",
       "      <td>1.674442e+11</td>\n",
       "      <td>1.674442e+11</td>\n",
       "      <td>100009.714576</td>\n",
       "    </tr>\n",
       "    <tr>\n",
       "      <th>Line</th>\n",
       "      <th>AC</th>\n",
       "      <td>9.476675e+04</td>\n",
       "      <td>3.258621e+04</td>\n",
       "      <td>4.033965e+08</td>\n",
       "      <td>4.033965e+08</td>\n",
       "      <td>0.000000e+00</td>\n",
       "      <td>-8.436234e+07</td>\n",
       "      <td>4.859281e-01</td>\n",
       "      <td>0.000000e+00</td>\n",
       "      <td>5.928369e+08</td>\n",
       "      <td>0.000000e+00</td>\n",
       "      <td>4.745684e+08</td>\n",
       "      <td>1.176431</td>\n",
       "    </tr>\n",
       "    <tr>\n",
       "      <th>Load</th>\n",
       "      <th>-</th>\n",
       "      <td>0.000000e+00</td>\n",
       "      <td>0.000000e+00</td>\n",
       "      <td>0.000000e+00</td>\n",
       "      <td>7.885000e+07</td>\n",
       "      <td>-7.885000e+07</td>\n",
       "      <td>0.000000e+00</td>\n",
       "      <td>NaN</td>\n",
       "      <td>0.000000e+00</td>\n",
       "      <td>0.000000e+00</td>\n",
       "      <td>0.000000e+00</td>\n",
       "      <td>-2.053806e+11</td>\n",
       "      <td>NaN</td>\n",
       "    </tr>\n",
       "    <tr>\n",
       "      <th>StorageUnit</th>\n",
       "      <th>Reservoir &amp; Dam</th>\n",
       "      <td>4.340626e+03</td>\n",
       "      <td>4.340626e+03</td>\n",
       "      <td>8.782634e+05</td>\n",
       "      <td>0.000000e+00</td>\n",
       "      <td>8.782634e+05</td>\n",
       "      <td>0.000000e+00</td>\n",
       "      <td>2.309768e-02</td>\n",
       "      <td>0.000000e+00</td>\n",
       "      <td>0.000000e+00</td>\n",
       "      <td>8.459266e+03</td>\n",
       "      <td>9.544291e+09</td>\n",
       "      <td>10867.230981</td>\n",
       "    </tr>\n",
       "  </tbody>\n",
       "</table>\n",
       "</div>"
      ],
      "text/plain": [
       "                                Optimal Capacity  Installed Capacity  \\\n",
       "Generator   Biomass                 1.050003e+01        1.050000e+01   \n",
       "            Coal                    6.000000e+02        6.000000e+02   \n",
       "            Combined-Cycle Gas      1.348666e+03        1.192700e+03   \n",
       "            Geothermal              8.699071e+03        1.350000e+02   \n",
       "            Offshore Wind (AC)      7.522582e-03        0.000000e+00   \n",
       "            Offshore Wind (DC)      3.949639e-03        0.000000e+00   \n",
       "            Oil                     8.880310e+01        8.880000e+01   \n",
       "            Onshore Wind            1.124903e+05        9.110989e-01   \n",
       "            Open-Cycle Gas          1.850009e+02        1.850000e+02   \n",
       "            Run of River            6.017862e+02        6.017862e+02   \n",
       "            Solar                   5.232733e+04        1.447202e+01   \n",
       "            load                    6.700000e+07        6.700000e+07   \n",
       "Line        AC                      9.476675e+04        3.258621e+04   \n",
       "Load        -                       0.000000e+00        0.000000e+00   \n",
       "StorageUnit Reservoir & Dam         4.340626e+03        4.340626e+03   \n",
       "\n",
       "                                      Supply    Withdrawal      Dispatch  \\\n",
       "Generator   Biomass             9.504178e+03  0.000000e+00  9.504178e+03   \n",
       "            Coal                3.273738e+00  0.000000e+00  3.273738e+00   \n",
       "            Combined-Cycle Gas  2.100423e+06  0.000000e+00  2.100423e+06   \n",
       "            Geothermal          6.424624e+07  0.000000e+00  6.424624e+07   \n",
       "            Offshore Wind (AC)  7.336418e+00  0.000000e+00  7.336418e+00   \n",
       "            Offshore Wind (DC)  6.085297e+00  0.000000e+00  6.085297e+00   \n",
       "            Oil                 1.426204e+03  0.000000e+00  1.426204e+03   \n",
       "            Onshore Wind        3.382542e+06  0.000000e+00  3.382542e+06   \n",
       "            Open-Cycle Gas      9.347719e+02  0.000000e+00  9.347719e+02   \n",
       "            Run of River        1.360079e+05  0.000000e+00  1.360079e+05   \n",
       "            Solar               6.420358e+06  0.000000e+00  6.420358e+06   \n",
       "            load                1.674279e+06  0.000000e+00  1.674279e+06   \n",
       "Line        AC                  4.033965e+08  4.033965e+08  0.000000e+00   \n",
       "Load        -                   0.000000e+00  7.885000e+07 -7.885000e+07   \n",
       "StorageUnit Reservoir & Dam     8.782634e+05  0.000000e+00  8.782634e+05   \n",
       "\n",
       "                                Transmission  Capacity Factor   Curtailment  \\\n",
       "Generator   Biomass             0.000000e+00     1.033284e-01  0.000000e+00   \n",
       "            Coal                0.000000e+00     6.228573e-07  0.000000e+00   \n",
       "            Combined-Cycle Gas  0.000000e+00     1.777863e-01  0.000000e+00   \n",
       "            Geothermal          0.000000e+00     8.430839e-01  0.000000e+00   \n",
       "            Offshore Wind (AC)  0.000000e+00     1.113302e-01  5.119258e+00   \n",
       "            Offshore Wind (DC)  0.000000e+00     1.758815e-01  3.693825e+00   \n",
       "            Oil                 0.000000e+00     1.833367e-03  0.000000e+00   \n",
       "            Onshore Wind        0.000000e+00     3.432606e-03  4.357101e+07   \n",
       "            Open-Cycle Gas      0.000000e+00     5.768034e-04  0.000000e+00   \n",
       "            Run of River        0.000000e+00     2.579989e-02  9.371357e+04   \n",
       "            Solar               0.000000e+00     1.400640e-02  6.716708e+07   \n",
       "            load                0.000000e+00     2.852653e-03  0.000000e+00   \n",
       "Line        AC                 -8.436234e+07     4.859281e-01  0.000000e+00   \n",
       "Load        -                   0.000000e+00              NaN  0.000000e+00   \n",
       "StorageUnit Reservoir & Dam     0.000000e+00     2.309768e-02  0.000000e+00   \n",
       "\n",
       "                                Capital Expenditure  Operational Expenditure  \\\n",
       "Generator   Biomass                    3.714842e+06             1.505284e+05   \n",
       "            Coal                       2.648996e+08             1.054936e+02   \n",
       "            Combined-Cycle Gas         1.701771e+08             9.832572e+07   \n",
       "            Geothermal                 0.000000e+00             5.863488e+05   \n",
       "            Offshore Wind (AC)         1.977095e+03             1.842460e-01   \n",
       "            Offshore Wind (DC)         1.270355e+03             1.540147e-01   \n",
       "            Oil                        4.344927e+06             2.246748e+05   \n",
       "            Onshore Wind               1.457656e+10             8.282857e+04   \n",
       "            Open-Cycle Gas             1.090345e+07             6.047475e+04   \n",
       "            Run of River               2.465120e+08             1.344557e+03   \n",
       "            Solar                      2.526850e+09             1.283933e+05   \n",
       "            load                       0.000000e+00             1.674442e+11   \n",
       "Line        AC                         5.928369e+08             0.000000e+00   \n",
       "Load        -                          0.000000e+00             0.000000e+00   \n",
       "StorageUnit Reservoir & Dam            0.000000e+00             8.459266e+03   \n",
       "\n",
       "                                     Revenue   Market Value  \n",
       "Generator   Biomass             5.517741e+05      58.055951  \n",
       "            Coal                5.686875e+00       1.737120  \n",
       "            Combined-Cycle Gas  1.589271e+08      75.664335  \n",
       "            Geothermal          5.863273e+05       0.009126  \n",
       "            Offshore Wind (AC)  2.287817e+02      31.184383  \n",
       "            Offshore Wind (DC)  2.029225e+02      33.346367  \n",
       "            Oil                 7.965389e+05     558.502685  \n",
       "            Onshore Wind        2.400619e+10    7097.085433  \n",
       "            Open-Cycle Gas      6.037502e+04      64.587963  \n",
       "            Run of River        1.223943e+09    8999.056172  \n",
       "            Solar               2.526466e+09     393.508532  \n",
       "            load                1.674442e+11  100009.714576  \n",
       "Line        AC                  4.745684e+08       1.176431  \n",
       "Load        -                  -2.053806e+11            NaN  \n",
       "StorageUnit Reservoir & Dam     9.544291e+09   10867.230981  "
      ]
     },
     "execution_count": 17,
     "metadata": {},
     "output_type": "execute_result"
    }
   ],
   "source": [
    "n.statistics()"
   ]
  },
  {
   "cell_type": "code",
   "execution_count": 18,
   "metadata": {},
   "outputs": [
    {
     "name": "stderr",
     "output_type": "stream",
     "text": [
      "C:\\Users\\hie\\AppData\\Local\\Temp\\ipykernel_30004\\3758984340.py:1: DeprecatedWarning:\n",
      "\n",
      "dispatch is deprecated as of 0.28 and will be removed in 0.29. Use 'energy_balance' instead.\n",
      "\n"
     ]
    },
    {
     "data": {
      "text/plain": [
       "0.0009997636079788208"
      ]
     },
     "execution_count": 18,
     "metadata": {},
     "output_type": "execute_result"
    }
   ],
   "source": [
    "n.statistics.dispatch().sum()"
   ]
  },
  {
   "cell_type": "code",
   "execution_count": 19,
   "metadata": {},
   "outputs": [
    {
     "data": {
      "text/plain": [
       "18396799742.95202"
      ]
     },
     "execution_count": 19,
     "metadata": {},
     "output_type": "execute_result"
    }
   ],
   "source": [
    "# Capital expenditure for optimized values (annual values based on p_nom_opt) [Eur/year]\n",
    "n.statistics.capex().sum()"
   ]
  },
  {
   "cell_type": "code",
   "execution_count": 20,
   "metadata": {},
   "outputs": [
    {
     "data": {
      "text/plain": [
       "18396.79974295201"
      ]
     },
     "execution_count": 20,
     "metadata": {},
     "output_type": "execute_result"
    }
   ],
   "source": [
    "#manual sum of components to obtain capex of the system [Million Eur/year]\n",
    "capex = (n.generators.p_nom_opt * n.generators.capital_cost).div(1e6).sum()  + (n.storage_units.p_nom_opt * n.storage_units.capital_cost).div(1e6).sum() + (n.lines.s_nom_opt * n.lines.capital_cost).div(1e6).sum() + (n.stores.e_nom_opt * n.stores.capital_cost).div(1e6).sum()# M€/a\n",
    "capex"
   ]
  },
  {
   "cell_type": "code",
   "execution_count": 21,
   "metadata": {},
   "outputs": [
    {
     "data": {
      "text/plain": [
       "167543.75760503858"
      ]
     },
     "execution_count": 21,
     "metadata": {},
     "output_type": "execute_result"
    }
   ],
   "source": [
    "#manual sum of components to obatin opex of the system [Million Eur/year]\n",
    "opex = (n.snapshot_weightings.generators @ n.generators_t.p * (n.generators.marginal_cost).div(1e6)).sum() + (n.snapshot_weightings.generators @ n.storage_units_t.p * (n.storage_units.marginal_cost).div(1e6)).sum()  # M€/a\n",
    "opex"
   ]
  },
  {
   "cell_type": "code",
   "execution_count": 22,
   "metadata": {},
   "outputs": [
    {
     "data": {
      "text/plain": [
       "17497.243866685603"
      ]
     },
     "execution_count": 22,
     "metadata": {},
     "output_type": "execute_result"
    }
   ],
   "source": [
    "#manual sum of components to obtain capex of only the expanded capacity (p_nom_opt-p_nom) [Million Eur/year]\n",
    "capex2 = ((n.generators.p_nom_opt - n.generators.p_nom)* n.generators.capital_cost).div(1e6).sum()  + ((n.storage_units.p_nom_opt - n.storage_units.p_nom ) * n.storage_units.capital_cost).div(1e6).sum() + ((n.lines.s_nom_opt - n.lines.s_nom) * n.lines.capital_cost).div(1e6).sum() + ((n.stores.e_nom_opt - n.stores.e_nom) * n.stores.capital_cost).div(1e6).sum()# M€/a\n",
    "capex2"
   ]
  },
  {
   "cell_type": "markdown",
   "metadata": {},
   "source": [
    "Expansion and generation charts"
   ]
  },
  {
   "cell_type": "code",
   "execution_count": 23,
   "metadata": {},
   "outputs": [
    {
     "name": "stderr",
     "output_type": "stream",
     "text": [
      "C:\\Users\\hie\\AppData\\Local\\Temp\\ipykernel_30004\\4130944177.py:3: FutureWarning:\n",
      "\n",
      "DataFrame.groupby with axis=1 is deprecated. Do `frame.T.groupby(...)` without axis instead.\n",
      "\n"
     ]
    },
    {
     "data": {
      "text/plain": [
       "<AxesSubplot:xlabel='snapshot'>"
      ]
     },
     "execution_count": 23,
     "metadata": {},
     "output_type": "execute_result"
    },
    {
     "data": {
      "image/png": "[encoded data removed]",
      "text/plain": [
       "<Figure size 640x480 with 1 Axes>"
      ]
     },
     "metadata": {},
     "output_type": "display_data"
    }
   ],
   "source": [
    "date1 = \"2013-01-01\"\n",
    "date2 = \"2014-01-01\"\n",
    "n.generators_t.p.loc[date1:date1].groupby(n.generators.carrier, axis=1).sum().plot(kind = \"area\")\n",
    "\n",
    "n.loads_t.p.loc[date1:date1].sum(axis=1).plot()"
   ]
  },
  {
   "cell_type": "code",
   "execution_count": 24,
   "metadata": {},
   "outputs": [
    {
     "data": {
      "application/vnd.microsoft.datawrangler.viewer.v0+json": {
       "columns": [
        {
         "name": "('component', 'carrier')",
         "rawType": "object",
         "type": "unknown"
        },
        {
         "name": "0",
         "rawType": "float64",
         "type": "float"
        }
       ],
       "conversionMethod": "pd.DataFrame",
       "ref": "8468151d-6efe-4c5e-bf13-11207bc56bc3",
       "rows": [
        [
         "('StorageUnit', 'Reservoir & Dam')",
         "4340.625971594"
        ]
       ],
       "shape": {
        "columns": 1,
        "rows": 1
       }
      },
      "text/html": [
       "<div>\n",
       "<style scoped>\n",
       "    .dataframe tbody tr th:only-of-type {\n",
       "        vertical-align: middle;\n",
       "    }\n",
       "\n",
       "    .dataframe tbody tr th {\n",
       "        vertical-align: top;\n",
       "    }\n",
       "\n",
       "    .dataframe thead th {\n",
       "        text-align: right;\n",
       "    }\n",
       "</style>\n",
       "<table border=\"1\" class=\"dataframe\">\n",
       "  <thead>\n",
       "    <tr style=\"text-align: right;\">\n",
       "      <th></th>\n",
       "      <th></th>\n",
       "      <th>0</th>\n",
       "    </tr>\n",
       "    <tr>\n",
       "      <th>component</th>\n",
       "      <th>carrier</th>\n",
       "      <th></th>\n",
       "    </tr>\n",
       "  </thead>\n",
       "  <tbody>\n",
       "    <tr>\n",
       "      <th>StorageUnit</th>\n",
       "      <th>Reservoir &amp; Dam</th>\n",
       "      <td>4340.625972</td>\n",
       "    </tr>\n",
       "  </tbody>\n",
       "</table>\n",
       "</div>"
      ],
      "text/plain": [
       "                                       0\n",
       "component   carrier                     \n",
       "StorageUnit Reservoir & Dam  4340.625972"
      ]
     },
     "execution_count": 24,
     "metadata": {},
     "output_type": "execute_result"
    }
   ],
   "source": [
    "storage_capacities = pd.DataFrame(n.statistics.optimal_capacity())\n",
    "storage_capacities = storage_capacities.drop(index=['Line','Generator'], level=0)\n",
    "storage_capacities"
   ]
  },
  {
   "cell_type": "code",
   "execution_count": 25,
   "metadata": {},
   "outputs": [
    {
     "data": {
      "application/vnd.microsoft.datawrangler.viewer.v0+json": {
       "columns": [
        {
         "name": "(None, None)",
         "rawType": "object",
         "type": "unknown"
        },
        {
         "name": "Optimal Capacity",
         "rawType": "float64",
         "type": "float"
        },
        {
         "name": "Installed Capacity",
         "rawType": "float64",
         "type": "float"
        },
        {
         "name": "Supply",
         "rawType": "float64",
         "type": "float"
        },
        {
         "name": "Withdrawal",
         "rawType": "float64",
         "type": "float"
        },
        {
         "name": "Dispatch",
         "rawType": "float64",
         "type": "float"
        },
        {
         "name": "Transmission",
         "rawType": "float64",
         "type": "float"
        },
        {
         "name": "Capacity Factor",
         "rawType": "float64",
         "type": "float"
        },
        {
         "name": "Curtailment",
         "rawType": "float64",
         "type": "float"
        },
        {
         "name": "Capital Expenditure",
         "rawType": "float64",
         "type": "float"
        },
        {
         "name": "Operational Expenditure",
         "rawType": "float64",
         "type": "float"
        },
        {
         "name": "Revenue",
         "rawType": "float64",
         "type": "float"
        },
        {
         "name": "Market Value",
         "rawType": "float64",
         "type": "float"
        }
       ],
       "conversionMethod": "pd.DataFrame",
       "ref": "c048b09a-359c-4f73-9cb1-d5ab9f6012c6",
       "rows": [
        [
         "('Generator', 'Biomass')",
         "10.500030478871949",
         "10.5",
         "9504.178102137352",
         "0.0",
         "9504.178102137352",
         "0.0",
         "0.10332844655324212",
         "0.0",
         "3714841.701152254",
         "150528.36898461208",
         "551774.0955294786",
         "58.055950719756886"
        ],
        [
         "('Generator', 'Coal')",
         "600.0000029438298",
         "600.0",
         "3.27373795810717",
         "0.0",
         "3.27373795810717",
         "0.0",
         "6.228572949096188e-07",
         "0.0",
         "264899563.9071388",
         "105.49363863227728",
         "5.686874913713088",
         "1.7371197653831651"
        ],
        [
         "('Generator', 'Combined-Cycle Gas')",
         "1348.6657237245602",
         "1192.7",
         "2100423.1360273845",
         "0.0",
         "2100423.1360273845",
         "0.0",
         "0.17778633087416024",
         "0.0",
         "170177130.51383972",
         "98325718.11018008",
         "158927120.13662606",
         "75.664335157349"
        ],
        [
         "('Generator', 'Geothermal')",
         "8699.070791363503",
         "135.0",
         "64246244.33617201",
         "0.0",
         "64246244.33617201",
         "0.0",
         "0.8430838572297346",
         "0.0",
         "0.0",
         "586348.789318048",
         "586327.2599596184",
         "0.009126249573307795"
        ],
        [
         "('Generator', 'Offshore Wind (AC)')",
         "0.007522582257712613",
         "0.0",
         "7.336417781427861",
         "0.0",
         "7.336417781427861",
         "0.0",
         "0.11133020359592641",
         "5.119258169953588",
         "1977.0947000254341",
         "0.18424602324806832",
         "228.78166378228298",
         "31.184383250561833"
        ],
        [
         "('Generator', 'Offshore Wind (DC)')",
         "0.003949639401937435",
         "0.0",
         "6.085297032191448",
         "0.0",
         "6.085297032191448",
         "0.0",
         "0.17588152747311558",
         "3.693825206968885",
         "1270.3549030217512",
         "0.15401474516422703",
         "202.92254917274101",
         "33.346367169798484"
        ],
        [
         "('Generator', 'Oil')",
         "88.80309721869972",
         "88.8",
         "1426.2042126451554",
         "0.0",
         "1426.2042126451554",
         "0.0",
         "0.001833367361869044",
         "0.0",
         "4344927.415789603",
         "224674.7799444133",
         "796538.8819272374",
         "558.5026848644011"
        ],
        [
         "('Generator', 'Onshore Wind')",
         "112490.32490199625",
         "0.9110988651167364",
         "3382542.036237902",
         "0.0",
         "3382542.036237902",
         "0.0",
         "0.003432605746138651",
         "43571012.86359514",
         "14576557198.59312",
         "82828.56804036428",
         "24006189810.581272",
         "7097.0854326118615"
        ],
        [
         "('Generator', 'Open-Cycle Gas')",
         "185.00087025077255",
         "185.0",
         "934.7719405152944",
         "0.0",
         "934.7719405152944",
         "0.0",
         "0.0005768033711676781",
         "0.0",
         "10903448.640500143",
         "60474.747326826444",
         "60375.01536704588",
         "64.58796284980914"
        ],
        [
         "('Generator', 'Run of River')",
         "601.78624204",
         "601.78624204",
         "136007.92013357914",
         "0.0",
         "136007.92013357914",
         "0.0",
         "0.02579988905604949",
         "93713.5740416214",
         "246512017.2716647",
         "1344.556759103257",
         "1223942913.1524527",
         "8999.056172246192"
        ],
        [
         "('Generator', 'Solar')",
         "52327.33132855525",
         "14.472015349088327",
         "6420358.100131222",
         "0.0",
         "6420358.100131222",
         "0.0",
         "0.01400640110494655",
         "67167083.45681405",
         "2526850426.2787943",
         "128393.33102396828",
         "2526465688.3273683",
         "393.5085315997766"
        ],
        [
         "('Generator', 'load')",
         "67000000.0",
         "67000000.0",
         "1674279.2078210523",
         "0.0",
         "1674279.2078210523",
         "0.0",
         "0.0028526531858192807",
         "0.0",
         "0.0",
         "167444188728.68872",
         "167444185694.17584",
         "100009.71457567804"
        ],
        [
         "('Line', 'AC')",
         "94766.74834887446",
         "32586.214996326285",
         "403396505.4043404",
         "403396505.4043404",
         "0.0",
         "-84362335.84626459",
         "0.485928136043343",
         "0.0",
         "592836941.1804105",
         "0.0",
         "474568350.2105408",
         "1.176431485778139"
        ],
        [
         "('Load', '-')",
         "0.0",
         "0.0",
         "0.0",
         "78849999.999988",
         "-78849999.999988",
         "0.0",
         null,
         "0.0",
         "0.0",
         "0.0",
         "-205380566419.64618",
         null
        ],
        [
         "('StorageUnit', 'Reservoir & Dam')",
         "4340.625971594",
         "4340.625971594",
         "878263.4147565332",
         "0.0",
         "878263.4147565332",
         "0.0",
         "0.02309767792389443",
         "0.0",
         "0.0",
         "8459.266388540313",
         "9544291390.647913",
         "10867.230981372171"
        ]
       ],
       "shape": {
        "columns": 12,
        "rows": 15
       }
      },
      "text/html": [
       "<div>\n",
       "<style scoped>\n",
       "    .dataframe tbody tr th:only-of-type {\n",
       "        vertical-align: middle;\n",
       "    }\n",
       "\n",
       "    .dataframe tbody tr th {\n",
       "        vertical-align: top;\n",
       "    }\n",
       "\n",
       "    .dataframe thead th {\n",
       "        text-align: right;\n",
       "    }\n",
       "</style>\n",
       "<table border=\"1\" class=\"dataframe\">\n",
       "  <thead>\n",
       "    <tr style=\"text-align: right;\">\n",
       "      <th></th>\n",
       "      <th></th>\n",
       "      <th>Optimal Capacity</th>\n",
       "      <th>Installed Capacity</th>\n",
       "      <th>Supply</th>\n",
       "      <th>Withdrawal</th>\n",
       "      <th>Dispatch</th>\n",
       "      <th>Transmission</th>\n",
       "      <th>Capacity Factor</th>\n",
       "      <th>Curtailment</th>\n",
       "      <th>Capital Expenditure</th>\n",
       "      <th>Operational Expenditure</th>\n",
       "      <th>Revenue</th>\n",
       "      <th>Market Value</th>\n",
       "    </tr>\n",
       "  </thead>\n",
       "  <tbody>\n",
       "    <tr>\n",
       "      <th rowspan=\"12\" valign=\"top\">Generator</th>\n",
       "      <th>Biomass</th>\n",
       "      <td>1.050003e+01</td>\n",
       "      <td>1.050000e+01</td>\n",
       "      <td>9.504178e+03</td>\n",
       "      <td>0.000000e+00</td>\n",
       "      <td>9.504178e+03</td>\n",
       "      <td>0.000000e+00</td>\n",
       "      <td>1.033284e-01</td>\n",
       "      <td>0.000000e+00</td>\n",
       "      <td>3.714842e+06</td>\n",
       "      <td>1.505284e+05</td>\n",
       "      <td>5.517741e+05</td>\n",
       "      <td>58.055951</td>\n",
       "    </tr>\n",
       "    <tr>\n",
       "      <th>Coal</th>\n",
       "      <td>6.000000e+02</td>\n",
       "      <td>6.000000e+02</td>\n",
       "      <td>3.273738e+00</td>\n",
       "      <td>0.000000e+00</td>\n",
       "      <td>3.273738e+00</td>\n",
       "      <td>0.000000e+00</td>\n",
       "      <td>6.228573e-07</td>\n",
       "      <td>0.000000e+00</td>\n",
       "      <td>2.648996e+08</td>\n",
       "      <td>1.054936e+02</td>\n",
       "      <td>5.686875e+00</td>\n",
       "      <td>1.737120</td>\n",
       "    </tr>\n",
       "    <tr>\n",
       "      <th>Combined-Cycle Gas</th>\n",
       "      <td>1.348666e+03</td>\n",
       "      <td>1.192700e+03</td>\n",
       "      <td>2.100423e+06</td>\n",
       "      <td>0.000000e+00</td>\n",
       "      <td>2.100423e+06</td>\n",
       "      <td>0.000000e+00</td>\n",
       "      <td>1.777863e-01</td>\n",
       "      <td>0.000000e+00</td>\n",
       "      <td>1.701771e+08</td>\n",
       "      <td>9.832572e+07</td>\n",
       "      <td>1.589271e+08</td>\n",
       "      <td>75.664335</td>\n",
       "    </tr>\n",
       "    <tr>\n",
       "      <th>Geothermal</th>\n",
       "      <td>8.699071e+03</td>\n",
       "      <td>1.350000e+02</td>\n",
       "      <td>6.424624e+07</td>\n",
       "      <td>0.000000e+00</td>\n",
       "      <td>6.424624e+07</td>\n",
       "      <td>0.000000e+00</td>\n",
       "      <td>8.430839e-01</td>\n",
       "      <td>0.000000e+00</td>\n",
       "      <td>0.000000e+00</td>\n",
       "      <td>5.863488e+05</td>\n",
       "      <td>5.863273e+05</td>\n",
       "      <td>0.009126</td>\n",
       "    </tr>\n",
       "    <tr>\n",
       "      <th>Offshore Wind (AC)</th>\n",
       "      <td>7.522582e-03</td>\n",
       "      <td>0.000000e+00</td>\n",
       "      <td>7.336418e+00</td>\n",
       "      <td>0.000000e+00</td>\n",
       "      <td>7.336418e+00</td>\n",
       "      <td>0.000000e+00</td>\n",
       "      <td>1.113302e-01</td>\n",
       "      <td>5.119258e+00</td>\n",
       "      <td>1.977095e+03</td>\n",
       "      <td>1.842460e-01</td>\n",
       "      <td>2.287817e+02</td>\n",
       "      <td>31.184383</td>\n",
       "    </tr>\n",
       "    <tr>\n",
       "      <th>Offshore Wind (DC)</th>\n",
       "      <td>3.949639e-03</td>\n",
       "      <td>0.000000e+00</td>\n",
       "      <td>6.085297e+00</td>\n",
       "      <td>0.000000e+00</td>\n",
       "      <td>6.085297e+00</td>\n",
       "      <td>0.000000e+00</td>\n",
       "      <td>1.758815e-01</td>\n",
       "      <td>3.693825e+00</td>\n",
       "      <td>1.270355e+03</td>\n",
       "      <td>1.540147e-01</td>\n",
       "      <td>2.029225e+02</td>\n",
       "      <td>33.346367</td>\n",
       "    </tr>\n",
       "    <tr>\n",
       "      <th>Oil</th>\n",
       "      <td>8.880310e+01</td>\n",
       "      <td>8.880000e+01</td>\n",
       "      <td>1.426204e+03</td>\n",
       "      <td>0.000000e+00</td>\n",
       "      <td>1.426204e+03</td>\n",
       "      <td>0.000000e+00</td>\n",
       "      <td>1.833367e-03</td>\n",
       "      <td>0.000000e+00</td>\n",
       "      <td>4.344927e+06</td>\n",
       "      <td>2.246748e+05</td>\n",
       "      <td>7.965389e+05</td>\n",
       "      <td>558.502685</td>\n",
       "    </tr>\n",
       "    <tr>\n",
       "      <th>Onshore Wind</th>\n",
       "      <td>1.124903e+05</td>\n",
       "      <td>9.110989e-01</td>\n",
       "      <td>3.382542e+06</td>\n",
       "      <td>0.000000e+00</td>\n",
       "      <td>3.382542e+06</td>\n",
       "      <td>0.000000e+00</td>\n",
       "      <td>3.432606e-03</td>\n",
       "      <td>4.357101e+07</td>\n",
       "      <td>1.457656e+10</td>\n",
       "      <td>8.282857e+04</td>\n",
       "      <td>2.400619e+10</td>\n",
       "      <td>7097.085433</td>\n",
       "    </tr>\n",
       "    <tr>\n",
       "      <th>Open-Cycle Gas</th>\n",
       "      <td>1.850009e+02</td>\n",
       "      <td>1.850000e+02</td>\n",
       "      <td>9.347719e+02</td>\n",
       "      <td>0.000000e+00</td>\n",
       "      <td>9.347719e+02</td>\n",
       "      <td>0.000000e+00</td>\n",
       "      <td>5.768034e-04</td>\n",
       "      <td>0.000000e+00</td>\n",
       "      <td>1.090345e+07</td>\n",
       "      <td>6.047475e+04</td>\n",
       "      <td>6.037502e+04</td>\n",
       "      <td>64.587963</td>\n",
       "    </tr>\n",
       "    <tr>\n",
       "      <th>Run of River</th>\n",
       "      <td>6.017862e+02</td>\n",
       "      <td>6.017862e+02</td>\n",
       "      <td>1.360079e+05</td>\n",
       "      <td>0.000000e+00</td>\n",
       "      <td>1.360079e+05</td>\n",
       "      <td>0.000000e+00</td>\n",
       "      <td>2.579989e-02</td>\n",
       "      <td>9.371357e+04</td>\n",
       "      <td>2.465120e+08</td>\n",
       "      <td>1.344557e+03</td>\n",
       "      <td>1.223943e+09</td>\n",
       "      <td>8999.056172</td>\n",
       "    </tr>\n",
       "    <tr>\n",
       "      <th>Solar</th>\n",
       "      <td>5.232733e+04</td>\n",
       "      <td>1.447202e+01</td>\n",
       "      <td>6.420358e+06</td>\n",
       "      <td>0.000000e+00</td>\n",
       "      <td>6.420358e+06</td>\n",
       "      <td>0.000000e+00</td>\n",
       "      <td>1.400640e-02</td>\n",
       "      <td>6.716708e+07</td>\n",
       "      <td>2.526850e+09</td>\n",
       "      <td>1.283933e+05</td>\n",
       "      <td>2.526466e+09</td>\n",
       "      <td>393.508532</td>\n",
       "    </tr>\n",
       "    <tr>\n",
       "      <th>load</th>\n",
       "      <td>6.700000e+07</td>\n",
       "      <td>6.700000e+07</td>\n",
       "      <td>1.674279e+06</td>\n",
       "      <td>0.000000e+00</td>\n",
       "      <td>1.674279e+06</td>\n",
       "      <td>0.000000e+00</td>\n",
       "      <td>2.852653e-03</td>\n",
       "      <td>0.000000e+00</td>\n",
       "      <td>0.000000e+00</td>\n",
       "      <td>1.674442e+11</td>\n",
       "      <td>1.674442e+11</td>\n",
       "      <td>100009.714576</td>\n",
       "    </tr>\n",
       "    <tr>\n",
       "      <th>Line</th>\n",
       "      <th>AC</th>\n",
       "      <td>9.476675e+04</td>\n",
       "      <td>3.258621e+04</td>\n",
       "      <td>4.033965e+08</td>\n",
       "      <td>4.033965e+08</td>\n",
       "      <td>0.000000e+00</td>\n",
       "      <td>-8.436234e+07</td>\n",
       "      <td>4.859281e-01</td>\n",
       "      <td>0.000000e+00</td>\n",
       "      <td>5.928369e+08</td>\n",
       "      <td>0.000000e+00</td>\n",
       "      <td>4.745684e+08</td>\n",
       "      <td>1.176431</td>\n",
       "    </tr>\n",
       "    <tr>\n",
       "      <th>Load</th>\n",
       "      <th>-</th>\n",
       "      <td>0.000000e+00</td>\n",
       "      <td>0.000000e+00</td>\n",
       "      <td>0.000000e+00</td>\n",
       "      <td>7.885000e+07</td>\n",
       "      <td>-7.885000e+07</td>\n",
       "      <td>0.000000e+00</td>\n",
       "      <td>NaN</td>\n",
       "      <td>0.000000e+00</td>\n",
       "      <td>0.000000e+00</td>\n",
       "      <td>0.000000e+00</td>\n",
       "      <td>-2.053806e+11</td>\n",
       "      <td>NaN</td>\n",
       "    </tr>\n",
       "    <tr>\n",
       "      <th>StorageUnit</th>\n",
       "      <th>Reservoir &amp; Dam</th>\n",
       "      <td>4.340626e+03</td>\n",
       "      <td>4.340626e+03</td>\n",
       "      <td>8.782634e+05</td>\n",
       "      <td>0.000000e+00</td>\n",
       "      <td>8.782634e+05</td>\n",
       "      <td>0.000000e+00</td>\n",
       "      <td>2.309768e-02</td>\n",
       "      <td>0.000000e+00</td>\n",
       "      <td>0.000000e+00</td>\n",
       "      <td>8.459266e+03</td>\n",
       "      <td>9.544291e+09</td>\n",
       "      <td>10867.230981</td>\n",
       "    </tr>\n",
       "  </tbody>\n",
       "</table>\n",
       "</div>"
      ],
      "text/plain": [
       "                                Optimal Capacity  Installed Capacity  \\\n",
       "Generator   Biomass                 1.050003e+01        1.050000e+01   \n",
       "            Coal                    6.000000e+02        6.000000e+02   \n",
       "            Combined-Cycle Gas      1.348666e+03        1.192700e+03   \n",
       "            Geothermal              8.699071e+03        1.350000e+02   \n",
       "            Offshore Wind (AC)      7.522582e-03        0.000000e+00   \n",
       "            Offshore Wind (DC)      3.949639e-03        0.000000e+00   \n",
       "            Oil                     8.880310e+01        8.880000e+01   \n",
       "            Onshore Wind            1.124903e+05        9.110989e-01   \n",
       "            Open-Cycle Gas          1.850009e+02        1.850000e+02   \n",
       "            Run of River            6.017862e+02        6.017862e+02   \n",
       "            Solar                   5.232733e+04        1.447202e+01   \n",
       "            load                    6.700000e+07        6.700000e+07   \n",
       "Line        AC                      9.476675e+04        3.258621e+04   \n",
       "Load        -                       0.000000e+00        0.000000e+00   \n",
       "StorageUnit Reservoir & Dam         4.340626e+03        4.340626e+03   \n",
       "\n",
       "                                      Supply    Withdrawal      Dispatch  \\\n",
       "Generator   Biomass             9.504178e+03  0.000000e+00  9.504178e+03   \n",
       "            Coal                3.273738e+00  0.000000e+00  3.273738e+00   \n",
       "            Combined-Cycle Gas  2.100423e+06  0.000000e+00  2.100423e+06   \n",
       "            Geothermal          6.424624e+07  0.000000e+00  6.424624e+07   \n",
       "            Offshore Wind (AC)  7.336418e+00  0.000000e+00  7.336418e+00   \n",
       "            Offshore Wind (DC)  6.085297e+00  0.000000e+00  6.085297e+00   \n",
       "            Oil                 1.426204e+03  0.000000e+00  1.426204e+03   \n",
       "            Onshore Wind        3.382542e+06  0.000000e+00  3.382542e+06   \n",
       "            Open-Cycle Gas      9.347719e+02  0.000000e+00  9.347719e+02   \n",
       "            Run of River        1.360079e+05  0.000000e+00  1.360079e+05   \n",
       "            Solar               6.420358e+06  0.000000e+00  6.420358e+06   \n",
       "            load                1.674279e+06  0.000000e+00  1.674279e+06   \n",
       "Line        AC                  4.033965e+08  4.033965e+08  0.000000e+00   \n",
       "Load        -                   0.000000e+00  7.885000e+07 -7.885000e+07   \n",
       "StorageUnit Reservoir & Dam     8.782634e+05  0.000000e+00  8.782634e+05   \n",
       "\n",
       "                                Transmission  Capacity Factor   Curtailment  \\\n",
       "Generator   Biomass             0.000000e+00     1.033284e-01  0.000000e+00   \n",
       "            Coal                0.000000e+00     6.228573e-07  0.000000e+00   \n",
       "            Combined-Cycle Gas  0.000000e+00     1.777863e-01  0.000000e+00   \n",
       "            Geothermal          0.000000e+00     8.430839e-01  0.000000e+00   \n",
       "            Offshore Wind (AC)  0.000000e+00     1.113302e-01  5.119258e+00   \n",
       "            Offshore Wind (DC)  0.000000e+00     1.758815e-01  3.693825e+00   \n",
       "            Oil                 0.000000e+00     1.833367e-03  0.000000e+00   \n",
       "            Onshore Wind        0.000000e+00     3.432606e-03  4.357101e+07   \n",
       "            Open-Cycle Gas      0.000000e+00     5.768034e-04  0.000000e+00   \n",
       "            Run of River        0.000000e+00     2.579989e-02  9.371357e+04   \n",
       "            Solar               0.000000e+00     1.400640e-02  6.716708e+07   \n",
       "            load                0.000000e+00     2.852653e-03  0.000000e+00   \n",
       "Line        AC                 -8.436234e+07     4.859281e-01  0.000000e+00   \n",
       "Load        -                   0.000000e+00              NaN  0.000000e+00   \n",
       "StorageUnit Reservoir & Dam     0.000000e+00     2.309768e-02  0.000000e+00   \n",
       "\n",
       "                                Capital Expenditure  Operational Expenditure  \\\n",
       "Generator   Biomass                    3.714842e+06             1.505284e+05   \n",
       "            Coal                       2.648996e+08             1.054936e+02   \n",
       "            Combined-Cycle Gas         1.701771e+08             9.832572e+07   \n",
       "            Geothermal                 0.000000e+00             5.863488e+05   \n",
       "            Offshore Wind (AC)         1.977095e+03             1.842460e-01   \n",
       "            Offshore Wind (DC)         1.270355e+03             1.540147e-01   \n",
       "            Oil                        4.344927e+06             2.246748e+05   \n",
       "            Onshore Wind               1.457656e+10             8.282857e+04   \n",
       "            Open-Cycle Gas             1.090345e+07             6.047475e+04   \n",
       "            Run of River               2.465120e+08             1.344557e+03   \n",
       "            Solar                      2.526850e+09             1.283933e+05   \n",
       "            load                       0.000000e+00             1.674442e+11   \n",
       "Line        AC                         5.928369e+08             0.000000e+00   \n",
       "Load        -                          0.000000e+00             0.000000e+00   \n",
       "StorageUnit Reservoir & Dam            0.000000e+00             8.459266e+03   \n",
       "\n",
       "                                     Revenue   Market Value  \n",
       "Generator   Biomass             5.517741e+05      58.055951  \n",
       "            Coal                5.686875e+00       1.737120  \n",
       "            Combined-Cycle Gas  1.589271e+08      75.664335  \n",
       "            Geothermal          5.863273e+05       0.009126  \n",
       "            Offshore Wind (AC)  2.287817e+02      31.184383  \n",
       "            Offshore Wind (DC)  2.029225e+02      33.346367  \n",
       "            Oil                 7.965389e+05     558.502685  \n",
       "            Onshore Wind        2.400619e+10    7097.085433  \n",
       "            Open-Cycle Gas      6.037502e+04      64.587963  \n",
       "            Run of River        1.223943e+09    8999.056172  \n",
       "            Solar               2.526466e+09     393.508532  \n",
       "            load                1.674442e+11  100009.714576  \n",
       "Line        AC                  4.745684e+08       1.176431  \n",
       "Load        -                  -2.053806e+11            NaN  \n",
       "StorageUnit Reservoir & Dam     9.544291e+09   10867.230981  "
      ]
     },
     "execution_count": 25,
     "metadata": {},
     "output_type": "execute_result"
    }
   ],
   "source": [
    "n.statistics()"
   ]
  },
  {
   "cell_type": "markdown",
   "metadata": {},
   "source": [
    "Dispatch"
   ]
  },
  {
   "cell_type": "code",
   "execution_count": 26,
   "metadata": {},
   "outputs": [
    {
     "name": "stderr",
     "output_type": "stream",
     "text": [
      "C:\\Users\\hie\\AppData\\Local\\Temp\\ipykernel_30004\\2440099205.py:2: FutureWarning:\n",
      "\n",
      "DataFrame.groupby with axis=1 is deprecated. Do `frame.T.groupby(...)` without axis instead.\n",
      "\n"
     ]
    },
    {
     "data": {
      "text/plain": [
       "carrier\n",
       "CCGT          2.100423e+06\n",
       "OCGT          9.347719e+02\n",
       "biomass       9.504178e+03\n",
       "coal          3.273738e+00\n",
       "geothermal    6.424624e+07\n",
       "load          1.674279e+09\n",
       "offwind-ac    7.336418e+00\n",
       "offwind-dc    6.085297e+00\n",
       "oil           1.426204e+03\n",
       "onwind        3.382542e+06\n",
       "ror           1.360079e+05\n",
       "solar         6.420358e+06\n",
       "dtype: float64"
      ]
     },
     "execution_count": 26,
     "metadata": {},
     "output_type": "execute_result"
    }
   ],
   "source": [
    "#energy generated by type of powerplant\n",
    "production_cap = n.generators_t.p.loc[\"2013-01-01\":\"2014-01-01\"].groupby(n.generators.carrier, axis=1).sum()\n",
    "production_cap.sum()"
   ]
  },
  {
   "cell_type": "code",
   "execution_count": 27,
   "metadata": {},
   "outputs": [
    {
     "name": "stdout",
     "output_type": "stream",
     "text": [
      "                   p_nom     p_nom_opt\n",
      "carrier                               \n",
      "CCGT        1.192700e+03  1.348666e+03\n",
      "OCGT        1.850000e+02  1.850009e+02\n",
      "biomass     1.050000e+01  1.050003e+01\n",
      "coal        6.000000e+02  6.000000e+02\n",
      "geothermal  1.350000e+02  8.699071e+03\n",
      "load        6.700000e+07  6.700000e+07\n",
      "offwind-ac  0.000000e+00  7.522582e-03\n",
      "offwind-dc  0.000000e+00  3.949639e-03\n",
      "oil         8.880000e+01  8.880310e+01\n",
      "onwind      9.110989e-01  1.124903e+05\n",
      "ror         6.017862e+02  6.017862e+02\n",
      "solar       1.447202e+01  5.232733e+04\n",
      "\n",
      "hydro storage : p_nom: 4340.625971594  p_nom_opt: 4340.625971594\n",
      "Empty DataFrame\n",
      "Columns: [p_nom, p_nom_opt]\n",
      "Index: []\n"
     ]
    }
   ],
   "source": [
    "#installed capacity p_nom= nominal power (MW) and p_nom_opt= optimized nominal power (MW)\n",
    "\n",
    "gen_cap = n.generators.groupby([\"carrier\"]).sum()\n",
    "sto_cap = n.links.groupby([\"carrier\"]).sum()\n",
    "print(gen_cap[['p_nom','p_nom_opt']])\n",
    "print('\\nhydro storage : p_nom: ' + str(n.storage_units.sum()['p_nom'])+ '  p_nom_opt: '+str(n.storage_units.sum()['p_nom_opt']))\n",
    "print(sto_cap[['p_nom','p_nom_opt']])"
   ]
  },
  {
   "cell_type": "code",
   "execution_count": 28,
   "metadata": {},
   "outputs": [
    {
     "name": "stderr",
     "output_type": "stream",
     "text": [
      "C:\\Users\\hie\\AppData\\Local\\Temp\\ipykernel_30004\\2546167420.py:13: FutureWarning:\n",
      "\n",
      "DataFrame.groupby with axis=1 is deprecated. Do `frame.T.groupby(...)` without axis instead.\n",
      "\n",
      "C:\\Users\\hie\\AppData\\Local\\Temp\\ipykernel_30004\\2546167420.py:19: FutureWarning:\n",
      "\n",
      "DataFrame.groupby with axis=1 is deprecated. Do `frame.T.groupby(...)` without axis instead.\n",
      "\n",
      "C:\\Users\\hie\\AppData\\Local\\Temp\\ipykernel_30004\\2546167420.py:25: FutureWarning:\n",
      "\n",
      "DataFrame.groupby with axis=1 is deprecated. Do `frame.T.groupby(...)` without axis instead.\n",
      "\n",
      "C:\\Users\\hie\\AppData\\Local\\Temp\\ipykernel_30004\\2546167420.py:26: FutureWarning:\n",
      "\n",
      "DataFrame.groupby with axis=1 is deprecated. Do `frame.T.groupby(...)` without axis instead.\n",
      "\n",
      "C:\\Users\\hie\\AppData\\Local\\Temp\\ipykernel_30004\\2546167420.py:27: FutureWarning:\n",
      "\n",
      "DataFrame.groupby with axis=1 is deprecated. Do `frame.T.groupby(...)` without axis instead.\n",
      "\n",
      "C:\\Users\\hie\\AppData\\Local\\Temp\\ipykernel_30004\\2546167420.py:28: FutureWarning:\n",
      "\n",
      "DataFrame.groupby with axis=1 is deprecated. Do `frame.T.groupby(...)` without axis instead.\n",
      "\n",
      "C:\\Users\\hie\\AppData\\Local\\Temp\\ipykernel_30004\\2546167420.py:32: FutureWarning:\n",
      "\n",
      "DataFrame.groupby with axis=1 is deprecated. Do `frame.T.groupby(...)` without axis instead.\n",
      "\n",
      "C:\\Users\\hie\\AppData\\Local\\Temp\\ipykernel_30004\\2546167420.py:39: FutureWarning:\n",
      "\n",
      "DataFrame.groupby with axis=1 is deprecated. Do `frame.T.groupby(...)` without axis instead.\n",
      "\n",
      "C:\\Users\\hie\\AppData\\Local\\Temp\\ipykernel_30004\\2546167420.py:40: FutureWarning:\n",
      "\n",
      "DataFrame.groupby with axis=1 is deprecated. Do `frame.T.groupby(...)` without axis instead.\n",
      "\n",
      "C:\\Users\\hie\\AppData\\Local\\Temp\\ipykernel_30004\\2546167420.py:44: FutureWarning:\n",
      "\n",
      "DataFrame.groupby with axis=1 is deprecated. Do `frame.T.groupby(...)` without axis instead.\n",
      "\n",
      "C:\\Users\\hie\\AppData\\Local\\Temp\\ipykernel_30004\\2546167420.py:45: FutureWarning:\n",
      "\n",
      "DataFrame.groupby with axis=1 is deprecated. Do `frame.T.groupby(...)` without axis instead.\n",
      "\n",
      "C:\\Users\\hie\\AppData\\Local\\Temp\\ipykernel_30004\\2546167420.py:49: FutureWarning:\n",
      "\n",
      "DataFrame.groupby with axis=1 is deprecated. Do `frame.T.groupby(...)` without axis instead.\n",
      "\n",
      "C:\\Users\\hie\\AppData\\Local\\Temp\\ipykernel_30004\\2546167420.py:50: FutureWarning:\n",
      "\n",
      "DataFrame.groupby with axis=1 is deprecated. Do `frame.T.groupby(...)` without axis instead.\n",
      "\n",
      "C:\\Users\\hie\\AppData\\Local\\Temp\\ipykernel_30004\\2546167420.py:54: FutureWarning:\n",
      "\n",
      "DataFrame.groupby with axis=1 is deprecated. Do `frame.T.groupby(...)` without axis instead.\n",
      "\n",
      "C:\\Users\\hie\\AppData\\Local\\Temp\\ipykernel_30004\\2546167420.py:55: FutureWarning:\n",
      "\n",
      "DataFrame.groupby with axis=1 is deprecated. Do `frame.T.groupby(...)` without axis instead.\n",
      "\n",
      "C:\\Users\\hie\\AppData\\Local\\Temp\\ipykernel_30004\\2546167420.py:59: FutureWarning:\n",
      "\n",
      "DataFrame.groupby with axis=1 is deprecated. Do `frame.T.groupby(...)` without axis instead.\n",
      "\n",
      "C:\\Users\\hie\\AppData\\Local\\Temp\\ipykernel_30004\\2546167420.py:60: FutureWarning:\n",
      "\n",
      "DataFrame.groupby with axis=1 is deprecated. Do `frame.T.groupby(...)` without axis instead.\n",
      "\n",
      "C:\\Users\\hie\\AppData\\Local\\Temp\\ipykernel_30004\\2546167420.py:65: FutureWarning:\n",
      "\n",
      "DataFrame.groupby with axis=1 is deprecated. Do `frame.T.groupby(...)` without axis instead.\n",
      "\n"
     ]
    },
    {
     "data": {
      "image/png": "[encoded data removed]",
      "text/plain": [
       "<Figure size 1200x400 with 1 Axes>"
      ]
     },
     "metadata": {},
     "output_type": "display_data"
    },
    {
     "name": "stdout",
     "output_type": "stream",
     "text": [
      "                   p_nom     p_nom_opt\n",
      "carrier                               \n",
      "CCGT        1.192700e+03  1.348666e+03\n",
      "OCGT        1.850000e+02  1.850009e+02\n",
      "biomass     1.050000e+01  1.050003e+01\n",
      "coal        6.000000e+02  6.000000e+02\n",
      "geothermal  1.350000e+02  8.699071e+03\n",
      "load        6.700000e+07  6.700000e+07\n",
      "offwind-ac  0.000000e+00  7.522582e-03\n",
      "offwind-dc  0.000000e+00  3.949639e-03\n",
      "oil         8.880000e+01  8.880310e+01\n",
      "onwind      9.110989e-01  1.124903e+05\n",
      "ror         6.017862e+02  6.017862e+02\n",
      "solar       1.447202e+01  5.232733e+04\n",
      "\n",
      "hydro storage : p_nom: 4340.625971594  p_nom_opt: 4340.625971594\n",
      "Empty DataFrame\n",
      "Columns: [p_nom, p_nom_opt]\n",
      "Index: []\n"
     ]
    }
   ],
   "source": [
    "import matplotlib.pyplot as plt\n",
    "import cartopy.crs as ccrs\n",
    "import matplotlib.ticker as ticker\n",
    "import matplotlib.patches as mpatches\n",
    "import matplotlib.dates as mdates\n",
    "\n",
    "first_date = \"2013-01-01\"\n",
    "second_date = \"2014-01-01\"\n",
    "\n",
    "#Hourly solar curtailment calculation\n",
    "maximum_solar_generation = n.generators_t.p_max_pu.loc[first_date:second_date].filter(regex='solar') * n.generators.loc[[idx for idx in n.generators.index if 'solar' in idx]]['p_nom_opt']\n",
    "maximum_solar_generation = maximum_solar_generation.sum(axis=1)\n",
    "solar_generation = n.generators_t.p.loc[first_date:second_date].groupby(n.generators.carrier, axis=1).sum()[\"solar\"]\n",
    "curtailment_solar = maximum_solar_generation - solar_generation\n",
    "\n",
    "#Hourly wind curtailment calculation\n",
    "maximum_wind_generation = n.generators_t.p_max_pu.loc[first_date:second_date].filter(regex='onwind') * n.generators.loc[[idx for idx in n.generators.index if 'onwind' in idx]]['p_nom_opt']\n",
    "maximum_wind_generation = maximum_wind_generation.sum(axis=1)\n",
    "wind_generation = n.generators_t.p.loc[first_date:second_date].groupby(n.generators.carrier, axis=1).sum()[\"onwind\"]\n",
    "curtailment_wind = maximum_wind_generation- wind_generation\n",
    "\n",
    "curtailment = curtailment_solar + curtailment_wind\n",
    "\n",
    "#Hourly generation per technology\n",
    "CCGT = n.generators_t.p.loc[first_date:second_date].groupby(n.generators.carrier, axis=1).sum()[\"CCGT\"]\n",
    "Onwind = n.generators_t.p.loc[first_date:second_date].groupby(n.generators.carrier, axis=1).sum()[\"onwind\"]\n",
    "solar = n.generators_t.p.loc[first_date:second_date].groupby(n.generators.carrier, axis=1).sum()[\"solar\"]\n",
    "oil = n.generators_t.p.loc[first_date:second_date].groupby(n.generators.carrier, axis=1).sum()[\"oil\"]\n",
    "\n",
    "\n",
    "#LoadShedding\n",
    "load = n.generators_t.p.loc[first_date:second_date].groupby(n.generators.carrier, axis=1).sum()[\"load\"]\n",
    "\n",
    "#Hourly load/demand \n",
    "demand = n.loads_t.p_set.loc[first_date:second_date].sum(axis=1)*-1\n",
    "\n",
    "size = CCGT.shape[0]\n",
    "\n",
    "if \"ror\" in n.generators_t.p.loc[first_date:second_date].groupby(n.generators.carrier, axis=1).sum().columns:\n",
    "    ror = n.generators_t.p.loc[first_date:second_date].groupby(n.generators.carrier, axis=1).sum()[\"ror\"]\n",
    "else:\n",
    "    ror = np.zeros(size)\n",
    "    \n",
    "if \"biomass\" in n.generators_t.p.loc[first_date:second_date].groupby(n.generators.carrier, axis=1).sum().columns:\n",
    "    biomass = n.generators_t.p.loc[first_date:second_date].groupby(n.generators.carrier, axis=1).sum()[\"biomass\"]\n",
    "else:\n",
    "    biomass = None\n",
    "\n",
    "if \"OCGT\" in n.generators_t.p.loc[first_date:second_date].groupby(n.generators.carrier, axis=1).sum().columns:\n",
    "    OCGT = n.generators_t.p.loc[first_date:second_date].groupby(n.generators.carrier, axis=1).sum()[\"OCGT\"]\n",
    "else:\n",
    "    OCGT = None\n",
    "    \n",
    "if \"CCGT\" in n.generators_t.p.loc[first_date:second_date].groupby(n.generators.carrier, axis=1).sum().columns:\n",
    "    CCGT = n.generators_t.p.loc[first_date:second_date].groupby(n.generators.carrier, axis=1).sum()[\"CCGT\"]\n",
    "else:\n",
    "    CCGT = np.zeros(size)\n",
    "\n",
    "if \"load\" in n.generators_t.p.loc[first_date:second_date].groupby(n.generators.carrier, axis=1).sum().columns:\n",
    "    load = n.generators_t.p.loc[first_date:second_date].groupby(n.generators.carrier, axis=1).sum()[\"load\"]/1000\n",
    "else:\n",
    "    load = np.zeros(size)\n",
    "\n",
    "    \n",
    "if \"battery\" in  n.stores_t.p.loc[first_date:second_date].groupby(n.stores.carrier, axis=1).sum().columns:\n",
    "    battery = n.stores_t.p.loc[first_date:second_date].groupby(n.stores.carrier, axis=1).sum()[\"battery\"]\n",
    "else:\n",
    "    battery = np.zeros(size)\n",
    "\n",
    "if not n.storage_units_t.p.loc[first_date:second_date].sum(axis=1).empty:\n",
    "    reservoir = n.storage_units_t.p.loc[first_date:second_date].sum(axis=1)\n",
    "else:\n",
    "    reservoir = np.zeros(size)\n",
    "    \n",
    "\n",
    "\n",
    "#Hourly storage charge or discharge \n",
    "i=0\n",
    "nbattery = []\n",
    "pbattery =[]\n",
    "for i in battery:\n",
    "    if i < 0:\n",
    "        nbattery.append(i)\n",
    "    else:\n",
    "        nbattery.append(0) \n",
    "for i in battery:\n",
    "    if i > 0:\n",
    "        pbattery.append(i)\n",
    "    else:\n",
    "        pbattery.append(0) \n",
    "\n",
    "\n",
    "\n",
    "# create a figure with a single subplot\n",
    "fig, ax = plt.subplots(figsize=(12, 4))\n",
    "\n",
    "# adjust the position of the subplot so that it only takes up 2/3 of the available space\n",
    "ax.set_position([0.1, 0.1, 0.75, 0.9])\n",
    "\n",
    "\n",
    "CCGT_color='slategrey'\n",
    "Onwind_color='#ff8200'\n",
    "\n",
    "Solar_color='gold'\n",
    "curtailment_color = 'maroon'\n",
    "ror_color='lightsteelblue'\n",
    "reservoir_color='steelblue'\n",
    "battery_color='tan'\n",
    "oil_color='dimgrey'\n",
    "biomass_color='#73A917'\n",
    "demand_color='gainsboro'\n",
    "lostload_color = \"maroon\"\n",
    "\n",
    "# Prepare data for stackplot\n",
    "stack_data = [CCGT, Onwind, solar, curtailment, ror, reservoir, pbattery, oil, load]\n",
    "stack_colors = [CCGT_color, Onwind_color, Solar_color, curtailment_color, ror_color, reservoir_color, battery_color, oil_color, demand_color]\n",
    "\n",
    "if biomass is not None:\n",
    "    stack_data.append(biomass)\n",
    "    stack_colors.append(biomass_color)\n",
    "\n",
    "if OCGT is not None:\n",
    "    stack_data.append(OCGT)\n",
    "    stack_colors.append('lightcoral')\n",
    "\n",
    "# Create the stackplot\n",
    "plt.stackplot(CCGT.index, *stack_data, colors=stack_colors, zorder=3)\n",
    "\n",
    "\n",
    "plt.stackplot(CCGT.index,demand,nbattery, colors=[demand_color,battery_color], zorder = 3)\n",
    "plt.xticks(rotation = 45)\n",
    "plt.yticks()\n",
    "scale_y = 1e3\n",
    "ticks_y = ticker.FuncFormatter(lambda x, pos: '{0:g}'.format(x/scale_y))\n",
    "ax.yaxis.set_major_formatter(ticks_y)\n",
    "myFmt = mdates.DateFormatter('%d')\n",
    "ax.xaxis.set_major_formatter(myFmt)\n",
    "ax.set_ylabel('GW')\n",
    "ax.set_xlabel('Year')\n",
    "\n",
    "\n",
    "CCGT_patch = mpatches.Patch(color=CCGT_color, label ='CCGT')\n",
    "wind_patch = mpatches.Patch(color=Onwind_color, label ='Onshore wind')\n",
    "solar_patch = mpatches.Patch(color=Solar_color, label ='Solar')\n",
    "curtailment_patch = mpatches.Patch(color=curtailment_color, label = 'Curtailment')\n",
    "ror_patch = mpatches.Patch(color=ror_color, label ='Run Of River')\n",
    "reservoir_patch = mpatches.Patch(color=reservoir_color, label ='Reservoir')\n",
    "\n",
    "battery_patch = mpatches.Patch(color=battery_color, label ='Battery')\n",
    "oil_patch = mpatches.Patch(color=oil_color, label ='Oil')\n",
    "biomass_patch = mpatches.Patch(color=biomass_color, label ='Biomass')\n",
    "load_patch = mpatches.Patch(color=demand_color, label ='Demand')\n",
    "\n",
    "lostload_patch = mpatches.Patch(color=demand_color, label ='LostLoad')\n",
    "\n",
    "handles = [\n",
    "    CCGT_patch, wind_patch, solar_patch, curtailment_patch,\n",
    "    ror_patch, reservoir_patch, oil_patch, load_patch, battery_patch\n",
    "]\n",
    "\n",
    "if biomass is not None:\n",
    "    handles.append(biomass_patch)\n",
    "\n",
    "if OCGT is not None:\n",
    "    handles.append(mpatches.Patch(color='lightcoral', label='OCGT'))    \n",
    "\n",
    "ax.legend(handles=handles, loc=\"center right\", bbox_to_anchor=(1.19, 0.5))\n",
    "\n",
    "image_format = '.png' \n",
    "\n",
    "\n",
    "plt.show()\n",
    "\n",
    "gen_cap = n.generators.groupby([\"carrier\"]).sum()\n",
    "sto_cap = n.links.groupby([\"carrier\"]).sum()\n",
    "print(gen_cap[['p_nom','p_nom_opt']])\n",
    "print('\\nhydro storage : p_nom: ' + str(n.storage_units.sum()['p_nom'])+ '  p_nom_opt: '+str(n.storage_units.sum()['p_nom_opt']))\n",
    "print(sto_cap[['p_nom','p_nom_opt']])\n"
   ]
  },
  {
   "cell_type": "code",
   "execution_count": 29,
   "metadata": {},
   "outputs": [
    {
     "name": "stdout",
     "output_type": "stream",
     "text": [
      "CCGT generation (MWh) = 2100423\n",
      "OCGT generation (MWh) = 935\n",
      "oil generation (MWh) = 1426\n",
      "biomass generation (MWh) = 9504\n",
      "geothermal generation (MWh) = 64246244\n",
      "onwind generation (MWh) = 3382542\n",
      "solar generation (MWh) = 6420358\n",
      "ror generation (MWh) = 136008\n",
      " generation (MWh) = 0 (not present in the network)\n",
      "hydro generation (MWh) = 878263\n"
     ]
    }
   ],
   "source": [
    "# List of generator carriers\n",
    "generator_list = [\"CCGT\", \"OCGT\", \"oil\", \"biomass\", \"geothermal\", \"onwind\", \"solar\", \"ror\",\"\"]\n",
    "\n",
    "# Loop through each carrier in the generator list\n",
    "for carrier in generator_list:\n",
    "    # Filter generators by carrier and sum their generation\n",
    "    if carrier in n.generators.carrier.unique():\n",
    "        generation = n.generators_t.p.loc[:, n.generators[n.generators.carrier == carrier].index].sum().sum()\n",
    "        print(f\"{carrier} generation (MWh) = {round(generation)}\")\n",
    "    else:\n",
    "        print(f\"{carrier} generation (MWh) = 0 (not present in the network)\")\n",
    "\n",
    "# List of storage unit carriers\n",
    "generator_list2 = [\"hydro\"]\n",
    "\n",
    "# Loop through each carrier in the storage unit list\n",
    "for carrier in generator_list2:\n",
    "    # Filter storage units by carrier and sum their generation\n",
    "    if carrier in n.storage_units.carrier.unique():\n",
    "        generation = n.storage_units_t.p.loc[:, n.storage_units[n.storage_units.carrier == carrier].index].sum().sum()\n",
    "        print(f\"{carrier} generation (MWh) = {round(generation)}\")\n",
    "    else:\n",
    "        print(f\"{carrier} generation (MWh) = 0 (not present in the network)\")"
   ]
  },
  {
   "cell_type": "markdown",
   "metadata": {},
   "source": [
    "Lost load"
   ]
  },
  {
   "cell_type": "code",
   "execution_count": 30,
   "metadata": {},
   "outputs": [
    {
     "data": {
      "text/plain": [
       "78849999.99998802"
      ]
     },
     "execution_count": 30,
     "metadata": {},
     "output_type": "execute_result"
    }
   ],
   "source": [
    "demand = n.loads_t.p_set.loc[\"2013\"].sum(axis=1)\n",
    "demand.idxmax()\n",
    "demand.sum()"
   ]
  },
  {
   "cell_type": "code",
   "execution_count": 31,
   "metadata": {},
   "outputs": [
    {
     "name": "stderr",
     "output_type": "stream",
     "text": [
      "C:\\Users\\hie\\AppData\\Local\\Temp\\ipykernel_30004\\1555212878.py:1: FutureWarning:\n",
      "\n",
      "DataFrame.groupby with axis=1 is deprecated. Do `frame.T.groupby(...)` without axis instead.\n",
      "\n"
     ]
    },
    {
     "data": {
      "text/plain": [
       "1674279208"
      ]
     },
     "execution_count": 31,
     "metadata": {},
     "output_type": "execute_result"
    }
   ],
   "source": [
    "load_shedding = n.generators_t.p.loc[\"2013\"].groupby(n.generators.carrier, axis=1).sum()[\"load\"]\n",
    "round(load_shedding.sum())"
   ]
  },
  {
   "cell_type": "code",
   "execution_count": 32,
   "metadata": {},
   "outputs": [
    {
     "data": {
      "text/plain": [
       "Peak LL    623.507411\n",
       "dtype: float64"
      ]
     },
     "execution_count": 32,
     "metadata": {},
     "output_type": "execute_result"
    }
   ],
   "source": [
    "#LL or Loadshedding is in kW/kWh \n",
    "lostload = n.generators_t.p.filter(like= \"load\")\n",
    "#lostload.idxmax()\n",
    "peakLL = pd.DataFrame(index = lostload.index)\n",
    "peakLL[\"Peak LL\"] = lostload.max(axis=1)/1000\n",
    "sortedLL = peakLL.sort_values(\"Peak LL\", ascending=False)\n",
    "LL_contribution = sortedLL.iloc[0:9]\n",
    "LL_contribution.mean()"
   ]
  },
  {
   "cell_type": "code",
   "execution_count": 33,
   "metadata": {},
   "outputs": [
    {
     "ename": "KeyError",
     "evalue": "\"labels ['Link' 'Store'] not found in level\"",
     "output_type": "error",
     "traceback": [
      "\u001b[1;31m---------------------------------------------------------------------------\u001b[0m",
      "\u001b[1;31mKeyError\u001b[0m                                  Traceback (most recent call last)",
      "Cell \u001b[1;32mIn[33], line 4\u001b[0m\n\u001b[0;32m      1\u001b[0m \u001b[38;5;66;03m#selecting generation capacities from statistics\u001b[39;00m\n\u001b[0;32m      2\u001b[0m \u001b[38;5;66;03m# Load and process generation capacities\u001b[39;00m\n\u001b[0;32m      3\u001b[0m capacities \u001b[38;5;241m=\u001b[39m pd\u001b[38;5;241m.\u001b[39mDataFrame(n\u001b[38;5;241m.\u001b[39mstatistics\u001b[38;5;241m.\u001b[39moptimal_capacity())\n\u001b[1;32m----> 4\u001b[0m capacities \u001b[38;5;241m=\u001b[39m \u001b[43mcapacities\u001b[49m\u001b[38;5;241;43m.\u001b[39;49m\u001b[43mdrop\u001b[49m\u001b[43m(\u001b[49m\u001b[43mindex\u001b[49m\u001b[38;5;241;43m=\u001b[39;49m\u001b[43m[\u001b[49m\u001b[38;5;124;43m'\u001b[39;49m\u001b[38;5;124;43mLine\u001b[39;49m\u001b[38;5;124;43m'\u001b[39;49m\u001b[43m,\u001b[49m\u001b[43m \u001b[49m\u001b[38;5;124;43m'\u001b[39;49m\u001b[38;5;124;43mLoad\u001b[39;49m\u001b[38;5;124;43m'\u001b[39;49m\u001b[43m,\u001b[49m\u001b[43m \u001b[49m\u001b[38;5;124;43m'\u001b[39;49m\u001b[38;5;124;43mLink\u001b[39;49m\u001b[38;5;124;43m'\u001b[39;49m\u001b[43m,\u001b[49m\u001b[43m \u001b[49m\u001b[38;5;124;43m'\u001b[39;49m\u001b[38;5;124;43mStore\u001b[39;49m\u001b[38;5;124;43m'\u001b[39;49m\u001b[43m]\u001b[49m\u001b[43m,\u001b[49m\u001b[43m \u001b[49m\u001b[43mlevel\u001b[49m\u001b[38;5;241;43m=\u001b[39;49m\u001b[38;5;241;43m0\u001b[39;49m\u001b[43m)\u001b[49m\n\u001b[0;32m      5\u001b[0m capacities \u001b[38;5;241m=\u001b[39m capacities\u001b[38;5;241m.\u001b[39mreset_index(level\u001b[38;5;241m=\u001b[39m\u001b[38;5;241m0\u001b[39m, drop\u001b[38;5;241m=\u001b[39m\u001b[38;5;28;01mTrue\u001b[39;00m)\n\u001b[0;32m      6\u001b[0m capacities\u001b[38;5;241m.\u001b[39mrename(columns\u001b[38;5;241m=\u001b[39m{\u001b[38;5;241m0\u001b[39m: \u001b[38;5;124m\"\u001b[39m\u001b[38;5;124mMW\u001b[39m\u001b[38;5;124m\"\u001b[39m}, inplace\u001b[38;5;241m=\u001b[39m\u001b[38;5;28;01mTrue\u001b[39;00m)\n",
      "File \u001b[1;32mc:\\Users\\hie\\AppData\\Local\\anaconda3\\envs\\pypsa-earth\\lib\\site-packages\\pandas\\core\\frame.py:5581\u001b[0m, in \u001b[0;36mDataFrame.drop\u001b[1;34m(self, labels, axis, index, columns, level, inplace, errors)\u001b[0m\n\u001b[0;32m   5433\u001b[0m \u001b[38;5;28;01mdef\u001b[39;00m\u001b[38;5;250m \u001b[39m\u001b[38;5;21mdrop\u001b[39m(\n\u001b[0;32m   5434\u001b[0m     \u001b[38;5;28mself\u001b[39m,\n\u001b[0;32m   5435\u001b[0m     labels: IndexLabel \u001b[38;5;241m|\u001b[39m \u001b[38;5;28;01mNone\u001b[39;00m \u001b[38;5;241m=\u001b[39m \u001b[38;5;28;01mNone\u001b[39;00m,\n\u001b[1;32m   (...)\u001b[0m\n\u001b[0;32m   5442\u001b[0m     errors: IgnoreRaise \u001b[38;5;241m=\u001b[39m \u001b[38;5;124m\"\u001b[39m\u001b[38;5;124mraise\u001b[39m\u001b[38;5;124m\"\u001b[39m,\n\u001b[0;32m   5443\u001b[0m ) \u001b[38;5;241m-\u001b[39m\u001b[38;5;241m>\u001b[39m DataFrame \u001b[38;5;241m|\u001b[39m \u001b[38;5;28;01mNone\u001b[39;00m:\n\u001b[0;32m   5444\u001b[0m \u001b[38;5;250m    \u001b[39m\u001b[38;5;124;03m\"\"\"\u001b[39;00m\n\u001b[0;32m   5445\u001b[0m \u001b[38;5;124;03m    Drop specified labels from rows or columns.\u001b[39;00m\n\u001b[0;32m   5446\u001b[0m \n\u001b[1;32m   (...)\u001b[0m\n\u001b[0;32m   5579\u001b[0m \u001b[38;5;124;03m            weight  1.0     0.8\u001b[39;00m\n\u001b[0;32m   5580\u001b[0m \u001b[38;5;124;03m    \"\"\"\u001b[39;00m\n\u001b[1;32m-> 5581\u001b[0m     \u001b[38;5;28;01mreturn\u001b[39;00m \u001b[38;5;28;43msuper\u001b[39;49m\u001b[43m(\u001b[49m\u001b[43m)\u001b[49m\u001b[38;5;241;43m.\u001b[39;49m\u001b[43mdrop\u001b[49m\u001b[43m(\u001b[49m\n\u001b[0;32m   5582\u001b[0m \u001b[43m        \u001b[49m\u001b[43mlabels\u001b[49m\u001b[38;5;241;43m=\u001b[39;49m\u001b[43mlabels\u001b[49m\u001b[43m,\u001b[49m\n\u001b[0;32m   5583\u001b[0m \u001b[43m        \u001b[49m\u001b[43maxis\u001b[49m\u001b[38;5;241;43m=\u001b[39;49m\u001b[43maxis\u001b[49m\u001b[43m,\u001b[49m\n\u001b[0;32m   5584\u001b[0m \u001b[43m        \u001b[49m\u001b[43mindex\u001b[49m\u001b[38;5;241;43m=\u001b[39;49m\u001b[43mindex\u001b[49m\u001b[43m,\u001b[49m\n\u001b[0;32m   5585\u001b[0m \u001b[43m        \u001b[49m\u001b[43mcolumns\u001b[49m\u001b[38;5;241;43m=\u001b[39;49m\u001b[43mcolumns\u001b[49m\u001b[43m,\u001b[49m\n\u001b[0;32m   5586\u001b[0m \u001b[43m        \u001b[49m\u001b[43mlevel\u001b[49m\u001b[38;5;241;43m=\u001b[39;49m\u001b[43mlevel\u001b[49m\u001b[43m,\u001b[49m\n\u001b[0;32m   5587\u001b[0m \u001b[43m        \u001b[49m\u001b[43minplace\u001b[49m\u001b[38;5;241;43m=\u001b[39;49m\u001b[43minplace\u001b[49m\u001b[43m,\u001b[49m\n\u001b[0;32m   5588\u001b[0m \u001b[43m        \u001b[49m\u001b[43merrors\u001b[49m\u001b[38;5;241;43m=\u001b[39;49m\u001b[43merrors\u001b[49m\u001b[43m,\u001b[49m\n\u001b[0;32m   5589\u001b[0m \u001b[43m    \u001b[49m\u001b[43m)\u001b[49m\n",
      "File \u001b[1;32mc:\\Users\\hie\\AppData\\Local\\anaconda3\\envs\\pypsa-earth\\lib\\site-packages\\pandas\\core\\generic.py:4788\u001b[0m, in \u001b[0;36mNDFrame.drop\u001b[1;34m(self, labels, axis, index, columns, level, inplace, errors)\u001b[0m\n\u001b[0;32m   4786\u001b[0m \u001b[38;5;28;01mfor\u001b[39;00m axis, labels \u001b[38;5;129;01min\u001b[39;00m axes\u001b[38;5;241m.\u001b[39mitems():\n\u001b[0;32m   4787\u001b[0m     \u001b[38;5;28;01mif\u001b[39;00m labels \u001b[38;5;129;01mis\u001b[39;00m \u001b[38;5;129;01mnot\u001b[39;00m \u001b[38;5;28;01mNone\u001b[39;00m:\n\u001b[1;32m-> 4788\u001b[0m         obj \u001b[38;5;241m=\u001b[39m \u001b[43mobj\u001b[49m\u001b[38;5;241;43m.\u001b[39;49m\u001b[43m_drop_axis\u001b[49m\u001b[43m(\u001b[49m\u001b[43mlabels\u001b[49m\u001b[43m,\u001b[49m\u001b[43m \u001b[49m\u001b[43maxis\u001b[49m\u001b[43m,\u001b[49m\u001b[43m \u001b[49m\u001b[43mlevel\u001b[49m\u001b[38;5;241;43m=\u001b[39;49m\u001b[43mlevel\u001b[49m\u001b[43m,\u001b[49m\u001b[43m \u001b[49m\u001b[43merrors\u001b[49m\u001b[38;5;241;43m=\u001b[39;49m\u001b[43merrors\u001b[49m\u001b[43m)\u001b[49m\n\u001b[0;32m   4790\u001b[0m \u001b[38;5;28;01mif\u001b[39;00m inplace:\n\u001b[0;32m   4791\u001b[0m     \u001b[38;5;28mself\u001b[39m\u001b[38;5;241m.\u001b[39m_update_inplace(obj)\n",
      "File \u001b[1;32mc:\\Users\\hie\\AppData\\Local\\anaconda3\\envs\\pypsa-earth\\lib\\site-packages\\pandas\\core\\generic.py:4828\u001b[0m, in \u001b[0;36mNDFrame._drop_axis\u001b[1;34m(self, labels, axis, level, errors, only_slice)\u001b[0m\n\u001b[0;32m   4826\u001b[0m     \u001b[38;5;28;01mif\u001b[39;00m \u001b[38;5;129;01mnot\u001b[39;00m \u001b[38;5;28misinstance\u001b[39m(axis, MultiIndex):\n\u001b[0;32m   4827\u001b[0m         \u001b[38;5;28;01mraise\u001b[39;00m \u001b[38;5;167;01mAssertionError\u001b[39;00m(\u001b[38;5;124m\"\u001b[39m\u001b[38;5;124maxis must be a MultiIndex\u001b[39m\u001b[38;5;124m\"\u001b[39m)\n\u001b[1;32m-> 4828\u001b[0m     new_axis \u001b[38;5;241m=\u001b[39m \u001b[43maxis\u001b[49m\u001b[38;5;241;43m.\u001b[39;49m\u001b[43mdrop\u001b[49m\u001b[43m(\u001b[49m\u001b[43mlabels\u001b[49m\u001b[43m,\u001b[49m\u001b[43m \u001b[49m\u001b[43mlevel\u001b[49m\u001b[38;5;241;43m=\u001b[39;49m\u001b[43mlevel\u001b[49m\u001b[43m,\u001b[49m\u001b[43m \u001b[49m\u001b[43merrors\u001b[49m\u001b[38;5;241;43m=\u001b[39;49m\u001b[43merrors\u001b[49m\u001b[43m)\u001b[49m\n\u001b[0;32m   4829\u001b[0m \u001b[38;5;28;01melse\u001b[39;00m:\n\u001b[0;32m   4830\u001b[0m     new_axis \u001b[38;5;241m=\u001b[39m axis\u001b[38;5;241m.\u001b[39mdrop(labels, errors\u001b[38;5;241m=\u001b[39merrors)\n",
      "File \u001b[1;32mc:\\Users\\hie\\AppData\\Local\\anaconda3\\envs\\pypsa-earth\\lib\\site-packages\\pandas\\core\\indexes\\multi.py:2408\u001b[0m, in \u001b[0;36mMultiIndex.drop\u001b[1;34m(self, codes, level, errors)\u001b[0m\n\u001b[0;32m   2361\u001b[0m \u001b[38;5;250m\u001b[39m\u001b[38;5;124;03m\"\"\"\u001b[39;00m\n\u001b[0;32m   2362\u001b[0m \u001b[38;5;124;03mMake a new :class:`pandas.MultiIndex` with the passed list of codes deleted.\u001b[39;00m\n\u001b[0;32m   2363\u001b[0m \n\u001b[1;32m   (...)\u001b[0m\n\u001b[0;32m   2405\u001b[0m \u001b[38;5;124;03m           names=['number', 'color'])\u001b[39;00m\n\u001b[0;32m   2406\u001b[0m \u001b[38;5;124;03m\"\"\"\u001b[39;00m\n\u001b[0;32m   2407\u001b[0m \u001b[38;5;28;01mif\u001b[39;00m level \u001b[38;5;129;01mis\u001b[39;00m \u001b[38;5;129;01mnot\u001b[39;00m \u001b[38;5;28;01mNone\u001b[39;00m:\n\u001b[1;32m-> 2408\u001b[0m     \u001b[38;5;28;01mreturn\u001b[39;00m \u001b[38;5;28;43mself\u001b[39;49m\u001b[38;5;241;43m.\u001b[39;49m\u001b[43m_drop_from_level\u001b[49m\u001b[43m(\u001b[49m\u001b[43mcodes\u001b[49m\u001b[43m,\u001b[49m\u001b[43m \u001b[49m\u001b[43mlevel\u001b[49m\u001b[43m,\u001b[49m\u001b[43m \u001b[49m\u001b[43merrors\u001b[49m\u001b[43m)\u001b[49m\n\u001b[0;32m   2410\u001b[0m \u001b[38;5;28;01mif\u001b[39;00m \u001b[38;5;129;01mnot\u001b[39;00m \u001b[38;5;28misinstance\u001b[39m(codes, (np\u001b[38;5;241m.\u001b[39mndarray, Index)):\n\u001b[0;32m   2411\u001b[0m     \u001b[38;5;28;01mtry\u001b[39;00m:\n",
      "File \u001b[1;32mc:\\Users\\hie\\AppData\\Local\\anaconda3\\envs\\pypsa-earth\\lib\\site-packages\\pandas\\core\\indexes\\multi.py:2462\u001b[0m, in \u001b[0;36mMultiIndex._drop_from_level\u001b[1;34m(self, codes, level, errors)\u001b[0m\n\u001b[0;32m   2460\u001b[0m not_found \u001b[38;5;241m=\u001b[39m codes[values \u001b[38;5;241m==\u001b[39m \u001b[38;5;241m-\u001b[39m\u001b[38;5;241m2\u001b[39m]\n\u001b[0;32m   2461\u001b[0m \u001b[38;5;28;01mif\u001b[39;00m \u001b[38;5;28mlen\u001b[39m(not_found) \u001b[38;5;241m!=\u001b[39m \u001b[38;5;241m0\u001b[39m \u001b[38;5;129;01mand\u001b[39;00m errors \u001b[38;5;241m!=\u001b[39m \u001b[38;5;124m\"\u001b[39m\u001b[38;5;124mignore\u001b[39m\u001b[38;5;124m\"\u001b[39m:\n\u001b[1;32m-> 2462\u001b[0m     \u001b[38;5;28;01mraise\u001b[39;00m \u001b[38;5;167;01mKeyError\u001b[39;00m(\u001b[38;5;124mf\u001b[39m\u001b[38;5;124m\"\u001b[39m\u001b[38;5;124mlabels \u001b[39m\u001b[38;5;132;01m{\u001b[39;00mnot_found\u001b[38;5;132;01m}\u001b[39;00m\u001b[38;5;124m not found in level\u001b[39m\u001b[38;5;124m\"\u001b[39m)\n\u001b[0;32m   2463\u001b[0m mask \u001b[38;5;241m=\u001b[39m \u001b[38;5;241m~\u001b[39malgos\u001b[38;5;241m.\u001b[39misin(\u001b[38;5;28mself\u001b[39m\u001b[38;5;241m.\u001b[39mcodes[i], values)\n\u001b[0;32m   2465\u001b[0m \u001b[38;5;28;01mreturn\u001b[39;00m \u001b[38;5;28mself\u001b[39m[mask]\n",
      "\u001b[1;31mKeyError\u001b[0m: \"labels ['Link' 'Store'] not found in level\""
     ]
    }
   ],
   "source": [
    "#selecting generation capacities from statistics\n",
    "# Load and process generation capacities\n",
    "capacities = pd.DataFrame(n.statistics.optimal_capacity())\n",
    "capacities = capacities.drop(index=['Line', 'Load', 'Link', 'Store'], level=0)\n",
    "capacities = capacities.reset_index(level=0, drop=True)\n",
    "capacities.rename(columns={0: \"MW\"}, inplace=True)\n",
    "capacities.index.name = \"Technology\"\n",
    "capacities = capacities.drop(index=['load'])\n",
    "capacities['Percentage'] = capacities['MW'] / capacities['MW'].sum() * 100\n",
    "\n",
    "# Define colors for each technology\n",
    "H2_color = 'darkgoldenrod'\n",
    "battery_color = 'tan'\n",
    "demand_color = 'slategrey'\n",
    "aggregated_small_capacities = 'black'\n",
    "\n",
    "for i in range(len(capacities.index)):\n",
    "    tech = capacities.index[i]  # Access the index value, which is the technology name\n",
    "    if tech == \"Open-Cycle Gas\":\n",
    "        capacities.loc[tech, \"Color\"] = 'lightcoral'\n",
    "    elif tech == \"Combined-Cycle Gas\":\n",
    "        capacities.loc[tech, \"Color\"] = 'indianred'\n",
    "    elif tech == \"Solar\":\n",
    "        capacities.loc[tech, \"Color\"] = 'gold'\n",
    "    elif tech == \"Run of River\":\n",
    "        capacities.loc[tech, \"Color\"] = 'lightsteelblue'\n",
    "    elif tech == \"Onshore Wind\":\n",
    "        capacities.loc[tech, \"Color\"] = '#ff8200'\n",
    "    elif tech == \"Reservoir & Dam\":\n",
    "        capacities.loc[tech, \"Color\"] = 'steelblue'\n",
    "    elif tech == \"Oil\":\n",
    "        capacities.loc[tech, \"Color\"] = 'grey'\n",
    "    elif tech == \"Geothermal\":\n",
    "        capacities.loc[tech, \"Color\"] = 'purple'\n",
    "    elif tech == \"Biomass\":\n",
    "        capacities.loc[tech, \"Color\"] = '#73A917'\n",
    "\n",
    "# Handle small capacities\n",
    "small_capacities = capacities[capacities['Percentage'] < 2]\n",
    "capacities.loc['Others'] = [small_capacities['MW'].sum(), small_capacities['Percentage'].sum(), aggregated_small_capacities]\n",
    "capacities = capacities.drop(index=small_capacities.index)\n",
    "capacities = capacities.sort_index()\n",
    "\n",
    "# Plot installed capacities\n",
    "plt.figure(figsize=(5, 5))\n",
    "plt.pie(\n",
    "    capacities['MW'], \n",
    "    labels=capacities.index, \n",
    "    colors=capacities['Color'], \n",
    "    autopct='%1.1f%%', \n",
    "    startangle=100, \n",
    "    pctdistance=0.85, \n",
    "    wedgeprops={'width': 0.4}\n",
    ")\n",
    "plt.axis('equal')  # Equal aspect ratio ensures that pie is drawn as a circle.\n",
    "\n",
    "# Calculate total installed capacities\n",
    "total_capacity = capacities['MW'].sum()\n",
    "\n",
    "# Add the total energy annotation at the center of the pie chart\n",
    "plt.text(0, 0, f'Total installed capacity: \\n {int(total_capacity)} MW', fontsize=11, color='black', ha='center')\n",
    "plt.title('Installed Capacities by Technology')\n",
    "plt.show()"
   ]
  }
 ],
 "metadata": {
  "kernelspec": {
   "display_name": "pypsa-earth",
   "language": "python",
   "name": "python3"
  },
  "language_info": {
   "codemirror_mode": {
    "name": "ipython",
    "version": 3
   },
   "file_extension": ".py",
   "mimetype": "text/x-python",
   "name": "python",
   "nbconvert_exporter": "python",
   "pygments_lexer": "ipython3",
   "version": "3.10.16"
  }
 },
 "nbformat": 4,
 "nbformat_minor": 2
}
