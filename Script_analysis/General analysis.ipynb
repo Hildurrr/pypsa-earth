{
 "cells": [
  {
   "cell_type": "markdown",
   "metadata": {},
   "source": [
    "Analysis code from PyPSA-BO\n",
    "\n",
    "https://github.com/CIE-UMSS/PyPSA-BO/blob/main/Results_analysis/EnergyScope-PyPSA/general_analysis.ipynb"
   ]
  },
  {
   "cell_type": "code",
   "execution_count": 71,
   "metadata": {},
   "outputs": [
    {
     "name": "stderr",
     "output_type": "stream",
     "text": [
      "INFO:pypsa.io:Imported network base.nc has buses, lines, transformers\n",
      "INFO:pypsa.io:Imported network elec.nc has buses, carriers, generators, lines, loads, storage_units, transformers\n",
      "INFO:pypsa.io:Imported network elec_s.nc has buses, carriers, generators, lines, loads, storage_units\n",
      "INFO:pypsa.io:Imported network elec_s_all.nc has buses, carriers, generators, lines, loads, storage_units\n",
      "INFO:pypsa.io:Imported network elec_s_all_ec_lcopt_1h.nc has buses, carriers, generators, lines, links, loads, storage_units, stores\n"
     ]
    }
   ],
   "source": [
    "#Libraries import for running the code\n",
    "\n",
    "import logging\n",
    "import os\n",
    "\n",
    "import pypsa\n",
    "import yaml\n",
    "import pandas as pd\n",
    "import geopandas as gpd\n",
    "#import geoviews as gv\n",
    "#import hvplot.pandas \n",
    "import numpy as np\n",
    "import scipy as sp\n",
    "import networkx as nx\n",
    "\n",
    "# plotting stuff\n",
    "import matplotlib.pyplot as plt\n",
    "import cartopy\n",
    "\n",
    "# data exploration\n",
    "import xarray as xr\n",
    "\n",
    "plt.style.use(\"bmh\")\n",
    "import seaborn as sns  ###\n",
    "import cartopy.crs as ccrs\n",
    "\n",
    "sns.set(style=\"darkgrid\")\n",
    "\n",
    "from scipy.sparse import csgraph\n",
    "from itertools import product\n",
    "\n",
    "from shapely.geometry import Point, LineString\n",
    "import shapely, shapely.prepared, shapely.wkt\n",
    "\n",
    "logger = logging.getLogger(__name__)\n",
    "\n",
    "pd.set_option(\"display.max_columns\", None)\n",
    "pd.set_option(\"display.max_colwidth\", 70)\n",
    "\n",
    "\n",
    "\n",
    "max_node_size = 1.0  # maximum size of a node for plotting purposes [used in plots]\n",
    "\n",
    "# utility function for nice plotting\n",
    "\n",
    "def normalize_node_size(values, max_node_size=max_node_size):\n",
    "    return values / values.max() * max_node_size\n",
    "\n",
    "#Load different networks\n",
    "\n",
    "base_network= \"C:/Users/hie/pe_tan/pypsa-earth/results/networks/base.nc\"\n",
    "n_base= pypsa.Network(base_network) #network with all components available in the data sources \n",
    "\n",
    "added_network = \"C:/Users/hie/pe_tan/pypsa-earth/results/networks/elec.nc\"\n",
    "n_add = pypsa.Network(added_network) #output from add_electricity. network with electrical parameters added to components in data sources \n",
    "\n",
    "simplified_network = \"C:/Users/hie/pe_tan/pypsa-earth/results/networks/elec_s.nc\"\n",
    "n_simple = pypsa.Network(simplified_network) #output simplyfy_network with components simplified and spatial parameters (onshore and offshore regions) added  \n",
    "\n",
    "clustered_network = 'C:/Users/hie/pe_tan/pypsa-earth/results/networks/elec_s_all.nc'\n",
    "n_cluster = pypsa.Network(clustered_network) #output clustering-network simplified based on number of clusters give\n",
    "\n",
    "solved_network = r'C:/Users/hie/pe_tan/pypsa-earth/results/networks/elec_s_all_ec_lcopt_1h.nc'\n",
    "n_solve = pypsa.Network(solved_network) #optimized network\n",
    "\n",
    "n = n_solve"
   ]
  },
  {
   "cell_type": "code",
   "execution_count": 72,
   "metadata": {},
   "outputs": [
    {
     "data": {
      "text/plain": [
       "215476.62585799338"
      ]
     },
     "execution_count": 72,
     "metadata": {},
     "output_type": "execute_result"
    }
   ],
   "source": [
    "# System cost in Million Eur/Year\n",
    "n\n",
    "n.objective/1000000"
   ]
  },
  {
   "cell_type": "code",
   "execution_count": 73,
   "metadata": {},
   "outputs": [
    {
     "data": {
      "text/plain": [
       "298605.8947089188"
      ]
     },
     "execution_count": 73,
     "metadata": {},
     "output_type": "execute_result"
    }
   ],
   "source": [
    "#check lines\n",
    "\n",
    "n.lines.capital_cost.sum()\n"
   ]
  },
  {
   "cell_type": "code",
   "execution_count": 74,
   "metadata": {},
   "outputs": [
    {
     "data": {
      "text/plain": [
       "372371.5032772844"
      ]
     },
     "execution_count": 74,
     "metadata": {},
     "output_type": "execute_result"
    }
   ],
   "source": [
    "n_simple.lines.capital_cost.sum()"
   ]
  },
  {
   "cell_type": "code",
   "execution_count": 75,
   "metadata": {},
   "outputs": [
    {
     "name": "stdout",
     "output_type": "stream",
     "text": [
      "Investment costs for line expansion: 24269.77936947013 Million Eur\n"
     ]
    }
   ],
   "source": [
    "line_expansion_cost = n.lines.s_nom_opt*432.97*n.lines.length # investment cost of transmission lines (Eur/MW) why 432.97?\n",
    "print(\"Investment costs for line expansion: \" + str(line_expansion_cost.sum()/1000000*(9.5+2.5)/2.5) + \" Million Eur\") "
   ]
  },
  {
   "cell_type": "code",
   "execution_count": 153,
   "metadata": {},
   "outputs": [
    {
     "data": {
      "text/plain": [
       "carrier\n",
       "CCGT       9.148374e+02\n",
       "load       1.900000e+11\n",
       "offwind    0.000000e+00\n",
       "oil        2.662288e+02\n",
       "onwind     2.066017e+00\n",
       "ror        2.671260e+02\n",
       "solar      1.553165e+01\n",
       "Name: p_nom, dtype: float64"
      ]
     },
     "execution_count": 153,
     "metadata": {},
     "output_type": "execute_result"
    }
   ],
   "source": [
    "gen_cap = n.generators.groupby([\"carrier\"]).sum()\n",
    "gen_cap.p_nom\n"
   ]
  },
  {
   "cell_type": "code",
   "execution_count": 77,
   "metadata": {},
   "outputs": [
    {
     "data": {
      "text/plain": [
       "carrier\n",
       "CCGT          9.426675e+02\n",
       "load          1.900000e+11\n",
       "offwind-ac    9.493841e-04\n",
       "offwind-dc    0.000000e+00\n",
       "oil           2.662299e+02\n",
       "onwind        2.098443e+00\n",
       "ror           2.671260e+02\n",
       "solar         1.728150e+03\n",
       "Name: p_nom_opt, dtype: float64"
      ]
     },
     "execution_count": 77,
     "metadata": {},
     "output_type": "execute_result"
    }
   ],
   "source": [
    "#optimized\n",
    "\n",
    "gen_cap.p_nom_opt"
   ]
  },
  {
   "cell_type": "code",
   "execution_count": 78,
   "metadata": {},
   "outputs": [
    {
     "data": {
      "text/plain": [
       "carrier\n",
       "hydro    2482.866242\n",
       "Name: p_nom_opt, dtype: float64"
      ]
     },
     "execution_count": 78,
     "metadata": {},
     "output_type": "execute_result"
    }
   ],
   "source": [
    "stores_cap = n.storage_units.groupby([\"carrier\"]).sum()\n",
    "stores_cap.p_nom_opt"
   ]
  },
  {
   "cell_type": "code",
   "execution_count": 79,
   "metadata": {},
   "outputs": [
    {
     "data": {
      "text/plain": [
       "carrier\n",
       "CCGT            27.830155\n",
       "load             0.000000\n",
       "offwind-ac       0.000949\n",
       "offwind-dc       0.000000\n",
       "oil              0.001104\n",
       "onwind           0.032425\n",
       "ror              0.000000\n",
       "solar         1712.618510\n",
       "dtype: float64"
      ]
     },
     "execution_count": 79,
     "metadata": {},
     "output_type": "execute_result"
    }
   ],
   "source": [
    "#installed capacity expansion\n",
    "generation_expansion = gen_cap['p_nom_opt'] - gen_cap['p_nom']\n",
    "generation_expansion"
   ]
  },
  {
   "cell_type": "code",
   "execution_count": 80,
   "metadata": {},
   "outputs": [
    {
     "data": {
      "text/plain": [
       "1740.4831436693207"
      ]
     },
     "execution_count": 80,
     "metadata": {},
     "output_type": "execute_result"
    }
   ],
   "source": [
    "generation_expansion.sum()"
   ]
  },
  {
   "cell_type": "markdown",
   "metadata": {},
   "source": [
    "Transmission expansion"
   ]
  },
  {
   "cell_type": "code",
   "execution_count": 81,
   "metadata": {},
   "outputs": [
    {
     "name": "stderr",
     "output_type": "stream",
     "text": [
      "INFO:pypsa.io:Imported network base.nc has buses, lines, transformers\n"
     ]
    },
    {
     "data": {
      "text/plain": [
       "1089.727164633953"
      ]
     },
     "execution_count": 81,
     "metadata": {},
     "output_type": "execute_result"
    }
   ],
   "source": [
    "\n",
    "n_line = pypsa.Network(base_network)\n",
    "check_lines = n_line.lines\n",
    "check_lines.s_nom.mean()"
   ]
  },
  {
   "cell_type": "code",
   "execution_count": 82,
   "metadata": {},
   "outputs": [
    {
     "data": {
      "text/plain": [
       "1089.727164633953"
      ]
     },
     "execution_count": 82,
     "metadata": {},
     "output_type": "execute_result"
    }
   ],
   "source": [
    "lines=n.lines\n",
    "n.lines.s_nom.mean()"
   ]
  },
  {
   "cell_type": "code",
   "execution_count": 83,
   "metadata": {},
   "outputs": [
    {
     "data": {
      "text/plain": [
       "Line\n",
       "0      0.006361\n",
       "1      0.036862\n",
       "2      0.010134\n",
       "3      0.004708\n",
       "4      0.003284\n",
       "         ...   \n",
       "98     0.025577\n",
       "99     0.102545\n",
       "100    0.137676\n",
       "101    0.048579\n",
       "102    0.068434\n",
       "Length: 103, dtype: float64"
      ]
     },
     "execution_count": 83,
     "metadata": {},
     "output_type": "execute_result"
    }
   ],
   "source": [
    "#transmission capacity expansion\n",
    "transmission_expansion = lines['s_nom_opt'] - lines['s_nom']\n",
    "transmission_expansion"
   ]
  },
  {
   "cell_type": "code",
   "execution_count": 84,
   "metadata": {},
   "outputs": [
    {
     "name": "stdout",
     "output_type": "stream",
     "text": [
      "Total expansion of the system: 19.94738395111549\n"
     ]
    }
   ],
   "source": [
    "real_expansion = 0\n",
    "for i in range(len(transmission_expansion)):  # Iterate over the indices of the Series\n",
    "    if transmission_expansion.iloc[i] > 0:  # Check if the expansion value is greater than 0\n",
    "        real_expansion += transmission_expansion.iloc[i]  # Add the expansion value to real_expansion\n",
    "\n",
    "print(\"Total expansion of the system:\", real_expansion)"
   ]
  },
  {
   "cell_type": "code",
   "execution_count": 85,
   "metadata": {},
   "outputs": [
    {
     "data": {
      "text/plain": [
       "2.988695729914866"
      ]
     },
     "execution_count": 85,
     "metadata": {},
     "output_type": "execute_result"
    }
   ],
   "source": [
    "max_line_expansion = transmission_expansion.max()\n",
    "max_line_expansion"
   ]
  },
  {
   "cell_type": "code",
   "execution_count": 86,
   "metadata": {},
   "outputs": [
    {
     "name": "stderr",
     "output_type": "stream",
     "text": [
      "c:\\Users\\hie\\AppData\\Local\\anaconda3\\envs\\pypsa-earth\\lib\\site-packages\\cartopy\\mpl\\feature_artist.py:144: UserWarning:\n",
      "\n",
      "facecolor will have no effect as it has been defined as \"never\".\n",
      "\n",
      "c:\\Users\\hie\\AppData\\Local\\anaconda3\\envs\\pypsa-earth\\lib\\site-packages\\cartopy\\mpl\\feature_artist.py:144: UserWarning:\n",
      "\n",
      "facecolor will have no effect as it has been defined as \"never\".\n",
      "\n",
      "C:\\Users\\hie\\AppData\\Local\\Temp\\ipykernel_26548\\3926023072.py:165: UserWarning:\n",
      "\n",
      "This pattern is interpreted as a regular expression, and has match groups. To actually get the groups, use str.extract.\n",
      "\n"
     ]
    },
    {
     "data": {
      "image/png": "[encoded data removed]",
      "text/plain": [
       "<Figure size 1000x1000 with 1 Axes>"
      ]
     },
     "metadata": {},
     "output_type": "display_data"
    }
   ],
   "source": [
    "import cartopy.crs as ccrs\n",
    "from matplotlib.patches import Circle, Ellipse\n",
    "from matplotlib.legend_handler import HandlerPatch\n",
    "\n",
    "\n",
    "def make_handler_map_to_scale_circles_as_in(ax, dont_resize_actively=False):\n",
    "    fig = ax.get_figure()\n",
    "\n",
    "    def axes2pt():\n",
    "        return np.diff(ax.transData.transform([(0, 0), (1, 1)]), axis=0)[0] * (\n",
    "            300.0 / fig.dpi\n",
    "        )\n",
    "\n",
    "    ellipses = []\n",
    "    if not dont_resize_actively:\n",
    "\n",
    "        def update_width_height(event):\n",
    "            dist = axes2pt()\n",
    "            for e, radius in ellipses:\n",
    "                e.width, e.height = 2.0 * radius * dist\n",
    "\n",
    "        fig.canvas.mpl_connect(\"resize_event\", update_width_height)\n",
    "        ax.callbacks.connect(\"xlim_changed\", update_width_height)\n",
    "        ax.callbacks.connect(\"ylim_changed\", update_width_height)\n",
    "\n",
    "    def legend_circle_handler(\n",
    "        legend, orig_handle, xdescent, ydescent, width, height, fontsize\n",
    "    ):\n",
    "        w, h = 2.0 * orig_handle.get_radius() * axes2pt()\n",
    "        e = Ellipse(\n",
    "            xy=(0.5 * width - 0.5 * xdescent, 0.5 * height - 0.5 * ydescent),\n",
    "            width=w,\n",
    "            height=w,\n",
    "        )\n",
    "        ellipses.append((e, orig_handle.get_radius()))\n",
    "        return e\n",
    "\n",
    "    return {Circle: HandlerPatch(patch_func=legend_circle_handler)}\n",
    "\n",
    "\n",
    "def make_legend_circles_for(sizes, scale=1.0, **kw):\n",
    "    return [Circle((0, 0), radius=(s / scale) ** 0.5, **kw) for s in sizes]\n",
    "\n",
    "\n",
    "def add_legend(ax, bus_factor, branch_factor):\n",
    "\n",
    "    handles = []\n",
    "    labels = []\n",
    "    for s in (0.5, 1.0, 1.5):\n",
    "        handles.append(\n",
    "            plt.Line2D([0], [0], color=\"rosybrown\", linewidth=s * 1e3 / branch_factor)\n",
    "        )\n",
    "        labels.append(f\"{s} GW\")\n",
    "    l1 = ax.legend(\n",
    "        handles,\n",
    "        labels,\n",
    "        loc=\"upper left\",\n",
    "        bbox_to_anchor=(0, 0),\n",
    "        frameon=False,\n",
    "        labelspacing=1.2,\n",
    "        handletextpad=1.5,\n",
    "        title=\"HVAC Line Capacity\",\n",
    "        title_fontsize=13,\n",
    "        fontsize=11,\n",
    "    )\n",
    "    ax.add_artist(l1)\n",
    "\n",
    "    handles = []\n",
    "    labels = []\n",
    "    if \"Load\" in n.carriers.index:\n",
    "        n.carriers = n.carriers.drop(\"Load\")\n",
    "\n",
    "    # Filter n.carriers to only exclude \"H2\" and \"batteries\"\n",
    "    filtered_carriers = n.carriers.loc[~n.carriers.index.isin(['H2', 'battery'])]\n",
    "\n",
    "    # Iterate over the filtered carriers\n",
    "    for name, carrier in filtered_carriers.iterrows():\n",
    "        handles.append(\n",
    "            plt.Line2D(\n",
    "                [0], [0], color=carrier.color, marker=\"o\", markersize=8, linewidth=0\n",
    "            )\n",
    "        )\n",
    "\n",
    "        labels.append(carrier.nice_name)\n",
    "    l3 = ax.legend(\n",
    "        handles,\n",
    "        labels,\n",
    "        loc=\"upper center\",\n",
    "        bbox_to_anchor=(0.53, -0.0),  # bbox_to_anchor=(0.72, -0.05),\n",
    "        handletextpad=0.0,\n",
    "        columnspacing=0.3,\n",
    "        ncol=2,\n",
    "        title=\"Technology\",\n",
    "        title_fontsize=13,\n",
    "        fontsize=11,\n",
    "        frameon=False,\n",
    "    )\n",
    "    ax.add_artist(l3)\n",
    "\n",
    "    circles = [10, 20]\n",
    "    handles = make_legend_circles_for(circles, scale=bus_factor, facecolor=\"lightgray\")\n",
    "    labels = [f\"{float(s/1e1)} GW\" for s in circles]\n",
    "    l4 = ax.legend(\n",
    "        handles,\n",
    "        labels,\n",
    "        loc=\"upper left\",\n",
    "        bbox_to_anchor=(0.82, 0.0),\n",
    "        frameon=False,\n",
    "        labelspacing=3.2,\n",
    "        title=\"Generation\",\n",
    "        title_fontsize=13,\n",
    "        fontsize=11,\n",
    "        handler_map=make_handler_map_to_scale_circles_as_in(ax, True),\n",
    "    )\n",
    "    ax.add_artist(l4)\n",
    "\n",
    "\n",
    "def plot_network(n, fn=None):\n",
    "\n",
    "    bus_factor = 6.0e3\n",
    "    branch_factor = 7.5e1\n",
    "\n",
    "    fields = [\"bus\", \"carrier\", \"p_nom\",\"p_nom_opt\"]\n",
    "        \n",
    "    pie_components = pd.concat(\n",
    "        [\n",
    "            n.generators.loc[n.generators.carrier != \"load\", fields],\n",
    "            n.storage_units[fields],\n",
    "        ]\n",
    "    )\n",
    "    bus_sizes = pie_components.groupby([\"bus\", \"carrier\"]).p_nom_opt.sum() / bus_factor\n",
    "\n",
    "    def clip(df, thres=100):\n",
    "        return df.where(df > thres, other=0.0)\n",
    "\n",
    "    line_widths = clip(n.lines.s_nom_opt - n.lines.s_nom) / branch_factor\n",
    "    link_widths = clip(n.links.p_nom_opt - n.links.p_nom) / branch_factor\n",
    "    line_widths_opt = n.lines.s_nom_opt / branch_factor\n",
    "\n",
    "    fig, ax = plt.subplots(\n",
    "        figsize=(10, 10), subplot_kw={\"projection\": ccrs.PlateCarree()}\n",
    "    )\n",
    "\n",
    "    n.plot(\n",
    "        ax=ax,\n",
    "        bus_sizes=bus_sizes,\n",
    "        color_geomap=True,\n",
    "        bus_alpha=0.7,\n",
    "        line_widths=line_widths_opt,\n",
    "        line_colors=\"#dddddd\",\n",
    "    )\n",
    "\n",
    "    n.plot(\n",
    "        ax=ax,\n",
    "        geomap=True,\n",
    "        bus_sizes=0,\n",
    "        line_widths=line_widths,\n",
    "        link_widths=link_widths,\n",
    "    )\n",
    "\n",
    "\n",
    "    # Convert \"Bus\" index column to string type\n",
    "    filtered_buses = n.buses\n",
    "    filtered_buses.index = filtered_buses.index.astype(str)\n",
    "    filtered_buses = n.buses[~n.buses.index.str.contains(r\"(H2|battery)$\")]\n",
    "    \n",
    "    # Add bus names to the plot\n",
    "    for bus, (lon, lat) in filtered_buses[['x', 'y']].iterrows():\n",
    "        ax.text(lon, lat, bus, fontsize=5, color='black', ha='center', va='center')\n",
    "\n",
    "\n",
    "    add_legend(ax, bus_factor, branch_factor)\n",
    "\n",
    "    \n",
    "\n",
    "\n",
    "    if fn is not None:\n",
    "        plt.savefig(fn, bbox_inches=\"tight\")\n",
    "\n",
    "\n",
    "plot_network(n)"
   ]
  },
  {
   "cell_type": "code",
   "execution_count": 87,
   "metadata": {},
   "outputs": [
    {
     "data": {
      "application/vnd.microsoft.datawrangler.viewer.v0+json": {
       "columns": [
        {
         "name": "(None, None)",
         "rawType": "object",
         "type": "unknown"
        },
        {
         "name": "Optimal Capacity",
         "rawType": "float64",
         "type": "float"
        },
        {
         "name": "Installed Capacity",
         "rawType": "float64",
         "type": "float"
        },
        {
         "name": "Supply",
         "rawType": "float64",
         "type": "float"
        },
        {
         "name": "Withdrawal",
         "rawType": "float64",
         "type": "float"
        },
        {
         "name": "Dispatch",
         "rawType": "float64",
         "type": "float"
        },
        {
         "name": "Transmission",
         "rawType": "float64",
         "type": "float"
        },
        {
         "name": "Capacity Factor",
         "rawType": "float64",
         "type": "float"
        },
        {
         "name": "Curtailment",
         "rawType": "float64",
         "type": "float"
        },
        {
         "name": "Capital Expenditure",
         "rawType": "float64",
         "type": "float"
        },
        {
         "name": "Operational Expenditure",
         "rawType": "float64",
         "type": "float"
        },
        {
         "name": "Revenue",
         "rawType": "float64",
         "type": "float"
        },
        {
         "name": "Market Value",
         "rawType": "float64",
         "type": "float"
        }
       ],
       "conversionMethod": "pd.DataFrame",
       "ref": "9c558dd7-8db5-458b-8224-f2310f6fe8e2",
       "rows": [
        [
         "('Generator', 'Combined-Cycle Gas')",
         "942.6675438237851",
         "914.8373885188247",
         "2984747.578237098",
         "0.0",
         "2984747.578237098",
         "0.0",
         "0.3614472691036968",
         "0.0",
         "98780266.17397165",
         "139724199.37936187",
         "144524107.96362606",
         "48.42088122205207"
        ],
        [
         "('Generator', 'Offshore Wind (AC)')",
         "0.0009493841205529518",
         "0.0",
         "0.6924884698577296",
         "0.0",
         "0.6924884698577296",
         "0.0",
         "0.08326576511854504",
         "0.49199048210304297",
         "195.71966494456376",
         "0.017492469615734096",
         "28.608507488473677",
         "41.312612027101665"
        ],
        [
         "('Generator', 'Oil')",
         "266.22992512659926",
         "266.2288213906846",
         "4.145970002674034",
         "0.0",
         "4.145970002674034",
         "0.0",
         "1.7777274536494668e-06",
         "0.0",
         "10672251.061789136",
         "653.1308989849808",
         "173.48743040598868",
         "41.844834934670104"
        ],
        [
         "('Generator', 'Onshore Wind')",
         "2.098442513825652",
         "2.0660174022886393",
         "1946.5651890560534",
         "0.0",
         "1946.5651890560534",
         "0.0",
         "0.10589312623817707",
         "144.39235305986298",
         "213294.34966337317",
         "48.25113966583252",
         "86713.21427205962",
         "44.54678156147928"
        ],
        [
         "('Generator', 'Run of River')",
         "267.12597159415475",
         "267.12597159415475",
         "2335152.5776612237",
         "0.0",
         "2335152.5776612237",
         "0.0",
         "0.997918425400287",
         "0.0",
         "82320310.01124246",
         "21891.349111580737",
         "94089888.17665024",
         "40.29282243770389"
        ],
        [
         "('Generator', 'Solar')",
         "1728.1501574493197",
         "15.531647316531625",
         "2305182.112802202",
         "0.0",
         "2305182.112802202",
         "0.0",
         "0.15227186241868404",
         "278069.82703231607",
         "67910205.49679764",
         "47594.04177194551",
         "67925692.41766615",
         "29.466518953287824"
        ],
        [
         "('Generator', 'load')",
         "190000000000.0",
         "190000000000.0",
         "2152303.254331043",
         "0.0",
         "2152303.254331043",
         "0.0",
         "1.2931406238470578e-06",
         "0.0",
         "0.0",
         "215252186890.07272",
         "215252143720.98245",
         "100010.1371811032"
        ],
        [
         "('Line', 'AC')",
         "112261.84534124823",
         "112241.89795729713",
         "31231546.600893416",
         "31231546.600893416",
         "0.0",
         "-4348124.711275524",
         "0.03175829717502528",
         "0.0",
         "491735772.83986807",
         "0.0",
         "941.4050025939941",
         "3.0142759572781883e-05"
        ],
        [
         "('Link', 'battery charger')",
         "104.62521533641242",
         "0.0",
         "268553.1276302859",
         "279742.84128154785",
         "-11189.713651261933",
         "0.0",
         "0.30522388124951955",
         "0.0",
         "2581957.5818338427",
         "2739.4893419986975",
         "1887571.7931171143",
         "7.028671793075187"
        ],
        [
         "('Link', 'battery discharger')",
         "108.98459930876295",
         "0.0",
         "257812.29456285696",
         "268554.47350297606",
         "-10742.178940119105",
         "0.0",
         "0.28129573868566454",
         "0.0",
         "0.0",
         "2724.174665418857",
         "617978.0229471736",
         "2.3970075748133195"
        ],
        [
         "('Load', '-')",
         "0.0",
         "0.0",
         "0.0",
         "10440526.558063824",
         "-10440526.558063824",
         "0.0",
         null,
         "0.0",
         "0.0",
         "0.0",
         "-228428285102.44177",
         null
        ],
        [
         "('StorageUnit', 'Reservoir & Dam')",
         "2482.8662420382166",
         "2482.8662420382166",
         "683121.5262323675",
         "0.0",
         "683121.5262323675",
         "0.0",
         "0.03140801871116514",
         "0.0",
         "0.0",
         "7161.83840276416",
         "12855213471.762774",
         "18818.340482788415"
        ],
        [
         "('Store', 'Battery Storage')",
         "916.6538501787682",
         "0.0",
         "198545.042568351",
         "198545.0425636819",
         "4.66910413648991e-06",
         "0.0",
         "0.4872906499283911",
         "0.0",
         "11819822.309139663",
         "4.652670940749623e-08",
         "11794764.540528523",
         "59.405988625820584"
        ]
       ],
       "shape": {
        "columns": 12,
        "rows": 13
       }
      },
      "text/html": [
       "<div>\n",
       "<style scoped>\n",
       "    .dataframe tbody tr th:only-of-type {\n",
       "        vertical-align: middle;\n",
       "    }\n",
       "\n",
       "    .dataframe tbody tr th {\n",
       "        vertical-align: top;\n",
       "    }\n",
       "\n",
       "    .dataframe thead th {\n",
       "        text-align: right;\n",
       "    }\n",
       "</style>\n",
       "<table border=\"1\" class=\"dataframe\">\n",
       "  <thead>\n",
       "    <tr style=\"text-align: right;\">\n",
       "      <th></th>\n",
       "      <th></th>\n",
       "      <th>Optimal Capacity</th>\n",
       "      <th>Installed Capacity</th>\n",
       "      <th>Supply</th>\n",
       "      <th>Withdrawal</th>\n",
       "      <th>Dispatch</th>\n",
       "      <th>Transmission</th>\n",
       "      <th>Capacity Factor</th>\n",
       "      <th>Curtailment</th>\n",
       "      <th>Capital Expenditure</th>\n",
       "      <th>Operational Expenditure</th>\n",
       "      <th>Revenue</th>\n",
       "      <th>Market Value</th>\n",
       "    </tr>\n",
       "  </thead>\n",
       "  <tbody>\n",
       "    <tr>\n",
       "      <th rowspan=\"7\" valign=\"top\">Generator</th>\n",
       "      <th>Combined-Cycle Gas</th>\n",
       "      <td>9.426675e+02</td>\n",
       "      <td>9.148374e+02</td>\n",
       "      <td>2.984748e+06</td>\n",
       "      <td>0.000000e+00</td>\n",
       "      <td>2.984748e+06</td>\n",
       "      <td>0.000000e+00</td>\n",
       "      <td>0.361447</td>\n",
       "      <td>0.000000</td>\n",
       "      <td>9.878027e+07</td>\n",
       "      <td>1.397242e+08</td>\n",
       "      <td>1.445241e+08</td>\n",
       "      <td>48.420881</td>\n",
       "    </tr>\n",
       "    <tr>\n",
       "      <th>Offshore Wind (AC)</th>\n",
       "      <td>9.493841e-04</td>\n",
       "      <td>0.000000e+00</td>\n",
       "      <td>6.924885e-01</td>\n",
       "      <td>0.000000e+00</td>\n",
       "      <td>6.924885e-01</td>\n",
       "      <td>0.000000e+00</td>\n",
       "      <td>0.083266</td>\n",
       "      <td>0.491990</td>\n",
       "      <td>1.957197e+02</td>\n",
       "      <td>1.749247e-02</td>\n",
       "      <td>2.860851e+01</td>\n",
       "      <td>41.312612</td>\n",
       "    </tr>\n",
       "    <tr>\n",
       "      <th>Oil</th>\n",
       "      <td>2.662299e+02</td>\n",
       "      <td>2.662288e+02</td>\n",
       "      <td>4.145970e+00</td>\n",
       "      <td>0.000000e+00</td>\n",
       "      <td>4.145970e+00</td>\n",
       "      <td>0.000000e+00</td>\n",
       "      <td>0.000002</td>\n",
       "      <td>0.000000</td>\n",
       "      <td>1.067225e+07</td>\n",
       "      <td>6.531309e+02</td>\n",
       "      <td>1.734874e+02</td>\n",
       "      <td>41.844835</td>\n",
       "    </tr>\n",
       "    <tr>\n",
       "      <th>Onshore Wind</th>\n",
       "      <td>2.098443e+00</td>\n",
       "      <td>2.066017e+00</td>\n",
       "      <td>1.946565e+03</td>\n",
       "      <td>0.000000e+00</td>\n",
       "      <td>1.946565e+03</td>\n",
       "      <td>0.000000e+00</td>\n",
       "      <td>0.105893</td>\n",
       "      <td>144.392353</td>\n",
       "      <td>2.132943e+05</td>\n",
       "      <td>4.825114e+01</td>\n",
       "      <td>8.671321e+04</td>\n",
       "      <td>44.546782</td>\n",
       "    </tr>\n",
       "    <tr>\n",
       "      <th>Run of River</th>\n",
       "      <td>2.671260e+02</td>\n",
       "      <td>2.671260e+02</td>\n",
       "      <td>2.335153e+06</td>\n",
       "      <td>0.000000e+00</td>\n",
       "      <td>2.335153e+06</td>\n",
       "      <td>0.000000e+00</td>\n",
       "      <td>0.997918</td>\n",
       "      <td>0.000000</td>\n",
       "      <td>8.232031e+07</td>\n",
       "      <td>2.189135e+04</td>\n",
       "      <td>9.408989e+07</td>\n",
       "      <td>40.292822</td>\n",
       "    </tr>\n",
       "    <tr>\n",
       "      <th>Solar</th>\n",
       "      <td>1.728150e+03</td>\n",
       "      <td>1.553165e+01</td>\n",
       "      <td>2.305182e+06</td>\n",
       "      <td>0.000000e+00</td>\n",
       "      <td>2.305182e+06</td>\n",
       "      <td>0.000000e+00</td>\n",
       "      <td>0.152272</td>\n",
       "      <td>278069.827032</td>\n",
       "      <td>6.791021e+07</td>\n",
       "      <td>4.759404e+04</td>\n",
       "      <td>6.792569e+07</td>\n",
       "      <td>29.466519</td>\n",
       "    </tr>\n",
       "    <tr>\n",
       "      <th>load</th>\n",
       "      <td>1.900000e+11</td>\n",
       "      <td>1.900000e+11</td>\n",
       "      <td>2.152303e+06</td>\n",
       "      <td>0.000000e+00</td>\n",
       "      <td>2.152303e+06</td>\n",
       "      <td>0.000000e+00</td>\n",
       "      <td>0.000001</td>\n",
       "      <td>0.000000</td>\n",
       "      <td>0.000000e+00</td>\n",
       "      <td>2.152522e+11</td>\n",
       "      <td>2.152521e+11</td>\n",
       "      <td>100010.137181</td>\n",
       "    </tr>\n",
       "    <tr>\n",
       "      <th>Line</th>\n",
       "      <th>AC</th>\n",
       "      <td>1.122618e+05</td>\n",
       "      <td>1.122419e+05</td>\n",
       "      <td>3.123155e+07</td>\n",
       "      <td>3.123155e+07</td>\n",
       "      <td>0.000000e+00</td>\n",
       "      <td>-4.348125e+06</td>\n",
       "      <td>0.031758</td>\n",
       "      <td>0.000000</td>\n",
       "      <td>4.917358e+08</td>\n",
       "      <td>0.000000e+00</td>\n",
       "      <td>9.414050e+02</td>\n",
       "      <td>0.000030</td>\n",
       "    </tr>\n",
       "    <tr>\n",
       "      <th rowspan=\"2\" valign=\"top\">Link</th>\n",
       "      <th>battery charger</th>\n",
       "      <td>1.046252e+02</td>\n",
       "      <td>0.000000e+00</td>\n",
       "      <td>2.685531e+05</td>\n",
       "      <td>2.797428e+05</td>\n",
       "      <td>-1.118971e+04</td>\n",
       "      <td>0.000000e+00</td>\n",
       "      <td>0.305224</td>\n",
       "      <td>0.000000</td>\n",
       "      <td>2.581958e+06</td>\n",
       "      <td>2.739489e+03</td>\n",
       "      <td>1.887572e+06</td>\n",
       "      <td>7.028672</td>\n",
       "    </tr>\n",
       "    <tr>\n",
       "      <th>battery discharger</th>\n",
       "      <td>1.089846e+02</td>\n",
       "      <td>0.000000e+00</td>\n",
       "      <td>2.578123e+05</td>\n",
       "      <td>2.685545e+05</td>\n",
       "      <td>-1.074218e+04</td>\n",
       "      <td>0.000000e+00</td>\n",
       "      <td>0.281296</td>\n",
       "      <td>0.000000</td>\n",
       "      <td>0.000000e+00</td>\n",
       "      <td>2.724175e+03</td>\n",
       "      <td>6.179780e+05</td>\n",
       "      <td>2.397008</td>\n",
       "    </tr>\n",
       "    <tr>\n",
       "      <th>Load</th>\n",
       "      <th>-</th>\n",
       "      <td>0.000000e+00</td>\n",
       "      <td>0.000000e+00</td>\n",
       "      <td>0.000000e+00</td>\n",
       "      <td>1.044053e+07</td>\n",
       "      <td>-1.044053e+07</td>\n",
       "      <td>0.000000e+00</td>\n",
       "      <td>NaN</td>\n",
       "      <td>0.000000</td>\n",
       "      <td>0.000000e+00</td>\n",
       "      <td>0.000000e+00</td>\n",
       "      <td>-2.284283e+11</td>\n",
       "      <td>NaN</td>\n",
       "    </tr>\n",
       "    <tr>\n",
       "      <th>StorageUnit</th>\n",
       "      <th>Reservoir &amp; Dam</th>\n",
       "      <td>2.482866e+03</td>\n",
       "      <td>2.482866e+03</td>\n",
       "      <td>6.831215e+05</td>\n",
       "      <td>0.000000e+00</td>\n",
       "      <td>6.831215e+05</td>\n",
       "      <td>0.000000e+00</td>\n",
       "      <td>0.031408</td>\n",
       "      <td>0.000000</td>\n",
       "      <td>0.000000e+00</td>\n",
       "      <td>7.161838e+03</td>\n",
       "      <td>1.285521e+10</td>\n",
       "      <td>18818.340483</td>\n",
       "    </tr>\n",
       "    <tr>\n",
       "      <th>Store</th>\n",
       "      <th>Battery Storage</th>\n",
       "      <td>9.166539e+02</td>\n",
       "      <td>0.000000e+00</td>\n",
       "      <td>1.985450e+05</td>\n",
       "      <td>1.985450e+05</td>\n",
       "      <td>4.669104e-06</td>\n",
       "      <td>0.000000e+00</td>\n",
       "      <td>0.487291</td>\n",
       "      <td>0.000000</td>\n",
       "      <td>1.181982e+07</td>\n",
       "      <td>4.652671e-08</td>\n",
       "      <td>1.179476e+07</td>\n",
       "      <td>59.405989</td>\n",
       "    </tr>\n",
       "  </tbody>\n",
       "</table>\n",
       "</div>"
      ],
      "text/plain": [
       "                                Optimal Capacity  Installed Capacity  \\\n",
       "Generator   Combined-Cycle Gas      9.426675e+02        9.148374e+02   \n",
       "            Offshore Wind (AC)      9.493841e-04        0.000000e+00   \n",
       "            Oil                     2.662299e+02        2.662288e+02   \n",
       "            Onshore Wind            2.098443e+00        2.066017e+00   \n",
       "            Run of River            2.671260e+02        2.671260e+02   \n",
       "            Solar                   1.728150e+03        1.553165e+01   \n",
       "            load                    1.900000e+11        1.900000e+11   \n",
       "Line        AC                      1.122618e+05        1.122419e+05   \n",
       "Link        battery charger         1.046252e+02        0.000000e+00   \n",
       "            battery discharger      1.089846e+02        0.000000e+00   \n",
       "Load        -                       0.000000e+00        0.000000e+00   \n",
       "StorageUnit Reservoir & Dam         2.482866e+03        2.482866e+03   \n",
       "Store       Battery Storage         9.166539e+02        0.000000e+00   \n",
       "\n",
       "                                      Supply    Withdrawal      Dispatch  \\\n",
       "Generator   Combined-Cycle Gas  2.984748e+06  0.000000e+00  2.984748e+06   \n",
       "            Offshore Wind (AC)  6.924885e-01  0.000000e+00  6.924885e-01   \n",
       "            Oil                 4.145970e+00  0.000000e+00  4.145970e+00   \n",
       "            Onshore Wind        1.946565e+03  0.000000e+00  1.946565e+03   \n",
       "            Run of River        2.335153e+06  0.000000e+00  2.335153e+06   \n",
       "            Solar               2.305182e+06  0.000000e+00  2.305182e+06   \n",
       "            load                2.152303e+06  0.000000e+00  2.152303e+06   \n",
       "Line        AC                  3.123155e+07  3.123155e+07  0.000000e+00   \n",
       "Link        battery charger     2.685531e+05  2.797428e+05 -1.118971e+04   \n",
       "            battery discharger  2.578123e+05  2.685545e+05 -1.074218e+04   \n",
       "Load        -                   0.000000e+00  1.044053e+07 -1.044053e+07   \n",
       "StorageUnit Reservoir & Dam     6.831215e+05  0.000000e+00  6.831215e+05   \n",
       "Store       Battery Storage     1.985450e+05  1.985450e+05  4.669104e-06   \n",
       "\n",
       "                                Transmission  Capacity Factor    Curtailment  \\\n",
       "Generator   Combined-Cycle Gas  0.000000e+00         0.361447       0.000000   \n",
       "            Offshore Wind (AC)  0.000000e+00         0.083266       0.491990   \n",
       "            Oil                 0.000000e+00         0.000002       0.000000   \n",
       "            Onshore Wind        0.000000e+00         0.105893     144.392353   \n",
       "            Run of River        0.000000e+00         0.997918       0.000000   \n",
       "            Solar               0.000000e+00         0.152272  278069.827032   \n",
       "            load                0.000000e+00         0.000001       0.000000   \n",
       "Line        AC                 -4.348125e+06         0.031758       0.000000   \n",
       "Link        battery charger     0.000000e+00         0.305224       0.000000   \n",
       "            battery discharger  0.000000e+00         0.281296       0.000000   \n",
       "Load        -                   0.000000e+00              NaN       0.000000   \n",
       "StorageUnit Reservoir & Dam     0.000000e+00         0.031408       0.000000   \n",
       "Store       Battery Storage     0.000000e+00         0.487291       0.000000   \n",
       "\n",
       "                                Capital Expenditure  Operational Expenditure  \\\n",
       "Generator   Combined-Cycle Gas         9.878027e+07             1.397242e+08   \n",
       "            Offshore Wind (AC)         1.957197e+02             1.749247e-02   \n",
       "            Oil                        1.067225e+07             6.531309e+02   \n",
       "            Onshore Wind               2.132943e+05             4.825114e+01   \n",
       "            Run of River               8.232031e+07             2.189135e+04   \n",
       "            Solar                      6.791021e+07             4.759404e+04   \n",
       "            load                       0.000000e+00             2.152522e+11   \n",
       "Line        AC                         4.917358e+08             0.000000e+00   \n",
       "Link        battery charger            2.581958e+06             2.739489e+03   \n",
       "            battery discharger         0.000000e+00             2.724175e+03   \n",
       "Load        -                          0.000000e+00             0.000000e+00   \n",
       "StorageUnit Reservoir & Dam            0.000000e+00             7.161838e+03   \n",
       "Store       Battery Storage            1.181982e+07             4.652671e-08   \n",
       "\n",
       "                                     Revenue   Market Value  \n",
       "Generator   Combined-Cycle Gas  1.445241e+08      48.420881  \n",
       "            Offshore Wind (AC)  2.860851e+01      41.312612  \n",
       "            Oil                 1.734874e+02      41.844835  \n",
       "            Onshore Wind        8.671321e+04      44.546782  \n",
       "            Run of River        9.408989e+07      40.292822  \n",
       "            Solar               6.792569e+07      29.466519  \n",
       "            load                2.152521e+11  100010.137181  \n",
       "Line        AC                  9.414050e+02       0.000030  \n",
       "Link        battery charger     1.887572e+06       7.028672  \n",
       "            battery discharger  6.179780e+05       2.397008  \n",
       "Load        -                  -2.284283e+11            NaN  \n",
       "StorageUnit Reservoir & Dam     1.285521e+10   18818.340483  \n",
       "Store       Battery Storage     1.179476e+07      59.405989  "
      ]
     },
     "execution_count": 87,
     "metadata": {},
     "output_type": "execute_result"
    }
   ],
   "source": [
    "n.statistics()"
   ]
  },
  {
   "cell_type": "code",
   "execution_count": 152,
   "metadata": {},
   "outputs": [
    {
     "name": "stderr",
     "output_type": "stream",
     "text": [
      "C:\\Users\\hie\\AppData\\Local\\Temp\\ipykernel_26548\\3758984340.py:1: DeprecatedWarning:\n",
      "\n",
      "dispatch is deprecated as of 0.28 and will be removed in 0.29. Use 'energy_balance' instead.\n",
      "\n",
      "WARNING:pypsa.statistics:Network has multiple bus carriers which are aggregated together. To separate bus carriers set `bus_carrier` or use groupers like `get_carrier_and_bus_carrier`.\n"
     ]
    },
    {
     "data": {
      "text/plain": [
       "0.0022609272379424117"
      ]
     },
     "execution_count": 152,
     "metadata": {},
     "output_type": "execute_result"
    }
   ],
   "source": [
    "n.statistics.dispatch().sum()"
   ]
  },
  {
   "cell_type": "code",
   "execution_count": 88,
   "metadata": {},
   "outputs": [
    {
     "data": {
      "text/plain": [
       "766034075.5439708"
      ]
     },
     "execution_count": 88,
     "metadata": {},
     "output_type": "execute_result"
    }
   ],
   "source": [
    "# Capital expenditure for optimized values (annual values based on p_nom_opt) [Eur/year]\n",
    "n.statistics.capex().sum()"
   ]
  },
  {
   "cell_type": "code",
   "execution_count": 89,
   "metadata": {},
   "outputs": [
    {
     "data": {
      "text/plain": [
       "763.452117962137"
      ]
     },
     "execution_count": 89,
     "metadata": {},
     "output_type": "execute_result"
    }
   ],
   "source": [
    "#manual sum of components to obtain capex of the system [Million Eur/year]\n",
    "capex = (n.generators.p_nom_opt * n.generators.capital_cost).div(1e6).sum()  + (n.storage_units.p_nom_opt * n.storage_units.capital_cost).div(1e6).sum() + (n.lines.s_nom_opt * n.lines.capital_cost).div(1e6).sum() + (n.stores.e_nom_opt * n.stores.capital_cost).div(1e6).sum()# M€/a\n",
    "capex"
   ]
  },
  {
   "cell_type": "code",
   "execution_count": 90,
   "metadata": {},
   "outputs": [
    {
     "data": {
      "text/plain": [
       "215391.98843808088"
      ]
     },
     "execution_count": 90,
     "metadata": {},
     "output_type": "execute_result"
    }
   ],
   "source": [
    "#manual sum of components to obatin opex of the system [Million Eur/year]\n",
    "opex = (n.snapshot_weightings.generators @ n.generators_t.p * (n.generators.marginal_cost).div(1e6)).sum() + (n.snapshot_weightings.generators @ n.storage_units_t.p * (n.storage_units.marginal_cost).div(1e6)).sum()  # M€/a\n",
    "opex"
   ]
  },
  {
   "cell_type": "code",
   "execution_count": 91,
   "metadata": {},
   "outputs": [
    {
     "data": {
      "text/plain": [
       "82.04999868154529"
      ]
     },
     "execution_count": 91,
     "metadata": {},
     "output_type": "execute_result"
    }
   ],
   "source": [
    "#manual sum of components to obtain capex of only the expanded capacity (p_nom_opt-p_nom) [Million Eur/year]\n",
    "capex2 = ((n.generators.p_nom_opt - n.generators.p_nom)* n.generators.capital_cost).div(1e6).sum()  + ((n.storage_units.p_nom_opt - n.storage_units.p_nom ) * n.storage_units.capital_cost).div(1e6).sum() + ((n.lines.s_nom_opt - n.lines.s_nom) * n.lines.capital_cost).div(1e6).sum() + ((n.stores.e_nom_opt - n.stores.e_nom) * n.stores.capital_cost).div(1e6).sum()# M€/a\n",
    "capex2"
   ]
  },
  {
   "cell_type": "markdown",
   "metadata": {},
   "source": [
    "Expansion and generation charts"
   ]
  },
  {
   "cell_type": "code",
   "execution_count": 92,
   "metadata": {},
   "outputs": [
    {
     "name": "stderr",
     "output_type": "stream",
     "text": [
      "C:\\Users\\hie\\AppData\\Local\\Temp\\ipykernel_26548\\2084180376.py:3: FutureWarning:\n",
      "\n",
      "DataFrame.groupby with axis=1 is deprecated. Do `frame.T.groupby(...)` without axis instead.\n",
      "\n"
     ]
    },
    {
     "data": {
      "text/plain": [
       "<AxesSubplot:xlabel='snapshot'>"
      ]
     },
     "execution_count": 92,
     "metadata": {},
     "output_type": "execute_result"
    },
    {
     "data": {
      "image/png": "[encoded data removed]",
      "text/plain": [
       "<Figure size 640x480 with 1 Axes>"
      ]
     },
     "metadata": {},
     "output_type": "display_data"
    }
   ],
   "source": [
    "date1 = \"2013-06-07\"\n",
    "date2 = \"2014-01-01\"\n",
    "n.generators_t.p.loc[date1:date1].groupby(n.generators.carrier, axis=1).sum().plot(kind = \"area\")\n",
    "n.loads_t.p.loc[date1:date1].sum(axis=1).plot()"
   ]
  },
  {
   "cell_type": "code",
   "execution_count": 93,
   "metadata": {},
   "outputs": [
    {
     "data": {
      "image/png": "[encoded data removed]",
      "text/plain": [
       "<Figure size 500x500 with 1 Axes>"
      ]
     },
     "metadata": {},
     "output_type": "display_data"
    }
   ],
   "source": [
    "#selecting generation capacities from statistics\n",
    "capacities = pd.DataFrame(n.statistics.optimal_capacity())\n",
    "capacities = capacities.drop(index=['Line','Load','Link','Store'], level=0)\n",
    "capacities = capacities.reset_index(level=0, drop=True)\n",
    "capacities.rename(columns={0:\"MW\"}, inplace=True)\n",
    "capacities.index.name = \"Technology\"\n",
    "capacities = capacities.drop(index=['load'])\n",
    "capacities['Percentage'] = capacities['MW']/capacities['MW'].sum()*100\n",
    "\n",
    "#defining colors for each technology\n",
    "H2_color='darkgoldenrod'\n",
    "battery_color='tan'\n",
    "demand_color='slategrey'\n",
    "aggregated_small_capacities = 'black'\n",
    "\n",
    "for i in range(len(capacities.index)):\n",
    "    tech = capacities.index[i]  # Access the index value, which is the technology name\n",
    "    if tech == \"Open-Cycle Gas\" : capacities.loc[tech, \"Color\"] = 'lightcoral'\n",
    "    elif tech == \"Combined-Cycle Gas\" : capacities.loc[tech, \"Color\"] = 'indianred'\n",
    "    elif tech == \"Solar\" : capacities.loc[tech, \"Color\"] = 'gold'\n",
    "    elif tech == \"Run of River\" : capacities.loc[tech, \"Color\"] = 'lightsteelblue'\n",
    "    elif tech == \"Onshore Wind\" : capacities.loc[tech, \"Color\"] = '#ff8200'\n",
    "    elif tech == \"Reservoir & Dam\" : capacities.loc[tech, \"Color\"] = 'steelblue'\n",
    "    elif tech == \"Oil\" : capacities.loc[tech, \"Color\"] = 'grey'\n",
    "    elif tech == \"Geothermal\" : capacities.loc[tech, \"Color\"] = 'purple'\n",
    "    elif tech == \"Biomass\" : capacities.loc[tech, \"Color\"] = '#73A917'\n",
    "\n",
    "# Identify, adding and removing capacities smaller than 1%\n",
    "small_capacities = capacities[capacities['Percentage'] < 2]\n",
    "capacities.loc['Others'] = [small_capacities['MW'].sum(), small_capacities['Percentage'].sum(), aggregated_small_capacities]\n",
    "capacities = capacities.drop(index=small_capacities.index)\n",
    "capacities = capacities.sort_index()\n",
    "\n",
    "#plotting the results\n",
    "\n",
    "plt.figure(figsize=(5, 5))\n",
    "plt.pie(capacities['MW'], labels=capacities.index, colors=capacities['Color'], autopct='%1.1f%%', startangle=100, pctdistance=0.85, wedgeprops={'width': 0.4})\n",
    "plt.axis('equal')  # Equal aspect ratio ensures that pie is drawn as a circle.\n",
    "\n",
    "# Calculate total installed capacities\n",
    "total_capacity = capacities['MW'].sum()\n",
    "\n",
    "# Add the total energy annotation at the center of the pie chart\n",
    "plt.text(0, 0, f'Total installed capacity: \\n {int(total_capacity)} MW', fontsize=11, color='black', ha='center')\n",
    "plt.title('Installed Capacities by Technology')\n",
    "plt.show()"
   ]
  },
  {
   "cell_type": "code",
   "execution_count": 94,
   "metadata": {},
   "outputs": [
    {
     "name": "stderr",
     "output_type": "stream",
     "text": [
      "C:\\Users\\hie\\AppData\\Local\\Temp\\ipykernel_26548\\3432555159.py:2: DeprecatedWarning:\n",
      "\n",
      "dispatch is deprecated as of 0.28 and will be removed in 0.29. Use 'energy_balance' instead.\n",
      "\n",
      "WARNING:pypsa.statistics:Network has multiple bus carriers which are aggregated together. To separate bus carriers set `bus_carrier` or use groupers like `get_carrier_and_bus_carrier`.\n"
     ]
    },
    {
     "data": {
      "image/png": "[encoded data removed]",
      "text/plain": [
       "<Figure size 500x500 with 1 Axes>"
      ]
     },
     "metadata": {},
     "output_type": "display_data"
    }
   ],
   "source": [
    "#selecting production from statistics\n",
    "production = pd.DataFrame(n.statistics.dispatch())\n",
    "production = production.drop(index=['Line','Load','Link','Store'], level=0)\n",
    "production = production.reset_index(level=0, drop=True)\n",
    "production.rename(columns={0:\"MWh\"}, inplace=True)\n",
    "production.index.name = \"Technology\"\n",
    "production = production.drop(index=['load'])\n",
    "production['Percentage'] = production['MWh']/production['MWh'].sum()*100\n",
    "\n",
    "#defining colors for each technology\n",
    "H2_color='darkgoldenrod'\n",
    "battery_color='tan'\n",
    "demand_color='slategrey'\n",
    "aggregated_small_capacities = 'black'\n",
    "\n",
    "for i in range(len(production.index)):\n",
    "    tech = production.index[i]  # Access the index value, which is the technology name\n",
    "    if tech == \"Open-Cycle Gas\" : production.loc[tech, \"Color\"] = 'lightcoral'\n",
    "    elif tech == \"Combined-Cycle Gas\" : production.loc[tech, \"Color\"] = 'indianred'\n",
    "    elif tech == \"Solar\" : production.loc[tech, \"Color\"] = 'gold'\n",
    "    elif tech == \"Run of River\" : production.loc[tech, \"Color\"] = 'lightsteelblue'\n",
    "    elif tech == \"Onshore Wind\" : production.loc[tech, \"Color\"] = '#ff8200'\n",
    "    elif tech == \"Reservoir & Dam\" : production.loc[tech, \"Color\"] = 'steelblue'\n",
    "    elif tech == \"Oil\" : production.loc[tech, \"Color\"] = 'grey'\n",
    "    elif tech == \"Geothermal\" : production.loc[tech, \"Color\"] = 'purple'\n",
    "    elif tech == \"Biomass\" : production.loc[tech, \"Color\"] = '#73A917'\n",
    "\n",
    "\n",
    "# Identify, adding and removing capacities smaller than 1%\n",
    "small_production = production[production['Percentage'] < 1]\n",
    "production.loc['Others'] = [small_production['MWh'].sum(), small_production['Percentage'].sum(), aggregated_small_capacities]\n",
    "production = production.drop(index=small_production.index)\n",
    "production = production.sort_index()\n",
    "\n",
    "#plotting the results\n",
    "\n",
    "plt.figure(figsize=(5, 5))\n",
    "plt.pie(production['MWh'], labels=production.index, colors=production['Color'], autopct='%1.1f%%', startangle=100, pctdistance=0.85, wedgeprops={'width': 0.4})\n",
    "plt.axis('equal')  # Equal aspect ratio ensures that pie is drawn as a circle.\n",
    "\n",
    "# Calculate total installed capacities\n",
    "total_production = production['MWh'].sum()\n",
    "\n",
    "# Add the total energy annotation at the center of the pie chart\n",
    "plt.text(0, 0, f'Total annunal generation: \\n {int(total_production)} MWh', fontsize=11, color='black', ha='center')\n",
    "plt.title('Annual production by Technology')\n",
    "plt.show()"
   ]
  },
  {
   "cell_type": "code",
   "execution_count": 95,
   "metadata": {},
   "outputs": [
    {
     "data": {
      "application/vnd.microsoft.datawrangler.viewer.v0+json": {
       "columns": [
        {
         "name": "('component', 'carrier')",
         "rawType": "object",
         "type": "unknown"
        },
        {
         "name": "0",
         "rawType": "float64",
         "type": "float"
        }
       ],
       "conversionMethod": "pd.DataFrame",
       "ref": "97f44ba7-be05-420a-81af-b20efc150c79",
       "rows": [
        [
         "('Link', 'battery charger')",
         "104.62521533641242"
        ],
        [
         "('Link', 'battery discharger')",
         "108.98459930876295"
        ],
        [
         "('StorageUnit', 'Reservoir & Dam')",
         "2482.8662420382166"
        ],
        [
         "('Store', 'Battery Storage')",
         "916.6538501787682"
        ]
       ],
       "shape": {
        "columns": 1,
        "rows": 4
       }
      },
      "text/html": [
       "<div>\n",
       "<style scoped>\n",
       "    .dataframe tbody tr th:only-of-type {\n",
       "        vertical-align: middle;\n",
       "    }\n",
       "\n",
       "    .dataframe tbody tr th {\n",
       "        vertical-align: top;\n",
       "    }\n",
       "\n",
       "    .dataframe thead th {\n",
       "        text-align: right;\n",
       "    }\n",
       "</style>\n",
       "<table border=\"1\" class=\"dataframe\">\n",
       "  <thead>\n",
       "    <tr style=\"text-align: right;\">\n",
       "      <th></th>\n",
       "      <th></th>\n",
       "      <th>0</th>\n",
       "    </tr>\n",
       "    <tr>\n",
       "      <th>component</th>\n",
       "      <th>carrier</th>\n",
       "      <th></th>\n",
       "    </tr>\n",
       "  </thead>\n",
       "  <tbody>\n",
       "    <tr>\n",
       "      <th rowspan=\"2\" valign=\"top\">Link</th>\n",
       "      <th>battery charger</th>\n",
       "      <td>104.625215</td>\n",
       "    </tr>\n",
       "    <tr>\n",
       "      <th>battery discharger</th>\n",
       "      <td>108.984599</td>\n",
       "    </tr>\n",
       "    <tr>\n",
       "      <th>StorageUnit</th>\n",
       "      <th>Reservoir &amp; Dam</th>\n",
       "      <td>2482.866242</td>\n",
       "    </tr>\n",
       "    <tr>\n",
       "      <th>Store</th>\n",
       "      <th>Battery Storage</th>\n",
       "      <td>916.653850</td>\n",
       "    </tr>\n",
       "  </tbody>\n",
       "</table>\n",
       "</div>"
      ],
      "text/plain": [
       "                                          0\n",
       "component   carrier                        \n",
       "Link        battery charger      104.625215\n",
       "            battery discharger   108.984599\n",
       "StorageUnit Reservoir & Dam     2482.866242\n",
       "Store       Battery Storage      916.653850"
      ]
     },
     "execution_count": 95,
     "metadata": {},
     "output_type": "execute_result"
    }
   ],
   "source": [
    "storage_capacities = pd.DataFrame(n.statistics.optimal_capacity())\n",
    "storage_capacities = storage_capacities.drop(index=['Line','Generator'], level=0)\n",
    "storage_capacities"
   ]
  },
  {
   "cell_type": "code",
   "execution_count": 103,
   "metadata": {},
   "outputs": [
    {
     "data": {
      "application/vnd.microsoft.datawrangler.viewer.v0+json": {
       "columns": [
        {
         "name": "(None, None)",
         "rawType": "object",
         "type": "unknown"
        },
        {
         "name": "Optimal Capacity",
         "rawType": "float64",
         "type": "float"
        },
        {
         "name": "Installed Capacity",
         "rawType": "float64",
         "type": "float"
        },
        {
         "name": "Supply",
         "rawType": "float64",
         "type": "float"
        },
        {
         "name": "Withdrawal",
         "rawType": "float64",
         "type": "float"
        },
        {
         "name": "Dispatch",
         "rawType": "float64",
         "type": "float"
        },
        {
         "name": "Transmission",
         "rawType": "float64",
         "type": "float"
        },
        {
         "name": "Capacity Factor",
         "rawType": "float64",
         "type": "float"
        },
        {
         "name": "Curtailment",
         "rawType": "float64",
         "type": "float"
        },
        {
         "name": "Capital Expenditure",
         "rawType": "float64",
         "type": "float"
        },
        {
         "name": "Operational Expenditure",
         "rawType": "float64",
         "type": "float"
        },
        {
         "name": "Revenue",
         "rawType": "float64",
         "type": "float"
        },
        {
         "name": "Market Value",
         "rawType": "float64",
         "type": "float"
        }
       ],
       "conversionMethod": "pd.DataFrame",
       "ref": "1cb2f553-6cf7-4028-92cb-79bb33f48e7d",
       "rows": [
        [
         "('Generator', 'Combined-Cycle Gas')",
         "942.6675438237851",
         "914.8373885188247",
         "2984747.578237098",
         "0.0",
         "2984747.578237098",
         "0.0",
         "0.3614472691036968",
         "0.0",
         "98780266.17397165",
         "139724199.37936187",
         "144524107.96362606",
         "48.42088122205207"
        ],
        [
         "('Generator', 'Offshore Wind (AC)')",
         "0.0009493841205529518",
         "0.0",
         "0.6924884698577296",
         "0.0",
         "0.6924884698577296",
         "0.0",
         "0.08326576511854504",
         "0.49199048210304297",
         "195.71966494456376",
         "0.017492469615734096",
         "28.608507488473677",
         "41.312612027101665"
        ],
        [
         "('Generator', 'Oil')",
         "266.22992512659926",
         "266.2288213906846",
         "4.145970002674034",
         "0.0",
         "4.145970002674034",
         "0.0",
         "1.7777274536494668e-06",
         "0.0",
         "10672251.061789136",
         "653.1308989849808",
         "173.48743040598868",
         "41.844834934670104"
        ],
        [
         "('Generator', 'Onshore Wind')",
         "2.098442513825652",
         "2.0660174022886393",
         "1946.5651890560534",
         "0.0",
         "1946.5651890560534",
         "0.0",
         "0.10589312623817707",
         "144.39235305986298",
         "213294.34966337317",
         "48.25113966583252",
         "86713.21427205962",
         "44.54678156147928"
        ],
        [
         "('Generator', 'Run of River')",
         "267.12597159415475",
         "267.12597159415475",
         "2335152.5776612237",
         "0.0",
         "2335152.5776612237",
         "0.0",
         "0.997918425400287",
         "0.0",
         "82320310.01124246",
         "21891.349111580737",
         "94089888.17665024",
         "40.29282243770389"
        ],
        [
         "('Generator', 'Solar')",
         "1728.1501574493197",
         "15.531647316531625",
         "2305182.112802202",
         "0.0",
         "2305182.112802202",
         "0.0",
         "0.15227186241868404",
         "278069.82703231607",
         "67910205.49679764",
         "47594.04177194551",
         "67925692.41766615",
         "29.466518953287824"
        ],
        [
         "('Generator', 'load')",
         "190000000000.0",
         "190000000000.0",
         "2152303.254331043",
         "0.0",
         "2152303.254331043",
         "0.0",
         "1.2931406238470578e-06",
         "0.0",
         "0.0",
         "215252186890.07272",
         "215252143720.98245",
         "100010.1371811032"
        ],
        [
         "('Line', 'AC')",
         "112261.84534124823",
         "112241.89795729713",
         "31231546.600893416",
         "31231546.600893416",
         "0.0",
         "-4348124.711275524",
         "0.03175829717502528",
         "0.0",
         "491735772.83986807",
         "0.0",
         "941.4050025939941",
         "3.0142759572781883e-05"
        ],
        [
         "('Link', 'battery charger')",
         "104.62521533641242",
         "0.0",
         "268553.1276302859",
         "279742.84128154785",
         "-11189.713651261933",
         "0.0",
         "0.30522388124951955",
         "0.0",
         "2581957.5818338427",
         "2739.4893419986975",
         "1887571.7931171143",
         "7.028671793075187"
        ],
        [
         "('Link', 'battery discharger')",
         "108.98459930876295",
         "0.0",
         "257812.29456285696",
         "268554.47350297606",
         "-10742.178940119105",
         "0.0",
         "0.28129573868566454",
         "0.0",
         "0.0",
         "2724.174665418857",
         "617978.0229471736",
         "2.3970075748133195"
        ],
        [
         "('Load', '-')",
         "0.0",
         "0.0",
         "0.0",
         "10440526.558063824",
         "-10440526.558063824",
         "0.0",
         null,
         "0.0",
         "0.0",
         "0.0",
         "-228428285102.44177",
         null
        ],
        [
         "('StorageUnit', 'Reservoir & Dam')",
         "2482.8662420382166",
         "2482.8662420382166",
         "683121.5262323675",
         "0.0",
         "683121.5262323675",
         "0.0",
         "0.03140801871116514",
         "0.0",
         "0.0",
         "7161.83840276416",
         "12855213471.762774",
         "18818.340482788415"
        ],
        [
         "('Store', 'Battery Storage')",
         "916.6538501787682",
         "0.0",
         "198545.042568351",
         "198545.0425636819",
         "4.66910413648991e-06",
         "0.0",
         "0.4872906499283911",
         "0.0",
         "11819822.309139663",
         "4.652670940749623e-08",
         "11794764.540528523",
         "59.405988625820584"
        ]
       ],
       "shape": {
        "columns": 12,
        "rows": 13
       }
      },
      "text/html": [
       "<div>\n",
       "<style scoped>\n",
       "    .dataframe tbody tr th:only-of-type {\n",
       "        vertical-align: middle;\n",
       "    }\n",
       "\n",
       "    .dataframe tbody tr th {\n",
       "        vertical-align: top;\n",
       "    }\n",
       "\n",
       "    .dataframe thead th {\n",
       "        text-align: right;\n",
       "    }\n",
       "</style>\n",
       "<table border=\"1\" class=\"dataframe\">\n",
       "  <thead>\n",
       "    <tr style=\"text-align: right;\">\n",
       "      <th></th>\n",
       "      <th></th>\n",
       "      <th>Optimal Capacity</th>\n",
       "      <th>Installed Capacity</th>\n",
       "      <th>Supply</th>\n",
       "      <th>Withdrawal</th>\n",
       "      <th>Dispatch</th>\n",
       "      <th>Transmission</th>\n",
       "      <th>Capacity Factor</th>\n",
       "      <th>Curtailment</th>\n",
       "      <th>Capital Expenditure</th>\n",
       "      <th>Operational Expenditure</th>\n",
       "      <th>Revenue</th>\n",
       "      <th>Market Value</th>\n",
       "    </tr>\n",
       "  </thead>\n",
       "  <tbody>\n",
       "    <tr>\n",
       "      <th rowspan=\"7\" valign=\"top\">Generator</th>\n",
       "      <th>Combined-Cycle Gas</th>\n",
       "      <td>9.426675e+02</td>\n",
       "      <td>9.148374e+02</td>\n",
       "      <td>2.984748e+06</td>\n",
       "      <td>0.000000e+00</td>\n",
       "      <td>2.984748e+06</td>\n",
       "      <td>0.000000e+00</td>\n",
       "      <td>0.361447</td>\n",
       "      <td>0.000000</td>\n",
       "      <td>9.878027e+07</td>\n",
       "      <td>1.397242e+08</td>\n",
       "      <td>1.445241e+08</td>\n",
       "      <td>48.420881</td>\n",
       "    </tr>\n",
       "    <tr>\n",
       "      <th>Offshore Wind (AC)</th>\n",
       "      <td>9.493841e-04</td>\n",
       "      <td>0.000000e+00</td>\n",
       "      <td>6.924885e-01</td>\n",
       "      <td>0.000000e+00</td>\n",
       "      <td>6.924885e-01</td>\n",
       "      <td>0.000000e+00</td>\n",
       "      <td>0.083266</td>\n",
       "      <td>0.491990</td>\n",
       "      <td>1.957197e+02</td>\n",
       "      <td>1.749247e-02</td>\n",
       "      <td>2.860851e+01</td>\n",
       "      <td>41.312612</td>\n",
       "    </tr>\n",
       "    <tr>\n",
       "      <th>Oil</th>\n",
       "      <td>2.662299e+02</td>\n",
       "      <td>2.662288e+02</td>\n",
       "      <td>4.145970e+00</td>\n",
       "      <td>0.000000e+00</td>\n",
       "      <td>4.145970e+00</td>\n",
       "      <td>0.000000e+00</td>\n",
       "      <td>0.000002</td>\n",
       "      <td>0.000000</td>\n",
       "      <td>1.067225e+07</td>\n",
       "      <td>6.531309e+02</td>\n",
       "      <td>1.734874e+02</td>\n",
       "      <td>41.844835</td>\n",
       "    </tr>\n",
       "    <tr>\n",
       "      <th>Onshore Wind</th>\n",
       "      <td>2.098443e+00</td>\n",
       "      <td>2.066017e+00</td>\n",
       "      <td>1.946565e+03</td>\n",
       "      <td>0.000000e+00</td>\n",
       "      <td>1.946565e+03</td>\n",
       "      <td>0.000000e+00</td>\n",
       "      <td>0.105893</td>\n",
       "      <td>144.392353</td>\n",
       "      <td>2.132943e+05</td>\n",
       "      <td>4.825114e+01</td>\n",
       "      <td>8.671321e+04</td>\n",
       "      <td>44.546782</td>\n",
       "    </tr>\n",
       "    <tr>\n",
       "      <th>Run of River</th>\n",
       "      <td>2.671260e+02</td>\n",
       "      <td>2.671260e+02</td>\n",
       "      <td>2.335153e+06</td>\n",
       "      <td>0.000000e+00</td>\n",
       "      <td>2.335153e+06</td>\n",
       "      <td>0.000000e+00</td>\n",
       "      <td>0.997918</td>\n",
       "      <td>0.000000</td>\n",
       "      <td>8.232031e+07</td>\n",
       "      <td>2.189135e+04</td>\n",
       "      <td>9.408989e+07</td>\n",
       "      <td>40.292822</td>\n",
       "    </tr>\n",
       "    <tr>\n",
       "      <th>Solar</th>\n",
       "      <td>1.728150e+03</td>\n",
       "      <td>1.553165e+01</td>\n",
       "      <td>2.305182e+06</td>\n",
       "      <td>0.000000e+00</td>\n",
       "      <td>2.305182e+06</td>\n",
       "      <td>0.000000e+00</td>\n",
       "      <td>0.152272</td>\n",
       "      <td>278069.827032</td>\n",
       "      <td>6.791021e+07</td>\n",
       "      <td>4.759404e+04</td>\n",
       "      <td>6.792569e+07</td>\n",
       "      <td>29.466519</td>\n",
       "    </tr>\n",
       "    <tr>\n",
       "      <th>load</th>\n",
       "      <td>1.900000e+11</td>\n",
       "      <td>1.900000e+11</td>\n",
       "      <td>2.152303e+06</td>\n",
       "      <td>0.000000e+00</td>\n",
       "      <td>2.152303e+06</td>\n",
       "      <td>0.000000e+00</td>\n",
       "      <td>0.000001</td>\n",
       "      <td>0.000000</td>\n",
       "      <td>0.000000e+00</td>\n",
       "      <td>2.152522e+11</td>\n",
       "      <td>2.152521e+11</td>\n",
       "      <td>100010.137181</td>\n",
       "    </tr>\n",
       "    <tr>\n",
       "      <th>Line</th>\n",
       "      <th>AC</th>\n",
       "      <td>1.122618e+05</td>\n",
       "      <td>1.122419e+05</td>\n",
       "      <td>3.123155e+07</td>\n",
       "      <td>3.123155e+07</td>\n",
       "      <td>0.000000e+00</td>\n",
       "      <td>-4.348125e+06</td>\n",
       "      <td>0.031758</td>\n",
       "      <td>0.000000</td>\n",
       "      <td>4.917358e+08</td>\n",
       "      <td>0.000000e+00</td>\n",
       "      <td>9.414050e+02</td>\n",
       "      <td>0.000030</td>\n",
       "    </tr>\n",
       "    <tr>\n",
       "      <th rowspan=\"2\" valign=\"top\">Link</th>\n",
       "      <th>battery charger</th>\n",
       "      <td>1.046252e+02</td>\n",
       "      <td>0.000000e+00</td>\n",
       "      <td>2.685531e+05</td>\n",
       "      <td>2.797428e+05</td>\n",
       "      <td>-1.118971e+04</td>\n",
       "      <td>0.000000e+00</td>\n",
       "      <td>0.305224</td>\n",
       "      <td>0.000000</td>\n",
       "      <td>2.581958e+06</td>\n",
       "      <td>2.739489e+03</td>\n",
       "      <td>1.887572e+06</td>\n",
       "      <td>7.028672</td>\n",
       "    </tr>\n",
       "    <tr>\n",
       "      <th>battery discharger</th>\n",
       "      <td>1.089846e+02</td>\n",
       "      <td>0.000000e+00</td>\n",
       "      <td>2.578123e+05</td>\n",
       "      <td>2.685545e+05</td>\n",
       "      <td>-1.074218e+04</td>\n",
       "      <td>0.000000e+00</td>\n",
       "      <td>0.281296</td>\n",
       "      <td>0.000000</td>\n",
       "      <td>0.000000e+00</td>\n",
       "      <td>2.724175e+03</td>\n",
       "      <td>6.179780e+05</td>\n",
       "      <td>2.397008</td>\n",
       "    </tr>\n",
       "    <tr>\n",
       "      <th>Load</th>\n",
       "      <th>-</th>\n",
       "      <td>0.000000e+00</td>\n",
       "      <td>0.000000e+00</td>\n",
       "      <td>0.000000e+00</td>\n",
       "      <td>1.044053e+07</td>\n",
       "      <td>-1.044053e+07</td>\n",
       "      <td>0.000000e+00</td>\n",
       "      <td>NaN</td>\n",
       "      <td>0.000000</td>\n",
       "      <td>0.000000e+00</td>\n",
       "      <td>0.000000e+00</td>\n",
       "      <td>-2.284283e+11</td>\n",
       "      <td>NaN</td>\n",
       "    </tr>\n",
       "    <tr>\n",
       "      <th>StorageUnit</th>\n",
       "      <th>Reservoir &amp; Dam</th>\n",
       "      <td>2.482866e+03</td>\n",
       "      <td>2.482866e+03</td>\n",
       "      <td>6.831215e+05</td>\n",
       "      <td>0.000000e+00</td>\n",
       "      <td>6.831215e+05</td>\n",
       "      <td>0.000000e+00</td>\n",
       "      <td>0.031408</td>\n",
       "      <td>0.000000</td>\n",
       "      <td>0.000000e+00</td>\n",
       "      <td>7.161838e+03</td>\n",
       "      <td>1.285521e+10</td>\n",
       "      <td>18818.340483</td>\n",
       "    </tr>\n",
       "    <tr>\n",
       "      <th>Store</th>\n",
       "      <th>Battery Storage</th>\n",
       "      <td>9.166539e+02</td>\n",
       "      <td>0.000000e+00</td>\n",
       "      <td>1.985450e+05</td>\n",
       "      <td>1.985450e+05</td>\n",
       "      <td>4.669104e-06</td>\n",
       "      <td>0.000000e+00</td>\n",
       "      <td>0.487291</td>\n",
       "      <td>0.000000</td>\n",
       "      <td>1.181982e+07</td>\n",
       "      <td>4.652671e-08</td>\n",
       "      <td>1.179476e+07</td>\n",
       "      <td>59.405989</td>\n",
       "    </tr>\n",
       "  </tbody>\n",
       "</table>\n",
       "</div>"
      ],
      "text/plain": [
       "                                Optimal Capacity  Installed Capacity  \\\n",
       "Generator   Combined-Cycle Gas      9.426675e+02        9.148374e+02   \n",
       "            Offshore Wind (AC)      9.493841e-04        0.000000e+00   \n",
       "            Oil                     2.662299e+02        2.662288e+02   \n",
       "            Onshore Wind            2.098443e+00        2.066017e+00   \n",
       "            Run of River            2.671260e+02        2.671260e+02   \n",
       "            Solar                   1.728150e+03        1.553165e+01   \n",
       "            load                    1.900000e+11        1.900000e+11   \n",
       "Line        AC                      1.122618e+05        1.122419e+05   \n",
       "Link        battery charger         1.046252e+02        0.000000e+00   \n",
       "            battery discharger      1.089846e+02        0.000000e+00   \n",
       "Load        -                       0.000000e+00        0.000000e+00   \n",
       "StorageUnit Reservoir & Dam         2.482866e+03        2.482866e+03   \n",
       "Store       Battery Storage         9.166539e+02        0.000000e+00   \n",
       "\n",
       "                                      Supply    Withdrawal      Dispatch  \\\n",
       "Generator   Combined-Cycle Gas  2.984748e+06  0.000000e+00  2.984748e+06   \n",
       "            Offshore Wind (AC)  6.924885e-01  0.000000e+00  6.924885e-01   \n",
       "            Oil                 4.145970e+00  0.000000e+00  4.145970e+00   \n",
       "            Onshore Wind        1.946565e+03  0.000000e+00  1.946565e+03   \n",
       "            Run of River        2.335153e+06  0.000000e+00  2.335153e+06   \n",
       "            Solar               2.305182e+06  0.000000e+00  2.305182e+06   \n",
       "            load                2.152303e+06  0.000000e+00  2.152303e+06   \n",
       "Line        AC                  3.123155e+07  3.123155e+07  0.000000e+00   \n",
       "Link        battery charger     2.685531e+05  2.797428e+05 -1.118971e+04   \n",
       "            battery discharger  2.578123e+05  2.685545e+05 -1.074218e+04   \n",
       "Load        -                   0.000000e+00  1.044053e+07 -1.044053e+07   \n",
       "StorageUnit Reservoir & Dam     6.831215e+05  0.000000e+00  6.831215e+05   \n",
       "Store       Battery Storage     1.985450e+05  1.985450e+05  4.669104e-06   \n",
       "\n",
       "                                Transmission  Capacity Factor    Curtailment  \\\n",
       "Generator   Combined-Cycle Gas  0.000000e+00         0.361447       0.000000   \n",
       "            Offshore Wind (AC)  0.000000e+00         0.083266       0.491990   \n",
       "            Oil                 0.000000e+00         0.000002       0.000000   \n",
       "            Onshore Wind        0.000000e+00         0.105893     144.392353   \n",
       "            Run of River        0.000000e+00         0.997918       0.000000   \n",
       "            Solar               0.000000e+00         0.152272  278069.827032   \n",
       "            load                0.000000e+00         0.000001       0.000000   \n",
       "Line        AC                 -4.348125e+06         0.031758       0.000000   \n",
       "Link        battery charger     0.000000e+00         0.305224       0.000000   \n",
       "            battery discharger  0.000000e+00         0.281296       0.000000   \n",
       "Load        -                   0.000000e+00              NaN       0.000000   \n",
       "StorageUnit Reservoir & Dam     0.000000e+00         0.031408       0.000000   \n",
       "Store       Battery Storage     0.000000e+00         0.487291       0.000000   \n",
       "\n",
       "                                Capital Expenditure  Operational Expenditure  \\\n",
       "Generator   Combined-Cycle Gas         9.878027e+07             1.397242e+08   \n",
       "            Offshore Wind (AC)         1.957197e+02             1.749247e-02   \n",
       "            Oil                        1.067225e+07             6.531309e+02   \n",
       "            Onshore Wind               2.132943e+05             4.825114e+01   \n",
       "            Run of River               8.232031e+07             2.189135e+04   \n",
       "            Solar                      6.791021e+07             4.759404e+04   \n",
       "            load                       0.000000e+00             2.152522e+11   \n",
       "Line        AC                         4.917358e+08             0.000000e+00   \n",
       "Link        battery charger            2.581958e+06             2.739489e+03   \n",
       "            battery discharger         0.000000e+00             2.724175e+03   \n",
       "Load        -                          0.000000e+00             0.000000e+00   \n",
       "StorageUnit Reservoir & Dam            0.000000e+00             7.161838e+03   \n",
       "Store       Battery Storage            1.181982e+07             4.652671e-08   \n",
       "\n",
       "                                     Revenue   Market Value  \n",
       "Generator   Combined-Cycle Gas  1.445241e+08      48.420881  \n",
       "            Offshore Wind (AC)  2.860851e+01      41.312612  \n",
       "            Oil                 1.734874e+02      41.844835  \n",
       "            Onshore Wind        8.671321e+04      44.546782  \n",
       "            Run of River        9.408989e+07      40.292822  \n",
       "            Solar               6.792569e+07      29.466519  \n",
       "            load                2.152521e+11  100010.137181  \n",
       "Line        AC                  9.414050e+02       0.000030  \n",
       "Link        battery charger     1.887572e+06       7.028672  \n",
       "            battery discharger  6.179780e+05       2.397008  \n",
       "Load        -                  -2.284283e+11            NaN  \n",
       "StorageUnit Reservoir & Dam     1.285521e+10   18818.340483  \n",
       "Store       Battery Storage     1.179476e+07      59.405989  "
      ]
     },
     "execution_count": 103,
     "metadata": {},
     "output_type": "execute_result"
    }
   ],
   "source": [
    "n.statistics()"
   ]
  },
  {
   "cell_type": "markdown",
   "metadata": {},
   "source": [
    "Dispatch"
   ]
  },
  {
   "cell_type": "code",
   "execution_count": 116,
   "metadata": {},
   "outputs": [
    {
     "name": "stderr",
     "output_type": "stream",
     "text": [
      "C:\\Users\\hie\\AppData\\Local\\Temp\\ipykernel_26548\\2440099205.py:2: FutureWarning:\n",
      "\n",
      "DataFrame.groupby with axis=1 is deprecated. Do `frame.T.groupby(...)` without axis instead.\n",
      "\n"
     ]
    },
    {
     "data": {
      "text/plain": [
       "carrier\n",
       "CCGT          2.984748e+06\n",
       "load          2.152303e+09\n",
       "offwind-ac    6.924885e-01\n",
       "offwind-dc    0.000000e+00\n",
       "oil           4.145970e+00\n",
       "onwind        1.946565e+03\n",
       "ror           2.335153e+06\n",
       "solar         2.305182e+06\n",
       "dtype: float64"
      ]
     },
     "execution_count": 116,
     "metadata": {},
     "output_type": "execute_result"
    }
   ],
   "source": [
    "#energy generated by type of powerplant\n",
    "production_cap = n.generators_t.p.loc[\"2013-01-01\":\"2014-01-01\"].groupby(n.generators.carrier, axis=1).sum()\n",
    "production_cap.sum()"
   ]
  },
  {
   "cell_type": "code",
   "execution_count": null,
   "metadata": {},
   "outputs": [
    {
     "name": "stdout",
     "output_type": "stream",
     "text": [
      "                   p_nom     p_nom_opt\n",
      "carrier                               \n",
      "CCGT        9.148374e+02  9.426675e+02\n",
      "load        1.900000e+11  1.900000e+11\n",
      "offwind-ac  0.000000e+00  9.493841e-04\n",
      "offwind-dc  0.000000e+00  0.000000e+00\n",
      "oil         2.662288e+02  2.662299e+02\n",
      "onwind      2.066017e+00  2.098443e+00\n",
      "ror         2.671260e+02  2.671260e+02\n",
      "solar       1.553165e+01  1.728150e+03\n",
      "\n",
      "hydro storage : p_nom: 2482.8662420382166  p_nom_opt: 2482.8662420382166\n",
      "                    p_nom   p_nom_opt\n",
      "carrier                              \n",
      "battery charger       0.0  104.625215\n",
      "battery discharger    0.0  108.984599\n"
     ]
    }
   ],
   "source": [
    "#installed capacity p_nom= nominal power (MW) and p_nom_opt= optimized nominal power (MW)\n",
    "\n",
    "gen_cap = n.generators.groupby([\"carrier\"]).sum()\n",
    "sto_cap = n.links.groupby([\"carrier\"]).sum()\n",
    "print(gen_cap[['p_nom','p_nom_opt']])\n",
    "print('\\nhydro storage : p_nom: ' + str(n.storage_units.sum()['p_nom'])+ '  p_nom_opt: '+str(n.storage_units.sum()['p_nom_opt']))\n",
    "print(sto_cap[['p_nom','p_nom_opt']])"
   ]
  },
  {
   "cell_type": "code",
   "execution_count": 142,
   "metadata": {},
   "outputs": [
    {
     "name": "stderr",
     "output_type": "stream",
     "text": [
      "C:\\Users\\hie\\AppData\\Local\\Temp\\ipykernel_26548\\538976059.py:13: FutureWarning:\n",
      "\n",
      "DataFrame.groupby with axis=1 is deprecated. Do `frame.T.groupby(...)` without axis instead.\n",
      "\n",
      "C:\\Users\\hie\\AppData\\Local\\Temp\\ipykernel_26548\\538976059.py:19: FutureWarning:\n",
      "\n",
      "DataFrame.groupby with axis=1 is deprecated. Do `frame.T.groupby(...)` without axis instead.\n",
      "\n",
      "C:\\Users\\hie\\AppData\\Local\\Temp\\ipykernel_26548\\538976059.py:28: FutureWarning:\n",
      "\n",
      "DataFrame.groupby with axis=1 is deprecated. Do `frame.T.groupby(...)` without axis instead.\n",
      "\n",
      "C:\\Users\\hie\\AppData\\Local\\Temp\\ipykernel_26548\\538976059.py:34: FutureWarning:\n",
      "\n",
      "DataFrame.groupby with axis=1 is deprecated. Do `frame.T.groupby(...)` without axis instead.\n",
      "\n",
      "C:\\Users\\hie\\AppData\\Local\\Temp\\ipykernel_26548\\538976059.py:35: FutureWarning:\n",
      "\n",
      "DataFrame.groupby with axis=1 is deprecated. Do `frame.T.groupby(...)` without axis instead.\n",
      "\n",
      "C:\\Users\\hie\\AppData\\Local\\Temp\\ipykernel_26548\\538976059.py:36: FutureWarning:\n",
      "\n",
      "DataFrame.groupby with axis=1 is deprecated. Do `frame.T.groupby(...)` without axis instead.\n",
      "\n",
      "C:\\Users\\hie\\AppData\\Local\\Temp\\ipykernel_26548\\538976059.py:37: FutureWarning:\n",
      "\n",
      "DataFrame.groupby with axis=1 is deprecated. Do `frame.T.groupby(...)` without axis instead.\n",
      "\n",
      "C:\\Users\\hie\\AppData\\Local\\Temp\\ipykernel_26548\\538976059.py:38: FutureWarning:\n",
      "\n",
      "DataFrame.groupby with axis=1 is deprecated. Do `frame.T.groupby(...)` without axis instead.\n",
      "\n",
      "C:\\Users\\hie\\AppData\\Local\\Temp\\ipykernel_26548\\538976059.py:41: FutureWarning:\n",
      "\n",
      "DataFrame.groupby with axis=1 is deprecated. Do `frame.T.groupby(...)` without axis instead.\n",
      "\n",
      "C:\\Users\\hie\\AppData\\Local\\Temp\\ipykernel_26548\\538976059.py:48: FutureWarning:\n",
      "\n",
      "DataFrame.groupby with axis=1 is deprecated. Do `frame.T.groupby(...)` without axis instead.\n",
      "\n",
      "C:\\Users\\hie\\AppData\\Local\\Temp\\ipykernel_26548\\538976059.py:49: FutureWarning:\n",
      "\n",
      "DataFrame.groupby with axis=1 is deprecated. Do `frame.T.groupby(...)` without axis instead.\n",
      "\n",
      "C:\\Users\\hie\\AppData\\Local\\Temp\\ipykernel_26548\\538976059.py:53: FutureWarning:\n",
      "\n",
      "DataFrame.groupby with axis=1 is deprecated. Do `frame.T.groupby(...)` without axis instead.\n",
      "\n",
      "C:\\Users\\hie\\AppData\\Local\\Temp\\ipykernel_26548\\538976059.py:58: FutureWarning:\n",
      "\n",
      "DataFrame.groupby with axis=1 is deprecated. Do `frame.T.groupby(...)` without axis instead.\n",
      "\n",
      "C:\\Users\\hie\\AppData\\Local\\Temp\\ipykernel_26548\\538976059.py:63: FutureWarning:\n",
      "\n",
      "DataFrame.groupby with axis=1 is deprecated. Do `frame.T.groupby(...)` without axis instead.\n",
      "\n",
      "C:\\Users\\hie\\AppData\\Local\\Temp\\ipykernel_26548\\538976059.py:64: FutureWarning:\n",
      "\n",
      "DataFrame.groupby with axis=1 is deprecated. Do `frame.T.groupby(...)` without axis instead.\n",
      "\n",
      "C:\\Users\\hie\\AppData\\Local\\Temp\\ipykernel_26548\\538976059.py:68: FutureWarning:\n",
      "\n",
      "DataFrame.groupby with axis=1 is deprecated. Do `frame.T.groupby(...)` without axis instead.\n",
      "\n",
      "C:\\Users\\hie\\AppData\\Local\\Temp\\ipykernel_26548\\538976059.py:69: FutureWarning:\n",
      "\n",
      "DataFrame.groupby with axis=1 is deprecated. Do `frame.T.groupby(...)` without axis instead.\n",
      "\n",
      "C:\\Users\\hie\\AppData\\Local\\Temp\\ipykernel_26548\\538976059.py:74: FutureWarning:\n",
      "\n",
      "DataFrame.groupby with axis=1 is deprecated. Do `frame.T.groupby(...)` without axis instead.\n",
      "\n",
      "C:\\Users\\hie\\AppData\\Local\\Temp\\ipykernel_26548\\538976059.py:75: FutureWarning:\n",
      "\n",
      "DataFrame.groupby with axis=1 is deprecated. Do `frame.T.groupby(...)` without axis instead.\n",
      "\n"
     ]
    },
    {
     "data": {
      "image/png": "[encoded data removed]",
      "text/plain": [
       "<Figure size 1200x400 with 1 Axes>"
      ]
     },
     "metadata": {},
     "output_type": "display_data"
    },
    {
     "name": "stdout",
     "output_type": "stream",
     "text": [
      "                p_nom     p_nom_opt\n",
      "carrier                            \n",
      "CCGT     9.148374e+02  9.426675e+02\n",
      "load     1.900000e+11  1.900000e+11\n",
      "offwind  0.000000e+00  9.493841e-04\n",
      "oil      2.662288e+02  2.662299e+02\n",
      "onwind   2.066017e+00  2.098443e+00\n",
      "ror      2.671260e+02  2.671260e+02\n",
      "solar    1.553165e+01  1.728150e+03\n",
      "\n",
      "hydro storage : p_nom: 2482.8662420382166  p_nom_opt: 2482.8662420382166\n",
      "                    p_nom   p_nom_opt\n",
      "carrier                              \n",
      "battery charger       0.0  104.625215\n",
      "battery discharger    0.0  108.984599\n"
     ]
    }
   ],
   "source": [
    "import matplotlib.pyplot as plt\n",
    "import cartopy.crs as ccrs\n",
    "import matplotlib.ticker as ticker\n",
    "import matplotlib.patches as mpatches\n",
    "import matplotlib.dates as mdates\n",
    "\n",
    "first_date = \"2013-06-05\"\n",
    "second_date = \"2013-06-09\"\n",
    "\n",
    "#Hourly solar curtailment calculation\n",
    "maximum_solar_generation = n.generators_t.p_max_pu.loc[first_date:second_date].filter(regex='solar') * n.generators.loc[[idx for idx in n.generators.index if 'solar' in idx]]['p_nom_opt']\n",
    "maximum_solar_generation = maximum_solar_generation.sum(axis=1)\n",
    "solar_generation = n.generators_t.p.loc[first_date:second_date].groupby(n.generators.carrier, axis=1).sum()[\"solar\"]\n",
    "curtailment_solar = maximum_solar_generation - solar_generation\n",
    "\n",
    "#Hourly wind curtailment calculation\n",
    "maximum_wind_generation = n.generators_t.p_max_pu.loc[first_date:second_date].filter(regex='onwind') * n.generators.loc[[idx for idx in n.generators.index if 'onwind' in idx]]['p_nom_opt']\n",
    "maximum_wind_generation = maximum_wind_generation.sum(axis=1)\n",
    "wind_generation = n.generators_t.p.loc[first_date:second_date].groupby(n.generators.carrier, axis=1).sum()[\"onwind\"]\n",
    "curtailment_wind = maximum_wind_generation- wind_generation\n",
    "\n",
    "\n",
    "# Combine 'offwind-ac' and 'offwind-dc' into a single 'offwind' carrier\n",
    "n.generators[\"carrier\"] = n.generators[\"carrier\"].replace({\"offwind-ac\": \"offwind\", \"offwind-dc\": \"offwind\"})\n",
    "\n",
    "maximum_offwind_genertation=n.generators_t.p_max_pu.loc[first_date:second_date].filter(regex='offwind') * n.generators.loc[[idx for idx in n.generators.index if 'offwind' in idx]]['p_nom_opt']\n",
    "maximum_offwind_genertation = maximum_offwind_genertation.sum(axis=1)\n",
    "offwind_generation = n.generators_t.p.loc[first_date:second_date].groupby(n.generators.carrier, axis=1).sum()[\"offwind\"]\n",
    "curtailment_offwind = maximum_offwind_genertation - offwind_generation\n",
    "\n",
    "curtailment = curtailment_solar.loc[first_date:second_date] + curtailment_wind.loc[first_date:second_date]+offwind_generation.loc[first_date:second_date]\n",
    "\n",
    "#Hourly generation per technology\n",
    "CCGT = n.generators_t.p.loc[first_date:second_date].groupby(n.generators.carrier, axis=1).sum()[\"CCGT\"]\n",
    "Onwind = n.generators_t.p.loc[first_date:second_date].groupby(n.generators.carrier, axis=1).sum()[\"onwind\"]\n",
    "solar = n.generators_t.p.loc[first_date:second_date].groupby(n.generators.carrier, axis=1).sum()[\"solar\"]\n",
    "oil = n.generators_t.p.loc[first_date:second_date].groupby(n.generators.carrier, axis=1).sum()[\"oil\"]\n",
    "offwind=n.generators_t.p.loc[first_date:second_date].groupby(n.generators.carrier, axis=1).sum()[\"offwind\"]\n",
    "\n",
    "#LoadShedding\n",
    "load = n.generators_t.p.loc[first_date:second_date].groupby(n.generators.carrier, axis=1).sum()[\"load\"]\n",
    "\n",
    "#Hourly load/demand \n",
    "demand = n.loads_t.p_set.loc[first_date:second_date].sum(axis=1)*-1\n",
    "\n",
    "size = CCGT.shape[0]\n",
    "\n",
    "if \"ror\" in n.generators_t.p.loc[first_date:second_date].groupby(n.generators.carrier, axis=1).sum().columns:\n",
    "    ror = n.generators_t.p.loc[first_date:second_date].groupby(n.generators.carrier, axis=1).sum()[\"ror\"]\n",
    "else:\n",
    "    ror = np.zeros(size)\n",
    "    \n",
    "if \"biomass\" in n.generators_t.p.loc[first_date:second_date].groupby(n.generators.carrier, axis=1).sum().columns:\n",
    "    biomass = n.generators_t.p.loc[first_date:second_date].groupby(n.generators.carrier, axis=1).sum()[\"biomass\"]\n",
    "else:\n",
    "    biomass = None\n",
    "\n",
    "if \"OCGT\" in n.generators_t.p.loc[first_date:second_date].groupby(n.generators.carrier, axis=1).sum().columns:\n",
    "    OCGT = n.generators_t.p.loc[first_date:second_date].groupby(n.generators.carrier, axis=1).sum()[\"OCGT\"]\n",
    "else:\n",
    "    OCGT = None\n",
    "    \n",
    "if \"CCGT\" in n.generators_t.p.loc[first_date:second_date].groupby(n.generators.carrier, axis=1).sum().columns:\n",
    "    CCGT = n.generators_t.p.loc[first_date:second_date].groupby(n.generators.carrier, axis=1).sum()[\"CCGT\"]\n",
    "else:\n",
    "    CCGT = np.zeros(size)\n",
    "\n",
    "if \"load\" in n.generators_t.p.loc[first_date:second_date].groupby(n.generators.carrier, axis=1).sum().columns:\n",
    "    load = n.generators_t.p.loc[first_date:second_date].groupby(n.generators.carrier, axis=1).sum()[\"load\"]/1000\n",
    "else:\n",
    "    load = np.zeros(size)\n",
    "\n",
    "    \n",
    "if \"battery\" in  n.stores_t.p.loc[first_date:second_date].groupby(n.stores.carrier, axis=1).sum().columns:\n",
    "    battery = n.stores_t.p.loc[first_date:second_date].groupby(n.stores.carrier, axis=1).sum()[\"battery\"]\n",
    "else:\n",
    "    battery = np.zeros(size)\n",
    "\n",
    "if not n.storage_units_t.p.loc[first_date:second_date].sum(axis=1).empty:\n",
    "    reservoir = n.storage_units_t.p.loc[first_date:second_date].sum(axis=1)\n",
    "else:\n",
    "    reservoir = np.zeros(size)\n",
    "    \n",
    "\n",
    "\n",
    "#Hourly storage charge or discharge \n",
    "i=0\n",
    "nbattery = []\n",
    "pbattery =[]\n",
    "for i in battery:\n",
    "    if i < 0:\n",
    "        nbattery.append(i)\n",
    "    else:\n",
    "        nbattery.append(0) \n",
    "for i in battery:\n",
    "    if i > 0:\n",
    "        pbattery.append(i)\n",
    "    else:\n",
    "        pbattery.append(0) \n",
    "\n",
    "\n",
    "\n",
    "# create a figure with a single subplot\n",
    "fig, ax = plt.subplots(figsize=(12, 4))\n",
    "\n",
    "# adjust the position of the subplot so that it only takes up 2/3 of the available space\n",
    "ax.set_position([0.1, 0.1, 0.75, 0.9])\n",
    "\n",
    "\n",
    "CCGT_color='slategrey'\n",
    "Onwind_color='#ff8200'\n",
    "Offwind_color='sandybrown'\n",
    "Solar_color='gold'\n",
    "curtailment_color = 'maroon'\n",
    "ror_color='lightsteelblue'\n",
    "reservoir_color='steelblue'\n",
    "battery_color='tan'\n",
    "oil_color='dimgrey'\n",
    "biomass_color='#73A917'\n",
    "demand_color='gainsboro'\n",
    "lostload_color = \"maroon\"\n",
    "\n",
    "# Prepare data for stackplot\n",
    "stack_data = [CCGT, Onwind, solar, curtailment, ror, reservoir, pbattery, oil, load, offwind]\n",
    "stack_colors = [CCGT_color, Onwind_color, Solar_color, curtailment_color, ror_color, reservoir_color, battery_color, oil_color, demand_color, Offwind_color]\n",
    "\n",
    "if biomass is not None:\n",
    "    stack_data.append(biomass)\n",
    "    stack_colors.append(biomass_color)\n",
    "\n",
    "if OCGT is not None:\n",
    "    stack_data.append(OCGT)\n",
    "    stack_colors.append('lightcoral')\n",
    "\n",
    "# Create the stackplot\n",
    "plt.stackplot(CCGT.index, *stack_data, colors=stack_colors, zorder=3)\n",
    "\n",
    "\n",
    "plt.stackplot(CCGT.index,demand,nbattery, colors=[demand_color,battery_color], zorder = 3)\n",
    "plt.xticks(rotation = 45)\n",
    "plt.yticks()\n",
    "scale_y = 1e3\n",
    "ticks_y = ticker.FuncFormatter(lambda x, pos: '{0:g}'.format(x/scale_y))\n",
    "ax.yaxis.set_major_formatter(ticks_y)\n",
    "myFmt = mdates.DateFormatter('%d')\n",
    "ax.xaxis.set_major_formatter(myFmt)\n",
    "ax.set_ylabel('GW')\n",
    "ax.set_xlabel('Days')\n",
    "\n",
    "\n",
    "CCGT_patch = mpatches.Patch(color=CCGT_color, label ='CCGT')\n",
    "wind_patch = mpatches.Patch(color=Onwind_color, label ='Onshore wind')\n",
    "solar_patch = mpatches.Patch(color=Solar_color, label ='Solar')\n",
    "curtailment_patch = mpatches.Patch(color=curtailment_color, label = 'Curtailment')\n",
    "ror_patch = mpatches.Patch(color=ror_color, label ='Run Of River')\n",
    "reservoir_patch = mpatches.Patch(color=reservoir_color, label ='Reservoir')\n",
    "offwind_patch = mpatches.Patch(color=Offwind_color, label ='Offshore wind')\n",
    "battery_patch = mpatches.Patch(color=battery_color, label ='Battery')\n",
    "oil_patch = mpatches.Patch(color=oil_color, label ='Oil')\n",
    "biomass_patch = mpatches.Patch(color=biomass_color, label ='Biomass')\n",
    "load_patch = mpatches.Patch(color=demand_color, label ='Demand')\n",
    "\n",
    "lostload_patch = mpatches.Patch(color=demand_color, label ='LostLoad')\n",
    "\n",
    "handles = [\n",
    "    CCGT_patch, wind_patch, offwind_patch, solar_patch, curtailment_patch,\n",
    "    ror_patch, reservoir_patch, oil_patch, load_patch, battery_patch\n",
    "]\n",
    "\n",
    "if biomass is not None:\n",
    "    handles.append(biomass_patch)\n",
    "\n",
    "if OCGT is not None:\n",
    "    handles.append(mpatches.Patch(color='lightcoral', label='OCGT'))    \n",
    "\n",
    "ax.legend(handles=handles, loc=\"center right\", bbox_to_anchor=(1.19, 0.5))\n",
    "\n",
    "image_format = '.png' \n",
    "\n",
    "\n",
    "plt.show()\n",
    "\n",
    "gen_cap = n.generators.groupby([\"carrier\"]).sum()\n",
    "sto_cap = n.links.groupby([\"carrier\"]).sum()\n",
    "print(gen_cap[['p_nom','p_nom_opt']])\n",
    "print('\\nhydro storage : p_nom: ' + str(n.storage_units.sum()['p_nom'])+ '  p_nom_opt: '+str(n.storage_units.sum()['p_nom_opt']))\n",
    "print(sto_cap[['p_nom','p_nom_opt']])\n"
   ]
  },
  {
   "cell_type": "code",
   "execution_count": 150,
   "metadata": {},
   "outputs": [
    {
     "name": "stdout",
     "output_type": "stream",
     "text": [
      "CCGT generation (MWh) = 2984748\n",
      "OCGT generation (MWh) = 0 (not present in the network)\n",
      "oil generation (MWh) = 4\n",
      "biomass generation (MWh) = 0 (not present in the network)\n",
      "geothermal generation (MWh) = 0 (not present in the network)\n",
      "onwind generation (MWh) = 1947\n",
      "solar generation (MWh) = 2305182\n",
      "ror generation (MWh) = 2335153\n",
      "offwind generation (MWh) = 1\n",
      "hydro generation (MWh) = 683122\n"
     ]
    }
   ],
   "source": [
    "# List of generator carriers\n",
    "generator_list = [\"CCGT\", \"OCGT\", \"oil\", \"biomass\", \"geothermal\", \"onwind\", \"solar\", \"ror\",\"offwind\"]\n",
    "\n",
    "# Loop through each carrier in the generator list\n",
    "for carrier in generator_list:\n",
    "    # Filter generators by carrier and sum their generation\n",
    "    if carrier in n.generators.carrier.unique():\n",
    "        generation = n.generators_t.p.loc[:, n.generators[n.generators.carrier == carrier].index].sum().sum()\n",
    "        print(f\"{carrier} generation (MWh) = {round(generation)}\")\n",
    "    else:\n",
    "        print(f\"{carrier} generation (MWh) = 0 (not present in the network)\")\n",
    "\n",
    "# List of storage unit carriers\n",
    "generator_list2 = [\"hydro\"]\n",
    "\n",
    "# Loop through each carrier in the storage unit list\n",
    "for carrier in generator_list2:\n",
    "    # Filter storage units by carrier and sum their generation\n",
    "    if carrier in n.storage_units.carrier.unique():\n",
    "        generation = n.storage_units_t.p.loc[:, n.storage_units[n.storage_units.carrier == carrier].index].sum().sum()\n",
    "        print(f\"{carrier} generation (MWh) = {round(generation)}\")\n",
    "    else:\n",
    "        print(f\"{carrier} generation (MWh) = 0 (not present in the network)\")"
   ]
  },
  {
   "cell_type": "markdown",
   "metadata": {},
   "source": [
    "Lost load"
   ]
  },
  {
   "cell_type": "code",
   "execution_count": 156,
   "metadata": {},
   "outputs": [
    {
     "data": {
      "text/plain": [
       "10440526.558063824"
      ]
     },
     "execution_count": 156,
     "metadata": {},
     "output_type": "execute_result"
    }
   ],
   "source": [
    "demand = n.loads_t.p_set.loc[\"2013\"].sum(axis=1)\n",
    "demand.idxmax()\n",
    "demand.sum()"
   ]
  },
  {
   "cell_type": "code",
   "execution_count": 118,
   "metadata": {},
   "outputs": [
    {
     "name": "stderr",
     "output_type": "stream",
     "text": [
      "C:\\Users\\hie\\AppData\\Local\\Temp\\ipykernel_26548\\1555212878.py:1: FutureWarning:\n",
      "\n",
      "DataFrame.groupby with axis=1 is deprecated. Do `frame.T.groupby(...)` without axis instead.\n",
      "\n"
     ]
    },
    {
     "data": {
      "text/plain": [
       "2152303254"
      ]
     },
     "execution_count": 118,
     "metadata": {},
     "output_type": "execute_result"
    }
   ],
   "source": [
    "load_shedding = n.generators_t.p.loc[\"2013\"].groupby(n.generators.carrier, axis=1).sum()[\"load\"]\n",
    "round(load_shedding.sum())"
   ]
  },
  {
   "cell_type": "code",
   "execution_count": 119,
   "metadata": {},
   "outputs": [
    {
     "data": {
      "text/plain": [
       "Peak LL    122.895463\n",
       "dtype: float64"
      ]
     },
     "execution_count": 119,
     "metadata": {},
     "output_type": "execute_result"
    }
   ],
   "source": [
    "#LL or Loadshedding is in kW/kWh \n",
    "lostload = n.generators_t.p.filter(like= \"load\")\n",
    "#lostload.idxmax()\n",
    "peakLL = pd.DataFrame(index = lostload.index)\n",
    "peakLL[\"Peak LL\"] = lostload.max(axis=1)/1000\n",
    "sortedLL = peakLL.sort_values(\"Peak LL\", ascending=False)\n",
    "LL_contribution = sortedLL.iloc[0:9]\n",
    "LL_contribution.mean()"
   ]
  }
 ],
 "metadata": {
  "kernelspec": {
   "display_name": "pypsa-earth",
   "language": "python",
   "name": "python3"
  },
  "language_info": {
   "codemirror_mode": {
    "name": "ipython",
    "version": 3
   },
   "file_extension": ".py",
   "mimetype": "text/x-python",
   "name": "python",
   "nbconvert_exporter": "python",
   "pygments_lexer": "ipython3",
   "version": "3.10.16"
  }
 },
 "nbformat": 4,
 "nbformat_minor": 2
}
