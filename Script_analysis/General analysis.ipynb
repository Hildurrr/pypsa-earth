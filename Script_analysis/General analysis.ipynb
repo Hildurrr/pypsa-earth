{
 "cells": [
  {
   "cell_type": "markdown",
   "metadata": {},
   "source": [
    "Analysis code from PyPSA-BO\n",
    "\n",
    "https://github.com/CIE-UMSS/PyPSA-BO/blob/main/Results_analysis/EnergyScope-PyPSA/general_analysis.ipynb"
   ]
  },
  {
   "cell_type": "code",
   "execution_count": null,
   "metadata": {},
   "outputs": [
    {
     "name": "stderr",
     "output_type": "stream",
     "text": [
      "INFO:pypsa.io:Imported network base.nc has buses, lines, transformers\n",
      "INFO:pypsa.io:Imported network elec.nc has buses, carriers, generators, lines, loads, storage_units, transformers\n",
      "INFO:pypsa.io:Imported network elec_s.nc has buses, carriers, generators, lines, loads, storage_units\n",
      "INFO:pypsa.io:Imported network elec_s_all.nc has buses, carriers, generators, lines, loads, storage_units\n",
      "INFO:pypsa.io:Imported network elec_s_25_ec_lcopt_Co2L-24h.nc has buses, carriers, generators, global_constraints, lines, links, loads, storage_units, stores\n"
     ]
    }
   ],
   "source": [
    "#Libraries import for running the code\n",
    "\n",
    "import logging\n",
    "import os\n",
    "\n",
    "import pypsa\n",
    "import yaml\n",
    "import pandas as pd\n",
    "import geopandas as gpd\n",
    "#import geoviews as gv\n",
    "#import hvplot.pandas \n",
    "import numpy as np\n",
    "import scipy as sp\n",
    "import networkx as nx\n",
    "\n",
    "# plotting stuff\n",
    "import matplotlib.pyplot as plt\n",
    "import cartopy\n",
    "\n",
    "# data exploration\n",
    "import xarray as xr\n",
    "\n",
    "plt.style.use(\"bmh\")\n",
    "import seaborn as sns  ###\n",
    "import cartopy.crs as ccrs\n",
    "\n",
    "sns.set(style=\"darkgrid\")\n",
    "\n",
    "from scipy.sparse import csgraph\n",
    "from itertools import product\n",
    "\n",
    "from shapely.geometry import Point, LineString\n",
    "import shapely, shapely.prepared, shapely.wkt\n",
    "\n",
    "logger = logging.getLogger(__name__)\n",
    "\n",
    "pd.set_option(\"display.max_columns\", None)\n",
    "pd.set_option(\"display.max_colwidth\", 70)\n",
    "\n",
    "\n",
    "\n",
    "max_node_size = 1.0  # maximum size of a node for plotting purposes [used in plots]\n",
    "\n",
    "# utility function for nice plotting\n",
    "\n",
    "def normalize_node_size(values, max_node_size=max_node_size):\n",
    "    return values / values.max() * max_node_size\n",
    "\n",
    "#Load different networks\n",
    "\n",
    "base_network= \"C:/Users/hie/pe_tan/pypsa-earth/networks/base.nc\"\n",
    "n_base= pypsa.Network(base_network) #network with all components available in the data sources \n",
    "\n",
    "added_network = \"C:/Users/hie/pe_tan/pypsa-earth/networks/elec.nc\"\n",
    "n_add = pypsa.Network(added_network) #output from add_electricity. network with electrical parameters added to components in data sources \n",
    "\n",
    "simplified_network = \"C:/Users/hie/pe_tan/pypsa-earth/networks/elec_s.nc\"\n",
    "n_simple = pypsa.Network(simplified_network) #output simplyfy_network with components simplified and spatial parameters (onshore and offshore regions) added  \n",
    "\n",
    "clustered_network = 'C:/Users/hie/pe_tan/pypsa-earth/networks/elec_s_all.nc'\n",
    "n_cluster = pypsa.Network(clustered_network) #output clustering-network simplified based on number of clusters give\n",
    "\n",
    "solved_network = 'C:/Users/hie/pe_tan/pypsa-earth/results/networks/elec_s_25_ec_lcopt_Co2L-24h.nc'\n",
    "n_solve = pypsa.Network(solved_network) #optimized network\n",
    "\n",
    "n = n_solve"
   ]
  },
  {
   "cell_type": "code",
   "execution_count": 1,
   "metadata": {},
   "outputs": [
    {
     "ename": "NameError",
     "evalue": "name 'n' is not defined",
     "output_type": "error",
     "traceback": [
      "\u001b[1;31m---------------------------------------------------------------------------\u001b[0m",
      "\u001b[1;31mNameError\u001b[0m                                 Traceback (most recent call last)",
      "Cell \u001b[1;32mIn[1], line 3\u001b[0m\n\u001b[0;32m      1\u001b[0m \u001b[38;5;66;03m# System cost in Million EUR/Year\u001b[39;00m\n\u001b[1;32m----> 3\u001b[0m system_cost_million_eur \u001b[38;5;241m=\u001b[39m \u001b[43mn\u001b[49m\u001b[38;5;241m.\u001b[39mobjective \u001b[38;5;241m/\u001b[39m \u001b[38;5;241m1e6\u001b[39m  \u001b[38;5;66;03m# Convert to million EUR/year\u001b[39;00m\n\u001b[0;32m      5\u001b[0m \u001b[38;5;66;03m# Print the result\u001b[39;00m\n\u001b[0;32m      6\u001b[0m \u001b[38;5;28mprint\u001b[39m(\u001b[38;5;124mf\u001b[39m\u001b[38;5;124m\"\u001b[39m\u001b[38;5;124mSystem cost: \u001b[39m\u001b[38;5;132;01m{\u001b[39;00msystem_cost_million_eur\u001b[38;5;132;01m:\u001b[39;00m\u001b[38;5;124m.2f\u001b[39m\u001b[38;5;132;01m}\u001b[39;00m\u001b[38;5;124m Million EUR/Year\u001b[39m\u001b[38;5;124m\"\u001b[39m)\n",
      "\u001b[1;31mNameError\u001b[0m: name 'n' is not defined"
     ]
    }
   ],
   "source": [
    "# System cost in Million EUR/Year\n",
    "\n",
    "system_cost_million_eur = n.objective / 1e6  # Convert to million EUR/year\n",
    "\n",
    "# Print the result\n",
    "print(f\"System cost: {system_cost_million_eur:.2f} Million EUR/Year\")"
   ]
  },
  {
   "cell_type": "code",
   "execution_count": null,
   "metadata": {},
   "outputs": [
    {
     "data": {
      "text/plain": [
       "230335.20897798694"
      ]
     },
     "execution_count": 34,
     "metadata": {},
     "output_type": "execute_result"
    }
   ],
   "source": [
    "#check lines\n",
    "\n",
    "n.lines.capital_cost.sum()\n"
   ]
  },
  {
   "cell_type": "code",
   "execution_count": null,
   "metadata": {},
   "outputs": [
    {
     "data": {
      "text/plain": [
       "372371.5032772844"
      ]
     },
     "execution_count": 35,
     "metadata": {},
     "output_type": "execute_result"
    }
   ],
   "source": [
    "n_simple.lines.capital_cost.sum()"
   ]
  },
  {
   "cell_type": "code",
   "execution_count": null,
   "metadata": {},
   "outputs": [
    {
     "name": "stdout",
     "output_type": "stream",
     "text": [
      "Investment costs for line expansion: 26719.47604165331 Million Eur\n"
     ]
    }
   ],
   "source": [
    "line_expansion_cost = n.lines.s_nom_opt*432.97*n.lines.length # investment cost of transmission lines (Eur/MW) why 432.97?\n",
    "print(\"Investment costs for line expansion: \" + str(line_expansion_cost.sum()/1000000*(9.5+2.5)/2.5) + \" Million Eur\") "
   ]
  },
  {
   "cell_type": "code",
   "execution_count": null,
   "metadata": {},
   "outputs": [
    {
     "data": {
      "text/plain": [
       "carrier\n",
       "CCGT      9.148374e+02\n",
       "load      7.800000e+10\n",
       "oil       2.662288e+02\n",
       "onwind    1.149823e+00\n",
       "ror       2.671260e+02\n",
       "solar     1.443094e+01\n",
       "Name: p_nom, dtype: float64"
      ]
     },
     "execution_count": 37,
     "metadata": {},
     "output_type": "execute_result"
    }
   ],
   "source": [
    "gen_cap = n.generators.groupby([\"carrier\"]).sum()\n",
    "gen_cap.p_nom\n"
   ]
  },
  {
   "cell_type": "code",
   "execution_count": null,
   "metadata": {},
   "outputs": [
    {
     "data": {
      "text/plain": [
       "carrier\n",
       "CCGT      9.148374e+02\n",
       "load      7.800000e+10\n",
       "oil       2.662288e+02\n",
       "onwind    1.150028e+00\n",
       "ror       2.671260e+02\n",
       "solar     4.534246e+03\n",
       "Name: p_nom_opt, dtype: float64"
      ]
     },
     "execution_count": 38,
     "metadata": {},
     "output_type": "execute_result"
    }
   ],
   "source": [
    "#optimized\n",
    "\n",
    "gen_cap.p_nom_opt"
   ]
  },
  {
   "cell_type": "code",
   "execution_count": null,
   "metadata": {},
   "outputs": [
    {
     "data": {
      "text/plain": [
       "carrier\n",
       "hydro    2482.866242\n",
       "Name: p_nom_opt, dtype: float64"
      ]
     },
     "execution_count": 39,
     "metadata": {},
     "output_type": "execute_result"
    }
   ],
   "source": [
    "stores_cap = n.storage_units.groupby([\"carrier\"]).sum()\n",
    "stores_cap.p_nom_opt"
   ]
  },
  {
   "cell_type": "code",
   "execution_count": null,
   "metadata": {},
   "outputs": [
    {
     "data": {
      "text/plain": [
       "carrier\n",
       "CCGT         0.000000\n",
       "load         0.000000\n",
       "oil          0.000000\n",
       "onwind       0.000206\n",
       "ror          0.000000\n",
       "solar     4519.815272\n",
       "dtype: float64"
      ]
     },
     "execution_count": 40,
     "metadata": {},
     "output_type": "execute_result"
    }
   ],
   "source": [
    "#installed capacity expansion\n",
    "generation_expansion = gen_cap['p_nom_opt'] - gen_cap['p_nom']\n",
    "generation_expansion"
   ]
  },
  {
   "cell_type": "code",
   "execution_count": null,
   "metadata": {},
   "outputs": [
    {
     "data": {
      "text/plain": [
       "4519.81547747539"
      ]
     },
     "execution_count": 41,
     "metadata": {},
     "output_type": "execute_result"
    }
   ],
   "source": [
    "generation_expansion.sum()"
   ]
  },
  {
   "cell_type": "markdown",
   "metadata": {},
   "source": [
    "Transmission expansion"
   ]
  },
  {
   "cell_type": "code",
   "execution_count": null,
   "metadata": {},
   "outputs": [
    {
     "name": "stderr",
     "output_type": "stream",
     "text": [
      "INFO:pypsa.io:Imported network base.nc has buses, lines, transformers\n"
     ]
    },
    {
     "data": {
      "text/plain": [
       "1089.727164633953"
      ]
     },
     "execution_count": 42,
     "metadata": {},
     "output_type": "execute_result"
    }
   ],
   "source": [
    "\n",
    "n_line = pypsa.Network(base_network)\n",
    "check_lines = n_line.lines\n",
    "check_lines.s_nom.mean()"
   ]
  },
  {
   "cell_type": "code",
   "execution_count": null,
   "metadata": {},
   "outputs": [
    {
     "data": {
      "text/plain": [
       "1677.4827943122498"
      ]
     },
     "execution_count": 43,
     "metadata": {},
     "output_type": "execute_result"
    }
   ],
   "source": [
    "lines=n.lines\n",
    "n.lines.s_nom.mean()"
   ]
  },
  {
   "cell_type": "code",
   "execution_count": null,
   "metadata": {},
   "outputs": [
    {
     "data": {
      "text/plain": [
       "Line\n",
       "0     4.993218e-06\n",
       "1     5.953064e-07\n",
       "10    7.743108e-06\n",
       "11    8.895342e-06\n",
       "12    7.511956e-06\n",
       "13    3.387795e-06\n",
       "14    1.756866e-06\n",
       "15    4.143369e-06\n",
       "16    7.415977e-06\n",
       "17    3.900255e-06\n",
       "18    1.098389e-06\n",
       "19    1.667092e-05\n",
       "2     4.914104e-05\n",
       "20    3.308480e-05\n",
       "21    4.602093e-06\n",
       "22    4.680966e-06\n",
       "23    1.358363e+01\n",
       "24    7.301248e-06\n",
       "25    7.030811e-05\n",
       "26    1.248998e-06\n",
       "27    1.558249e-05\n",
       "28    1.068951e-04\n",
       "29    9.869566e-05\n",
       "3     1.054512e-05\n",
       "30    1.179519e-04\n",
       "31    1.725712e-05\n",
       "32    1.095240e-05\n",
       "33    3.809374e-07\n",
       "34    1.256835e-04\n",
       "4     4.610495e-07\n",
       "5     4.801892e-06\n",
       "6     2.198035e-06\n",
       "7     1.056492e-07\n",
       "8     2.293660e-05\n",
       "9     6.665342e-06\n",
       "dtype: float64"
      ]
     },
     "execution_count": 44,
     "metadata": {},
     "output_type": "execute_result"
    }
   ],
   "source": [
    "#transmission capacity expansion\n",
    "transmission_expansion = lines['s_nom_opt'] - lines['s_nom']\n",
    "transmission_expansion"
   ]
  },
  {
   "cell_type": "code",
   "execution_count": null,
   "metadata": {},
   "outputs": [
    {
     "name": "stdout",
     "output_type": "stream",
     "text": [
      "Total expansion of the system: 13.584408950146752\n"
     ]
    }
   ],
   "source": [
    "real_expansion = 0\n",
    "for i in range(len(transmission_expansion)):  # Iterate over the indices of the Series\n",
    "    if transmission_expansion.iloc[i] > 0:  # Check if the expansion value is greater than 0\n",
    "        real_expansion += transmission_expansion.iloc[i]  # Add the expansion value to real_expansion\n",
    "\n",
    "print(\"Total expansion of the system:\", real_expansion)"
   ]
  },
  {
   "cell_type": "code",
   "execution_count": null,
   "metadata": {},
   "outputs": [
    {
     "data": {
      "text/plain": [
       "13.58362935757691"
      ]
     },
     "execution_count": 46,
     "metadata": {},
     "output_type": "execute_result"
    }
   ],
   "source": [
    "max_line_expansion = transmission_expansion.max()\n",
    "max_line_expansion"
   ]
  },
  {
   "cell_type": "code",
   "execution_count": null,
   "metadata": {},
   "outputs": [
    {
     "name": "stderr",
     "output_type": "stream",
     "text": [
      "c:\\Users\\hie\\AppData\\Local\\anaconda3\\envs\\pypsa-earth\\lib\\site-packages\\cartopy\\mpl\\feature_artist.py:144: UserWarning:\n",
      "\n",
      "facecolor will have no effect as it has been defined as \"never\".\n",
      "\n",
      "c:\\Users\\hie\\AppData\\Local\\anaconda3\\envs\\pypsa-earth\\lib\\site-packages\\cartopy\\mpl\\feature_artist.py:144: UserWarning:\n",
      "\n",
      "facecolor will have no effect as it has been defined as \"never\".\n",
      "\n",
      "C:\\Users\\hie\\AppData\\Local\\Temp\\ipykernel_16068\\3926023072.py:165: UserWarning:\n",
      "\n",
      "This pattern is interpreted as a regular expression, and has match groups. To actually get the groups, use str.extract.\n",
      "\n"
     ]
    },
    {
     "data": {
      "image/png": "[encoded data removed]",
      "text/plain": [
       "<Figure size 1000x1000 with 1 Axes>"
      ]
     },
     "metadata": {},
     "output_type": "display_data"
    }
   ],
   "source": [
    "import cartopy.crs as ccrs\n",
    "from matplotlib.patches import Circle, Ellipse\n",
    "from matplotlib.legend_handler import HandlerPatch\n",
    "\n",
    "\n",
    "def make_handler_map_to_scale_circles_as_in(ax, dont_resize_actively=False):\n",
    "    fig = ax.get_figure()\n",
    "\n",
    "    def axes2pt():\n",
    "        return np.diff(ax.transData.transform([(0, 0), (1, 1)]), axis=0)[0] * (\n",
    "            300.0 / fig.dpi\n",
    "        )\n",
    "\n",
    "    ellipses = []\n",
    "    if not dont_resize_actively:\n",
    "\n",
    "        def update_width_height(event):\n",
    "            dist = axes2pt()\n",
    "            for e, radius in ellipses:\n",
    "                e.width, e.height = 2.0 * radius * dist\n",
    "\n",
    "        fig.canvas.mpl_connect(\"resize_event\", update_width_height)\n",
    "        ax.callbacks.connect(\"xlim_changed\", update_width_height)\n",
    "        ax.callbacks.connect(\"ylim_changed\", update_width_height)\n",
    "\n",
    "    def legend_circle_handler(\n",
    "        legend, orig_handle, xdescent, ydescent, width, height, fontsize\n",
    "    ):\n",
    "        w, h = 2.0 * orig_handle.get_radius() * axes2pt()\n",
    "        e = Ellipse(\n",
    "            xy=(0.5 * width - 0.5 * xdescent, 0.5 * height - 0.5 * ydescent),\n",
    "            width=w,\n",
    "            height=w,\n",
    "        )\n",
    "        ellipses.append((e, orig_handle.get_radius()))\n",
    "        return e\n",
    "\n",
    "    return {Circle: HandlerPatch(patch_func=legend_circle_handler)}\n",
    "\n",
    "\n",
    "def make_legend_circles_for(sizes, scale=1.0, **kw):\n",
    "    return [Circle((0, 0), radius=(s / scale) ** 0.5, **kw) for s in sizes]\n",
    "\n",
    "\n",
    "def add_legend(ax, bus_factor, branch_factor):\n",
    "\n",
    "    handles = []\n",
    "    labels = []\n",
    "    for s in (0.5, 1.0, 1.5):\n",
    "        handles.append(\n",
    "            plt.Line2D([0], [0], color=\"rosybrown\", linewidth=s * 1e3 / branch_factor)\n",
    "        )\n",
    "        labels.append(f\"{s} GW\")\n",
    "    l1 = ax.legend(\n",
    "        handles,\n",
    "        labels,\n",
    "        loc=\"upper left\",\n",
    "        bbox_to_anchor=(0, 0),\n",
    "        frameon=False,\n",
    "        labelspacing=1.2,\n",
    "        handletextpad=1.5,\n",
    "        title=\"HVAC Line Capacity\",\n",
    "        title_fontsize=13,\n",
    "        fontsize=11,\n",
    "    )\n",
    "    ax.add_artist(l1)\n",
    "\n",
    "    handles = []\n",
    "    labels = []\n",
    "    if \"Load\" in n.carriers.index:\n",
    "        n.carriers = n.carriers.drop(\"Load\")\n",
    "\n",
    "    # Filter n.carriers to only exclude \"H2\" and \"batteries\"\n",
    "    filtered_carriers = n.carriers.loc[~n.carriers.index.isin(['H2', 'battery'])]\n",
    "\n",
    "    # Iterate over the filtered carriers\n",
    "    for name, carrier in filtered_carriers.iterrows():\n",
    "        handles.append(\n",
    "            plt.Line2D(\n",
    "                [0], [0], color=carrier.color, marker=\"o\", markersize=8, linewidth=0\n",
    "            )\n",
    "        )\n",
    "\n",
    "        labels.append(carrier.nice_name)\n",
    "    l3 = ax.legend(\n",
    "        handles,\n",
    "        labels,\n",
    "        loc=\"upper center\",\n",
    "        bbox_to_anchor=(0.53, -0.0),  # bbox_to_anchor=(0.72, -0.05),\n",
    "        handletextpad=0.0,\n",
    "        columnspacing=0.3,\n",
    "        ncol=2,\n",
    "        title=\"Technology\",\n",
    "        title_fontsize=13,\n",
    "        fontsize=11,\n",
    "        frameon=False,\n",
    "    )\n",
    "    ax.add_artist(l3)\n",
    "\n",
    "    circles = [10, 20]\n",
    "    handles = make_legend_circles_for(circles, scale=bus_factor, facecolor=\"lightgray\")\n",
    "    labels = [f\"{float(s/1e1)} GW\" for s in circles]\n",
    "    l4 = ax.legend(\n",
    "        handles,\n",
    "        labels,\n",
    "        loc=\"upper left\",\n",
    "        bbox_to_anchor=(0.82, 0.0),\n",
    "        frameon=False,\n",
    "        labelspacing=3.2,\n",
    "        title=\"Generation\",\n",
    "        title_fontsize=13,\n",
    "        fontsize=11,\n",
    "        handler_map=make_handler_map_to_scale_circles_as_in(ax, True),\n",
    "    )\n",
    "    ax.add_artist(l4)\n",
    "\n",
    "\n",
    "def plot_network(n, fn=None):\n",
    "\n",
    "    bus_factor = 6.0e3\n",
    "    branch_factor = 7.5e1\n",
    "\n",
    "    fields = [\"bus\", \"carrier\", \"p_nom\",\"p_nom_opt\"]\n",
    "        \n",
    "    pie_components = pd.concat(\n",
    "        [\n",
    "            n.generators.loc[n.generators.carrier != \"load\", fields],\n",
    "            n.storage_units[fields],\n",
    "        ]\n",
    "    )\n",
    "    bus_sizes = pie_components.groupby([\"bus\", \"carrier\"]).p_nom_opt.sum() / bus_factor\n",
    "\n",
    "    def clip(df, thres=100):\n",
    "        return df.where(df > thres, other=0.0)\n",
    "\n",
    "    line_widths = clip(n.lines.s_nom_opt - n.lines.s_nom) / branch_factor\n",
    "    link_widths = clip(n.links.p_nom_opt - n.links.p_nom) / branch_factor\n",
    "    line_widths_opt = n.lines.s_nom_opt / branch_factor\n",
    "\n",
    "    fig, ax = plt.subplots(\n",
    "        figsize=(10, 10), subplot_kw={\"projection\": ccrs.PlateCarree()}\n",
    "    )\n",
    "\n",
    "    n.plot(\n",
    "        ax=ax,\n",
    "        bus_sizes=bus_sizes,\n",
    "        color_geomap=True,\n",
    "        bus_alpha=0.7,\n",
    "        line_widths=line_widths_opt,\n",
    "        line_colors=\"#dddddd\",\n",
    "    )\n",
    "\n",
    "    n.plot(\n",
    "        ax=ax,\n",
    "        geomap=True,\n",
    "        bus_sizes=0,\n",
    "        line_widths=line_widths,\n",
    "        link_widths=link_widths,\n",
    "    )\n",
    "\n",
    "\n",
    "    # Convert \"Bus\" index column to string type\n",
    "    filtered_buses = n.buses\n",
    "    filtered_buses.index = filtered_buses.index.astype(str)\n",
    "    filtered_buses = n.buses[~n.buses.index.str.contains(r\"(H2|battery)$\")]\n",
    "    \n",
    "    # Add bus names to the plot\n",
    "    for bus, (lon, lat) in filtered_buses[['x', 'y']].iterrows():\n",
    "        ax.text(lon, lat, bus, fontsize=5, color='black', ha='center', va='center')\n",
    "\n",
    "\n",
    "    add_legend(ax, bus_factor, branch_factor)\n",
    "\n",
    "    \n",
    "\n",
    "\n",
    "    if fn is not None:\n",
    "        plt.savefig(fn, bbox_inches=\"tight\")\n",
    "\n",
    "\n",
    "plot_network(n)"
   ]
  },
  {
   "cell_type": "code",
   "execution_count": null,
   "metadata": {},
   "outputs": [
    {
     "data": {
      "application/vnd.microsoft.datawrangler.viewer.v0+json": {
       "columns": [
        {
         "name": "(None, None)",
         "rawType": "object",
         "type": "unknown"
        },
        {
         "name": "Optimal Capacity",
         "rawType": "float64",
         "type": "float"
        },
        {
         "name": "Installed Capacity",
         "rawType": "float64",
         "type": "float"
        },
        {
         "name": "Supply",
         "rawType": "float64",
         "type": "float"
        },
        {
         "name": "Withdrawal",
         "rawType": "float64",
         "type": "float"
        },
        {
         "name": "Dispatch",
         "rawType": "float64",
         "type": "float"
        },
        {
         "name": "Transmission",
         "rawType": "float64",
         "type": "float"
        },
        {
         "name": "Capacity Factor",
         "rawType": "float64",
         "type": "float"
        },
        {
         "name": "Curtailment",
         "rawType": "float64",
         "type": "float"
        },
        {
         "name": "Capital Expenditure",
         "rawType": "float64",
         "type": "float"
        },
        {
         "name": "Operational Expenditure",
         "rawType": "float64",
         "type": "float"
        },
        {
         "name": "Revenue",
         "rawType": "float64",
         "type": "float"
        },
        {
         "name": "Market Value",
         "rawType": "float64",
         "type": "float"
        }
       ],
       "conversionMethod": "pd.DataFrame",
       "ref": "5b9a2304-d653-485a-8748-f7f70c367d4f",
       "rows": [
        [
         "('Generator', 'Combined-Cycle Gas')",
         "914.8373885188247",
         "914.8373885188247",
         "9940.790950786604",
         "0.0",
         "9940.790950786604",
         "0.0",
         "0.0012404319081995702",
         "0.0",
         "95863999.28147234",
         "465356.0483847523",
         "6255427.24530633",
         "629.2685638672789"
        ],
        [
         "('Generator', 'Oil')",
         "266.2288213906846",
         "266.2288213906846",
         "0.0025157369229891337",
         "0.0",
         "0.0025157369229891337",
         "0.0",
         "1.078713336706939e-09",
         "0.0",
         "10672206.81677505",
         "0.39631206635289257",
         "0.06400134546255869",
         "25.44039675917859"
        ],
        [
         "('Generator', 'Onshore Wind')",
         "1.1500284179684668",
         "1.1498228086748576",
         "1008.926369594171",
         "0.0",
         "1008.926369594171",
         "0.0",
         "0.10014904093223498",
         "94.45437913258782",
         "116893.63034195664",
         "25.401428528437005",
         "29348.04018669604",
         "29.088386497917536"
        ],
        [
         "('Generator', 'Run of River')",
         "267.12597159415475",
         "267.12597159415475",
         "2340023.370618132",
         "0.0",
         "2340023.370618132",
         "0.0",
         "0.9999999399379268",
         "0.0",
         "82320310.01124246",
         "22013.19781956654",
         "59510983.94993834",
         "25.431790424476894"
        ],
        [
         "('Generator', 'Solar')",
         "4534.246208470626",
         "14.43093660452878",
         "6452819.670129195",
         "0.0",
         "6452819.670129195",
         "0.0",
         "0.16245770876725435",
         "423749.35813159856",
         "178179882.38058877",
         "124026.05611045881",
         "178274385.08930922",
         "27.627362021994937"
        ],
        [
         "('Generator', 'load')",
         "78000000000.0",
         "78000000000.0",
         "0.00019318977976024996",
         "0.0",
         "0.00019318977976024996",
         "0.0",
         "2.8273881828862247e-16",
         "0.0",
         "0.0",
         "19.320909096463872",
         "0.007370237700577888",
         "38.15024640394751"
        ],
        [
         "('Line', 'AC')",
         "58725.48220987888",
         "58711.89780092873",
         "22211370.43348474",
         "22211370.43348474",
         "0.0",
         "-174429.31294859434",
         "0.043176223925598896",
         "0.0",
         "541365199.3732936",
         "0.0",
         "580711.313937027",
         "0.026144776418732696"
        ],
        [
         "('Link', 'battery charger')",
         "30.25846697524814",
         "0.0",
         "8582.512204240436",
         "8940.11687941712",
         "-357.6046751766844",
         "0.0",
         "0.03372812272477412",
         "0.0",
         "746723.2250868389",
         "92.14403265106408",
         "84.60388108436746",
         "0.009857705887393355"
        ],
        [
         "('Link', 'battery discharger')",
         "31.519236432550148",
         "0.0",
         "8239.211806846153",
         "8582.512298798076",
         "-343.3004919519226",
         "0.0",
         "0.03108383824561734",
         "0.0",
         "0.0",
         "83.27586174043486",
         "746767.0048941001",
         "90.6357334173142"
        ],
        [
         "('Load', '-')",
         "0.0",
         "0.0",
         "0.0",
         "10440526.558063824",
         "-10440526.558063824",
         "0.0",
         null,
         "0.0",
         "0.0",
         "0.0",
         "-296806161.2927872",
         null
        ],
        [
         "('StorageUnit', 'Reservoir & Dam')",
         "2482.8662420382166",
         "2482.8662420382166",
         "1637434.7024635898",
         "0.0",
         "1637434.7024635898",
         "0.0",
         "0.07528467161170066",
         "0.0",
         "0.0",
         "16249.81428814886",
         "41654548.75981557",
         "25.43890678336335"
        ],
        [
         "('Store', 'Battery Storage')",
         "756.4385914386817",
         "0.0",
         "8407.957120138475",
         "8407.957120138475",
         "-7.918664791402687e-14",
         "0.0",
         "0.4980103237045942",
         "0.0",
         "9753921.54501661",
         "1.4258409452487974e-15",
         "9753905.21466385",
         "1160.0802757784768"
        ]
       ],
       "shape": {
        "columns": 12,
        "rows": 12
       }
      },
      "text/html": [
       "<div>\n",
       "<style scoped>\n",
       "    .dataframe tbody tr th:only-of-type {\n",
       "        vertical-align: middle;\n",
       "    }\n",
       "\n",
       "    .dataframe tbody tr th {\n",
       "        vertical-align: top;\n",
       "    }\n",
       "\n",
       "    .dataframe thead th {\n",
       "        text-align: right;\n",
       "    }\n",
       "</style>\n",
       "<table border=\"1\" class=\"dataframe\">\n",
       "  <thead>\n",
       "    <tr style=\"text-align: right;\">\n",
       "      <th></th>\n",
       "      <th></th>\n",
       "      <th>Optimal Capacity</th>\n",
       "      <th>Installed Capacity</th>\n",
       "      <th>Supply</th>\n",
       "      <th>Withdrawal</th>\n",
       "      <th>Dispatch</th>\n",
       "      <th>Transmission</th>\n",
       "      <th>Capacity Factor</th>\n",
       "      <th>Curtailment</th>\n",
       "      <th>Capital Expenditure</th>\n",
       "      <th>Operational Expenditure</th>\n",
       "      <th>Revenue</th>\n",
       "      <th>Market Value</th>\n",
       "    </tr>\n",
       "  </thead>\n",
       "  <tbody>\n",
       "    <tr>\n",
       "      <th rowspan=\"6\" valign=\"top\">Generator</th>\n",
       "      <th>Combined-Cycle Gas</th>\n",
       "      <td>9.148374e+02</td>\n",
       "      <td>9.148374e+02</td>\n",
       "      <td>9.940791e+03</td>\n",
       "      <td>0.000000e+00</td>\n",
       "      <td>9.940791e+03</td>\n",
       "      <td>0.000000</td>\n",
       "      <td>1.240432e-03</td>\n",
       "      <td>0.000000</td>\n",
       "      <td>9.586400e+07</td>\n",
       "      <td>4.653560e+05</td>\n",
       "      <td>6.255427e+06</td>\n",
       "      <td>629.268564</td>\n",
       "    </tr>\n",
       "    <tr>\n",
       "      <th>Oil</th>\n",
       "      <td>2.662288e+02</td>\n",
       "      <td>2.662288e+02</td>\n",
       "      <td>2.515737e-03</td>\n",
       "      <td>0.000000e+00</td>\n",
       "      <td>2.515737e-03</td>\n",
       "      <td>0.000000</td>\n",
       "      <td>1.078713e-09</td>\n",
       "      <td>0.000000</td>\n",
       "      <td>1.067221e+07</td>\n",
       "      <td>3.963121e-01</td>\n",
       "      <td>6.400135e-02</td>\n",
       "      <td>25.440397</td>\n",
       "    </tr>\n",
       "    <tr>\n",
       "      <th>Onshore Wind</th>\n",
       "      <td>1.150028e+00</td>\n",
       "      <td>1.149823e+00</td>\n",
       "      <td>1.008926e+03</td>\n",
       "      <td>0.000000e+00</td>\n",
       "      <td>1.008926e+03</td>\n",
       "      <td>0.000000</td>\n",
       "      <td>1.001490e-01</td>\n",
       "      <td>94.454379</td>\n",
       "      <td>1.168936e+05</td>\n",
       "      <td>2.540143e+01</td>\n",
       "      <td>2.934804e+04</td>\n",
       "      <td>29.088386</td>\n",
       "    </tr>\n",
       "    <tr>\n",
       "      <th>Run of River</th>\n",
       "      <td>2.671260e+02</td>\n",
       "      <td>2.671260e+02</td>\n",
       "      <td>2.340023e+06</td>\n",
       "      <td>0.000000e+00</td>\n",
       "      <td>2.340023e+06</td>\n",
       "      <td>0.000000</td>\n",
       "      <td>9.999999e-01</td>\n",
       "      <td>0.000000</td>\n",
       "      <td>8.232031e+07</td>\n",
       "      <td>2.201320e+04</td>\n",
       "      <td>5.951098e+07</td>\n",
       "      <td>25.431790</td>\n",
       "    </tr>\n",
       "    <tr>\n",
       "      <th>Solar</th>\n",
       "      <td>4.534246e+03</td>\n",
       "      <td>1.443094e+01</td>\n",
       "      <td>6.452820e+06</td>\n",
       "      <td>0.000000e+00</td>\n",
       "      <td>6.452820e+06</td>\n",
       "      <td>0.000000</td>\n",
       "      <td>1.624577e-01</td>\n",
       "      <td>423749.358132</td>\n",
       "      <td>1.781799e+08</td>\n",
       "      <td>1.240261e+05</td>\n",
       "      <td>1.782744e+08</td>\n",
       "      <td>27.627362</td>\n",
       "    </tr>\n",
       "    <tr>\n",
       "      <th>load</th>\n",
       "      <td>7.800000e+10</td>\n",
       "      <td>7.800000e+10</td>\n",
       "      <td>1.931898e-04</td>\n",
       "      <td>0.000000e+00</td>\n",
       "      <td>1.931898e-04</td>\n",
       "      <td>0.000000</td>\n",
       "      <td>2.827388e-16</td>\n",
       "      <td>0.000000</td>\n",
       "      <td>0.000000e+00</td>\n",
       "      <td>1.932091e+01</td>\n",
       "      <td>7.370238e-03</td>\n",
       "      <td>38.150246</td>\n",
       "    </tr>\n",
       "    <tr>\n",
       "      <th>Line</th>\n",
       "      <th>AC</th>\n",
       "      <td>5.872548e+04</td>\n",
       "      <td>5.871190e+04</td>\n",
       "      <td>2.221137e+07</td>\n",
       "      <td>2.221137e+07</td>\n",
       "      <td>0.000000e+00</td>\n",
       "      <td>-174429.312949</td>\n",
       "      <td>4.317622e-02</td>\n",
       "      <td>0.000000</td>\n",
       "      <td>5.413652e+08</td>\n",
       "      <td>0.000000e+00</td>\n",
       "      <td>5.807113e+05</td>\n",
       "      <td>0.026145</td>\n",
       "    </tr>\n",
       "    <tr>\n",
       "      <th rowspan=\"2\" valign=\"top\">Link</th>\n",
       "      <th>battery charger</th>\n",
       "      <td>3.025847e+01</td>\n",
       "      <td>0.000000e+00</td>\n",
       "      <td>8.582512e+03</td>\n",
       "      <td>8.940117e+03</td>\n",
       "      <td>-3.576047e+02</td>\n",
       "      <td>0.000000</td>\n",
       "      <td>3.372812e-02</td>\n",
       "      <td>0.000000</td>\n",
       "      <td>7.467232e+05</td>\n",
       "      <td>9.214403e+01</td>\n",
       "      <td>8.460388e+01</td>\n",
       "      <td>0.009858</td>\n",
       "    </tr>\n",
       "    <tr>\n",
       "      <th>battery discharger</th>\n",
       "      <td>3.151924e+01</td>\n",
       "      <td>0.000000e+00</td>\n",
       "      <td>8.239212e+03</td>\n",
       "      <td>8.582512e+03</td>\n",
       "      <td>-3.433005e+02</td>\n",
       "      <td>0.000000</td>\n",
       "      <td>3.108384e-02</td>\n",
       "      <td>0.000000</td>\n",
       "      <td>0.000000e+00</td>\n",
       "      <td>8.327586e+01</td>\n",
       "      <td>7.467670e+05</td>\n",
       "      <td>90.635733</td>\n",
       "    </tr>\n",
       "    <tr>\n",
       "      <th>Load</th>\n",
       "      <th>-</th>\n",
       "      <td>0.000000e+00</td>\n",
       "      <td>0.000000e+00</td>\n",
       "      <td>0.000000e+00</td>\n",
       "      <td>1.044053e+07</td>\n",
       "      <td>-1.044053e+07</td>\n",
       "      <td>0.000000</td>\n",
       "      <td>NaN</td>\n",
       "      <td>0.000000</td>\n",
       "      <td>0.000000e+00</td>\n",
       "      <td>0.000000e+00</td>\n",
       "      <td>-2.968062e+08</td>\n",
       "      <td>NaN</td>\n",
       "    </tr>\n",
       "    <tr>\n",
       "      <th>StorageUnit</th>\n",
       "      <th>Reservoir &amp; Dam</th>\n",
       "      <td>2.482866e+03</td>\n",
       "      <td>2.482866e+03</td>\n",
       "      <td>1.637435e+06</td>\n",
       "      <td>0.000000e+00</td>\n",
       "      <td>1.637435e+06</td>\n",
       "      <td>0.000000</td>\n",
       "      <td>7.528467e-02</td>\n",
       "      <td>0.000000</td>\n",
       "      <td>0.000000e+00</td>\n",
       "      <td>1.624981e+04</td>\n",
       "      <td>4.165455e+07</td>\n",
       "      <td>25.438907</td>\n",
       "    </tr>\n",
       "    <tr>\n",
       "      <th>Store</th>\n",
       "      <th>Battery Storage</th>\n",
       "      <td>7.564386e+02</td>\n",
       "      <td>0.000000e+00</td>\n",
       "      <td>8.407957e+03</td>\n",
       "      <td>8.407957e+03</td>\n",
       "      <td>-7.918665e-14</td>\n",
       "      <td>0.000000</td>\n",
       "      <td>4.980103e-01</td>\n",
       "      <td>0.000000</td>\n",
       "      <td>9.753922e+06</td>\n",
       "      <td>1.425841e-15</td>\n",
       "      <td>9.753905e+06</td>\n",
       "      <td>1160.080276</td>\n",
       "    </tr>\n",
       "  </tbody>\n",
       "</table>\n",
       "</div>"
      ],
      "text/plain": [
       "                                Optimal Capacity  Installed Capacity  \\\n",
       "Generator   Combined-Cycle Gas      9.148374e+02        9.148374e+02   \n",
       "            Oil                     2.662288e+02        2.662288e+02   \n",
       "            Onshore Wind            1.150028e+00        1.149823e+00   \n",
       "            Run of River            2.671260e+02        2.671260e+02   \n",
       "            Solar                   4.534246e+03        1.443094e+01   \n",
       "            load                    7.800000e+10        7.800000e+10   \n",
       "Line        AC                      5.872548e+04        5.871190e+04   \n",
       "Link        battery charger         3.025847e+01        0.000000e+00   \n",
       "            battery discharger      3.151924e+01        0.000000e+00   \n",
       "Load        -                       0.000000e+00        0.000000e+00   \n",
       "StorageUnit Reservoir & Dam         2.482866e+03        2.482866e+03   \n",
       "Store       Battery Storage         7.564386e+02        0.000000e+00   \n",
       "\n",
       "                                      Supply    Withdrawal      Dispatch  \\\n",
       "Generator   Combined-Cycle Gas  9.940791e+03  0.000000e+00  9.940791e+03   \n",
       "            Oil                 2.515737e-03  0.000000e+00  2.515737e-03   \n",
       "            Onshore Wind        1.008926e+03  0.000000e+00  1.008926e+03   \n",
       "            Run of River        2.340023e+06  0.000000e+00  2.340023e+06   \n",
       "            Solar               6.452820e+06  0.000000e+00  6.452820e+06   \n",
       "            load                1.931898e-04  0.000000e+00  1.931898e-04   \n",
       "Line        AC                  2.221137e+07  2.221137e+07  0.000000e+00   \n",
       "Link        battery charger     8.582512e+03  8.940117e+03 -3.576047e+02   \n",
       "            battery discharger  8.239212e+03  8.582512e+03 -3.433005e+02   \n",
       "Load        -                   0.000000e+00  1.044053e+07 -1.044053e+07   \n",
       "StorageUnit Reservoir & Dam     1.637435e+06  0.000000e+00  1.637435e+06   \n",
       "Store       Battery Storage     8.407957e+03  8.407957e+03 -7.918665e-14   \n",
       "\n",
       "                                 Transmission  Capacity Factor    Curtailment  \\\n",
       "Generator   Combined-Cycle Gas       0.000000     1.240432e-03       0.000000   \n",
       "            Oil                      0.000000     1.078713e-09       0.000000   \n",
       "            Onshore Wind             0.000000     1.001490e-01      94.454379   \n",
       "            Run of River             0.000000     9.999999e-01       0.000000   \n",
       "            Solar                    0.000000     1.624577e-01  423749.358132   \n",
       "            load                     0.000000     2.827388e-16       0.000000   \n",
       "Line        AC                 -174429.312949     4.317622e-02       0.000000   \n",
       "Link        battery charger          0.000000     3.372812e-02       0.000000   \n",
       "            battery discharger       0.000000     3.108384e-02       0.000000   \n",
       "Load        -                        0.000000              NaN       0.000000   \n",
       "StorageUnit Reservoir & Dam          0.000000     7.528467e-02       0.000000   \n",
       "Store       Battery Storage          0.000000     4.980103e-01       0.000000   \n",
       "\n",
       "                                Capital Expenditure  Operational Expenditure  \\\n",
       "Generator   Combined-Cycle Gas         9.586400e+07             4.653560e+05   \n",
       "            Oil                        1.067221e+07             3.963121e-01   \n",
       "            Onshore Wind               1.168936e+05             2.540143e+01   \n",
       "            Run of River               8.232031e+07             2.201320e+04   \n",
       "            Solar                      1.781799e+08             1.240261e+05   \n",
       "            load                       0.000000e+00             1.932091e+01   \n",
       "Line        AC                         5.413652e+08             0.000000e+00   \n",
       "Link        battery charger            7.467232e+05             9.214403e+01   \n",
       "            battery discharger         0.000000e+00             8.327586e+01   \n",
       "Load        -                          0.000000e+00             0.000000e+00   \n",
       "StorageUnit Reservoir & Dam            0.000000e+00             1.624981e+04   \n",
       "Store       Battery Storage            9.753922e+06             1.425841e-15   \n",
       "\n",
       "                                     Revenue  Market Value  \n",
       "Generator   Combined-Cycle Gas  6.255427e+06    629.268564  \n",
       "            Oil                 6.400135e-02     25.440397  \n",
       "            Onshore Wind        2.934804e+04     29.088386  \n",
       "            Run of River        5.951098e+07     25.431790  \n",
       "            Solar               1.782744e+08     27.627362  \n",
       "            load                7.370238e-03     38.150246  \n",
       "Line        AC                  5.807113e+05      0.026145  \n",
       "Link        battery charger     8.460388e+01      0.009858  \n",
       "            battery discharger  7.467670e+05     90.635733  \n",
       "Load        -                  -2.968062e+08           NaN  \n",
       "StorageUnit Reservoir & Dam     4.165455e+07     25.438907  \n",
       "Store       Battery Storage     9.753905e+06   1160.080276  "
      ]
     },
     "execution_count": 48,
     "metadata": {},
     "output_type": "execute_result"
    }
   ],
   "source": [
    "n.statistics()"
   ]
  },
  {
   "cell_type": "code",
   "execution_count": null,
   "metadata": {},
   "outputs": [
    {
     "name": "stderr",
     "output_type": "stream",
     "text": [
      "C:\\Users\\hie\\AppData\\Local\\Temp\\ipykernel_16068\\3758984340.py:1: DeprecatedWarning:\n",
      "\n",
      "dispatch is deprecated as of 0.28 and will be removed in 0.29. Use 'energy_balance' instead.\n",
      "\n",
      "WARNING:pypsa.statistics:Network has multiple bus carriers which are aggregated together. To separate bus carriers set `bus_carrier` or use groupers like `get_carrier_and_bus_carrier`.\n"
     ]
    },
    {
     "data": {
      "text/plain": [
       "9.271266402610651e-06"
      ]
     },
     "execution_count": 49,
     "metadata": {},
     "output_type": "execute_result"
    }
   ],
   "source": [
    "n.statistics.dispatch().sum()"
   ]
  },
  {
   "cell_type": "code",
   "execution_count": null,
   "metadata": {},
   "outputs": [
    {
     "data": {
      "text/plain": [
       "919019136.2638177"
      ]
     },
     "execution_count": 50,
     "metadata": {},
     "output_type": "execute_result"
    }
   ],
   "source": [
    "# Capital expenditure for optimized values (annual values based on p_nom_opt) [Eur/year]\n",
    "n.statistics.capex().sum()"
   ]
  },
  {
   "cell_type": "code",
   "execution_count": null,
   "metadata": {},
   "outputs": [
    {
     "data": {
      "text/plain": [
       "918.2724130387306"
      ]
     },
     "execution_count": 51,
     "metadata": {},
     "output_type": "execute_result"
    }
   ],
   "source": [
    "#manual sum of components to obtain capex of the system [Million Eur/year]\n",
    "capex = (n.generators.p_nom_opt * n.generators.capital_cost).div(1e6).sum()  + (n.storage_units.p_nom_opt * n.storage_units.capital_cost).div(1e6).sum() + (n.lines.s_nom_opt * n.lines.capital_cost).div(1e6).sum() + (n.stores.e_nom_opt * n.stores.capital_cost).div(1e6).sum()# M€/a\n",
    "capex"
   ]
  },
  {
   "cell_type": "code",
   "execution_count": null,
   "metadata": {},
   "outputs": [
    {
     "data": {
      "text/plain": [
       "0.6276902352526179"
      ]
     },
     "execution_count": 52,
     "metadata": {},
     "output_type": "execute_result"
    }
   ],
   "source": [
    "#manual sum of components to obatin opex of the system [Million Eur/year]\n",
    "opex = (n.snapshot_weightings.generators @ n.generators_t.p * (n.generators.marginal_cost).div(1e6)).sum() + (n.snapshot_weightings.generators @ n.storage_units_t.p * (n.storage_units.marginal_cost).div(1e6)).sum()  # M€/a\n",
    "opex"
   ]
  },
  {
   "cell_type": "code",
   "execution_count": null,
   "metadata": {},
   "outputs": [
    {
     "data": {
      "text/plain": [
       "187.41572198969652"
      ]
     },
     "execution_count": 53,
     "metadata": {},
     "output_type": "execute_result"
    }
   ],
   "source": [
    "#manual sum of components to obtain capex of only the expanded capacity (p_nom_opt-p_nom) [Million Eur/year]\n",
    "capex2 = ((n.generators.p_nom_opt - n.generators.p_nom)* n.generators.capital_cost).div(1e6).sum()  + ((n.storage_units.p_nom_opt - n.storage_units.p_nom ) * n.storage_units.capital_cost).div(1e6).sum() + ((n.lines.s_nom_opt - n.lines.s_nom) * n.lines.capital_cost).div(1e6).sum() + ((n.stores.e_nom_opt - n.stores.e_nom) * n.stores.capital_cost).div(1e6).sum()# M€/a\n",
    "capex2"
   ]
  },
  {
   "cell_type": "markdown",
   "metadata": {},
   "source": [
    "Expansion and generation charts"
   ]
  },
  {
   "cell_type": "code",
   "execution_count": null,
   "metadata": {},
   "outputs": [
    {
     "name": "stderr",
     "output_type": "stream",
     "text": [
      "C:\\Users\\hie\\AppData\\Local\\Temp\\ipykernel_16068\\2084180376.py:3: FutureWarning:\n",
      "\n",
      "DataFrame.groupby with axis=1 is deprecated. Do `frame.T.groupby(...)` without axis instead.\n",
      "\n"
     ]
    },
    {
     "data": {
      "text/plain": [
       "<AxesSubplot:xlabel='snapshot'>"
      ]
     },
     "execution_count": 62,
     "metadata": {},
     "output_type": "execute_result"
    },
    {
     "data": {
      "image/png": "[encoded data removed]",
      "text/plain": [
       "<Figure size 640x480 with 1 Axes>"
      ]
     },
     "metadata": {},
     "output_type": "display_data"
    }
   ],
   "source": [
    "date1 = \"2013-01-01\"\n",
    "date2 = \"2014-01-01\"\n",
    "n.generators_t.p.loc[date1:date1].groupby(n.generators.carrier, axis=1).sum().plot(kind = \"area\")\n",
    "n.loads_t.p.loc[date1:date1].sum(axis=1).plot()"
   ]
  },
  {
   "cell_type": "code",
   "execution_count": null,
   "metadata": {},
   "outputs": [
    {
     "data": {
      "image/png": "[encoded data removed]",
      "text/plain": [
       "<Figure size 500x500 with 1 Axes>"
      ]
     },
     "metadata": {},
     "output_type": "display_data"
    }
   ],
   "source": [
    "#selecting generation capacities from statistics\n",
    "capacities = pd.DataFrame(n.statistics.optimal_capacity())\n",
    "capacities = capacities.drop(index=['Line','Load','Link','Store'], level=0)\n",
    "capacities = capacities.reset_index(level=0, drop=True)\n",
    "capacities.rename(columns={0:\"MW\"}, inplace=True)\n",
    "capacities.index.name = \"Technology\"\n",
    "capacities = capacities.drop(index=['load'])\n",
    "capacities['Percentage'] = capacities['MW']/capacities['MW'].sum()*100\n",
    "\n",
    "#defining colors for each technology\n",
    "H2_color='darkgoldenrod'\n",
    "battery_color='tan'\n",
    "demand_color='slategrey'\n",
    "aggregated_small_capacities = 'black'\n",
    "\n",
    "for i in range(len(capacities.index)):\n",
    "    tech = capacities.index[i]  # Access the index value, which is the technology name\n",
    "    if tech == \"Open-Cycle Gas\" : capacities.loc[tech, \"Color\"] = 'lightcoral'\n",
    "    elif tech == \"Combined-Cycle Gas\" : capacities.loc[tech, \"Color\"] = 'indianred'\n",
    "    elif tech == \"Solar\" : capacities.loc[tech, \"Color\"] = 'gold'\n",
    "    elif tech == \"Run of River\" : capacities.loc[tech, \"Color\"] = 'lightsteelblue'\n",
    "    elif tech == \"Onshore Wind\" : capacities.loc[tech, \"Color\"] = '#ff8200'\n",
    "    elif tech == \"Reservoir & Dam\" : capacities.loc[tech, \"Color\"] = 'steelblue'\n",
    "    elif tech == \"Oil\" : capacities.loc[tech, \"Color\"] = 'grey'\n",
    "    elif tech == \"Geothermal\" : capacities.loc[tech, \"Color\"] = 'purple'\n",
    "    elif tech == \"Biomass\" : capacities.loc[tech, \"Color\"] = '#73A917'\n",
    "\n",
    "# Identify, adding and removing capacities smaller than 1%\n",
    "small_capacities = capacities[capacities['Percentage'] < 2]\n",
    "capacities.loc['Others'] = [small_capacities['MW'].sum(), small_capacities['Percentage'].sum(), aggregated_small_capacities]\n",
    "capacities = capacities.drop(index=small_capacities.index)\n",
    "capacities = capacities.sort_index()\n",
    "\n",
    "#plotting the results\n",
    "\n",
    "plt.figure(figsize=(5, 5))\n",
    "plt.pie(capacities['MW'], labels=capacities.index, colors=capacities['Color'], autopct='%1.1f%%', startangle=100, pctdistance=0.85, wedgeprops={'width': 0.4})\n",
    "plt.axis('equal')  # Equal aspect ratio ensures that pie is drawn as a circle.\n",
    "\n",
    "# Calculate total installed capacities\n",
    "total_capacity = capacities['MW'].sum()\n",
    "\n",
    "# Add the total energy annotation at the center of the pie chart\n",
    "plt.text(0, 0, f'Total installed capacity: \\n {int(total_capacity)} MW', fontsize=11, color='black', ha='center')\n",
    "plt.title('Installed Capacities by Technology')\n",
    "plt.show()"
   ]
  },
  {
   "cell_type": "code",
   "execution_count": null,
   "metadata": {},
   "outputs": [
    {
     "name": "stderr",
     "output_type": "stream",
     "text": [
      "C:\\Users\\hie\\AppData\\Local\\Temp\\ipykernel_16068\\3432555159.py:2: DeprecatedWarning:\n",
      "\n",
      "dispatch is deprecated as of 0.28 and will be removed in 0.29. Use 'energy_balance' instead.\n",
      "\n",
      "WARNING:pypsa.statistics:Network has multiple bus carriers which are aggregated together. To separate bus carriers set `bus_carrier` or use groupers like `get_carrier_and_bus_carrier`.\n"
     ]
    },
    {
     "data": {
      "image/png": "[encoded data removed]",
      "text/plain": [
       "<Figure size 500x500 with 1 Axes>"
      ]
     },
     "metadata": {},
     "output_type": "display_data"
    }
   ],
   "source": [
    "#selecting production from statistics\n",
    "production = pd.DataFrame(n.statistics.dispatch())\n",
    "production = production.drop(index=['Line','Load','Link','Store'], level=0)\n",
    "production = production.reset_index(level=0, drop=True)\n",
    "production.rename(columns={0:\"MWh\"}, inplace=True)\n",
    "production.index.name = \"Technology\"\n",
    "production = production.drop(index=['load'])\n",
    "production['Percentage'] = production['MWh']/production['MWh'].sum()*100\n",
    "\n",
    "#defining colors for each technology\n",
    "H2_color='darkgoldenrod'\n",
    "battery_color='tan'\n",
    "demand_color='slategrey'\n",
    "aggregated_small_capacities = 'black'\n",
    "\n",
    "for i in range(len(production.index)):\n",
    "    tech = production.index[i]  # Access the index value, which is the technology name\n",
    "    if tech == \"Open-Cycle Gas\" : production.loc[tech, \"Color\"] = 'lightcoral'\n",
    "    elif tech == \"Combined-Cycle Gas\" : production.loc[tech, \"Color\"] = 'indianred'\n",
    "    elif tech == \"Solar\" : production.loc[tech, \"Color\"] = 'gold'\n",
    "    elif tech == \"Run of River\" : production.loc[tech, \"Color\"] = 'lightsteelblue'\n",
    "    elif tech == \"Onshore Wind\" : production.loc[tech, \"Color\"] = '#ff8200'\n",
    "    elif tech == \"Reservoir & Dam\" : production.loc[tech, \"Color\"] = 'steelblue'\n",
    "    elif tech == \"Oil\" : production.loc[tech, \"Color\"] = 'grey'\n",
    "    elif tech == \"Geothermal\" : production.loc[tech, \"Color\"] = 'purple'\n",
    "    elif tech == \"Biomass\" : production.loc[tech, \"Color\"] = '#73A917'\n",
    "\n",
    "\n",
    "# Identify, adding and removing capacities smaller than 1%\n",
    "small_production = production[production['Percentage'] < 1]\n",
    "production.loc['Others'] = [small_production['MWh'].sum(), small_production['Percentage'].sum(), aggregated_small_capacities]\n",
    "production = production.drop(index=small_production.index)\n",
    "production = production.sort_index()\n",
    "\n",
    "#plotting the results\n",
    "\n",
    "plt.figure(figsize=(5, 5))\n",
    "plt.pie(production['MWh'], labels=production.index, colors=production['Color'], autopct='%1.1f%%', startangle=100, pctdistance=0.85, wedgeprops={'width': 0.4})\n",
    "plt.axis('equal')  # Equal aspect ratio ensures that pie is drawn as a circle.\n",
    "\n",
    "# Calculate total installed capacities\n",
    "total_production = production['MWh'].sum()\n",
    "\n",
    "# Add the total energy annotation at the center of the pie chart\n",
    "plt.text(0, 0, f'Total annunal generation: \\n {int(total_production)} MWh', fontsize=11, color='black', ha='center')\n",
    "plt.title('Annual production by Technology')\n",
    "plt.show()"
   ]
  },
  {
   "cell_type": "code",
   "execution_count": null,
   "metadata": {},
   "outputs": [
    {
     "data": {
      "application/vnd.microsoft.datawrangler.viewer.v0+json": {
       "columns": [
        {
         "name": "('component', 'carrier')",
         "rawType": "object",
         "type": "unknown"
        },
        {
         "name": "0",
         "rawType": "float64",
         "type": "float"
        }
       ],
       "conversionMethod": "pd.DataFrame",
       "ref": "befd1fb3-af1a-4e54-8913-44177098c5f9",
       "rows": [
        [
         "('Link', 'battery charger')",
         "30.25846697524814"
        ],
        [
         "('Link', 'battery discharger')",
         "31.519236432550148"
        ],
        [
         "('Store', 'Battery Storage')",
         "756.4385914386817"
        ],
        [
         "('StorageUnit', 'Reservoir & Dam')",
         "2482.8662420382166"
        ]
       ],
       "shape": {
        "columns": 1,
        "rows": 4
       }
      },
      "text/html": [
       "<div>\n",
       "<style scoped>\n",
       "    .dataframe tbody tr th:only-of-type {\n",
       "        vertical-align: middle;\n",
       "    }\n",
       "\n",
       "    .dataframe tbody tr th {\n",
       "        vertical-align: top;\n",
       "    }\n",
       "\n",
       "    .dataframe thead th {\n",
       "        text-align: right;\n",
       "    }\n",
       "</style>\n",
       "<table border=\"1\" class=\"dataframe\">\n",
       "  <thead>\n",
       "    <tr style=\"text-align: right;\">\n",
       "      <th></th>\n",
       "      <th></th>\n",
       "      <th>0</th>\n",
       "    </tr>\n",
       "    <tr>\n",
       "      <th>component</th>\n",
       "      <th>carrier</th>\n",
       "      <th></th>\n",
       "    </tr>\n",
       "  </thead>\n",
       "  <tbody>\n",
       "    <tr>\n",
       "      <th rowspan=\"2\" valign=\"top\">Link</th>\n",
       "      <th>battery charger</th>\n",
       "      <td>30.258467</td>\n",
       "    </tr>\n",
       "    <tr>\n",
       "      <th>battery discharger</th>\n",
       "      <td>31.519236</td>\n",
       "    </tr>\n",
       "    <tr>\n",
       "      <th>Store</th>\n",
       "      <th>Battery Storage</th>\n",
       "      <td>756.438591</td>\n",
       "    </tr>\n",
       "    <tr>\n",
       "      <th>StorageUnit</th>\n",
       "      <th>Reservoir &amp; Dam</th>\n",
       "      <td>2482.866242</td>\n",
       "    </tr>\n",
       "  </tbody>\n",
       "</table>\n",
       "</div>"
      ],
      "text/plain": [
       "                                          0\n",
       "component   carrier                        \n",
       "Link        battery charger       30.258467\n",
       "            battery discharger    31.519236\n",
       "Store       Battery Storage      756.438591\n",
       "StorageUnit Reservoir & Dam     2482.866242"
      ]
     },
     "execution_count": 57,
     "metadata": {},
     "output_type": "execute_result"
    }
   ],
   "source": [
    "storage_capacities = pd.DataFrame(n.statistics.optimal_capacity())\n",
    "storage_capacities = storage_capacities.drop(index=['Line','Generator'], level=0)\n",
    "storage_capacities"
   ]
  },
  {
   "cell_type": "code",
   "execution_count": null,
   "metadata": {},
   "outputs": [
    {
     "data": {
      "application/vnd.microsoft.datawrangler.viewer.v0+json": {
       "columns": [
        {
         "name": "(None, None)",
         "rawType": "object",
         "type": "unknown"
        },
        {
         "name": "Optimal Capacity",
         "rawType": "float64",
         "type": "float"
        },
        {
         "name": "Installed Capacity",
         "rawType": "float64",
         "type": "float"
        },
        {
         "name": "Supply",
         "rawType": "float64",
         "type": "float"
        },
        {
         "name": "Withdrawal",
         "rawType": "float64",
         "type": "float"
        },
        {
         "name": "Dispatch",
         "rawType": "float64",
         "type": "float"
        },
        {
         "name": "Transmission",
         "rawType": "float64",
         "type": "float"
        },
        {
         "name": "Capacity Factor",
         "rawType": "float64",
         "type": "float"
        },
        {
         "name": "Curtailment",
         "rawType": "float64",
         "type": "float"
        },
        {
         "name": "Capital Expenditure",
         "rawType": "float64",
         "type": "float"
        },
        {
         "name": "Operational Expenditure",
         "rawType": "float64",
         "type": "float"
        },
        {
         "name": "Revenue",
         "rawType": "float64",
         "type": "float"
        },
        {
         "name": "Market Value",
         "rawType": "float64",
         "type": "float"
        }
       ],
       "conversionMethod": "pd.DataFrame",
       "ref": "0878048c-6fab-4fbb-bd76-a94b9984e002",
       "rows": [
        [
         "('Generator', 'Combined-Cycle Gas')",
         "914.8373885188247",
         "914.8373885188247",
         "9940.790950786604",
         "0.0",
         "9940.790950786604",
         "0.0",
         "0.0012404319081995702",
         "0.0",
         "95863999.28147234",
         "465356.0483847523",
         "6255427.24530633",
         "629.2685638672789"
        ],
        [
         "('Generator', 'Oil')",
         "266.2288213906846",
         "266.2288213906846",
         "0.0025157369229891337",
         "0.0",
         "0.0025157369229891337",
         "0.0",
         "1.078713336706939e-09",
         "0.0",
         "10672206.81677505",
         "0.39631206635289257",
         "0.06400134546255869",
         "25.44039675917859"
        ],
        [
         "('Generator', 'Onshore Wind')",
         "1.1500284179684668",
         "1.1498228086748576",
         "1008.926369594171",
         "0.0",
         "1008.926369594171",
         "0.0",
         "0.10014904093223498",
         "94.45437913258782",
         "116893.63034195664",
         "25.401428528437005",
         "29348.04018669604",
         "29.088386497917536"
        ],
        [
         "('Generator', 'Run of River')",
         "267.12597159415475",
         "267.12597159415475",
         "2340023.370618132",
         "0.0",
         "2340023.370618132",
         "0.0",
         "0.9999999399379268",
         "0.0",
         "82320310.01124246",
         "22013.19781956654",
         "59510983.94993834",
         "25.431790424476894"
        ],
        [
         "('Generator', 'Solar')",
         "4534.246208470626",
         "14.43093660452878",
         "6452819.670129195",
         "0.0",
         "6452819.670129195",
         "0.0",
         "0.16245770876725435",
         "423749.35813159856",
         "178179882.38058877",
         "124026.05611045881",
         "178274385.08930922",
         "27.627362021994937"
        ],
        [
         "('Generator', 'load')",
         "78000000000.0",
         "78000000000.0",
         "0.00019318977976024996",
         "0.0",
         "0.00019318977976024996",
         "0.0",
         "2.8273881828862247e-16",
         "0.0",
         "0.0",
         "19.320909096463872",
         "0.007370237700577888",
         "38.15024640394751"
        ],
        [
         "('Line', 'AC')",
         "58725.48220987888",
         "58711.89780092873",
         "22211370.43348474",
         "22211370.43348474",
         "0.0",
         "-174429.31294859434",
         "0.043176223925598896",
         "0.0",
         "541365199.3732936",
         "0.0",
         "580711.313937027",
         "0.026144776418732696"
        ],
        [
         "('Link', 'battery charger')",
         "30.25846697524814",
         "0.0",
         "8582.512204240436",
         "8940.11687941712",
         "-357.6046751766844",
         "0.0",
         "0.03372812272477412",
         "0.0",
         "746723.2250868389",
         "92.14403265106408",
         "84.60388108436746",
         "0.009857705887393355"
        ],
        [
         "('Link', 'battery discharger')",
         "31.519236432550148",
         "0.0",
         "8239.211806846153",
         "8582.512298798076",
         "-343.3004919519226",
         "0.0",
         "0.03108383824561734",
         "0.0",
         "0.0",
         "83.27586174043486",
         "746767.0048941001",
         "90.6357334173142"
        ],
        [
         "('Load', '-')",
         "0.0",
         "0.0",
         "0.0",
         "10440526.558063824",
         "-10440526.558063824",
         "0.0",
         null,
         "0.0",
         "0.0",
         "0.0",
         "-296806161.2927872",
         null
        ],
        [
         "('StorageUnit', 'Reservoir & Dam')",
         "2482.8662420382166",
         "2482.8662420382166",
         "1637434.7024635898",
         "0.0",
         "1637434.7024635898",
         "0.0",
         "0.07528467161170066",
         "0.0",
         "0.0",
         "16249.81428814886",
         "41654548.75981557",
         "25.43890678336335"
        ],
        [
         "('Store', 'Battery Storage')",
         "756.4385914386817",
         "0.0",
         "8407.957120138475",
         "8407.957120138475",
         "-7.918664791402687e-14",
         "0.0",
         "0.4980103237045942",
         "0.0",
         "9753921.54501661",
         "1.4258409452487974e-15",
         "9753905.21466385",
         "1160.0802757784768"
        ]
       ],
       "shape": {
        "columns": 12,
        "rows": 12
       }
      },
      "text/html": [
       "<div>\n",
       "<style scoped>\n",
       "    .dataframe tbody tr th:only-of-type {\n",
       "        vertical-align: middle;\n",
       "    }\n",
       "\n",
       "    .dataframe tbody tr th {\n",
       "        vertical-align: top;\n",
       "    }\n",
       "\n",
       "    .dataframe thead th {\n",
       "        text-align: right;\n",
       "    }\n",
       "</style>\n",
       "<table border=\"1\" class=\"dataframe\">\n",
       "  <thead>\n",
       "    <tr style=\"text-align: right;\">\n",
       "      <th></th>\n",
       "      <th></th>\n",
       "      <th>Optimal Capacity</th>\n",
       "      <th>Installed Capacity</th>\n",
       "      <th>Supply</th>\n",
       "      <th>Withdrawal</th>\n",
       "      <th>Dispatch</th>\n",
       "      <th>Transmission</th>\n",
       "      <th>Capacity Factor</th>\n",
       "      <th>Curtailment</th>\n",
       "      <th>Capital Expenditure</th>\n",
       "      <th>Operational Expenditure</th>\n",
       "      <th>Revenue</th>\n",
       "      <th>Market Value</th>\n",
       "    </tr>\n",
       "  </thead>\n",
       "  <tbody>\n",
       "    <tr>\n",
       "      <th rowspan=\"6\" valign=\"top\">Generator</th>\n",
       "      <th>Combined-Cycle Gas</th>\n",
       "      <td>9.148374e+02</td>\n",
       "      <td>9.148374e+02</td>\n",
       "      <td>9.940791e+03</td>\n",
       "      <td>0.000000e+00</td>\n",
       "      <td>9.940791e+03</td>\n",
       "      <td>0.000000</td>\n",
       "      <td>1.240432e-03</td>\n",
       "      <td>0.000000</td>\n",
       "      <td>9.586400e+07</td>\n",
       "      <td>4.653560e+05</td>\n",
       "      <td>6.255427e+06</td>\n",
       "      <td>629.268564</td>\n",
       "    </tr>\n",
       "    <tr>\n",
       "      <th>Oil</th>\n",
       "      <td>2.662288e+02</td>\n",
       "      <td>2.662288e+02</td>\n",
       "      <td>2.515737e-03</td>\n",
       "      <td>0.000000e+00</td>\n",
       "      <td>2.515737e-03</td>\n",
       "      <td>0.000000</td>\n",
       "      <td>1.078713e-09</td>\n",
       "      <td>0.000000</td>\n",
       "      <td>1.067221e+07</td>\n",
       "      <td>3.963121e-01</td>\n",
       "      <td>6.400135e-02</td>\n",
       "      <td>25.440397</td>\n",
       "    </tr>\n",
       "    <tr>\n",
       "      <th>Onshore Wind</th>\n",
       "      <td>1.150028e+00</td>\n",
       "      <td>1.149823e+00</td>\n",
       "      <td>1.008926e+03</td>\n",
       "      <td>0.000000e+00</td>\n",
       "      <td>1.008926e+03</td>\n",
       "      <td>0.000000</td>\n",
       "      <td>1.001490e-01</td>\n",
       "      <td>94.454379</td>\n",
       "      <td>1.168936e+05</td>\n",
       "      <td>2.540143e+01</td>\n",
       "      <td>2.934804e+04</td>\n",
       "      <td>29.088386</td>\n",
       "    </tr>\n",
       "    <tr>\n",
       "      <th>Run of River</th>\n",
       "      <td>2.671260e+02</td>\n",
       "      <td>2.671260e+02</td>\n",
       "      <td>2.340023e+06</td>\n",
       "      <td>0.000000e+00</td>\n",
       "      <td>2.340023e+06</td>\n",
       "      <td>0.000000</td>\n",
       "      <td>9.999999e-01</td>\n",
       "      <td>0.000000</td>\n",
       "      <td>8.232031e+07</td>\n",
       "      <td>2.201320e+04</td>\n",
       "      <td>5.951098e+07</td>\n",
       "      <td>25.431790</td>\n",
       "    </tr>\n",
       "    <tr>\n",
       "      <th>Solar</th>\n",
       "      <td>4.534246e+03</td>\n",
       "      <td>1.443094e+01</td>\n",
       "      <td>6.452820e+06</td>\n",
       "      <td>0.000000e+00</td>\n",
       "      <td>6.452820e+06</td>\n",
       "      <td>0.000000</td>\n",
       "      <td>1.624577e-01</td>\n",
       "      <td>423749.358132</td>\n",
       "      <td>1.781799e+08</td>\n",
       "      <td>1.240261e+05</td>\n",
       "      <td>1.782744e+08</td>\n",
       "      <td>27.627362</td>\n",
       "    </tr>\n",
       "    <tr>\n",
       "      <th>load</th>\n",
       "      <td>7.800000e+10</td>\n",
       "      <td>7.800000e+10</td>\n",
       "      <td>1.931898e-04</td>\n",
       "      <td>0.000000e+00</td>\n",
       "      <td>1.931898e-04</td>\n",
       "      <td>0.000000</td>\n",
       "      <td>2.827388e-16</td>\n",
       "      <td>0.000000</td>\n",
       "      <td>0.000000e+00</td>\n",
       "      <td>1.932091e+01</td>\n",
       "      <td>7.370238e-03</td>\n",
       "      <td>38.150246</td>\n",
       "    </tr>\n",
       "    <tr>\n",
       "      <th>Line</th>\n",
       "      <th>AC</th>\n",
       "      <td>5.872548e+04</td>\n",
       "      <td>5.871190e+04</td>\n",
       "      <td>2.221137e+07</td>\n",
       "      <td>2.221137e+07</td>\n",
       "      <td>0.000000e+00</td>\n",
       "      <td>-174429.312949</td>\n",
       "      <td>4.317622e-02</td>\n",
       "      <td>0.000000</td>\n",
       "      <td>5.413652e+08</td>\n",
       "      <td>0.000000e+00</td>\n",
       "      <td>5.807113e+05</td>\n",
       "      <td>0.026145</td>\n",
       "    </tr>\n",
       "    <tr>\n",
       "      <th rowspan=\"2\" valign=\"top\">Link</th>\n",
       "      <th>battery charger</th>\n",
       "      <td>3.025847e+01</td>\n",
       "      <td>0.000000e+00</td>\n",
       "      <td>8.582512e+03</td>\n",
       "      <td>8.940117e+03</td>\n",
       "      <td>-3.576047e+02</td>\n",
       "      <td>0.000000</td>\n",
       "      <td>3.372812e-02</td>\n",
       "      <td>0.000000</td>\n",
       "      <td>7.467232e+05</td>\n",
       "      <td>9.214403e+01</td>\n",
       "      <td>8.460388e+01</td>\n",
       "      <td>0.009858</td>\n",
       "    </tr>\n",
       "    <tr>\n",
       "      <th>battery discharger</th>\n",
       "      <td>3.151924e+01</td>\n",
       "      <td>0.000000e+00</td>\n",
       "      <td>8.239212e+03</td>\n",
       "      <td>8.582512e+03</td>\n",
       "      <td>-3.433005e+02</td>\n",
       "      <td>0.000000</td>\n",
       "      <td>3.108384e-02</td>\n",
       "      <td>0.000000</td>\n",
       "      <td>0.000000e+00</td>\n",
       "      <td>8.327586e+01</td>\n",
       "      <td>7.467670e+05</td>\n",
       "      <td>90.635733</td>\n",
       "    </tr>\n",
       "    <tr>\n",
       "      <th>Load</th>\n",
       "      <th>-</th>\n",
       "      <td>0.000000e+00</td>\n",
       "      <td>0.000000e+00</td>\n",
       "      <td>0.000000e+00</td>\n",
       "      <td>1.044053e+07</td>\n",
       "      <td>-1.044053e+07</td>\n",
       "      <td>0.000000</td>\n",
       "      <td>NaN</td>\n",
       "      <td>0.000000</td>\n",
       "      <td>0.000000e+00</td>\n",
       "      <td>0.000000e+00</td>\n",
       "      <td>-2.968062e+08</td>\n",
       "      <td>NaN</td>\n",
       "    </tr>\n",
       "    <tr>\n",
       "      <th>StorageUnit</th>\n",
       "      <th>Reservoir &amp; Dam</th>\n",
       "      <td>2.482866e+03</td>\n",
       "      <td>2.482866e+03</td>\n",
       "      <td>1.637435e+06</td>\n",
       "      <td>0.000000e+00</td>\n",
       "      <td>1.637435e+06</td>\n",
       "      <td>0.000000</td>\n",
       "      <td>7.528467e-02</td>\n",
       "      <td>0.000000</td>\n",
       "      <td>0.000000e+00</td>\n",
       "      <td>1.624981e+04</td>\n",
       "      <td>4.165455e+07</td>\n",
       "      <td>25.438907</td>\n",
       "    </tr>\n",
       "    <tr>\n",
       "      <th>Store</th>\n",
       "      <th>Battery Storage</th>\n",
       "      <td>7.564386e+02</td>\n",
       "      <td>0.000000e+00</td>\n",
       "      <td>8.407957e+03</td>\n",
       "      <td>8.407957e+03</td>\n",
       "      <td>-7.918665e-14</td>\n",
       "      <td>0.000000</td>\n",
       "      <td>4.980103e-01</td>\n",
       "      <td>0.000000</td>\n",
       "      <td>9.753922e+06</td>\n",
       "      <td>1.425841e-15</td>\n",
       "      <td>9.753905e+06</td>\n",
       "      <td>1160.080276</td>\n",
       "    </tr>\n",
       "  </tbody>\n",
       "</table>\n",
       "</div>"
      ],
      "text/plain": [
       "                                Optimal Capacity  Installed Capacity  \\\n",
       "Generator   Combined-Cycle Gas      9.148374e+02        9.148374e+02   \n",
       "            Oil                     2.662288e+02        2.662288e+02   \n",
       "            Onshore Wind            1.150028e+00        1.149823e+00   \n",
       "            Run of River            2.671260e+02        2.671260e+02   \n",
       "            Solar                   4.534246e+03        1.443094e+01   \n",
       "            load                    7.800000e+10        7.800000e+10   \n",
       "Line        AC                      5.872548e+04        5.871190e+04   \n",
       "Link        battery charger         3.025847e+01        0.000000e+00   \n",
       "            battery discharger      3.151924e+01        0.000000e+00   \n",
       "Load        -                       0.000000e+00        0.000000e+00   \n",
       "StorageUnit Reservoir & Dam         2.482866e+03        2.482866e+03   \n",
       "Store       Battery Storage         7.564386e+02        0.000000e+00   \n",
       "\n",
       "                                      Supply    Withdrawal      Dispatch  \\\n",
       "Generator   Combined-Cycle Gas  9.940791e+03  0.000000e+00  9.940791e+03   \n",
       "            Oil                 2.515737e-03  0.000000e+00  2.515737e-03   \n",
       "            Onshore Wind        1.008926e+03  0.000000e+00  1.008926e+03   \n",
       "            Run of River        2.340023e+06  0.000000e+00  2.340023e+06   \n",
       "            Solar               6.452820e+06  0.000000e+00  6.452820e+06   \n",
       "            load                1.931898e-04  0.000000e+00  1.931898e-04   \n",
       "Line        AC                  2.221137e+07  2.221137e+07  0.000000e+00   \n",
       "Link        battery charger     8.582512e+03  8.940117e+03 -3.576047e+02   \n",
       "            battery discharger  8.239212e+03  8.582512e+03 -3.433005e+02   \n",
       "Load        -                   0.000000e+00  1.044053e+07 -1.044053e+07   \n",
       "StorageUnit Reservoir & Dam     1.637435e+06  0.000000e+00  1.637435e+06   \n",
       "Store       Battery Storage     8.407957e+03  8.407957e+03 -7.918665e-14   \n",
       "\n",
       "                                 Transmission  Capacity Factor    Curtailment  \\\n",
       "Generator   Combined-Cycle Gas       0.000000     1.240432e-03       0.000000   \n",
       "            Oil                      0.000000     1.078713e-09       0.000000   \n",
       "            Onshore Wind             0.000000     1.001490e-01      94.454379   \n",
       "            Run of River             0.000000     9.999999e-01       0.000000   \n",
       "            Solar                    0.000000     1.624577e-01  423749.358132   \n",
       "            load                     0.000000     2.827388e-16       0.000000   \n",
       "Line        AC                 -174429.312949     4.317622e-02       0.000000   \n",
       "Link        battery charger          0.000000     3.372812e-02       0.000000   \n",
       "            battery discharger       0.000000     3.108384e-02       0.000000   \n",
       "Load        -                        0.000000              NaN       0.000000   \n",
       "StorageUnit Reservoir & Dam          0.000000     7.528467e-02       0.000000   \n",
       "Store       Battery Storage          0.000000     4.980103e-01       0.000000   \n",
       "\n",
       "                                Capital Expenditure  Operational Expenditure  \\\n",
       "Generator   Combined-Cycle Gas         9.586400e+07             4.653560e+05   \n",
       "            Oil                        1.067221e+07             3.963121e-01   \n",
       "            Onshore Wind               1.168936e+05             2.540143e+01   \n",
       "            Run of River               8.232031e+07             2.201320e+04   \n",
       "            Solar                      1.781799e+08             1.240261e+05   \n",
       "            load                       0.000000e+00             1.932091e+01   \n",
       "Line        AC                         5.413652e+08             0.000000e+00   \n",
       "Link        battery charger            7.467232e+05             9.214403e+01   \n",
       "            battery discharger         0.000000e+00             8.327586e+01   \n",
       "Load        -                          0.000000e+00             0.000000e+00   \n",
       "StorageUnit Reservoir & Dam            0.000000e+00             1.624981e+04   \n",
       "Store       Battery Storage            9.753922e+06             1.425841e-15   \n",
       "\n",
       "                                     Revenue  Market Value  \n",
       "Generator   Combined-Cycle Gas  6.255427e+06    629.268564  \n",
       "            Oil                 6.400135e-02     25.440397  \n",
       "            Onshore Wind        2.934804e+04     29.088386  \n",
       "            Run of River        5.951098e+07     25.431790  \n",
       "            Solar               1.782744e+08     27.627362  \n",
       "            load                7.370238e-03     38.150246  \n",
       "Line        AC                  5.807113e+05      0.026145  \n",
       "Link        battery charger     8.460388e+01      0.009858  \n",
       "            battery discharger  7.467670e+05     90.635733  \n",
       "Load        -                  -2.968062e+08           NaN  \n",
       "StorageUnit Reservoir & Dam     4.165455e+07     25.438907  \n",
       "Store       Battery Storage     9.753905e+06   1160.080276  "
      ]
     },
     "execution_count": 58,
     "metadata": {},
     "output_type": "execute_result"
    }
   ],
   "source": [
    "n.statistics()"
   ]
  },
  {
   "cell_type": "markdown",
   "metadata": {},
   "source": [
    "Dispatch"
   ]
  },
  {
   "cell_type": "code",
   "execution_count": null,
   "metadata": {},
   "outputs": [
    {
     "name": "stderr",
     "output_type": "stream",
     "text": [
      "C:\\Users\\hie\\AppData\\Local\\Temp\\ipykernel_16068\\2440099205.py:2: FutureWarning:\n",
      "\n",
      "DataFrame.groupby with axis=1 is deprecated. Do `frame.T.groupby(...)` without axis instead.\n",
      "\n"
     ]
    },
    {
     "data": {
      "text/plain": [
       "carrier\n",
       "CCGT         414.199623\n",
       "load           0.008050\n",
       "oil            0.000105\n",
       "onwind        42.038599\n",
       "ror        97500.973776\n",
       "solar     268867.486255\n",
       "dtype: float64"
      ]
     },
     "execution_count": 59,
     "metadata": {},
     "output_type": "execute_result"
    }
   ],
   "source": [
    "#energy generated by type of powerplant\n",
    "production_cap = n.generators_t.p.loc[\"2013-01-01\":\"2014-01-01\"].groupby(n.generators.carrier, axis=1).sum()\n",
    "production_cap.sum()"
   ]
  },
  {
   "cell_type": "code",
   "execution_count": null,
   "metadata": {},
   "outputs": [
    {
     "name": "stdout",
     "output_type": "stream",
     "text": [
      "                p_nom     p_nom_opt\n",
      "carrier                            \n",
      "CCGT     9.148374e+02  9.148374e+02\n",
      "load     7.800000e+10  7.800000e+10\n",
      "oil      2.662288e+02  2.662288e+02\n",
      "onwind   1.149823e+00  1.150028e+00\n",
      "ror      2.671260e+02  2.671260e+02\n",
      "solar    1.443094e+01  4.534246e+03\n",
      "\n",
      "hydro storage : p_nom: 2482.8662420382166  p_nom_opt: 2482.8662420382166\n",
      "                    p_nom  p_nom_opt\n",
      "carrier                             \n",
      "battery charger       0.0  30.258467\n",
      "battery discharger    0.0  31.519236\n"
     ]
    }
   ],
   "source": [
    "#installed capacity p_nom= nominal power (MW) and p_nom_opt= optimized nominal power (MW)\n",
    "\n",
    "gen_cap = n.generators.groupby([\"carrier\"]).sum()\n",
    "sto_cap = n.links.groupby([\"carrier\"]).sum()\n",
    "print(gen_cap[['p_nom','p_nom_opt']])\n",
    "print('\\nhydro storage : p_nom: ' + str(n.storage_units.sum()['p_nom'])+ '  p_nom_opt: '+str(n.storage_units.sum()['p_nom_opt']))\n",
    "print(sto_cap[['p_nom','p_nom_opt']])"
   ]
  },
  {
   "cell_type": "code",
   "execution_count": null,
   "metadata": {},
   "outputs": [
    {
     "name": "stderr",
     "output_type": "stream",
     "text": [
      "C:\\Users\\hie\\AppData\\Local\\Temp\\ipykernel_16068\\2546167420.py:13: FutureWarning:\n",
      "\n",
      "DataFrame.groupby with axis=1 is deprecated. Do `frame.T.groupby(...)` without axis instead.\n",
      "\n",
      "C:\\Users\\hie\\AppData\\Local\\Temp\\ipykernel_16068\\2546167420.py:19: FutureWarning:\n",
      "\n",
      "DataFrame.groupby with axis=1 is deprecated. Do `frame.T.groupby(...)` without axis instead.\n",
      "\n",
      "C:\\Users\\hie\\AppData\\Local\\Temp\\ipykernel_16068\\2546167420.py:25: FutureWarning:\n",
      "\n",
      "DataFrame.groupby with axis=1 is deprecated. Do `frame.T.groupby(...)` without axis instead.\n",
      "\n",
      "C:\\Users\\hie\\AppData\\Local\\Temp\\ipykernel_16068\\2546167420.py:26: FutureWarning:\n",
      "\n",
      "DataFrame.groupby with axis=1 is deprecated. Do `frame.T.groupby(...)` without axis instead.\n",
      "\n",
      "C:\\Users\\hie\\AppData\\Local\\Temp\\ipykernel_16068\\2546167420.py:27: FutureWarning:\n",
      "\n",
      "DataFrame.groupby with axis=1 is deprecated. Do `frame.T.groupby(...)` without axis instead.\n",
      "\n",
      "C:\\Users\\hie\\AppData\\Local\\Temp\\ipykernel_16068\\2546167420.py:28: FutureWarning:\n",
      "\n",
      "DataFrame.groupby with axis=1 is deprecated. Do `frame.T.groupby(...)` without axis instead.\n",
      "\n",
      "C:\\Users\\hie\\AppData\\Local\\Temp\\ipykernel_16068\\2546167420.py:32: FutureWarning:\n",
      "\n",
      "DataFrame.groupby with axis=1 is deprecated. Do `frame.T.groupby(...)` without axis instead.\n",
      "\n",
      "C:\\Users\\hie\\AppData\\Local\\Temp\\ipykernel_16068\\2546167420.py:39: FutureWarning:\n",
      "\n",
      "DataFrame.groupby with axis=1 is deprecated. Do `frame.T.groupby(...)` without axis instead.\n",
      "\n",
      "C:\\Users\\hie\\AppData\\Local\\Temp\\ipykernel_16068\\2546167420.py:40: FutureWarning:\n",
      "\n",
      "DataFrame.groupby with axis=1 is deprecated. Do `frame.T.groupby(...)` without axis instead.\n",
      "\n",
      "C:\\Users\\hie\\AppData\\Local\\Temp\\ipykernel_16068\\2546167420.py:44: FutureWarning:\n",
      "\n",
      "DataFrame.groupby with axis=1 is deprecated. Do `frame.T.groupby(...)` without axis instead.\n",
      "\n",
      "C:\\Users\\hie\\AppData\\Local\\Temp\\ipykernel_16068\\2546167420.py:49: FutureWarning:\n",
      "\n",
      "DataFrame.groupby with axis=1 is deprecated. Do `frame.T.groupby(...)` without axis instead.\n",
      "\n",
      "C:\\Users\\hie\\AppData\\Local\\Temp\\ipykernel_16068\\2546167420.py:54: FutureWarning:\n",
      "\n",
      "DataFrame.groupby with axis=1 is deprecated. Do `frame.T.groupby(...)` without axis instead.\n",
      "\n",
      "C:\\Users\\hie\\AppData\\Local\\Temp\\ipykernel_16068\\2546167420.py:55: FutureWarning:\n",
      "\n",
      "DataFrame.groupby with axis=1 is deprecated. Do `frame.T.groupby(...)` without axis instead.\n",
      "\n",
      "C:\\Users\\hie\\AppData\\Local\\Temp\\ipykernel_16068\\2546167420.py:59: FutureWarning:\n",
      "\n",
      "DataFrame.groupby with axis=1 is deprecated. Do `frame.T.groupby(...)` without axis instead.\n",
      "\n",
      "C:\\Users\\hie\\AppData\\Local\\Temp\\ipykernel_16068\\2546167420.py:60: FutureWarning:\n",
      "\n",
      "DataFrame.groupby with axis=1 is deprecated. Do `frame.T.groupby(...)` without axis instead.\n",
      "\n",
      "C:\\Users\\hie\\AppData\\Local\\Temp\\ipykernel_16068\\2546167420.py:65: FutureWarning:\n",
      "\n",
      "DataFrame.groupby with axis=1 is deprecated. Do `frame.T.groupby(...)` without axis instead.\n",
      "\n",
      "C:\\Users\\hie\\AppData\\Local\\Temp\\ipykernel_16068\\2546167420.py:66: FutureWarning:\n",
      "\n",
      "DataFrame.groupby with axis=1 is deprecated. Do `frame.T.groupby(...)` without axis instead.\n",
      "\n"
     ]
    },
    {
     "data": {
      "image/png": "[encoded data removed]",
      "text/plain": [
       "<Figure size 1200x400 with 1 Axes>"
      ]
     },
     "metadata": {},
     "output_type": "display_data"
    },
    {
     "name": "stdout",
     "output_type": "stream",
     "text": [
      "                p_nom     p_nom_opt\n",
      "carrier                            \n",
      "CCGT     9.148374e+02  9.148374e+02\n",
      "load     7.800000e+10  7.800000e+10\n",
      "oil      2.662288e+02  2.662288e+02\n",
      "onwind   1.149823e+00  1.150028e+00\n",
      "ror      2.671260e+02  2.671260e+02\n",
      "solar    1.443094e+01  4.534246e+03\n",
      "\n",
      "hydro storage : p_nom: 2482.8662420382166  p_nom_opt: 2482.8662420382166\n",
      "                    p_nom  p_nom_opt\n",
      "carrier                             \n",
      "battery charger       0.0  30.258467\n",
      "battery discharger    0.0  31.519236\n"
     ]
    }
   ],
   "source": [
    "import matplotlib.pyplot as plt\n",
    "import cartopy.crs as ccrs\n",
    "import matplotlib.ticker as ticker\n",
    "import matplotlib.patches as mpatches\n",
    "import matplotlib.dates as mdates\n",
    "\n",
    "first_date = \"2013-01-01\"\n",
    "second_date = \"2014-01-01\"\n",
    "\n",
    "#Hourly solar curtailment calculation\n",
    "maximum_solar_generation = n.generators_t.p_max_pu.loc[first_date:second_date].filter(regex='solar') * n.generators.loc[[idx for idx in n.generators.index if 'solar' in idx]]['p_nom_opt']\n",
    "maximum_solar_generation = maximum_solar_generation.sum(axis=1)\n",
    "solar_generation = n.generators_t.p.loc[first_date:second_date].groupby(n.generators.carrier, axis=1).sum()[\"solar\"]\n",
    "curtailment_solar = maximum_solar_generation - solar_generation\n",
    "\n",
    "#Hourly wind curtailment calculation\n",
    "maximum_wind_generation = n.generators_t.p_max_pu.loc[first_date:second_date].filter(regex='onwind') * n.generators.loc[[idx for idx in n.generators.index if 'onwind' in idx]]['p_nom_opt']\n",
    "maximum_wind_generation = maximum_wind_generation.sum(axis=1)\n",
    "wind_generation = n.generators_t.p.loc[first_date:second_date].groupby(n.generators.carrier, axis=1).sum()[\"onwind\"]\n",
    "curtailment_wind = maximum_wind_generation- wind_generation\n",
    "\n",
    "curtailment = curtailment_solar + curtailment_wind\n",
    "\n",
    "#Hourly generation per technology\n",
    "CCGT = n.generators_t.p.loc[first_date:second_date].groupby(n.generators.carrier, axis=1).sum()[\"CCGT\"]\n",
    "Onwind = n.generators_t.p.loc[first_date:second_date].groupby(n.generators.carrier, axis=1).sum()[\"onwind\"]\n",
    "solar = n.generators_t.p.loc[first_date:second_date].groupby(n.generators.carrier, axis=1).sum()[\"solar\"]\n",
    "oil = n.generators_t.p.loc[first_date:second_date].groupby(n.generators.carrier, axis=1).sum()[\"oil\"]\n",
    "\n",
    "\n",
    "#LoadShedding\n",
    "load = n.generators_t.p.loc[first_date:second_date].groupby(n.generators.carrier, axis=1).sum()[\"load\"]\n",
    "\n",
    "#Hourly load/demand \n",
    "demand = n.loads_t.p_set.loc[first_date:second_date].sum(axis=1)*-1\n",
    "\n",
    "size = CCGT.shape[0]\n",
    "\n",
    "if \"ror\" in n.generators_t.p.loc[first_date:second_date].groupby(n.generators.carrier, axis=1).sum().columns:\n",
    "    ror = n.generators_t.p.loc[first_date:second_date].groupby(n.generators.carrier, axis=1).sum()[\"ror\"]\n",
    "else:\n",
    "    ror = np.zeros(size)\n",
    "    \n",
    "if \"biomass\" in n.generators_t.p.loc[first_date:second_date].groupby(n.generators.carrier, axis=1).sum().columns:\n",
    "    biomass = n.generators_t.p.loc[first_date:second_date].groupby(n.generators.carrier, axis=1).sum()[\"biomass\"]\n",
    "else:\n",
    "    biomass = None\n",
    "\n",
    "if \"OCGT\" in n.generators_t.p.loc[first_date:second_date].groupby(n.generators.carrier, axis=1).sum().columns:\n",
    "    OCGT = n.generators_t.p.loc[first_date:second_date].groupby(n.generators.carrier, axis=1).sum()[\"OCGT\"]\n",
    "else:\n",
    "    OCGT = None\n",
    "    \n",
    "if \"CCGT\" in n.generators_t.p.loc[first_date:second_date].groupby(n.generators.carrier, axis=1).sum().columns:\n",
    "    CCGT = n.generators_t.p.loc[first_date:second_date].groupby(n.generators.carrier, axis=1).sum()[\"CCGT\"]\n",
    "else:\n",
    "    CCGT = np.zeros(size)\n",
    "\n",
    "if \"load\" in n.generators_t.p.loc[first_date:second_date].groupby(n.generators.carrier, axis=1).sum().columns:\n",
    "    load = n.generators_t.p.loc[first_date:second_date].groupby(n.generators.carrier, axis=1).sum()[\"load\"]/1000\n",
    "else:\n",
    "    load = np.zeros(size)\n",
    "\n",
    "    \n",
    "if \"battery\" in  n.stores_t.p.loc[first_date:second_date].groupby(n.stores.carrier, axis=1).sum().columns:\n",
    "    battery = n.stores_t.p.loc[first_date:second_date].groupby(n.stores.carrier, axis=1).sum()[\"battery\"]\n",
    "else:\n",
    "    battery = np.zeros(size)\n",
    "\n",
    "if not n.storage_units_t.p.loc[first_date:second_date].sum(axis=1).empty:\n",
    "    reservoir = n.storage_units_t.p.loc[first_date:second_date].sum(axis=1)\n",
    "else:\n",
    "    reservoir = np.zeros(size)\n",
    "    \n",
    "\n",
    "\n",
    "#Hourly storage charge or discharge \n",
    "i=0\n",
    "nbattery = []\n",
    "pbattery =[]\n",
    "for i in battery:\n",
    "    if i < 0:\n",
    "        nbattery.append(i)\n",
    "    else:\n",
    "        nbattery.append(0) \n",
    "for i in battery:\n",
    "    if i > 0:\n",
    "        pbattery.append(i)\n",
    "    else:\n",
    "        pbattery.append(0) \n",
    "\n",
    "\n",
    "\n",
    "# create a figure with a single subplot\n",
    "fig, ax = plt.subplots(figsize=(12, 4))\n",
    "\n",
    "# adjust the position of the subplot so that it only takes up 2/3 of the available space\n",
    "ax.set_position([0.1, 0.1, 0.75, 0.9])\n",
    "\n",
    "\n",
    "CCGT_color='slategrey'\n",
    "Onwind_color='#ff8200'\n",
    "\n",
    "Solar_color='gold'\n",
    "curtailment_color = 'maroon'\n",
    "ror_color='lightsteelblue'\n",
    "reservoir_color='steelblue'\n",
    "battery_color='tan'\n",
    "oil_color='dimgrey'\n",
    "biomass_color='#73A917'\n",
    "demand_color='gainsboro'\n",
    "lostload_color = \"maroon\"\n",
    "\n",
    "# Prepare data for stackplot\n",
    "stack_data = [CCGT, Onwind, solar, curtailment, ror, reservoir, pbattery, oil, load]\n",
    "stack_colors = [CCGT_color, Onwind_color, Solar_color, curtailment_color, ror_color, reservoir_color, battery_color, oil_color, demand_color]\n",
    "\n",
    "if biomass is not None:\n",
    "    stack_data.append(biomass)\n",
    "    stack_colors.append(biomass_color)\n",
    "\n",
    "if OCGT is not None:\n",
    "    stack_data.append(OCGT)\n",
    "    stack_colors.append('lightcoral')\n",
    "\n",
    "# Create the stackplot\n",
    "plt.stackplot(CCGT.index, *stack_data, colors=stack_colors, zorder=3)\n",
    "\n",
    "\n",
    "plt.stackplot(CCGT.index,demand,nbattery, colors=[demand_color,battery_color], zorder = 3)\n",
    "plt.xticks(rotation = 45)\n",
    "plt.yticks()\n",
    "scale_y = 1e3\n",
    "ticks_y = ticker.FuncFormatter(lambda x, pos: '{0:g}'.format(x/scale_y))\n",
    "ax.yaxis.set_major_formatter(ticks_y)\n",
    "myFmt = mdates.DateFormatter('%d')\n",
    "ax.xaxis.set_major_formatter(myFmt)\n",
    "ax.set_ylabel('GW')\n",
    "ax.set_xlabel('Year')\n",
    "\n",
    "\n",
    "CCGT_patch = mpatches.Patch(color=CCGT_color, label ='CCGT')\n",
    "wind_patch = mpatches.Patch(color=Onwind_color, label ='Onshore wind')\n",
    "solar_patch = mpatches.Patch(color=Solar_color, label ='Solar')\n",
    "curtailment_patch = mpatches.Patch(color=curtailment_color, label = 'Curtailment')\n",
    "ror_patch = mpatches.Patch(color=ror_color, label ='Run Of River')\n",
    "reservoir_patch = mpatches.Patch(color=reservoir_color, label ='Reservoir')\n",
    "\n",
    "battery_patch = mpatches.Patch(color=battery_color, label ='Battery')\n",
    "oil_patch = mpatches.Patch(color=oil_color, label ='Oil')\n",
    "biomass_patch = mpatches.Patch(color=biomass_color, label ='Biomass')\n",
    "load_patch = mpatches.Patch(color=demand_color, label ='Demand')\n",
    "\n",
    "lostload_patch = mpatches.Patch(color=demand_color, label ='LostLoad')\n",
    "\n",
    "handles = [\n",
    "    CCGT_patch, wind_patch, solar_patch, curtailment_patch,\n",
    "    ror_patch, reservoir_patch, oil_patch, load_patch, battery_patch\n",
    "]\n",
    "\n",
    "if biomass is not None:\n",
    "    handles.append(biomass_patch)\n",
    "\n",
    "if OCGT is not None:\n",
    "    handles.append(mpatches.Patch(color='lightcoral', label='OCGT'))    \n",
    "\n",
    "ax.legend(handles=handles, loc=\"center right\", bbox_to_anchor=(1.19, 0.5))\n",
    "\n",
    "image_format = '.png' \n",
    "\n",
    "\n",
    "plt.show()\n",
    "\n",
    "gen_cap = n.generators.groupby([\"carrier\"]).sum()\n",
    "sto_cap = n.links.groupby([\"carrier\"]).sum()\n",
    "print(gen_cap[['p_nom','p_nom_opt']])\n",
    "print('\\nhydro storage : p_nom: ' + str(n.storage_units.sum()['p_nom'])+ '  p_nom_opt: '+str(n.storage_units.sum()['p_nom_opt']))\n",
    "print(sto_cap[['p_nom','p_nom_opt']])\n"
   ]
  },
  {
   "cell_type": "code",
   "execution_count": null,
   "metadata": {},
   "outputs": [
    {
     "name": "stdout",
     "output_type": "stream",
     "text": [
      "CCGT generation (MWh) = 2984748\n",
      "OCGT generation (MWh) = 0 (not present in the network)\n",
      "oil generation (MWh) = 4\n",
      "biomass generation (MWh) = 0 (not present in the network)\n",
      "geothermal generation (MWh) = 0 (not present in the network)\n",
      "onwind generation (MWh) = 1947\n",
      "solar generation (MWh) = 2305182\n",
      "ror generation (MWh) = 2335153\n",
      "offwind generation (MWh) = 1\n",
      "hydro generation (MWh) = 683122\n"
     ]
    }
   ],
   "source": [
    "# List of generator carriers\n",
    "generator_list = [\"CCGT\", \"OCGT\", \"oil\", \"biomass\", \"geothermal\", \"onwind\", \"solar\", \"ror\",\"\"]\n",
    "\n",
    "# Loop through each carrier in the generator list\n",
    "for carrier in generator_list:\n",
    "    # Filter generators by carrier and sum their generation\n",
    "    if carrier in n.generators.carrier.unique():\n",
    "        generation = n.generators_t.p.loc[:, n.generators[n.generators.carrier == carrier].index].sum().sum()\n",
    "        print(f\"{carrier} generation (MWh) = {round(generation)}\")\n",
    "    else:\n",
    "        print(f\"{carrier} generation (MWh) = 0 (not present in the network)\")\n",
    "\n",
    "# List of storage unit carriers\n",
    "generator_list2 = [\"hydro\"]\n",
    "\n",
    "# Loop through each carrier in the storage unit list\n",
    "for carrier in generator_list2:\n",
    "    # Filter storage units by carrier and sum their generation\n",
    "    if carrier in n.storage_units.carrier.unique():\n",
    "        generation = n.storage_units_t.p.loc[:, n.storage_units[n.storage_units.carrier == carrier].index].sum().sum()\n",
    "        print(f\"{carrier} generation (MWh) = {round(generation)}\")\n",
    "    else:\n",
    "        print(f\"{carrier} generation (MWh) = 0 (not present in the network)\")"
   ]
  },
  {
   "cell_type": "markdown",
   "metadata": {},
   "source": [
    "Lost load"
   ]
  },
  {
   "cell_type": "code",
   "execution_count": null,
   "metadata": {},
   "outputs": [
    {
     "data": {
      "text/plain": [
       "10440526.558063824"
      ]
     },
     "execution_count": 156,
     "metadata": {},
     "output_type": "execute_result"
    }
   ],
   "source": [
    "demand = n.loads_t.p_set.loc[\"2013\"].sum(axis=1)\n",
    "demand.idxmax()\n",
    "demand.sum()"
   ]
  },
  {
   "cell_type": "code",
   "execution_count": null,
   "metadata": {},
   "outputs": [
    {
     "name": "stderr",
     "output_type": "stream",
     "text": [
      "C:\\Users\\hie\\AppData\\Local\\Temp\\ipykernel_26548\\1555212878.py:1: FutureWarning:\n",
      "\n",
      "DataFrame.groupby with axis=1 is deprecated. Do `frame.T.groupby(...)` without axis instead.\n",
      "\n"
     ]
    },
    {
     "data": {
      "text/plain": [
       "2152303254"
      ]
     },
     "execution_count": 118,
     "metadata": {},
     "output_type": "execute_result"
    }
   ],
   "source": [
    "load_shedding = n.generators_t.p.loc[\"2013\"].groupby(n.generators.carrier, axis=1).sum()[\"load\"]\n",
    "round(load_shedding.sum())"
   ]
  },
  {
   "cell_type": "code",
   "execution_count": null,
   "metadata": {},
   "outputs": [
    {
     "data": {
      "text/plain": [
       "Peak LL    122.895463\n",
       "dtype: float64"
      ]
     },
     "execution_count": 119,
     "metadata": {},
     "output_type": "execute_result"
    }
   ],
   "source": [
    "#LL or Loadshedding is in kW/kWh \n",
    "lostload = n.generators_t.p.filter(like= \"load\")\n",
    "#lostload.idxmax()\n",
    "peakLL = pd.DataFrame(index = lostload.index)\n",
    "peakLL[\"Peak LL\"] = lostload.max(axis=1)/1000\n",
    "sortedLL = peakLL.sort_values(\"Peak LL\", ascending=False)\n",
    "LL_contribution = sortedLL.iloc[0:9]\n",
    "LL_contribution.mean()"
   ]
  }
 ],
 "metadata": {
  "kernelspec": {
   "display_name": "pypsa-earth",
   "language": "python",
   "name": "python3"
  },
  "language_info": {
   "codemirror_mode": {
    "name": "ipython",
    "version": 3
   },
   "file_extension": ".py",
   "mimetype": "text/x-python",
   "name": "python",
   "nbconvert_exporter": "python",
   "pygments_lexer": "ipython3",
   "version": "3.10.16"
  }
 },
 "nbformat": 4,
 "nbformat_minor": 2
}
