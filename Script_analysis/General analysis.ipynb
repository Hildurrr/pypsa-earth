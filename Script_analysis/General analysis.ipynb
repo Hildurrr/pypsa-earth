{
 "cells": [
  {
   "cell_type": "markdown",
   "metadata": {},
   "source": [
    "Analysis code from PyPSA-BO\n",
    "\n",
    "https://github.com/CIE-UMSS/PyPSA-BO/blob/main/Results_analysis/EnergyScope-PyPSA/general_analysis.ipynb"
   ]
  },
  {
   "cell_type": "code",
   "execution_count": 42,
   "metadata": {},
   "outputs": [
    {
     "name": "stderr",
     "output_type": "stream",
     "text": [
      "INFO:pypsa.io:Imported network base.nc has buses, lines, transformers\n",
      "INFO:pypsa.io:Imported network elec.nc has buses, carriers, generators, lines, loads, storage_units, transformers\n",
      "INFO:pypsa.io:Imported network elec_s.nc has buses, carriers, generators, lines, loads, storage_units\n",
      "INFO:pypsa.io:Imported network elec_s_all.nc has buses, carriers, generators, lines, loads, storage_units\n",
      "INFO:pypsa.io:Imported network elec_s_all_ec_lcopt_1h.nc has buses, carriers, generators, lines, loads, storage_units\n"
     ]
    }
   ],
   "source": [
    "#Libraries import for running the code\n",
    "\n",
    "import logging\n",
    "import os\n",
    "\n",
    "import pypsa\n",
    "import yaml\n",
    "import pandas as pd\n",
    "import geopandas as gpd\n",
    "#import geoviews as gv\n",
    "#import hvplot.pandas \n",
    "import numpy as np\n",
    "import scipy as sp\n",
    "import networkx as nx\n",
    "\n",
    "# plotting stuff\n",
    "import matplotlib.pyplot as plt\n",
    "import cartopy\n",
    "\n",
    "# data exploration\n",
    "import xarray as xr\n",
    "\n",
    "plt.style.use(\"bmh\")\n",
    "import seaborn as sns  ###\n",
    "import cartopy.crs as ccrs\n",
    "\n",
    "sns.set(style=\"darkgrid\")\n",
    "\n",
    "from scipy.sparse import csgraph\n",
    "from itertools import product\n",
    "\n",
    "from shapely.geometry import Point, LineString\n",
    "import shapely, shapely.prepared, shapely.wkt\n",
    "\n",
    "logger = logging.getLogger(__name__)\n",
    "\n",
    "pd.set_option(\"display.max_columns\", None)\n",
    "pd.set_option(\"display.max_colwidth\", 70)\n",
    "\n",
    "\n",
    "\n",
    "max_node_size = 1.0  # maximum size of a node for plotting purposes [used in plots]\n",
    "\n",
    "# utility function for nice plotting\n",
    "\n",
    "def normalize_node_size(values, max_node_size=max_node_size):\n",
    "    return values / values.max() * max_node_size\n",
    "\n",
    "#Load different networks\n",
    "\n",
    "base_network= \"C:/Users/hie/pe_tan/pypsa-earth/networks/2040_base/base.nc\"\n",
    "n_base= pypsa.Network(base_network) #network with all components available in the data sources \n",
    "\n",
    "added_network = \"C:/Users/hie/pe_tan/pypsa-earth/networks/2040_base/elec.nc\"\n",
    "n_add = pypsa.Network(added_network) #output from add_electricity. network with electrical parameters added to components in data sources \n",
    "\n",
    "simplified_network = \"C:/Users/hie/pe_tan/pypsa-earth/networks/2040_base/elec_s.nc\"\n",
    "n_simple = pypsa.Network(simplified_network) #output simplyfy_network with components simplified and spatial parameters (onshore and offshore regions) added  \n",
    "\n",
    "clustered_network = 'C:/Users/hie/pe_tan/pypsa-earth/networks/2040_base/elec_s_all.nc'\n",
    "n_cluster = pypsa.Network(clustered_network) #output clustering-network simplified based on number of clusters give\n",
    "\n",
    "solved_network = r'C:\\Users\\hie\\pe_tan\\pypsa-earth\\results\\2040_base\\networks\\elec_s_all_ec_lcopt_1h.nc'\n",
    "n_solve = pypsa.Network(solved_network) #optimized network\n",
    "\n",
    "n = n_solve"
   ]
  },
  {
   "cell_type": "code",
   "execution_count": 43,
   "metadata": {},
   "outputs": [
    {
     "name": "stdout",
     "output_type": "stream",
     "text": [
      "System cost: 13050314.83 Million EUR/Year\n"
     ]
    }
   ],
   "source": [
    "# System cost in Million EUR/Year\n",
    "\n",
    "system_cost_million_eur = n.objective / 1e6  # Convert to million EUR/year\n",
    "\n",
    "# Print the result\n",
    "print(f\"System cost: {system_cost_million_eur:.2f} Million EUR/Year\")"
   ]
  },
  {
   "cell_type": "code",
   "execution_count": 44,
   "metadata": {},
   "outputs": [
    {
     "data": {
      "text/plain": [
       "385359.6767738733"
      ]
     },
     "execution_count": 44,
     "metadata": {},
     "output_type": "execute_result"
    }
   ],
   "source": [
    "#check lines\n",
    "\n",
    "n_solve.lines.capital_cost.sum()\n"
   ]
  },
  {
   "cell_type": "code",
   "execution_count": 45,
   "metadata": {},
   "outputs": [
    {
     "data": {
      "text/plain": [
       "480816.53976495634"
      ]
     },
     "execution_count": 45,
     "metadata": {},
     "output_type": "execute_result"
    }
   ],
   "source": [
    "n_add.lines.capital_cost.sum()"
   ]
  },
  {
   "cell_type": "code",
   "execution_count": 46,
   "metadata": {},
   "outputs": [
    {
     "name": "stdout",
     "output_type": "stream",
     "text": [
      "Capital cost for line expansion: -0.09545686299108307 Million Eur\n"
     ]
    }
   ],
   "source": [
    "line_expansion_cost = n.lines.capital_cost.sum()-n_simple.lines.capital_cost.sum() # difference between the two networks (Eur/MW)\n",
    "print(\"Capital cost for line expansion: \" + str(line_expansion_cost/1000000) + \" Million Eur\")"
   ]
  },
  {
   "cell_type": "code",
   "execution_count": 47,
   "metadata": {},
   "outputs": [
    {
     "data": {
      "text/plain": [
       "carrier\n",
       "CCGT          1.192700e+03\n",
       "OCGT          1.850000e+02\n",
       "biomass       1.050000e+01\n",
       "coal          6.000000e+02\n",
       "geothermal    1.350000e+02\n",
       "load          6.700000e+10\n",
       "offwind-ac    0.000000e+00\n",
       "offwind-dc    0.000000e+00\n",
       "oil           8.880000e+01\n",
       "onwind        9.110989e-01\n",
       "ror           6.017862e+02\n",
       "solar         1.447202e+01\n",
       "Name: p_nom, dtype: float64"
      ]
     },
     "execution_count": 47,
     "metadata": {},
     "output_type": "execute_result"
    }
   ],
   "source": [
    "gen_cap = n.generators.groupby([\"carrier\"]).sum()\n",
    "gen_cap.p_nom\n"
   ]
  },
  {
   "cell_type": "code",
   "execution_count": 48,
   "metadata": {},
   "outputs": [
    {
     "data": {
      "text/plain": [
       "carrier\n",
       "CCGT          1.348857e+03\n",
       "OCGT          1.855272e+02\n",
       "biomass       1.061604e+01\n",
       "coal          6.000010e+02\n",
       "geothermal    8.613686e+03\n",
       "load          6.700000e+10\n",
       "offwind-ac    2.714196e+00\n",
       "offwind-dc    1.502706e+00\n",
       "oil           8.964852e+01\n",
       "onwind        1.764118e+05\n",
       "ror           6.017862e+02\n",
       "solar         1.491341e+05\n",
       "Name: p_nom_opt, dtype: float64"
      ]
     },
     "execution_count": 48,
     "metadata": {},
     "output_type": "execute_result"
    }
   ],
   "source": [
    "#optimized\n",
    "\n",
    "gen_cap.p_nom_opt"
   ]
  },
  {
   "cell_type": "code",
   "execution_count": 49,
   "metadata": {},
   "outputs": [
    {
     "data": {
      "text/plain": [
       "carrier\n",
       "hydro    4340.625972\n",
       "Name: p_nom_opt, dtype: float64"
      ]
     },
     "execution_count": 49,
     "metadata": {},
     "output_type": "execute_result"
    }
   ],
   "source": [
    "stores_cap = n.storage_units.groupby([\"carrier\"]).sum()\n",
    "stores_cap.p_nom_opt"
   ]
  },
  {
   "cell_type": "code",
   "execution_count": 50,
   "metadata": {},
   "outputs": [
    {
     "data": {
      "text/plain": [
       "carrier\n",
       "CCGT             156.157088\n",
       "OCGT               0.527218\n",
       "biomass            0.116036\n",
       "coal               0.000965\n",
       "geothermal      8478.685942\n",
       "load               0.000000\n",
       "offwind-ac         2.714196\n",
       "offwind-dc         1.502706\n",
       "oil                0.848517\n",
       "onwind        176410.919375\n",
       "ror                0.000000\n",
       "solar         149119.616533\n",
       "dtype: float64"
      ]
     },
     "execution_count": 50,
     "metadata": {},
     "output_type": "execute_result"
    }
   ],
   "source": [
    "#installed capacity expansion\n",
    "generation_expansion = gen_cap['p_nom_opt'] - gen_cap['p_nom']\n",
    "generation_expansion"
   ]
  },
  {
   "cell_type": "code",
   "execution_count": 51,
   "metadata": {},
   "outputs": [
    {
     "data": {
      "text/plain": [
       "334171.0885750714"
      ]
     },
     "execution_count": 51,
     "metadata": {},
     "output_type": "execute_result"
    }
   ],
   "source": [
    "generation_expansion.sum()"
   ]
  },
  {
   "cell_type": "markdown",
   "metadata": {},
   "source": [
    "Transmission expansion"
   ]
  },
  {
   "cell_type": "code",
   "execution_count": 52,
   "metadata": {},
   "outputs": [
    {
     "name": "stderr",
     "output_type": "stream",
     "text": [
      "INFO:pypsa.io:Imported network base.nc has buses, lines, transformers\n"
     ]
    },
    {
     "data": {
      "text/plain": [
       "458.9607745961448"
      ]
     },
     "execution_count": 52,
     "metadata": {},
     "output_type": "execute_result"
    }
   ],
   "source": [
    "\n",
    "n_line = pypsa.Network(base_network)\n",
    "check_lines = n_line.lines\n",
    "check_lines.s_nom.mean()"
   ]
  },
  {
   "cell_type": "code",
   "execution_count": 53,
   "metadata": {},
   "outputs": [
    {
     "data": {
      "text/plain": [
       "458.9607745961448"
      ]
     },
     "execution_count": 53,
     "metadata": {},
     "output_type": "execute_result"
    }
   ],
   "source": [
    "lines=n.lines\n",
    "n.lines.s_nom.mean()"
   ]
  },
  {
   "cell_type": "code",
   "execution_count": 54,
   "metadata": {},
   "outputs": [
    {
     "data": {
      "text/plain": [
       "Line\n",
       "0     5.442862e+01\n",
       "1     2.058411e+02\n",
       "2     1.947739e+01\n",
       "3     5.461092e+03\n",
       "4     1.874702e+02\n",
       "          ...     \n",
       "66    4.514540e+02\n",
       "67   -1.081389e-09\n",
       "68    1.069829e-01\n",
       "69    3.136359e+02\n",
       "70    4.514543e+02\n",
       "Length: 71, dtype: float64"
      ]
     },
     "execution_count": 54,
     "metadata": {},
     "output_type": "execute_result"
    }
   ],
   "source": [
    "#transmission capacity expansion\n",
    "transmission_expansion = lines['s_nom_opt'] - lines['s_nom']\n",
    "transmission_expansion"
   ]
  },
  {
   "cell_type": "code",
   "execution_count": 84,
   "metadata": {},
   "outputs": [
    {
     "name": "stdout",
     "output_type": "stream",
     "text": [
      "Negative transmission expansions:\n",
      "Line\n",
      "67   -1.081389e-09\n",
      "dtype: float64\n",
      "Number of negative expansions: 1\n",
      "Total negative expansion (MW): -1.0813892004080117e-09\n"
     ]
    }
   ],
   "source": [
    "# Calculate transmission capacity expansion\n",
    "transmission_expansion = lines['s_nom_opt'] - lines['s_nom']\n",
    "\n",
    "# Filter for negative values\n",
    "negative_expansion = transmission_expansion[transmission_expansion < 0]\n",
    "\n",
    "# Print the negative values\n",
    "print(\"Negative transmission expansions:\")\n",
    "print(negative_expansion)\n",
    "\n",
    "# Count the number of negative values\n",
    "print(f\"Number of negative expansions: {len(negative_expansion)}\")\n",
    "\n",
    "# Sum of negative expansions\n",
    "print(f\"Total negative expansion (MW): {negative_expansion.sum()}\")"
   ]
  },
  {
   "cell_type": "code",
   "execution_count": 55,
   "metadata": {},
   "outputs": [
    {
     "name": "stdout",
     "output_type": "stream",
     "text": [
      "Total expansion of the system: 45496.43945800929\n"
     ]
    }
   ],
   "source": [
    "real_expansion = 0\n",
    "for i in range(len(transmission_expansion)):  # Iterate over the indices of the Series\n",
    "    if transmission_expansion.iloc[i] > 0:  # Check if the expansion value is greater than 0\n",
    "        real_expansion += transmission_expansion.iloc[i]  # Add the expansion value to real_expansion\n",
    "\n",
    "print(\"Total expansion of the system:\", real_expansion)"
   ]
  },
  {
   "cell_type": "code",
   "execution_count": 56,
   "metadata": {},
   "outputs": [
    {
     "data": {
      "text/plain": [
       "5461.091540420753"
      ]
     },
     "execution_count": 56,
     "metadata": {},
     "output_type": "execute_result"
    }
   ],
   "source": [
    "max_line_expansion = transmission_expansion.max()\n",
    "max_line_expansion"
   ]
  },
  {
   "cell_type": "code",
   "execution_count": 57,
   "metadata": {},
   "outputs": [
    {
     "name": "stderr",
     "output_type": "stream",
     "text": [
      "c:\\Users\\hie\\AppData\\Local\\anaconda3\\envs\\pypsa-earth\\lib\\site-packages\\cartopy\\mpl\\feature_artist.py:144: UserWarning:\n",
      "\n",
      "facecolor will have no effect as it has been defined as \"never\".\n",
      "\n",
      "c:\\Users\\hie\\AppData\\Local\\anaconda3\\envs\\pypsa-earth\\lib\\site-packages\\cartopy\\mpl\\feature_artist.py:144: UserWarning:\n",
      "\n",
      "facecolor will have no effect as it has been defined as \"never\".\n",
      "\n",
      "C:\\Users\\hie\\AppData\\Local\\Temp\\ipykernel_28804\\2452526199.py:165: UserWarning:\n",
      "\n",
      "This pattern is interpreted as a regular expression, and has match groups. To actually get the groups, use str.extract.\n",
      "\n"
     ]
    },
    {
     "data": {
      "image/png": "[encoded data removed]",
      "text/plain": [
       "<Figure size 1000x1000 with 1 Axes>"
      ]
     },
     "metadata": {},
     "output_type": "display_data"
    }
   ],
   "source": [
    "import cartopy.crs as ccrs\n",
    "from matplotlib.patches import Circle, Ellipse\n",
    "from matplotlib.legend_handler import HandlerPatch\n",
    "\n",
    "\n",
    "def make_handler_map_to_scale_circles_as_in(ax, dont_resize_actively=False):\n",
    "    fig = ax.get_figure()\n",
    "\n",
    "    def axes2pt():\n",
    "        return np.diff(ax.transData.transform([(0, 0), (1, 1)]), axis=0)[0] * (\n",
    "            300.0 / fig.dpi\n",
    "        )\n",
    "\n",
    "    ellipses = []\n",
    "    if not dont_resize_actively:\n",
    "\n",
    "        def update_width_height(event):\n",
    "            dist = axes2pt()\n",
    "            for e, radius in ellipses:\n",
    "                e.width, e.height = 2.0 * radius * dist\n",
    "\n",
    "        fig.canvas.mpl_connect(\"resize_event\", update_width_height)\n",
    "        ax.callbacks.connect(\"xlim_changed\", update_width_height)\n",
    "        ax.callbacks.connect(\"ylim_changed\", update_width_height)\n",
    "\n",
    "    def legend_circle_handler(\n",
    "        legend, orig_handle, xdescent, ydescent, width, height, fontsize\n",
    "    ):\n",
    "        w, h = 2.0 * orig_handle.get_radius() * axes2pt()\n",
    "        e = Ellipse(\n",
    "            xy=(0.5 * width - 0.5 * xdescent, 0.5 * height - 0.5 * ydescent),\n",
    "            width=w,\n",
    "            height=w,\n",
    "        )\n",
    "        ellipses.append((e, orig_handle.get_radius()))\n",
    "        return e\n",
    "\n",
    "    return {Circle: HandlerPatch(patch_func=legend_circle_handler)}\n",
    "\n",
    "\n",
    "def make_legend_circles_for(sizes, scale=1.0, **kw):\n",
    "    return [Circle((0, 0), radius=(s / scale) ** 0.5, **kw) for s in sizes]\n",
    "\n",
    "\n",
    "def add_legend(ax, bus_factor, branch_factor):\n",
    "\n",
    "    handles = []\n",
    "    labels = []\n",
    "    for s in (0.5, 1.0, 1.5):\n",
    "        handles.append(\n",
    "            plt.Line2D([0], [0], color=\"rosybrown\", linewidth=s * 1e3 / branch_factor)\n",
    "        )\n",
    "        labels.append(f\"{s} GW\")\n",
    "    l1 = ax.legend(\n",
    "        handles,\n",
    "        labels,\n",
    "        loc=\"upper left\",\n",
    "        bbox_to_anchor=(0, 0),\n",
    "        frameon=False,\n",
    "        labelspacing=1.2,\n",
    "        handletextpad=1.5,\n",
    "        title=\"HVAC Line Capacity\",\n",
    "        title_fontsize=13,\n",
    "        fontsize=11,\n",
    "    )\n",
    "    ax.add_artist(l1)\n",
    "\n",
    "    handles = []\n",
    "    labels = []\n",
    "    if \"Load\" in n.carriers.index:\n",
    "        n.carriers = n.carriers.drop(\"Load\")\n",
    "\n",
    "    # Filter n.carriers to only exclude \"H2\" and \"batteries\"\n",
    "    filtered_carriers = n.carriers.loc[~n.carriers.index.isin(['H2', 'battery'])]\n",
    "\n",
    "    # Iterate over the filtered carriers\n",
    "    for name, carrier in filtered_carriers.iterrows():\n",
    "        handles.append(\n",
    "            plt.Line2D(\n",
    "                [0], [0], color=carrier.color, marker=\"o\", markersize=8, linewidth=0\n",
    "            )\n",
    "        )\n",
    "\n",
    "        labels.append(carrier.nice_name)\n",
    "    l3 = ax.legend(\n",
    "        handles,\n",
    "        labels,\n",
    "        loc=\"upper center\",\n",
    "        bbox_to_anchor=(0.53, -0.0),  # bbox_to_anchor=(0.72, -0.05),\n",
    "        handletextpad=0.0,\n",
    "        columnspacing=0.3,\n",
    "        ncol=2,\n",
    "        title=\"Technology\",\n",
    "        title_fontsize=13,\n",
    "        fontsize=11,\n",
    "        frameon=False,\n",
    "    )\n",
    "    ax.add_artist(l3)\n",
    "\n",
    "    circles = [10, 20]\n",
    "    handles = make_legend_circles_for(circles, scale=bus_factor, facecolor=\"lightgray\")\n",
    "    labels = [f\"{float(s/1e1)} GW\" for s in circles]\n",
    "    l4 = ax.legend(\n",
    "        handles,\n",
    "        labels,\n",
    "        loc=\"upper left\",\n",
    "        bbox_to_anchor=(0.82, 0.0),\n",
    "        frameon=False,\n",
    "        labelspacing=3.2,\n",
    "        title=\"Generation\",\n",
    "        title_fontsize=13,\n",
    "        fontsize=11,\n",
    "        handler_map=make_handler_map_to_scale_circles_as_in(ax, True),\n",
    "    )\n",
    "    ax.add_artist(l4)\n",
    "\n",
    "\n",
    "def plot_network(n, fn=None):\n",
    "\n",
    "    bus_factor = 6.0e3\n",
    "    branch_factor = 7.5e1\n",
    "\n",
    "    fields = [\"bus\", \"carrier\", \"p_nom\",\"p_nom_opt\"]\n",
    "        \n",
    "    pie_components = pd.concat(\n",
    "        [\n",
    "            n.generators.loc[n.generators.carrier != \"load\", fields],\n",
    "            n.storage_units[fields],\n",
    "        ]\n",
    "    )\n",
    "    bus_sizes = pie_components.groupby([\"bus\", \"carrier\"]).p_nom_opt.sum() / bus_factor\n",
    "\n",
    "    def clip(df, thres=100):\n",
    "        return df.where(df > thres, other=0.0)\n",
    "\n",
    "    line_widths = clip(n.lines.s_nom_opt - n.lines.s_nom) / branch_factor\n",
    "    link_widths = clip(n.links.p_nom_opt - n.links.p_nom) / branch_factor\n",
    "    line_widths_opt = n.lines.s_nom_opt / branch_factor\n",
    "\n",
    "    fig, ax = plt.subplots(\n",
    "        figsize=(10, 10), subplot_kw={\"projection\": ccrs.PlateCarree()}\n",
    "    )\n",
    "\n",
    "    n.plot(\n",
    "        ax=ax,\n",
    "        bus_sizes=bus_sizes,\n",
    "        color_geomap=True,\n",
    "        bus_alpha=0.7,\n",
    "        line_widths=line_widths_opt,\n",
    "        line_colors=\"#dddddd\",\n",
    "    )\n",
    "\n",
    "    n.plot(\n",
    "        ax=ax,\n",
    "        geomap=True,\n",
    "        bus_sizes=0,\n",
    "        line_widths=line_widths,\n",
    "        link_widths=link_widths,\n",
    "    )\n",
    "\n",
    "\n",
    "    # Convert \"Bus\" index column to string type\n",
    "    filtered_buses = n.buses\n",
    "    filtered_buses.index = filtered_buses.index.astype(str)\n",
    "    filtered_buses = n.buses[~n.buses.index.str.contains(r\"(H2|battery)$\")]\n",
    "    \n",
    "\n",
    "\n",
    "\n",
    "    add_legend(ax, bus_factor, branch_factor)\n",
    "\n",
    "    \n",
    "\n",
    "\n",
    "    if fn is not None:\n",
    "        plt.savefig(fn, bbox_inches=\"tight\")\n",
    "\n",
    "\n",
    "plot_network(n)"
   ]
  },
  {
   "cell_type": "code",
   "execution_count": 58,
   "metadata": {},
   "outputs": [
    {
     "data": {
      "application/vnd.microsoft.datawrangler.viewer.v0+json": {
       "columns": [
        {
         "name": "(None, None)",
         "rawType": "object",
         "type": "unknown"
        },
        {
         "name": "Optimal Capacity",
         "rawType": "float64",
         "type": "float"
        },
        {
         "name": "Installed Capacity",
         "rawType": "float64",
         "type": "float"
        },
        {
         "name": "Supply",
         "rawType": "float64",
         "type": "float"
        },
        {
         "name": "Withdrawal",
         "rawType": "float64",
         "type": "float"
        },
        {
         "name": "Dispatch",
         "rawType": "float64",
         "type": "float"
        },
        {
         "name": "Transmission",
         "rawType": "float64",
         "type": "float"
        },
        {
         "name": "Capacity Factor",
         "rawType": "float64",
         "type": "float"
        },
        {
         "name": "Curtailment",
         "rawType": "float64",
         "type": "float"
        },
        {
         "name": "Capital Expenditure",
         "rawType": "float64",
         "type": "float"
        },
        {
         "name": "Operational Expenditure",
         "rawType": "float64",
         "type": "float"
        },
        {
         "name": "Revenue",
         "rawType": "float64",
         "type": "float"
        },
        {
         "name": "Market Value",
         "rawType": "float64",
         "type": "float"
        }
       ],
       "conversionMethod": "pd.DataFrame",
       "ref": "1a4a653a-2d52-4883-b324-9af5113695b4",
       "rows": [
        [
         "('Generator', 'Biomass')",
         "10.61603627919471",
         "10.5",
         "11111.405035336296",
         "0.0",
         "11111.405035336296",
         "0.0",
         "0.11948199864672497",
         "0.0",
         "3755883.7900758684",
         "175985.76669646724",
         "392132.4256090688",
         "35.29098474603496"
        ],
        [
         "('Generator', 'Coal')",
         "600.0009649854143",
         "600.0",
         "1037.7413929820298",
         "0.0",
         "1037.7413929820298",
         "0.0",
         "0.00019743906468338426",
         "0.0",
         "264899988.647797",
         "33440.40265467652",
         "1321.0849442409544",
         "1.2730386907326834"
        ],
        [
         "('Generator', 'Combined-Cycle Gas')",
         "1348.8570877076675",
         "1192.7",
         "2056664.0725827327",
         "0.0",
         "2056664.0725827327",
         "0.0",
         "0.17405773069590963",
         "0.0",
         "170201277.1744659",
         "96277675.0714975",
         "156357788.56704944",
         "76.02495256830996"
        ],
        [
         "('Generator', 'Geothermal')",
         "8613.685941607886",
         "135.0",
         "63820495.277995616",
         "0.0",
         "63820495.277995616",
         "0.0",
         "0.8457987342266517",
         "0.0",
         "0.0",
         "582438.7959770396",
         "573582.9246840221",
         "0.008987440824229788"
        ],
        [
         "('Generator', 'Offshore Wind (AC)')",
         "2.7141958324231656",
         "0.0",
         "2490.366947161204",
         "0.0",
         "2490.366947161204",
         "0.0",
         "0.10474132370692026",
         "2039.6472897244744",
         "712949.5966042761",
         "62.33291086937032",
         "70721.31794266503",
         "28.397950761144262"
        ],
        [
         "('Generator', 'Offshore Wind (DC)')",
         "1.5027061754812832",
         "0.0",
         "2029.1752773621793",
         "0.0",
         "2029.1752773621793",
         "0.0",
         "0.1541492390043048",
         "1697.923112251451",
         "485821.81875648134",
         "51.16350116826929",
         "65511.79080491163",
         "32.28493444394488"
        ],
        [
         "('Generator', 'Oil')",
         "89.64851656916179",
         "88.8",
         "3671.623874852002",
         "0.0",
         "3671.623874852002",
         "0.0",
         "0.004675316018282324",
         "0.0",
         "4386291.803166941",
         "578404.5728349767",
         "593220.0394076199",
         "161.5688479069854"
        ],
        [
         "('Generator', 'Onshore Wind')",
         "176411.83047355342",
         "0.9110988651167364",
         "4303698.163481382",
         "0.0",
         "4303698.163481382",
         "0.0",
         "0.002784902482848544",
         "69785390.17286399",
         "22859540495.11889",
         "107615.37290099954",
         "1214552680060.2927",
         "282211.3991093202"
        ],
        [
         "('Generator', 'Open-Cycle Gas')",
         "185.52721777630774",
         "185.0",
         "721.876336787306",
         "0.0",
         "721.876336787306",
         "0.0",
         "0.00044417188759040557",
         "0.0",
         "10934470.133555543",
         "46701.53989042755",
         "7382.952387018122",
         "10.227447570695809"
        ],
        [
         "('Generator', 'Run of River')",
         "601.78624204",
         "601.78624204",
         "200982.17556968977",
         "0.0",
         "200982.17556968977",
         "0.0",
         "0.03812511673473673",
         "80493.68288217812",
         "246512017.2716647",
         "1977.7941985302082",
         "95377089840.56259",
         "474554.9677239458"
        ],
        [
         "('Generator', 'Solar')",
         "149134.0885487987",
         "14.472015349088327",
         "5592319.096615634",
         "0.0",
         "5592319.096615634",
         "0.0",
         "0.004280661766534799",
         "206514490.4979255",
         "7201581384.995809",
         "112638.37770407823",
         "33307452913.758053",
         "5955.928540257134"
        ],
        [
         "('Generator', 'load')",
         "67000000000.0",
         "67000000000.0",
         "1627480.988918499",
         "0.0",
         "1627480.988918499",
         "0.0",
         "2.7729179256431867e-06",
         "0.0",
         "0.0",
         "13019863736760.553",
         "13019862657456.508",
         "8000009.060694788"
        ],
        [
         "('Line', 'AC')",
         "78082.65445433448",
         "32586.214996326285",
         "398803913.51368743",
         "398803913.51368743",
         "0.0",
         "-78360344.20670551",
         "0.5830432023800363",
         "0.0",
         "489705916.0869666",
         "0.0",
         "526651563.00634766",
         "1.3205777204311258"
        ],
        [
         "('Load', '-')",
         "0.0",
         "0.0",
         "0.0",
         "78849999.999988",
         "-78849999.999988",
         "0.0",
         null,
         "0.0",
         "0.0",
         "0.0",
         "-15117959597044.89",
         null
        ],
        [
         "('StorageUnit', 'Reservoir & Dam')",
         "4340.625971594",
         "4340.625971594",
         "1227298.2568843886",
         "0.0",
         "1227298.2568843886",
         "0.0",
         "0.03227703599828424",
         "0.0",
         "0.0",
         "11984.11275816005",
         "754175008100.5472",
         "614500.1867884103"
        ]
       ],
       "shape": {
        "columns": 12,
        "rows": 15
       }
      },
      "text/html": [
       "<div>\n",
       "<style scoped>\n",
       "    .dataframe tbody tr th:only-of-type {\n",
       "        vertical-align: middle;\n",
       "    }\n",
       "\n",
       "    .dataframe tbody tr th {\n",
       "        vertical-align: top;\n",
       "    }\n",
       "\n",
       "    .dataframe thead th {\n",
       "        text-align: right;\n",
       "    }\n",
       "</style>\n",
       "<table border=\"1\" class=\"dataframe\">\n",
       "  <thead>\n",
       "    <tr style=\"text-align: right;\">\n",
       "      <th></th>\n",
       "      <th></th>\n",
       "      <th>Optimal Capacity</th>\n",
       "      <th>Installed Capacity</th>\n",
       "      <th>Supply</th>\n",
       "      <th>Withdrawal</th>\n",
       "      <th>Dispatch</th>\n",
       "      <th>Transmission</th>\n",
       "      <th>Capacity Factor</th>\n",
       "      <th>Curtailment</th>\n",
       "      <th>Capital Expenditure</th>\n",
       "      <th>Operational Expenditure</th>\n",
       "      <th>Revenue</th>\n",
       "      <th>Market Value</th>\n",
       "    </tr>\n",
       "  </thead>\n",
       "  <tbody>\n",
       "    <tr>\n",
       "      <th rowspan=\"12\" valign=\"top\">Generator</th>\n",
       "      <th>Biomass</th>\n",
       "      <td>1.061604e+01</td>\n",
       "      <td>1.050000e+01</td>\n",
       "      <td>1.111141e+04</td>\n",
       "      <td>0.000000e+00</td>\n",
       "      <td>1.111141e+04</td>\n",
       "      <td>0.000000e+00</td>\n",
       "      <td>0.119482</td>\n",
       "      <td>0.000000e+00</td>\n",
       "      <td>3.755884e+06</td>\n",
       "      <td>1.759858e+05</td>\n",
       "      <td>3.921324e+05</td>\n",
       "      <td>3.529098e+01</td>\n",
       "    </tr>\n",
       "    <tr>\n",
       "      <th>Coal</th>\n",
       "      <td>6.000010e+02</td>\n",
       "      <td>6.000000e+02</td>\n",
       "      <td>1.037741e+03</td>\n",
       "      <td>0.000000e+00</td>\n",
       "      <td>1.037741e+03</td>\n",
       "      <td>0.000000e+00</td>\n",
       "      <td>0.000197</td>\n",
       "      <td>0.000000e+00</td>\n",
       "      <td>2.649000e+08</td>\n",
       "      <td>3.344040e+04</td>\n",
       "      <td>1.321085e+03</td>\n",
       "      <td>1.273039e+00</td>\n",
       "    </tr>\n",
       "    <tr>\n",
       "      <th>Combined-Cycle Gas</th>\n",
       "      <td>1.348857e+03</td>\n",
       "      <td>1.192700e+03</td>\n",
       "      <td>2.056664e+06</td>\n",
       "      <td>0.000000e+00</td>\n",
       "      <td>2.056664e+06</td>\n",
       "      <td>0.000000e+00</td>\n",
       "      <td>0.174058</td>\n",
       "      <td>0.000000e+00</td>\n",
       "      <td>1.702013e+08</td>\n",
       "      <td>9.627768e+07</td>\n",
       "      <td>1.563578e+08</td>\n",
       "      <td>7.602495e+01</td>\n",
       "    </tr>\n",
       "    <tr>\n",
       "      <th>Geothermal</th>\n",
       "      <td>8.613686e+03</td>\n",
       "      <td>1.350000e+02</td>\n",
       "      <td>6.382050e+07</td>\n",
       "      <td>0.000000e+00</td>\n",
       "      <td>6.382050e+07</td>\n",
       "      <td>0.000000e+00</td>\n",
       "      <td>0.845799</td>\n",
       "      <td>0.000000e+00</td>\n",
       "      <td>0.000000e+00</td>\n",
       "      <td>5.824388e+05</td>\n",
       "      <td>5.735829e+05</td>\n",
       "      <td>8.987441e-03</td>\n",
       "    </tr>\n",
       "    <tr>\n",
       "      <th>Offshore Wind (AC)</th>\n",
       "      <td>2.714196e+00</td>\n",
       "      <td>0.000000e+00</td>\n",
       "      <td>2.490367e+03</td>\n",
       "      <td>0.000000e+00</td>\n",
       "      <td>2.490367e+03</td>\n",
       "      <td>0.000000e+00</td>\n",
       "      <td>0.104741</td>\n",
       "      <td>2.039647e+03</td>\n",
       "      <td>7.129496e+05</td>\n",
       "      <td>6.233291e+01</td>\n",
       "      <td>7.072132e+04</td>\n",
       "      <td>2.839795e+01</td>\n",
       "    </tr>\n",
       "    <tr>\n",
       "      <th>Offshore Wind (DC)</th>\n",
       "      <td>1.502706e+00</td>\n",
       "      <td>0.000000e+00</td>\n",
       "      <td>2.029175e+03</td>\n",
       "      <td>0.000000e+00</td>\n",
       "      <td>2.029175e+03</td>\n",
       "      <td>0.000000e+00</td>\n",
       "      <td>0.154149</td>\n",
       "      <td>1.697923e+03</td>\n",
       "      <td>4.858218e+05</td>\n",
       "      <td>5.116350e+01</td>\n",
       "      <td>6.551179e+04</td>\n",
       "      <td>3.228493e+01</td>\n",
       "    </tr>\n",
       "    <tr>\n",
       "      <th>Oil</th>\n",
       "      <td>8.964852e+01</td>\n",
       "      <td>8.880000e+01</td>\n",
       "      <td>3.671624e+03</td>\n",
       "      <td>0.000000e+00</td>\n",
       "      <td>3.671624e+03</td>\n",
       "      <td>0.000000e+00</td>\n",
       "      <td>0.004675</td>\n",
       "      <td>0.000000e+00</td>\n",
       "      <td>4.386292e+06</td>\n",
       "      <td>5.784046e+05</td>\n",
       "      <td>5.932200e+05</td>\n",
       "      <td>1.615688e+02</td>\n",
       "    </tr>\n",
       "    <tr>\n",
       "      <th>Onshore Wind</th>\n",
       "      <td>1.764118e+05</td>\n",
       "      <td>9.110989e-01</td>\n",
       "      <td>4.303698e+06</td>\n",
       "      <td>0.000000e+00</td>\n",
       "      <td>4.303698e+06</td>\n",
       "      <td>0.000000e+00</td>\n",
       "      <td>0.002785</td>\n",
       "      <td>6.978539e+07</td>\n",
       "      <td>2.285954e+10</td>\n",
       "      <td>1.076154e+05</td>\n",
       "      <td>1.214553e+12</td>\n",
       "      <td>2.822114e+05</td>\n",
       "    </tr>\n",
       "    <tr>\n",
       "      <th>Open-Cycle Gas</th>\n",
       "      <td>1.855272e+02</td>\n",
       "      <td>1.850000e+02</td>\n",
       "      <td>7.218763e+02</td>\n",
       "      <td>0.000000e+00</td>\n",
       "      <td>7.218763e+02</td>\n",
       "      <td>0.000000e+00</td>\n",
       "      <td>0.000444</td>\n",
       "      <td>0.000000e+00</td>\n",
       "      <td>1.093447e+07</td>\n",
       "      <td>4.670154e+04</td>\n",
       "      <td>7.382952e+03</td>\n",
       "      <td>1.022745e+01</td>\n",
       "    </tr>\n",
       "    <tr>\n",
       "      <th>Run of River</th>\n",
       "      <td>6.017862e+02</td>\n",
       "      <td>6.017862e+02</td>\n",
       "      <td>2.009822e+05</td>\n",
       "      <td>0.000000e+00</td>\n",
       "      <td>2.009822e+05</td>\n",
       "      <td>0.000000e+00</td>\n",
       "      <td>0.038125</td>\n",
       "      <td>8.049368e+04</td>\n",
       "      <td>2.465120e+08</td>\n",
       "      <td>1.977794e+03</td>\n",
       "      <td>9.537709e+10</td>\n",
       "      <td>4.745550e+05</td>\n",
       "    </tr>\n",
       "    <tr>\n",
       "      <th>Solar</th>\n",
       "      <td>1.491341e+05</td>\n",
       "      <td>1.447202e+01</td>\n",
       "      <td>5.592319e+06</td>\n",
       "      <td>0.000000e+00</td>\n",
       "      <td>5.592319e+06</td>\n",
       "      <td>0.000000e+00</td>\n",
       "      <td>0.004281</td>\n",
       "      <td>2.065145e+08</td>\n",
       "      <td>7.201581e+09</td>\n",
       "      <td>1.126384e+05</td>\n",
       "      <td>3.330745e+10</td>\n",
       "      <td>5.955929e+03</td>\n",
       "    </tr>\n",
       "    <tr>\n",
       "      <th>load</th>\n",
       "      <td>6.700000e+10</td>\n",
       "      <td>6.700000e+10</td>\n",
       "      <td>1.627481e+06</td>\n",
       "      <td>0.000000e+00</td>\n",
       "      <td>1.627481e+06</td>\n",
       "      <td>0.000000e+00</td>\n",
       "      <td>0.000003</td>\n",
       "      <td>0.000000e+00</td>\n",
       "      <td>0.000000e+00</td>\n",
       "      <td>1.301986e+13</td>\n",
       "      <td>1.301986e+13</td>\n",
       "      <td>8.000009e+06</td>\n",
       "    </tr>\n",
       "    <tr>\n",
       "      <th>Line</th>\n",
       "      <th>AC</th>\n",
       "      <td>7.808265e+04</td>\n",
       "      <td>3.258621e+04</td>\n",
       "      <td>3.988039e+08</td>\n",
       "      <td>3.988039e+08</td>\n",
       "      <td>0.000000e+00</td>\n",
       "      <td>-7.836034e+07</td>\n",
       "      <td>0.583043</td>\n",
       "      <td>0.000000e+00</td>\n",
       "      <td>4.897059e+08</td>\n",
       "      <td>0.000000e+00</td>\n",
       "      <td>5.266516e+08</td>\n",
       "      <td>1.320578e+00</td>\n",
       "    </tr>\n",
       "    <tr>\n",
       "      <th>Load</th>\n",
       "      <th>-</th>\n",
       "      <td>0.000000e+00</td>\n",
       "      <td>0.000000e+00</td>\n",
       "      <td>0.000000e+00</td>\n",
       "      <td>7.885000e+07</td>\n",
       "      <td>-7.885000e+07</td>\n",
       "      <td>0.000000e+00</td>\n",
       "      <td>NaN</td>\n",
       "      <td>0.000000e+00</td>\n",
       "      <td>0.000000e+00</td>\n",
       "      <td>0.000000e+00</td>\n",
       "      <td>-1.511796e+13</td>\n",
       "      <td>NaN</td>\n",
       "    </tr>\n",
       "    <tr>\n",
       "      <th>StorageUnit</th>\n",
       "      <th>Reservoir &amp; Dam</th>\n",
       "      <td>4.340626e+03</td>\n",
       "      <td>4.340626e+03</td>\n",
       "      <td>1.227298e+06</td>\n",
       "      <td>0.000000e+00</td>\n",
       "      <td>1.227298e+06</td>\n",
       "      <td>0.000000e+00</td>\n",
       "      <td>0.032277</td>\n",
       "      <td>0.000000e+00</td>\n",
       "      <td>0.000000e+00</td>\n",
       "      <td>1.198411e+04</td>\n",
       "      <td>7.541750e+11</td>\n",
       "      <td>6.145002e+05</td>\n",
       "    </tr>\n",
       "  </tbody>\n",
       "</table>\n",
       "</div>"
      ],
      "text/plain": [
       "                                Optimal Capacity  Installed Capacity  \\\n",
       "Generator   Biomass                 1.061604e+01        1.050000e+01   \n",
       "            Coal                    6.000010e+02        6.000000e+02   \n",
       "            Combined-Cycle Gas      1.348857e+03        1.192700e+03   \n",
       "            Geothermal              8.613686e+03        1.350000e+02   \n",
       "            Offshore Wind (AC)      2.714196e+00        0.000000e+00   \n",
       "            Offshore Wind (DC)      1.502706e+00        0.000000e+00   \n",
       "            Oil                     8.964852e+01        8.880000e+01   \n",
       "            Onshore Wind            1.764118e+05        9.110989e-01   \n",
       "            Open-Cycle Gas          1.855272e+02        1.850000e+02   \n",
       "            Run of River            6.017862e+02        6.017862e+02   \n",
       "            Solar                   1.491341e+05        1.447202e+01   \n",
       "            load                    6.700000e+10        6.700000e+10   \n",
       "Line        AC                      7.808265e+04        3.258621e+04   \n",
       "Load        -                       0.000000e+00        0.000000e+00   \n",
       "StorageUnit Reservoir & Dam         4.340626e+03        4.340626e+03   \n",
       "\n",
       "                                      Supply    Withdrawal      Dispatch  \\\n",
       "Generator   Biomass             1.111141e+04  0.000000e+00  1.111141e+04   \n",
       "            Coal                1.037741e+03  0.000000e+00  1.037741e+03   \n",
       "            Combined-Cycle Gas  2.056664e+06  0.000000e+00  2.056664e+06   \n",
       "            Geothermal          6.382050e+07  0.000000e+00  6.382050e+07   \n",
       "            Offshore Wind (AC)  2.490367e+03  0.000000e+00  2.490367e+03   \n",
       "            Offshore Wind (DC)  2.029175e+03  0.000000e+00  2.029175e+03   \n",
       "            Oil                 3.671624e+03  0.000000e+00  3.671624e+03   \n",
       "            Onshore Wind        4.303698e+06  0.000000e+00  4.303698e+06   \n",
       "            Open-Cycle Gas      7.218763e+02  0.000000e+00  7.218763e+02   \n",
       "            Run of River        2.009822e+05  0.000000e+00  2.009822e+05   \n",
       "            Solar               5.592319e+06  0.000000e+00  5.592319e+06   \n",
       "            load                1.627481e+06  0.000000e+00  1.627481e+06   \n",
       "Line        AC                  3.988039e+08  3.988039e+08  0.000000e+00   \n",
       "Load        -                   0.000000e+00  7.885000e+07 -7.885000e+07   \n",
       "StorageUnit Reservoir & Dam     1.227298e+06  0.000000e+00  1.227298e+06   \n",
       "\n",
       "                                Transmission  Capacity Factor   Curtailment  \\\n",
       "Generator   Biomass             0.000000e+00         0.119482  0.000000e+00   \n",
       "            Coal                0.000000e+00         0.000197  0.000000e+00   \n",
       "            Combined-Cycle Gas  0.000000e+00         0.174058  0.000000e+00   \n",
       "            Geothermal          0.000000e+00         0.845799  0.000000e+00   \n",
       "            Offshore Wind (AC)  0.000000e+00         0.104741  2.039647e+03   \n",
       "            Offshore Wind (DC)  0.000000e+00         0.154149  1.697923e+03   \n",
       "            Oil                 0.000000e+00         0.004675  0.000000e+00   \n",
       "            Onshore Wind        0.000000e+00         0.002785  6.978539e+07   \n",
       "            Open-Cycle Gas      0.000000e+00         0.000444  0.000000e+00   \n",
       "            Run of River        0.000000e+00         0.038125  8.049368e+04   \n",
       "            Solar               0.000000e+00         0.004281  2.065145e+08   \n",
       "            load                0.000000e+00         0.000003  0.000000e+00   \n",
       "Line        AC                 -7.836034e+07         0.583043  0.000000e+00   \n",
       "Load        -                   0.000000e+00              NaN  0.000000e+00   \n",
       "StorageUnit Reservoir & Dam     0.000000e+00         0.032277  0.000000e+00   \n",
       "\n",
       "                                Capital Expenditure  Operational Expenditure  \\\n",
       "Generator   Biomass                    3.755884e+06             1.759858e+05   \n",
       "            Coal                       2.649000e+08             3.344040e+04   \n",
       "            Combined-Cycle Gas         1.702013e+08             9.627768e+07   \n",
       "            Geothermal                 0.000000e+00             5.824388e+05   \n",
       "            Offshore Wind (AC)         7.129496e+05             6.233291e+01   \n",
       "            Offshore Wind (DC)         4.858218e+05             5.116350e+01   \n",
       "            Oil                        4.386292e+06             5.784046e+05   \n",
       "            Onshore Wind               2.285954e+10             1.076154e+05   \n",
       "            Open-Cycle Gas             1.093447e+07             4.670154e+04   \n",
       "            Run of River               2.465120e+08             1.977794e+03   \n",
       "            Solar                      7.201581e+09             1.126384e+05   \n",
       "            load                       0.000000e+00             1.301986e+13   \n",
       "Line        AC                         4.897059e+08             0.000000e+00   \n",
       "Load        -                          0.000000e+00             0.000000e+00   \n",
       "StorageUnit Reservoir & Dam            0.000000e+00             1.198411e+04   \n",
       "\n",
       "                                     Revenue  Market Value  \n",
       "Generator   Biomass             3.921324e+05  3.529098e+01  \n",
       "            Coal                1.321085e+03  1.273039e+00  \n",
       "            Combined-Cycle Gas  1.563578e+08  7.602495e+01  \n",
       "            Geothermal          5.735829e+05  8.987441e-03  \n",
       "            Offshore Wind (AC)  7.072132e+04  2.839795e+01  \n",
       "            Offshore Wind (DC)  6.551179e+04  3.228493e+01  \n",
       "            Oil                 5.932200e+05  1.615688e+02  \n",
       "            Onshore Wind        1.214553e+12  2.822114e+05  \n",
       "            Open-Cycle Gas      7.382952e+03  1.022745e+01  \n",
       "            Run of River        9.537709e+10  4.745550e+05  \n",
       "            Solar               3.330745e+10  5.955929e+03  \n",
       "            load                1.301986e+13  8.000009e+06  \n",
       "Line        AC                  5.266516e+08  1.320578e+00  \n",
       "Load        -                  -1.511796e+13           NaN  \n",
       "StorageUnit Reservoir & Dam     7.541750e+11  6.145002e+05  "
      ]
     },
     "execution_count": 58,
     "metadata": {},
     "output_type": "execute_result"
    }
   ],
   "source": [
    "n.statistics()"
   ]
  },
  {
   "cell_type": "code",
   "execution_count": 59,
   "metadata": {},
   "outputs": [
    {
     "name": "stderr",
     "output_type": "stream",
     "text": [
      "C:\\Users\\hie\\AppData\\Local\\Temp\\ipykernel_28804\\3758984340.py:1: DeprecatedWarning:\n",
      "\n",
      "dispatch is deprecated as of 0.28 and will be removed in 0.29. Use 'energy_balance' instead.\n",
      "\n"
     ]
    },
    {
     "data": {
      "text/plain": [
       "0.2209244091063738"
      ]
     },
     "execution_count": 59,
     "metadata": {},
     "output_type": "execute_result"
    }
   ],
   "source": [
    "n.statistics.dispatch().sum()"
   ]
  },
  {
   "cell_type": "code",
   "execution_count": 60,
   "metadata": {},
   "outputs": [
    {
     "data": {
      "text/plain": [
       "31252716496.437748"
      ]
     },
     "execution_count": 60,
     "metadata": {},
     "output_type": "execute_result"
    }
   ],
   "source": [
    "# Capital expenditure for optimized values (annual values based on p_nom_opt) [Eur/year]\n",
    "n.statistics.capex().sum()"
   ]
  },
  {
   "cell_type": "code",
   "execution_count": 61,
   "metadata": {},
   "outputs": [
    {
     "data": {
      "text/plain": [
       "31252.71649643775"
      ]
     },
     "execution_count": 61,
     "metadata": {},
     "output_type": "execute_result"
    }
   ],
   "source": [
    "#manual sum of components to obtain capex of the system [Million Eur/year]\n",
    "capex = (n.generators.p_nom_opt * n.generators.capital_cost).div(1e6).sum()  + (n.storage_units.p_nom_opt * n.storage_units.capital_cost).div(1e6).sum() + (n.lines.s_nom_opt * n.lines.capital_cost).div(1e6).sum() + (n.stores.e_nom_opt * n.stores.capital_cost).div(1e6).sum()# M€/a\n",
    "capex"
   ]
  },
  {
   "cell_type": "code",
   "execution_count": 62,
   "metadata": {},
   "outputs": [
    {
     "data": {
      "text/plain": [
       "13019961.66573586"
      ]
     },
     "execution_count": 62,
     "metadata": {},
     "output_type": "execute_result"
    }
   ],
   "source": [
    "#manual sum of components to obatin opex of the system [Million Eur/year]\n",
    "opex = (n.snapshot_weightings.generators @ n.generators_t.p * (n.generators.marginal_cost).div(1e6)).sum() + (n.snapshot_weightings.generators @ n.storage_units_t.p * (n.storage_units.marginal_cost).div(1e6)).sum()  # M€/a\n",
    "opex"
   ]
  },
  {
   "cell_type": "code",
   "execution_count": 63,
   "metadata": {},
   "outputs": [
    {
     "data": {
      "text/plain": [
       "30353.160620171344"
      ]
     },
     "execution_count": 63,
     "metadata": {},
     "output_type": "execute_result"
    }
   ],
   "source": [
    "#manual sum of components to obtain capex of only the expanded capacity (p_nom_opt-p_nom) [Million Eur/year]\n",
    "capex2 = ((n.generators.p_nom_opt - n.generators.p_nom)* n.generators.capital_cost).div(1e6).sum()  + ((n.storage_units.p_nom_opt - n.storage_units.p_nom ) * n.storage_units.capital_cost).div(1e6).sum() + ((n.lines.s_nom_opt - n.lines.s_nom) * n.lines.capital_cost).div(1e6).sum() + ((n.stores.e_nom_opt - n.stores.e_nom) * n.stores.capital_cost).div(1e6).sum()# M€/a\n",
    "capex2"
   ]
  },
  {
   "cell_type": "code",
   "execution_count": 64,
   "metadata": {},
   "outputs": [
    {
     "data": {
      "text/plain": [
       "<AxesSubplot:xlabel='snapshot'>"
      ]
     },
     "execution_count": 64,
     "metadata": {},
     "output_type": "execute_result"
    },
    {
     "data": {
      "image/png": "[encoded data removed]",
      "text/plain": [
       "<Figure size 640x480 with 1 Axes>"
      ]
     },
     "metadata": {},
     "output_type": "display_data"
    }
   ],
   "source": [
    "date1 = \"2013-01-01\"\n",
    "date2 = \"2013-01-02\"\n",
    "n.loads_t.p.loc[date1:date2].sum(axis=1).plot()"
   ]
  },
  {
   "cell_type": "markdown",
   "metadata": {},
   "source": [
    "Expansion and generation charts"
   ]
  },
  {
   "cell_type": "code",
   "execution_count": 65,
   "metadata": {},
   "outputs": [
    {
     "name": "stderr",
     "output_type": "stream",
     "text": [
      "C:\\Users\\hie\\AppData\\Local\\Temp\\ipykernel_28804\\3549183427.py:3: FutureWarning:\n",
      "\n",
      "DataFrame.groupby with axis=1 is deprecated. Do `frame.T.groupby(...)` without axis instead.\n",
      "\n"
     ]
    },
    {
     "data": {
      "text/plain": [
       "<AxesSubplot:xlabel='snapshot'>"
      ]
     },
     "execution_count": 65,
     "metadata": {},
     "output_type": "execute_result"
    },
    {
     "data": {
      "image/png": "[encoded data removed]",
      "text/plain": [
       "<Figure size 640x480 with 1 Axes>"
      ]
     },
     "metadata": {},
     "output_type": "display_data"
    }
   ],
   "source": [
    "date1 = \"2013-01-01\"\n",
    "date2 = \"2013-01-02\"\n",
    "n.generators_t.p.loc[date1:date2].groupby(n.generators.carrier, axis=1).sum().plot(kind = \"area\")\n",
    "\n",
    "n.loads_t.p.loc[date1:date2].sum(axis=1).plot()"
   ]
  },
  {
   "cell_type": "code",
   "execution_count": 66,
   "metadata": {},
   "outputs": [
    {
     "name": "stderr",
     "output_type": "stream",
     "text": [
      "C:\\Users\\hie\\AppData\\Local\\Temp\\ipykernel_28804\\2573341186.py:2: FutureWarning:\n",
      "\n",
      "DataFrame.groupby with axis=1 is deprecated. Do `frame.T.groupby(...)` without axis instead.\n",
      "\n"
     ]
    },
    {
     "data": {
      "application/vnd.microsoft.datawrangler.viewer.v0+json": {
       "columns": [
        {
         "name": "Generator",
         "rawType": "object",
         "type": "string"
        },
        {
         "name": "p_nom",
         "rawType": "float64",
         "type": "float"
        },
        {
         "name": "p_nom_opt",
         "rawType": "float64",
         "type": "float"
        }
       ],
       "conversionMethod": "pd.DataFrame",
       "ref": "a1f59a67-ac5e-4d29-9575-58670e242515",
       "rows": [
        [
         "C31",
         "9.0",
         "9.030762653294516"
        ],
        [
         "C32",
         "1.5",
         "1.5852736259001923"
        ],
        [
         "C33",
         "102.0",
         "102.00907157266448"
        ],
        [
         "C34",
         "189.0",
         "189.06542540139492"
        ],
        [
         "C35",
         "129.0",
         "129.0981311198724"
        ],
        [
         "C36",
         "150.0",
         "150.00132263425093"
        ],
        [
         "C37",
         "248.2",
         "248.22760220830688"
        ],
        [
         "C38",
         "45.0",
         "45.01618140265583"
        ],
        [
         "C39",
         "18.0",
         "69.17132415692947"
        ],
        [
         "C40",
         "4.0",
         "103.58128437282161"
        ],
        [
         "C41",
         "7.5",
         "7.507190850554381"
        ],
        [
         "C42",
         "4.1",
         "4.107234001978121"
        ],
        [
         "C43",
         "7.4",
         "7.507086895413229"
        ],
        [
         "C44",
         "63.0",
         "63.22042910480916"
        ],
        [
         "C45",
         "7.7",
         "7.719195142694166"
        ],
        [
         "C46",
         "1.3",
         "1.3472215323925008"
        ],
        [
         "C47",
         "2.0",
         "2.0783570487868466"
        ],
        [
         "C48",
         "0.5",
         "0.5562129828988256"
        ],
        [
         "C49",
         "0.3",
         "0.5552458677605593"
        ],
        [
         "C50",
         "2.5",
         "2.5575339924283695"
        ],
        [
         "C51",
         "600.0",
         "600.0009649854143"
        ],
        [
         "C52",
         "185.0",
         "185.52721777630774"
        ],
        [
         "C53",
         "300.0",
         "305.1795539882166"
        ],
        [
         "C54",
         "30.0",
         "30.0"
        ],
        [
         "C55",
         "40.0",
         "5610.499190071652"
        ],
        [
         "C60",
         "5.0",
         "2913.1867515362333"
        ],
        [
         "C61",
         "60.0",
         "60.0"
        ],
        [
         "2 offwind-dc",
         "0.0",
         "0.0"
        ],
        [
         "19 offwind-dc",
         "0.0",
         "0.0"
        ],
        [
         "32 offwind-dc",
         "0.0",
         "0.22247481489052978"
        ],
        [
         "34 offwind-dc",
         "0.0",
         "0.0"
        ],
        [
         "35 offwind-dc",
         "0.0",
         "0.0"
        ],
        [
         "37 offwind-dc",
         "0.0",
         "0.3131532031261615"
        ],
        [
         "38 offwind-dc",
         "0.0",
         "0.26194072567057175"
        ],
        [
         "39 offwind-dc",
         "0.0",
         "0.22730154760394383"
        ],
        [
         "50 offwind-dc",
         "0.0",
         "0.22376658685376669"
        ],
        [
         "75 offwind-dc",
         "0.0",
         "0.2540692973363096"
        ],
        [
         "0 onwind",
         "0.0",
         "0.5448421335965512"
        ],
        [
         "3 onwind",
         "0.0",
         "0.3699829655826212"
        ],
        [
         "5 onwind",
         "0.0",
         "0.23258902431282083"
        ],
        [
         "8 onwind",
         "0.1884931891983929",
         "0.188493189198"
        ],
        [
         "9 onwind",
         "0.0",
         "0.48324022333138106"
        ],
        [
         "11 onwind",
         "0.0",
         "0.4794652194600941"
        ],
        [
         "13 onwind",
         "0.0",
         "0.5051817840533421"
        ],
        [
         "16 onwind",
         "0.0",
         "0.4728188260670452"
        ],
        [
         "17 onwind",
         "0.0",
         "6774.870425610825"
        ],
        [
         "18 onwind",
         "0.0",
         "24082.959557972426"
        ],
        [
         "19 onwind",
         "0.0",
         "0.466994665342065"
        ],
        [
         "20 onwind",
         "0.0",
         "0.5136869449819813"
        ],
        [
         "21 onwind",
         "0.0",
         "0.5265438156673689"
        ]
       ],
       "shape": {
        "columns": 2,
        "rows": 263
       }
      },
      "text/html": [
       "<div>\n",
       "<style scoped>\n",
       "    .dataframe tbody tr th:only-of-type {\n",
       "        vertical-align: middle;\n",
       "    }\n",
       "\n",
       "    .dataframe tbody tr th {\n",
       "        vertical-align: top;\n",
       "    }\n",
       "\n",
       "    .dataframe thead th {\n",
       "        text-align: right;\n",
       "    }\n",
       "</style>\n",
       "<table border=\"1\" class=\"dataframe\">\n",
       "  <thead>\n",
       "    <tr style=\"text-align: right;\">\n",
       "      <th></th>\n",
       "      <th>p_nom</th>\n",
       "      <th>p_nom_opt</th>\n",
       "    </tr>\n",
       "    <tr>\n",
       "      <th>Generator</th>\n",
       "      <th></th>\n",
       "      <th></th>\n",
       "    </tr>\n",
       "  </thead>\n",
       "  <tbody>\n",
       "    <tr>\n",
       "      <th>C31</th>\n",
       "      <td>9.000000e+00</td>\n",
       "      <td>9.030763e+00</td>\n",
       "    </tr>\n",
       "    <tr>\n",
       "      <th>C32</th>\n",
       "      <td>1.500000e+00</td>\n",
       "      <td>1.585274e+00</td>\n",
       "    </tr>\n",
       "    <tr>\n",
       "      <th>C33</th>\n",
       "      <td>1.020000e+02</td>\n",
       "      <td>1.020091e+02</td>\n",
       "    </tr>\n",
       "    <tr>\n",
       "      <th>C34</th>\n",
       "      <td>1.890000e+02</td>\n",
       "      <td>1.890654e+02</td>\n",
       "    </tr>\n",
       "    <tr>\n",
       "      <th>C35</th>\n",
       "      <td>1.290000e+02</td>\n",
       "      <td>1.290981e+02</td>\n",
       "    </tr>\n",
       "    <tr>\n",
       "      <th>...</th>\n",
       "      <td>...</td>\n",
       "      <td>...</td>\n",
       "    </tr>\n",
       "    <tr>\n",
       "      <th>79 load</th>\n",
       "      <td>1.000000e+09</td>\n",
       "      <td>1.000000e+09</td>\n",
       "    </tr>\n",
       "    <tr>\n",
       "      <th>80 load</th>\n",
       "      <td>1.000000e+09</td>\n",
       "      <td>1.000000e+09</td>\n",
       "    </tr>\n",
       "    <tr>\n",
       "      <th>81 load</th>\n",
       "      <td>1.000000e+09</td>\n",
       "      <td>1.000000e+09</td>\n",
       "    </tr>\n",
       "    <tr>\n",
       "      <th>82 load</th>\n",
       "      <td>1.000000e+09</td>\n",
       "      <td>1.000000e+09</td>\n",
       "    </tr>\n",
       "    <tr>\n",
       "      <th>83 load</th>\n",
       "      <td>1.000000e+09</td>\n",
       "      <td>1.000000e+09</td>\n",
       "    </tr>\n",
       "  </tbody>\n",
       "</table>\n",
       "<p>263 rows × 2 columns</p>\n",
       "</div>"
      ],
      "text/plain": [
       "                  p_nom     p_nom_opt\n",
       "Generator                            \n",
       "C31        9.000000e+00  9.030763e+00\n",
       "C32        1.500000e+00  1.585274e+00\n",
       "C33        1.020000e+02  1.020091e+02\n",
       "C34        1.890000e+02  1.890654e+02\n",
       "C35        1.290000e+02  1.290981e+02\n",
       "...                 ...           ...\n",
       "79 load    1.000000e+09  1.000000e+09\n",
       "80 load    1.000000e+09  1.000000e+09\n",
       "81 load    1.000000e+09  1.000000e+09\n",
       "82 load    1.000000e+09  1.000000e+09\n",
       "83 load    1.000000e+09  1.000000e+09\n",
       "\n",
       "[263 rows x 2 columns]"
      ]
     },
     "execution_count": 66,
     "metadata": {},
     "output_type": "execute_result"
    }
   ],
   "source": [
    "n.generators_t.p_max_pu.loc[\"2013-01-01 06:00\":\"2013-01-01 15:00\"]   #constraint\n",
    "n.generators_t.p_max_pu.loc[\"2013-01-01 06:00\":\"2013-01-01 15:00\"].groupby(n.generators.carrier, axis=1).mean()  #resource availability\n",
    "n.generators.marginal_cost \n",
    "\n",
    "curtailment = n.generators_t.p_max_pu * n.generators.p_nom_opt - n.generators_t.p\n",
    "curtailment.loc[\"2013-01-01 06:00\":\"2013-01-01 15:00\"].sum(axis=1)\n",
    "\n",
    "n.generators_t.p.loc[:, n.generators.carrier == \"load\"].loc[\"2013-01-01 06:00\":\"2013-01-01 15:00\"]   #load shedding\n",
    "\n",
    "\n",
    "\n",
    "n.generators[[\"p_nom\", \"p_nom_opt\"]]    #status"
   ]
  },
  {
   "cell_type": "code",
   "execution_count": 67,
   "metadata": {},
   "outputs": [
    {
     "name": "stdout",
     "output_type": "stream",
     "text": [
      "                  carrier      p_nom     p_nom_opt\n",
      "Generator                                         \n",
      "C39                  CCGT  18.000000     69.171324\n",
      "C40                  CCGT   4.000000    103.581284\n",
      "C55            geothermal  40.000000   5610.499190\n",
      "C60            geothermal   5.000000   2913.186752\n",
      "32 offwind-dc  offwind-dc   0.000000      0.222475\n",
      "...                   ...        ...           ...\n",
      "79 solar            solar   0.000000      0.823056\n",
      "80 solar            solar   0.000000      0.748909\n",
      "81 solar            solar   0.000000   6762.464546\n",
      "82 solar            solar   0.000000      0.709093\n",
      "83 solar            solar   0.398577  32978.650134\n",
      "\n",
      "[140 rows x 3 columns]\n"
     ]
    }
   ],
   "source": [
    "expanded_generators = n.generators[n.generators[\"p_nom_opt\"] > n.generators[\"p_nom\"] * 2]\n",
    "print(expanded_generators[[\"carrier\", \"p_nom\", \"p_nom_opt\"]])"
   ]
  },
  {
   "cell_type": "code",
   "execution_count": 68,
   "metadata": {},
   "outputs": [
    {
     "name": "stdout",
     "output_type": "stream",
     "text": [
      "                  carrier  marginal_cost\n",
      "Generator                               \n",
      "C39                  CCGT      46.813905\n",
      "C40                  CCGT      46.812223\n",
      "C55            geothermal       0.009134\n",
      "C60            geothermal       0.009110\n",
      "32 offwind-dc  offwind-dc       0.024320\n",
      "...                   ...            ...\n",
      "79 solar            solar       0.020641\n",
      "80 solar            solar       0.019620\n",
      "81 solar            solar       0.020174\n",
      "82 solar            solar       0.020426\n",
      "83 solar            solar       0.019574\n",
      "\n",
      "[140 rows x 2 columns]\n"
     ]
    }
   ],
   "source": [
    "print(expanded_generators[[\"carrier\", \"marginal_cost\"]])\n",
    "\n"
   ]
  },
  {
   "cell_type": "code",
   "execution_count": 69,
   "metadata": {},
   "outputs": [
    {
     "name": "stdout",
     "output_type": "stream",
     "text": [
      "snapshot\n",
      "2013-01-01 00:00:00      49.783480\n",
      "2013-01-01 01:00:00      37.525728\n",
      "2013-01-01 02:00:00      74.839173\n",
      "2013-01-01 03:00:00     349.054162\n",
      "2013-01-01 04:00:00     163.737317\n",
      "                          ...     \n",
      "2013-12-31 19:00:00    1805.165536\n",
      "2013-12-31 20:00:00    1824.064759\n",
      "2013-12-31 21:00:00    1479.632308\n",
      "2013-12-31 22:00:00     949.571520\n",
      "2013-12-31 23:00:00     835.233622\n",
      "Length: 8760, dtype: float64\n"
     ]
    }
   ],
   "source": [
    "curtailment = n.generators_t.p_max_pu * n.generators.p_nom_opt - n.generators_t.p\n",
    "print(curtailment.loc[:, expanded_generators.index].sum(axis=1))"
   ]
  },
  {
   "cell_type": "code",
   "execution_count": 70,
   "metadata": {},
   "outputs": [
    {
     "name": "stdout",
     "output_type": "stream",
     "text": [
      "count      8760.000000\n",
      "mean      31540.594246\n",
      "std       30823.255938\n",
      "min           0.046864\n",
      "25%        5845.596486\n",
      "50%       17939.951716\n",
      "75%       56748.043680\n",
      "max      128886.600805\n",
      "dtype: float64\n",
      "snapshot\n",
      "2013-01-01 00:00:00    78.664953\n",
      "2013-01-01 01:00:00    72.460591\n",
      "2013-01-01 02:00:00    41.294597\n",
      "2013-01-01 03:00:00    76.510432\n",
      "2013-01-01 04:00:00    55.655771\n",
      "                         ...    \n",
      "2013-12-31 19:00:00    92.660376\n",
      "2013-12-31 20:00:00    93.885333\n",
      "2013-12-31 21:00:00    93.157303\n",
      "2013-12-31 22:00:00    89.952323\n",
      "2013-12-31 23:00:00    88.451465\n",
      "Length: 8760, dtype: float64\n"
     ]
    }
   ],
   "source": [
    "curtailment = n.generators_t.p_max_pu * n.generators.p_nom_opt - n.generators_t.p\n",
    "curtailment_expanded = curtailment.loc[:, expanded_generators.index]\n",
    "print(curtailment_expanded.sum(axis=1).describe())  # Summary of curtailment\n",
    "\n",
    "total_potential_generation = (n.generators_t.p_max_pu * n.generators.p_nom_opt).loc[:, expanded_generators.index].sum(axis=1)\n",
    "curtailment_percentage = (curtailment_expanded.sum(axis=1) / total_potential_generation) * 100\n",
    "print(curtailment_percentage)  # Percentage of curtailment"
   ]
  },
  {
   "cell_type": "code",
   "execution_count": 71,
   "metadata": {},
   "outputs": [
    {
     "name": "stdout",
     "output_type": "stream",
     "text": [
      "             curtailment    demand\n",
      "curtailment     1.000000  0.389304\n",
      "demand          0.389304  1.000000\n"
     ]
    }
   ],
   "source": [
    "demand = n.loads_t.p_set.sum(axis=1)\n",
    "curtailment_vs_demand = pd.DataFrame({\n",
    "    \"curtailment\": curtailment_expanded.sum(axis=1),\n",
    "    \"demand\": demand\n",
    "})\n",
    "print(curtailment_vs_demand.corr())  # Correlation between curtailment and demand"
   ]
  },
  {
   "cell_type": "code",
   "execution_count": 72,
   "metadata": {},
   "outputs": [
    {
     "name": "stdout",
     "output_type": "stream",
     "text": [
      "snapshot\n",
      "2013-08-26 08:00:00    128886.600805\n",
      "2013-10-15 11:00:00    128216.909119\n",
      "2013-08-26 09:00:00    128149.313182\n",
      "2013-10-16 10:00:00    126715.211897\n",
      "2013-10-15 10:00:00    126003.953554\n",
      "2013-10-16 09:00:00    121954.955032\n",
      "2013-10-15 09:00:00    120296.774516\n",
      "2013-08-26 10:00:00    120064.888093\n",
      "2013-10-15 12:00:00    118976.516887\n",
      "2013-08-25 09:00:00    117608.214595\n",
      "dtype: float64\n"
     ]
    }
   ],
   "source": [
    "high_curtailment_hours = curtailment_expanded.sum(axis=1).nlargest(10)\n",
    "print(high_curtailment_hours)"
   ]
  },
  {
   "cell_type": "code",
   "execution_count": 73,
   "metadata": {},
   "outputs": [
    {
     "data": {
      "application/vnd.microsoft.datawrangler.viewer.v0+json": {
       "columns": [
        {
         "name": "('component', 'carrier')",
         "rawType": "object",
         "type": "unknown"
        },
        {
         "name": "0",
         "rawType": "float64",
         "type": "float"
        }
       ],
       "conversionMethod": "pd.DataFrame",
       "ref": "0d62446d-957c-43b8-a8a6-33478480fb1e",
       "rows": [
        [
         "('StorageUnit', 'Reservoir & Dam')",
         "4340.625971594"
        ]
       ],
       "shape": {
        "columns": 1,
        "rows": 1
       }
      },
      "text/html": [
       "<div>\n",
       "<style scoped>\n",
       "    .dataframe tbody tr th:only-of-type {\n",
       "        vertical-align: middle;\n",
       "    }\n",
       "\n",
       "    .dataframe tbody tr th {\n",
       "        vertical-align: top;\n",
       "    }\n",
       "\n",
       "    .dataframe thead th {\n",
       "        text-align: right;\n",
       "    }\n",
       "</style>\n",
       "<table border=\"1\" class=\"dataframe\">\n",
       "  <thead>\n",
       "    <tr style=\"text-align: right;\">\n",
       "      <th></th>\n",
       "      <th></th>\n",
       "      <th>0</th>\n",
       "    </tr>\n",
       "    <tr>\n",
       "      <th>component</th>\n",
       "      <th>carrier</th>\n",
       "      <th></th>\n",
       "    </tr>\n",
       "  </thead>\n",
       "  <tbody>\n",
       "    <tr>\n",
       "      <th>StorageUnit</th>\n",
       "      <th>Reservoir &amp; Dam</th>\n",
       "      <td>4340.625972</td>\n",
       "    </tr>\n",
       "  </tbody>\n",
       "</table>\n",
       "</div>"
      ],
      "text/plain": [
       "                                       0\n",
       "component   carrier                     \n",
       "StorageUnit Reservoir & Dam  4340.625972"
      ]
     },
     "execution_count": 73,
     "metadata": {},
     "output_type": "execute_result"
    }
   ],
   "source": [
    "storage_capacities = pd.DataFrame(n.statistics.optimal_capacity())\n",
    "storage_capacities = storage_capacities.drop(index=['Line','Generator'], level=0)\n",
    "storage_capacities"
   ]
  },
  {
   "cell_type": "code",
   "execution_count": 74,
   "metadata": {},
   "outputs": [
    {
     "data": {
      "application/vnd.microsoft.datawrangler.viewer.v0+json": {
       "columns": [
        {
         "name": "(None, None)",
         "rawType": "object",
         "type": "unknown"
        },
        {
         "name": "Optimal Capacity",
         "rawType": "float64",
         "type": "float"
        },
        {
         "name": "Installed Capacity",
         "rawType": "float64",
         "type": "float"
        },
        {
         "name": "Supply",
         "rawType": "float64",
         "type": "float"
        },
        {
         "name": "Withdrawal",
         "rawType": "float64",
         "type": "float"
        },
        {
         "name": "Dispatch",
         "rawType": "float64",
         "type": "float"
        },
        {
         "name": "Transmission",
         "rawType": "float64",
         "type": "float"
        },
        {
         "name": "Capacity Factor",
         "rawType": "float64",
         "type": "float"
        },
        {
         "name": "Curtailment",
         "rawType": "float64",
         "type": "float"
        },
        {
         "name": "Capital Expenditure",
         "rawType": "float64",
         "type": "float"
        },
        {
         "name": "Operational Expenditure",
         "rawType": "float64",
         "type": "float"
        },
        {
         "name": "Revenue",
         "rawType": "float64",
         "type": "float"
        },
        {
         "name": "Market Value",
         "rawType": "float64",
         "type": "float"
        }
       ],
       "conversionMethod": "pd.DataFrame",
       "ref": "a89cd9a3-95b4-458e-b0ad-df6c38eb7d58",
       "rows": [
        [
         "('Generator', 'Biomass')",
         "10.61603627919471",
         "10.5",
         "11111.405035336296",
         "0.0",
         "11111.405035336296",
         "0.0",
         "0.11948199864672497",
         "0.0",
         "3755883.7900758684",
         "175985.76669646724",
         "392132.4256090688",
         "35.29098474603496"
        ],
        [
         "('Generator', 'Coal')",
         "600.0009649854143",
         "600.0",
         "1037.7413929820298",
         "0.0",
         "1037.7413929820298",
         "0.0",
         "0.00019743906468338426",
         "0.0",
         "264899988.647797",
         "33440.40265467652",
         "1321.0849442409544",
         "1.2730386907326834"
        ],
        [
         "('Generator', 'Combined-Cycle Gas')",
         "1348.8570877076675",
         "1192.7",
         "2056664.0725827327",
         "0.0",
         "2056664.0725827327",
         "0.0",
         "0.17405773069590963",
         "0.0",
         "170201277.1744659",
         "96277675.0714975",
         "156357788.56704944",
         "76.02495256830996"
        ],
        [
         "('Generator', 'Geothermal')",
         "8613.685941607886",
         "135.0",
         "63820495.277995616",
         "0.0",
         "63820495.277995616",
         "0.0",
         "0.8457987342266517",
         "0.0",
         "0.0",
         "582438.7959770396",
         "573582.9246840221",
         "0.008987440824229788"
        ],
        [
         "('Generator', 'Offshore Wind (AC)')",
         "2.7141958324231656",
         "0.0",
         "2490.366947161204",
         "0.0",
         "2490.366947161204",
         "0.0",
         "0.10474132370692026",
         "2039.6472897244744",
         "712949.5966042761",
         "62.33291086937032",
         "70721.31794266503",
         "28.397950761144262"
        ],
        [
         "('Generator', 'Offshore Wind (DC)')",
         "1.5027061754812832",
         "0.0",
         "2029.1752773621793",
         "0.0",
         "2029.1752773621793",
         "0.0",
         "0.1541492390043048",
         "1697.923112251451",
         "485821.81875648134",
         "51.16350116826929",
         "65511.79080491163",
         "32.28493444394488"
        ],
        [
         "('Generator', 'Oil')",
         "89.64851656916179",
         "88.8",
         "3671.623874852002",
         "0.0",
         "3671.623874852002",
         "0.0",
         "0.004675316018282324",
         "0.0",
         "4386291.803166941",
         "578404.5728349767",
         "593220.0394076199",
         "161.5688479069854"
        ],
        [
         "('Generator', 'Onshore Wind')",
         "176411.83047355342",
         "0.9110988651167364",
         "4303698.163481382",
         "0.0",
         "4303698.163481382",
         "0.0",
         "0.002784902482848544",
         "69785390.17286399",
         "22859540495.11889",
         "107615.37290099954",
         "1214552680060.2927",
         "282211.3991093202"
        ],
        [
         "('Generator', 'Open-Cycle Gas')",
         "185.52721777630774",
         "185.0",
         "721.876336787306",
         "0.0",
         "721.876336787306",
         "0.0",
         "0.00044417188759040557",
         "0.0",
         "10934470.133555543",
         "46701.53989042755",
         "7382.952387018122",
         "10.227447570695809"
        ],
        [
         "('Generator', 'Run of River')",
         "601.78624204",
         "601.78624204",
         "200982.17556968977",
         "0.0",
         "200982.17556968977",
         "0.0",
         "0.03812511673473673",
         "80493.68288217812",
         "246512017.2716647",
         "1977.7941985302082",
         "95377089840.56259",
         "474554.9677239458"
        ],
        [
         "('Generator', 'Solar')",
         "149134.0885487987",
         "14.472015349088327",
         "5592319.096615634",
         "0.0",
         "5592319.096615634",
         "0.0",
         "0.004280661766534799",
         "206514490.4979255",
         "7201581384.995809",
         "112638.37770407823",
         "33307452913.758053",
         "5955.928540257134"
        ],
        [
         "('Generator', 'load')",
         "67000000000.0",
         "67000000000.0",
         "1627480.988918499",
         "0.0",
         "1627480.988918499",
         "0.0",
         "2.7729179256431867e-06",
         "0.0",
         "0.0",
         "13019863736760.553",
         "13019862657456.508",
         "8000009.060694788"
        ],
        [
         "('Line', 'AC')",
         "78082.65445433448",
         "32586.214996326285",
         "398803913.51368743",
         "398803913.51368743",
         "0.0",
         "-78360344.20670551",
         "0.5830432023800363",
         "0.0",
         "489705916.0869666",
         "0.0",
         "526651563.00634766",
         "1.3205777204311258"
        ],
        [
         "('Load', '-')",
         "0.0",
         "0.0",
         "0.0",
         "78849999.999988",
         "-78849999.999988",
         "0.0",
         null,
         "0.0",
         "0.0",
         "0.0",
         "-15117959597044.89",
         null
        ],
        [
         "('StorageUnit', 'Reservoir & Dam')",
         "4340.625971594",
         "4340.625971594",
         "1227298.2568843886",
         "0.0",
         "1227298.2568843886",
         "0.0",
         "0.03227703599828424",
         "0.0",
         "0.0",
         "11984.11275816005",
         "754175008100.5472",
         "614500.1867884103"
        ]
       ],
       "shape": {
        "columns": 12,
        "rows": 15
       }
      },
      "text/html": [
       "<div>\n",
       "<style scoped>\n",
       "    .dataframe tbody tr th:only-of-type {\n",
       "        vertical-align: middle;\n",
       "    }\n",
       "\n",
       "    .dataframe tbody tr th {\n",
       "        vertical-align: top;\n",
       "    }\n",
       "\n",
       "    .dataframe thead th {\n",
       "        text-align: right;\n",
       "    }\n",
       "</style>\n",
       "<table border=\"1\" class=\"dataframe\">\n",
       "  <thead>\n",
       "    <tr style=\"text-align: right;\">\n",
       "      <th></th>\n",
       "      <th></th>\n",
       "      <th>Optimal Capacity</th>\n",
       "      <th>Installed Capacity</th>\n",
       "      <th>Supply</th>\n",
       "      <th>Withdrawal</th>\n",
       "      <th>Dispatch</th>\n",
       "      <th>Transmission</th>\n",
       "      <th>Capacity Factor</th>\n",
       "      <th>Curtailment</th>\n",
       "      <th>Capital Expenditure</th>\n",
       "      <th>Operational Expenditure</th>\n",
       "      <th>Revenue</th>\n",
       "      <th>Market Value</th>\n",
       "    </tr>\n",
       "  </thead>\n",
       "  <tbody>\n",
       "    <tr>\n",
       "      <th rowspan=\"12\" valign=\"top\">Generator</th>\n",
       "      <th>Biomass</th>\n",
       "      <td>1.061604e+01</td>\n",
       "      <td>1.050000e+01</td>\n",
       "      <td>1.111141e+04</td>\n",
       "      <td>0.000000e+00</td>\n",
       "      <td>1.111141e+04</td>\n",
       "      <td>0.000000e+00</td>\n",
       "      <td>0.119482</td>\n",
       "      <td>0.000000e+00</td>\n",
       "      <td>3.755884e+06</td>\n",
       "      <td>1.759858e+05</td>\n",
       "      <td>3.921324e+05</td>\n",
       "      <td>3.529098e+01</td>\n",
       "    </tr>\n",
       "    <tr>\n",
       "      <th>Coal</th>\n",
       "      <td>6.000010e+02</td>\n",
       "      <td>6.000000e+02</td>\n",
       "      <td>1.037741e+03</td>\n",
       "      <td>0.000000e+00</td>\n",
       "      <td>1.037741e+03</td>\n",
       "      <td>0.000000e+00</td>\n",
       "      <td>0.000197</td>\n",
       "      <td>0.000000e+00</td>\n",
       "      <td>2.649000e+08</td>\n",
       "      <td>3.344040e+04</td>\n",
       "      <td>1.321085e+03</td>\n",
       "      <td>1.273039e+00</td>\n",
       "    </tr>\n",
       "    <tr>\n",
       "      <th>Combined-Cycle Gas</th>\n",
       "      <td>1.348857e+03</td>\n",
       "      <td>1.192700e+03</td>\n",
       "      <td>2.056664e+06</td>\n",
       "      <td>0.000000e+00</td>\n",
       "      <td>2.056664e+06</td>\n",
       "      <td>0.000000e+00</td>\n",
       "      <td>0.174058</td>\n",
       "      <td>0.000000e+00</td>\n",
       "      <td>1.702013e+08</td>\n",
       "      <td>9.627768e+07</td>\n",
       "      <td>1.563578e+08</td>\n",
       "      <td>7.602495e+01</td>\n",
       "    </tr>\n",
       "    <tr>\n",
       "      <th>Geothermal</th>\n",
       "      <td>8.613686e+03</td>\n",
       "      <td>1.350000e+02</td>\n",
       "      <td>6.382050e+07</td>\n",
       "      <td>0.000000e+00</td>\n",
       "      <td>6.382050e+07</td>\n",
       "      <td>0.000000e+00</td>\n",
       "      <td>0.845799</td>\n",
       "      <td>0.000000e+00</td>\n",
       "      <td>0.000000e+00</td>\n",
       "      <td>5.824388e+05</td>\n",
       "      <td>5.735829e+05</td>\n",
       "      <td>8.987441e-03</td>\n",
       "    </tr>\n",
       "    <tr>\n",
       "      <th>Offshore Wind (AC)</th>\n",
       "      <td>2.714196e+00</td>\n",
       "      <td>0.000000e+00</td>\n",
       "      <td>2.490367e+03</td>\n",
       "      <td>0.000000e+00</td>\n",
       "      <td>2.490367e+03</td>\n",
       "      <td>0.000000e+00</td>\n",
       "      <td>0.104741</td>\n",
       "      <td>2.039647e+03</td>\n",
       "      <td>7.129496e+05</td>\n",
       "      <td>6.233291e+01</td>\n",
       "      <td>7.072132e+04</td>\n",
       "      <td>2.839795e+01</td>\n",
       "    </tr>\n",
       "    <tr>\n",
       "      <th>Offshore Wind (DC)</th>\n",
       "      <td>1.502706e+00</td>\n",
       "      <td>0.000000e+00</td>\n",
       "      <td>2.029175e+03</td>\n",
       "      <td>0.000000e+00</td>\n",
       "      <td>2.029175e+03</td>\n",
       "      <td>0.000000e+00</td>\n",
       "      <td>0.154149</td>\n",
       "      <td>1.697923e+03</td>\n",
       "      <td>4.858218e+05</td>\n",
       "      <td>5.116350e+01</td>\n",
       "      <td>6.551179e+04</td>\n",
       "      <td>3.228493e+01</td>\n",
       "    </tr>\n",
       "    <tr>\n",
       "      <th>Oil</th>\n",
       "      <td>8.964852e+01</td>\n",
       "      <td>8.880000e+01</td>\n",
       "      <td>3.671624e+03</td>\n",
       "      <td>0.000000e+00</td>\n",
       "      <td>3.671624e+03</td>\n",
       "      <td>0.000000e+00</td>\n",
       "      <td>0.004675</td>\n",
       "      <td>0.000000e+00</td>\n",
       "      <td>4.386292e+06</td>\n",
       "      <td>5.784046e+05</td>\n",
       "      <td>5.932200e+05</td>\n",
       "      <td>1.615688e+02</td>\n",
       "    </tr>\n",
       "    <tr>\n",
       "      <th>Onshore Wind</th>\n",
       "      <td>1.764118e+05</td>\n",
       "      <td>9.110989e-01</td>\n",
       "      <td>4.303698e+06</td>\n",
       "      <td>0.000000e+00</td>\n",
       "      <td>4.303698e+06</td>\n",
       "      <td>0.000000e+00</td>\n",
       "      <td>0.002785</td>\n",
       "      <td>6.978539e+07</td>\n",
       "      <td>2.285954e+10</td>\n",
       "      <td>1.076154e+05</td>\n",
       "      <td>1.214553e+12</td>\n",
       "      <td>2.822114e+05</td>\n",
       "    </tr>\n",
       "    <tr>\n",
       "      <th>Open-Cycle Gas</th>\n",
       "      <td>1.855272e+02</td>\n",
       "      <td>1.850000e+02</td>\n",
       "      <td>7.218763e+02</td>\n",
       "      <td>0.000000e+00</td>\n",
       "      <td>7.218763e+02</td>\n",
       "      <td>0.000000e+00</td>\n",
       "      <td>0.000444</td>\n",
       "      <td>0.000000e+00</td>\n",
       "      <td>1.093447e+07</td>\n",
       "      <td>4.670154e+04</td>\n",
       "      <td>7.382952e+03</td>\n",
       "      <td>1.022745e+01</td>\n",
       "    </tr>\n",
       "    <tr>\n",
       "      <th>Run of River</th>\n",
       "      <td>6.017862e+02</td>\n",
       "      <td>6.017862e+02</td>\n",
       "      <td>2.009822e+05</td>\n",
       "      <td>0.000000e+00</td>\n",
       "      <td>2.009822e+05</td>\n",
       "      <td>0.000000e+00</td>\n",
       "      <td>0.038125</td>\n",
       "      <td>8.049368e+04</td>\n",
       "      <td>2.465120e+08</td>\n",
       "      <td>1.977794e+03</td>\n",
       "      <td>9.537709e+10</td>\n",
       "      <td>4.745550e+05</td>\n",
       "    </tr>\n",
       "    <tr>\n",
       "      <th>Solar</th>\n",
       "      <td>1.491341e+05</td>\n",
       "      <td>1.447202e+01</td>\n",
       "      <td>5.592319e+06</td>\n",
       "      <td>0.000000e+00</td>\n",
       "      <td>5.592319e+06</td>\n",
       "      <td>0.000000e+00</td>\n",
       "      <td>0.004281</td>\n",
       "      <td>2.065145e+08</td>\n",
       "      <td>7.201581e+09</td>\n",
       "      <td>1.126384e+05</td>\n",
       "      <td>3.330745e+10</td>\n",
       "      <td>5.955929e+03</td>\n",
       "    </tr>\n",
       "    <tr>\n",
       "      <th>load</th>\n",
       "      <td>6.700000e+10</td>\n",
       "      <td>6.700000e+10</td>\n",
       "      <td>1.627481e+06</td>\n",
       "      <td>0.000000e+00</td>\n",
       "      <td>1.627481e+06</td>\n",
       "      <td>0.000000e+00</td>\n",
       "      <td>0.000003</td>\n",
       "      <td>0.000000e+00</td>\n",
       "      <td>0.000000e+00</td>\n",
       "      <td>1.301986e+13</td>\n",
       "      <td>1.301986e+13</td>\n",
       "      <td>8.000009e+06</td>\n",
       "    </tr>\n",
       "    <tr>\n",
       "      <th>Line</th>\n",
       "      <th>AC</th>\n",
       "      <td>7.808265e+04</td>\n",
       "      <td>3.258621e+04</td>\n",
       "      <td>3.988039e+08</td>\n",
       "      <td>3.988039e+08</td>\n",
       "      <td>0.000000e+00</td>\n",
       "      <td>-7.836034e+07</td>\n",
       "      <td>0.583043</td>\n",
       "      <td>0.000000e+00</td>\n",
       "      <td>4.897059e+08</td>\n",
       "      <td>0.000000e+00</td>\n",
       "      <td>5.266516e+08</td>\n",
       "      <td>1.320578e+00</td>\n",
       "    </tr>\n",
       "    <tr>\n",
       "      <th>Load</th>\n",
       "      <th>-</th>\n",
       "      <td>0.000000e+00</td>\n",
       "      <td>0.000000e+00</td>\n",
       "      <td>0.000000e+00</td>\n",
       "      <td>7.885000e+07</td>\n",
       "      <td>-7.885000e+07</td>\n",
       "      <td>0.000000e+00</td>\n",
       "      <td>NaN</td>\n",
       "      <td>0.000000e+00</td>\n",
       "      <td>0.000000e+00</td>\n",
       "      <td>0.000000e+00</td>\n",
       "      <td>-1.511796e+13</td>\n",
       "      <td>NaN</td>\n",
       "    </tr>\n",
       "    <tr>\n",
       "      <th>StorageUnit</th>\n",
       "      <th>Reservoir &amp; Dam</th>\n",
       "      <td>4.340626e+03</td>\n",
       "      <td>4.340626e+03</td>\n",
       "      <td>1.227298e+06</td>\n",
       "      <td>0.000000e+00</td>\n",
       "      <td>1.227298e+06</td>\n",
       "      <td>0.000000e+00</td>\n",
       "      <td>0.032277</td>\n",
       "      <td>0.000000e+00</td>\n",
       "      <td>0.000000e+00</td>\n",
       "      <td>1.198411e+04</td>\n",
       "      <td>7.541750e+11</td>\n",
       "      <td>6.145002e+05</td>\n",
       "    </tr>\n",
       "  </tbody>\n",
       "</table>\n",
       "</div>"
      ],
      "text/plain": [
       "                                Optimal Capacity  Installed Capacity  \\\n",
       "Generator   Biomass                 1.061604e+01        1.050000e+01   \n",
       "            Coal                    6.000010e+02        6.000000e+02   \n",
       "            Combined-Cycle Gas      1.348857e+03        1.192700e+03   \n",
       "            Geothermal              8.613686e+03        1.350000e+02   \n",
       "            Offshore Wind (AC)      2.714196e+00        0.000000e+00   \n",
       "            Offshore Wind (DC)      1.502706e+00        0.000000e+00   \n",
       "            Oil                     8.964852e+01        8.880000e+01   \n",
       "            Onshore Wind            1.764118e+05        9.110989e-01   \n",
       "            Open-Cycle Gas          1.855272e+02        1.850000e+02   \n",
       "            Run of River            6.017862e+02        6.017862e+02   \n",
       "            Solar                   1.491341e+05        1.447202e+01   \n",
       "            load                    6.700000e+10        6.700000e+10   \n",
       "Line        AC                      7.808265e+04        3.258621e+04   \n",
       "Load        -                       0.000000e+00        0.000000e+00   \n",
       "StorageUnit Reservoir & Dam         4.340626e+03        4.340626e+03   \n",
       "\n",
       "                                      Supply    Withdrawal      Dispatch  \\\n",
       "Generator   Biomass             1.111141e+04  0.000000e+00  1.111141e+04   \n",
       "            Coal                1.037741e+03  0.000000e+00  1.037741e+03   \n",
       "            Combined-Cycle Gas  2.056664e+06  0.000000e+00  2.056664e+06   \n",
       "            Geothermal          6.382050e+07  0.000000e+00  6.382050e+07   \n",
       "            Offshore Wind (AC)  2.490367e+03  0.000000e+00  2.490367e+03   \n",
       "            Offshore Wind (DC)  2.029175e+03  0.000000e+00  2.029175e+03   \n",
       "            Oil                 3.671624e+03  0.000000e+00  3.671624e+03   \n",
       "            Onshore Wind        4.303698e+06  0.000000e+00  4.303698e+06   \n",
       "            Open-Cycle Gas      7.218763e+02  0.000000e+00  7.218763e+02   \n",
       "            Run of River        2.009822e+05  0.000000e+00  2.009822e+05   \n",
       "            Solar               5.592319e+06  0.000000e+00  5.592319e+06   \n",
       "            load                1.627481e+06  0.000000e+00  1.627481e+06   \n",
       "Line        AC                  3.988039e+08  3.988039e+08  0.000000e+00   \n",
       "Load        -                   0.000000e+00  7.885000e+07 -7.885000e+07   \n",
       "StorageUnit Reservoir & Dam     1.227298e+06  0.000000e+00  1.227298e+06   \n",
       "\n",
       "                                Transmission  Capacity Factor   Curtailment  \\\n",
       "Generator   Biomass             0.000000e+00         0.119482  0.000000e+00   \n",
       "            Coal                0.000000e+00         0.000197  0.000000e+00   \n",
       "            Combined-Cycle Gas  0.000000e+00         0.174058  0.000000e+00   \n",
       "            Geothermal          0.000000e+00         0.845799  0.000000e+00   \n",
       "            Offshore Wind (AC)  0.000000e+00         0.104741  2.039647e+03   \n",
       "            Offshore Wind (DC)  0.000000e+00         0.154149  1.697923e+03   \n",
       "            Oil                 0.000000e+00         0.004675  0.000000e+00   \n",
       "            Onshore Wind        0.000000e+00         0.002785  6.978539e+07   \n",
       "            Open-Cycle Gas      0.000000e+00         0.000444  0.000000e+00   \n",
       "            Run of River        0.000000e+00         0.038125  8.049368e+04   \n",
       "            Solar               0.000000e+00         0.004281  2.065145e+08   \n",
       "            load                0.000000e+00         0.000003  0.000000e+00   \n",
       "Line        AC                 -7.836034e+07         0.583043  0.000000e+00   \n",
       "Load        -                   0.000000e+00              NaN  0.000000e+00   \n",
       "StorageUnit Reservoir & Dam     0.000000e+00         0.032277  0.000000e+00   \n",
       "\n",
       "                                Capital Expenditure  Operational Expenditure  \\\n",
       "Generator   Biomass                    3.755884e+06             1.759858e+05   \n",
       "            Coal                       2.649000e+08             3.344040e+04   \n",
       "            Combined-Cycle Gas         1.702013e+08             9.627768e+07   \n",
       "            Geothermal                 0.000000e+00             5.824388e+05   \n",
       "            Offshore Wind (AC)         7.129496e+05             6.233291e+01   \n",
       "            Offshore Wind (DC)         4.858218e+05             5.116350e+01   \n",
       "            Oil                        4.386292e+06             5.784046e+05   \n",
       "            Onshore Wind               2.285954e+10             1.076154e+05   \n",
       "            Open-Cycle Gas             1.093447e+07             4.670154e+04   \n",
       "            Run of River               2.465120e+08             1.977794e+03   \n",
       "            Solar                      7.201581e+09             1.126384e+05   \n",
       "            load                       0.000000e+00             1.301986e+13   \n",
       "Line        AC                         4.897059e+08             0.000000e+00   \n",
       "Load        -                          0.000000e+00             0.000000e+00   \n",
       "StorageUnit Reservoir & Dam            0.000000e+00             1.198411e+04   \n",
       "\n",
       "                                     Revenue  Market Value  \n",
       "Generator   Biomass             3.921324e+05  3.529098e+01  \n",
       "            Coal                1.321085e+03  1.273039e+00  \n",
       "            Combined-Cycle Gas  1.563578e+08  7.602495e+01  \n",
       "            Geothermal          5.735829e+05  8.987441e-03  \n",
       "            Offshore Wind (AC)  7.072132e+04  2.839795e+01  \n",
       "            Offshore Wind (DC)  6.551179e+04  3.228493e+01  \n",
       "            Oil                 5.932200e+05  1.615688e+02  \n",
       "            Onshore Wind        1.214553e+12  2.822114e+05  \n",
       "            Open-Cycle Gas      7.382952e+03  1.022745e+01  \n",
       "            Run of River        9.537709e+10  4.745550e+05  \n",
       "            Solar               3.330745e+10  5.955929e+03  \n",
       "            load                1.301986e+13  8.000009e+06  \n",
       "Line        AC                  5.266516e+08  1.320578e+00  \n",
       "Load        -                  -1.511796e+13           NaN  \n",
       "StorageUnit Reservoir & Dam     7.541750e+11  6.145002e+05  "
      ]
     },
     "execution_count": 74,
     "metadata": {},
     "output_type": "execute_result"
    }
   ],
   "source": [
    "n.statistics()"
   ]
  },
  {
   "cell_type": "markdown",
   "metadata": {},
   "source": [
    "Dispatch"
   ]
  },
  {
   "cell_type": "code",
   "execution_count": 75,
   "metadata": {},
   "outputs": [
    {
     "name": "stderr",
     "output_type": "stream",
     "text": [
      "C:\\Users\\hie\\AppData\\Local\\Temp\\ipykernel_28804\\2440099205.py:2: FutureWarning:\n",
      "\n",
      "DataFrame.groupby with axis=1 is deprecated. Do `frame.T.groupby(...)` without axis instead.\n",
      "\n"
     ]
    },
    {
     "data": {
      "text/plain": [
       "carrier\n",
       "CCGT          2.056664e+06\n",
       "OCGT          7.218763e+02\n",
       "biomass       1.111141e+04\n",
       "coal          1.037741e+03\n",
       "geothermal    6.382050e+07\n",
       "load          1.627481e+09\n",
       "offwind-ac    2.490367e+03\n",
       "offwind-dc    2.029175e+03\n",
       "oil           3.671624e+03\n",
       "onwind        4.303698e+06\n",
       "ror           2.009822e+05\n",
       "solar         5.592319e+06\n",
       "dtype: float64"
      ]
     },
     "execution_count": 75,
     "metadata": {},
     "output_type": "execute_result"
    }
   ],
   "source": [
    "#energy generated by type of powerplant\n",
    "production_cap = n.generators_t.p.loc[\"2013-01-01\":\"2014-01-01\"].groupby(n.generators.carrier, axis=1).sum()\n",
    "production_cap.sum()"
   ]
  },
  {
   "cell_type": "code",
   "execution_count": 76,
   "metadata": {},
   "outputs": [
    {
     "name": "stdout",
     "output_type": "stream",
     "text": [
      "                   p_nom     p_nom_opt\n",
      "carrier                               \n",
      "CCGT        1.192700e+03  1.348857e+03\n",
      "OCGT        1.850000e+02  1.855272e+02\n",
      "biomass     1.050000e+01  1.061604e+01\n",
      "coal        6.000000e+02  6.000010e+02\n",
      "geothermal  1.350000e+02  8.613686e+03\n",
      "load        6.700000e+10  6.700000e+10\n",
      "offwind-ac  0.000000e+00  2.714196e+00\n",
      "offwind-dc  0.000000e+00  1.502706e+00\n",
      "oil         8.880000e+01  8.964852e+01\n",
      "onwind      9.110989e-01  1.764118e+05\n",
      "ror         6.017862e+02  6.017862e+02\n",
      "solar       1.447202e+01  1.491341e+05\n",
      "\n",
      "hydro storage : p_nom: 4340.625971594  p_nom_opt: 4340.625971594\n",
      "Empty DataFrame\n",
      "Columns: [p_nom, p_nom_opt]\n",
      "Index: []\n"
     ]
    }
   ],
   "source": [
    "#installed capacity p_nom= nominal power (MW) and p_nom_opt= optimized nominal power (MW)\n",
    "\n",
    "gen_cap = n.generators.groupby([\"carrier\"]).sum()\n",
    "sto_cap = n.links.groupby([\"carrier\"]).sum()\n",
    "print(gen_cap[['p_nom','p_nom_opt']])\n",
    "print('\\nhydro storage : p_nom: ' + str(n.storage_units.sum()['p_nom'])+ '  p_nom_opt: '+str(n.storage_units.sum()['p_nom_opt']))\n",
    "print(sto_cap[['p_nom','p_nom_opt']])"
   ]
  },
  {
   "cell_type": "code",
   "execution_count": 77,
   "metadata": {},
   "outputs": [
    {
     "name": "stderr",
     "output_type": "stream",
     "text": [
      "C:\\Users\\hie\\AppData\\Local\\Temp\\ipykernel_28804\\2546167420.py:13: FutureWarning:\n",
      "\n",
      "DataFrame.groupby with axis=1 is deprecated. Do `frame.T.groupby(...)` without axis instead.\n",
      "\n",
      "C:\\Users\\hie\\AppData\\Local\\Temp\\ipykernel_28804\\2546167420.py:19: FutureWarning:\n",
      "\n",
      "DataFrame.groupby with axis=1 is deprecated. Do `frame.T.groupby(...)` without axis instead.\n",
      "\n",
      "C:\\Users\\hie\\AppData\\Local\\Temp\\ipykernel_28804\\2546167420.py:25: FutureWarning:\n",
      "\n",
      "DataFrame.groupby with axis=1 is deprecated. Do `frame.T.groupby(...)` without axis instead.\n",
      "\n",
      "C:\\Users\\hie\\AppData\\Local\\Temp\\ipykernel_28804\\2546167420.py:26: FutureWarning:\n",
      "\n",
      "DataFrame.groupby with axis=1 is deprecated. Do `frame.T.groupby(...)` without axis instead.\n",
      "\n",
      "C:\\Users\\hie\\AppData\\Local\\Temp\\ipykernel_28804\\2546167420.py:27: FutureWarning:\n",
      "\n",
      "DataFrame.groupby with axis=1 is deprecated. Do `frame.T.groupby(...)` without axis instead.\n",
      "\n",
      "C:\\Users\\hie\\AppData\\Local\\Temp\\ipykernel_28804\\2546167420.py:28: FutureWarning:\n",
      "\n",
      "DataFrame.groupby with axis=1 is deprecated. Do `frame.T.groupby(...)` without axis instead.\n",
      "\n",
      "C:\\Users\\hie\\AppData\\Local\\Temp\\ipykernel_28804\\2546167420.py:32: FutureWarning:\n",
      "\n",
      "DataFrame.groupby with axis=1 is deprecated. Do `frame.T.groupby(...)` without axis instead.\n",
      "\n",
      "C:\\Users\\hie\\AppData\\Local\\Temp\\ipykernel_28804\\2546167420.py:39: FutureWarning:\n",
      "\n",
      "DataFrame.groupby with axis=1 is deprecated. Do `frame.T.groupby(...)` without axis instead.\n",
      "\n",
      "C:\\Users\\hie\\AppData\\Local\\Temp\\ipykernel_28804\\2546167420.py:40: FutureWarning:\n",
      "\n",
      "DataFrame.groupby with axis=1 is deprecated. Do `frame.T.groupby(...)` without axis instead.\n",
      "\n",
      "C:\\Users\\hie\\AppData\\Local\\Temp\\ipykernel_28804\\2546167420.py:44: FutureWarning:\n",
      "\n",
      "DataFrame.groupby with axis=1 is deprecated. Do `frame.T.groupby(...)` without axis instead.\n",
      "\n",
      "C:\\Users\\hie\\AppData\\Local\\Temp\\ipykernel_28804\\2546167420.py:45: FutureWarning:\n",
      "\n",
      "DataFrame.groupby with axis=1 is deprecated. Do `frame.T.groupby(...)` without axis instead.\n",
      "\n",
      "C:\\Users\\hie\\AppData\\Local\\Temp\\ipykernel_28804\\2546167420.py:49: FutureWarning:\n",
      "\n",
      "DataFrame.groupby with axis=1 is deprecated. Do `frame.T.groupby(...)` without axis instead.\n",
      "\n",
      "C:\\Users\\hie\\AppData\\Local\\Temp\\ipykernel_28804\\2546167420.py:50: FutureWarning:\n",
      "\n",
      "DataFrame.groupby with axis=1 is deprecated. Do `frame.T.groupby(...)` without axis instead.\n",
      "\n",
      "C:\\Users\\hie\\AppData\\Local\\Temp\\ipykernel_28804\\2546167420.py:54: FutureWarning:\n",
      "\n",
      "DataFrame.groupby with axis=1 is deprecated. Do `frame.T.groupby(...)` without axis instead.\n",
      "\n",
      "C:\\Users\\hie\\AppData\\Local\\Temp\\ipykernel_28804\\2546167420.py:55: FutureWarning:\n",
      "\n",
      "DataFrame.groupby with axis=1 is deprecated. Do `frame.T.groupby(...)` without axis instead.\n",
      "\n",
      "C:\\Users\\hie\\AppData\\Local\\Temp\\ipykernel_28804\\2546167420.py:59: FutureWarning:\n",
      "\n",
      "DataFrame.groupby with axis=1 is deprecated. Do `frame.T.groupby(...)` without axis instead.\n",
      "\n",
      "C:\\Users\\hie\\AppData\\Local\\Temp\\ipykernel_28804\\2546167420.py:60: FutureWarning:\n",
      "\n",
      "DataFrame.groupby with axis=1 is deprecated. Do `frame.T.groupby(...)` without axis instead.\n",
      "\n",
      "C:\\Users\\hie\\AppData\\Local\\Temp\\ipykernel_28804\\2546167420.py:65: FutureWarning:\n",
      "\n",
      "DataFrame.groupby with axis=1 is deprecated. Do `frame.T.groupby(...)` without axis instead.\n",
      "\n"
     ]
    },
    {
     "data": {
      "image/png": "[encoded data removed]",
      "text/plain": [
       "<Figure size 1200x400 with 1 Axes>"
      ]
     },
     "metadata": {},
     "output_type": "display_data"
    },
    {
     "name": "stdout",
     "output_type": "stream",
     "text": [
      "                   p_nom     p_nom_opt\n",
      "carrier                               \n",
      "CCGT        1.192700e+03  1.348857e+03\n",
      "OCGT        1.850000e+02  1.855272e+02\n",
      "biomass     1.050000e+01  1.061604e+01\n",
      "coal        6.000000e+02  6.000010e+02\n",
      "geothermal  1.350000e+02  8.613686e+03\n",
      "load        6.700000e+10  6.700000e+10\n",
      "offwind-ac  0.000000e+00  2.714196e+00\n",
      "offwind-dc  0.000000e+00  1.502706e+00\n",
      "oil         8.880000e+01  8.964852e+01\n",
      "onwind      9.110989e-01  1.764118e+05\n",
      "ror         6.017862e+02  6.017862e+02\n",
      "solar       1.447202e+01  1.491341e+05\n",
      "\n",
      "hydro storage : p_nom: 4340.625971594  p_nom_opt: 4340.625971594\n",
      "Empty DataFrame\n",
      "Columns: [p_nom, p_nom_opt]\n",
      "Index: []\n"
     ]
    }
   ],
   "source": [
    "import matplotlib.pyplot as plt\n",
    "import cartopy.crs as ccrs\n",
    "import matplotlib.ticker as ticker\n",
    "import matplotlib.patches as mpatches\n",
    "import matplotlib.dates as mdates\n",
    "\n",
    "first_date = \"2013-01-01\"\n",
    "second_date = \"2014-01-01\"\n",
    "\n",
    "#Hourly solar curtailment calculation\n",
    "maximum_solar_generation = n.generators_t.p_max_pu.loc[first_date:second_date].filter(regex='solar') * n.generators.loc[[idx for idx in n.generators.index if 'solar' in idx]]['p_nom_opt']\n",
    "maximum_solar_generation = maximum_solar_generation.sum(axis=1)\n",
    "solar_generation = n.generators_t.p.loc[first_date:second_date].groupby(n.generators.carrier, axis=1).sum()[\"solar\"]\n",
    "curtailment_solar = maximum_solar_generation - solar_generation\n",
    "\n",
    "#Hourly wind curtailment calculation\n",
    "maximum_wind_generation = n.generators_t.p_max_pu.loc[first_date:second_date].filter(regex='onwind') * n.generators.loc[[idx for idx in n.generators.index if 'onwind' in idx]]['p_nom_opt']\n",
    "maximum_wind_generation = maximum_wind_generation.sum(axis=1)\n",
    "wind_generation = n.generators_t.p.loc[first_date:second_date].groupby(n.generators.carrier, axis=1).sum()[\"onwind\"]\n",
    "curtailment_wind = maximum_wind_generation- wind_generation\n",
    "\n",
    "curtailment = curtailment_solar + curtailment_wind\n",
    "\n",
    "#Hourly generation per technology\n",
    "CCGT = n.generators_t.p.loc[first_date:second_date].groupby(n.generators.carrier, axis=1).sum()[\"CCGT\"]\n",
    "Onwind = n.generators_t.p.loc[first_date:second_date].groupby(n.generators.carrier, axis=1).sum()[\"onwind\"]\n",
    "solar = n.generators_t.p.loc[first_date:second_date].groupby(n.generators.carrier, axis=1).sum()[\"solar\"]\n",
    "oil = n.generators_t.p.loc[first_date:second_date].groupby(n.generators.carrier, axis=1).sum()[\"oil\"]\n",
    "\n",
    "\n",
    "#LoadShedding\n",
    "load = n.generators_t.p.loc[first_date:second_date].groupby(n.generators.carrier, axis=1).sum()[\"load\"]\n",
    "\n",
    "#Hourly load/demand \n",
    "demand = n.loads_t.p_set.loc[first_date:second_date].sum(axis=1)*-1\n",
    "\n",
    "size = CCGT.shape[0]\n",
    "\n",
    "if \"ror\" in n.generators_t.p.loc[first_date:second_date].groupby(n.generators.carrier, axis=1).sum().columns:\n",
    "    ror = n.generators_t.p.loc[first_date:second_date].groupby(n.generators.carrier, axis=1).sum()[\"ror\"]\n",
    "else:\n",
    "    ror = np.zeros(size)\n",
    "    \n",
    "if \"biomass\" in n.generators_t.p.loc[first_date:second_date].groupby(n.generators.carrier, axis=1).sum().columns:\n",
    "    biomass = n.generators_t.p.loc[first_date:second_date].groupby(n.generators.carrier, axis=1).sum()[\"biomass\"]\n",
    "else:\n",
    "    biomass = None\n",
    "\n",
    "if \"OCGT\" in n.generators_t.p.loc[first_date:second_date].groupby(n.generators.carrier, axis=1).sum().columns:\n",
    "    OCGT = n.generators_t.p.loc[first_date:second_date].groupby(n.generators.carrier, axis=1).sum()[\"OCGT\"]\n",
    "else:\n",
    "    OCGT = None\n",
    "    \n",
    "if \"CCGT\" in n.generators_t.p.loc[first_date:second_date].groupby(n.generators.carrier, axis=1).sum().columns:\n",
    "    CCGT = n.generators_t.p.loc[first_date:second_date].groupby(n.generators.carrier, axis=1).sum()[\"CCGT\"]\n",
    "else:\n",
    "    CCGT = np.zeros(size)\n",
    "\n",
    "if \"load\" in n.generators_t.p.loc[first_date:second_date].groupby(n.generators.carrier, axis=1).sum().columns:\n",
    "    load = n.generators_t.p.loc[first_date:second_date].groupby(n.generators.carrier, axis=1).sum()[\"load\"]/1000\n",
    "else:\n",
    "    load = np.zeros(size)\n",
    "\n",
    "    \n",
    "if \"battery\" in  n.stores_t.p.loc[first_date:second_date].groupby(n.stores.carrier, axis=1).sum().columns:\n",
    "    battery = n.stores_t.p.loc[first_date:second_date].groupby(n.stores.carrier, axis=1).sum()[\"battery\"]\n",
    "else:\n",
    "    battery = np.zeros(size)\n",
    "\n",
    "if not n.storage_units_t.p.loc[first_date:second_date].sum(axis=1).empty:\n",
    "    reservoir = n.storage_units_t.p.loc[first_date:second_date].sum(axis=1)\n",
    "else:\n",
    "    reservoir = np.zeros(size)\n",
    "    \n",
    "\n",
    "\n",
    "#Hourly storage charge or discharge \n",
    "i=0\n",
    "nbattery = []\n",
    "pbattery =[]\n",
    "for i in battery:\n",
    "    if i < 0:\n",
    "        nbattery.append(i)\n",
    "    else:\n",
    "        nbattery.append(0) \n",
    "for i in battery:\n",
    "    if i > 0:\n",
    "        pbattery.append(i)\n",
    "    else:\n",
    "        pbattery.append(0) \n",
    "\n",
    "\n",
    "\n",
    "# create a figure with a single subplot\n",
    "fig, ax = plt.subplots(figsize=(12, 4))\n",
    "\n",
    "# adjust the position of the subplot so that it only takes up 2/3 of the available space\n",
    "ax.set_position([0.1, 0.1, 0.75, 0.9])\n",
    "\n",
    "\n",
    "CCGT_color='slategrey'\n",
    "Onwind_color='#ff8200'\n",
    "\n",
    "Solar_color='gold'\n",
    "curtailment_color = 'maroon'\n",
    "ror_color='lightsteelblue'\n",
    "reservoir_color='steelblue'\n",
    "battery_color='tan'\n",
    "oil_color='dimgrey'\n",
    "biomass_color='#73A917'\n",
    "demand_color='gainsboro'\n",
    "lostload_color = \"maroon\"\n",
    "\n",
    "# Prepare data for stackplot\n",
    "stack_data = [CCGT, Onwind, solar, curtailment, ror, reservoir, pbattery, oil, load]\n",
    "stack_colors = [CCGT_color, Onwind_color, Solar_color, curtailment_color, ror_color, reservoir_color, battery_color, oil_color, demand_color]\n",
    "\n",
    "if biomass is not None:\n",
    "    stack_data.append(biomass)\n",
    "    stack_colors.append(biomass_color)\n",
    "\n",
    "if OCGT is not None:\n",
    "    stack_data.append(OCGT)\n",
    "    stack_colors.append('lightcoral')\n",
    "\n",
    "# Create the stackplot\n",
    "plt.stackplot(CCGT.index, *stack_data, colors=stack_colors, zorder=3)\n",
    "\n",
    "\n",
    "plt.stackplot(CCGT.index,demand,nbattery, colors=[demand_color,battery_color], zorder = 3)\n",
    "plt.xticks(rotation = 45)\n",
    "plt.yticks()\n",
    "scale_y = 1e3\n",
    "ticks_y = ticker.FuncFormatter(lambda x, pos: '{0:g}'.format(x/scale_y))\n",
    "ax.yaxis.set_major_formatter(ticks_y)\n",
    "myFmt = mdates.DateFormatter('%d')\n",
    "ax.xaxis.set_major_formatter(myFmt)\n",
    "ax.set_ylabel('GW')\n",
    "ax.set_xlabel('Year')\n",
    "\n",
    "\n",
    "CCGT_patch = mpatches.Patch(color=CCGT_color, label ='CCGT')\n",
    "wind_patch = mpatches.Patch(color=Onwind_color, label ='Onshore wind')\n",
    "solar_patch = mpatches.Patch(color=Solar_color, label ='Solar')\n",
    "curtailment_patch = mpatches.Patch(color=curtailment_color, label = 'Curtailment')\n",
    "ror_patch = mpatches.Patch(color=ror_color, label ='Run Of River')\n",
    "reservoir_patch = mpatches.Patch(color=reservoir_color, label ='Reservoir')\n",
    "\n",
    "battery_patch = mpatches.Patch(color=battery_color, label ='Battery')\n",
    "oil_patch = mpatches.Patch(color=oil_color, label ='Oil')\n",
    "biomass_patch = mpatches.Patch(color=biomass_color, label ='Biomass')\n",
    "load_patch = mpatches.Patch(color=demand_color, label ='Demand')\n",
    "\n",
    "lostload_patch = mpatches.Patch(color=demand_color, label ='LostLoad')\n",
    "\n",
    "handles = [\n",
    "    CCGT_patch, wind_patch, solar_patch, curtailment_patch,\n",
    "    ror_patch, reservoir_patch, oil_patch, load_patch, battery_patch\n",
    "]\n",
    "\n",
    "if biomass is not None:\n",
    "    handles.append(biomass_patch)\n",
    "\n",
    "if OCGT is not None:\n",
    "    handles.append(mpatches.Patch(color='lightcoral', label='OCGT'))    \n",
    "\n",
    "ax.legend(handles=handles, loc=\"center right\", bbox_to_anchor=(1.19, 0.5))\n",
    "\n",
    "image_format = '.png' \n",
    "\n",
    "\n",
    "plt.show()\n",
    "\n",
    "gen_cap = n.generators.groupby([\"carrier\"]).sum()\n",
    "sto_cap = n.links.groupby([\"carrier\"]).sum()\n",
    "print(gen_cap[['p_nom','p_nom_opt']])\n",
    "print('\\nhydro storage : p_nom: ' + str(n.storage_units.sum()['p_nom'])+ '  p_nom_opt: '+str(n.storage_units.sum()['p_nom_opt']))\n",
    "print(sto_cap[['p_nom','p_nom_opt']])\n"
   ]
  },
  {
   "cell_type": "code",
   "execution_count": 78,
   "metadata": {},
   "outputs": [
    {
     "name": "stdout",
     "output_type": "stream",
     "text": [
      "CCGT generation (MWh) = 2056664\n",
      "OCGT generation (MWh) = 722\n",
      "oil generation (MWh) = 3672\n",
      "biomass generation (MWh) = 11111\n",
      "geothermal generation (MWh) = 63820495\n",
      "onwind generation (MWh) = 4303698\n",
      "solar generation (MWh) = 5592319\n",
      "ror generation (MWh) = 200982\n",
      " generation (MWh) = 0 (not present in the network)\n",
      "hydro generation (MWh) = 1227298\n"
     ]
    }
   ],
   "source": [
    "# List of generator carriers\n",
    "generator_list = [\"CCGT\", \"OCGT\", \"oil\", \"biomass\", \"geothermal\", \"onwind\", \"solar\", \"ror\",\"\"]\n",
    "\n",
    "# Loop through each carrier in the generator list\n",
    "for carrier in generator_list:\n",
    "    # Filter generators by carrier and sum their generation\n",
    "    if carrier in n.generators.carrier.unique():\n",
    "        generation = n.generators_t.p.loc[:, n.generators[n.generators.carrier == carrier].index].sum().sum()\n",
    "        print(f\"{carrier} generation (MWh) = {round(generation)}\")\n",
    "    else:\n",
    "        print(f\"{carrier} generation (MWh) = 0 (not present in the network)\")\n",
    "\n",
    "# List of storage unit carriers\n",
    "generator_list2 = [\"hydro\"]\n",
    "\n",
    "# Loop through each carrier in the storage unit list\n",
    "for carrier in generator_list2:\n",
    "    # Filter storage units by carrier and sum their generation\n",
    "    if carrier in n.storage_units.carrier.unique():\n",
    "        generation = n.storage_units_t.p.loc[:, n.storage_units[n.storage_units.carrier == carrier].index].sum().sum()\n",
    "        print(f\"{carrier} generation (MWh) = {round(generation)}\")\n",
    "    else:\n",
    "        print(f\"{carrier} generation (MWh) = 0 (not present in the network)\")"
   ]
  },
  {
   "cell_type": "markdown",
   "metadata": {},
   "source": [
    "Lost load"
   ]
  },
  {
   "cell_type": "code",
   "execution_count": 79,
   "metadata": {},
   "outputs": [
    {
     "data": {
      "text/plain": [
       "78849999.99998802"
      ]
     },
     "execution_count": 79,
     "metadata": {},
     "output_type": "execute_result"
    }
   ],
   "source": [
    "demand = n.loads_t.p_set.loc[\"2013\"].sum(axis=1)\n",
    "demand.idxmax()\n",
    "demand.sum()"
   ]
  },
  {
   "cell_type": "code",
   "execution_count": 80,
   "metadata": {},
   "outputs": [
    {
     "name": "stderr",
     "output_type": "stream",
     "text": [
      "C:\\Users\\hie\\AppData\\Local\\Temp\\ipykernel_28804\\1555212878.py:1: FutureWarning:\n",
      "\n",
      "DataFrame.groupby with axis=1 is deprecated. Do `frame.T.groupby(...)` without axis instead.\n",
      "\n"
     ]
    },
    {
     "data": {
      "text/plain": [
       "1627480989"
      ]
     },
     "execution_count": 80,
     "metadata": {},
     "output_type": "execute_result"
    }
   ],
   "source": [
    "load_shedding = n.generators_t.p.loc[\"2013\"].groupby(n.generators.carrier, axis=1).sum()[\"load\"]\n",
    "round(load_shedding.sum())"
   ]
  },
  {
   "cell_type": "code",
   "execution_count": 81,
   "metadata": {},
   "outputs": [
    {
     "data": {
      "text/plain": [
       "Peak LL    615.744099\n",
       "dtype: float64"
      ]
     },
     "execution_count": 81,
     "metadata": {},
     "output_type": "execute_result"
    }
   ],
   "source": [
    "#LL or Loadshedding is in kW/kWh \n",
    "lostload = n.generators_t.p.filter(like= \"load\")\n",
    "#lostload.idxmax()\n",
    "peakLL = pd.DataFrame(index = lostload.index)\n",
    "peakLL[\"Peak LL\"] = lostload.max(axis=1)/1000\n",
    "sortedLL = peakLL.sort_values(\"Peak LL\", ascending=False)\n",
    "LL_contribution = sortedLL.iloc[0:9]\n",
    "LL_contribution.mean()"
   ]
  },
  {
   "cell_type": "code",
   "execution_count": 82,
   "metadata": {},
   "outputs": [
    {
     "ename": "KeyError",
     "evalue": "\"labels ['Link' 'Store'] not found in level\"",
     "output_type": "error",
     "traceback": [
      "\u001b[1;31m---------------------------------------------------------------------------\u001b[0m",
      "\u001b[1;31mKeyError\u001b[0m                                  Traceback (most recent call last)",
      "Cell \u001b[1;32mIn[82], line 4\u001b[0m\n\u001b[0;32m      1\u001b[0m \u001b[38;5;66;03m#selecting generation capacities from statistics\u001b[39;00m\n\u001b[0;32m      2\u001b[0m \u001b[38;5;66;03m# Load and process generation capacities\u001b[39;00m\n\u001b[0;32m      3\u001b[0m capacities \u001b[38;5;241m=\u001b[39m pd\u001b[38;5;241m.\u001b[39mDataFrame(n\u001b[38;5;241m.\u001b[39mstatistics\u001b[38;5;241m.\u001b[39moptimal_capacity())\n\u001b[1;32m----> 4\u001b[0m capacities \u001b[38;5;241m=\u001b[39m \u001b[43mcapacities\u001b[49m\u001b[38;5;241;43m.\u001b[39;49m\u001b[43mdrop\u001b[49m\u001b[43m(\u001b[49m\u001b[43mindex\u001b[49m\u001b[38;5;241;43m=\u001b[39;49m\u001b[43m[\u001b[49m\u001b[38;5;124;43m'\u001b[39;49m\u001b[38;5;124;43mLine\u001b[39;49m\u001b[38;5;124;43m'\u001b[39;49m\u001b[43m,\u001b[49m\u001b[43m \u001b[49m\u001b[38;5;124;43m'\u001b[39;49m\u001b[38;5;124;43mLoad\u001b[39;49m\u001b[38;5;124;43m'\u001b[39;49m\u001b[43m,\u001b[49m\u001b[43m \u001b[49m\u001b[38;5;124;43m'\u001b[39;49m\u001b[38;5;124;43mLink\u001b[39;49m\u001b[38;5;124;43m'\u001b[39;49m\u001b[43m,\u001b[49m\u001b[43m \u001b[49m\u001b[38;5;124;43m'\u001b[39;49m\u001b[38;5;124;43mStore\u001b[39;49m\u001b[38;5;124;43m'\u001b[39;49m\u001b[43m]\u001b[49m\u001b[43m,\u001b[49m\u001b[43m \u001b[49m\u001b[43mlevel\u001b[49m\u001b[38;5;241;43m=\u001b[39;49m\u001b[38;5;241;43m0\u001b[39;49m\u001b[43m)\u001b[49m\n\u001b[0;32m      5\u001b[0m capacities \u001b[38;5;241m=\u001b[39m capacities\u001b[38;5;241m.\u001b[39mreset_index(level\u001b[38;5;241m=\u001b[39m\u001b[38;5;241m0\u001b[39m, drop\u001b[38;5;241m=\u001b[39m\u001b[38;5;28;01mTrue\u001b[39;00m)\n\u001b[0;32m      6\u001b[0m capacities\u001b[38;5;241m.\u001b[39mrename(columns\u001b[38;5;241m=\u001b[39m{\u001b[38;5;241m0\u001b[39m: \u001b[38;5;124m\"\u001b[39m\u001b[38;5;124mMW\u001b[39m\u001b[38;5;124m\"\u001b[39m}, inplace\u001b[38;5;241m=\u001b[39m\u001b[38;5;28;01mTrue\u001b[39;00m)\n",
      "File \u001b[1;32mc:\\Users\\hie\\AppData\\Local\\anaconda3\\envs\\pypsa-earth\\lib\\site-packages\\pandas\\core\\frame.py:5581\u001b[0m, in \u001b[0;36mDataFrame.drop\u001b[1;34m(self, labels, axis, index, columns, level, inplace, errors)\u001b[0m\n\u001b[0;32m   5433\u001b[0m \u001b[38;5;28;01mdef\u001b[39;00m\u001b[38;5;250m \u001b[39m\u001b[38;5;21mdrop\u001b[39m(\n\u001b[0;32m   5434\u001b[0m     \u001b[38;5;28mself\u001b[39m,\n\u001b[0;32m   5435\u001b[0m     labels: IndexLabel \u001b[38;5;241m|\u001b[39m \u001b[38;5;28;01mNone\u001b[39;00m \u001b[38;5;241m=\u001b[39m \u001b[38;5;28;01mNone\u001b[39;00m,\n\u001b[1;32m   (...)\u001b[0m\n\u001b[0;32m   5442\u001b[0m     errors: IgnoreRaise \u001b[38;5;241m=\u001b[39m \u001b[38;5;124m\"\u001b[39m\u001b[38;5;124mraise\u001b[39m\u001b[38;5;124m\"\u001b[39m,\n\u001b[0;32m   5443\u001b[0m ) \u001b[38;5;241m-\u001b[39m\u001b[38;5;241m>\u001b[39m DataFrame \u001b[38;5;241m|\u001b[39m \u001b[38;5;28;01mNone\u001b[39;00m:\n\u001b[0;32m   5444\u001b[0m \u001b[38;5;250m    \u001b[39m\u001b[38;5;124;03m\"\"\"\u001b[39;00m\n\u001b[0;32m   5445\u001b[0m \u001b[38;5;124;03m    Drop specified labels from rows or columns.\u001b[39;00m\n\u001b[0;32m   5446\u001b[0m \n\u001b[1;32m   (...)\u001b[0m\n\u001b[0;32m   5579\u001b[0m \u001b[38;5;124;03m            weight  1.0     0.8\u001b[39;00m\n\u001b[0;32m   5580\u001b[0m \u001b[38;5;124;03m    \"\"\"\u001b[39;00m\n\u001b[1;32m-> 5581\u001b[0m     \u001b[38;5;28;01mreturn\u001b[39;00m \u001b[38;5;28;43msuper\u001b[39;49m\u001b[43m(\u001b[49m\u001b[43m)\u001b[49m\u001b[38;5;241;43m.\u001b[39;49m\u001b[43mdrop\u001b[49m\u001b[43m(\u001b[49m\n\u001b[0;32m   5582\u001b[0m \u001b[43m        \u001b[49m\u001b[43mlabels\u001b[49m\u001b[38;5;241;43m=\u001b[39;49m\u001b[43mlabels\u001b[49m\u001b[43m,\u001b[49m\n\u001b[0;32m   5583\u001b[0m \u001b[43m        \u001b[49m\u001b[43maxis\u001b[49m\u001b[38;5;241;43m=\u001b[39;49m\u001b[43maxis\u001b[49m\u001b[43m,\u001b[49m\n\u001b[0;32m   5584\u001b[0m \u001b[43m        \u001b[49m\u001b[43mindex\u001b[49m\u001b[38;5;241;43m=\u001b[39;49m\u001b[43mindex\u001b[49m\u001b[43m,\u001b[49m\n\u001b[0;32m   5585\u001b[0m \u001b[43m        \u001b[49m\u001b[43mcolumns\u001b[49m\u001b[38;5;241;43m=\u001b[39;49m\u001b[43mcolumns\u001b[49m\u001b[43m,\u001b[49m\n\u001b[0;32m   5586\u001b[0m \u001b[43m        \u001b[49m\u001b[43mlevel\u001b[49m\u001b[38;5;241;43m=\u001b[39;49m\u001b[43mlevel\u001b[49m\u001b[43m,\u001b[49m\n\u001b[0;32m   5587\u001b[0m \u001b[43m        \u001b[49m\u001b[43minplace\u001b[49m\u001b[38;5;241;43m=\u001b[39;49m\u001b[43minplace\u001b[49m\u001b[43m,\u001b[49m\n\u001b[0;32m   5588\u001b[0m \u001b[43m        \u001b[49m\u001b[43merrors\u001b[49m\u001b[38;5;241;43m=\u001b[39;49m\u001b[43merrors\u001b[49m\u001b[43m,\u001b[49m\n\u001b[0;32m   5589\u001b[0m \u001b[43m    \u001b[49m\u001b[43m)\u001b[49m\n",
      "File \u001b[1;32mc:\\Users\\hie\\AppData\\Local\\anaconda3\\envs\\pypsa-earth\\lib\\site-packages\\pandas\\core\\generic.py:4788\u001b[0m, in \u001b[0;36mNDFrame.drop\u001b[1;34m(self, labels, axis, index, columns, level, inplace, errors)\u001b[0m\n\u001b[0;32m   4786\u001b[0m \u001b[38;5;28;01mfor\u001b[39;00m axis, labels \u001b[38;5;129;01min\u001b[39;00m axes\u001b[38;5;241m.\u001b[39mitems():\n\u001b[0;32m   4787\u001b[0m     \u001b[38;5;28;01mif\u001b[39;00m labels \u001b[38;5;129;01mis\u001b[39;00m \u001b[38;5;129;01mnot\u001b[39;00m \u001b[38;5;28;01mNone\u001b[39;00m:\n\u001b[1;32m-> 4788\u001b[0m         obj \u001b[38;5;241m=\u001b[39m \u001b[43mobj\u001b[49m\u001b[38;5;241;43m.\u001b[39;49m\u001b[43m_drop_axis\u001b[49m\u001b[43m(\u001b[49m\u001b[43mlabels\u001b[49m\u001b[43m,\u001b[49m\u001b[43m \u001b[49m\u001b[43maxis\u001b[49m\u001b[43m,\u001b[49m\u001b[43m \u001b[49m\u001b[43mlevel\u001b[49m\u001b[38;5;241;43m=\u001b[39;49m\u001b[43mlevel\u001b[49m\u001b[43m,\u001b[49m\u001b[43m \u001b[49m\u001b[43merrors\u001b[49m\u001b[38;5;241;43m=\u001b[39;49m\u001b[43merrors\u001b[49m\u001b[43m)\u001b[49m\n\u001b[0;32m   4790\u001b[0m \u001b[38;5;28;01mif\u001b[39;00m inplace:\n\u001b[0;32m   4791\u001b[0m     \u001b[38;5;28mself\u001b[39m\u001b[38;5;241m.\u001b[39m_update_inplace(obj)\n",
      "File \u001b[1;32mc:\\Users\\hie\\AppData\\Local\\anaconda3\\envs\\pypsa-earth\\lib\\site-packages\\pandas\\core\\generic.py:4828\u001b[0m, in \u001b[0;36mNDFrame._drop_axis\u001b[1;34m(self, labels, axis, level, errors, only_slice)\u001b[0m\n\u001b[0;32m   4826\u001b[0m     \u001b[38;5;28;01mif\u001b[39;00m \u001b[38;5;129;01mnot\u001b[39;00m \u001b[38;5;28misinstance\u001b[39m(axis, MultiIndex):\n\u001b[0;32m   4827\u001b[0m         \u001b[38;5;28;01mraise\u001b[39;00m \u001b[38;5;167;01mAssertionError\u001b[39;00m(\u001b[38;5;124m\"\u001b[39m\u001b[38;5;124maxis must be a MultiIndex\u001b[39m\u001b[38;5;124m\"\u001b[39m)\n\u001b[1;32m-> 4828\u001b[0m     new_axis \u001b[38;5;241m=\u001b[39m \u001b[43maxis\u001b[49m\u001b[38;5;241;43m.\u001b[39;49m\u001b[43mdrop\u001b[49m\u001b[43m(\u001b[49m\u001b[43mlabels\u001b[49m\u001b[43m,\u001b[49m\u001b[43m \u001b[49m\u001b[43mlevel\u001b[49m\u001b[38;5;241;43m=\u001b[39;49m\u001b[43mlevel\u001b[49m\u001b[43m,\u001b[49m\u001b[43m \u001b[49m\u001b[43merrors\u001b[49m\u001b[38;5;241;43m=\u001b[39;49m\u001b[43merrors\u001b[49m\u001b[43m)\u001b[49m\n\u001b[0;32m   4829\u001b[0m \u001b[38;5;28;01melse\u001b[39;00m:\n\u001b[0;32m   4830\u001b[0m     new_axis \u001b[38;5;241m=\u001b[39m axis\u001b[38;5;241m.\u001b[39mdrop(labels, errors\u001b[38;5;241m=\u001b[39merrors)\n",
      "File \u001b[1;32mc:\\Users\\hie\\AppData\\Local\\anaconda3\\envs\\pypsa-earth\\lib\\site-packages\\pandas\\core\\indexes\\multi.py:2408\u001b[0m, in \u001b[0;36mMultiIndex.drop\u001b[1;34m(self, codes, level, errors)\u001b[0m\n\u001b[0;32m   2361\u001b[0m \u001b[38;5;250m\u001b[39m\u001b[38;5;124;03m\"\"\"\u001b[39;00m\n\u001b[0;32m   2362\u001b[0m \u001b[38;5;124;03mMake a new :class:`pandas.MultiIndex` with the passed list of codes deleted.\u001b[39;00m\n\u001b[0;32m   2363\u001b[0m \n\u001b[1;32m   (...)\u001b[0m\n\u001b[0;32m   2405\u001b[0m \u001b[38;5;124;03m           names=['number', 'color'])\u001b[39;00m\n\u001b[0;32m   2406\u001b[0m \u001b[38;5;124;03m\"\"\"\u001b[39;00m\n\u001b[0;32m   2407\u001b[0m \u001b[38;5;28;01mif\u001b[39;00m level \u001b[38;5;129;01mis\u001b[39;00m \u001b[38;5;129;01mnot\u001b[39;00m \u001b[38;5;28;01mNone\u001b[39;00m:\n\u001b[1;32m-> 2408\u001b[0m     \u001b[38;5;28;01mreturn\u001b[39;00m \u001b[38;5;28;43mself\u001b[39;49m\u001b[38;5;241;43m.\u001b[39;49m\u001b[43m_drop_from_level\u001b[49m\u001b[43m(\u001b[49m\u001b[43mcodes\u001b[49m\u001b[43m,\u001b[49m\u001b[43m \u001b[49m\u001b[43mlevel\u001b[49m\u001b[43m,\u001b[49m\u001b[43m \u001b[49m\u001b[43merrors\u001b[49m\u001b[43m)\u001b[49m\n\u001b[0;32m   2410\u001b[0m \u001b[38;5;28;01mif\u001b[39;00m \u001b[38;5;129;01mnot\u001b[39;00m \u001b[38;5;28misinstance\u001b[39m(codes, (np\u001b[38;5;241m.\u001b[39mndarray, Index)):\n\u001b[0;32m   2411\u001b[0m     \u001b[38;5;28;01mtry\u001b[39;00m:\n",
      "File \u001b[1;32mc:\\Users\\hie\\AppData\\Local\\anaconda3\\envs\\pypsa-earth\\lib\\site-packages\\pandas\\core\\indexes\\multi.py:2462\u001b[0m, in \u001b[0;36mMultiIndex._drop_from_level\u001b[1;34m(self, codes, level, errors)\u001b[0m\n\u001b[0;32m   2460\u001b[0m not_found \u001b[38;5;241m=\u001b[39m codes[values \u001b[38;5;241m==\u001b[39m \u001b[38;5;241m-\u001b[39m\u001b[38;5;241m2\u001b[39m]\n\u001b[0;32m   2461\u001b[0m \u001b[38;5;28;01mif\u001b[39;00m \u001b[38;5;28mlen\u001b[39m(not_found) \u001b[38;5;241m!=\u001b[39m \u001b[38;5;241m0\u001b[39m \u001b[38;5;129;01mand\u001b[39;00m errors \u001b[38;5;241m!=\u001b[39m \u001b[38;5;124m\"\u001b[39m\u001b[38;5;124mignore\u001b[39m\u001b[38;5;124m\"\u001b[39m:\n\u001b[1;32m-> 2462\u001b[0m     \u001b[38;5;28;01mraise\u001b[39;00m \u001b[38;5;167;01mKeyError\u001b[39;00m(\u001b[38;5;124mf\u001b[39m\u001b[38;5;124m\"\u001b[39m\u001b[38;5;124mlabels \u001b[39m\u001b[38;5;132;01m{\u001b[39;00mnot_found\u001b[38;5;132;01m}\u001b[39;00m\u001b[38;5;124m not found in level\u001b[39m\u001b[38;5;124m\"\u001b[39m)\n\u001b[0;32m   2463\u001b[0m mask \u001b[38;5;241m=\u001b[39m \u001b[38;5;241m~\u001b[39malgos\u001b[38;5;241m.\u001b[39misin(\u001b[38;5;28mself\u001b[39m\u001b[38;5;241m.\u001b[39mcodes[i], values)\n\u001b[0;32m   2465\u001b[0m \u001b[38;5;28;01mreturn\u001b[39;00m \u001b[38;5;28mself\u001b[39m[mask]\n",
      "\u001b[1;31mKeyError\u001b[0m: \"labels ['Link' 'Store'] not found in level\""
     ]
    }
   ],
   "source": [
    "#selecting generation capacities from statistics\n",
    "# Load and process generation capacities\n",
    "capacities = pd.DataFrame(n.statistics.optimal_capacity())\n",
    "capacities = capacities.drop(index=['Line', 'Load', 'Link', 'Store'], level=0)\n",
    "capacities = capacities.reset_index(level=0, drop=True)\n",
    "capacities.rename(columns={0: \"MW\"}, inplace=True)\n",
    "capacities.index.name = \"Technology\"\n",
    "capacities = capacities.drop(index=['load'])\n",
    "capacities['Percentage'] = capacities['MW'] / capacities['MW'].sum() * 100\n",
    "\n",
    "# Define colors for each technology\n",
    "H2_color = 'darkgoldenrod'\n",
    "battery_color = 'tan'\n",
    "demand_color = 'slategrey'\n",
    "aggregated_small_capacities = 'black'\n",
    "\n",
    "for i in range(len(capacities.index)):\n",
    "    tech = capacities.index[i]  # Access the index value, which is the technology name\n",
    "    if tech == \"Open-Cycle Gas\":\n",
    "        capacities.loc[tech, \"Color\"] = 'lightcoral'\n",
    "    elif tech == \"Combined-Cycle Gas\":\n",
    "        capacities.loc[tech, \"Color\"] = 'indianred'\n",
    "    elif tech == \"Solar\":\n",
    "        capacities.loc[tech, \"Color\"] = 'gold'\n",
    "    elif tech == \"Run of River\":\n",
    "        capacities.loc[tech, \"Color\"] = 'lightsteelblue'\n",
    "    elif tech == \"Onshore Wind\":\n",
    "        capacities.loc[tech, \"Color\"] = '#ff8200'\n",
    "    elif tech == \"Reservoir & Dam\":\n",
    "        capacities.loc[tech, \"Color\"] = 'steelblue'\n",
    "    elif tech == \"Oil\":\n",
    "        capacities.loc[tech, \"Color\"] = 'grey'\n",
    "    elif tech == \"Geothermal\":\n",
    "        capacities.loc[tech, \"Color\"] = 'purple'\n",
    "    elif tech == \"Biomass\":\n",
    "        capacities.loc[tech, \"Color\"] = '#73A917'\n",
    "\n",
    "# Handle small capacities\n",
    "small_capacities = capacities[capacities['Percentage'] < 2]\n",
    "capacities.loc['Others'] = [small_capacities['MW'].sum(), small_capacities['Percentage'].sum(), aggregated_small_capacities]\n",
    "capacities = capacities.drop(index=small_capacities.index)\n",
    "capacities = capacities.sort_index()\n",
    "\n",
    "# Plot installed capacities\n",
    "plt.figure(figsize=(5, 5))\n",
    "plt.pie(\n",
    "    capacities['MW'], \n",
    "    labels=capacities.index, \n",
    "    colors=capacities['Color'], \n",
    "    autopct='%1.1f%%', \n",
    "    startangle=100, \n",
    "    pctdistance=0.85, \n",
    "    wedgeprops={'width': 0.4}\n",
    ")\n",
    "plt.axis('equal')  # Equal aspect ratio ensures that pie is drawn as a circle.\n",
    "\n",
    "# Calculate total installed capacities\n",
    "total_capacity = capacities['MW'].sum()\n",
    "\n",
    "# Add the total energy annotation at the center of the pie chart\n",
    "plt.text(0, 0, f'Total installed capacity: \\n {int(total_capacity)} MW', fontsize=11, color='black', ha='center')\n",
    "plt.title('Installed Capacities by Technology')\n",
    "plt.show()"
   ]
  }
 ],
 "metadata": {
  "kernelspec": {
   "display_name": "pypsa-earth",
   "language": "python",
   "name": "python3"
  },
  "language_info": {
   "codemirror_mode": {
    "name": "ipython",
    "version": 3
   },
   "file_extension": ".py",
   "mimetype": "text/x-python",
   "name": "python",
   "nbconvert_exporter": "python",
   "pygments_lexer": "ipython3",
   "version": "3.10.16"
  }
 },
 "nbformat": 4,
 "nbformat_minor": 2
}
