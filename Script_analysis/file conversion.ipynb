{
 "cells": [
  {
   "cell_type": "markdown",
   "metadata": {},
   "source": [
    "csv to geojonson"
   ]
  },
  {
   "cell_type": "code",
   "execution_count": 2,
   "metadata": {},
   "outputs": [
    {
     "name": "stdout",
     "output_type": "stream",
     "text": [
      "GeoJSON file has been saved to: C:/Users/hie/pe_tan/pypsa-earth/data/custom_lines.geojson\n"
     ]
    }
   ],
   "source": [
    "import pandas as pd\n",
    "import geopandas as gpd\n",
    "from shapely.geometry import LineString\n",
    "import ast  # To safely evaluate the string representation of lists\n",
    "\n",
    "# File paths\n",
    "csv_path = \"C:/Users/hie/pe_tan/pypsa-earth/data/custom_lines.csv\"  # Input CSV file\n",
    "geojson_path = \"C:/Users/hie/pe_tan/pypsa-earth/data/custom_lines.geojson\"  # Output GeoJSON file\n",
    "\n",
    "# Load the CSV file\n",
    "df = pd.read_csv(csv_path, delimiter=\";\")\n",
    "\n",
    "# Ensure the CSV contains the 'lonlat' column\n",
    "if \"lonlat\" not in df.columns:\n",
    "    raise ValueError(\"The CSV file must contain a 'lonlat' column.\")\n",
    "\n",
    "# Parse the 'lonlat' column and create LineString geometries\n",
    "def parse_lonlat(lonlat_str):\n",
    "    try:\n",
    "        # Safely evaluate the string representation of the list\n",
    "        coordinates = ast.literal_eval(lonlat_str)\n",
    "        return LineString(coordinates)\n",
    "    except Exception as e:\n",
    "        print(f\"Error parsing 'lonlat': {lonlat_str} - {e}\")\n",
    "        return None\n",
    "\n",
    "# Apply the parsing function to create the geometry column\n",
    "df[\"geometry\"] = df[\"lonlat\"].apply(parse_lonlat)\n",
    "\n",
    "# Convert to a GeoDataFrame\n",
    "gdf = gpd.GeoDataFrame(df, geometry=\"geometry\", crs=\"EPSG:4326\")  # Assuming WGS84 (EPSG:4326)\n",
    "\n",
    "# Save to GeoJSON\n",
    "gdf.to_file(geojson_path, driver=\"GeoJSON\")\n",
    "\n",
    "print(f\"GeoJSON file has been saved to: {geojson_path}\")"
   ]
  }
 ],
 "metadata": {
  "kernelspec": {
   "display_name": "pypsa-earth",
   "language": "python",
   "name": "python3"
  },
  "language_info": {
   "codemirror_mode": {
    "name": "ipython",
    "version": 3
   },
   "file_extension": ".py",
   "mimetype": "text/x-python",
   "name": "python",
   "nbconvert_exporter": "python",
   "pygments_lexer": "ipython3",
   "version": "3.10.16"
  }
 },
 "nbformat": 4,
 "nbformat_minor": 2
}
